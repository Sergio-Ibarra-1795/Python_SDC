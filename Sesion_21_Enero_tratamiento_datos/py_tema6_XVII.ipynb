{
 "cells": [
  {
   "cell_type": "code",
   "execution_count": 1,
   "metadata": {},
   "outputs": [],
   "source": [
    "import pandas as pd\n",
    "from io import StringIO\n",
    "import sys"
   ]
  },
  {
   "cell_type": "code",
   "execution_count": 2,
   "metadata": {},
   "outputs": [
    {
     "data": {
      "text/html": [
       "<div>\n",
       "<style scoped>\n",
       "    .dataframe tbody tr th:only-of-type {\n",
       "        vertical-align: middle;\n",
       "    }\n",
       "\n",
       "    .dataframe tbody tr th {\n",
       "        vertical-align: top;\n",
       "    }\n",
       "\n",
       "    .dataframe thead th {\n",
       "        text-align: right;\n",
       "    }\n",
       "</style>\n",
       "<table border=\"1\" class=\"dataframe\">\n",
       "  <thead>\n",
       "    <tr style=\"text-align: right;\">\n",
       "      <th></th>\n",
       "      <th>A</th>\n",
       "      <th>B</th>\n",
       "      <th>C</th>\n",
       "      <th>D</th>\n",
       "    </tr>\n",
       "  </thead>\n",
       "  <tbody>\n",
       "    <tr>\n",
       "      <th>0</th>\n",
       "      <td>1.0</td>\n",
       "      <td>2.0</td>\n",
       "      <td>3.0</td>\n",
       "      <td>4.0</td>\n",
       "    </tr>\n",
       "    <tr>\n",
       "      <th>1</th>\n",
       "      <td>5.0</td>\n",
       "      <td>6.0</td>\n",
       "      <td>NaN</td>\n",
       "      <td>8.0</td>\n",
       "    </tr>\n",
       "    <tr>\n",
       "      <th>2</th>\n",
       "      <td>10.0</td>\n",
       "      <td>11.0</td>\n",
       "      <td>12.0</td>\n",
       "      <td>NaN</td>\n",
       "    </tr>\n",
       "  </tbody>\n",
       "</table>\n",
       "</div>"
      ],
      "text/plain": [
       "      A     B     C    D\n",
       "0   1.0   2.0   3.0  4.0\n",
       "1   5.0   6.0   NaN  8.0\n",
       "2  10.0  11.0  12.0  NaN"
      ]
     },
     "execution_count": 2,
     "metadata": {},
     "output_type": "execute_result"
    }
   ],
   "source": [
    "csv_data = \\\n",
    "'''A,B,C,D\n",
    "1.0,2.0,3.0,4.0\n",
    "5.0,6.0,,8.0\n",
    "10.0,11.0,12.0,'''\n",
    "\n",
    "df = pd.read_csv(StringIO(csv_data))\n",
    "df"
   ]
  },
  {
   "cell_type": "code",
   "execution_count": 4,
   "metadata": {},
   "outputs": [
    {
     "data": {
      "text/plain": [
       "A    0\n",
       "B    0\n",
       "C    1\n",
       "D    1\n",
       "dtype: int64"
      ]
     },
     "execution_count": 4,
     "metadata": {},
     "output_type": "execute_result"
    }
   ],
   "source": [
    "df.isnull().sum()"
   ]
  },
  {
   "cell_type": "code",
   "execution_count": 5,
   "metadata": {},
   "outputs": [
    {
     "data": {
      "text/plain": [
       "array([[ 1.,  2.,  3.,  4.],\n",
       "       [ 5.,  6., nan,  8.],\n",
       "       [10., 11., 12., nan]])"
      ]
     },
     "execution_count": 5,
     "metadata": {},
     "output_type": "execute_result"
    }
   ],
   "source": [
    "df.values"
   ]
  },
  {
   "cell_type": "code",
   "execution_count": 7,
   "metadata": {},
   "outputs": [
    {
     "data": {
      "text/html": [
       "<div>\n",
       "<style scoped>\n",
       "    .dataframe tbody tr th:only-of-type {\n",
       "        vertical-align: middle;\n",
       "    }\n",
       "\n",
       "    .dataframe tbody tr th {\n",
       "        vertical-align: top;\n",
       "    }\n",
       "\n",
       "    .dataframe thead th {\n",
       "        text-align: right;\n",
       "    }\n",
       "</style>\n",
       "<table border=\"1\" class=\"dataframe\">\n",
       "  <thead>\n",
       "    <tr style=\"text-align: right;\">\n",
       "      <th></th>\n",
       "      <th>A</th>\n",
       "      <th>B</th>\n",
       "      <th>C</th>\n",
       "      <th>D</th>\n",
       "    </tr>\n",
       "  </thead>\n",
       "  <tbody>\n",
       "    <tr>\n",
       "      <th>0</th>\n",
       "      <td>1.0</td>\n",
       "      <td>2.0</td>\n",
       "      <td>3.0</td>\n",
       "      <td>4.0</td>\n",
       "    </tr>\n",
       "  </tbody>\n",
       "</table>\n",
       "</div>"
      ],
      "text/plain": [
       "     A    B    C    D\n",
       "0  1.0  2.0  3.0  4.0"
      ]
     },
     "execution_count": 7,
     "metadata": {},
     "output_type": "execute_result"
    }
   ],
   "source": [
    "df.dropna(axis=0)"
   ]
  },
  {
   "cell_type": "code",
   "execution_count": 8,
   "metadata": {},
   "outputs": [
    {
     "data": {
      "text/html": [
       "<div>\n",
       "<style scoped>\n",
       "    .dataframe tbody tr th:only-of-type {\n",
       "        vertical-align: middle;\n",
       "    }\n",
       "\n",
       "    .dataframe tbody tr th {\n",
       "        vertical-align: top;\n",
       "    }\n",
       "\n",
       "    .dataframe thead th {\n",
       "        text-align: right;\n",
       "    }\n",
       "</style>\n",
       "<table border=\"1\" class=\"dataframe\">\n",
       "  <thead>\n",
       "    <tr style=\"text-align: right;\">\n",
       "      <th></th>\n",
       "      <th>A</th>\n",
       "      <th>B</th>\n",
       "      <th>C</th>\n",
       "      <th>D</th>\n",
       "    </tr>\n",
       "  </thead>\n",
       "  <tbody>\n",
       "    <tr>\n",
       "      <th>0</th>\n",
       "      <td>1.0</td>\n",
       "      <td>2.0</td>\n",
       "      <td>3.0</td>\n",
       "      <td>4.0</td>\n",
       "    </tr>\n",
       "    <tr>\n",
       "      <th>1</th>\n",
       "      <td>5.0</td>\n",
       "      <td>6.0</td>\n",
       "      <td>NaN</td>\n",
       "      <td>8.0</td>\n",
       "    </tr>\n",
       "    <tr>\n",
       "      <th>2</th>\n",
       "      <td>10.0</td>\n",
       "      <td>11.0</td>\n",
       "      <td>12.0</td>\n",
       "      <td>NaN</td>\n",
       "    </tr>\n",
       "  </tbody>\n",
       "</table>\n",
       "</div>"
      ],
      "text/plain": [
       "      A     B     C    D\n",
       "0   1.0   2.0   3.0  4.0\n",
       "1   5.0   6.0   NaN  8.0\n",
       "2  10.0  11.0  12.0  NaN"
      ]
     },
     "execution_count": 8,
     "metadata": {},
     "output_type": "execute_result"
    }
   ],
   "source": [
    "df.dropna(how=\"all\")"
   ]
  },
  {
   "cell_type": "code",
   "execution_count": 9,
   "metadata": {},
   "outputs": [
    {
     "data": {
      "text/html": [
       "<div>\n",
       "<style scoped>\n",
       "    .dataframe tbody tr th:only-of-type {\n",
       "        vertical-align: middle;\n",
       "    }\n",
       "\n",
       "    .dataframe tbody tr th {\n",
       "        vertical-align: top;\n",
       "    }\n",
       "\n",
       "    .dataframe thead th {\n",
       "        text-align: right;\n",
       "    }\n",
       "</style>\n",
       "<table border=\"1\" class=\"dataframe\">\n",
       "  <thead>\n",
       "    <tr style=\"text-align: right;\">\n",
       "      <th></th>\n",
       "      <th>A</th>\n",
       "      <th>B</th>\n",
       "      <th>C</th>\n",
       "      <th>D</th>\n",
       "    </tr>\n",
       "  </thead>\n",
       "  <tbody>\n",
       "    <tr>\n",
       "      <th>0</th>\n",
       "      <td>1.0</td>\n",
       "      <td>2.0</td>\n",
       "      <td>3.0</td>\n",
       "      <td>4.0</td>\n",
       "    </tr>\n",
       "  </tbody>\n",
       "</table>\n",
       "</div>"
      ],
      "text/plain": [
       "     A    B    C    D\n",
       "0  1.0  2.0  3.0  4.0"
      ]
     },
     "execution_count": 9,
     "metadata": {},
     "output_type": "execute_result"
    }
   ],
   "source": [
    "df.dropna(how=\"any\")"
   ]
  },
  {
   "cell_type": "code",
   "execution_count": 16,
   "metadata": {},
   "outputs": [
    {
     "data": {
      "text/html": [
       "<div>\n",
       "<style scoped>\n",
       "    .dataframe tbody tr th:only-of-type {\n",
       "        vertical-align: middle;\n",
       "    }\n",
       "\n",
       "    .dataframe tbody tr th {\n",
       "        vertical-align: top;\n",
       "    }\n",
       "\n",
       "    .dataframe thead th {\n",
       "        text-align: right;\n",
       "    }\n",
       "</style>\n",
       "<table border=\"1\" class=\"dataframe\">\n",
       "  <thead>\n",
       "    <tr style=\"text-align: right;\">\n",
       "      <th></th>\n",
       "      <th>A</th>\n",
       "      <th>B</th>\n",
       "      <th>C</th>\n",
       "      <th>D</th>\n",
       "    </tr>\n",
       "  </thead>\n",
       "  <tbody>\n",
       "    <tr>\n",
       "      <th>0</th>\n",
       "      <td>1.0</td>\n",
       "      <td>2.0</td>\n",
       "      <td>3.0</td>\n",
       "      <td>4.0</td>\n",
       "    </tr>\n",
       "  </tbody>\n",
       "</table>\n",
       "</div>"
      ],
      "text/plain": [
       "     A    B    C    D\n",
       "0  1.0  2.0  3.0  4.0"
      ]
     },
     "execution_count": 16,
     "metadata": {},
     "output_type": "execute_result"
    }
   ],
   "source": [
    "df.dropna(thresh=4)"
   ]
  },
  {
   "cell_type": "code",
   "execution_count": 14,
   "metadata": {},
   "outputs": [
    {
     "data": {
      "text/html": [
       "<div>\n",
       "<style scoped>\n",
       "    .dataframe tbody tr th:only-of-type {\n",
       "        vertical-align: middle;\n",
       "    }\n",
       "\n",
       "    .dataframe tbody tr th {\n",
       "        vertical-align: top;\n",
       "    }\n",
       "\n",
       "    .dataframe thead th {\n",
       "        text-align: right;\n",
       "    }\n",
       "</style>\n",
       "<table border=\"1\" class=\"dataframe\">\n",
       "  <thead>\n",
       "    <tr style=\"text-align: right;\">\n",
       "      <th></th>\n",
       "      <th>A</th>\n",
       "      <th>B</th>\n",
       "      <th>C</th>\n",
       "      <th>D</th>\n",
       "    </tr>\n",
       "  </thead>\n",
       "  <tbody>\n",
       "    <tr>\n",
       "      <th>0</th>\n",
       "      <td>1.0</td>\n",
       "      <td>2.0</td>\n",
       "      <td>3.0</td>\n",
       "      <td>4.0</td>\n",
       "    </tr>\n",
       "    <tr>\n",
       "      <th>1</th>\n",
       "      <td>5.0</td>\n",
       "      <td>6.0</td>\n",
       "      <td>NaN</td>\n",
       "      <td>8.0</td>\n",
       "    </tr>\n",
       "    <tr>\n",
       "      <th>2</th>\n",
       "      <td>10.0</td>\n",
       "      <td>11.0</td>\n",
       "      <td>12.0</td>\n",
       "      <td>NaN</td>\n",
       "    </tr>\n",
       "  </tbody>\n",
       "</table>\n",
       "</div>"
      ],
      "text/plain": [
       "      A     B     C    D\n",
       "0   1.0   2.0   3.0  4.0\n",
       "1   5.0   6.0   NaN  8.0\n",
       "2  10.0  11.0  12.0  NaN"
      ]
     },
     "execution_count": 14,
     "metadata": {},
     "output_type": "execute_result"
    }
   ],
   "source": [
    "df.dropna(subset=[\"A\"])"
   ]
  },
  {
   "cell_type": "code",
   "execution_count": 18,
   "metadata": {},
   "outputs": [],
   "source": [
    "from sklearn.impute import SimpleImputer\n",
    "import numpy as np"
   ]
  },
  {
   "cell_type": "code",
   "execution_count": 30,
   "metadata": {},
   "outputs": [],
   "source": [
    "imp_mean=SimpleImputer(missing_values= np.nan, strategy=\"mean\")\n",
    "\n",
    "#si imputamos por la media la estrategia sería \"mean\"\n",
    "#si imputamos por la mediana la estrategia sería \"median\"\n",
    "#si imputamos por la moda la estrategia sería \"most_frequent\""
   ]
  },
  {
   "cell_type": "code",
   "execution_count": 20,
   "metadata": {},
   "outputs": [],
   "source": [
    "imp = imp_mean.fit(df.values)"
   ]
  },
  {
   "cell_type": "code",
   "execution_count": 21,
   "metadata": {},
   "outputs": [],
   "source": [
    "data_imputada = imp_mean.transform(df.values)"
   ]
  },
  {
   "cell_type": "code",
   "execution_count": 22,
   "metadata": {},
   "outputs": [
    {
     "data": {
      "text/plain": [
       "array([[ 1. ,  2. ,  3. ,  4. ],\n",
       "       [ 5. ,  6. ,  7.5,  8. ],\n",
       "       [10. , 11. , 12. ,  6. ]])"
      ]
     },
     "execution_count": 22,
     "metadata": {},
     "output_type": "execute_result"
    }
   ],
   "source": [
    "data_imputada"
   ]
  },
  {
   "cell_type": "code",
   "execution_count": 23,
   "metadata": {},
   "outputs": [
    {
     "data": {
      "text/plain": [
       "array([[ 1.,  2.,  3.,  4.],\n",
       "       [ 5.,  6., nan,  8.],\n",
       "       [10., 11., 12., nan]])"
      ]
     },
     "execution_count": 23,
     "metadata": {},
     "output_type": "execute_result"
    }
   ],
   "source": [
    "df.values"
   ]
  },
  {
   "cell_type": "markdown",
   "metadata": {},
   "source": [
    "#### Caso: Census"
   ]
  },
  {
   "cell_type": "code",
   "execution_count": 31,
   "metadata": {},
   "outputs": [
    {
     "data": {
      "text/html": [
       "<div>\n",
       "<style scoped>\n",
       "    .dataframe tbody tr th:only-of-type {\n",
       "        vertical-align: middle;\n",
       "    }\n",
       "\n",
       "    .dataframe tbody tr th {\n",
       "        vertical-align: top;\n",
       "    }\n",
       "\n",
       "    .dataframe thead th {\n",
       "        text-align: right;\n",
       "    }\n",
       "</style>\n",
       "<table border=\"1\" class=\"dataframe\">\n",
       "  <thead>\n",
       "    <tr style=\"text-align: right;\">\n",
       "      <th></th>\n",
       "      <th>Unnamed: 0</th>\n",
       "      <th>V1</th>\n",
       "      <th>V2</th>\n",
       "      <th>V3</th>\n",
       "      <th>V4</th>\n",
       "      <th>V5</th>\n",
       "      <th>V6</th>\n",
       "      <th>V7</th>\n",
       "      <th>V8</th>\n",
       "      <th>V9</th>\n",
       "      <th>V10</th>\n",
       "      <th>V11</th>\n",
       "      <th>V12</th>\n",
       "      <th>V13</th>\n",
       "      <th>V14</th>\n",
       "    </tr>\n",
       "  </thead>\n",
       "  <tbody>\n",
       "    <tr>\n",
       "      <th>0</th>\n",
       "      <td>1</td>\n",
       "      <td>39</td>\n",
       "      <td>6.0</td>\n",
       "      <td>77516</td>\n",
       "      <td>13</td>\n",
       "      <td>3</td>\n",
       "      <td>9.0</td>\n",
       "      <td>4</td>\n",
       "      <td>1</td>\n",
       "      <td>1</td>\n",
       "      <td>2174</td>\n",
       "      <td>0</td>\n",
       "      <td>40</td>\n",
       "      <td>1.0</td>\n",
       "      <td>1</td>\n",
       "    </tr>\n",
       "    <tr>\n",
       "      <th>1</th>\n",
       "      <td>2</td>\n",
       "      <td>50</td>\n",
       "      <td>2.0</td>\n",
       "      <td>83311</td>\n",
       "      <td>13</td>\n",
       "      <td>1</td>\n",
       "      <td>5.0</td>\n",
       "      <td>3</td>\n",
       "      <td>1</td>\n",
       "      <td>1</td>\n",
       "      <td>0</td>\n",
       "      <td>0</td>\n",
       "      <td>13</td>\n",
       "      <td>1.0</td>\n",
       "      <td>1</td>\n",
       "    </tr>\n",
       "    <tr>\n",
       "      <th>2</th>\n",
       "      <td>3</td>\n",
       "      <td>38</td>\n",
       "      <td>1.0</td>\n",
       "      <td>215646</td>\n",
       "      <td>9</td>\n",
       "      <td>2</td>\n",
       "      <td>7.0</td>\n",
       "      <td>4</td>\n",
       "      <td>1</td>\n",
       "      <td>1</td>\n",
       "      <td>0</td>\n",
       "      <td>0</td>\n",
       "      <td>40</td>\n",
       "      <td>1.0</td>\n",
       "      <td>1</td>\n",
       "    </tr>\n",
       "    <tr>\n",
       "      <th>3</th>\n",
       "      <td>4</td>\n",
       "      <td>53</td>\n",
       "      <td>1.0</td>\n",
       "      <td>234721</td>\n",
       "      <td>7</td>\n",
       "      <td>1</td>\n",
       "      <td>7.0</td>\n",
       "      <td>3</td>\n",
       "      <td>5</td>\n",
       "      <td>1</td>\n",
       "      <td>0</td>\n",
       "      <td>0</td>\n",
       "      <td>40</td>\n",
       "      <td>1.0</td>\n",
       "      <td>1</td>\n",
       "    </tr>\n",
       "    <tr>\n",
       "      <th>4</th>\n",
       "      <td>5</td>\n",
       "      <td>28</td>\n",
       "      <td>1.0</td>\n",
       "      <td>338409</td>\n",
       "      <td>13</td>\n",
       "      <td>1</td>\n",
       "      <td>6.0</td>\n",
       "      <td>1</td>\n",
       "      <td>5</td>\n",
       "      <td>0</td>\n",
       "      <td>0</td>\n",
       "      <td>0</td>\n",
       "      <td>40</td>\n",
       "      <td>13.0</td>\n",
       "      <td>1</td>\n",
       "    </tr>\n",
       "  </tbody>\n",
       "</table>\n",
       "</div>"
      ],
      "text/plain": [
       "   Unnamed: 0  V1   V2      V3  V4  V5   V6  V7  V8  V9   V10  V11  V12   V13  \\\n",
       "0           1  39  6.0   77516  13   3  9.0   4   1   1  2174    0   40   1.0   \n",
       "1           2  50  2.0   83311  13   1  5.0   3   1   1     0    0   13   1.0   \n",
       "2           3  38  1.0  215646   9   2  7.0   4   1   1     0    0   40   1.0   \n",
       "3           4  53  1.0  234721   7   1  7.0   3   5   1     0    0   40   1.0   \n",
       "4           5  28  1.0  338409  13   1  6.0   1   5   0     0    0   40  13.0   \n",
       "\n",
       "   V14  \n",
       "0    1  \n",
       "1    1  \n",
       "2    1  \n",
       "3    1  \n",
       "4    1  "
      ]
     },
     "execution_count": 31,
     "metadata": {},
     "output_type": "execute_result"
    }
   ],
   "source": [
    "FileCSV=\"D:/Python/1. Nivel I/6/datos/censusn.csv\"\n",
    "censusn=pd.read_csv(FileCSV,  sep=';')\n",
    "censusn.head()"
   ]
  },
  {
   "cell_type": "code",
   "execution_count": 35,
   "metadata": {},
   "outputs": [
    {
     "data": {
      "text/plain": [
       "Unnamed: 0    0.0\n",
       "V1            0.0\n",
       "V2            5.6\n",
       "V3            0.0\n",
       "V4            0.0\n",
       "V5            0.0\n",
       "V6            5.7\n",
       "V7            0.0\n",
       "V8            0.0\n",
       "V9            0.0\n",
       "V10           0.0\n",
       "V11           0.0\n",
       "V12           0.0\n",
       "V13           1.8\n",
       "V14           0.0\n",
       "dtype: float64"
      ]
     },
     "execution_count": 35,
     "metadata": {},
     "output_type": "execute_result"
    }
   ],
   "source": [
    "round(censusn.isnull().sum()/len(censusn)*100,1)"
   ]
  },
  {
   "cell_type": "code",
   "execution_count": 36,
   "metadata": {},
   "outputs": [],
   "source": [
    "imp_moda = SimpleImputer(missing_values=np.nan,strategy=\"most_frequent\")"
   ]
  },
  {
   "cell_type": "code",
   "execution_count": 37,
   "metadata": {},
   "outputs": [],
   "source": [
    "V2_imp = imp_moda.fit_transform(censusn[[\"V2\"]])"
   ]
  },
  {
   "cell_type": "code",
   "execution_count": 40,
   "metadata": {},
   "outputs": [
    {
     "data": {
      "text/html": [
       "<div>\n",
       "<style scoped>\n",
       "    .dataframe tbody tr th:only-of-type {\n",
       "        vertical-align: middle;\n",
       "    }\n",
       "\n",
       "    .dataframe tbody tr th {\n",
       "        vertical-align: top;\n",
       "    }\n",
       "\n",
       "    .dataframe thead th {\n",
       "        text-align: right;\n",
       "    }\n",
       "</style>\n",
       "<table border=\"1\" class=\"dataframe\">\n",
       "  <thead>\n",
       "    <tr style=\"text-align: right;\">\n",
       "      <th></th>\n",
       "      <th>V2_moda</th>\n",
       "    </tr>\n",
       "  </thead>\n",
       "  <tbody>\n",
       "    <tr>\n",
       "      <th>0</th>\n",
       "      <td>6.0</td>\n",
       "    </tr>\n",
       "    <tr>\n",
       "      <th>1</th>\n",
       "      <td>2.0</td>\n",
       "    </tr>\n",
       "    <tr>\n",
       "      <th>2</th>\n",
       "      <td>1.0</td>\n",
       "    </tr>\n",
       "    <tr>\n",
       "      <th>3</th>\n",
       "      <td>1.0</td>\n",
       "    </tr>\n",
       "    <tr>\n",
       "      <th>4</th>\n",
       "      <td>1.0</td>\n",
       "    </tr>\n",
       "  </tbody>\n",
       "</table>\n",
       "</div>"
      ],
      "text/plain": [
       "   V2_moda\n",
       "0      6.0\n",
       "1      2.0\n",
       "2      1.0\n",
       "3      1.0\n",
       "4      1.0"
      ]
     },
     "execution_count": 40,
     "metadata": {},
     "output_type": "execute_result"
    }
   ],
   "source": [
    "V2_imp_moda = pd.DataFrame(V2_imp, columns=[\"V2_moda\"])\n",
    "V2_imp_moda.head()"
   ]
  },
  {
   "cell_type": "code",
   "execution_count": 41,
   "metadata": {},
   "outputs": [],
   "source": [
    "df = pd.concat([censusn,V2_imp_moda],axis=1)"
   ]
  },
  {
   "cell_type": "code",
   "execution_count": 44,
   "metadata": {},
   "outputs": [
    {
     "data": {
      "text/plain": [
       "Unnamed: 0    0.0\n",
       "V1            0.0\n",
       "V2            5.6\n",
       "V3            0.0\n",
       "V4            0.0\n",
       "V5            0.0\n",
       "V6            5.7\n",
       "V7            0.0\n",
       "V8            0.0\n",
       "V9            0.0\n",
       "V10           0.0\n",
       "V11           0.0\n",
       "V12           0.0\n",
       "V13           1.8\n",
       "V14           0.0\n",
       "V2_moda       0.0\n",
       "dtype: float64"
      ]
     },
     "execution_count": 44,
     "metadata": {},
     "output_type": "execute_result"
    }
   ],
   "source": [
    "round(df.isnull().sum()/len(df)*100,1)"
   ]
  },
  {
   "cell_type": "code",
   "execution_count": 45,
   "metadata": {},
   "outputs": [],
   "source": [
    "imp_median = SimpleImputer(missing_values = np.nan, strategy=\"median\")"
   ]
  },
  {
   "cell_type": "code",
   "execution_count": 46,
   "metadata": {},
   "outputs": [],
   "source": [
    "df[[\"V6\",\"V13\"]]=imp_median.fit_transform(censusn[[\"V6\",\"V13\"]])"
   ]
  },
  {
   "cell_type": "code",
   "execution_count": 47,
   "metadata": {},
   "outputs": [
    {
     "data": {
      "text/plain": [
       "Unnamed: 0    0.0\n",
       "V1            0.0\n",
       "V2            5.6\n",
       "V3            0.0\n",
       "V4            0.0\n",
       "V5            0.0\n",
       "V6            0.0\n",
       "V7            0.0\n",
       "V8            0.0\n",
       "V9            0.0\n",
       "V10           0.0\n",
       "V11           0.0\n",
       "V12           0.0\n",
       "V13           0.0\n",
       "V14           0.0\n",
       "V2_moda       0.0\n",
       "dtype: float64"
      ]
     },
     "execution_count": 47,
     "metadata": {},
     "output_type": "execute_result"
    }
   ],
   "source": [
    "round(df.isnull().sum()/len(df)*100,1)"
   ]
  },
  {
   "cell_type": "markdown",
   "metadata": {},
   "source": [
    "**Imputación por modelos**"
   ]
  },
  {
   "cell_type": "code",
   "execution_count": 48,
   "metadata": {},
   "outputs": [],
   "source": [
    "import pandas as pd\n",
    "import seaborn as sns\n",
    "import numpy as np"
   ]
  },
  {
   "cell_type": "code",
   "execution_count": 49,
   "metadata": {},
   "outputs": [
    {
     "name": "stdout",
     "output_type": "stream",
     "text": [
      "<class 'pandas.core.frame.DataFrame'>\n",
      "RangeIndex: 1000 entries, 0 to 999\n",
      "Data columns (total 10 columns):\n",
      " #   Column     Non-Null Count  Dtype  \n",
      "---  ------     --------------  -----  \n",
      " 0   Edad       1000 non-null   object \n",
      " 1   Genero     1000 non-null   object \n",
      " 2   Vivienda   1000 non-null   object \n",
      " 3   Ecivil     1000 non-null   object \n",
      " 4   Ubicacion  1000 non-null   object \n",
      " 5   Salario    1000 non-null   int64  \n",
      " 6   Hijos      1000 non-null   int64  \n",
      " 7   Historial  697 non-null    object \n",
      " 8   Catalogos  1000 non-null   int64  \n",
      " 9   Monto      987 non-null    float64\n",
      "dtypes: float64(1), int64(3), object(6)\n",
      "memory usage: 78.2+ KB\n"
     ]
    }
   ],
   "source": [
    "df_Marketing = pd.read_csv('D:/Python/1. Nivel I/6/datos/MarketingDirecto_2.csv',  sep=';')\n",
    "df_Marketing.info()"
   ]
  },
  {
   "cell_type": "code",
   "execution_count": 50,
   "metadata": {},
   "outputs": [
    {
     "data": {
      "text/plain": [
       "Edad          0.0\n",
       "Genero        0.0\n",
       "Vivienda      0.0\n",
       "Ecivil        0.0\n",
       "Ubicacion     0.0\n",
       "Salario       0.0\n",
       "Hijos         0.0\n",
       "Historial    30.3\n",
       "Catalogos     0.0\n",
       "Monto         1.3\n",
       "dtype: float64"
      ]
     },
     "execution_count": 50,
     "metadata": {},
     "output_type": "execute_result"
    }
   ],
   "source": [
    "round(df_Marketing.isnull().sum()/len(df_Marketing)*100,1)"
   ]
  },
  {
   "cell_type": "code",
   "execution_count": 51,
   "metadata": {},
   "outputs": [],
   "source": [
    "is_null = pd.isna(df_Marketing.loc[:,\"Monto\"])"
   ]
  },
  {
   "cell_type": "code",
   "execution_count": 53,
   "metadata": {},
   "outputs": [],
   "source": [
    "df_nulos = df_Marketing.loc[is_null]"
   ]
  },
  {
   "cell_type": "code",
   "execution_count": 54,
   "metadata": {},
   "outputs": [
    {
     "data": {
      "text/plain": [
       "13"
      ]
     },
     "execution_count": 54,
     "metadata": {},
     "output_type": "execute_result"
    }
   ],
   "source": [
    "len(df_nulos)"
   ]
  },
  {
   "cell_type": "code",
   "execution_count": 57,
   "metadata": {},
   "outputs": [],
   "source": [
    "is_null2=is_null.replace({True:False, False:True})"
   ]
  },
  {
   "cell_type": "code",
   "execution_count": 58,
   "metadata": {},
   "outputs": [
    {
     "data": {
      "text/plain": [
       "987"
      ]
     },
     "execution_count": 58,
     "metadata": {},
     "output_type": "execute_result"
    }
   ],
   "source": [
    "df_data = df_Marketing.loc[is_null2]\n",
    "len(df_data)"
   ]
  },
  {
   "cell_type": "code",
   "execution_count": null,
   "metadata": {},
   "outputs": [],
   "source": [
    "#df_nulos: filas que no tienen información de la variable \"Monto\"\n",
    "#df_data: filas que tienen información de la variable \"Monto\""
   ]
  },
  {
   "cell_type": "code",
   "execution_count": 59,
   "metadata": {},
   "outputs": [],
   "source": [
    "x_entre=df_data[[\"Salario\"]]\n",
    "y_entre=df_data[[\"Monto\"]]"
   ]
  },
  {
   "cell_type": "code",
   "execution_count": 60,
   "metadata": {},
   "outputs": [],
   "source": [
    "x_test=df_nulos[[\"Salario\"]]\n",
    "y_test=df_nulos[[\"Monto\"]]"
   ]
  },
  {
   "cell_type": "code",
   "execution_count": 61,
   "metadata": {},
   "outputs": [
    {
     "data": {
      "text/html": [
       "<div>\n",
       "<style scoped>\n",
       "    .dataframe tbody tr th:only-of-type {\n",
       "        vertical-align: middle;\n",
       "    }\n",
       "\n",
       "    .dataframe tbody tr th {\n",
       "        vertical-align: top;\n",
       "    }\n",
       "\n",
       "    .dataframe thead th {\n",
       "        text-align: right;\n",
       "    }\n",
       "</style>\n",
       "<table border=\"1\" class=\"dataframe\">\n",
       "  <thead>\n",
       "    <tr style=\"text-align: right;\">\n",
       "      <th></th>\n",
       "      <th>Monto</th>\n",
       "    </tr>\n",
       "  </thead>\n",
       "  <tbody>\n",
       "    <tr>\n",
       "      <th>4</th>\n",
       "      <td>NaN</td>\n",
       "    </tr>\n",
       "    <tr>\n",
       "      <th>15</th>\n",
       "      <td>NaN</td>\n",
       "    </tr>\n",
       "    <tr>\n",
       "      <th>132</th>\n",
       "      <td>NaN</td>\n",
       "    </tr>\n",
       "    <tr>\n",
       "      <th>137</th>\n",
       "      <td>NaN</td>\n",
       "    </tr>\n",
       "    <tr>\n",
       "      <th>142</th>\n",
       "      <td>NaN</td>\n",
       "    </tr>\n",
       "    <tr>\n",
       "      <th>148</th>\n",
       "      <td>NaN</td>\n",
       "    </tr>\n",
       "    <tr>\n",
       "      <th>796</th>\n",
       "      <td>NaN</td>\n",
       "    </tr>\n",
       "    <tr>\n",
       "      <th>797</th>\n",
       "      <td>NaN</td>\n",
       "    </tr>\n",
       "    <tr>\n",
       "      <th>798</th>\n",
       "      <td>NaN</td>\n",
       "    </tr>\n",
       "    <tr>\n",
       "      <th>803</th>\n",
       "      <td>NaN</td>\n",
       "    </tr>\n",
       "    <tr>\n",
       "      <th>804</th>\n",
       "      <td>NaN</td>\n",
       "    </tr>\n",
       "    <tr>\n",
       "      <th>827</th>\n",
       "      <td>NaN</td>\n",
       "    </tr>\n",
       "    <tr>\n",
       "      <th>828</th>\n",
       "      <td>NaN</td>\n",
       "    </tr>\n",
       "  </tbody>\n",
       "</table>\n",
       "</div>"
      ],
      "text/plain": [
       "     Monto\n",
       "4      NaN\n",
       "15     NaN\n",
       "132    NaN\n",
       "137    NaN\n",
       "142    NaN\n",
       "148    NaN\n",
       "796    NaN\n",
       "797    NaN\n",
       "798    NaN\n",
       "803    NaN\n",
       "804    NaN\n",
       "827    NaN\n",
       "828    NaN"
      ]
     },
     "execution_count": 61,
     "metadata": {},
     "output_type": "execute_result"
    }
   ],
   "source": [
    "y_test"
   ]
  },
  {
   "cell_type": "code",
   "execution_count": 62,
   "metadata": {},
   "outputs": [],
   "source": [
    "from sklearn.linear_model import LinearRegression"
   ]
  },
  {
   "cell_type": "code",
   "execution_count": 63,
   "metadata": {},
   "outputs": [],
   "source": [
    "regresion = LinearRegression()"
   ]
  },
  {
   "cell_type": "code",
   "execution_count": 64,
   "metadata": {},
   "outputs": [
    {
     "data": {
      "text/plain": [
       "LinearRegression(copy_X=True, fit_intercept=True, n_jobs=None, normalize=False)"
      ]
     },
     "execution_count": 64,
     "metadata": {},
     "output_type": "execute_result"
    }
   ],
   "source": [
    "regresion.fit(x_entre, y_entre)"
   ]
  },
  {
   "cell_type": "code",
   "execution_count": 67,
   "metadata": {},
   "outputs": [],
   "source": [
    "y_test_predict = np.round(regresion.predict(x_test),1)"
   ]
  },
  {
   "cell_type": "code",
   "execution_count": 69,
   "metadata": {},
   "outputs": [
    {
     "data": {
      "text/plain": [
       "array([[1490.7],\n",
       "       [1814.5],\n",
       "       [ 404.8],\n",
       "       [1166.9],\n",
       "       [2268.2],\n",
       "       [1166.9],\n",
       "       [2365.1],\n",
       "       [2347.5],\n",
       "       [1735.2],\n",
       "       [ 378.4],\n",
       "       [ 924.6],\n",
       "       [1008.3],\n",
       "       [ 257.2]])"
      ]
     },
     "execution_count": 69,
     "metadata": {},
     "output_type": "execute_result"
    }
   ],
   "source": [
    "y_test_predict"
   ]
  },
  {
   "cell_type": "code",
   "execution_count": 70,
   "metadata": {},
   "outputs": [],
   "source": [
    "df_monto_imp = pd.DataFrame(data=y_test_predict, columns=[\"Monto\"])"
   ]
  },
  {
   "cell_type": "code",
   "execution_count": 71,
   "metadata": {},
   "outputs": [
    {
     "data": {
      "text/html": [
       "<div>\n",
       "<style scoped>\n",
       "    .dataframe tbody tr th:only-of-type {\n",
       "        vertical-align: middle;\n",
       "    }\n",
       "\n",
       "    .dataframe tbody tr th {\n",
       "        vertical-align: top;\n",
       "    }\n",
       "\n",
       "    .dataframe thead th {\n",
       "        text-align: right;\n",
       "    }\n",
       "</style>\n",
       "<table border=\"1\" class=\"dataframe\">\n",
       "  <thead>\n",
       "    <tr style=\"text-align: right;\">\n",
       "      <th></th>\n",
       "      <th>Monto</th>\n",
       "    </tr>\n",
       "  </thead>\n",
       "  <tbody>\n",
       "    <tr>\n",
       "      <th>0</th>\n",
       "      <td>1490.7</td>\n",
       "    </tr>\n",
       "    <tr>\n",
       "      <th>1</th>\n",
       "      <td>1814.5</td>\n",
       "    </tr>\n",
       "    <tr>\n",
       "      <th>2</th>\n",
       "      <td>404.8</td>\n",
       "    </tr>\n",
       "    <tr>\n",
       "      <th>3</th>\n",
       "      <td>1166.9</td>\n",
       "    </tr>\n",
       "    <tr>\n",
       "      <th>4</th>\n",
       "      <td>2268.2</td>\n",
       "    </tr>\n",
       "    <tr>\n",
       "      <th>5</th>\n",
       "      <td>1166.9</td>\n",
       "    </tr>\n",
       "    <tr>\n",
       "      <th>6</th>\n",
       "      <td>2365.1</td>\n",
       "    </tr>\n",
       "    <tr>\n",
       "      <th>7</th>\n",
       "      <td>2347.5</td>\n",
       "    </tr>\n",
       "    <tr>\n",
       "      <th>8</th>\n",
       "      <td>1735.2</td>\n",
       "    </tr>\n",
       "    <tr>\n",
       "      <th>9</th>\n",
       "      <td>378.4</td>\n",
       "    </tr>\n",
       "    <tr>\n",
       "      <th>10</th>\n",
       "      <td>924.6</td>\n",
       "    </tr>\n",
       "    <tr>\n",
       "      <th>11</th>\n",
       "      <td>1008.3</td>\n",
       "    </tr>\n",
       "    <tr>\n",
       "      <th>12</th>\n",
       "      <td>257.2</td>\n",
       "    </tr>\n",
       "  </tbody>\n",
       "</table>\n",
       "</div>"
      ],
      "text/plain": [
       "     Monto\n",
       "0   1490.7\n",
       "1   1814.5\n",
       "2    404.8\n",
       "3   1166.9\n",
       "4   2268.2\n",
       "5   1166.9\n",
       "6   2365.1\n",
       "7   2347.5\n",
       "8   1735.2\n",
       "9    378.4\n",
       "10   924.6\n",
       "11  1008.3\n",
       "12   257.2"
      ]
     },
     "execution_count": 71,
     "metadata": {},
     "output_type": "execute_result"
    }
   ],
   "source": [
    "df_monto_imp"
   ]
  },
  {
   "cell_type": "code",
   "execution_count": 72,
   "metadata": {},
   "outputs": [],
   "source": [
    "df_nulos = df_nulos.drop([\"Monto\"], axis=1)"
   ]
  },
  {
   "cell_type": "code",
   "execution_count": 73,
   "metadata": {},
   "outputs": [
    {
     "data": {
      "text/html": [
       "<div>\n",
       "<style scoped>\n",
       "    .dataframe tbody tr th:only-of-type {\n",
       "        vertical-align: middle;\n",
       "    }\n",
       "\n",
       "    .dataframe tbody tr th {\n",
       "        vertical-align: top;\n",
       "    }\n",
       "\n",
       "    .dataframe thead th {\n",
       "        text-align: right;\n",
       "    }\n",
       "</style>\n",
       "<table border=\"1\" class=\"dataframe\">\n",
       "  <thead>\n",
       "    <tr style=\"text-align: right;\">\n",
       "      <th></th>\n",
       "      <th>Edad</th>\n",
       "      <th>Genero</th>\n",
       "      <th>Vivienda</th>\n",
       "      <th>Ecivil</th>\n",
       "      <th>Ubicacion</th>\n",
       "      <th>Salario</th>\n",
       "      <th>Hijos</th>\n",
       "      <th>Historial</th>\n",
       "      <th>Catalogos</th>\n",
       "    </tr>\n",
       "  </thead>\n",
       "  <tbody>\n",
       "    <tr>\n",
       "      <th>4</th>\n",
       "      <td>Media</td>\n",
       "      <td>Femenino</td>\n",
       "      <td>Propia</td>\n",
       "      <td>Soltero</td>\n",
       "      <td>Cerca</td>\n",
       "      <td>68400</td>\n",
       "      <td>0</td>\n",
       "      <td>Alto</td>\n",
       "      <td>12</td>\n",
       "    </tr>\n",
       "    <tr>\n",
       "      <th>15</th>\n",
       "      <td>Media</td>\n",
       "      <td>Femenino</td>\n",
       "      <td>Propia</td>\n",
       "      <td>Casado</td>\n",
       "      <td>Lejos</td>\n",
       "      <td>83100</td>\n",
       "      <td>1</td>\n",
       "      <td>NaN</td>\n",
       "      <td>12</td>\n",
       "    </tr>\n",
       "    <tr>\n",
       "      <th>132</th>\n",
       "      <td>Joven</td>\n",
       "      <td>Masculino</td>\n",
       "      <td>Alquilada</td>\n",
       "      <td>Soltero</td>\n",
       "      <td>Cerca</td>\n",
       "      <td>19100</td>\n",
       "      <td>0</td>\n",
       "      <td>NaN</td>\n",
       "      <td>6</td>\n",
       "    </tr>\n",
       "    <tr>\n",
       "      <th>137</th>\n",
       "      <td>Media</td>\n",
       "      <td>Femenino</td>\n",
       "      <td>Propia</td>\n",
       "      <td>Soltero</td>\n",
       "      <td>Cerca</td>\n",
       "      <td>53700</td>\n",
       "      <td>3</td>\n",
       "      <td>Bajo</td>\n",
       "      <td>12</td>\n",
       "    </tr>\n",
       "    <tr>\n",
       "      <th>142</th>\n",
       "      <td>Media</td>\n",
       "      <td>Masculino</td>\n",
       "      <td>Propia</td>\n",
       "      <td>Casado</td>\n",
       "      <td>Lejos</td>\n",
       "      <td>103700</td>\n",
       "      <td>1</td>\n",
       "      <td>Alto</td>\n",
       "      <td>24</td>\n",
       "    </tr>\n",
       "  </tbody>\n",
       "</table>\n",
       "</div>"
      ],
      "text/plain": [
       "      Edad     Genero   Vivienda   Ecivil Ubicacion  Salario  Hijos Historial  \\\n",
       "4    Media   Femenino     Propia  Soltero     Cerca    68400      0      Alto   \n",
       "15   Media   Femenino     Propia   Casado     Lejos    83100      1       NaN   \n",
       "132  Joven  Masculino  Alquilada  Soltero     Cerca    19100      0       NaN   \n",
       "137  Media   Femenino     Propia  Soltero     Cerca    53700      3      Bajo   \n",
       "142  Media  Masculino     Propia   Casado     Lejos   103700      1      Alto   \n",
       "\n",
       "     Catalogos  \n",
       "4           12  \n",
       "15          12  \n",
       "132          6  \n",
       "137         12  \n",
       "142         24  "
      ]
     },
     "execution_count": 73,
     "metadata": {},
     "output_type": "execute_result"
    }
   ],
   "source": [
    "df_nulos.head()"
   ]
  },
  {
   "cell_type": "code",
   "execution_count": null,
   "metadata": {},
   "outputs": [],
   "source": [
    "#reset de index"
   ]
  },
  {
   "cell_type": "code",
   "execution_count": 74,
   "metadata": {},
   "outputs": [],
   "source": [
    "df_nulos = df_nulos.reset_index(drop=True)\n",
    "df_monto_imp = df_monto_imp.reset_index(drop=True)"
   ]
  },
  {
   "cell_type": "code",
   "execution_count": 75,
   "metadata": {},
   "outputs": [],
   "source": [
    "df_nulos_imputados=pd.concat([df_nulos,df_monto_imp],axis=1)"
   ]
  },
  {
   "cell_type": "code",
   "execution_count": 77,
   "metadata": {},
   "outputs": [
    {
     "data": {
      "text/html": [
       "<div>\n",
       "<style scoped>\n",
       "    .dataframe tbody tr th:only-of-type {\n",
       "        vertical-align: middle;\n",
       "    }\n",
       "\n",
       "    .dataframe tbody tr th {\n",
       "        vertical-align: top;\n",
       "    }\n",
       "\n",
       "    .dataframe thead th {\n",
       "        text-align: right;\n",
       "    }\n",
       "</style>\n",
       "<table border=\"1\" class=\"dataframe\">\n",
       "  <thead>\n",
       "    <tr style=\"text-align: right;\">\n",
       "      <th></th>\n",
       "      <th>Edad</th>\n",
       "      <th>Genero</th>\n",
       "      <th>Vivienda</th>\n",
       "      <th>Ecivil</th>\n",
       "      <th>Ubicacion</th>\n",
       "      <th>Salario</th>\n",
       "      <th>Hijos</th>\n",
       "      <th>Historial</th>\n",
       "      <th>Catalogos</th>\n",
       "      <th>Monto</th>\n",
       "    </tr>\n",
       "  </thead>\n",
       "  <tbody>\n",
       "    <tr>\n",
       "      <th>0</th>\n",
       "      <td>Media</td>\n",
       "      <td>Femenino</td>\n",
       "      <td>Propia</td>\n",
       "      <td>Soltero</td>\n",
       "      <td>Cerca</td>\n",
       "      <td>68400</td>\n",
       "      <td>0</td>\n",
       "      <td>Alto</td>\n",
       "      <td>12</td>\n",
       "      <td>1490.7</td>\n",
       "    </tr>\n",
       "    <tr>\n",
       "      <th>1</th>\n",
       "      <td>Media</td>\n",
       "      <td>Femenino</td>\n",
       "      <td>Propia</td>\n",
       "      <td>Casado</td>\n",
       "      <td>Lejos</td>\n",
       "      <td>83100</td>\n",
       "      <td>1</td>\n",
       "      <td>NaN</td>\n",
       "      <td>12</td>\n",
       "      <td>1814.5</td>\n",
       "    </tr>\n",
       "    <tr>\n",
       "      <th>2</th>\n",
       "      <td>Joven</td>\n",
       "      <td>Masculino</td>\n",
       "      <td>Alquilada</td>\n",
       "      <td>Soltero</td>\n",
       "      <td>Cerca</td>\n",
       "      <td>19100</td>\n",
       "      <td>0</td>\n",
       "      <td>NaN</td>\n",
       "      <td>6</td>\n",
       "      <td>404.8</td>\n",
       "    </tr>\n",
       "    <tr>\n",
       "      <th>3</th>\n",
       "      <td>Media</td>\n",
       "      <td>Femenino</td>\n",
       "      <td>Propia</td>\n",
       "      <td>Soltero</td>\n",
       "      <td>Cerca</td>\n",
       "      <td>53700</td>\n",
       "      <td>3</td>\n",
       "      <td>Bajo</td>\n",
       "      <td>12</td>\n",
       "      <td>1166.9</td>\n",
       "    </tr>\n",
       "    <tr>\n",
       "      <th>4</th>\n",
       "      <td>Media</td>\n",
       "      <td>Masculino</td>\n",
       "      <td>Propia</td>\n",
       "      <td>Casado</td>\n",
       "      <td>Lejos</td>\n",
       "      <td>103700</td>\n",
       "      <td>1</td>\n",
       "      <td>Alto</td>\n",
       "      <td>24</td>\n",
       "      <td>2268.2</td>\n",
       "    </tr>\n",
       "    <tr>\n",
       "      <th>5</th>\n",
       "      <td>Media</td>\n",
       "      <td>Masculino</td>\n",
       "      <td>Propia</td>\n",
       "      <td>Casado</td>\n",
       "      <td>Cerca</td>\n",
       "      <td>53700</td>\n",
       "      <td>1</td>\n",
       "      <td>NaN</td>\n",
       "      <td>12</td>\n",
       "      <td>1166.9</td>\n",
       "    </tr>\n",
       "    <tr>\n",
       "      <th>6</th>\n",
       "      <td>Media</td>\n",
       "      <td>Femenino</td>\n",
       "      <td>Propia</td>\n",
       "      <td>Casado</td>\n",
       "      <td>Cerca</td>\n",
       "      <td>108100</td>\n",
       "      <td>1</td>\n",
       "      <td>Alto</td>\n",
       "      <td>12</td>\n",
       "      <td>2365.1</td>\n",
       "    </tr>\n",
       "    <tr>\n",
       "      <th>7</th>\n",
       "      <td>Media</td>\n",
       "      <td>Masculino</td>\n",
       "      <td>Propia</td>\n",
       "      <td>Casado</td>\n",
       "      <td>Cerca</td>\n",
       "      <td>107300</td>\n",
       "      <td>2</td>\n",
       "      <td>Medio</td>\n",
       "      <td>18</td>\n",
       "      <td>2347.5</td>\n",
       "    </tr>\n",
       "    <tr>\n",
       "      <th>8</th>\n",
       "      <td>Media</td>\n",
       "      <td>Femenino</td>\n",
       "      <td>Alquilada</td>\n",
       "      <td>Casado</td>\n",
       "      <td>Cerca</td>\n",
       "      <td>79500</td>\n",
       "      <td>0</td>\n",
       "      <td>Alto</td>\n",
       "      <td>12</td>\n",
       "      <td>1735.2</td>\n",
       "    </tr>\n",
       "    <tr>\n",
       "      <th>9</th>\n",
       "      <td>Joven</td>\n",
       "      <td>Masculino</td>\n",
       "      <td>Alquilada</td>\n",
       "      <td>Soltero</td>\n",
       "      <td>Cerca</td>\n",
       "      <td>17900</td>\n",
       "      <td>0</td>\n",
       "      <td>NaN</td>\n",
       "      <td>18</td>\n",
       "      <td>378.4</td>\n",
       "    </tr>\n",
       "  </tbody>\n",
       "</table>\n",
       "</div>"
      ],
      "text/plain": [
       "    Edad     Genero   Vivienda   Ecivil Ubicacion  Salario  Hijos Historial  \\\n",
       "0  Media   Femenino     Propia  Soltero     Cerca    68400      0      Alto   \n",
       "1  Media   Femenino     Propia   Casado     Lejos    83100      1       NaN   \n",
       "2  Joven  Masculino  Alquilada  Soltero     Cerca    19100      0       NaN   \n",
       "3  Media   Femenino     Propia  Soltero     Cerca    53700      3      Bajo   \n",
       "4  Media  Masculino     Propia   Casado     Lejos   103700      1      Alto   \n",
       "5  Media  Masculino     Propia   Casado     Cerca    53700      1       NaN   \n",
       "6  Media   Femenino     Propia   Casado     Cerca   108100      1      Alto   \n",
       "7  Media  Masculino     Propia   Casado     Cerca   107300      2     Medio   \n",
       "8  Media   Femenino  Alquilada   Casado     Cerca    79500      0      Alto   \n",
       "9  Joven  Masculino  Alquilada  Soltero     Cerca    17900      0       NaN   \n",
       "\n",
       "   Catalogos   Monto  \n",
       "0         12  1490.7  \n",
       "1         12  1814.5  \n",
       "2          6   404.8  \n",
       "3         12  1166.9  \n",
       "4         24  2268.2  \n",
       "5         12  1166.9  \n",
       "6         12  2365.1  \n",
       "7         18  2347.5  \n",
       "8         12  1735.2  \n",
       "9         18   378.4  "
      ]
     },
     "execution_count": 77,
     "metadata": {},
     "output_type": "execute_result"
    }
   ],
   "source": [
    "df_nulos_imputados.head(10)"
   ]
  },
  {
   "cell_type": "code",
   "execution_count": 78,
   "metadata": {},
   "outputs": [],
   "source": [
    "df_nulos_imputados = df_nulos_imputados.reset_index(drop=True)\n",
    "df_data = df_data.reset_index(drop=True)"
   ]
  },
  {
   "cell_type": "code",
   "execution_count": 79,
   "metadata": {},
   "outputs": [],
   "source": [
    "data_marketing_final = pd.concat([df_data,df_nulos_imputados],axis=0)"
   ]
  },
  {
   "cell_type": "code",
   "execution_count": 80,
   "metadata": {},
   "outputs": [
    {
     "data": {
      "text/plain": [
       "1000"
      ]
     },
     "execution_count": 80,
     "metadata": {},
     "output_type": "execute_result"
    }
   ],
   "source": [
    "len(data_marketing_final)"
   ]
  },
  {
   "cell_type": "code",
   "execution_count": 81,
   "metadata": {},
   "outputs": [
    {
     "name": "stdout",
     "output_type": "stream",
     "text": [
      "<class 'pandas.core.frame.DataFrame'>\n",
      "Int64Index: 1000 entries, 0 to 12\n",
      "Data columns (total 10 columns):\n",
      " #   Column     Non-Null Count  Dtype  \n",
      "---  ------     --------------  -----  \n",
      " 0   Edad       1000 non-null   object \n",
      " 1   Genero     1000 non-null   object \n",
      " 2   Vivienda   1000 non-null   object \n",
      " 3   Ecivil     1000 non-null   object \n",
      " 4   Ubicacion  1000 non-null   object \n",
      " 5   Salario    1000 non-null   int64  \n",
      " 6   Hijos      1000 non-null   int64  \n",
      " 7   Historial  697 non-null    object \n",
      " 8   Catalogos  1000 non-null   int64  \n",
      " 9   Monto      1000 non-null   float64\n",
      "dtypes: float64(1), int64(3), object(6)\n",
      "memory usage: 85.9+ KB\n"
     ]
    }
   ],
   "source": [
    "data_marketing_final.info()"
   ]
  },
  {
   "cell_type": "code",
   "execution_count": 82,
   "metadata": {},
   "outputs": [
    {
     "name": "stdout",
     "output_type": "stream",
     "text": [
      "<class 'pandas.core.frame.DataFrame'>\n",
      "RangeIndex: 1000 entries, 0 to 999\n",
      "Data columns (total 10 columns):\n",
      " #   Column     Non-Null Count  Dtype  \n",
      "---  ------     --------------  -----  \n",
      " 0   Edad       1000 non-null   object \n",
      " 1   Genero     1000 non-null   object \n",
      " 2   Vivienda   1000 non-null   object \n",
      " 3   Ecivil     1000 non-null   object \n",
      " 4   Ubicacion  1000 non-null   object \n",
      " 5   Salario    1000 non-null   int64  \n",
      " 6   Hijos      1000 non-null   int64  \n",
      " 7   Historial  697 non-null    object \n",
      " 8   Catalogos  1000 non-null   int64  \n",
      " 9   Monto      987 non-null    float64\n",
      "dtypes: float64(1), int64(3), object(6)\n",
      "memory usage: 78.2+ KB\n"
     ]
    }
   ],
   "source": [
    "df_Marketing.info()"
   ]
  },
  {
   "cell_type": "markdown",
   "metadata": {},
   "source": [
    "**Imputación usando árboles de decisión**"
   ]
  },
  {
   "cell_type": "code",
   "execution_count": 84,
   "metadata": {},
   "outputs": [],
   "source": [
    "is_null = pd.isna(data_marketing_final.loc[:,\"Historial\"])\n",
    "df_nulos = data_marketing_final.loc[is_null]"
   ]
  },
  {
   "cell_type": "code",
   "execution_count": 85,
   "metadata": {},
   "outputs": [
    {
     "data": {
      "text/plain": [
       "303"
      ]
     },
     "execution_count": 85,
     "metadata": {},
     "output_type": "execute_result"
    }
   ],
   "source": [
    "len(df_nulos)"
   ]
  },
  {
   "cell_type": "code",
   "execution_count": 87,
   "metadata": {},
   "outputs": [],
   "source": [
    "is_null2=is_null.replace({True:False, False:True})"
   ]
  },
  {
   "cell_type": "code",
   "execution_count": 88,
   "metadata": {},
   "outputs": [],
   "source": [
    "df_data = data_marketing_final.loc[is_null2]"
   ]
  },
  {
   "cell_type": "code",
   "execution_count": 89,
   "metadata": {},
   "outputs": [
    {
     "data": {
      "text/plain": [
       "697"
      ]
     },
     "execution_count": 89,
     "metadata": {},
     "output_type": "execute_result"
    }
   ],
   "source": [
    "len(df_data)"
   ]
  },
  {
   "cell_type": "code",
   "execution_count": 90,
   "metadata": {},
   "outputs": [],
   "source": [
    "x_entre=df_data[[\"Edad\",\"Genero\",\"Ecivil\"]]\n",
    "y_entre=df_data[[\"Historial\"]]"
   ]
  },
  {
   "cell_type": "code",
   "execution_count": 91,
   "metadata": {},
   "outputs": [],
   "source": [
    "x_test=df_nulos[[\"Edad\",\"Genero\",\"Ecivil\"]]\n",
    "y_test=df_nulos[[\"Historial\"]]"
   ]
  },
  {
   "cell_type": "code",
   "execution_count": 93,
   "metadata": {},
   "outputs": [],
   "source": [
    "##Codificar\n",
    "from sklearn.preprocessing import LabelEncoder\n",
    "from collections import defaultdict"
   ]
  },
  {
   "cell_type": "code",
   "execution_count": 94,
   "metadata": {},
   "outputs": [],
   "source": [
    "d=defaultdict(LabelEncoder)"
   ]
  },
  {
   "cell_type": "code",
   "execution_count": 95,
   "metadata": {},
   "outputs": [],
   "source": [
    "fit = x_entre.apply(lambda x: d[x.name].fit_transform(x))"
   ]
  },
  {
   "cell_type": "code",
   "execution_count": 96,
   "metadata": {},
   "outputs": [],
   "source": [
    "x_entre_2=x_entre.apply(lambda x: d[x.name].transform(x))"
   ]
  },
  {
   "cell_type": "code",
   "execution_count": 97,
   "metadata": {},
   "outputs": [
    {
     "data": {
      "text/html": [
       "<div>\n",
       "<style scoped>\n",
       "    .dataframe tbody tr th:only-of-type {\n",
       "        vertical-align: middle;\n",
       "    }\n",
       "\n",
       "    .dataframe tbody tr th {\n",
       "        vertical-align: top;\n",
       "    }\n",
       "\n",
       "    .dataframe thead th {\n",
       "        text-align: right;\n",
       "    }\n",
       "</style>\n",
       "<table border=\"1\" class=\"dataframe\">\n",
       "  <thead>\n",
       "    <tr style=\"text-align: right;\">\n",
       "      <th></th>\n",
       "      <th>Edad</th>\n",
       "      <th>Genero</th>\n",
       "      <th>Ecivil</th>\n",
       "    </tr>\n",
       "  </thead>\n",
       "  <tbody>\n",
       "    <tr>\n",
       "      <th>0</th>\n",
       "      <td>0</td>\n",
       "      <td>0</td>\n",
       "      <td>1</td>\n",
       "    </tr>\n",
       "    <tr>\n",
       "      <th>1</th>\n",
       "      <td>2</td>\n",
       "      <td>1</td>\n",
       "      <td>1</td>\n",
       "    </tr>\n",
       "    <tr>\n",
       "      <th>2</th>\n",
       "      <td>1</td>\n",
       "      <td>0</td>\n",
       "      <td>1</td>\n",
       "    </tr>\n",
       "    <tr>\n",
       "      <th>3</th>\n",
       "      <td>2</td>\n",
       "      <td>1</td>\n",
       "      <td>0</td>\n",
       "    </tr>\n",
       "    <tr>\n",
       "      <th>4</th>\n",
       "      <td>1</td>\n",
       "      <td>1</td>\n",
       "      <td>0</td>\n",
       "    </tr>\n",
       "  </tbody>\n",
       "</table>\n",
       "</div>"
      ],
      "text/plain": [
       "   Edad  Genero  Ecivil\n",
       "0     0       0       1\n",
       "1     2       1       1\n",
       "2     1       0       1\n",
       "3     2       1       0\n",
       "4     1       1       0"
      ]
     },
     "execution_count": 97,
     "metadata": {},
     "output_type": "execute_result"
    }
   ],
   "source": [
    "x_entre_2.head()"
   ]
  },
  {
   "cell_type": "code",
   "execution_count": 113,
   "metadata": {},
   "outputs": [],
   "source": [
    "from sklearn import tree"
   ]
  },
  {
   "cell_type": "code",
   "execution_count": 115,
   "metadata": {},
   "outputs": [],
   "source": [
    "tree_dt = tree.DecisionTreeClassifier(criterion='entropy',\n",
    "                                            min_samples_split=20,\n",
    "                                            min_samples_leaf=5,\n",
    "                                            max_depth = 4,\n",
    "                                            random_state=2021\n",
    "                                           )"
   ]
  },
  {
   "cell_type": "code",
   "execution_count": 116,
   "metadata": {},
   "outputs": [
    {
     "data": {
      "text/plain": [
       "DecisionTreeClassifier(class_weight=None, criterion='entropy', max_depth=4,\n",
       "                       max_features=None, max_leaf_nodes=None,\n",
       "                       min_impurity_decrease=0.0, min_impurity_split=None,\n",
       "                       min_samples_leaf=5, min_samples_split=20,\n",
       "                       min_weight_fraction_leaf=0.0, presort=False,\n",
       "                       random_state=2021, splitter='best')"
      ]
     },
     "execution_count": 116,
     "metadata": {},
     "output_type": "execute_result"
    }
   ],
   "source": [
    "tree_dt.fit(x_entre_2,y_entre)"
   ]
  },
  {
   "cell_type": "code",
   "execution_count": 117,
   "metadata": {},
   "outputs": [],
   "source": [
    "x_test_2 = x_test.apply(lambda x: d[x.name].transform(x))"
   ]
  },
  {
   "cell_type": "code",
   "execution_count": 119,
   "metadata": {},
   "outputs": [],
   "source": [
    "y_predichos = tree_dt.predict(x_test_2)"
   ]
  },
  {
   "cell_type": "code",
   "execution_count": 129,
   "metadata": {},
   "outputs": [
    {
     "data": {
      "text/plain": [
       "array(['Alto', 'Medio', 'Bajo', 'Medio', 'Bajo', 'Alto', 'Alto', 'Alto',\n",
       "       'Alto', 'Alto', 'Medio', 'Alto', 'Bajo', 'Bajo', 'Medio', 'Alto',\n",
       "       'Bajo', 'Bajo', 'Medio', 'Bajo', 'Medio', 'Alto', 'Bajo', 'Alto',\n",
       "       'Medio', 'Bajo', 'Bajo', 'Bajo', 'Alto', 'Alto', 'Bajo', 'Bajo',\n",
       "       'Bajo', 'Alto', 'Bajo', 'Bajo', 'Bajo', 'Alto', 'Alto', 'Bajo',\n",
       "       'Bajo', 'Bajo', 'Medio', 'Bajo', 'Medio', 'Bajo', 'Alto', 'Bajo',\n",
       "       'Bajo', 'Alto', 'Bajo', 'Alto', 'Bajo', 'Bajo', 'Alto', 'Bajo',\n",
       "       'Alto', 'Bajo', 'Medio', 'Alto', 'Bajo', 'Medio', 'Bajo', 'Alto',\n",
       "       'Bajo', 'Alto', 'Bajo', 'Bajo', 'Bajo', 'Alto', 'Bajo', 'Medio',\n",
       "       'Alto', 'Alto', 'Alto', 'Bajo', 'Bajo', 'Bajo', 'Bajo', 'Alto',\n",
       "       'Bajo', 'Medio', 'Medio', 'Bajo', 'Medio', 'Bajo', 'Alto', 'Alto',\n",
       "       'Bajo', 'Alto', 'Medio', 'Medio', 'Medio', 'Bajo', 'Medio', 'Bajo',\n",
       "       'Alto', 'Medio', 'Bajo', 'Bajo', 'Bajo', 'Alto', 'Alto', 'Bajo',\n",
       "       'Alto', 'Bajo', 'Alto', 'Medio', 'Bajo', 'Alto', 'Bajo', 'Bajo',\n",
       "       'Alto', 'Bajo', 'Alto', 'Alto', 'Alto', 'Alto', 'Bajo', 'Medio',\n",
       "       'Medio', 'Bajo', 'Bajo', 'Alto', 'Bajo', 'Bajo', 'Bajo', 'Alto',\n",
       "       'Bajo', 'Bajo', 'Medio', 'Medio', 'Bajo', 'Alto', 'Bajo', 'Bajo',\n",
       "       'Alto', 'Medio', 'Alto', 'Alto', 'Bajo', 'Medio', 'Alto', 'Bajo',\n",
       "       'Medio', 'Alto', 'Alto', 'Bajo', 'Bajo', 'Bajo', 'Bajo', 'Medio',\n",
       "       'Medio', 'Alto', 'Bajo', 'Medio', 'Bajo', 'Bajo', 'Bajo', 'Bajo',\n",
       "       'Medio', 'Bajo', 'Bajo', 'Bajo', 'Bajo', 'Alto', 'Medio', 'Medio',\n",
       "       'Alto', 'Bajo', 'Alto', 'Medio', 'Alto', 'Medio', 'Alto', 'Medio',\n",
       "       'Bajo', 'Alto', 'Bajo', 'Bajo', 'Bajo', 'Medio', 'Alto', 'Bajo',\n",
       "       'Bajo', 'Medio', 'Alto', 'Medio', 'Bajo', 'Bajo', 'Bajo', 'Bajo',\n",
       "       'Bajo', 'Bajo', 'Bajo', 'Alto', 'Alto', 'Medio', 'Medio', 'Medio',\n",
       "       'Bajo', 'Bajo', 'Bajo', 'Alto', 'Bajo', 'Alto', 'Alto', 'Bajo',\n",
       "       'Alto', 'Alto', 'Alto', 'Bajo', 'Alto', 'Bajo', 'Alto', 'Bajo',\n",
       "       'Alto', 'Medio', 'Alto', 'Bajo', 'Bajo', 'Bajo', 'Medio', 'Bajo',\n",
       "       'Medio', 'Alto', 'Bajo', 'Alto', 'Bajo', 'Bajo', 'Alto', 'Medio',\n",
       "       'Alto', 'Alto', 'Medio', 'Bajo', 'Bajo', 'Bajo', 'Bajo', 'Medio',\n",
       "       'Alto', 'Bajo', 'Bajo', 'Alto', 'Bajo', 'Bajo', 'Bajo', 'Medio',\n",
       "       'Bajo', 'Alto', 'Alto', 'Alto', 'Alto', 'Medio', 'Bajo', 'Bajo',\n",
       "       'Medio', 'Alto', 'Bajo', 'Bajo', 'Bajo', 'Bajo', 'Medio', 'Alto',\n",
       "       'Alto', 'Bajo', 'Bajo', 'Bajo', 'Bajo', 'Medio', 'Bajo', 'Bajo',\n",
       "       'Alto', 'Alto', 'Alto', 'Bajo', 'Alto', 'Alto', 'Alto', 'Alto',\n",
       "       'Bajo', 'Medio', 'Alto', 'Bajo', 'Bajo', 'Bajo', 'Bajo', 'Medio',\n",
       "       'Alto', 'Bajo', 'Bajo', 'Bajo', 'Medio', 'Alto', 'Alto', 'Bajo',\n",
       "       'Bajo', 'Medio', 'Alto', 'Bajo', 'Alto', 'Bajo', 'Bajo'],\n",
       "      dtype=object)"
      ]
     },
     "execution_count": 129,
     "metadata": {},
     "output_type": "execute_result"
    }
   ],
   "source": [
    "y_predichos"
   ]
  },
  {
   "cell_type": "code",
   "execution_count": 121,
   "metadata": {},
   "outputs": [],
   "source": [
    "df_y_predichos = pd.DataFrame(data=y_predichos,columns=[\"Historial\"])"
   ]
  },
  {
   "cell_type": "code",
   "execution_count": 122,
   "metadata": {},
   "outputs": [],
   "source": [
    "df_nulos = df_nulos.drop([\"Historial\"], axis=1)"
   ]
  },
  {
   "cell_type": "code",
   "execution_count": 123,
   "metadata": {},
   "outputs": [],
   "source": [
    "df_y_predichos=df_y_predichos.reset_index(drop=True)\n",
    "df_nulos=df_nulos.reset_index(drop=True)"
   ]
  },
  {
   "cell_type": "code",
   "execution_count": 124,
   "metadata": {},
   "outputs": [],
   "source": [
    "df_nulos_imputados = pd.concat([df_nulos,df_y_predichos], axis=1)"
   ]
  },
  {
   "cell_type": "code",
   "execution_count": 125,
   "metadata": {},
   "outputs": [
    {
     "data": {
      "text/plain": [
       "Edad         0\n",
       "Genero       0\n",
       "Vivienda     0\n",
       "Ecivil       0\n",
       "Ubicacion    0\n",
       "Salario      0\n",
       "Hijos        0\n",
       "Catalogos    0\n",
       "Monto        0\n",
       "Historial    0\n",
       "dtype: int64"
      ]
     },
     "execution_count": 125,
     "metadata": {},
     "output_type": "execute_result"
    }
   ],
   "source": [
    "df_nulos_imputados.isnull().sum()"
   ]
  },
  {
   "cell_type": "code",
   "execution_count": 126,
   "metadata": {},
   "outputs": [],
   "source": [
    "df_data = df_data.reset_index(drop=True)\n",
    "df_nulos_imputados =df_nulos_imputados.reset_index(drop=True)"
   ]
  },
  {
   "cell_type": "code",
   "execution_count": 127,
   "metadata": {},
   "outputs": [],
   "source": [
    "df_marketing_final_final = pd.concat([df_data,df_nulos_imputados],axis=0)"
   ]
  },
  {
   "cell_type": "code",
   "execution_count": 128,
   "metadata": {},
   "outputs": [
    {
     "data": {
      "text/plain": [
       "Edad         0.0\n",
       "Genero       0.0\n",
       "Vivienda     0.0\n",
       "Ecivil       0.0\n",
       "Ubicacion    0.0\n",
       "Salario      0.0\n",
       "Hijos        0.0\n",
       "Historial    0.0\n",
       "Catalogos    0.0\n",
       "Monto        0.0\n",
       "dtype: float64"
      ]
     },
     "execution_count": 128,
     "metadata": {},
     "output_type": "execute_result"
    }
   ],
   "source": [
    "df_marketing_final_final.isnull().sum()/len(df_marketing_final_final)*100"
   ]
  },
  {
   "cell_type": "code",
   "execution_count": 130,
   "metadata": {},
   "outputs": [
    {
     "name": "stdout",
     "output_type": "stream",
     "text": [
      "<class 'pandas.core.frame.DataFrame'>\n",
      "Int64Index: 1000 entries, 0 to 302\n",
      "Data columns (total 10 columns):\n",
      " #   Column     Non-Null Count  Dtype  \n",
      "---  ------     --------------  -----  \n",
      " 0   Edad       1000 non-null   object \n",
      " 1   Genero     1000 non-null   object \n",
      " 2   Vivienda   1000 non-null   object \n",
      " 3   Ecivil     1000 non-null   object \n",
      " 4   Ubicacion  1000 non-null   object \n",
      " 5   Salario    1000 non-null   int64  \n",
      " 6   Hijos      1000 non-null   int64  \n",
      " 7   Historial  1000 non-null   object \n",
      " 8   Catalogos  1000 non-null   int64  \n",
      " 9   Monto      1000 non-null   float64\n",
      "dtypes: float64(1), int64(3), object(6)\n",
      "memory usage: 85.9+ KB\n"
     ]
    }
   ],
   "source": [
    "df_marketing_final_final.info()"
   ]
  },
  {
   "cell_type": "code",
   "execution_count": null,
   "metadata": {},
   "outputs": [],
   "source": []
  },
  {
   "cell_type": "code",
   "execution_count": null,
   "metadata": {},
   "outputs": [],
   "source": []
  },
  {
   "cell_type": "code",
   "execution_count": null,
   "metadata": {},
   "outputs": [],
   "source": []
  },
  {
   "cell_type": "code",
   "execution_count": null,
   "metadata": {},
   "outputs": [],
   "source": []
  },
  {
   "cell_type": "code",
   "execution_count": null,
   "metadata": {},
   "outputs": [],
   "source": []
  },
  {
   "cell_type": "code",
   "execution_count": null,
   "metadata": {},
   "outputs": [],
   "source": []
  }
 ],
 "metadata": {
  "kernelspec": {
   "display_name": "Python 3",
   "language": "python",
   "name": "python3"
  },
  "language_info": {
   "codemirror_mode": {
    "name": "ipython",
    "version": 3
   },
   "file_extension": ".py",
   "mimetype": "text/x-python",
   "name": "python",
   "nbconvert_exporter": "python",
   "pygments_lexer": "ipython3",
   "version": "3.7.6"
  }
 },
 "nbformat": 4,
 "nbformat_minor": 4
}
