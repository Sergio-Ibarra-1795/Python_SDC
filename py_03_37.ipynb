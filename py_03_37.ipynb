{
 "cells": [
  {
   "cell_type": "markdown",
   "id": "b0cbbfbd",
   "metadata": {},
   "source": [
    "**SQL SERVER**"
   ]
  },
  {
   "cell_type": "markdown",
   "id": "4f3ac39c",
   "metadata": {},
   "source": [
    "1.Nube privada:Acceder data center\n",
    " "
   ]
  },
  {
   "cell_type": "markdown",
   "id": "5b41aa14",
   "metadata": {},
   "source": [
    "2.Nube publica : Servicio Cloud(LINODE,AZURE,AWS...OTRAS)"
   ]
  },
  {
   "cell_type": "markdown",
   "id": "535645b8",
   "metadata": {},
   "source": [
    "Almacenamiento de Base de datos"
   ]
  },
  {
   "cell_type": "markdown",
   "id": "9cce8493",
   "metadata": {},
   "source": [
    "Credenciales proporcionados por el Dba"
   ]
  },
  {
   "cell_type": "code",
   "execution_count": 4,
   "id": "70771b79",
   "metadata": {},
   "outputs": [
    {
     "name": "stdout",
     "output_type": "stream",
     "text": [
      "Defaulting to user installation because normal site-packages is not writeable\n",
      "Requirement already satisfied: psycopg2 in c:\\users\\user\\appdata\\roaming\\python\\python39\\site-packages (2.9.5)\n",
      "Note: you may need to restart the kernel to use updated packages.\n"
     ]
    }
   ],
   "source": [
    "#pip install psycopg2"
   ]
  },
  {
   "cell_type": "code",
   "execution_count": 1,
   "id": "8ab1f900",
   "metadata": {},
   "outputs": [],
   "source": [
    "import pyodbc"
   ]
  },
  {
   "cell_type": "code",
   "execution_count": 2,
   "id": "4870ed9b",
   "metadata": {},
   "outputs": [],
   "source": [
    "import pyodbc\n",
    "import psycopg2\n",
    "import pandas as pd\n",
    "import pandas.io.sql"
   ]
  },
  {
   "cell_type": "code",
   "execution_count": 3,
   "id": "6441ef39",
   "metadata": {},
   "outputs": [],
   "source": [
    "conexion = pyodbc.connect('DRIVER={SQL Server};SERVER=69.164.192.245;DATABASE=alumno;UID=sdc_read;PWD=#sDc_Read#21')\n",
    "# Parámetros\n",
    "#SERVER = '69.164.192.245'\n",
    "#DATABASE = 'alumno'\n",
    "#UID = 'sdc_read'\n",
    "#PWD = '#sDc_Read#21'\n"
   ]
  },
  {
   "cell_type": "markdown",
   "id": "12fbdfea",
   "metadata": {},
   "source": [
    "**Creamos un cursor de ejecución** (permite ejecutar Codigo)"
   ]
  },
  {
   "cell_type": "code",
   "execution_count": 4,
   "id": "4a11741b",
   "metadata": {},
   "outputs": [],
   "source": [
    "cursor = conexion.cursor()"
   ]
  },
  {
   "cell_type": "markdown",
   "id": "6ca4d255",
   "metadata": {},
   "source": [
    "**Ejecutar consultas a la tabla** SELECT * FROM STUDENT.CLIENTES"
   ]
  },
  {
   "cell_type": "code",
   "execution_count": 5,
   "id": "1d22eb68",
   "metadata": {},
   "outputs": [
    {
     "data": {
      "text/plain": [
       "<pyodbc.Cursor at 0x2896be093b0>"
      ]
     },
     "execution_count": 5,
     "metadata": {},
     "output_type": "execute_result"
    }
   ],
   "source": [
    "cursor.execute(\"SELECT * FROM STUDENT.CLIENTES\")"
   ]
  },
  {
   "cell_type": "code",
   "execution_count": 6,
   "id": "37d04dea",
   "metadata": {},
   "outputs": [],
   "source": [
    "fila=cursor.fetchall()"
   ]
  },
  {
   "cell_type": "code",
   "execution_count": 7,
   "id": "724b487a",
   "metadata": {},
   "outputs": [
    {
     "data": {
      "text/plain": [
       "[('ALFKI', 'Alfreds Futterkiste', 'Maria Anders', 'Representante de ventas', 'Obere Str. 57', 'Berlín', None, '12209', 'Alemania', '030-0074321', '030-0076545'),\n",
       " ('ANATR', 'Ana Trujillo Emparedados y helados', 'Ana Trujillo', 'Propietario', 'Avda. de la Constitución 2222', 'México D.F.', None, '05021', 'México', '(5) 555-4729', '(5) 555-3745'),\n",
       " ('ANTON', 'Antonio Moreno Taquería', 'Antonio Moreno', 'Propietario', 'Mataderos  2312', 'México D.F.', None, '05023', 'México', '(5) 555-3932', None),\n",
       " ('AROUT', 'Around the Horn', 'Thomas Hardy', 'Representante de ventas', '120 Hanover Sq.', 'Londres', None, 'WA1 1DP', 'Reino Unido', '(71) 555-7788', '(71) 555-6750'),\n",
       " ('BERGS', 'Berglunds snabbköp', 'Christina Berglund', 'Administrador de pedidos', 'Berguvsvägen  8', 'Luleå', None, 'S-958 22', 'Suecia', '0921-12 34 65', '0921-12 34 67'),\n",
       " ('BLAUS', 'Blauer See Delikatessen', 'Hanna Moos', 'Representante de ventas', 'Forsterstr. 57', 'Mannheim', None, '68306', 'Alemania', '0621-08460', '0621-08924'),\n",
       " ('BLONP', 'Blondel père et fils', 'Frédérique Citeaux', 'Gerente de marketing', '24, place Kléber', 'Estrasburgo', None, '67000', 'Francia', '88.60.15.31', '88.60.15.32'),\n",
       " ('BOLID', 'Bólido Comidas preparadas', 'Martín Sommer', 'Propietario', 'C/ Araquil, 67', 'Madrid', None, '28023', 'España', '(91) 555 22 82', '(91) 555 91 99'),\n",
       " ('BONAP', \"Bon app'\", 'Laurence Lebihan', 'Propietario', '12, rue des Bouchers', 'Marsella', None, '13008', 'Francia', '91.24.45.40', '91.24.45.41'),\n",
       " ('BOTTM', 'Bottom-Dollar Markets', 'Elizabeth Lincoln', 'Gerente de contabilidad', '23 Tsawassen Blvd.', 'Tsawassen', 'BC', 'T2F 8M4', 'Canadá', '(604) 555-4729', '(604) 555-3745'),\n",
       " ('BSBEV', \"B's Beverages\", 'Victoria Ashworth', 'Representante de ventas', 'Fauntleroy Circus', 'Londres', None, 'EC2 5NT', 'Reino Unido', '(71) 555-1212', None),\n",
       " ('CACTU', 'Cactus Comidas para llevar', 'Patricio Simpson', 'Agente de ventas', 'Cerrito 333', 'Buenos Aires', None, '1010', 'Argentina', '(1) 135-5555', '(1) 135-4892'),\n",
       " ('CENTC', 'Centro comercial Moctezuma', 'Francisco Chang', 'Gerente de marketing', 'Sierras de Granada 9993', 'México D.F.', None, '05022', 'México', '(5) 555-3392', '(5) 555-7293'),\n",
       " ('CHOPS', 'Chop-suey Chinese', 'Yang Wang', 'Propietario', 'Hauptstr. 29', 'Berna', None, '3012', 'Suiza', '0452-076545', None),\n",
       " ('COMMI', 'Comércio Mineiro', 'Pedro Afonso', 'Asistente de ventas', 'Av. dos Lusíadas, 23', 'São Paulo', 'SP', '05432-043', 'Brasil', '(11) 555-7647', None),\n",
       " ('CONSH', 'Consolidated Holdings', 'Elizabeth Brown', 'Representante de ventas', 'Berkeley Gardens12  Brewery ', 'Londres', None, 'WX1 6LT', 'Reino Unido', '(71) 555-2282', '(71) 555-9199'),\n",
       " ('DRACD', 'Drachenblut Delikatessen', 'Sven Ottlieb', 'Administrador de pedidos', 'Walserweg 21', 'Aachen', None, '52066', 'Alemania', '0241-039123', '0241-059428'),\n",
       " ('DUMON', 'Du monde entier', 'Janine Labrune', 'Propietario', '67, rue des Cinquante Otages', 'Nantes', None, '44000', 'Francia', '40.67.88.88', '40.67.89.89'),\n",
       " ('EASTC', 'Eastern Connection', 'Ann Devon', 'Agente de ventas', '35 King George', 'Londres', None, 'WX3 6FW', 'Reino Unido', '(71) 555-0297', '(71) 555-3373'),\n",
       " ('ERNSH', 'Ernst Handel', 'Roland Mendel', 'Gerente de ventas', 'Kirchgasse 6', 'Graz', None, '8010', 'Austria', '7675-3425', '7675-3426'),\n",
       " ('FAMIA', 'Familia Arquibaldo', 'Aria Cruz', 'Asistente de marketing', 'Rua Orós, 92', 'Sao Paulo', 'SP', '05442-030', 'Brasil', '(11) 555-9857', None),\n",
       " ('FISSA', 'FISSA Fabrica Inter. Salchichas S.A.', 'Diego Roel', 'Gerente de contabilidad', 'C/ Moralzarzal, 86', 'Madrid', None, '28034', 'España', '(91) 555 94 44', '(91) 555 55 93'),\n",
       " ('FOLIG', 'Folies gourmandes', 'Martine Rancé', 'Asistente de agente de ventas', '184, chaussée de Tournai', 'Lille', None, '59000', 'Francia', '20.16.10.16', '20.16.10.17'),\n",
       " ('FOLKO', 'Folk och fä HB', 'Maria Larsson', 'Propietario', 'Åkergatan 24', 'Bräcke', None, 'S-844 67', 'Suecia', '0695-34 67 21', None),\n",
       " ('FRANK', 'Frankenversand', 'Peter Franken', 'Gerente de marketing', 'Berliner Platz 43', 'München', None, '80805', 'Alemania', '089-0877310', '089-0877451'),\n",
       " ('FRANR', 'France restauration', 'Carine Schmitt', 'Gerente de marketing', '54, rue Royale', 'Nantes', None, '44000', 'Francia', '40.32.21.21', '40.32.21.20'),\n",
       " ('FRANS', 'Franchi S.p.A.', 'Paolo Accorti', 'Representante de ventas', 'Via Monte Bianco 34', 'Torino', None, '10100', 'Italia', '011-4988260', '011-4988261'),\n",
       " ('FURIB', 'Furia Bacalhau e Frutos do Mar', 'Lino Rodriguez ', 'Gerente de ventas', 'Jardim das rosas n. 32', 'Lisboa', None, '1675', 'Portugal', '(1) 354-2534', '(1) 354-2535'),\n",
       " ('GALED', 'Galería del gastrónomo', 'Eduardo Saavedra', 'Gerente de marketing', 'Rambla de Cataluña, 23', 'Barcelona', None, '08022', 'España', '(93) 203 4560', '(93) 203 4561'),\n",
       " ('GODOS', 'Godos Cocina Típica', 'José Pedro Freyre', 'Gerente de ventas', 'C/ Romero, 33', 'Sevilla', None, '41101', 'España', '(95) 555 82 82', None),\n",
       " ('GOURL', 'Gourmet Lanchonetes', 'André Fonseca', 'Asistente de ventas', 'Av. Brasil, 442', 'Campinas', 'SP', '04876-786', 'Brasil', '(11) 555-9482', None),\n",
       " ('GREAL', 'Great Lakes Food Market', 'Howard Snyder', 'Gerente de marketing', '2732 Baker Blvd.', 'Eugenia', 'OR', '97403', 'Estados Unidos', '(503) 555-7555', None),\n",
       " ('GROSR', 'GROSELLA-Restaurante', 'Manuel Pereira', 'Propietario', '5ª Ave. Los Palos Grandes', 'Caracas', 'DF', '1081', 'Venezuela', '(2) 283-2951', '(2) 283-3397'),\n",
       " ('HANAR', 'Hanari Carnes', 'Mario Pontes', 'Gerente de contabilidad', 'Rua do Paço, 67', 'Rio de Janeiro', 'RJ', '05454-876', 'Brasil', '(21) 555-0091', '(21) 555-8765'),\n",
       " ('HILAA', 'HILARIÓN-Abastos', 'Carlos Hernández', 'Representante de ventas', 'Carrera 22 con Ave. Carlos Soublette #8-35', 'San Cristóbal', 'Táchira', '5022', 'Venezuela', '(5) 555-1340', '(5) 555-1948'),\n",
       " ('HUNGC', 'Hungry Coyote Import Store', 'Yoshi Latimer', 'Representante de ventas', 'City Center Plaza516 Main St.', 'Elgin', 'OR', '97827', 'Estados Unidos', '(503) 555-6874', '(503) 555-2376'),\n",
       " ('HUNGO', 'Hungry Owl All-Night Grocers', 'Patricia McKenna', 'Asistente de ventas', '8 Johnstown Road', 'Cork', 'Co. Cork', None, 'Irlanda', '2967 542', '2967 3333'),\n",
       " ('ISLAT', 'Island Trading', 'Helen Bennett', 'Gerente de marketing', 'Garden HouseCrowther Way', 'Cowes', 'Isla de Wight', 'PO31 7PJ', 'Reino Unido', '(198) 555-8888', None),\n",
       " ('KOENE', 'Königlich Essen', 'Philip Cramer', 'Asistente de ventas', 'Maubelstr. 90', 'Brandenburgo', None, '14776', 'Alemania', '0555-09876', None),\n",
       " ('LACOR', \"La corne d'abondance\", 'Daniel Tonini', 'Representante de ventas', \"67, avenue de l'Europe\", 'Versalles', None, '78000', 'Francia', '30.59.84.10', '30.59.85.11'),\n",
       " ('LAMAI', \"La maison d'Asie\", 'Annette Roulet', 'Gerente de ventas', '1 rue Alsace-Lorraine', 'Toulouse', None, '31000', 'Francia', '61.77.61.10', '61.77.61.11'),\n",
       " ('LAUGB', 'Laughing Bacchus Wine Cellars', 'Yoshi Tannamuri', 'Asistente de marketing', '1900 Oak St.', 'Vancouver', 'BC', 'V3F 2K1', 'Canadá', '(604) 555-3392', '(604) 555-7293'),\n",
       " ('LAZYK', 'Lazy K Kountry Store', 'John Steel', 'Gerente de marketing', '12 Orchestra Terrace', 'Walla Walla', 'WA', '99362', 'Estados Unidos', '(509) 555-7969', '(509) 555-6221'),\n",
       " ('LEHMS', 'Lehmanns Marktstand', 'Renate Messner', 'Representante de ventas', 'Magazinweg 7', 'Francfurt', None, '60528', 'Alemania', '069-0245984', '069-0245874'),\n",
       " ('LETSS', \"Let's Stop N Shop\", 'Jaime Yorres', 'Propietario', '87 Polk St.Suite 5', 'San Francisco', 'CA', '94117', 'Estados Unidos', '(415) 555-5938', None),\n",
       " ('LILAS', 'LILA-Supermercado', 'Carlos González', 'Gerente de contabilidad', 'Carrera 52 con Ave. Bolívar #65-98 Llano Largo', 'Barquisimeto', 'Lara', '3508', 'Venezuela', '(9) 331-6954', '(9) 331-7256'),\n",
       " ('LINOD', 'LINO-Delicateses', 'Felipe Izquierdo', 'Propietario', 'Ave. 5 de Mayo Porlamar', 'I. de Margarita', 'Nueva Esparta', '4980', 'Venezuela', '(8) 34-56-12', '(8) 34-93-93'),\n",
       " ('LONEP', 'Lonesome Pine Restaurant', 'Fran Wilson', 'Gerente de ventas', '89 Chiaroscuro Rd.', 'Portland', 'OR', '97219', 'Estados Unidos', '(503) 555-9573', '(503) 555-9646'),\n",
       " ('MAGAA', 'Magazzini Alimentari Riuniti', 'Giovanni Rovelli', 'Gerente de marketing', 'Via Ludovico il Moro 22', 'Bérgamo', None, '24100', 'Italia', '035-640230', '035-640231'),\n",
       " ('MAISD', 'Maison Dewey', 'Catherine Dewey', 'Agente de ventas', 'Rue Joseph-Bens 532', 'Bruselas', None, 'B-1180', 'Bélgica', '(02) 201 24 67', '(02) 201 24 68'),\n",
       " ('MEREP', 'Mère Paillarde', 'Jean Fresnière', 'Asistente de marketing', '43 rue St. Laurent', 'Montreal', 'Québec', 'H1J 1C3', 'Canadá', '(514) 555-8054', '(514) 555-8055'),\n",
       " ('MORGK', 'Morgenstern Gesundkost', 'Alexander Feuer', 'Asistente de marketing', 'Heerstr. 22', 'Leipzig', None, '04179', 'Alemania', '0342-023176', None),\n",
       " ('NORTS', 'North/South', 'Simon Crowther', 'Asistente de ventas', 'South House300 Queensbridge', 'Londres', None, 'SW7 1RZ', 'Reino Unido', '(71) 555-7733', '(71) 555-2530'),\n",
       " ('OCEAN', 'Océano Atlántico Ltda.', 'Yvonne Moncada', 'Agente de ventas', 'Ing. Gustavo Moncada 8585Piso 20-A', 'Buenos Aires', None, '1010', 'Argentina', '(1) 135-5333', '(1) 135-5535'),\n",
       " ('OLDWO', 'Old World Delicatessen', 'Rene Phillips', 'Representante de ventas', '2743 Bering St.', 'Anchorage', 'AK', '99508', 'Estados Unidos', '(907) 555-7584', '(907) 555-2880'),\n",
       " ('OTTIK', 'Ottilies Käseladen', 'Henriette Pfalzheim', 'Propietario', 'Mehrheimerstr. 369', 'Köln', None, '50739', 'Alemania', '0221-0644327', '0221-0765721'),\n",
       " ('PARIS', 'Paris spécialités', 'Marie Bertrand', 'Propietario', '265, boulevard Charonne', 'París', None, '75012', 'Francia', '(1) 42.34.22.66', '(1) 42.34.22.77'),\n",
       " ('PERIC', 'Pericles Comidas clásicas', 'Guillermo Fernández', 'Representante de ventas', 'Calle Dr. Jorge Cash 321', 'México D.F.', None, '05033', 'México', '(5) 552-3745', '(5) 545-3745'),\n",
       " ('PICCO', 'Piccolo und mehr', 'Georg Pipps', 'Gerente de ventas', 'Geislweg 14', 'Salzburgo', None, '5020', 'Austria', '6562-9722', '6562-9723'),\n",
       " ('PRINI', 'Princesa Isabel Vinhos', 'Isabel de Castro', 'Representante de ventas', 'Estrada da saúde n. 58', 'Lisboa', None, '1756', 'Portugal', '(1) 356-5634', None),\n",
       " ('QUEDE', 'Que Delícia', 'Bernardo Batista', 'Gerente de contabilidad', 'Rua da Panificadora, 12', 'Rio de Janeiro', 'RJ', '02389-673', 'Brasil', '(21) 555-4252', '(21) 555-4545'),\n",
       " ('QUEEN', 'Queen Cozinha', 'Lúcia Carvalho', 'Asistente de marketing', 'Alameda dos Canàrios, 891', 'Sao Paulo', 'SP', '05487-020', 'Brasil', '(11) 555-1189', None),\n",
       " ('QUICK', 'QUICK-Stop', 'Horst Kloss', 'Gerente de contabilidad', 'Taucherstraße 10', 'Cunewalde', None, '01307', 'Alemania', '0372-035188', None),\n",
       " ('RANCH', 'Rancho grande', 'Sergio Gutiérrez', 'Representante de ventas', 'Av. del Libertador 900', 'Buenos Aires', None, '1010', 'Argentina', '(1) 123-5555', '(1) 123-5556'),\n",
       " ('RATTC', 'Rattlesnake Canyon Grocery', 'Paula Wilson', 'Representante agente ventas', '2817 Milton Dr.', 'Albuquerque', 'NM', '87110', 'Estados Unidos', '(505) 555-5939', '(505) 555-3620'),\n",
       " ('REGGC', 'Reggiani Caseifici', 'Maurizio Moroni', 'Asistente de ventas', 'Strada Provinciale 124', 'Reggio Emilia', None, '42100', 'Italia', '0522-556721', '0522-556722'),\n",
       " ('RICAR', 'Ricardo Adocicados', 'Janete Limeira', 'Asistente de agente de ventas', 'Av. Copacabana, 267', 'Rio de Janeiro', 'RJ', '02389-890', 'Brasil', '(21) 555-3412', None),\n",
       " ('RICSU', 'Richter Supermarkt', 'Michael Holz', 'Gerente de ventas', 'Grenzacherweg 237', 'Génova', None, '1203', 'Suiza', '0897-034214', None),\n",
       " ('ROMEY', 'Romero y tomillo', 'Alejandra Camino', 'Gerente de contabilidad', 'Gran Vía, 1', 'Madrid', None, '28001', 'España', '(91) 745 6200', '(91) 745 6210'),\n",
       " ('SANTG', 'Santé Gourmet', 'Jonas Bergulfsen', 'Propietario', 'Erling Skakkes gate 78', 'Stavern', None, '4110', 'Noruega', '07-98 92 35', '07-98 92 47'),\n",
       " ('SAVEA', 'Save-a-lot Markets', 'Jose Pavarotti', 'Representante de ventas', '187 Suffolk Ln.', 'Boise', 'ID', '83720', 'Estados Unidos', '(208) 555-8097', None),\n",
       " ('SEVES', 'Seven Seas Imports', 'Hari Kumar', 'Gerente de ventas', '90 Wadhurst Rd.', 'Londres', None, 'OX15 4NB', 'Reino Unido', '(71) 555-1717', '(71) 555-5646'),\n",
       " ('SIMOB', 'Simons bistro', 'Jytte Petersen', 'Propietario', 'Vinbæltet 34', 'København', None, '1734', 'Dinamarca', '31 12 34 56', '31 13 35 57'),\n",
       " ('SPECD', 'Spécialités du monde', 'Dominique Perrier', 'Gerente de marketing', '25, rue Lauriston', 'París', None, '75016', 'Francia', '(1) 47.55.60.10', '(1) 47.55.60.20'),\n",
       " ('SPLIR', 'Split Rail Beer & Ale', 'Art Braunschweiger', 'Gerente de ventas', 'P.O. Box 555', 'Lander', 'WY', '82520', 'Estados Unidos', '(307) 555-4680', '(307) 555-6525'),\n",
       " ('SUPRD', 'Suprêmes délices', 'Pascale Cartrain', 'Gerente de contabilidad', 'Boulevard Tirou, 255', 'Charleroi', None, 'B-6000', 'Bélgica', '(071) 23 67 22 20', '(071) 23 67 22 21'),\n",
       " ('THEBI', 'The Big Cheese', 'Liz Nixon', 'Gerente de marketing', '89 Jefferson WaySuite 2', 'Portland', 'OR', '97201', 'Estados Unidos', '(503) 555-3612', None),\n",
       " ('THECR', 'The Cracker Box', 'Liu Wong', 'Asistente de marketing', '55 Grizzly Peak Rd.', 'Butte', 'MT', '59801', 'Estados Unidos', '(406) 555-5834', '(406) 555-8083'),\n",
       " ('TOMSP', 'Toms Spezialitäten', 'Karin Josephs', 'Gerente de marketing', 'Luisenstr. 48', 'Münster', None, '44087', 'Alemania', '0251-031259', '0251-035695'),\n",
       " ('TORTU', 'Tortuga Restaurante', 'Miguel Angel Paolino', 'Propietario', 'Avda. Azteca 123', 'México D.F.', None, '05033', 'México', '(5) 555-2933', None),\n",
       " ('TRADH', 'Tradição Hipermercados', 'Anabela Domingues', 'Representante de ventas', 'Av. Inês de Castro, 414', 'Sao Paulo', 'SP', '05634-030', 'Brasil', '(11) 555-2167', '(11) 555-2168'),\n",
       " ('TRAIH', \"Trail's Head Gourmet Provisioners\", 'Helvetius Nagy', 'Asistente de ventas', '722 DaVinci Blvd.', 'Kirkland', 'WA', '98034', 'Estados Unidos', '(206) 555-8257', '(206) 555-2174'),\n",
       " ('VAFFE', 'Vaffeljernet', 'Palle Ibsen', 'Gerente de ventas', 'Smagsløget 45', 'Århus', None, '8200', 'Dinamarca', '86 21 32 43', '86 22 33 44'),\n",
       " ('VICTE', 'Victuailles en stock', 'Mary Saveley', 'Agente de ventas', '2, rue du Commerce', 'Lion', None, '69004', 'Francia', '78.32.54.86', '78.32.54.87'),\n",
       " ('VINET', 'Vins et alcools Chevalier', 'Paul Henriot', 'Gerente de contabilidad', \"59 rue de l'Abbaye\", 'Reims', None, '51100', 'Francia', '26.47.15.10', '26.47.15.11'),\n",
       " ('WANDK', 'Die Wandernde Kuh', 'Rita Müller', 'Representante de ventas', 'Adenauerallee 900', 'Stuttgart', None, '70563', 'Alemania', '0711-020361', '0711-035428'),\n",
       " ('WARTH', 'Wartian Herkku', 'Pirkko Koskitalo', 'Gerente de contabilidad', 'Torikatu 38', 'Oulu', None, '90110', 'Finlandia', '981-443655', '981-443655'),\n",
       " ('WELLI', 'Wellington Importadora', 'Paula Parente', 'Gerente de ventas', 'Rua do Mercado, 12', 'Resende', 'SP', '08737-363', 'Brasil', '(14) 555-8122', None),\n",
       " ('WHITC', 'White Clover Markets', 'Karl Jablonski', 'Propietario', '305 - 14th Ave. S.Suite 3B', 'Seattle', 'WA', '98128', 'Estados Unidos', '(206) 555-4112', '(206) 555-4115'),\n",
       " ('WILMK', 'Wilman Kala', 'Matti Karttunen', 'Prop./Asistente marketing', 'Keskuskatu 45', 'Helsinki', None, '21240', 'Finlandia', '90-224 8858', '90-224 8858'),\n",
       " ('WOLZA', 'Wolski  Zajazd', 'Zbyszek Piestrzeniewicz', 'Propietario', 'ul. Filtrowa 68', 'Warszawa', None, '01-012', 'Polonia', '(26) 642-7012', '(26) 642-7012')]"
      ]
     },
     "execution_count": 7,
     "metadata": {},
     "output_type": "execute_result"
    }
   ],
   "source": [
    "fila"
   ]
  },
  {
   "cell_type": "markdown",
   "id": "d1b88d63",
   "metadata": {},
   "source": [
    "**Convertimos la matriz de datos en un DataFrame**"
   ]
  },
  {
   "cell_type": "code",
   "execution_count": 8,
   "id": "73e89ea0",
   "metadata": {},
   "outputs": [],
   "source": [
    "import numpy as np"
   ]
  },
  {
   "cell_type": "code",
   "execution_count": 9,
   "id": "6b371c66",
   "metadata": {},
   "outputs": [],
   "source": [
    "df_sql= pd.DataFrame(np.array(fila))"
   ]
  },
  {
   "cell_type": "code",
   "execution_count": 10,
   "id": "d8f09f87",
   "metadata": {},
   "outputs": [
    {
     "data": {
      "text/html": [
       "<div>\n",
       "<style scoped>\n",
       "    .dataframe tbody tr th:only-of-type {\n",
       "        vertical-align: middle;\n",
       "    }\n",
       "\n",
       "    .dataframe tbody tr th {\n",
       "        vertical-align: top;\n",
       "    }\n",
       "\n",
       "    .dataframe thead th {\n",
       "        text-align: right;\n",
       "    }\n",
       "</style>\n",
       "<table border=\"1\" class=\"dataframe\">\n",
       "  <thead>\n",
       "    <tr style=\"text-align: right;\">\n",
       "      <th></th>\n",
       "      <th>0</th>\n",
       "      <th>1</th>\n",
       "      <th>2</th>\n",
       "      <th>3</th>\n",
       "      <th>4</th>\n",
       "      <th>5</th>\n",
       "      <th>6</th>\n",
       "      <th>7</th>\n",
       "      <th>8</th>\n",
       "      <th>9</th>\n",
       "      <th>10</th>\n",
       "    </tr>\n",
       "  </thead>\n",
       "  <tbody>\n",
       "    <tr>\n",
       "      <th>0</th>\n",
       "      <td>ALFKI</td>\n",
       "      <td>Alfreds Futterkiste</td>\n",
       "      <td>Maria Anders</td>\n",
       "      <td>Representante de ventas</td>\n",
       "      <td>Obere Str. 57</td>\n",
       "      <td>Berlín</td>\n",
       "      <td>None</td>\n",
       "      <td>12209</td>\n",
       "      <td>Alemania</td>\n",
       "      <td>030-0074321</td>\n",
       "      <td>030-0076545</td>\n",
       "    </tr>\n",
       "    <tr>\n",
       "      <th>1</th>\n",
       "      <td>ANATR</td>\n",
       "      <td>Ana Trujillo Emparedados y helados</td>\n",
       "      <td>Ana Trujillo</td>\n",
       "      <td>Propietario</td>\n",
       "      <td>Avda. de la Constitución 2222</td>\n",
       "      <td>México D.F.</td>\n",
       "      <td>None</td>\n",
       "      <td>05021</td>\n",
       "      <td>México</td>\n",
       "      <td>(5) 555-4729</td>\n",
       "      <td>(5) 555-3745</td>\n",
       "    </tr>\n",
       "    <tr>\n",
       "      <th>2</th>\n",
       "      <td>ANTON</td>\n",
       "      <td>Antonio Moreno Taquería</td>\n",
       "      <td>Antonio Moreno</td>\n",
       "      <td>Propietario</td>\n",
       "      <td>Mataderos  2312</td>\n",
       "      <td>México D.F.</td>\n",
       "      <td>None</td>\n",
       "      <td>05023</td>\n",
       "      <td>México</td>\n",
       "      <td>(5) 555-3932</td>\n",
       "      <td>None</td>\n",
       "    </tr>\n",
       "    <tr>\n",
       "      <th>3</th>\n",
       "      <td>AROUT</td>\n",
       "      <td>Around the Horn</td>\n",
       "      <td>Thomas Hardy</td>\n",
       "      <td>Representante de ventas</td>\n",
       "      <td>120 Hanover Sq.</td>\n",
       "      <td>Londres</td>\n",
       "      <td>None</td>\n",
       "      <td>WA1 1DP</td>\n",
       "      <td>Reino Unido</td>\n",
       "      <td>(71) 555-7788</td>\n",
       "      <td>(71) 555-6750</td>\n",
       "    </tr>\n",
       "    <tr>\n",
       "      <th>4</th>\n",
       "      <td>BERGS</td>\n",
       "      <td>Berglunds snabbköp</td>\n",
       "      <td>Christina Berglund</td>\n",
       "      <td>Administrador de pedidos</td>\n",
       "      <td>Berguvsvägen  8</td>\n",
       "      <td>Luleå</td>\n",
       "      <td>None</td>\n",
       "      <td>S-958 22</td>\n",
       "      <td>Suecia</td>\n",
       "      <td>0921-12 34 65</td>\n",
       "      <td>0921-12 34 67</td>\n",
       "    </tr>\n",
       "  </tbody>\n",
       "</table>\n",
       "</div>"
      ],
      "text/plain": [
       "      0                                   1                   2   \\\n",
       "0  ALFKI                 Alfreds Futterkiste        Maria Anders   \n",
       "1  ANATR  Ana Trujillo Emparedados y helados        Ana Trujillo   \n",
       "2  ANTON             Antonio Moreno Taquería      Antonio Moreno   \n",
       "3  AROUT                     Around the Horn        Thomas Hardy   \n",
       "4  BERGS                  Berglunds snabbköp  Christina Berglund   \n",
       "\n",
       "                         3                              4            5     6   \\\n",
       "0   Representante de ventas                  Obere Str. 57       Berlín  None   \n",
       "1               Propietario  Avda. de la Constitución 2222  México D.F.  None   \n",
       "2               Propietario                Mataderos  2312  México D.F.  None   \n",
       "3   Representante de ventas                120 Hanover Sq.      Londres  None   \n",
       "4  Administrador de pedidos                Berguvsvägen  8        Luleå  None   \n",
       "\n",
       "         7            8              9              10  \n",
       "0     12209     Alemania    030-0074321    030-0076545  \n",
       "1     05021       México   (5) 555-4729   (5) 555-3745  \n",
       "2     05023       México   (5) 555-3932           None  \n",
       "3   WA1 1DP  Reino Unido  (71) 555-7788  (71) 555-6750  \n",
       "4  S-958 22       Suecia  0921-12 34 65  0921-12 34 67  "
      ]
     },
     "execution_count": 10,
     "metadata": {},
     "output_type": "execute_result"
    }
   ],
   "source": [
    "df_sql.head()"
   ]
  },
  {
   "cell_type": "code",
   "execution_count": 11,
   "id": "ecb36034",
   "metadata": {},
   "outputs": [],
   "source": [
    "df_sql.columns=[\"Codigo\",\"Apellidos\",\"Nombres\",\"Cargo\",\"Direccion\",\"Estado\",\"NA\",\"Codigo2\",\"Pais\",\"Telefono\",\"Telefono2\"]"
   ]
  },
  {
   "cell_type": "code",
   "execution_count": 12,
   "id": "1caf3e06",
   "metadata": {},
   "outputs": [
    {
     "data": {
      "text/html": [
       "<div>\n",
       "<style scoped>\n",
       "    .dataframe tbody tr th:only-of-type {\n",
       "        vertical-align: middle;\n",
       "    }\n",
       "\n",
       "    .dataframe tbody tr th {\n",
       "        vertical-align: top;\n",
       "    }\n",
       "\n",
       "    .dataframe thead th {\n",
       "        text-align: right;\n",
       "    }\n",
       "</style>\n",
       "<table border=\"1\" class=\"dataframe\">\n",
       "  <thead>\n",
       "    <tr style=\"text-align: right;\">\n",
       "      <th></th>\n",
       "      <th>Codigo</th>\n",
       "      <th>Apellidos</th>\n",
       "      <th>Nombres</th>\n",
       "      <th>Cargo</th>\n",
       "      <th>Direccion</th>\n",
       "      <th>Estado</th>\n",
       "      <th>NA</th>\n",
       "      <th>Codigo2</th>\n",
       "      <th>Pais</th>\n",
       "      <th>Telefono</th>\n",
       "      <th>Telefono2</th>\n",
       "    </tr>\n",
       "  </thead>\n",
       "  <tbody>\n",
       "    <tr>\n",
       "      <th>0</th>\n",
       "      <td>ALFKI</td>\n",
       "      <td>Alfreds Futterkiste</td>\n",
       "      <td>Maria Anders</td>\n",
       "      <td>Representante de ventas</td>\n",
       "      <td>Obere Str. 57</td>\n",
       "      <td>Berlín</td>\n",
       "      <td>None</td>\n",
       "      <td>12209</td>\n",
       "      <td>Alemania</td>\n",
       "      <td>030-0074321</td>\n",
       "      <td>030-0076545</td>\n",
       "    </tr>\n",
       "    <tr>\n",
       "      <th>1</th>\n",
       "      <td>ANATR</td>\n",
       "      <td>Ana Trujillo Emparedados y helados</td>\n",
       "      <td>Ana Trujillo</td>\n",
       "      <td>Propietario</td>\n",
       "      <td>Avda. de la Constitución 2222</td>\n",
       "      <td>México D.F.</td>\n",
       "      <td>None</td>\n",
       "      <td>05021</td>\n",
       "      <td>México</td>\n",
       "      <td>(5) 555-4729</td>\n",
       "      <td>(5) 555-3745</td>\n",
       "    </tr>\n",
       "    <tr>\n",
       "      <th>2</th>\n",
       "      <td>ANTON</td>\n",
       "      <td>Antonio Moreno Taquería</td>\n",
       "      <td>Antonio Moreno</td>\n",
       "      <td>Propietario</td>\n",
       "      <td>Mataderos  2312</td>\n",
       "      <td>México D.F.</td>\n",
       "      <td>None</td>\n",
       "      <td>05023</td>\n",
       "      <td>México</td>\n",
       "      <td>(5) 555-3932</td>\n",
       "      <td>None</td>\n",
       "    </tr>\n",
       "    <tr>\n",
       "      <th>3</th>\n",
       "      <td>AROUT</td>\n",
       "      <td>Around the Horn</td>\n",
       "      <td>Thomas Hardy</td>\n",
       "      <td>Representante de ventas</td>\n",
       "      <td>120 Hanover Sq.</td>\n",
       "      <td>Londres</td>\n",
       "      <td>None</td>\n",
       "      <td>WA1 1DP</td>\n",
       "      <td>Reino Unido</td>\n",
       "      <td>(71) 555-7788</td>\n",
       "      <td>(71) 555-6750</td>\n",
       "    </tr>\n",
       "    <tr>\n",
       "      <th>4</th>\n",
       "      <td>BERGS</td>\n",
       "      <td>Berglunds snabbköp</td>\n",
       "      <td>Christina Berglund</td>\n",
       "      <td>Administrador de pedidos</td>\n",
       "      <td>Berguvsvägen  8</td>\n",
       "      <td>Luleå</td>\n",
       "      <td>None</td>\n",
       "      <td>S-958 22</td>\n",
       "      <td>Suecia</td>\n",
       "      <td>0921-12 34 65</td>\n",
       "      <td>0921-12 34 67</td>\n",
       "    </tr>\n",
       "  </tbody>\n",
       "</table>\n",
       "</div>"
      ],
      "text/plain": [
       "  Codigo                           Apellidos             Nombres  \\\n",
       "0  ALFKI                 Alfreds Futterkiste        Maria Anders   \n",
       "1  ANATR  Ana Trujillo Emparedados y helados        Ana Trujillo   \n",
       "2  ANTON             Antonio Moreno Taquería      Antonio Moreno   \n",
       "3  AROUT                     Around the Horn        Thomas Hardy   \n",
       "4  BERGS                  Berglunds snabbköp  Christina Berglund   \n",
       "\n",
       "                      Cargo                      Direccion       Estado    NA  \\\n",
       "0   Representante de ventas                  Obere Str. 57       Berlín  None   \n",
       "1               Propietario  Avda. de la Constitución 2222  México D.F.  None   \n",
       "2               Propietario                Mataderos  2312  México D.F.  None   \n",
       "3   Representante de ventas                120 Hanover Sq.      Londres  None   \n",
       "4  Administrador de pedidos                Berguvsvägen  8        Luleå  None   \n",
       "\n",
       "    Codigo2         Pais       Telefono      Telefono2  \n",
       "0     12209     Alemania    030-0074321    030-0076545  \n",
       "1     05021       México   (5) 555-4729   (5) 555-3745  \n",
       "2     05023       México   (5) 555-3932           None  \n",
       "3   WA1 1DP  Reino Unido  (71) 555-7788  (71) 555-6750  \n",
       "4  S-958 22       Suecia  0921-12 34 65  0921-12 34 67  "
      ]
     },
     "execution_count": 12,
     "metadata": {},
     "output_type": "execute_result"
    }
   ],
   "source": [
    "df_sql.head()"
   ]
  },
  {
   "cell_type": "markdown",
   "id": "a6505a04",
   "metadata": {},
   "source": [
    "**CERRAR LA CONEXION A LA BASE DE DATOS SQL SERVER**"
   ]
  },
  {
   "cell_type": "code",
   "execution_count": 14,
   "id": "9481299e",
   "metadata": {},
   "outputs": [],
   "source": [
    "conexion.close()"
   ]
  },
  {
   "cell_type": "code",
   "execution_count": null,
   "id": "bebb9625",
   "metadata": {},
   "outputs": [],
   "source": []
  }
 ],
 "metadata": {
  "kernelspec": {
   "display_name": "Python 3 (ipykernel)",
   "language": "python",
   "name": "python3"
  },
  "language_info": {
   "codemirror_mode": {
    "name": "ipython",
    "version": 3
   },
   "file_extension": ".py",
   "mimetype": "text/x-python",
   "name": "python",
   "nbconvert_exporter": "python",
   "pygments_lexer": "ipython3",
   "version": "3.9.13"
  }
 },
 "nbformat": 4,
 "nbformat_minor": 5
}
