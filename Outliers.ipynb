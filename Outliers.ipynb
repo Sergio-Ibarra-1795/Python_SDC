{
 "cells": [
  {
   "cell_type": "markdown",
   "id": "fd9b7a61",
   "metadata": {},
   "source": [
    "**OUTLIERS**"
   ]
  },
  {
   "cell_type": "code",
   "execution_count": 1,
   "id": "d96d84e2",
   "metadata": {},
   "outputs": [],
   "source": [
    "import os\n",
    "import pandas as pd\n",
    "from sklearn.model_selection import train_test_split"
   ]
  },
  {
   "cell_type": "code",
   "execution_count": 2,
   "id": "b4ce5cff",
   "metadata": {},
   "outputs": [],
   "source": [
    "os.chdir(R\"C:\\Users\\sergi\\OneDrive\\Documentos\\SIR_personal\\Python_SDC_HP-i3\")"
   ]
  },
  {
   "cell_type": "code",
   "execution_count": 3,
   "id": "21115dc7",
   "metadata": {},
   "outputs": [],
   "source": [
    "df = pd.read_csv(\"data_credit.csv\",\n",
    "                sep=\",\",\n",
    "                encoding=\"ISO-8859-1\")"
   ]
  },
  {
   "cell_type": "code",
   "execution_count": 8,
   "id": "9ccd1221",
   "metadata": {},
   "outputs": [
    {
     "data": {
      "text/html": [
       "<div>\n",
       "<style scoped>\n",
       "    .dataframe tbody tr th:only-of-type {\n",
       "        vertical-align: middle;\n",
       "    }\n",
       "\n",
       "    .dataframe tbody tr th {\n",
       "        vertical-align: top;\n",
       "    }\n",
       "\n",
       "    .dataframe thead th {\n",
       "        text-align: right;\n",
       "    }\n",
       "</style>\n",
       "<table border=\"1\" class=\"dataframe\">\n",
       "  <thead>\n",
       "    <tr style=\"text-align: right;\">\n",
       "      <th></th>\n",
       "      <th>duration</th>\n",
       "      <th>chist</th>\n",
       "      <th>reason</th>\n",
       "      <th>camt</th>\n",
       "      <th>telephne</th>\n",
       "      <th>lenemp</th>\n",
       "      <th>instrate</th>\n",
       "      <th>perstat</th>\n",
       "      <th>residlen</th>\n",
       "      <th>prpownr</th>\n",
       "      <th>age</th>\n",
       "      <th>housng</th>\n",
       "      <th>numcred</th>\n",
       "      <th>emptype</th>\n",
       "      <th>numliab</th>\n",
       "      <th>customer</th>\n",
       "    </tr>\n",
       "  </thead>\n",
       "  <tbody>\n",
       "    <tr>\n",
       "      <th>0</th>\n",
       "      <td>6.0</td>\n",
       "      <td>5.0</td>\n",
       "      <td>4.0</td>\n",
       "      <td>1169.0</td>\n",
       "      <td>0.0</td>\n",
       "      <td>4.0</td>\n",
       "      <td>4.0</td>\n",
       "      <td>3.0</td>\n",
       "      <td>4.0</td>\n",
       "      <td>1.0</td>\n",
       "      <td>67.0</td>\n",
       "      <td>2.0</td>\n",
       "      <td>2.0</td>\n",
       "      <td>3.0</td>\n",
       "      <td>1.0</td>\n",
       "      <td>1.0</td>\n",
       "    </tr>\n",
       "    <tr>\n",
       "      <th>1</th>\n",
       "      <td>48.0</td>\n",
       "      <td>3.0</td>\n",
       "      <td>4.0</td>\n",
       "      <td>5951.0</td>\n",
       "      <td>1.0</td>\n",
       "      <td>2.0</td>\n",
       "      <td>2.0</td>\n",
       "      <td>2.0</td>\n",
       "      <td>2.0</td>\n",
       "      <td>1.0</td>\n",
       "      <td>22.0</td>\n",
       "      <td>2.0</td>\n",
       "      <td>1.0</td>\n",
       "      <td>3.0</td>\n",
       "      <td>1.0</td>\n",
       "      <td>2.0</td>\n",
       "    </tr>\n",
       "    <tr>\n",
       "      <th>2</th>\n",
       "      <td>12.0</td>\n",
       "      <td>5.0</td>\n",
       "      <td>7.0</td>\n",
       "      <td>2096.0</td>\n",
       "      <td>1.0</td>\n",
       "      <td>3.0</td>\n",
       "      <td>2.0</td>\n",
       "      <td>3.0</td>\n",
       "      <td>3.0</td>\n",
       "      <td>1.0</td>\n",
       "      <td>49.0</td>\n",
       "      <td>2.0</td>\n",
       "      <td>1.0</td>\n",
       "      <td>2.0</td>\n",
       "      <td>2.0</td>\n",
       "      <td>1.0</td>\n",
       "    </tr>\n",
       "    <tr>\n",
       "      <th>3</th>\n",
       "      <td>42.0</td>\n",
       "      <td>3.0</td>\n",
       "      <td>3.0</td>\n",
       "      <td>7882.0</td>\n",
       "      <td>1.0</td>\n",
       "      <td>3.0</td>\n",
       "      <td>2.0</td>\n",
       "      <td>3.0</td>\n",
       "      <td>4.0</td>\n",
       "      <td>2.0</td>\n",
       "      <td>45.0</td>\n",
       "      <td>3.0</td>\n",
       "      <td>1.0</td>\n",
       "      <td>3.0</td>\n",
       "      <td>2.0</td>\n",
       "      <td>1.0</td>\n",
       "    </tr>\n",
       "    <tr>\n",
       "      <th>4</th>\n",
       "      <td>24.0</td>\n",
       "      <td>4.0</td>\n",
       "      <td>1.0</td>\n",
       "      <td>4870.0</td>\n",
       "      <td>1.0</td>\n",
       "      <td>2.0</td>\n",
       "      <td>3.0</td>\n",
       "      <td>3.0</td>\n",
       "      <td>4.0</td>\n",
       "      <td>4.0</td>\n",
       "      <td>53.0</td>\n",
       "      <td>3.0</td>\n",
       "      <td>2.0</td>\n",
       "      <td>3.0</td>\n",
       "      <td>2.0</td>\n",
       "      <td>2.0</td>\n",
       "    </tr>\n",
       "  </tbody>\n",
       "</table>\n",
       "</div>"
      ],
      "text/plain": [
       "   duration  chist  reason    camt  telephne  lenemp  instrate  perstat  \\\n",
       "0       6.0    5.0     4.0  1169.0       0.0     4.0       4.0      3.0   \n",
       "1      48.0    3.0     4.0  5951.0       1.0     2.0       2.0      2.0   \n",
       "2      12.0    5.0     7.0  2096.0       1.0     3.0       2.0      3.0   \n",
       "3      42.0    3.0     3.0  7882.0       1.0     3.0       2.0      3.0   \n",
       "4      24.0    4.0     1.0  4870.0       1.0     2.0       3.0      3.0   \n",
       "\n",
       "   residlen  prpownr   age  housng  numcred  emptype  numliab  customer  \n",
       "0       4.0      1.0  67.0     2.0      2.0      3.0      1.0       1.0  \n",
       "1       2.0      1.0  22.0     2.0      1.0      3.0      1.0       2.0  \n",
       "2       3.0      1.0  49.0     2.0      1.0      2.0      2.0       1.0  \n",
       "3       4.0      2.0  45.0     3.0      1.0      3.0      2.0       1.0  \n",
       "4       4.0      4.0  53.0     3.0      2.0      3.0      2.0       2.0  "
      ]
     },
     "execution_count": 8,
     "metadata": {},
     "output_type": "execute_result"
    }
   ],
   "source": [
    "df.head()"
   ]
  },
  {
   "cell_type": "code",
   "execution_count": 5,
   "id": "e911d5d3",
   "metadata": {},
   "outputs": [],
   "source": [
    "import seaborn as sns \n",
    "import matplotlib.pyplot as plt "
   ]
  },
  {
   "cell_type": "code",
   "execution_count": 7,
   "id": "37e61e1e",
   "metadata": {},
   "outputs": [
    {
     "data": {
      "image/png": "[encoded data removed]",
      "text/plain": [
       "<Figure size 640x480 with 1 Axes>"
      ]
     },
     "metadata": {},
     "output_type": "display_data"
    }
   ],
   "source": [
    "sns.boxplot(x=df.camt.values)\n",
    "plt.show()"
   ]
  },
  {
   "cell_type": "code",
   "execution_count": 9,
   "id": "879c54c1",
   "metadata": {},
   "outputs": [
    {
     "name": "stdout",
     "output_type": "stream",
     "text": [
      "1365.5\n"
     ]
    }
   ],
   "source": [
    "Q1 = df[\"camt\"].quantile(0.25);print(Q1)"
   ]
  },
  {
   "cell_type": "code",
   "execution_count": 22,
   "id": "1df268d4",
   "metadata": {},
   "outputs": [
    {
     "name": "stdout",
     "output_type": "stream",
     "text": [
      "2319.5\n"
     ]
    }
   ],
   "source": [
    "Q2 = df[\"camt\"].quantile(0.5);print(Q2)"
   ]
  },
  {
   "cell_type": "code",
   "execution_count": 13,
   "id": "60adfee5",
   "metadata": {},
   "outputs": [
    {
     "name": "stdout",
     "output_type": "stream",
     "text": [
      "3972.25\n"
     ]
    }
   ],
   "source": [
    "Q3 = df[\"camt\"].quantile(0.75);print(Q3)"
   ]
  },
  {
   "cell_type": "code",
   "execution_count": 24,
   "id": "84fbc002",
   "metadata": {},
   "outputs": [
    {
     "data": {
      "text/plain": [
       "1652.75"
      ]
     },
     "execution_count": 24,
     "metadata": {},
     "output_type": "execute_result"
    }
   ],
   "source": [
    "Q3-Q2"
   ]
  },
  {
   "cell_type": "code",
   "execution_count": 25,
   "id": "c3b4be53",
   "metadata": {},
   "outputs": [
    {
     "data": {
      "text/plain": [
       "954.0"
      ]
     },
     "execution_count": 25,
     "metadata": {},
     "output_type": "execute_result"
    }
   ],
   "source": [
    "Q2-Q1"
   ]
  },
  {
   "cell_type": "code",
   "execution_count": 26,
   "id": "3703b7b6",
   "metadata": {},
   "outputs": [
    {
     "name": "stdout",
     "output_type": "stream",
     "text": [
      "2606.75\n"
     ]
    }
   ],
   "source": [
    "IQR = Q3-Q1; print(IQR)"
   ]
  },
  {
   "cell_type": "code",
   "execution_count": 27,
   "id": "176f119a",
   "metadata": {},
   "outputs": [
    {
     "data": {
      "text/plain": [
       "array([ 1169.,  5951.,  2096.,  7882.,  4870.,  9055.,  2835.,  6948.,\n",
       "        3059.,  5234.,  1295.,  4308.,  1567.,  1199.,  1403.,  1282.,\n",
       "        2424.,  8072., 12579.,  3430.,  2134.,  2647.,  2241.,  1804.,\n",
       "        2069.,  1374.,   426.,   409.,  2415.,  6836.,  1913.,  4020.,\n",
       "        5866.,  1264.,  1474.,  4746.,  6110.,  2100.,  1225.,   458.,\n",
       "        2333.,  1158.,  6204.,  6187.,  6143.,  1393.,  2299.,  1352.,\n",
       "        7228.,  2073.,  2333.,  5965.,  1262.,  3378.,  2225.,   783.,\n",
       "        6468.,  9566.,  1961.,  6229.,  1391.,  1537.,  1953., 14421.,\n",
       "        3181.,  5190.,  2171.,  1007.,  1819.,  2394.,  8133.,   730.,\n",
       "        1164.,  5954.,  1977.,  1526.,  3965.,  4771.,  9436.,  3832.,\n",
       "        5943.,  1213.,  1568.,  1755.,  2315.,  1412.,  1295., 12612.,\n",
       "        2249.,  1108.,   618.,  1409.,   797.,  3617.,  1318., 15945.,\n",
       "        2012.,  2622.,  2337.,  7057.,  1469.,  2323.,   932.,  1919.,\n",
       "        2445., 11938.,  6458.,  6078.,  7721.,  1410.,  1449.,   392.,\n",
       "        6260.,  7855.,  1680.,  3578.,  7174.,  2132.,  4281.,  2366.,\n",
       "        1835.,  3868.,  1768.,   781.,  1924.,  2121.,   701.,   639.,\n",
       "        1860.,  3499.,  8487.,  6887.,  2708.,  1984., 10144.,  1240.,\n",
       "        8613.,   766.,  2728.,  1881.,   709.,  4795.,  3416.,  2462.,\n",
       "        2288.,  3566.,   860.,   682.,  5371.,  1582.,  1346.,  1924.,\n",
       "        5848.,  7758.,  6967.,  1282.,  1288.,   339.,  3512.,  1898.,\n",
       "        2872.,  1055.,  1262.,  7308.,   909.,  2978.,  1131.,  1577.,\n",
       "        3972.,  1935.,   950.,   763.,  2064.,  1414.,  3414.,  7485.,\n",
       "        2577.,   338.,  1963.,   571.,  9572.,  4455.,  1647.,  3777.,\n",
       "         884.,  1360.,  5129.,  1175.,   674.,  3244.,  4591.,  3844.,\n",
       "        3915.,  2108.,  3031.,  1501.,  1382.,   951.,  2760.,  4297.,\n",
       "         936.,  1168.,  5117.,   902.,  1495., 10623.,  1935.,  1424.,\n",
       "        6568.,  1413.,  3074.,  3835.,  5293.,  1908.,  3342.,   932.,\n",
       "        3104.,  3913.,  3021.,  1364.,   625.,  1200.,   707.,  2978.,\n",
       "        4657.,  2613., 10961.,  7865.,  1478.,  3149.,  4210.,  2507.,\n",
       "        2141.,   866.,  1544.,  1823., 14555.,  2767.,  1291.,  2522.,\n",
       "         915.,  1595.,  4605.,  1185.,  3447.,  1258.,   717.,  1204.,\n",
       "        1925.,   433.,   666.,  2251.,  2150.,  4151.,  2030.,  7418.,\n",
       "        2684.,  2149.,  3812.,  1154.,  1657.,  1603.,  5302.,  2748.,\n",
       "        1231.,   802.,  6304.,  1533.,  8978.,   999.,  2662.,  1402.,\n",
       "       12169.,  3060., 11998.,  2697.,  2404.,  1262.,  4611.,  1901.,\n",
       "        3368.,  1574.,  1445.,  1520.,  3878., 10722.,  4788.,  7582.,\n",
       "        1092.,  1024.,  1076.,  9398.,  6419.,  4796.,  7629.,  9960.,\n",
       "        4675.,  1287.,  2515.,  2745.,   672.,  3804.,  1344.,  1038.,\n",
       "       10127.,  1543.,  4811.,   727.,  1237.,   276.,  5381.,  5511.,\n",
       "        3749.,   685.,  1494.,  2746.,   708.,  4351.,   701.,  3643.,\n",
       "        4249.,  1938.,  2910.,  2659.,  1028.,  3398.,  5801.,  1525.,\n",
       "        4473.,  1068.,  6615.,  1864.,  7408., 11590.,  4110.,  3384.,\n",
       "        2101.,  1275.,  4169.,  1521.,  5743.,  3599.,  3213.,  4439.,\n",
       "        3949.,  1459.,   882.,  3758.,  1743.,  1136.,  1236.,   959.,\n",
       "        3229.,  6199.,   727.,  1246.,  2331.,  4463.,   776.,  2406.,\n",
       "        1239.,  3399.,  2247.,  1766.,  2473.,  1542.,  3850.,  3650.,\n",
       "        3446.,  3001.,  3079.,  6070.,  2146., 13756., 14782.,  7685.,\n",
       "        2320.,   846., 14318.,   362.,  2212., 12976.,  1283.,  1330.,\n",
       "        4272.,  2238.,  1126.,  7374.,  2326.,  1449.,  1820.,   983.,\n",
       "        3249.,  1957.,  2406., 11760.,  2578.,  2348.,  1223.,  1516.,\n",
       "        1473.,  1887.,  8648.,   802.,  2899.,  2039.,  2197.,  1053.,\n",
       "        3235.,   939.,  1967.,  7253.,  2292.,  1597.,  1381.,  5842.,\n",
       "        2579.,  8471.,  2782.,  1042.,  3186.,  2028.,   958.,  1591.,\n",
       "        2762.,  2779.,  2743.,  1149.,  1313.,  1190.,  3448., 11328.,\n",
       "        1872.,  2058.,  2136.,  1484.,   660.,  1287.,  3394.,   609.,\n",
       "        1884.,  1620.,  2629.,   719.,  5096.,  1244.,  1842.,  2576.,\n",
       "        1424.,  1512., 11054.,   518.,  2759.,  2670.,  4817.,  2679.,\n",
       "        3905.,  3386.,   343.,  4594.,  3620.,  1721.,  3017.,   754.,\n",
       "        1950.,  2924.,  1659.,  7238.,  2764.,  4679.,  3092.,   448.,\n",
       "         654.,  1238.,  1245.,  3114.,  2569.,  5152.,  1037.,  1478.,\n",
       "        3573.,  1201.,  3622.,   960.,  1163.,  1209.,  3077.,  3757.,\n",
       "        1418.,  3518.,  1934.,  8318.,  1237.,   368.,  2122.,  2996.,\n",
       "        9034.,  1585.,  1301.,  1323.,  3123.,  5493.,  1126.,  1216.,\n",
       "        1207.,  1309.,  2360.,  6850.,  1413.,  8588.,   759.,  4686.,\n",
       "        2687.,   585.,  2255.,   609.,  1361.,  7127.,  1203.,   700.,\n",
       "        5507.,  3190.,  7119.,  3488.,  1113.,  7966.,  1532.,  1503.,\n",
       "        2302.,   662.,  2273.,  2631.,  1503.,  1311.,  3105.,  2319.,\n",
       "        1374.,  3612.,  7763.,  3049.,  1534.,  2032.,  6350.,  2864.,\n",
       "        1255.,  1333.,  2022.,  1552.,   626.,  8858.,   996.,  1750.,\n",
       "        6999.,  1995.,  1199.,  1331.,  2278.,  5003.,  3552.,  1928.,\n",
       "        2964.,  1546.,   683., 12389.,  4712.,  1553.,  1372.,  2578.,\n",
       "        3979.,  6758.,  3234.,  5954.,  5433.,   806.,  1082.,  2788.,\n",
       "        2930.,  1927.,  2820.,   937.,  1056.,  3124.,  1388.,  2384.,\n",
       "        2133.,  2039.,  2799.,  1289.,  1217.,  2246.,   385.,  1965.,\n",
       "        1572.,  2718.,  1358.,   931.,  1442.,  4241.,  2775.,  3863.,\n",
       "        2329.,   918.,  1837.,  3349.,  1275.,  2828.,  4526.,  2671.,\n",
       "        2051.,  1300.,   741.,  1240.,  3357.,  3632.,  1808., 12204.,\n",
       "        9157.,  3676.,  3441.,   640.,  3652.,  1530.,  3914.,  1858.,\n",
       "        2600.,  1979.,  2116.,  1437.,  4042.,  3832.,  3660.,  1553.,\n",
       "        1444.,  1980.,  1355.,  1393.,  1376., 15653.,  1493.,  4370.,\n",
       "         750.,  1308.,  4623.,  1851.,  1880.,  7980.,  4583.,  1386.,\n",
       "         947.,   684.,  7476.,  1922.,  2303.,  8086.,  2346.,  3973.,\n",
       "         888., 10222.,  4221.,  6361.,  1297.,   900.,  2241.,  1050.,\n",
       "        1047.,  6314.,  3496.,  3609.,  4843.,  3017.,  4139.,  5742.,\n",
       "       10366.,  2080.,  2580.,  4530.,  5150.,  5595.,  2384.,  1453.,\n",
       "        1538.,  2279.,  1478.,  5103.,  9857.,  6527.,  1347.,  2862.,\n",
       "        2753.,  3651.,   975.,  2631.,  2896.,  4716.,  2284.,  1236.,\n",
       "        1103.,   926.,  1800.,  1905.,  1123.,  6331.,  1377.,  2503.,\n",
       "        2528.,  5324.,  6560.,  2969.,  1206.,  2118.,   629.,  1198.,\n",
       "        2476.,  1138., 14027.,  7596.,  3077.,  1505.,  3148.,  6148.,\n",
       "        1337.,   433.,  1228.,   790.,  2570.,   250.,  1316.,  1882.,\n",
       "        6416.,  1275.,  6403.,  1987.,   760.,  2603.,  3380.,  3990.,\n",
       "       11560.,  4380.,  6761.,  4280.,  2325.,  1048.,  3160.,  2483.,\n",
       "       14179.,  1797.,  2511.,  1274.,  5248.,  3029.,   428.,   976.,\n",
       "         841.,  5771.,  1555.,  1285.,  1299.,  1271.,  1393.,   691.,\n",
       "        5045.,  2124.,  2214., 12680.,  2463.,  1155.,  3108.,  2901.,\n",
       "        3617.,  1655.,  2812.,  8065.,  3275.,  2223.,  1480.,  1371.,\n",
       "        3535.,  3509.,  5711.,  3872.,  4933.,  1940.,  1410.,   836.,\n",
       "        6468.,  1941.,  2675.,  2751.,  6224.,  5998.,  1188.,  6313.,\n",
       "        1221.,  2892.,  3062.,  2301.,  7511.,  1258.,   717.,  1549.,\n",
       "        1597.,  1795.,  4272.,   976.,  7472.,  9271.,   590.,   930.,\n",
       "        9283.,  1778.,   907.,   484.,  9629.,  3051.,  3931.,  7432.,\n",
       "        1338.,  1554., 15857.,  1345.,  1101.,  3016.,  2712.,   731.,\n",
       "        3780.,  1602.,  3966.,  4165.,  8335.,  6681.,  2375.,  1216.,\n",
       "       11816.,  5084.,  2327.,  1082.,   886.,   601.,  2957.,  2611.,\n",
       "        5179.,  2993.,  1943.,  1559.,  3422.,  3976.,  6761.,  1249.,\n",
       "        1364.,   709.,  2235.,  4042.,  1471.,  1442., 10875.,  1474.,\n",
       "         894.,  3343.,  3959.,  3577.,  5804.,  2169.,  2439.,  4526.,\n",
       "        2210.,  2221.,  2389.,  3331.,  7409.,   652.,  7678.,  1343.,\n",
       "        1382.,   874.,  3590.,  1322.,  1940.,  3595.,  1422.,  6742.,\n",
       "        7814.,  9277.,  2181.,  1098.,  4057.,   795.,  2825., 15672.,\n",
       "        6614.,  7824.,  2442.,  1829.,  2171.,  5800.,  1169.,  8947.,\n",
       "        2606.,  1592.,  2186.,  4153.,  2625.,  3485., 10477.,  1386.,\n",
       "        1278.,  1107.,  3763.,  3711.,  3594.,  3195.,  4454.,  4736.,\n",
       "        2991.,  2142.,  3161., 18424.,  2848., 14896.,  2359.,  3345.,\n",
       "        1817., 12749.,  1366.,  2002.,  6872.,   697.,  1049., 10297.,\n",
       "        1867.,  1344.,  1747.,  1670.,  1224.,   522.,  1498.,  1919.,\n",
       "         745.,  2063.,  6288.,  6842.,  3527.,  1546.,   929.,  1455.,\n",
       "        1845.,  8358.,  3349.,  2859.,  1533.,  3621.,  3590.,  2145.,\n",
       "        4113., 10974.,  1893.,  1231.,  3656.,  1154.,  4006.,  3069.,\n",
       "        1740.,  2353.,  3556.,  2397.,   454.,  1715.,  2520.,  3568.,\n",
       "        7166.,  3939.,  1514.,  7393.,  1193.,  7297.,  2831.,  1258.,\n",
       "         753.,  2427.,  2538.,  1264.,  8386.,  4844.,  2923.,  8229.,\n",
       "        2028.,  1433.,  6289.,  1409.,  6579.,  1743.,  3565.,  1569.,\n",
       "        1936.,  3959.,  2390.,  1736.,  3857.,   804.,  1845.,  4576.])"
      ]
     },
     "execution_count": 27,
     "metadata": {},
     "output_type": "execute_result"
    }
   ],
   "source": [
    "df.camt.values"
   ]
  },
  {
   "cell_type": "code",
   "execution_count": 28,
   "id": "d5e53954",
   "metadata": {},
   "outputs": [
    {
     "data": {
      "text/plain": [
       "array([False, False, False, False, False, False, False, False, False,\n",
       "       False, False, False, False, False, False, False, False, False,\n",
       "       False, False, False, False, False, False, False, False, False,\n",
       "       False, False, False, False, False, False, False, False, False,\n",
       "       False, False, False, False, False, False, False, False, False,\n",
       "       False, False, False, False, False, False, False, False, False,\n",
       "       False, False, False, False, False, False, False, False, False,\n",
       "       False, False, False, False, False, False, False, False, False,\n",
       "       False, False, False, False, False, False, False, False, False,\n",
       "       False, False, False, False, False, False, False, False, False,\n",
       "       False, False, False, False, False, False, False, False, False,\n",
       "       False, False, False, False, False, False, False, False, False,\n",
       "       False, False, False, False, False, False, False, False, False,\n",
       "       False, False, False, False, False, False, False, False, False,\n",
       "       False, False, False, False, False, False, False, False, False,\n",
       "       False, False, False, False, False, False, False, False, False,\n",
       "       False, False, False, False, False, False, False, False, False,\n",
       "       False, False, False, False, False, False, False, False, False,\n",
       "       False, False, False, False, False, False, False, False, False,\n",
       "       False, False, False, False, False, False, False, False, False,\n",
       "       False, False, False, False, False, False, False, False, False,\n",
       "       False, False, False, False, False, False, False, False, False,\n",
       "       False, False, False, False, False, False, False, False, False,\n",
       "       False, False, False, False, False, False, False, False, False,\n",
       "       False, False, False, False, False, False, False, False, False,\n",
       "       False, False, False, False, False, False, False, False, False,\n",
       "       False, False, False, False, False, False, False, False, False,\n",
       "       False, False, False, False, False, False, False, False, False,\n",
       "       False, False, False, False, False, False, False, False, False,\n",
       "       False, False, False, False, False, False, False, False, False,\n",
       "       False, False, False, False, False, False, False, False, False,\n",
       "       False, False, False, False, False, False, False, False, False,\n",
       "       False, False, False, False, False, False, False, False, False,\n",
       "       False, False, False, False, False, False, False, False, False,\n",
       "       False, False, False, False, False, False, False, False, False,\n",
       "       False, False, False, False, False, False, False, False, False,\n",
       "       False, False, False, False, False, False, False, False, False,\n",
       "       False, False, False, False, False, False, False, False, False,\n",
       "       False, False, False, False, False, False, False, False, False,\n",
       "       False, False, False, False, False, False, False, False, False,\n",
       "       False, False, False, False, False, False, False, False, False,\n",
       "       False, False, False, False, False, False, False, False, False,\n",
       "       False, False, False, False, False, False, False, False, False,\n",
       "       False, False, False, False, False, False, False, False, False,\n",
       "       False, False, False, False, False, False, False, False, False,\n",
       "       False, False, False, False, False, False, False, False, False,\n",
       "       False, False, False, False, False, False, False, False, False,\n",
       "       False, False, False, False, False, False, False, False, False,\n",
       "       False, False, False, False, False, False, False, False, False,\n",
       "       False, False, False, False, False, False, False, False, False,\n",
       "       False, False, False, False, False, False, False, False, False,\n",
       "       False, False, False, False, False, False, False, False, False,\n",
       "       False, False, False, False, False, False, False, False, False,\n",
       "       False, False, False, False, False, False, False, False, False,\n",
       "       False, False, False, False, False, False, False, False, False,\n",
       "       False, False, False, False, False, False, False, False, False,\n",
       "       False, False, False, False, False, False, False, False, False,\n",
       "       False, False, False, False, False, False, False, False, False,\n",
       "       False, False, False, False, False, False, False, False, False,\n",
       "       False, False, False, False, False, False, False, False, False,\n",
       "       False, False, False, False, False, False, False, False, False,\n",
       "       False, False, False, False, False, False, False, False, False,\n",
       "       False, False, False, False, False, False, False, False, False,\n",
       "       False, False, False, False, False, False, False, False, False,\n",
       "       False, False, False, False, False, False, False, False, False,\n",
       "       False, False, False, False, False, False, False, False, False,\n",
       "       False, False, False, False, False, False, False, False, False,\n",
       "       False, False, False, False, False, False, False, False, False,\n",
       "       False, False, False, False, False, False, False, False, False,\n",
       "       False, False, False, False, False, False, False, False, False,\n",
       "       False, False, False, False, False, False, False, False, False,\n",
       "       False, False, False, False, False, False, False, False, False,\n",
       "       False, False, False, False, False, False, False, False, False,\n",
       "       False, False, False, False, False, False, False, False, False,\n",
       "       False, False, False, False, False, False, False, False, False,\n",
       "       False, False, False, False, False, False, False, False, False,\n",
       "       False, False, False, False, False, False, False, False, False,\n",
       "       False, False, False, False, False, False, False, False, False,\n",
       "       False, False, False, False, False, False, False, False, False,\n",
       "       False, False, False, False, False, False, False, False, False,\n",
       "       False, False, False, False, False, False, False, False, False,\n",
       "       False, False, False, False, False, False, False, False, False,\n",
       "       False, False, False, False, False, False, False, False, False,\n",
       "       False, False, False, False, False, False, False, False, False,\n",
       "       False, False, False, False, False, False, False, False, False,\n",
       "       False, False, False, False, False, False, False, False, False,\n",
       "       False, False, False, False, False, False, False, False, False,\n",
       "       False, False, False, False, False, False, False, False, False,\n",
       "       False, False, False, False, False, False, False, False, False,\n",
       "       False, False, False, False, False, False, False, False, False,\n",
       "       False, False, False, False, False, False, False, False, False,\n",
       "       False, False, False, False, False, False, False, False, False,\n",
       "       False, False, False, False, False, False, False, False, False,\n",
       "       False, False, False, False, False, False, False, False, False,\n",
       "       False, False, False, False, False, False, False, False, False,\n",
       "       False, False, False, False, False, False, False, False, False,\n",
       "       False, False, False, False, False, False, False, False, False,\n",
       "       False, False, False, False, False, False, False, False, False,\n",
       "       False, False, False, False, False, False, False, False, False,\n",
       "       False, False, False, False, False, False, False, False, False,\n",
       "       False, False, False, False, False, False, False, False, False,\n",
       "       False, False, False, False, False, False, False, False, False,\n",
       "       False, False, False, False, False, False, False, False, False,\n",
       "       False, False, False, False, False, False, False, False, False,\n",
       "       False, False, False, False, False, False, False, False, False,\n",
       "       False, False, False, False, False, False, False, False, False,\n",
       "       False, False, False, False, False, False, False, False, False,\n",
       "       False, False, False, False, False, False, False, False, False,\n",
       "       False, False, False, False, False, False, False, False, False,\n",
       "       False, False, False, False, False, False, False, False, False,\n",
       "       False, False, False, False, False, False, False, False, False,\n",
       "       False])"
      ]
     },
     "execution_count": 28,
     "metadata": {},
     "output_type": "execute_result"
    }
   ],
   "source": [
    "df.camt.values< (Q1-(1.5*IQR))"
   ]
  },
  {
   "cell_type": "markdown",
   "id": "b51c2d49",
   "metadata": {},
   "source": [
    "LOS VALORES ATIPICOS ARRIBA DEL LIMITE SON"
   ]
  },
  {
   "cell_type": "code",
   "execution_count": 30,
   "id": "dc8ba9b7",
   "metadata": {},
   "outputs": [
    {
     "data": {
      "text/plain": [
       "72"
      ]
     },
     "execution_count": 30,
     "metadata": {},
     "output_type": "execute_result"
    }
   ],
   "source": [
    "sum(df.camt.values>(Q3+(1.5*IQR)))"
   ]
  },
  {
   "cell_type": "code",
   "execution_count": 33,
   "id": "9390e349",
   "metadata": {},
   "outputs": [
    {
     "ename": "SyntaxError",
     "evalue": "unexpected EOF while parsing (2716919856.py, line 2)",
     "output_type": "error",
     "traceback": [
      "\u001b[1;36m  File \u001b[1;32m\"C:\\Users\\sergi\\AppData\\Local\\Temp\\ipykernel_94800\\2716919856.py\"\u001b[1;36m, line \u001b[1;32m2\u001b[0m\n\u001b[1;33m    \u001b[0m\n\u001b[1;37m    ^\u001b[0m\n\u001b[1;31mSyntaxError\u001b[0m\u001b[1;31m:\u001b[0m unexpected EOF while parsing\n"
     ]
    }
   ],
   "source": [
    "SELECTION = (df.camt.values>(Q3+(1.5*IQR))) | (df.camt.values< (Q1-(1.5*IQR))             "
   ]
  },
  {
   "cell_type": "code",
   "execution_count": null,
   "id": "c852fcc6",
   "metadata": {},
   "outputs": [],
   "source": []
  },
  {
   "cell_type": "code",
   "execution_count": null,
   "id": "94f04632",
   "metadata": {},
   "outputs": [],
   "source": []
  },
  {
   "cell_type": "markdown",
   "id": "5b1ba673",
   "metadata": {},
   "source": [
    "**Z score para detección de valores atipicos**"
   ]
  },
  {
   "cell_type": "code",
   "execution_count": 34,
   "id": "e4179afc",
   "metadata": {},
   "outputs": [],
   "source": [
    "from scipy import stats\n",
    "import numpy as np "
   ]
  },
  {
   "cell_type": "code",
   "execution_count": 35,
   "id": "ec6a7238",
   "metadata": {},
   "outputs": [
    {
     "data": {
      "text/plain": [
       "array([-7.45131413e-01,  9.49816789e-01, -4.16562408e-01,  1.63424694e+00,\n",
       "        5.66663505e-01,  2.05000901e+00, -1.54628756e-01,  1.30319683e+00,\n",
       "       -7.52334412e-02,  6.95680892e-01, -7.00471549e-01,  3.67466330e-01,\n",
       "       -6.04062952e-01, -7.34498112e-01, -6.62191664e-01, -7.05079312e-01,\n",
       "       -3.00304982e-01,  1.70159118e+00,  3.29906746e+00,  5.62650497e-02,\n",
       "       -4.03093560e-01, -2.21264110e-01, -3.65168119e-01, -5.20059872e-01,\n",
       "       -4.26132379e-01, -6.72470522e-01, -1.00848284e+00, -1.01450838e+00,\n",
       "       -3.03494972e-01,  1.26349917e+00, -4.81425545e-01,  2.65386639e-01,\n",
       "        9.19689103e-01, -7.11459293e-01, -6.37026185e-01,  5.22712527e-01,\n",
       "        1.00617329e+00, -4.15144634e-01, -7.25282585e-01, -9.97140651e-01,\n",
       "       -3.32559329e-01, -7.49030290e-01,  1.03949096e+00,  1.03346543e+00,\n",
       "        1.01786992e+00, -6.65736098e-01, -3.44610404e-01, -6.80268276e-01,\n",
       "        1.40244097e+00, -4.24714606e-01, -3.32559329e-01,  9.54778997e-01,\n",
       "       -7.12168180e-01,  3.78339944e-02, -3.70839213e-01, -8.81946555e-01,\n",
       "        1.13306401e+00,  2.23112958e+00, -4.64412263e-01,  1.04835205e+00,\n",
       "       -6.66444985e-01, -6.14696253e-01, -4.67247810e-01,  3.95195215e+00,\n",
       "       -3.19913498e-02,  6.80085384e-01, -3.89979155e-01, -8.02551240e-01,\n",
       "       -5.14743222e-01, -3.10938283e-01,  1.72321223e+00, -9.00732053e-01,\n",
       "       -7.46903630e-01,  9.50880119e-01, -4.58741169e-01, -6.18595130e-01,\n",
       "        2.45892253e-01,  5.31573611e-01,  2.18505194e+00,  1.98751285e-01,\n",
       "        9.46981242e-01, -7.29535905e-01, -6.03708508e-01, -5.37427598e-01,\n",
       "       -3.38939310e-01, -6.59001674e-01, -7.00471549e-01,  3.31076409e+00,\n",
       "       -3.62332572e-01, -7.66752459e-01, -9.40429711e-01, -6.60065004e-01,\n",
       "       -8.76984348e-01,  1.22545960e-01, -6.92319351e-01,  4.49212384e+00,\n",
       "       -4.46335651e-01, -2.30125195e-01, -3.31141555e-01,  1.34183116e+00,\n",
       "       -6.38798402e-01, -3.36103763e-01, -8.29134492e-01, -4.79298885e-01,\n",
       "       -2.92861671e-01,  3.07186925e+00,  1.12951958e+00,  9.94831098e-01,\n",
       "        1.57718156e+00, -6.59710561e-01, -6.45887269e-01, -1.02053391e+00,\n",
       "        1.05933979e+00,  1.62467697e+00, -5.64010851e-01,  1.08722669e-01,\n",
       "        1.38330103e+00, -4.03802447e-01,  3.57896359e-01, -3.20862698e-01,\n",
       "       -5.09072128e-01,  2.11511246e-01, -5.32819834e-01, -8.82655442e-01,\n",
       "       -4.77526668e-01, -4.07701324e-01, -9.11010911e-01, -9.32986400e-01,\n",
       "       -5.00211044e-01,  8.07216423e-02,  1.84868518e+00,  1.28157579e+00,\n",
       "       -1.99643065e-01, -4.56260066e-01,  2.43599785e+00, -7.19965934e-01,\n",
       "        1.89334504e+00, -8.87972092e-01, -1.92554197e-01, -4.92767733e-01,\n",
       "       -9.08175364e-01,  5.40080252e-01,  5.13028425e-02, -2.86836134e-01,\n",
       "       -3.48509281e-01,  1.04469348e-01, -8.54654415e-01, -9.17745335e-01,\n",
       "        7.44239634e-01, -5.98746301e-01, -6.82394937e-01, -4.77526668e-01,\n",
       "        9.13309122e-01,  1.59029596e+00,  1.30993125e+00, -7.05079312e-01,\n",
       "       -7.02952652e-01, -1.03931941e+00,  8.53294062e-02, -4.86742196e-01,\n",
       "       -1.41514352e-01, -7.85537958e-01, -7.12168180e-01,  1.43079644e+00,\n",
       "       -8.37286690e-01, -1.03943354e-01, -7.58600262e-01, -6.00518518e-01,\n",
       "        2.48373357e-01, -4.73627791e-01, -8.22754512e-01, -8.89035422e-01,\n",
       "       -4.27904596e-01, -6.58292787e-01,  5.05939557e-02,  1.49353292e+00,\n",
       "       -2.46075146e-01, -1.03967386e+00, -4.63703376e-01, -9.57088550e-01,\n",
       "        2.23325624e+00,  4.19569506e-01, -5.75707482e-01,  1.79256900e-01,\n",
       "       -8.46147774e-01, -6.77432729e-01,  6.58464338e-01, -7.43004753e-01,\n",
       "       -9.20580882e-01, -9.66141742e-03,  4.67773804e-01,  2.03004606e-01,\n",
       "        2.28170085e-01, -4.12309088e-01, -8.51578556e-02, -6.27456214e-01,\n",
       "       -6.69634975e-01, -8.22400068e-01, -1.81212009e-01,  3.63567453e-01,\n",
       "       -8.27716719e-01, -7.45485857e-01,  6.54211017e-01, -8.39767794e-01,\n",
       "       -6.29582874e-01,  2.60577622e+00, -4.73627791e-01, -6.54748354e-01,\n",
       "        1.16850835e+00, -6.58647231e-01, -6.99167906e-02,  1.99814615e-01,\n",
       "        7.16593051e-01, -4.83197762e-01,  2.50740330e-02, -8.29134492e-01,\n",
       "       -5.92834894e-02,  2.27461198e-01, -8.87022893e-02, -6.76014956e-01,\n",
       "       -9.37948608e-01, -7.34143669e-01, -9.08884251e-01, -1.03943354e-01,\n",
       "        4.91167067e-01, -2.33315185e-01,  2.72557808e+00,  1.62822140e+00,\n",
       "       -6.35608412e-01, -4.33335377e-02,  3.32730879e-01, -2.70886182e-01,\n",
       "       -4.00612456e-01, -8.52527755e-01, -6.12215149e-01, -5.13325448e-01,\n",
       "        3.99944756e+00, -1.78730906e-01, -7.01889322e-01, -2.65569532e-01,\n",
       "       -8.35160030e-01, -5.94138537e-01,  4.72736011e-01, -7.39460319e-01,\n",
       "        6.22905870e-02, -7.13585953e-01, -9.05339817e-01, -7.32725895e-01,\n",
       "       -4.77172224e-01, -1.00600173e+00, -9.23416429e-01, -3.61623685e-01,\n",
       "       -3.97422466e-01,  3.11818721e-01, -4.39955670e-01,  1.46978522e+00,\n",
       "       -2.08149705e-01, -3.97776909e-01,  1.91662418e-01, -7.50448064e-01,\n",
       "       -5.72163048e-01, -5.91302990e-01,  7.19783041e-01, -1.85465330e-01,\n",
       "       -7.23155924e-01, -8.75212131e-01,  1.07493530e+00, -6.16114026e-01,\n",
       "        2.02271688e+00, -8.05386787e-01, -2.15947460e-01, -6.62546108e-01,\n",
       "        3.15374567e+00, -7.48789978e-02,  3.09313586e+00, -2.03541942e-01,\n",
       "       -3.07393850e-01, -7.12168180e-01,  4.74862671e-01, -4.85678865e-01,\n",
       "        3.42895607e-02, -6.01581848e-01, -6.47305043e-01, -6.20721790e-01,\n",
       "        2.15055680e-01,  2.64086612e+00,  5.37599148e-01,  1.52791393e+00,\n",
       "       -7.72423553e-01, -7.96525702e-01, -7.78094647e-01,  2.17158309e+00,\n",
       "        1.11569629e+00,  5.40434695e-01,  1.54457277e+00,  2.37078027e+00,\n",
       "        4.97547047e-01, -7.03307096e-01, -2.68050635e-01, -1.86528660e-01,\n",
       "       -9.21289769e-01,  1.88826871e-01, -6.83103823e-01, -7.91563495e-01,\n",
       "        2.42997231e+00, -6.12569592e-01,  5.45751346e-01, -9.01795384e-01,\n",
       "       -7.21029264e-01, -1.06164934e+00,  7.47784068e-01,  7.93861706e-01,\n",
       "        1.69332485e-01, -9.16682005e-01, -6.29937318e-01, -1.86174216e-01,\n",
       "       -9.08529808e-01,  3.82707395e-01, -9.11010911e-01,  1.31761488e-01,\n",
       "        3.46554171e-01, -4.72564461e-01, -1.28045504e-01, -2.17010790e-01,\n",
       "       -7.95107929e-01,  4.49228618e-02,  8.96650284e-01, -6.18949573e-01,\n",
       "        4.25949486e-01, -7.80930194e-01,  1.18516719e+00, -4.98793270e-01,\n",
       "        1.46624078e+00,  2.94852296e+00,  2.97286542e-01,  3.99606546e-02,\n",
       "       -4.14790191e-01, -7.07560416e-01,  3.18198701e-01, -6.20367347e-01,\n",
       "        8.76092568e-01,  1.16165979e-01, -2.06491619e-02,  4.13898412e-01,\n",
       "        2.40221160e-01, -6.42342836e-01, -8.46856661e-01,  1.72522476e-01,\n",
       "       -5.41680918e-01, -7.56828045e-01, -7.21383707e-01, -8.19564521e-01,\n",
       "       -1.49780680e-02,  1.03771875e+00, -9.01795384e-01, -7.17839274e-01,\n",
       "       -3.33268216e-01,  4.22405052e-01, -8.84427658e-01, -3.06684963e-01,\n",
       "       -7.20320377e-01,  4.52773052e-02, -3.63041459e-01, -5.33528721e-01,\n",
       "       -2.82937257e-01, -6.12924036e-01,  2.05131266e-01,  1.34242591e-01,\n",
       "        6.19361436e-02, -9.57911567e-02, -6.81445737e-02,  9.91995551e-01,\n",
       "       -3.98840239e-01,  3.71624730e+00,  4.07990620e+00,  1.56442160e+00,\n",
       "       -3.37167093e-01, -8.59616622e-01,  3.91544448e+00, -1.03116721e+00,\n",
       "       -3.75446977e-01,  3.43978147e+00, -7.04724869e-01, -6.88066031e-01,\n",
       "        3.54706369e-01, -3.66231449e-01, -7.60372478e-01,  1.45418971e+00,\n",
       "       -3.35040433e-01, -6.45887269e-01, -5.14388779e-01, -8.11057880e-01,\n",
       "       -7.88920056e-03, -4.65830037e-01, -3.06684963e-01,  3.00877833e+00,\n",
       "       -2.45720703e-01, -3.27242678e-01, -7.25991471e-01, -6.22139563e-01,\n",
       "       -6.37380628e-01, -4.90641073e-01,  1.90575056e+00, -8.75212131e-01,\n",
       "       -1.31944381e-01, -4.36765680e-01, -3.80763627e-01, -7.86246844e-01,\n",
       "       -1.28514078e-02, -8.26653389e-01, -4.62285603e-01,  1.41130206e+00,\n",
       "       -3.47091507e-01, -5.93429650e-01, -6.69989419e-01,  9.11182462e-01,\n",
       "       -2.45366260e-01,  1.84301409e+00, -1.73414255e-01, -7.90145722e-01,\n",
       "       -3.02191330e-02, -4.40664557e-01, -8.19918965e-01, -5.95556311e-01,\n",
       "       -1.80503123e-01, -1.74477585e-01, -1.87237547e-01, -7.52220281e-01,\n",
       "       -6.94091568e-01, -7.37688103e-01,  6.26450304e-02,  2.85565880e+00,\n",
       "       -4.95957723e-01, -4.30031256e-01, -4.02384673e-01, -6.33481751e-01,\n",
       "       -9.25543090e-01, -7.03307096e-01,  4.35050883e-02, -9.43619701e-01,\n",
       "       -4.91704403e-01, -5.85277453e-01, -2.27644091e-01, -9.04630931e-01,\n",
       "        6.46767707e-01, -7.18548161e-01, -5.06591024e-01, -2.46429590e-01,\n",
       "       -6.54748354e-01, -6.23557337e-01,  2.75854131e+00, -9.75874048e-01,\n",
       "       -1.81566453e-01, -2.13111913e-01,  5.47878006e-01, -2.09921922e-01,\n",
       "        2.24625651e-01,  4.06695413e-02, -1.03790164e+00,  4.68837134e-01,\n",
       "        1.23609290e-01, -5.49478672e-01, -9.01200628e-02, -8.92225413e-01,\n",
       "       -4.68311140e-01, -1.23083296e-01, -5.71454161e-01,  1.40598541e+00,\n",
       "       -1.79794236e-01,  4.98964821e-01, -6.35368099e-02, -1.00068508e+00,\n",
       "       -9.27669750e-01, -7.20674821e-01, -7.18193717e-01, -5.57390557e-02,\n",
       "       -2.48910693e-01,  6.66616535e-01, -7.91917938e-01, -6.35608412e-01,\n",
       "        1.06950452e-01, -7.33789225e-01,  1.24318177e-01, -8.19210078e-01,\n",
       "       -7.47258074e-01, -7.30953679e-01, -6.88534605e-02,  1.72168032e-01,\n",
       "       -6.56875014e-01,  8.74560664e-02, -4.73982234e-01,  1.78878425e+00,\n",
       "       -7.21029264e-01, -1.02904055e+00, -4.07346880e-01, -9.75633736e-02,\n",
       "        2.04256570e+00, -5.97682971e-01, -6.98344888e-01, -6.90547134e-01,\n",
       "       -5.25490654e-02,  7.87481725e-01, -7.60372478e-01, -7.28472575e-01,\n",
       "       -7.31662565e-01, -6.95509341e-01, -3.22989358e-01,  1.26846138e+00,\n",
       "       -6.58647231e-01,  1.88448396e+00, -8.90453196e-01,  5.01445924e-01,\n",
       "       -2.07086375e-01, -9.52126342e-01, -3.60205912e-01, -9.43619701e-01,\n",
       "       -6.77078286e-01,  1.36664219e+00, -7.33080339e-01, -9.11365355e-01,\n",
       "        7.92443932e-01, -2.88013595e-02,  1.36380665e+00,  7.68227652e-02,\n",
       "       -7.64980242e-01,  1.66402018e+00, -6.16468470e-01, -6.26747327e-01,\n",
       "       -3.43547073e-01, -9.24834203e-01, -3.53825931e-01, -2.26935204e-01,\n",
       "       -6.26747327e-01, -6.94800455e-01, -5.89290461e-02, -3.37521536e-01,\n",
       "       -6.72470522e-01,  1.20773743e-01,  1.59206818e+00, -7.87778749e-02,\n",
       "       -6.15759583e-01, -4.39246784e-01,  1.09123969e+00, -1.44349899e-01,\n",
       "       -7.14649283e-01, -6.87002700e-01, -4.42791217e-01, -6.09379602e-01,\n",
       "       -9.37594164e-01,  1.98018367e+00, -8.06450117e-01, -5.39199815e-01,\n",
       "        1.32127344e+00, -4.52361188e-01, -7.34498112e-01, -6.87711587e-01,\n",
       "       -3.52053714e-01,  6.13804473e-01,  9.95071410e-02, -4.76108894e-01,\n",
       "       -1.08905561e-01, -6.11506262e-01, -9.17390892e-01,  3.23172322e+00,\n",
       "        5.10661452e-01, -6.09025159e-01, -6.73179409e-01, -2.45720703e-01,\n",
       "        2.50854461e-01,  1.23585259e+00, -1.32058511e-02,  9.50880119e-01,\n",
       "        7.66215123e-01, -8.73794357e-01, -7.75967987e-01, -1.71287595e-01,\n",
       "       -1.20956636e-01, -4.76463338e-01, -1.59945407e-01, -8.27362276e-01,\n",
       "       -7.85183514e-01, -5.21946220e-02, -6.67508315e-01, -3.14482717e-01,\n",
       "       -4.03448003e-01, -4.36765680e-01, -1.67388718e-01, -7.02598209e-01,\n",
       "       -7.28118132e-01, -3.63395902e-01, -1.02301502e+00, -4.62994490e-01,\n",
       "       -6.02290735e-01, -1.96098631e-01, -6.78141616e-01, -8.29488936e-01,\n",
       "       -6.48368373e-01,  3.43718624e-01, -1.75895359e-01,  2.09739030e-01,\n",
       "       -3.33977102e-01, -8.34096700e-01, -5.08363241e-01,  2.75551366e-02,\n",
       "       -7.07560416e-01, -1.57109860e-01,  4.44734985e-01, -2.12757469e-01,\n",
       "       -4.32512360e-01, -6.98699332e-01, -8.96833176e-01, -7.19965934e-01,\n",
       "        3.03906836e-02,  1.27862611e-01, -5.18642099e-01,  3.16615119e+00,\n",
       "        2.08616224e+00,  1.43458119e-01,  6.01639268e-02, -9.32631957e-01,\n",
       "        1.34951478e-01, -6.17177356e-01,  2.27815642e-01, -5.00919930e-01,\n",
       "       -2.37922949e-01, -4.58032282e-01, -4.09473541e-01, -6.50140590e-01,\n",
       "        2.73184393e-01,  1.98751285e-01,  1.37787025e-01, -6.09025159e-01,\n",
       "       -6.47659486e-01, -4.57677839e-01, -6.79204946e-01, -6.65736098e-01,\n",
       "       -6.71761635e-01,  4.38862638e+00, -6.30291761e-01,  3.89441819e-01,\n",
       "       -8.93643186e-01, -6.95863785e-01,  4.79115992e-01, -5.03401034e-01,\n",
       "       -4.93122176e-01,  1.66898239e+00,  4.64938257e-01, -6.68217202e-01,\n",
       "       -8.23817842e-01, -9.17036449e-01,  1.49034293e+00, -4.78235555e-01,\n",
       "       -3.43192630e-01,  1.70655339e+00, -3.27951565e-01,  2.48727800e-01,\n",
       "       -8.44730001e-01,  2.46364443e+00,  3.36629757e-01,  1.09513857e+00,\n",
       "       -6.99762662e-01, -8.40476680e-01, -3.65168119e-01, -7.87310175e-01,\n",
       "       -7.88373505e-01,  1.07847973e+00,  7.96583122e-02,  1.19710413e-01,\n",
       "        5.57093534e-01, -9.01200628e-02,  3.07565400e-01,  8.75738125e-01,\n",
       "        2.51468427e+00, -4.22233502e-01, -2.45011816e-01,  4.46152758e-01,\n",
       "        6.65907649e-01,  8.23634949e-01, -3.14482717e-01, -6.44469496e-01,\n",
       "       -6.14341809e-01, -3.51699271e-01, -6.35608412e-01,  6.49248810e-01,\n",
       "        2.33427260e+00,  1.15397617e+00, -6.82040493e-01, -1.45058785e-01,\n",
       "       -1.83693113e-01,  1.34597035e-01, -8.13893427e-01, -2.26935204e-01,\n",
       "       -1.33007711e-01,  5.12079225e-01, -3.49927054e-01, -7.21383707e-01,\n",
       "       -7.68524676e-01, -8.31261153e-01, -5.21477646e-01, -4.84261092e-01,\n",
       "       -7.61435808e-01,  1.08450527e+00, -6.71407192e-01, -2.72303956e-01,\n",
       "       -2.63442871e-01,  7.27580795e-01,  1.16567280e+00, -1.07133345e-01,\n",
       "       -7.32017009e-01, -4.08764654e-01, -9.36530834e-01, -7.34852556e-01,\n",
       "       -2.81873927e-01, -7.56119158e-01,  3.81230146e+00,  1.53287614e+00,\n",
       "       -6.88534605e-02, -6.26038441e-01, -4.36879811e-02,  1.01964213e+00,\n",
       "       -6.85584927e-01, -1.00600173e+00, -7.24219254e-01, -8.79465451e-01,\n",
       "       -2.48556250e-01, -1.07086487e+00, -6.93028238e-01, -4.92413289e-01,\n",
       "        1.11463296e+00, -7.07560416e-01,  1.11002519e+00, -4.55196735e-01,\n",
       "       -8.90098752e-01, -2.36859619e-01,  3.85428811e-02,  2.54753338e-01,\n",
       "        2.93788966e+00,  3.92986253e-01,  1.23691592e+00,  3.57541916e-01,\n",
       "       -3.35394876e-01, -7.88019061e-01, -3.94346606e-02, -2.79392823e-01,\n",
       "        3.86617685e+00, -5.22540976e-01, -2.69468409e-01, -7.07914859e-01,\n",
       "        7.00643099e-01, -8.58667423e-02, -1.00777395e+00, -8.13538984e-01,\n",
       "       -8.61388839e-01,  8.86016982e-01, -6.08316272e-01, -7.04015982e-01,\n",
       "       -6.99053775e-01, -7.08978189e-01, -6.65736098e-01, -9.14555345e-01,\n",
       "        6.28691095e-01, -4.06637994e-01, -3.74738090e-01,  3.33486624e+00,\n",
       "       -2.86481691e-01, -7.50093621e-01, -5.78657160e-02, -1.31235494e-01,\n",
       "        1.22545960e-01, -5.72871935e-01, -1.62780954e-01,  1.69911008e+00,\n",
       "        1.32632710e-03, -3.71548100e-01, -6.34899525e-01, -6.73533852e-01,\n",
       "        9.34816037e-02,  8.42660760e-02,  8.64750380e-01,  2.12929020e-01,\n",
       "        5.88993437e-01, -4.71855574e-01, -6.59710561e-01, -8.63161056e-01,\n",
       "        1.13306401e+00, -4.71501131e-01, -2.11339696e-01, -1.84402000e-01,\n",
       "        1.04657983e+00,  9.66475628e-01, -7.38396989e-01,  1.07812529e+00,\n",
       "       -7.26700358e-01, -1.34425484e-01, -7.41701110e-02, -3.43901517e-01,\n",
       "        1.50274845e+00, -7.13585953e-01, -9.05339817e-01, -6.10442932e-01,\n",
       "       -5.93429650e-01, -5.23249863e-01,  3.54706369e-01, -8.13538984e-01,\n",
       "        1.48892516e+00,  2.12656878e+00, -9.50354126e-01, -8.29843379e-01,\n",
       "        2.13082210e+00, -5.29275400e-01, -8.37995577e-01, -9.87925123e-01,\n",
       "        2.25345951e+00, -7.80689881e-02,  2.33841179e-01,  1.47474742e+00,\n",
       "       -6.85230484e-01, -6.08670715e-01,  4.46093283e+00, -6.82749380e-01,\n",
       "       -7.69233563e-01, -9.04745061e-02, -1.98225291e-01, -9.00377610e-01,\n",
       "        1.80320230e-01, -5.91657434e-01,  2.46246697e-01,  3.16780928e-01,\n",
       "        1.79480979e+00,  1.20856045e+00, -3.17672707e-01, -7.28472575e-01,\n",
       "        3.02862716e+00,  6.42514386e-01, -3.34685989e-01, -7.75967987e-01,\n",
       "       -8.45438888e-01, -9.46455248e-01, -1.11386665e-01, -2.34024072e-01,\n",
       "        6.76186507e-01, -9.86267037e-02, -4.70792244e-01, -6.06898498e-01,\n",
       "        5.34295027e-02,  2.49791131e-01,  1.23691592e+00, -7.16775944e-01,\n",
       "       -6.76014956e-01, -9.08175364e-01, -3.67294779e-01,  2.73184393e-01,\n",
       "       -6.38089515e-01, -6.48368373e-01,  2.69509595e+00, -6.37026185e-01,\n",
       "       -8.42603341e-01,  2.54284764e-02,  2.43765593e-01,  1.08368225e-01,\n",
       "        8.97713614e-01, -3.90688042e-01, -2.94988332e-01,  4.44734985e-01,\n",
       "       -3.76155864e-01, -3.72256987e-01, -3.12710500e-01,  2.11751559e-02,\n",
       "        1.46659523e+00, -9.28378636e-01,  1.56194049e+00, -6.83458267e-01,\n",
       "       -6.69634975e-01, -8.49692208e-01,  1.12975989e-01, -6.90901578e-01,\n",
       "       -4.71855574e-01,  1.14748206e-01, -6.55457240e-01,  1.23018150e+00,\n",
       "        1.61014479e+00,  2.12869544e+00, -3.86434721e-01, -7.70296893e-01,\n",
       "        2.78501044e-01, -8.77693234e-01, -1.58173190e-01,  4.39536080e+00,\n",
       "        1.18481274e+00,  1.61368922e+00, -2.93925001e-01, -5.11198788e-01,\n",
       "       -3.89979155e-01,  8.96295840e-01, -7.45131413e-01,  2.01172913e+00,\n",
       "       -2.35796288e-01, -5.95201867e-01, -3.84662505e-01,  3.12527607e-01,\n",
       "       -2.29061864e-01,  7.57594351e-02,  2.55402749e+00, -6.68217202e-01,\n",
       "       -7.06497086e-01, -7.67106902e-01,  1.74294692e-01,  1.55863637e-01,\n",
       "        1.14393763e-01, -2.70291426e-02,  4.19215062e-01,  5.19168093e-01,\n",
       "       -9.93355904e-02, -4.00258013e-01, -3.90802173e-02,  5.37078896e+00,\n",
       "       -1.50020993e-01,  4.12031275e+00, -3.23343801e-01,  2.61373631e-02,\n",
       "       -5.15452109e-01,  3.35932283e+00, -6.75306069e-01, -4.49880085e-01,\n",
       "        1.27625913e+00, -9.12428685e-01, -7.87664618e-01,  2.49022768e+00,\n",
       "       -4.97729940e-01, -6.83103823e-01, -5.40263145e-01, -5.67555284e-01,\n",
       "       -7.25637028e-01, -9.74456275e-01, -6.28519544e-01, -4.79298885e-01,\n",
       "       -8.95415403e-01, -4.28259039e-01,  1.06926421e+00,  1.26562583e+00,\n",
       "        9.06460567e-02, -6.11506262e-01, -8.30197823e-01, -6.43760609e-01,\n",
       "       -5.05527694e-01,  1.80296198e+00,  2.75551366e-02, -1.46122115e-01,\n",
       "       -6.16114026e-01,  1.23963734e-01,  1.12975989e-01, -3.99194683e-01,\n",
       "        2.98349872e-01,  2.73018584e+00, -4.88514412e-01, -7.23155924e-01,\n",
       "        1.36369252e-01, -7.50448064e-01,  2.60424432e-01, -7.16890074e-02,\n",
       "       -5.42744248e-01, -3.25470461e-01,  1.00924915e-01, -3.09874953e-01,\n",
       "       -9.98558424e-01, -5.51605333e-01, -2.66278418e-01,  1.05178235e-01,\n",
       "        1.38046549e+00,  2.36676726e-01, -6.22848450e-01,  1.46092413e+00,\n",
       "       -7.36624772e-01,  1.42689757e+00, -1.56046530e-01, -7.13585953e-01,\n",
       "       -8.92579856e-01, -2.99241652e-01, -2.59898438e-01, -7.11459293e-01,\n",
       "        1.81288640e+00,  5.57447977e-01, -1.23437740e-01,  1.75723879e+00,\n",
       "       -4.40664557e-01, -6.51558363e-01,  1.06961865e+00, -6.60065004e-01,\n",
       "        1.17240723e+00, -5.41680918e-01,  1.04114905e-01, -6.03354065e-01,\n",
       "       -4.73273347e-01,  2.43765593e-01, -3.12356057e-01, -5.44162022e-01,\n",
       "        2.07612369e-01, -8.74503244e-01, -5.05527694e-01,  4.62457153e-01])"
      ]
     },
     "execution_count": 35,
     "metadata": {},
     "output_type": "execute_result"
    }
   ],
   "source": [
    "stats.zscore(df.camt.values)"
   ]
  },
  {
   "cell_type": "code",
   "execution_count": 36,
   "id": "58cdd1b5",
   "metadata": {},
   "outputs": [],
   "source": [
    "zscore= np.abs(stats.zscore(df.camt.values))"
   ]
  },
  {
   "cell_type": "code",
   "execution_count": 37,
   "id": "c8be6b52",
   "metadata": {},
   "outputs": [],
   "source": [
    "k=3 #criterio estandar"
   ]
  },
  {
   "cell_type": "code",
   "execution_count": 38,
   "id": "ef870809",
   "metadata": {},
   "outputs": [
    {
     "data": {
      "text/plain": [
       "array([ 18,  63,  87,  95, 105, 236, 272, 274, 373, 374, 378, 381, 395,\n",
       "       563, 615, 637, 714, 744, 763, 818, 832, 887, 915, 917, 921],\n",
       "      dtype=int64)"
      ]
     },
     "execution_count": 38,
     "metadata": {},
     "output_type": "execute_result"
    }
   ],
   "source": [
    "np.where(zscore>=k)[0]"
   ]
  },
  {
   "cell_type": "code",
   "execution_count": 39,
   "id": "3ce0093b",
   "metadata": {},
   "outputs": [
    {
     "data": {
      "text/plain": [
       "0.125"
      ]
     },
     "execution_count": 39,
     "metadata": {},
     "output_type": "execute_result"
    }
   ],
   "source": [
    "0.5*0.5*0.5"
   ]
  },
  {
   "cell_type": "code",
   "execution_count": 40,
   "id": "4febf002",
   "metadata": {},
   "outputs": [
    {
     "data": {
      "text/plain": [
       "0.03"
      ]
     },
     "execution_count": 40,
     "metadata": {},
     "output_type": "execute_result"
    }
   ],
   "source": [
    "0.2*0.5*0.3"
   ]
  },
  {
   "cell_type": "code",
   "execution_count": 43,
   "id": "79e38169",
   "metadata": {},
   "outputs": [
    {
     "data": {
      "text/plain": [
       "0.27999999999999997"
      ]
     },
     "execution_count": 43,
     "metadata": {},
     "output_type": "execute_result"
    }
   ],
   "source": [
    "(0.3+0.5) * (0.5+0.2) * (0.2+0.3)"
   ]
  },
  {
   "cell_type": "code",
   "execution_count": null,
   "id": "277eafe4",
   "metadata": {},
   "outputs": [],
   "source": []
  }
 ],
 "metadata": {
  "kernelspec": {
   "display_name": "Python 3 (ipykernel)",
   "language": "python",
   "name": "python3"
  },
  "language_info": {
   "codemirror_mode": {
    "name": "ipython",
    "version": 3
   },
   "file_extension": ".py",
   "mimetype": "text/x-python",
   "name": "python",
   "nbconvert_exporter": "python",
   "pygments_lexer": "ipython3",
   "version": "3.9.13"
  }
 },
 "nbformat": 4,
 "nbformat_minor": 5
}
