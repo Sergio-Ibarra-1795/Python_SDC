{
 "cells": [
  {
   "cell_type": "markdown",
   "id": "5dfc284a",
   "metadata": {},
   "source": [
    "### SDC Class 04.March.2023  Arboles de decision"
   ]
  },
  {
   "cell_type": "code",
   "execution_count": null,
   "id": "e65f2cbb",
   "metadata": {},
   "outputs": [],
   "source": []
  },
  {
   "cell_type": "markdown",
   "id": "e944d94b",
   "metadata": {},
   "source": [
    "__Vamos a calcular la \"impureza inicial del arbol\"__"
   ]
  },
  {
   "cell_type": "code",
   "execution_count": 5,
   "id": "3c903fce",
   "metadata": {},
   "outputs": [],
   "source": [
    "import math as m"
   ]
  },
  {
   "cell_type": "markdown",
   "id": "357aefb9",
   "metadata": {},
   "source": [
    "Declaramos el numero de aprobados, desaprobados y total de alumnos"
   ]
  },
  {
   "cell_type": "code",
   "execution_count": 9,
   "id": "351e62c4",
   "metadata": {},
   "outputs": [],
   "source": [
    "a = 4\n",
    "b = 6\n",
    "t = 10"
   ]
  },
  {
   "cell_type": "markdown",
   "id": "cc43f81d",
   "metadata": {},
   "source": [
    "Calculamos la pureza inicial"
   ]
  },
  {
   "cell_type": "code",
   "execution_count": 10,
   "id": "0fcf116b",
   "metadata": {},
   "outputs": [
    {
     "data": {
      "text/plain": [
       "0.6730116670092565"
      ]
     },
     "execution_count": 10,
     "metadata": {},
     "output_type": "execute_result"
    }
   ],
   "source": [
    "imp_inic =abs((a/t)*m.log(a/t) +(b/t)*m.log(b/t))\n",
    "imp_inic \n"
   ]
  },
  {
   "cell_type": "code",
   "execution_count": null,
   "id": "0632bb45",
   "metadata": {},
   "outputs": [],
   "source": []
  },
  {
   "cell_type": "markdown",
   "id": "6ef393ab",
   "metadata": {},
   "source": [
    "__Arbol 1: % de asistencia"
   ]
  },
  {
   "cell_type": "code",
   "execution_count": null,
   "id": "5e78f95d",
   "metadata": {},
   "outputs": [],
   "source": [
    "Arbol 1, Nodo 1"
   ]
  },
  {
   "cell_type": "code",
   "execution_count": 11,
   "id": "2a655cae",
   "metadata": {},
   "outputs": [],
   "source": [
    "a =1\n",
    "d =5\n",
    "t =6"
   ]
  },
  {
   "cell_type": "code",
   "execution_count": 12,
   "id": "db407cd6",
   "metadata": {},
   "outputs": [
    {
     "data": {
      "text/plain": [
       "0.45056120886630463"
      ]
     },
     "execution_count": 12,
     "metadata": {},
     "output_type": "execute_result"
    }
   ],
   "source": [
    "imp_arb1_nodo1 =abs((a/t)*m.log(a/t) +(d/t)*m.log(d/t))\n",
    "imp_arb1_nodo1 \n"
   ]
  },
  {
   "cell_type": "code",
   "execution_count": null,
   "id": "30aee2c2",
   "metadata": {},
   "outputs": [],
   "source": [
    "Ahora multipliquemoslo por su factor de ponderacion"
   ]
  },
  {
   "cell_type": "code",
   "execution_count": 13,
   "id": "f6352fa7",
   "metadata": {},
   "outputs": [
    {
     "data": {
      "text/plain": [
       "0.27033672531978276"
      ]
     },
     "execution_count": 13,
     "metadata": {},
     "output_type": "execute_result"
    }
   ],
   "source": [
    "imp_arb1_nodo1_corregida = imp_arb1_nodo1  * (t/10)\n",
    "imp_arb1_nodo1_corregida "
   ]
  },
  {
   "cell_type": "markdown",
   "id": "34170f31",
   "metadata": {},
   "source": [
    "Arbol 1, Nodo 2"
   ]
  },
  {
   "cell_type": "code",
   "execution_count": 14,
   "id": "d8af0b6e",
   "metadata": {},
   "outputs": [],
   "source": [
    "a =3\n",
    "d =1\n",
    "t =4"
   ]
  },
  {
   "cell_type": "code",
   "execution_count": 15,
   "id": "1f7c3913",
   "metadata": {},
   "outputs": [
    {
     "data": {
      "text/plain": [
       "0.5623351446188083"
      ]
     },
     "execution_count": 15,
     "metadata": {},
     "output_type": "execute_result"
    }
   ],
   "source": [
    "imp_arb1_nodo2 =abs((a/t)*m.log(a/t) +(d/t)*m.log(d/t))\n",
    "imp_arb1_nodo2 "
   ]
  },
  {
   "cell_type": "markdown",
   "id": "c7a07076",
   "metadata": {},
   "source": [
    "Ahora multipliquemoslo por su factor de ponderacion"
   ]
  },
  {
   "cell_type": "code",
   "execution_count": 17,
   "id": "0022a379",
   "metadata": {},
   "outputs": [
    {
     "data": {
      "text/plain": [
       "0.22493405784752332"
      ]
     },
     "execution_count": 17,
     "metadata": {},
     "output_type": "execute_result"
    }
   ],
   "source": [
    "imp_arb1_nodo2_corregida = imp_arb1_nodo2  * (t/10)\n",
    "imp_arb1_nodo2_corregida "
   ]
  },
  {
   "cell_type": "markdown",
   "id": "088a3167",
   "metadata": {},
   "source": [
    "Ahora calculamos la impureza total del arbol 1"
   ]
  },
  {
   "cell_type": "code",
   "execution_count": 18,
   "id": "5c1109bb",
   "metadata": {},
   "outputs": [
    {
     "data": {
      "text/plain": [
       "0.4952707831673061"
      ]
     },
     "execution_count": 18,
     "metadata": {},
     "output_type": "execute_result"
    }
   ],
   "source": [
    "imp_arbol1_total = imp_arb1_nodo1_corregida + imp_arb1_nodo2_corregida \n",
    "imp_arbol1_total "
   ]
  },
  {
   "cell_type": "code",
   "execution_count": null,
   "id": "7e6f2a48",
   "metadata": {},
   "outputs": [],
   "source": []
  },
  {
   "cell_type": "code",
   "execution_count": null,
   "id": "383c44c7",
   "metadata": {},
   "outputs": [],
   "source": []
  },
  {
   "cell_type": "markdown",
   "id": "4d6b5c45",
   "metadata": {},
   "source": [
    "__Arbol 2:"
   ]
  },
  {
   "cell_type": "code",
   "execution_count": null,
   "id": "43fdfee2",
   "metadata": {},
   "outputs": [],
   "source": []
  }
 ],
 "metadata": {
  "kernelspec": {
   "display_name": "Python 3 (ipykernel)",
   "language": "python",
   "name": "python3"
  },
  "language_info": {
   "codemirror_mode": {
    "name": "ipython",
    "version": 3
   },
   "file_extension": ".py",
   "mimetype": "text/x-python",
   "name": "python",
   "nbconvert_exporter": "python",
   "pygments_lexer": "ipython3",
   "version": "3.9.13"
  }
 },
 "nbformat": 4,
 "nbformat_minor": 5
}
