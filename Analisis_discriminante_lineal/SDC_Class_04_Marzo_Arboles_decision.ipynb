{
 "cells": [
  {
   "cell_type": "markdown",
   "id": "5533421d",
   "metadata": {},
   "source": [
    "### SDC Class 04.March.2023  Arboles de decision"
   ]
  },
  {
   "cell_type": "code",
   "execution_count": null,
   "id": "dc5b34ca",
   "metadata": {},
   "outputs": [],
   "source": []
  },
  {
   "cell_type": "markdown",
   "id": "d9bbff3b",
   "metadata": {},
   "source": [
    "__Vamos a calcular la \"impureza inicial del arbol\"__"
   ]
  },
  {
   "cell_type": "code",
   "execution_count": 5,
   "id": "a1dbe1c4",
   "metadata": {},
   "outputs": [],
   "source": [
    "import math as m"
   ]
  },
  {
   "cell_type": "markdown",
   "id": "8db24922",
   "metadata": {},
   "source": [
    "Declaramos el numero de aprobados, desaprobados y total de alumnos"
   ]
  },
  {
   "cell_type": "code",
   "execution_count": 9,
   "id": "be2dace9",
   "metadata": {},
   "outputs": [],
   "source": [
    "a = 4\n",
    "b = 6\n",
    "t = 10"
   ]
  },
  {
   "cell_type": "markdown",
   "id": "aae0c0b0",
   "metadata": {},
   "source": [
    "Calculamos la pureza inicial"
   ]
  },
  {
   "cell_type": "code",
   "execution_count": 10,
   "id": "afb1de29",
   "metadata": {},
   "outputs": [
    {
     "data": {
      "text/plain": [
       "0.6730116670092565"
      ]
     },
     "execution_count": 10,
     "metadata": {},
     "output_type": "execute_result"
    }
   ],
   "source": [
    "imp_inic =abs((a/t)*m.log(a/t) +(b/t)*m.log(b/t))\n",
    "imp_inic \n"
   ]
  },
  {
   "cell_type": "code",
   "execution_count": null,
   "id": "f9c9d1d7",
   "metadata": {},
   "outputs": [],
   "source": []
  },
  {
   "cell_type": "markdown",
   "id": "199a8a5a",
   "metadata": {},
   "source": [
    "__Arbol 1: % de asistencia"
   ]
  },
  {
   "cell_type": "code",
   "execution_count": null,
   "id": "ab3e4073",
   "metadata": {},
   "outputs": [],
   "source": [
    "Arbol 1, Nodo 1"
   ]
  },
  {
   "cell_type": "code",
   "execution_count": 11,
   "id": "d34c89cc",
   "metadata": {},
   "outputs": [],
   "source": [
    "a =1\n",
    "d =5\n",
    "t =6"
   ]
  },
  {
   "cell_type": "code",
   "execution_count": 12,
   "id": "86e76c2f",
   "metadata": {},
   "outputs": [
    {
     "data": {
      "text/plain": [
       "0.45056120886630463"
      ]
     },
     "execution_count": 12,
     "metadata": {},
     "output_type": "execute_result"
    }
   ],
   "source": [
    "imp_arb1_nodo1 =abs((a/t)*m.log(a/t) +(d/t)*m.log(d/t))\n",
    "imp_arb1_nodo1 \n"
   ]
  },
  {
   "cell_type": "code",
   "execution_count": null,
   "id": "f55577b8",
   "metadata": {},
   "outputs": [],
   "source": [
    "Ahora multipliquemoslo por su factor de ponderacion"
   ]
  },
  {
   "cell_type": "code",
   "execution_count": 13,
   "id": "75d62e6a",
   "metadata": {},
   "outputs": [
    {
     "data": {
      "text/plain": [
       "0.27033672531978276"
      ]
     },
     "execution_count": 13,
     "metadata": {},
     "output_type": "execute_result"
    }
   ],
   "source": [
    "imp_arb1_nodo1_corregida = imp_arb1_nodo1  * (t/10)\n",
    "imp_arb1_nodo1_corregida "
   ]
  },
  {
   "cell_type": "markdown",
   "id": "6ffbc67d",
   "metadata": {},
   "source": [
    "Arbol 1, Nodo 2"
   ]
  },
  {
   "cell_type": "code",
   "execution_count": 14,
   "id": "cfc2471c",
   "metadata": {},
   "outputs": [],
   "source": [
    "a =3\n",
    "d =1\n",
    "t =4"
   ]
  },
  {
   "cell_type": "code",
   "execution_count": 15,
   "id": "b446a30b",
   "metadata": {},
   "outputs": [
    {
     "data": {
      "text/plain": [
       "0.5623351446188083"
      ]
     },
     "execution_count": 15,
     "metadata": {},
     "output_type": "execute_result"
    }
   ],
   "source": [
    "imp_arb1_nodo2 =abs((a/t)*m.log(a/t) +(d/t)*m.log(d/t))\n",
    "imp_arb1_nodo2 "
   ]
  },
  {
   "cell_type": "markdown",
   "id": "116a0824",
   "metadata": {},
   "source": [
    "Ahora multipliquemoslo por su factor de ponderacion"
   ]
  },
  {
   "cell_type": "code",
   "execution_count": 17,
   "id": "8a982d16",
   "metadata": {},
   "outputs": [
    {
     "data": {
      "text/plain": [
       "0.22493405784752332"
      ]
     },
     "execution_count": 17,
     "metadata": {},
     "output_type": "execute_result"
    }
   ],
   "source": [
    "imp_arb1_nodo2_corregida = imp_arb1_nodo2  * (t/10)\n",
    "imp_arb1_nodo2_corregida "
   ]
  },
  {
   "cell_type": "markdown",
   "id": "663d8b4e",
   "metadata": {},
   "source": [
    "Ahora calculamos la impureza total del arbol 1"
   ]
  },
  {
   "cell_type": "code",
   "execution_count": 18,
   "id": "55b4e452",
   "metadata": {},
   "outputs": [
    {
     "data": {
      "text/plain": [
       "0.4952707831673061"
      ]
     },
     "execution_count": 18,
     "metadata": {},
     "output_type": "execute_result"
    }
   ],
   "source": [
    "imp_arbol1_total = imp_arb1_nodo1_corregida + imp_arb1_nodo2_corregida \n",
    "imp_arbol1_total "
   ]
  },
  {
   "cell_type": "code",
   "execution_count": null,
   "id": "ad77143c",
   "metadata": {},
   "outputs": [],
   "source": []
  },
  {
   "cell_type": "code",
   "execution_count": null,
   "id": "0f115872",
   "metadata": {},
   "outputs": [],
   "source": []
  },
  {
   "cell_type": "markdown",
   "id": "dc485bcc",
   "metadata": {},
   "source": [
    "__Arbol 2:"
   ]
  },
  {
   "cell_type": "markdown",
   "id": "ac2a146e",
   "metadata": {},
   "source": [
    "Arbol 2, Nodo 1"
   ]
  },
  {
   "cell_type": "code",
   "execution_count": 19,
   "id": "d95c222f",
   "metadata": {},
   "outputs": [],
   "source": [
    "a =0\n",
    "d =6\n",
    "t =6"
   ]
  },
  {
   "cell_type": "code",
   "execution_count": null,
   "id": "a5492d6d",
   "metadata": {},
   "outputs": [],
   "source": [
    "Nos da error por que el logaritmo de cero es no definido y lo vamos a reemplezar por 1 "
   ]
  },
  {
   "cell_type": "code",
   "execution_count": 20,
   "id": "2a15206f",
   "metadata": {},
   "outputs": [
    {
     "ename": "ValueError",
     "evalue": "math domain error",
     "output_type": "error",
     "traceback": [
      "\u001b[1;31m---------------------------------------------------------------------------\u001b[0m",
      "\u001b[1;31mValueError\u001b[0m                                Traceback (most recent call last)",
      "\u001b[1;32m~\\AppData\\Local\\Temp\\ipykernel_15744\\1936834014.py\u001b[0m in \u001b[0;36m<module>\u001b[1;34m\u001b[0m\n\u001b[1;32m----> 1\u001b[1;33m \u001b[0mimp_arb2_nodo1\u001b[0m \u001b[1;33m=\u001b[0m\u001b[0mabs\u001b[0m\u001b[1;33m(\u001b[0m\u001b[1;33m(\u001b[0m\u001b[0ma\u001b[0m\u001b[1;33m/\u001b[0m\u001b[0mt\u001b[0m\u001b[1;33m)\u001b[0m\u001b[1;33m*\u001b[0m\u001b[0mm\u001b[0m\u001b[1;33m.\u001b[0m\u001b[0mlog\u001b[0m\u001b[1;33m(\u001b[0m\u001b[0ma\u001b[0m\u001b[1;33m/\u001b[0m\u001b[0mt\u001b[0m\u001b[1;33m)\u001b[0m \u001b[1;33m+\u001b[0m\u001b[1;33m(\u001b[0m\u001b[0md\u001b[0m\u001b[1;33m/\u001b[0m\u001b[0mt\u001b[0m\u001b[1;33m)\u001b[0m\u001b[1;33m*\u001b[0m\u001b[0mm\u001b[0m\u001b[1;33m.\u001b[0m\u001b[0mlog\u001b[0m\u001b[1;33m(\u001b[0m\u001b[0md\u001b[0m\u001b[1;33m/\u001b[0m\u001b[0mt\u001b[0m\u001b[1;33m)\u001b[0m\u001b[1;33m)\u001b[0m\u001b[1;33m\u001b[0m\u001b[1;33m\u001b[0m\u001b[0m\n\u001b[0m\u001b[0;32m      2\u001b[0m \u001b[0mimp_arb2_nodo1\u001b[0m\u001b[1;33m\u001b[0m\u001b[1;33m\u001b[0m\u001b[0m\n",
      "\u001b[1;31mValueError\u001b[0m: math domain error"
     ]
    }
   ],
   "source": [
    "imp_arb2_nodo1 =abs((a/t)*m.log(a/t) +(d/t)*m.log(d/t))\n",
    "imp_arb2_nodo1 "
   ]
  },
  {
   "cell_type": "code",
   "execution_count": 21,
   "id": "a48f9a9a",
   "metadata": {},
   "outputs": [
    {
     "data": {
      "text/plain": [
       "0.0"
      ]
     },
     "execution_count": 21,
     "metadata": {},
     "output_type": "execute_result"
    }
   ],
   "source": [
    "imp_arb2_nodo1 =abs((a/t)*m.log(1) +(d/t)*m.log(d/t))\n",
    "imp_arb2_nodo1"
   ]
  },
  {
   "cell_type": "markdown",
   "id": "3cc1eab4",
   "metadata": {},
   "source": [
    "Ahora multipliquemoslo por su factor de ponderacion"
   ]
  },
  {
   "cell_type": "code",
   "execution_count": 23,
   "id": "c6614f27",
   "metadata": {},
   "outputs": [
    {
     "data": {
      "text/plain": [
       "0.0"
      ]
     },
     "execution_count": 23,
     "metadata": {},
     "output_type": "execute_result"
    }
   ],
   "source": [
    "imp_arb2_nodo1_corregida = imp_arb2_nodo1  * (t/10)\n",
    "imp_arb2_nodo1_corregida "
   ]
  },
  {
   "cell_type": "code",
   "execution_count": null,
   "id": "0867b22e",
   "metadata": {},
   "outputs": [],
   "source": []
  },
  {
   "cell_type": "code",
   "execution_count": null,
   "id": "18928fa5",
   "metadata": {},
   "outputs": [],
   "source": [
    "Arbol 2, Nodo 1"
   ]
  },
  {
   "cell_type": "code",
   "execution_count": null,
   "id": "508fccde",
   "metadata": {},
   "outputs": [],
   "source": [
    "a =4\n",
    "d =0\n",
    "t =4"
   ]
  },
  {
   "cell_type": "code",
   "execution_count": 25,
   "id": "8fd91c41",
   "metadata": {},
   "outputs": [
    {
     "data": {
      "text/plain": [
       "0.0"
      ]
     },
     "execution_count": 25,
     "metadata": {},
     "output_type": "execute_result"
    }
   ],
   "source": [
    "imp_arb2_nodo2 =abs((a/t)*m.log(1) +(d/t)*m.log(1))\n",
    "imp_arb2_nodo2 "
   ]
  },
  {
   "cell_type": "code",
   "execution_count": 26,
   "id": "961658b2",
   "metadata": {},
   "outputs": [
    {
     "data": {
      "text/plain": [
       "0.0"
      ]
     },
     "execution_count": 26,
     "metadata": {},
     "output_type": "execute_result"
    }
   ],
   "source": [
    "imp_arb2_nodo2_corregida = imp_arb2_nodo2  * (t/10)\n",
    "imp_arb2_nodo2_corregida "
   ]
  },
  {
   "cell_type": "markdown",
   "id": "4a8e9020",
   "metadata": {},
   "source": [
    "Ahora calculamos la impureza total del arbol 1"
   ]
  },
  {
   "cell_type": "code",
   "execution_count": 27,
   "id": "60d046a2",
   "metadata": {},
   "outputs": [
    {
     "data": {
      "text/plain": [
       "0.0"
      ]
     },
     "execution_count": 27,
     "metadata": {},
     "output_type": "execute_result"
    }
   ],
   "source": [
    "imp_arbol2_total = imp_arb2_nodo1_corregida + imp_arb2_nodo2_corregida \n",
    "imp_arbol2_total "
   ]
  },
  {
   "cell_type": "code",
   "execution_count": null,
   "id": "2f76f522",
   "metadata": {},
   "outputs": [],
   "source": []
  },
  {
   "cell_type": "code",
   "execution_count": null,
   "id": "8f768754",
   "metadata": {},
   "outputs": [],
   "source": []
  },
  {
   "cell_type": "code",
   "execution_count": null,
   "id": "66e53b12",
   "metadata": {},
   "outputs": [],
   "source": []
  },
  {
   "cell_type": "code",
   "execution_count": null,
   "id": "d1887fe0",
   "metadata": {},
   "outputs": [],
   "source": []
  }
 ],
 "metadata": {
  "kernelspec": {
   "display_name": "Python 3 (ipykernel)",
   "language": "python",
   "name": "python3"
  },
  "language_info": {
   "codemirror_mode": {
    "name": "ipython",
    "version": 3
   },
   "file_extension": ".py",
   "mimetype": "text/x-python",
   "name": "python",
   "nbconvert_exporter": "python",
   "pygments_lexer": "ipython3",
   "version": "3.9.13"
  }
 },
 "nbformat": 4,
 "nbformat_minor": 5
}
