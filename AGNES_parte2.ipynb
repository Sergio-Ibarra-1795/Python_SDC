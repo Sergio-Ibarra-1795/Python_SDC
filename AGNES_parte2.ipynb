{
 "cells": [
  {
   "cell_type": "markdown",
   "metadata": {},
   "source": [
    "<center><img src=\"https://media-exp1.licdn.com/dms/image/C4E22AQEbIXZiRVkJPQ/feedshare-shrink_2048_1536/0?e=1605139200&v=beta&t=opmJLG_veDflQesF9uJvIhSXbmwPY3DGSlbZo1v-w2k\" width=\"1000\"></center>"
   ]
  },
  {
   "cell_type": "markdown",
   "metadata": {},
   "source": [
    "# Programa de Especialización en Python\n",
    "\n",
    "## Tema 4. Métodos jerárquicos: caso práctico\n",
    "\n",
    "### Manuel Sigüeñas, M.Sc.(c)\n",
    "### Prof. Lenguajes de Programación para Ciencia de Datos / Agile Data Scientists / SCRUMStudy Certified Trainer\n",
    "[msiguenas@socialdata-peru.com](msiguenas@socialdata-peru.com)"
   ]
  },
  {
   "cell_type": "code",
   "execution_count": 1,
   "metadata": {},
   "outputs": [],
   "source": [
    "from IPython.display import Image\n",
    "%matplotlib inline"
   ]
  },
  {
   "cell_type": "markdown",
   "metadata": {},
   "source": [
    "#### Leer SPSS"
   ]
  },
  {
   "cell_type": "code",
   "execution_count": 6,
   "metadata": {},
   "outputs": [],
   "source": [
    "#pip install pyreadstat"
   ]
  },
  {
   "cell_type": "code",
   "execution_count": 1,
   "metadata": {},
   "outputs": [],
   "source": [
    "import pandas as pd"
   ]
  },
  {
   "cell_type": "code",
   "execution_count": 2,
   "metadata": {},
   "outputs": [],
   "source": [
    "#df =pd.read_spss('D:/Python/1. Nivel I/3/datos/distritos.sav')"
   ]
  },
  {
   "cell_type": "code",
   "execution_count": 3,
   "metadata": {},
   "outputs": [],
   "source": [
    "import pyreadstat"
   ]
  },
  {
   "cell_type": "code",
   "execution_count": 4,
   "metadata": {},
   "outputs": [],
   "source": [
    "filesav = 'D:/Python/2. Nivel II/4/datos/distritos.sav'\n",
    "df, meta = pyreadstat.read_sav(filesav )"
   ]
  },
  {
   "cell_type": "code",
   "execution_count": 5,
   "metadata": {},
   "outputs": [
    {
     "data": {
      "text/plain": [
       "<pyreadstat._readstat_parser.metadata_container at 0x2223cd2cb48>"
      ]
     },
     "execution_count": 5,
     "metadata": {},
     "output_type": "execute_result"
    }
   ],
   "source": [
    "meta"
   ]
  },
  {
   "cell_type": "markdown",
   "metadata": {},
   "source": [
    "- distrito: nombre del distrito\n",
    "- ocu_vivi: hogares en cada vivienda\n",
    "- pobpjov: % de población en pueblos jóvenes\n",
    "- sinelect: % de población sin electricidad\n",
    "- sinagua: % de población sin agua\n",
    "- pea1619: PEA entre 16 y 19 años\n",
    "- pocprin: % de población de 6-19 con primaria completa\n",
    "- peam 15: PEA menores de 15 años"
   ]
  },
  {
   "cell_type": "code",
   "execution_count": 6,
   "metadata": {},
   "outputs": [
    {
     "data": {
      "text/html": [
       "<div>\n",
       "<style scoped>\n",
       "    .dataframe tbody tr th:only-of-type {\n",
       "        vertical-align: middle;\n",
       "    }\n",
       "\n",
       "    .dataframe tbody tr th {\n",
       "        vertical-align: top;\n",
       "    }\n",
       "\n",
       "    .dataframe thead th {\n",
       "        text-align: right;\n",
       "    }\n",
       "</style>\n",
       "<table border=\"1\" class=\"dataframe\">\n",
       "  <thead>\n",
       "    <tr style=\"text-align: right;\">\n",
       "      <th></th>\n",
       "      <th>distrito</th>\n",
       "      <th>ocu_vivi</th>\n",
       "      <th>pobpjov</th>\n",
       "      <th>sinelect</th>\n",
       "      <th>sinagua</th>\n",
       "      <th>pea1619</th>\n",
       "      <th>pocprin</th>\n",
       "      <th>peam15</th>\n",
       "    </tr>\n",
       "  </thead>\n",
       "  <tbody>\n",
       "    <tr>\n",
       "      <th>0</th>\n",
       "      <td>Ate</td>\n",
       "      <td>1.15</td>\n",
       "      <td>5.3</td>\n",
       "      <td>27.60</td>\n",
       "      <td>51.10</td>\n",
       "      <td>3.9</td>\n",
       "      <td>1.1</td>\n",
       "      <td>63.48</td>\n",
       "    </tr>\n",
       "    <tr>\n",
       "      <th>1</th>\n",
       "      <td>Barranco</td>\n",
       "      <td>1.09</td>\n",
       "      <td>4.5</td>\n",
       "      <td>1.59</td>\n",
       "      <td>8.32</td>\n",
       "      <td>0.8</td>\n",
       "      <td>3.9</td>\n",
       "      <td>33.48</td>\n",
       "    </tr>\n",
       "    <tr>\n",
       "      <th>2</th>\n",
       "      <td>Breña</td>\n",
       "      <td>1.08</td>\n",
       "      <td>4.4</td>\n",
       "      <td>2.20</td>\n",
       "      <td>23.15</td>\n",
       "      <td>0.9</td>\n",
       "      <td>4.0</td>\n",
       "      <td>37.89</td>\n",
       "    </tr>\n",
       "    <tr>\n",
       "      <th>3</th>\n",
       "      <td>Carabayllo</td>\n",
       "      <td>1.10</td>\n",
       "      <td>5.1</td>\n",
       "      <td>30.13</td>\n",
       "      <td>38.09</td>\n",
       "      <td>4.5</td>\n",
       "      <td>12.6</td>\n",
       "      <td>63.65</td>\n",
       "    </tr>\n",
       "    <tr>\n",
       "      <th>4</th>\n",
       "      <td>Comas</td>\n",
       "      <td>1.20</td>\n",
       "      <td>5.9</td>\n",
       "      <td>10.92</td>\n",
       "      <td>24.27</td>\n",
       "      <td>3.8</td>\n",
       "      <td>9.4</td>\n",
       "      <td>60.37</td>\n",
       "    </tr>\n",
       "  </tbody>\n",
       "</table>\n",
       "</div>"
      ],
      "text/plain": [
       "     distrito  ocu_vivi  pobpjov  sinelect  sinagua  pea1619  pocprin  peam15\n",
       "0         Ate      1.15      5.3     27.60    51.10      3.9      1.1   63.48\n",
       "1    Barranco      1.09      4.5      1.59     8.32      0.8      3.9   33.48\n",
       "2       Breña      1.08      4.4      2.20    23.15      0.9      4.0   37.89\n",
       "3  Carabayllo      1.10      5.1     30.13    38.09      4.5     12.6   63.65\n",
       "4       Comas      1.20      5.9     10.92    24.27      3.8      9.4   60.37"
      ]
     },
     "execution_count": 6,
     "metadata": {},
     "output_type": "execute_result"
    }
   ],
   "source": [
    "df.head()"
   ]
  },
  {
   "cell_type": "code",
   "execution_count": 10,
   "metadata": {},
   "outputs": [],
   "source": [
    "# Clustering Jerárquico\n",
    "\n",
    "# Importacion de librerias\n",
    "import numpy as np\n",
    "import matplotlib.pyplot as plt\n",
    "import pandas as pd"
   ]
  },
  {
   "cell_type": "code",
   "execution_count": 7,
   "metadata": {},
   "outputs": [],
   "source": [
    "X = df.iloc[:, 1:].values"
   ]
  },
  {
   "cell_type": "code",
   "execution_count": 8,
   "metadata": {},
   "outputs": [
    {
     "data": {
      "text/plain": [
       "array([[ 1.15,  5.3 , 27.6 , 51.1 ,  3.9 ,  1.1 , 63.48],\n",
       "       [ 1.09,  4.5 ,  1.59,  8.32,  0.8 ,  3.9 , 33.48],\n",
       "       [ 1.08,  4.4 ,  2.2 , 23.15,  0.9 ,  4.  , 37.89],\n",
       "       [ 1.1 ,  5.1 , 30.13, 38.09,  4.5 , 12.6 , 63.65],\n",
       "       [ 1.2 ,  5.9 , 10.92, 24.27,  3.8 ,  9.4 , 60.37]])"
      ]
     },
     "execution_count": 8,
     "metadata": {},
     "output_type": "execute_result"
    }
   ],
   "source": [
    "X[:5]"
   ]
  },
  {
   "cell_type": "code",
   "execution_count": 11,
   "metadata": {},
   "outputs": [
    {
     "data": {
      "image/png": "[encoded data removed]",
      "text/plain": [
       "<Figure size 432x288 with 1 Axes>"
      ]
     },
     "metadata": {
      "needs_background": "light"
     },
     "output_type": "display_data"
    }
   ],
   "source": [
    "# Creamos el dendograma para encontrar el número óptimo de clusters\n",
    "\n",
    "import scipy.cluster.hierarchy as sch\n",
    "dendrogram = sch.dendrogram(sch.linkage(X, #data\n",
    "                                        metric = 'euclidean',\n",
    "                                        method = 'ward')) #método\n",
    "\n",
    "plt.title('Dendograma')\n",
    "plt.xlabel('Distritos')\n",
    "plt.ylabel('Distancias Euclidianas')\n",
    "plt.show()"
   ]
  },
  {
   "cell_type": "code",
   "execution_count": 12,
   "metadata": {},
   "outputs": [],
   "source": [
    "# Ajustando Clustering Jerárquico al conjunto de datos\n",
    "from sklearn.cluster import AgglomerativeClustering\n",
    "hc = AgglomerativeClustering(n_clusters = 2, \n",
    "                    affinity = 'euclidean', \n",
    "                    linkage = 'ward')\n",
    "\n",
    "y_hc = hc.fit_predict(X)"
   ]
  },
  {
   "cell_type": "code",
   "execution_count": 13,
   "metadata": {},
   "outputs": [
    {
     "data": {
      "text/plain": [
       "array([1, 0, 0, 1, 0, 0, 1, 0, 0, 0, 0, 0, 1, 1, 0, 0, 0, 0, 0, 0, 1, 1,\n",
       "       0, 0, 0, 1, 0, 0, 1, 0, 1, 0, 0, 0], dtype=int64)"
      ]
     },
     "execution_count": 13,
     "metadata": {},
     "output_type": "execute_result"
    }
   ],
   "source": [
    "y_hc"
   ]
  },
  {
   "cell_type": "markdown",
   "metadata": {},
   "source": [
    "**affinity:** por defecto es \"euclidean\". Puede adoptar: “euclidean”, “l1”, “l2”, “manhattan”, “cosine”, o “precomputed”.\n",
    "\n",
    "Si el enlace es \"ward\", solo se acepta \"euclidian\". Si está \"precomputed\", se necesita una matriz de distancia (en lugar de una matriz de similitud) como entrada para el método de ajuste."
   ]
  },
  {
   "cell_type": "markdown",
   "metadata": {},
   "source": [
    "**linkage:** enlace predeterminado es ward.\n",
    "\n",
    "Qué criterio de vinculación utilizar. El criterio de vinculación determina qué distancia usar entre conjuntos de observación. El algoritmo fusionará los pares de clúster que minimizan este criterio.\n",
    "\n",
    "- Ward minimiza la varianza de los grupos que se fusionan.\n",
    "- promedio (average) usa el promedio de las distancias de cada observación de los dos conjuntos.\n",
    "- el enlace completo (complete) o máximo (maximum) utiliza las distancias máximas entre todas las observaciones de los dos conjuntos.\n",
    "- single usa el mínimo de las distancias entre todas las observaciones de los dos conjuntos."
   ]
  },
  {
   "cell_type": "code",
   "execution_count": 14,
   "metadata": {},
   "outputs": [
    {
     "data": {
      "text/plain": [
       "numpy.ndarray"
      ]
     },
     "execution_count": 14,
     "metadata": {},
     "output_type": "execute_result"
    }
   ],
   "source": [
    "type(y_hc)"
   ]
  },
  {
   "cell_type": "code",
   "execution_count": 15,
   "metadata": {},
   "outputs": [],
   "source": [
    "cl= pd.DataFrame(y_hc, columns=[\"clúster_ward\"])"
   ]
  },
  {
   "cell_type": "code",
   "execution_count": 16,
   "metadata": {},
   "outputs": [
    {
     "data": {
      "text/html": [
       "<div>\n",
       "<style scoped>\n",
       "    .dataframe tbody tr th:only-of-type {\n",
       "        vertical-align: middle;\n",
       "    }\n",
       "\n",
       "    .dataframe tbody tr th {\n",
       "        vertical-align: top;\n",
       "    }\n",
       "\n",
       "    .dataframe thead th {\n",
       "        text-align: right;\n",
       "    }\n",
       "</style>\n",
       "<table border=\"1\" class=\"dataframe\">\n",
       "  <thead>\n",
       "    <tr style=\"text-align: right;\">\n",
       "      <th></th>\n",
       "      <th>clúster_ward</th>\n",
       "    </tr>\n",
       "  </thead>\n",
       "  <tbody>\n",
       "    <tr>\n",
       "      <th>0</th>\n",
       "      <td>1</td>\n",
       "    </tr>\n",
       "    <tr>\n",
       "      <th>1</th>\n",
       "      <td>0</td>\n",
       "    </tr>\n",
       "    <tr>\n",
       "      <th>2</th>\n",
       "      <td>0</td>\n",
       "    </tr>\n",
       "    <tr>\n",
       "      <th>3</th>\n",
       "      <td>1</td>\n",
       "    </tr>\n",
       "    <tr>\n",
       "      <th>4</th>\n",
       "      <td>0</td>\n",
       "    </tr>\n",
       "  </tbody>\n",
       "</table>\n",
       "</div>"
      ],
      "text/plain": [
       "   clúster_ward\n",
       "0             1\n",
       "1             0\n",
       "2             0\n",
       "3             1\n",
       "4             0"
      ]
     },
     "execution_count": 16,
     "metadata": {},
     "output_type": "execute_result"
    }
   ],
   "source": [
    "cl.head()"
   ]
  },
  {
   "cell_type": "code",
   "execution_count": 17,
   "metadata": {},
   "outputs": [
    {
     "data": {
      "text/html": [
       "<div>\n",
       "<style scoped>\n",
       "    .dataframe tbody tr th:only-of-type {\n",
       "        vertical-align: middle;\n",
       "    }\n",
       "\n",
       "    .dataframe tbody tr th {\n",
       "        vertical-align: top;\n",
       "    }\n",
       "\n",
       "    .dataframe thead th {\n",
       "        text-align: right;\n",
       "    }\n",
       "</style>\n",
       "<table border=\"1\" class=\"dataframe\">\n",
       "  <thead>\n",
       "    <tr style=\"text-align: right;\">\n",
       "      <th></th>\n",
       "      <th>distrito</th>\n",
       "      <th>ocu_vivi</th>\n",
       "      <th>pobpjov</th>\n",
       "      <th>sinelect</th>\n",
       "      <th>sinagua</th>\n",
       "      <th>pea1619</th>\n",
       "      <th>pocprin</th>\n",
       "      <th>peam15</th>\n",
       "      <th>clúster_ward</th>\n",
       "    </tr>\n",
       "  </thead>\n",
       "  <tbody>\n",
       "    <tr>\n",
       "      <th>0</th>\n",
       "      <td>Ate</td>\n",
       "      <td>1.15</td>\n",
       "      <td>5.3</td>\n",
       "      <td>27.60</td>\n",
       "      <td>51.10</td>\n",
       "      <td>3.90</td>\n",
       "      <td>1.1</td>\n",
       "      <td>63.48</td>\n",
       "      <td>1</td>\n",
       "    </tr>\n",
       "    <tr>\n",
       "      <th>1</th>\n",
       "      <td>Barranco</td>\n",
       "      <td>1.09</td>\n",
       "      <td>4.5</td>\n",
       "      <td>1.59</td>\n",
       "      <td>8.32</td>\n",
       "      <td>0.80</td>\n",
       "      <td>3.9</td>\n",
       "      <td>33.48</td>\n",
       "      <td>0</td>\n",
       "    </tr>\n",
       "    <tr>\n",
       "      <th>2</th>\n",
       "      <td>Breña</td>\n",
       "      <td>1.08</td>\n",
       "      <td>4.4</td>\n",
       "      <td>2.20</td>\n",
       "      <td>23.15</td>\n",
       "      <td>0.90</td>\n",
       "      <td>4.0</td>\n",
       "      <td>37.89</td>\n",
       "      <td>0</td>\n",
       "    </tr>\n",
       "    <tr>\n",
       "      <th>3</th>\n",
       "      <td>Carabayllo</td>\n",
       "      <td>1.10</td>\n",
       "      <td>5.1</td>\n",
       "      <td>30.13</td>\n",
       "      <td>38.09</td>\n",
       "      <td>4.50</td>\n",
       "      <td>12.6</td>\n",
       "      <td>63.65</td>\n",
       "      <td>1</td>\n",
       "    </tr>\n",
       "    <tr>\n",
       "      <th>4</th>\n",
       "      <td>Comas</td>\n",
       "      <td>1.20</td>\n",
       "      <td>5.9</td>\n",
       "      <td>10.92</td>\n",
       "      <td>24.27</td>\n",
       "      <td>3.80</td>\n",
       "      <td>9.4</td>\n",
       "      <td>60.37</td>\n",
       "      <td>0</td>\n",
       "    </tr>\n",
       "    <tr>\n",
       "      <th>5</th>\n",
       "      <td>Chorrillos</td>\n",
       "      <td>1.15</td>\n",
       "      <td>5.5</td>\n",
       "      <td>16.77</td>\n",
       "      <td>37.11</td>\n",
       "      <td>3.20</td>\n",
       "      <td>10.6</td>\n",
       "      <td>18.78</td>\n",
       "      <td>0</td>\n",
       "    </tr>\n",
       "    <tr>\n",
       "      <th>6</th>\n",
       "      <td>Agustino</td>\n",
       "      <td>1.22</td>\n",
       "      <td>6.0</td>\n",
       "      <td>16.42</td>\n",
       "      <td>41.16</td>\n",
       "      <td>4.50</td>\n",
       "      <td>13.5</td>\n",
       "      <td>55.84</td>\n",
       "      <td>1</td>\n",
       "    </tr>\n",
       "    <tr>\n",
       "      <th>7</th>\n",
       "      <td>Independencia</td>\n",
       "      <td>1.19</td>\n",
       "      <td>5.9</td>\n",
       "      <td>9.61</td>\n",
       "      <td>21.58</td>\n",
       "      <td>4.00</td>\n",
       "      <td>10.5</td>\n",
       "      <td>60.16</td>\n",
       "      <td>0</td>\n",
       "    </tr>\n",
       "    <tr>\n",
       "      <th>8</th>\n",
       "      <td>Jesús María</td>\n",
       "      <td>1.03</td>\n",
       "      <td>4.2</td>\n",
       "      <td>0.57</td>\n",
       "      <td>14.78</td>\n",
       "      <td>0.30</td>\n",
       "      <td>3.1</td>\n",
       "      <td>23.52</td>\n",
       "      <td>0</td>\n",
       "    </tr>\n",
       "    <tr>\n",
       "      <th>9</th>\n",
       "      <td>La Victoria</td>\n",
       "      <td>1.06</td>\n",
       "      <td>4.7</td>\n",
       "      <td>3.09</td>\n",
       "      <td>25.79</td>\n",
       "      <td>1.70</td>\n",
       "      <td>7.8</td>\n",
       "      <td>49.21</td>\n",
       "      <td>0</td>\n",
       "    </tr>\n",
       "    <tr>\n",
       "      <th>10</th>\n",
       "      <td>Lima</td>\n",
       "      <td>1.10</td>\n",
       "      <td>4.6</td>\n",
       "      <td>4.55</td>\n",
       "      <td>26.00</td>\n",
       "      <td>1.70</td>\n",
       "      <td>6.6</td>\n",
       "      <td>46.66</td>\n",
       "      <td>0</td>\n",
       "    </tr>\n",
       "    <tr>\n",
       "      <th>11</th>\n",
       "      <td>Lince</td>\n",
       "      <td>1.03</td>\n",
       "      <td>4.1</td>\n",
       "      <td>1.14</td>\n",
       "      <td>20.22</td>\n",
       "      <td>0.50</td>\n",
       "      <td>3.6</td>\n",
       "      <td>29.42</td>\n",
       "      <td>0</td>\n",
       "    </tr>\n",
       "    <tr>\n",
       "      <th>12</th>\n",
       "      <td>Los Olivos</td>\n",
       "      <td>1.11</td>\n",
       "      <td>5.1</td>\n",
       "      <td>30.25</td>\n",
       "      <td>46.18</td>\n",
       "      <td>2.00</td>\n",
       "      <td>6.7</td>\n",
       "      <td>52.80</td>\n",
       "      <td>1</td>\n",
       "    </tr>\n",
       "    <tr>\n",
       "      <th>13</th>\n",
       "      <td>Lurigancho-Chosica</td>\n",
       "      <td>1.10</td>\n",
       "      <td>5.2</td>\n",
       "      <td>32.93</td>\n",
       "      <td>65.76</td>\n",
       "      <td>5.40</td>\n",
       "      <td>14.4</td>\n",
       "      <td>60.66</td>\n",
       "      <td>1</td>\n",
       "    </tr>\n",
       "    <tr>\n",
       "      <th>14</th>\n",
       "      <td>Magdalena del Mar</td>\n",
       "      <td>1.08</td>\n",
       "      <td>4.5</td>\n",
       "      <td>1.41</td>\n",
       "      <td>15.16</td>\n",
       "      <td>0.70</td>\n",
       "      <td>4.1</td>\n",
       "      <td>28.99</td>\n",
       "      <td>0</td>\n",
       "    </tr>\n",
       "    <tr>\n",
       "      <th>15</th>\n",
       "      <td>Pueblo Libre</td>\n",
       "      <td>1.09</td>\n",
       "      <td>4.7</td>\n",
       "      <td>1.24</td>\n",
       "      <td>13.02</td>\n",
       "      <td>0.50</td>\n",
       "      <td>3.9</td>\n",
       "      <td>26.71</td>\n",
       "      <td>0</td>\n",
       "    </tr>\n",
       "    <tr>\n",
       "      <th>16</th>\n",
       "      <td>Miraflores</td>\n",
       "      <td>1.03</td>\n",
       "      <td>3.7</td>\n",
       "      <td>0.67</td>\n",
       "      <td>14.75</td>\n",
       "      <td>0.20</td>\n",
       "      <td>4.0</td>\n",
       "      <td>22.45</td>\n",
       "      <td>0</td>\n",
       "    </tr>\n",
       "    <tr>\n",
       "      <th>17</th>\n",
       "      <td>Rímac</td>\n",
       "      <td>1.12</td>\n",
       "      <td>5.0</td>\n",
       "      <td>7.00</td>\n",
       "      <td>25.60</td>\n",
       "      <td>0.20</td>\n",
       "      <td>6.9</td>\n",
       "      <td>48.75</td>\n",
       "      <td>0</td>\n",
       "    </tr>\n",
       "    <tr>\n",
       "      <th>18</th>\n",
       "      <td>San Borja</td>\n",
       "      <td>1.06</td>\n",
       "      <td>4.8</td>\n",
       "      <td>1.77</td>\n",
       "      <td>8.26</td>\n",
       "      <td>0.40</td>\n",
       "      <td>4.2</td>\n",
       "      <td>18.67</td>\n",
       "      <td>0</td>\n",
       "    </tr>\n",
       "    <tr>\n",
       "      <th>19</th>\n",
       "      <td>San Isidro</td>\n",
       "      <td>1.03</td>\n",
       "      <td>3.9</td>\n",
       "      <td>0.46</td>\n",
       "      <td>13.94</td>\n",
       "      <td>0.10</td>\n",
       "      <td>4.9</td>\n",
       "      <td>16.29</td>\n",
       "      <td>0</td>\n",
       "    </tr>\n",
       "    <tr>\n",
       "      <th>20</th>\n",
       "      <td>San Juan de Lurigancho</td>\n",
       "      <td>1.12</td>\n",
       "      <td>5.2</td>\n",
       "      <td>23.49</td>\n",
       "      <td>50.00</td>\n",
       "      <td>3.60</td>\n",
       "      <td>10.3</td>\n",
       "      <td>61.83</td>\n",
       "      <td>1</td>\n",
       "    </tr>\n",
       "    <tr>\n",
       "      <th>21</th>\n",
       "      <td>San Juan de Miraflores</td>\n",
       "      <td>1.15</td>\n",
       "      <td>5.4</td>\n",
       "      <td>20.14</td>\n",
       "      <td>41.80</td>\n",
       "      <td>4.20</td>\n",
       "      <td>10.8</td>\n",
       "      <td>57.90</td>\n",
       "      <td>1</td>\n",
       "    </tr>\n",
       "    <tr>\n",
       "      <th>22</th>\n",
       "      <td>San Luis</td>\n",
       "      <td>1.10</td>\n",
       "      <td>5.5</td>\n",
       "      <td>3.94</td>\n",
       "      <td>12.36</td>\n",
       "      <td>1.70</td>\n",
       "      <td>7.0</td>\n",
       "      <td>38.61</td>\n",
       "      <td>0</td>\n",
       "    </tr>\n",
       "    <tr>\n",
       "      <th>23</th>\n",
       "      <td>San Martin de Porres</td>\n",
       "      <td>1.18</td>\n",
       "      <td>5.5</td>\n",
       "      <td>9.62</td>\n",
       "      <td>24.04</td>\n",
       "      <td>2.50</td>\n",
       "      <td>6.0</td>\n",
       "      <td>49.33</td>\n",
       "      <td>0</td>\n",
       "    </tr>\n",
       "    <tr>\n",
       "      <th>24</th>\n",
       "      <td>San Miguel</td>\n",
       "      <td>1.11</td>\n",
       "      <td>5.1</td>\n",
       "      <td>4.16</td>\n",
       "      <td>15.04</td>\n",
       "      <td>0.90</td>\n",
       "      <td>4.2</td>\n",
       "      <td>32.34</td>\n",
       "      <td>0</td>\n",
       "    </tr>\n",
       "    <tr>\n",
       "      <th>25</th>\n",
       "      <td>Santa Anita</td>\n",
       "      <td>1.20</td>\n",
       "      <td>6.1</td>\n",
       "      <td>12.14</td>\n",
       "      <td>35.30</td>\n",
       "      <td>3.90</td>\n",
       "      <td>11.8</td>\n",
       "      <td>65.11</td>\n",
       "      <td>1</td>\n",
       "    </tr>\n",
       "    <tr>\n",
       "      <th>26</th>\n",
       "      <td>Surco</td>\n",
       "      <td>1.03</td>\n",
       "      <td>4.5</td>\n",
       "      <td>5.44</td>\n",
       "      <td>15.95</td>\n",
       "      <td>0.90</td>\n",
       "      <td>4.9</td>\n",
       "      <td>27.16</td>\n",
       "      <td>0</td>\n",
       "    </tr>\n",
       "    <tr>\n",
       "      <th>27</th>\n",
       "      <td>Surquillo</td>\n",
       "      <td>1.09</td>\n",
       "      <td>4.7</td>\n",
       "      <td>3.15</td>\n",
       "      <td>21.87</td>\n",
       "      <td>1.20</td>\n",
       "      <td>5.5</td>\n",
       "      <td>38.54</td>\n",
       "      <td>0</td>\n",
       "    </tr>\n",
       "    <tr>\n",
       "      <th>28</th>\n",
       "      <td>Villa el Salvador</td>\n",
       "      <td>1.06</td>\n",
       "      <td>4.8</td>\n",
       "      <td>24.11</td>\n",
       "      <td>38.73</td>\n",
       "      <td>4.20</td>\n",
       "      <td>11.7</td>\n",
       "      <td>64.84</td>\n",
       "      <td>1</td>\n",
       "    </tr>\n",
       "    <tr>\n",
       "      <th>29</th>\n",
       "      <td>Villa María del Triunfo</td>\n",
       "      <td>1.18</td>\n",
       "      <td>5.6</td>\n",
       "      <td>1.79</td>\n",
       "      <td>9.30</td>\n",
       "      <td>2.20</td>\n",
       "      <td>4.6</td>\n",
       "      <td>38.72</td>\n",
       "      <td>0</td>\n",
       "    </tr>\n",
       "    <tr>\n",
       "      <th>30</th>\n",
       "      <td>Callao</td>\n",
       "      <td>1.14</td>\n",
       "      <td>5.3</td>\n",
       "      <td>15.98</td>\n",
       "      <td>33.22</td>\n",
       "      <td>3.20</td>\n",
       "      <td>8.6</td>\n",
       "      <td>56.88</td>\n",
       "      <td>1</td>\n",
       "    </tr>\n",
       "    <tr>\n",
       "      <th>31</th>\n",
       "      <td>Carmen de la Legua</td>\n",
       "      <td>1.33</td>\n",
       "      <td>6.5</td>\n",
       "      <td>2.73</td>\n",
       "      <td>7.02</td>\n",
       "      <td>4.02</td>\n",
       "      <td>8.7</td>\n",
       "      <td>60.97</td>\n",
       "      <td>0</td>\n",
       "    </tr>\n",
       "    <tr>\n",
       "      <th>32</th>\n",
       "      <td>La Perla</td>\n",
       "      <td>1.17</td>\n",
       "      <td>5.3</td>\n",
       "      <td>1.99</td>\n",
       "      <td>9.12</td>\n",
       "      <td>1.50</td>\n",
       "      <td>3.9</td>\n",
       "      <td>38.10</td>\n",
       "      <td>0</td>\n",
       "    </tr>\n",
       "    <tr>\n",
       "      <th>33</th>\n",
       "      <td>La Punta</td>\n",
       "      <td>1.05</td>\n",
       "      <td>4.2</td>\n",
       "      <td>0.35</td>\n",
       "      <td>7.74</td>\n",
       "      <td>0.20</td>\n",
       "      <td>9.0</td>\n",
       "      <td>15.63</td>\n",
       "      <td>0</td>\n",
       "    </tr>\n",
       "  </tbody>\n",
       "</table>\n",
       "</div>"
      ],
      "text/plain": [
       "                   distrito  ocu_vivi  pobpjov  sinelect  sinagua  pea1619  \\\n",
       "0                       Ate      1.15      5.3     27.60    51.10     3.90   \n",
       "1                  Barranco      1.09      4.5      1.59     8.32     0.80   \n",
       "2                     Breña      1.08      4.4      2.20    23.15     0.90   \n",
       "3                Carabayllo      1.10      5.1     30.13    38.09     4.50   \n",
       "4                     Comas      1.20      5.9     10.92    24.27     3.80   \n",
       "5                Chorrillos      1.15      5.5     16.77    37.11     3.20   \n",
       "6                  Agustino      1.22      6.0     16.42    41.16     4.50   \n",
       "7             Independencia      1.19      5.9      9.61    21.58     4.00   \n",
       "8               Jesús María      1.03      4.2      0.57    14.78     0.30   \n",
       "9               La Victoria      1.06      4.7      3.09    25.79     1.70   \n",
       "10                     Lima      1.10      4.6      4.55    26.00     1.70   \n",
       "11                    Lince      1.03      4.1      1.14    20.22     0.50   \n",
       "12               Los Olivos      1.11      5.1     30.25    46.18     2.00   \n",
       "13       Lurigancho-Chosica      1.10      5.2     32.93    65.76     5.40   \n",
       "14        Magdalena del Mar      1.08      4.5      1.41    15.16     0.70   \n",
       "15             Pueblo Libre      1.09      4.7      1.24    13.02     0.50   \n",
       "16               Miraflores      1.03      3.7      0.67    14.75     0.20   \n",
       "17                    Rímac      1.12      5.0      7.00    25.60     0.20   \n",
       "18                San Borja      1.06      4.8      1.77     8.26     0.40   \n",
       "19               San Isidro      1.03      3.9      0.46    13.94     0.10   \n",
       "20   San Juan de Lurigancho      1.12      5.2     23.49    50.00     3.60   \n",
       "21   San Juan de Miraflores      1.15      5.4     20.14    41.80     4.20   \n",
       "22                 San Luis      1.10      5.5      3.94    12.36     1.70   \n",
       "23     San Martin de Porres      1.18      5.5      9.62    24.04     2.50   \n",
       "24               San Miguel      1.11      5.1      4.16    15.04     0.90   \n",
       "25              Santa Anita      1.20      6.1     12.14    35.30     3.90   \n",
       "26                    Surco      1.03      4.5      5.44    15.95     0.90   \n",
       "27                Surquillo      1.09      4.7      3.15    21.87     1.20   \n",
       "28        Villa el Salvador      1.06      4.8     24.11    38.73     4.20   \n",
       "29  Villa María del Triunfo      1.18      5.6      1.79     9.30     2.20   \n",
       "30                   Callao      1.14      5.3     15.98    33.22     3.20   \n",
       "31       Carmen de la Legua      1.33      6.5      2.73     7.02     4.02   \n",
       "32                 La Perla      1.17      5.3      1.99     9.12     1.50   \n",
       "33                 La Punta      1.05      4.2      0.35     7.74     0.20   \n",
       "\n",
       "    pocprin  peam15  clúster_ward  \n",
       "0       1.1   63.48             1  \n",
       "1       3.9   33.48             0  \n",
       "2       4.0   37.89             0  \n",
       "3      12.6   63.65             1  \n",
       "4       9.4   60.37             0  \n",
       "5      10.6   18.78             0  \n",
       "6      13.5   55.84             1  \n",
       "7      10.5   60.16             0  \n",
       "8       3.1   23.52             0  \n",
       "9       7.8   49.21             0  \n",
       "10      6.6   46.66             0  \n",
       "11      3.6   29.42             0  \n",
       "12      6.7   52.80             1  \n",
       "13     14.4   60.66             1  \n",
       "14      4.1   28.99             0  \n",
       "15      3.9   26.71             0  \n",
       "16      4.0   22.45             0  \n",
       "17      6.9   48.75             0  \n",
       "18      4.2   18.67             0  \n",
       "19      4.9   16.29             0  \n",
       "20     10.3   61.83             1  \n",
       "21     10.8   57.90             1  \n",
       "22      7.0   38.61             0  \n",
       "23      6.0   49.33             0  \n",
       "24      4.2   32.34             0  \n",
       "25     11.8   65.11             1  \n",
       "26      4.9   27.16             0  \n",
       "27      5.5   38.54             0  \n",
       "28     11.7   64.84             1  \n",
       "29      4.6   38.72             0  \n",
       "30      8.6   56.88             1  \n",
       "31      8.7   60.97             0  \n",
       "32      3.9   38.10             0  \n",
       "33      9.0   15.63             0  "
      ]
     },
     "execution_count": 17,
     "metadata": {},
     "output_type": "execute_result"
    }
   ],
   "source": [
    "distritos_new = pd.concat([df, cl], axis=1)\n",
    "distritos_new"
   ]
  },
  {
   "cell_type": "markdown",
   "metadata": {},
   "source": [
    "#### Predicción de agrupamiento"
   ]
  },
  {
   "cell_type": "code",
   "execution_count": 18,
   "metadata": {},
   "outputs": [],
   "source": [
    "agg_clust = AgglomerativeClustering(n_clusters=2)"
   ]
  },
  {
   "cell_type": "code",
   "execution_count": 19,
   "metadata": {},
   "outputs": [
    {
     "data": {
      "text/plain": [
       "array([1, 0, 0, 1, 0, 0, 1, 0, 0, 0, 0, 0, 1, 1, 0, 0, 0, 0, 0, 0, 1, 1,\n",
       "       0, 0, 0, 1, 0, 0, 1, 0, 1, 0, 0, 0], dtype=int64)"
      ]
     },
     "execution_count": 19,
     "metadata": {},
     "output_type": "execute_result"
    }
   ],
   "source": [
    "assigned_clust = agg_clust.fit_predict(X)\n",
    "assigned_clust"
   ]
  },
  {
   "cell_type": "code",
   "execution_count": 20,
   "metadata": {},
   "outputs": [
    {
     "data": {
      "image/png": "[encoded data removed]",
      "text/plain": [
       "<Figure size 432x288 with 1 Axes>"
      ]
     },
     "metadata": {
      "needs_background": "light"
     },
     "output_type": "display_data"
    }
   ],
   "source": [
    "plt.scatter(X[:, 2], \n",
    "            X[:, 3], \n",
    "            c = assigned_clust, \n",
    "            s = 20);"
   ]
  },
  {
   "cell_type": "markdown",
   "metadata": {},
   "source": [
    "En el plot se puede apreciar que el algoritmo funcionó bastante bien. Se muestran algunos puntos que aparentemente se encuentran mal agrupados, pero los que se muestran así parecen bastante razonables, ya que están muy cerca de otros grupos."
   ]
  },
  {
   "cell_type": "markdown",
   "metadata": {},
   "source": [
    "#### Número óptimo de clúster"
   ]
  },
  {
   "cell_type": "markdown",
   "metadata": {},
   "source": [
    "El coeficiente de silueta se calcula utilizando la distancia media dentro del grupo ( a) y la distancia media más cercana al grupo ( b) para cada muestra."
   ]
  },
  {
   "cell_type": "markdown",
   "metadata": {},
   "source": [
    "El mejor valor es 1 y el peor valor es -1. Los valores cercanos a 0 indican grupos superpuestos. Los valores negativos generalmente indican que se ha asignado una muestra al grupo incorrecto, ya que un grupo diferente es más similar."
   ]
  },
  {
   "cell_type": "code",
   "execution_count": 21,
   "metadata": {},
   "outputs": [],
   "source": [
    "from sklearn.metrics import euclidean_distances, silhouette_score"
   ]
  },
  {
   "cell_type": "code",
   "execution_count": 23,
   "metadata": {},
   "outputs": [
    {
     "data": {
      "text/plain": [
       "Text(0.5, 1.0, 'Silouette para data distritos')"
      ]
     },
     "execution_count": 23,
     "metadata": {},
     "output_type": "execute_result"
    },
    {
     "data": {
      "image/png": "[encoded data removed]",
      "text/plain": [
       "<Figure size 432x288 with 1 Axes>"
      ]
     },
     "metadata": {
      "needs_background": "light"
     },
     "output_type": "display_data"
    }
   ],
   "source": [
    "s = []#objeto vacio de tipo lista\n",
    "\n",
    "for n_clusters in range(2,11):\n",
    "    hc = AgglomerativeClustering(n_clusters = n_clusters, \n",
    "                             affinity = 'euclidean', \n",
    "                             linkage = 'ward')\n",
    "    #hc.fit(X)\n",
    "\n",
    "    #labels = hc.fit_predict(X)\n",
    "    #centroids = kmeans.cluster_centers_\n",
    "\n",
    "    s.append(silhouette_score(X,#valores de las Xs\n",
    "                              hc.fit_predict(X))) #etiquetas de clúster\n",
    "\n",
    "plt.plot(range(2,11), s)\n",
    "plt.ylabel(\"Silouette\")\n",
    "plt.xlabel(\"k\")\n",
    "plt.title(\"Silouette para data distritos\")\n",
    "#sns.despine()"
   ]
  }
 ],
 "metadata": {
  "kernelspec": {
   "display_name": "Python 3",
   "language": "python",
   "name": "python3"
  },
  "language_info": {
   "codemirror_mode": {
    "name": "ipython",
    "version": 3
   },
   "file_extension": ".py",
   "mimetype": "text/x-python",
   "name": "python",
   "nbconvert_exporter": "python",
   "pygments_lexer": "ipython3",
   "version": "3.7.6"
  }
 },
 "nbformat": 4,
 "nbformat_minor": 2
}
