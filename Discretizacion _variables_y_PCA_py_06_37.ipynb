{
 "cells": [
  {
   "cell_type": "markdown",
   "metadata": {},
   "source": [
    "**Discretización**"
   ]
  },
  {
   "cell_type": "markdown",
   "metadata": {},
   "source": [
    "**Edad**"
   ]
  },
  {
   "cell_type": "code",
   "execution_count": null,
   "metadata": {},
   "outputs": [],
   "source": [
    "x     y\n",
    "25    1 (reclaman)\n",
    "35    0\n",
    "41    0\n",
    "28    1 (reclaman)\n",
    "29    1 (reclaman)\n",
    ".\n",
    ".\n",
    ".\n",
    "10 k casos"
   ]
  },
  {
   "cell_type": "markdown",
   "metadata": {},
   "source": [
    "**Naive Bayes**: basado en la **probabilidad condicional**"
   ]
  },
  {
   "cell_type": "code",
   "execution_count": null,
   "metadata": {},
   "outputs": [],
   "source": [
    "Pr(x=¿?|y=1)"
   ]
  },
  {
   "cell_type": "code",
   "execution_count": null,
   "metadata": {},
   "outputs": [],
   "source": [
    "Pr(x=20|y=1)=0.1\n",
    "Pr(x=21|y=1)=0.01\n",
    "Pr(x=22|y=1)=0.1\n",
    ".\n",
    ".\n",
    ".\n",
    "Pr(x=58|y=1)=0.005"
   ]
  },
  {
   "cell_type": "markdown",
   "metadata": {},
   "source": [
    "**¿Cómo discretizo una variable?**"
   ]
  },
  {
   "cell_type": "code",
   "execution_count": null,
   "metadata": {},
   "outputs": [],
   "source": [
    "1 = 20-30\n",
    "2 = 31-45\n",
    "3 = +45"
   ]
  },
  {
   "cell_type": "code",
   "execution_count": null,
   "metadata": {},
   "outputs": [],
   "source": [
    "Pr(x=1|y=1)=0.25\n",
    "Pr(x=2|y=1)=0.50\n",
    "Pr(x=3|y=1)=0.25"
   ]
  },
  {
   "cell_type": "markdown",
   "metadata": {},
   "source": [
    "**Árboles de decisión**"
   ]
  },
  {
   "cell_type": "markdown",
   "metadata": {},
   "source": [
    "**impureza**: error del árbol (entropia o gini)"
   ]
  },
  {
   "cell_type": "code",
   "execution_count": null,
   "metadata": {},
   "outputs": [],
   "source": [
    "a=6\n",
    "d=4"
   ]
  },
  {
   "cell_type": "markdown",
   "metadata": {},
   "source": [
    "impureza inicial"
   ]
  },
  {
   "cell_type": "markdown",
   "metadata": {},
   "source": [
    "**Nota**: las variables que se agregan al modelo de árbol son discretas, si no lo son el modelo de árbol las discretiza utilizando entropia."
   ]
  },
  {
   "cell_type": "markdown",
   "metadata": {},
   "source": [
    "**Discretización por intervalos de igual amplitud**"
   ]
  },
  {
   "cell_type": "code",
   "execution_count": 29,
   "metadata": {},
   "outputs": [],
   "source": [
    "from sklearn.preprocessing import KBinsDiscretizer\n",
    "import math as m\n",
    "import pandas as pd\n",
    "import numpy as np"
   ]
  },
  {
   "cell_type": "code",
   "execution_count": 30,
   "metadata": {},
   "outputs": [],
   "source": [
    "data = pd.read_csv(\"D:/Python/1. Nivel I/7/datos/data.csv\")"
   ]
  },
  {
   "cell_type": "code",
   "execution_count": 31,
   "metadata": {},
   "outputs": [
    {
     "data": {
      "text/html": [
       "<div>\n",
       "<style scoped>\n",
       "    .dataframe tbody tr th:only-of-type {\n",
       "        vertical-align: middle;\n",
       "    }\n",
       "\n",
       "    .dataframe tbody tr th {\n",
       "        vertical-align: top;\n",
       "    }\n",
       "\n",
       "    .dataframe thead th {\n",
       "        text-align: right;\n",
       "    }\n",
       "</style>\n",
       "<table border=\"1\" class=\"dataframe\">\n",
       "  <thead>\n",
       "    <tr style=\"text-align: right;\">\n",
       "      <th></th>\n",
       "      <th>Unnamed: 0</th>\n",
       "      <th>rsrp</th>\n",
       "      <th>redireccion</th>\n",
       "      <th>cqi</th>\n",
       "      <th>incidentes</th>\n",
       "    </tr>\n",
       "  </thead>\n",
       "  <tbody>\n",
       "    <tr>\n",
       "      <th>0</th>\n",
       "      <td>0</td>\n",
       "      <td>-116.5000</td>\n",
       "      <td>90890.42778</td>\n",
       "      <td>8.138370</td>\n",
       "      <td>0</td>\n",
       "    </tr>\n",
       "    <tr>\n",
       "      <th>1</th>\n",
       "      <td>1</td>\n",
       "      <td>-115.1875</td>\n",
       "      <td>91193.46144</td>\n",
       "      <td>9.140266</td>\n",
       "      <td>0</td>\n",
       "    </tr>\n",
       "    <tr>\n",
       "      <th>2</th>\n",
       "      <td>2</td>\n",
       "      <td>-119.1250</td>\n",
       "      <td>91877.50918</td>\n",
       "      <td>7.808917</td>\n",
       "      <td>0</td>\n",
       "    </tr>\n",
       "    <tr>\n",
       "      <th>3</th>\n",
       "      <td>3</td>\n",
       "      <td>-111.8125</td>\n",
       "      <td>92049.63360</td>\n",
       "      <td>8.878271</td>\n",
       "      <td>0</td>\n",
       "    </tr>\n",
       "    <tr>\n",
       "      <th>4</th>\n",
       "      <td>4</td>\n",
       "      <td>-115.1875</td>\n",
       "      <td>92275.58028</td>\n",
       "      <td>9.051622</td>\n",
       "      <td>0</td>\n",
       "    </tr>\n",
       "  </tbody>\n",
       "</table>\n",
       "</div>"
      ],
      "text/plain": [
       "   Unnamed: 0      rsrp  redireccion       cqi  incidentes\n",
       "0           0 -116.5000  90890.42778  8.138370           0\n",
       "1           1 -115.1875  91193.46144  9.140266           0\n",
       "2           2 -119.1250  91877.50918  7.808917           0\n",
       "3           3 -111.8125  92049.63360  8.878271           0\n",
       "4           4 -115.1875  92275.58028  9.051622           0"
      ]
     },
     "execution_count": 31,
     "metadata": {},
     "output_type": "execute_result"
    }
   ],
   "source": [
    "data.head()"
   ]
  },
  {
   "cell_type": "code",
   "execution_count": 32,
   "metadata": {},
   "outputs": [],
   "source": [
    "data.drop(columns=\"Unnamed: 0\",axis=1, inplace=True)"
   ]
  },
  {
   "cell_type": "code",
   "execution_count": 33,
   "metadata": {},
   "outputs": [
    {
     "data": {
      "text/html": [
       "<div>\n",
       "<style scoped>\n",
       "    .dataframe tbody tr th:only-of-type {\n",
       "        vertical-align: middle;\n",
       "    }\n",
       "\n",
       "    .dataframe tbody tr th {\n",
       "        vertical-align: top;\n",
       "    }\n",
       "\n",
       "    .dataframe thead th {\n",
       "        text-align: right;\n",
       "    }\n",
       "</style>\n",
       "<table border=\"1\" class=\"dataframe\">\n",
       "  <thead>\n",
       "    <tr style=\"text-align: right;\">\n",
       "      <th></th>\n",
       "      <th>rsrp</th>\n",
       "      <th>redireccion</th>\n",
       "      <th>cqi</th>\n",
       "      <th>incidentes</th>\n",
       "    </tr>\n",
       "  </thead>\n",
       "  <tbody>\n",
       "    <tr>\n",
       "      <th>0</th>\n",
       "      <td>-116.5000</td>\n",
       "      <td>90890.42778</td>\n",
       "      <td>8.138370</td>\n",
       "      <td>0</td>\n",
       "    </tr>\n",
       "    <tr>\n",
       "      <th>1</th>\n",
       "      <td>-115.1875</td>\n",
       "      <td>91193.46144</td>\n",
       "      <td>9.140266</td>\n",
       "      <td>0</td>\n",
       "    </tr>\n",
       "    <tr>\n",
       "      <th>2</th>\n",
       "      <td>-119.1250</td>\n",
       "      <td>91877.50918</td>\n",
       "      <td>7.808917</td>\n",
       "      <td>0</td>\n",
       "    </tr>\n",
       "    <tr>\n",
       "      <th>3</th>\n",
       "      <td>-111.8125</td>\n",
       "      <td>92049.63360</td>\n",
       "      <td>8.878271</td>\n",
       "      <td>0</td>\n",
       "    </tr>\n",
       "    <tr>\n",
       "      <th>4</th>\n",
       "      <td>-115.1875</td>\n",
       "      <td>92275.58028</td>\n",
       "      <td>9.051622</td>\n",
       "      <td>0</td>\n",
       "    </tr>\n",
       "  </tbody>\n",
       "</table>\n",
       "</div>"
      ],
      "text/plain": [
       "       rsrp  redireccion       cqi  incidentes\n",
       "0 -116.5000  90890.42778  8.138370           0\n",
       "1 -115.1875  91193.46144  9.140266           0\n",
       "2 -119.1250  91877.50918  7.808917           0\n",
       "3 -111.8125  92049.63360  8.878271           0\n",
       "4 -115.1875  92275.58028  9.051622           0"
      ]
     },
     "execution_count": 33,
     "metadata": {},
     "output_type": "execute_result"
    }
   ],
   "source": [
    "data.head()"
   ]
  },
  {
   "cell_type": "code",
   "execution_count": 9,
   "metadata": {},
   "outputs": [
    {
     "data": {
      "text/plain": [
       "4.0703296661377"
      ]
     },
     "execution_count": 9,
     "metadata": {},
     "output_type": "execute_result"
    }
   ],
   "source": [
    "data[\"cqi\"].min()"
   ]
  },
  {
   "cell_type": "code",
   "execution_count": 10,
   "metadata": {},
   "outputs": [
    {
     "data": {
      "text/plain": [
       "11.62320369482"
      ]
     },
     "execution_count": 10,
     "metadata": {},
     "output_type": "execute_result"
    }
   ],
   "source": [
    "data[\"cqi\"].max()"
   ]
  },
  {
   "cell_type": "code",
   "execution_count": 11,
   "metadata": {},
   "outputs": [
    {
     "name": "stdout",
     "output_type": "stream",
     "text": [
      "7.552874028682301\n"
     ]
    }
   ],
   "source": [
    "rango = data[\"cqi\"].max() - data[\"cqi\"].min(); print(rango)"
   ]
  },
  {
   "cell_type": "code",
   "execution_count": 16,
   "metadata": {},
   "outputs": [
    {
     "data": {
      "text/plain": [
       "11.62320369482"
      ]
     },
     "execution_count": 16,
     "metadata": {},
     "output_type": "execute_result"
    }
   ],
   "source": [
    "(4*(rango/4)) + 4.0703296661377"
   ]
  },
  {
   "cell_type": "code",
   "execution_count": 17,
   "metadata": {},
   "outputs": [
    {
     "data": {
      "text/plain": [
       "1.8882185071705753"
      ]
     },
     "execution_count": 17,
     "metadata": {},
     "output_type": "execute_result"
    }
   ],
   "source": [
    "rango/4"
   ]
  },
  {
   "cell_type": "code",
   "execution_count": null,
   "metadata": {},
   "outputs": [],
   "source": [
    "4.0703296661377 - 5.958548173308275  ---> categoría 1\n",
    "5.958548173308275 - 7.846766680478851 --> categoría 2\n",
    "7.846766680478851 - 9.734985187649425 --> categoría 3\n",
    "9.734985187649425 - 11.62320369482 -->    categoría 4"
   ]
  },
  {
   "cell_type": "markdown",
   "metadata": {},
   "source": [
    "**¿Cómo determino el número de categorías?**"
   ]
  },
  {
   "cell_type": "code",
   "execution_count": 34,
   "metadata": {},
   "outputs": [
    {
     "name": "stdout",
     "output_type": "stream",
     "text": [
      "12.0\n"
     ]
    }
   ],
   "source": [
    "sturges = round(1+ m.log2(len(data)),0); print(sturges)"
   ]
  },
  {
   "cell_type": "code",
   "execution_count": 19,
   "metadata": {},
   "outputs": [
    {
     "data": {
      "text/plain": [
       "0.6294061690568584"
      ]
     },
     "execution_count": 19,
     "metadata": {},
     "output_type": "execute_result"
    }
   ],
   "source": [
    "rango/sturges"
   ]
  },
  {
   "cell_type": "markdown",
   "metadata": {},
   "source": [
    "**función KBinsDiscretizer()**"
   ]
  },
  {
   "cell_type": "markdown",
   "metadata": {},
   "source": [
    "**Nota**: este proceso de discretización está afectado por la presencia de valores atípicos. No es recomendable aplicarlo cuando ustedes noten la presencia de valores atípicos"
   ]
  },
  {
   "cell_type": "code",
   "execution_count": 35,
   "metadata": {},
   "outputs": [],
   "source": [
    "amplitud =  KBinsDiscretizer(n_bins=12, #número de categorías de la variable\n",
    "                            encode=\"ordinal\", #son de naturaleza ordinal\n",
    "                            strategy=\"uniform\") #uniform= discretización por intervalos de igual amplitud"
   ]
  },
  {
   "cell_type": "code",
   "execution_count": 36,
   "metadata": {},
   "outputs": [],
   "source": [
    "data[\"cqi_inter_amplitud\"]= amplitud.fit_transform(data[[\"cqi\"]])"
   ]
  },
  {
   "cell_type": "code",
   "execution_count": 37,
   "metadata": {},
   "outputs": [
    {
     "data": {
      "text/html": [
       "<div>\n",
       "<style scoped>\n",
       "    .dataframe tbody tr th:only-of-type {\n",
       "        vertical-align: middle;\n",
       "    }\n",
       "\n",
       "    .dataframe tbody tr th {\n",
       "        vertical-align: top;\n",
       "    }\n",
       "\n",
       "    .dataframe thead th {\n",
       "        text-align: right;\n",
       "    }\n",
       "</style>\n",
       "<table border=\"1\" class=\"dataframe\">\n",
       "  <thead>\n",
       "    <tr style=\"text-align: right;\">\n",
       "      <th></th>\n",
       "      <th>rsrp</th>\n",
       "      <th>redireccion</th>\n",
       "      <th>cqi</th>\n",
       "      <th>incidentes</th>\n",
       "      <th>cqi_inter_amplitud</th>\n",
       "    </tr>\n",
       "  </thead>\n",
       "  <tbody>\n",
       "    <tr>\n",
       "      <th>0</th>\n",
       "      <td>-116.5000</td>\n",
       "      <td>90890.42778</td>\n",
       "      <td>8.138370</td>\n",
       "      <td>0</td>\n",
       "      <td>6.0</td>\n",
       "    </tr>\n",
       "    <tr>\n",
       "      <th>1</th>\n",
       "      <td>-115.1875</td>\n",
       "      <td>91193.46144</td>\n",
       "      <td>9.140266</td>\n",
       "      <td>0</td>\n",
       "      <td>8.0</td>\n",
       "    </tr>\n",
       "    <tr>\n",
       "      <th>2</th>\n",
       "      <td>-119.1250</td>\n",
       "      <td>91877.50918</td>\n",
       "      <td>7.808917</td>\n",
       "      <td>0</td>\n",
       "      <td>5.0</td>\n",
       "    </tr>\n",
       "    <tr>\n",
       "      <th>3</th>\n",
       "      <td>-111.8125</td>\n",
       "      <td>92049.63360</td>\n",
       "      <td>8.878271</td>\n",
       "      <td>0</td>\n",
       "      <td>7.0</td>\n",
       "    </tr>\n",
       "    <tr>\n",
       "      <th>4</th>\n",
       "      <td>-115.1875</td>\n",
       "      <td>92275.58028</td>\n",
       "      <td>9.051622</td>\n",
       "      <td>0</td>\n",
       "      <td>7.0</td>\n",
       "    </tr>\n",
       "  </tbody>\n",
       "</table>\n",
       "</div>"
      ],
      "text/plain": [
       "       rsrp  redireccion       cqi  incidentes  cqi_inter_amplitud\n",
       "0 -116.5000  90890.42778  8.138370           0                 6.0\n",
       "1 -115.1875  91193.46144  9.140266           0                 8.0\n",
       "2 -119.1250  91877.50918  7.808917           0                 5.0\n",
       "3 -111.8125  92049.63360  8.878271           0                 7.0\n",
       "4 -115.1875  92275.58028  9.051622           0                 7.0"
      ]
     },
     "execution_count": 37,
     "metadata": {},
     "output_type": "execute_result"
    }
   ],
   "source": [
    "data.head()"
   ]
  },
  {
   "cell_type": "markdown",
   "metadata": {},
   "source": [
    "**Discretización por intervalos de igual frecuencia o discretización cuantil**"
   ]
  },
  {
   "cell_type": "code",
   "execution_count": 23,
   "metadata": {},
   "outputs": [],
   "source": [
    "datan = [4,3,2,6,8,2,5,6]"
   ]
  },
  {
   "cell_type": "markdown",
   "metadata": {},
   "source": [
    "**Paso 1**: de forma ascendente los valores de la variable"
   ]
  },
  {
   "cell_type": "code",
   "execution_count": 24,
   "metadata": {},
   "outputs": [],
   "source": [
    "datan = [2,2,3,4,5,6,6,8]"
   ]
  },
  {
   "cell_type": "markdown",
   "metadata": {},
   "source": [
    "**Paso 2: cuartiles [0.25,0.50,0.75,1]**"
   ]
  },
  {
   "cell_type": "code",
   "execution_count": null,
   "metadata": {},
   "outputs": [],
   "source": [
    "categoría 1 = [2,2]\n",
    "categoría 2 = [3,4]\n",
    "categoría 3 = [5,6,6]\n",
    "categoría 4 = [8]"
   ]
  },
  {
   "cell_type": "code",
   "execution_count": 38,
   "metadata": {},
   "outputs": [],
   "source": [
    "cuartil =  KBinsDiscretizer(n_bins=4, #número de categorías de la variable\n",
    "                            encode=\"ordinal\", #son de naturaleza ordinal\n",
    "                            strategy=\"quantile\") #quantile= discretización por intervalos de igual frecuencia"
   ]
  },
  {
   "cell_type": "code",
   "execution_count": 39,
   "metadata": {},
   "outputs": [],
   "source": [
    "data[\"cqi_cuartil\"]= cuartil.fit_transform(data[[\"cqi\"]])"
   ]
  },
  {
   "cell_type": "code",
   "execution_count": 40,
   "metadata": {},
   "outputs": [
    {
     "data": {
      "text/html": [
       "<div>\n",
       "<style scoped>\n",
       "    .dataframe tbody tr th:only-of-type {\n",
       "        vertical-align: middle;\n",
       "    }\n",
       "\n",
       "    .dataframe tbody tr th {\n",
       "        vertical-align: top;\n",
       "    }\n",
       "\n",
       "    .dataframe thead th {\n",
       "        text-align: right;\n",
       "    }\n",
       "</style>\n",
       "<table border=\"1\" class=\"dataframe\">\n",
       "  <thead>\n",
       "    <tr style=\"text-align: right;\">\n",
       "      <th></th>\n",
       "      <th>rsrp</th>\n",
       "      <th>redireccion</th>\n",
       "      <th>cqi</th>\n",
       "      <th>incidentes</th>\n",
       "      <th>cqi_inter_amplitud</th>\n",
       "      <th>cqi_cuartil</th>\n",
       "    </tr>\n",
       "  </thead>\n",
       "  <tbody>\n",
       "    <tr>\n",
       "      <th>0</th>\n",
       "      <td>-116.5000</td>\n",
       "      <td>90890.42778</td>\n",
       "      <td>8.138370</td>\n",
       "      <td>0</td>\n",
       "      <td>6.0</td>\n",
       "      <td>1.0</td>\n",
       "    </tr>\n",
       "    <tr>\n",
       "      <th>1</th>\n",
       "      <td>-115.1875</td>\n",
       "      <td>91193.46144</td>\n",
       "      <td>9.140266</td>\n",
       "      <td>0</td>\n",
       "      <td>8.0</td>\n",
       "      <td>2.0</td>\n",
       "    </tr>\n",
       "    <tr>\n",
       "      <th>2</th>\n",
       "      <td>-119.1250</td>\n",
       "      <td>91877.50918</td>\n",
       "      <td>7.808917</td>\n",
       "      <td>0</td>\n",
       "      <td>5.0</td>\n",
       "      <td>0.0</td>\n",
       "    </tr>\n",
       "    <tr>\n",
       "      <th>3</th>\n",
       "      <td>-111.8125</td>\n",
       "      <td>92049.63360</td>\n",
       "      <td>8.878271</td>\n",
       "      <td>0</td>\n",
       "      <td>7.0</td>\n",
       "      <td>2.0</td>\n",
       "    </tr>\n",
       "    <tr>\n",
       "      <th>4</th>\n",
       "      <td>-115.1875</td>\n",
       "      <td>92275.58028</td>\n",
       "      <td>9.051622</td>\n",
       "      <td>0</td>\n",
       "      <td>7.0</td>\n",
       "      <td>2.0</td>\n",
       "    </tr>\n",
       "  </tbody>\n",
       "</table>\n",
       "</div>"
      ],
      "text/plain": [
       "       rsrp  redireccion       cqi  incidentes  cqi_inter_amplitud  \\\n",
       "0 -116.5000  90890.42778  8.138370           0                 6.0   \n",
       "1 -115.1875  91193.46144  9.140266           0                 8.0   \n",
       "2 -119.1250  91877.50918  7.808917           0                 5.0   \n",
       "3 -111.8125  92049.63360  8.878271           0                 7.0   \n",
       "4 -115.1875  92275.58028  9.051622           0                 7.0   \n",
       "\n",
       "   cqi_cuartil  \n",
       "0          1.0  \n",
       "1          2.0  \n",
       "2          0.0  \n",
       "3          2.0  \n",
       "4          2.0  "
      ]
     },
     "execution_count": 40,
     "metadata": {},
     "output_type": "execute_result"
    }
   ],
   "source": [
    "data.head()"
   ]
  },
  {
   "cell_type": "markdown",
   "metadata": {},
   "source": [
    "**Discretización por KMeans**"
   ]
  },
  {
   "cell_type": "markdown",
   "metadata": {},
   "source": [
    "<center><img src=\"https://miro.medium.com/max/963/1*Qu9vtRFFrQ1_4jj4Nu__BQ.jpeg\" width=\"700\"></center>"
   ]
  },
  {
   "cell_type": "code",
   "execution_count": 41,
   "metadata": {},
   "outputs": [],
   "source": [
    "datos = [23,25,22,29,36,41,38,18]"
   ]
  },
  {
   "cell_type": "code",
   "execution_count": 42,
   "metadata": {},
   "outputs": [],
   "source": [
    "c1= 26\n",
    "c2= 32"
   ]
  },
  {
   "cell_type": "code",
   "execution_count": 43,
   "metadata": {},
   "outputs": [],
   "source": [
    "data_cl = [1,1,1,2,2,2,2,1]"
   ]
  },
  {
   "cell_type": "code",
   "execution_count": null,
   "metadata": {},
   "outputs": [],
   "source": [
    "c1= 22\n",
    "c2= 36"
   ]
  },
  {
   "cell_type": "code",
   "execution_count": 45,
   "metadata": {},
   "outputs": [],
   "source": [
    "data_cl = [1,1,1,1,2,2,2,1]"
   ]
  },
  {
   "cell_type": "code",
   "execution_count": null,
   "metadata": {},
   "outputs": [],
   "source": [
    "c1= 23.4\n",
    "c2= 38.33"
   ]
  },
  {
   "cell_type": "code",
   "execution_count": 48,
   "metadata": {},
   "outputs": [],
   "source": [
    "data_cl = [1,1,1,1,2,2,2,1]"
   ]
  },
  {
   "cell_type": "markdown",
   "metadata": {},
   "source": [
    "**El algoritmo se detiene porque las observaciones dejan de reasignarse a otro cluster**"
   ]
  },
  {
   "cell_type": "code",
   "execution_count": 52,
   "metadata": {},
   "outputs": [],
   "source": [
    "df = pd.DataFrame(datos,columns=[\"edad\"])"
   ]
  },
  {
   "cell_type": "code",
   "execution_count": 53,
   "metadata": {},
   "outputs": [
    {
     "data": {
      "text/html": [
       "<div>\n",
       "<style scoped>\n",
       "    .dataframe tbody tr th:only-of-type {\n",
       "        vertical-align: middle;\n",
       "    }\n",
       "\n",
       "    .dataframe tbody tr th {\n",
       "        vertical-align: top;\n",
       "    }\n",
       "\n",
       "    .dataframe thead th {\n",
       "        text-align: right;\n",
       "    }\n",
       "</style>\n",
       "<table border=\"1\" class=\"dataframe\">\n",
       "  <thead>\n",
       "    <tr style=\"text-align: right;\">\n",
       "      <th></th>\n",
       "      <th>edad</th>\n",
       "    </tr>\n",
       "  </thead>\n",
       "  <tbody>\n",
       "    <tr>\n",
       "      <th>0</th>\n",
       "      <td>23</td>\n",
       "    </tr>\n",
       "    <tr>\n",
       "      <th>1</th>\n",
       "      <td>25</td>\n",
       "    </tr>\n",
       "    <tr>\n",
       "      <th>2</th>\n",
       "      <td>22</td>\n",
       "    </tr>\n",
       "    <tr>\n",
       "      <th>3</th>\n",
       "      <td>29</td>\n",
       "    </tr>\n",
       "    <tr>\n",
       "      <th>4</th>\n",
       "      <td>36</td>\n",
       "    </tr>\n",
       "    <tr>\n",
       "      <th>5</th>\n",
       "      <td>41</td>\n",
       "    </tr>\n",
       "    <tr>\n",
       "      <th>6</th>\n",
       "      <td>38</td>\n",
       "    </tr>\n",
       "    <tr>\n",
       "      <th>7</th>\n",
       "      <td>18</td>\n",
       "    </tr>\n",
       "  </tbody>\n",
       "</table>\n",
       "</div>"
      ],
      "text/plain": [
       "   edad\n",
       "0    23\n",
       "1    25\n",
       "2    22\n",
       "3    29\n",
       "4    36\n",
       "5    41\n",
       "6    38\n",
       "7    18"
      ]
     },
     "execution_count": 53,
     "metadata": {},
     "output_type": "execute_result"
    }
   ],
   "source": [
    "df"
   ]
  },
  {
   "cell_type": "code",
   "execution_count": 54,
   "metadata": {},
   "outputs": [],
   "source": [
    "kmeans =  KBinsDiscretizer(n_bins=2, #número de categorías de la variable\n",
    "                            encode=\"ordinal\", #son de naturaleza ordinal\n",
    "                            strategy=\"kmeans\") #kmeans= discretización por k-medias"
   ]
  },
  {
   "cell_type": "code",
   "execution_count": 57,
   "metadata": {},
   "outputs": [],
   "source": [
    "df[\"edad_kmeans\"]=kmeans.fit_transform(df[[\"edad\"]])+1"
   ]
  },
  {
   "cell_type": "code",
   "execution_count": 58,
   "metadata": {},
   "outputs": [
    {
     "data": {
      "text/html": [
       "<div>\n",
       "<style scoped>\n",
       "    .dataframe tbody tr th:only-of-type {\n",
       "        vertical-align: middle;\n",
       "    }\n",
       "\n",
       "    .dataframe tbody tr th {\n",
       "        vertical-align: top;\n",
       "    }\n",
       "\n",
       "    .dataframe thead th {\n",
       "        text-align: right;\n",
       "    }\n",
       "</style>\n",
       "<table border=\"1\" class=\"dataframe\">\n",
       "  <thead>\n",
       "    <tr style=\"text-align: right;\">\n",
       "      <th></th>\n",
       "      <th>edad</th>\n",
       "      <th>edad_kmeans</th>\n",
       "    </tr>\n",
       "  </thead>\n",
       "  <tbody>\n",
       "    <tr>\n",
       "      <th>0</th>\n",
       "      <td>23</td>\n",
       "      <td>1.0</td>\n",
       "    </tr>\n",
       "    <tr>\n",
       "      <th>1</th>\n",
       "      <td>25</td>\n",
       "      <td>1.0</td>\n",
       "    </tr>\n",
       "    <tr>\n",
       "      <th>2</th>\n",
       "      <td>22</td>\n",
       "      <td>1.0</td>\n",
       "    </tr>\n",
       "    <tr>\n",
       "      <th>3</th>\n",
       "      <td>29</td>\n",
       "      <td>1.0</td>\n",
       "    </tr>\n",
       "    <tr>\n",
       "      <th>4</th>\n",
       "      <td>36</td>\n",
       "      <td>2.0</td>\n",
       "    </tr>\n",
       "    <tr>\n",
       "      <th>5</th>\n",
       "      <td>41</td>\n",
       "      <td>2.0</td>\n",
       "    </tr>\n",
       "    <tr>\n",
       "      <th>6</th>\n",
       "      <td>38</td>\n",
       "      <td>2.0</td>\n",
       "    </tr>\n",
       "    <tr>\n",
       "      <th>7</th>\n",
       "      <td>18</td>\n",
       "      <td>1.0</td>\n",
       "    </tr>\n",
       "  </tbody>\n",
       "</table>\n",
       "</div>"
      ],
      "text/plain": [
       "   edad  edad_kmeans\n",
       "0    23          1.0\n",
       "1    25          1.0\n",
       "2    22          1.0\n",
       "3    29          1.0\n",
       "4    36          2.0\n",
       "5    41          2.0\n",
       "6    38          2.0\n",
       "7    18          1.0"
      ]
     },
     "execution_count": 58,
     "metadata": {},
     "output_type": "execute_result"
    }
   ],
   "source": [
    "df"
   ]
  },
  {
   "cell_type": "code",
   "execution_count": null,
   "metadata": {},
   "outputs": [],
   "source": [
    "data_cl = [1,1,1,1,2,2,2,1]"
   ]
  },
  {
   "cell_type": "markdown",
   "metadata": {},
   "source": [
    "**Nota**: K-means está afecta a la presencia de valores atípicos"
   ]
  },
  {
   "cell_type": "code",
   "execution_count": 59,
   "metadata": {},
   "outputs": [],
   "source": [
    "kmeans =  KBinsDiscretizer(n_bins=2, #número de categorías de la variable\n",
    "                            encode=\"ordinal\", #son de naturaleza ordinal\n",
    "                            strategy=\"kmeans\") #kmeans= discretización por k-medias"
   ]
  },
  {
   "cell_type": "code",
   "execution_count": 60,
   "metadata": {},
   "outputs": [],
   "source": [
    "data[\"cqi_kmeans\"]= kmeans.fit_transform(data[[\"cqi\"]])"
   ]
  },
  {
   "cell_type": "code",
   "execution_count": 61,
   "metadata": {},
   "outputs": [
    {
     "data": {
      "text/html": [
       "<div>\n",
       "<style scoped>\n",
       "    .dataframe tbody tr th:only-of-type {\n",
       "        vertical-align: middle;\n",
       "    }\n",
       "\n",
       "    .dataframe tbody tr th {\n",
       "        vertical-align: top;\n",
       "    }\n",
       "\n",
       "    .dataframe thead th {\n",
       "        text-align: right;\n",
       "    }\n",
       "</style>\n",
       "<table border=\"1\" class=\"dataframe\">\n",
       "  <thead>\n",
       "    <tr style=\"text-align: right;\">\n",
       "      <th></th>\n",
       "      <th>rsrp</th>\n",
       "      <th>redireccion</th>\n",
       "      <th>cqi</th>\n",
       "      <th>incidentes</th>\n",
       "      <th>cqi_inter_amplitud</th>\n",
       "      <th>cqi_cuartil</th>\n",
       "      <th>cqi_kmeans</th>\n",
       "    </tr>\n",
       "  </thead>\n",
       "  <tbody>\n",
       "    <tr>\n",
       "      <th>0</th>\n",
       "      <td>-116.5000</td>\n",
       "      <td>90890.42778</td>\n",
       "      <td>8.138370</td>\n",
       "      <td>0</td>\n",
       "      <td>6.0</td>\n",
       "      <td>1.0</td>\n",
       "      <td>0.0</td>\n",
       "    </tr>\n",
       "    <tr>\n",
       "      <th>1</th>\n",
       "      <td>-115.1875</td>\n",
       "      <td>91193.46144</td>\n",
       "      <td>9.140266</td>\n",
       "      <td>0</td>\n",
       "      <td>8.0</td>\n",
       "      <td>2.0</td>\n",
       "      <td>1.0</td>\n",
       "    </tr>\n",
       "    <tr>\n",
       "      <th>2</th>\n",
       "      <td>-119.1250</td>\n",
       "      <td>91877.50918</td>\n",
       "      <td>7.808917</td>\n",
       "      <td>0</td>\n",
       "      <td>5.0</td>\n",
       "      <td>0.0</td>\n",
       "      <td>0.0</td>\n",
       "    </tr>\n",
       "    <tr>\n",
       "      <th>3</th>\n",
       "      <td>-111.8125</td>\n",
       "      <td>92049.63360</td>\n",
       "      <td>8.878271</td>\n",
       "      <td>0</td>\n",
       "      <td>7.0</td>\n",
       "      <td>2.0</td>\n",
       "      <td>1.0</td>\n",
       "    </tr>\n",
       "    <tr>\n",
       "      <th>4</th>\n",
       "      <td>-115.1875</td>\n",
       "      <td>92275.58028</td>\n",
       "      <td>9.051622</td>\n",
       "      <td>0</td>\n",
       "      <td>7.0</td>\n",
       "      <td>2.0</td>\n",
       "      <td>1.0</td>\n",
       "    </tr>\n",
       "  </tbody>\n",
       "</table>\n",
       "</div>"
      ],
      "text/plain": [
       "       rsrp  redireccion       cqi  incidentes  cqi_inter_amplitud  \\\n",
       "0 -116.5000  90890.42778  8.138370           0                 6.0   \n",
       "1 -115.1875  91193.46144  9.140266           0                 8.0   \n",
       "2 -119.1250  91877.50918  7.808917           0                 5.0   \n",
       "3 -111.8125  92049.63360  8.878271           0                 7.0   \n",
       "4 -115.1875  92275.58028  9.051622           0                 7.0   \n",
       "\n",
       "   cqi_cuartil  cqi_kmeans  \n",
       "0          1.0         0.0  \n",
       "1          2.0         1.0  \n",
       "2          0.0         0.0  \n",
       "3          2.0         1.0  \n",
       "4          2.0         1.0  "
      ]
     },
     "execution_count": 61,
     "metadata": {},
     "output_type": "execute_result"
    }
   ],
   "source": [
    "data.head()"
   ]
  },
  {
   "cell_type": "markdown",
   "metadata": {},
   "source": [
    "**Discretización por entropia o discretización basada en árboles**"
   ]
  },
  {
   "cell_type": "markdown",
   "metadata": {},
   "source": [
    "- basada en un modelo de aprendizaje : árboles de decisión\n",
    "- la discretización de la variable x se realizará en función a la variable y  (target)"
   ]
  },
  {
   "cell_type": "code",
   "execution_count": null,
   "metadata": {},
   "outputs": [],
   "source": [
    "x     y\n",
    "25    1 (reclaman)\n",
    "35    0\n",
    "41    0\n",
    "28    1 (reclaman)\n",
    "29    1 (reclaman)\n",
    ".\n",
    ".\n",
    ".\n",
    "10 k casos\n"
   ]
  },
  {
   "cell_type": "markdown",
   "metadata": {},
   "source": [
    "<center><img src=\"https://encrypted-tbn0.gstatic.com/images?q=tbn:ANd9GcTOGIWR9duZ9cM0Rv8mi6WaN0bEpi11oI81Gg&usqp=CAU\" width=\"400\"></center>"
   ]
  },
  {
   "cell_type": "markdown",
   "metadata": {},
   "source": [
    "**Paso 1**: calcular la impureza inicial del árbol por entropia"
   ]
  },
  {
   "cell_type": "code",
   "execution_count": 62,
   "metadata": {},
   "outputs": [],
   "source": [
    "r=4000\n",
    "nr=6000\n",
    "t=10000"
   ]
  },
  {
   "cell_type": "code",
   "execution_count": 67,
   "metadata": {
    "scrolled": true
   },
   "outputs": [
    {
     "name": "stdout",
     "output_type": "stream",
     "text": [
      "0.6730116670092565\n"
     ]
    }
   ],
   "source": [
    "impureza=abs(((r/t)*m.log(r/t))+((nr/t)*m.log(nr/t)));print(impureza)"
   ]
  },
  {
   "cell_type": "markdown",
   "metadata": {},
   "source": [
    "**Se va discretizar la variable x utilizando diferentes puntos de corte (puntos de discretización) y ganará el que reduzca la impureza del árbol**"
   ]
  },
  {
   "cell_type": "markdown",
   "metadata": {},
   "source": [
    "La impureza inicial del árbol es 0.673 y la impureza final usando el punto de corte \"30 años\" es 0.672"
   ]
  },
  {
   "cell_type": "markdown",
   "metadata": {},
   "source": [
    "La impureza inicial del árbol es 0.673 y la impureza final usando el punto de corte \"38 años\" es 0.35"
   ]
  },
  {
   "cell_type": "markdown",
   "metadata": {},
   "source": [
    "La impureza inicial del árbol es 0.673 y la impureza final usando el punto de corte \"40 años\" es 0.27"
   ]
  },
  {
   "cell_type": "markdown",
   "metadata": {},
   "source": [
    "**Paso 3** seleccionamos el punto de corte de discretización"
   ]
  },
  {
   "cell_type": "markdown",
   "metadata": {},
   "source": [
    "**Nota** se selecciona el punto de corte que reduzca la impureza inicial del árbol de forma más significativa"
   ]
  },
  {
   "cell_type": "markdown",
   "metadata": {},
   "source": [
    "**Nodo 1** de 18 a 30 años"
   ]
  },
  {
   "cell_type": "code",
   "execution_count": 77,
   "metadata": {},
   "outputs": [],
   "source": [
    "t=3500\n",
    "r=1500\n",
    "nr=2000"
   ]
  },
  {
   "cell_type": "code",
   "execution_count": 78,
   "metadata": {},
   "outputs": [
    {
     "name": "stdout",
     "output_type": "stream",
     "text": [
      "0.6829081047004717\n"
     ]
    }
   ],
   "source": [
    "impureza1=abs(((r/t)*m.log(r/t))+((nr/t)*m.log(nr/t)));print(impureza1)"
   ]
  },
  {
   "cell_type": "code",
   "execution_count": 79,
   "metadata": {},
   "outputs": [
    {
     "data": {
      "text/plain": [
       "0.23901783664516507"
      ]
     },
     "execution_count": 79,
     "metadata": {},
     "output_type": "execute_result"
    }
   ],
   "source": [
    "impureza1*0.35"
   ]
  },
  {
   "cell_type": "markdown",
   "metadata": {},
   "source": [
    "**Nodo 2** de 31 a más años"
   ]
  },
  {
   "cell_type": "code",
   "execution_count": 73,
   "metadata": {},
   "outputs": [],
   "source": [
    "t=6500\n",
    "r=2500\n",
    "nr=4000"
   ]
  },
  {
   "cell_type": "code",
   "execution_count": 75,
   "metadata": {},
   "outputs": [
    {
     "name": "stdout",
     "output_type": "stream",
     "text": [
      "0.666278442414676\n"
     ]
    }
   ],
   "source": [
    "impureza2=abs(((r/t)*m.log(r/t))+((nr/t)*m.log(nr/t)));print(impureza2)"
   ]
  },
  {
   "cell_type": "code",
   "execution_count": 76,
   "metadata": {},
   "outputs": [
    {
     "data": {
      "text/plain": [
       "0.43308098756953944"
      ]
     },
     "execution_count": 76,
     "metadata": {},
     "output_type": "execute_result"
    }
   ],
   "source": [
    "impureza2*0.65"
   ]
  },
  {
   "cell_type": "markdown",
   "metadata": {},
   "source": [
    "**calculo de la impureza final de árbol**"
   ]
  },
  {
   "cell_type": "code",
   "execution_count": 80,
   "metadata": {},
   "outputs": [
    {
     "name": "stdout",
     "output_type": "stream",
     "text": [
      "0.6720988242147046\n"
     ]
    }
   ],
   "source": [
    "suma_i=(impureza1*0.35)+(impureza2*0.65);print(suma_i)"
   ]
  },
  {
   "cell_type": "code",
   "execution_count": 81,
   "metadata": {},
   "outputs": [
    {
     "data": {
      "text/plain": [
       "'C:\\\\Users\\\\SOCIAL DATA'"
      ]
     },
     "execution_count": 81,
     "metadata": {},
     "output_type": "execute_result"
    }
   ],
   "source": [
    "import os\n",
    "os.getcwd()"
   ]
  },
  {
   "cell_type": "markdown",
   "metadata": {},
   "source": [
    "**Nota**: descargar **MDLP.py** & **Entropy.py** del Classrom y ubicarlos en el directorio de trabajo actual"
   ]
  },
  {
   "cell_type": "code",
   "execution_count": 82,
   "metadata": {},
   "outputs": [],
   "source": [
    "from MDLP import MDLP_Discretizer"
   ]
  },
  {
   "cell_type": "code",
   "execution_count": 84,
   "metadata": {},
   "outputs": [
    {
     "data": {
      "text/html": [
       "<div>\n",
       "<style scoped>\n",
       "    .dataframe tbody tr th:only-of-type {\n",
       "        vertical-align: middle;\n",
       "    }\n",
       "\n",
       "    .dataframe tbody tr th {\n",
       "        vertical-align: top;\n",
       "    }\n",
       "\n",
       "    .dataframe thead th {\n",
       "        text-align: right;\n",
       "    }\n",
       "</style>\n",
       "<table border=\"1\" class=\"dataframe\">\n",
       "  <thead>\n",
       "    <tr style=\"text-align: right;\">\n",
       "      <th></th>\n",
       "      <th>rsrp</th>\n",
       "      <th>redireccion</th>\n",
       "      <th>cqi</th>\n",
       "      <th>incidentes</th>\n",
       "      <th>cqi_inter_amplitud</th>\n",
       "      <th>cqi_cuartil</th>\n",
       "      <th>cqi_kmeans</th>\n",
       "    </tr>\n",
       "  </thead>\n",
       "  <tbody>\n",
       "    <tr>\n",
       "      <th>0</th>\n",
       "      <td>-116.5000</td>\n",
       "      <td>90890.42778</td>\n",
       "      <td>8.138370</td>\n",
       "      <td>0</td>\n",
       "      <td>6.0</td>\n",
       "      <td>1.0</td>\n",
       "      <td>0.0</td>\n",
       "    </tr>\n",
       "    <tr>\n",
       "      <th>1</th>\n",
       "      <td>-115.1875</td>\n",
       "      <td>91193.46144</td>\n",
       "      <td>9.140266</td>\n",
       "      <td>0</td>\n",
       "      <td>8.0</td>\n",
       "      <td>2.0</td>\n",
       "      <td>1.0</td>\n",
       "    </tr>\n",
       "    <tr>\n",
       "      <th>2</th>\n",
       "      <td>-119.1250</td>\n",
       "      <td>91877.50918</td>\n",
       "      <td>7.808917</td>\n",
       "      <td>0</td>\n",
       "      <td>5.0</td>\n",
       "      <td>0.0</td>\n",
       "      <td>0.0</td>\n",
       "    </tr>\n",
       "    <tr>\n",
       "      <th>3</th>\n",
       "      <td>-111.8125</td>\n",
       "      <td>92049.63360</td>\n",
       "      <td>8.878271</td>\n",
       "      <td>0</td>\n",
       "      <td>7.0</td>\n",
       "      <td>2.0</td>\n",
       "      <td>1.0</td>\n",
       "    </tr>\n",
       "    <tr>\n",
       "      <th>4</th>\n",
       "      <td>-115.1875</td>\n",
       "      <td>92275.58028</td>\n",
       "      <td>9.051622</td>\n",
       "      <td>0</td>\n",
       "      <td>7.0</td>\n",
       "      <td>2.0</td>\n",
       "      <td>1.0</td>\n",
       "    </tr>\n",
       "  </tbody>\n",
       "</table>\n",
       "</div>"
      ],
      "text/plain": [
       "       rsrp  redireccion       cqi  incidentes  cqi_inter_amplitud  \\\n",
       "0 -116.5000  90890.42778  8.138370           0                 6.0   \n",
       "1 -115.1875  91193.46144  9.140266           0                 8.0   \n",
       "2 -119.1250  91877.50918  7.808917           0                 5.0   \n",
       "3 -111.8125  92049.63360  8.878271           0                 7.0   \n",
       "4 -115.1875  92275.58028  9.051622           0                 7.0   \n",
       "\n",
       "   cqi_cuartil  cqi_kmeans  \n",
       "0          1.0         0.0  \n",
       "1          2.0         1.0  \n",
       "2          0.0         0.0  \n",
       "3          2.0         1.0  \n",
       "4          2.0         1.0  "
      ]
     },
     "execution_count": 84,
     "metadata": {},
     "output_type": "execute_result"
    }
   ],
   "source": [
    "data.head()"
   ]
  },
  {
   "cell_type": "code",
   "execution_count": 85,
   "metadata": {},
   "outputs": [],
   "source": [
    "x=data.iloc[:,0:3].values\n",
    "y=data.iloc[:,3].values"
   ]
  },
  {
   "cell_type": "code",
   "execution_count": 86,
   "metadata": {},
   "outputs": [],
   "source": [
    "ba=[2]"
   ]
  },
  {
   "cell_type": "code",
   "execution_count": 87,
   "metadata": {},
   "outputs": [],
   "source": [
    "n_predictores = np.array(ba)"
   ]
  },
  {
   "cell_type": "code",
   "execution_count": 88,
   "metadata": {},
   "outputs": [
    {
     "data": {
      "text/plain": [
       "array([2])"
      ]
     },
     "execution_count": 88,
     "metadata": {},
     "output_type": "execute_result"
    }
   ],
   "source": [
    "n_predictores"
   ]
  },
  {
   "cell_type": "code",
   "execution_count": 89,
   "metadata": {},
   "outputs": [],
   "source": [
    "discretizer = MDLP_Discretizer(features=n_predictores)"
   ]
  },
  {
   "cell_type": "code",
   "execution_count": 90,
   "metadata": {},
   "outputs": [
    {
     "data": {
      "text/plain": [
       "<MDLP.MDLP_Discretizer at 0x14bfadf31c0>"
      ]
     },
     "execution_count": 90,
     "metadata": {},
     "output_type": "execute_result"
    }
   ],
   "source": [
    "discretizer.fit(x,y)"
   ]
  },
  {
   "cell_type": "code",
   "execution_count": 91,
   "metadata": {},
   "outputs": [],
   "source": [
    "data[\"cqi_entropia\"]=discretizer.transform(x)[:,2]"
   ]
  },
  {
   "cell_type": "code",
   "execution_count": 92,
   "metadata": {},
   "outputs": [
    {
     "data": {
      "text/html": [
       "<div>\n",
       "<style scoped>\n",
       "    .dataframe tbody tr th:only-of-type {\n",
       "        vertical-align: middle;\n",
       "    }\n",
       "\n",
       "    .dataframe tbody tr th {\n",
       "        vertical-align: top;\n",
       "    }\n",
       "\n",
       "    .dataframe thead th {\n",
       "        text-align: right;\n",
       "    }\n",
       "</style>\n",
       "<table border=\"1\" class=\"dataframe\">\n",
       "  <thead>\n",
       "    <tr style=\"text-align: right;\">\n",
       "      <th></th>\n",
       "      <th>rsrp</th>\n",
       "      <th>redireccion</th>\n",
       "      <th>cqi</th>\n",
       "      <th>incidentes</th>\n",
       "      <th>cqi_inter_amplitud</th>\n",
       "      <th>cqi_cuartil</th>\n",
       "      <th>cqi_kmeans</th>\n",
       "      <th>cqi_entropia</th>\n",
       "    </tr>\n",
       "  </thead>\n",
       "  <tbody>\n",
       "    <tr>\n",
       "      <th>0</th>\n",
       "      <td>-116.5000</td>\n",
       "      <td>90890.42778</td>\n",
       "      <td>8.138370</td>\n",
       "      <td>0</td>\n",
       "      <td>6.0</td>\n",
       "      <td>1.0</td>\n",
       "      <td>0.0</td>\n",
       "      <td>0.0</td>\n",
       "    </tr>\n",
       "    <tr>\n",
       "      <th>1</th>\n",
       "      <td>-115.1875</td>\n",
       "      <td>91193.46144</td>\n",
       "      <td>9.140266</td>\n",
       "      <td>0</td>\n",
       "      <td>8.0</td>\n",
       "      <td>2.0</td>\n",
       "      <td>1.0</td>\n",
       "      <td>1.0</td>\n",
       "    </tr>\n",
       "    <tr>\n",
       "      <th>2</th>\n",
       "      <td>-119.1250</td>\n",
       "      <td>91877.50918</td>\n",
       "      <td>7.808917</td>\n",
       "      <td>0</td>\n",
       "      <td>5.0</td>\n",
       "      <td>0.0</td>\n",
       "      <td>0.0</td>\n",
       "      <td>0.0</td>\n",
       "    </tr>\n",
       "    <tr>\n",
       "      <th>3</th>\n",
       "      <td>-111.8125</td>\n",
       "      <td>92049.63360</td>\n",
       "      <td>8.878271</td>\n",
       "      <td>0</td>\n",
       "      <td>7.0</td>\n",
       "      <td>2.0</td>\n",
       "      <td>1.0</td>\n",
       "      <td>1.0</td>\n",
       "    </tr>\n",
       "    <tr>\n",
       "      <th>4</th>\n",
       "      <td>-115.1875</td>\n",
       "      <td>92275.58028</td>\n",
       "      <td>9.051622</td>\n",
       "      <td>0</td>\n",
       "      <td>7.0</td>\n",
       "      <td>2.0</td>\n",
       "      <td>1.0</td>\n",
       "      <td>1.0</td>\n",
       "    </tr>\n",
       "  </tbody>\n",
       "</table>\n",
       "</div>"
      ],
      "text/plain": [
       "       rsrp  redireccion       cqi  incidentes  cqi_inter_amplitud  \\\n",
       "0 -116.5000  90890.42778  8.138370           0                 6.0   \n",
       "1 -115.1875  91193.46144  9.140266           0                 8.0   \n",
       "2 -119.1250  91877.50918  7.808917           0                 5.0   \n",
       "3 -111.8125  92049.63360  8.878271           0                 7.0   \n",
       "4 -115.1875  92275.58028  9.051622           0                 7.0   \n",
       "\n",
       "   cqi_cuartil  cqi_kmeans  cqi_entropia  \n",
       "0          1.0         0.0           0.0  \n",
       "1          2.0         1.0           1.0  \n",
       "2          0.0         0.0           0.0  \n",
       "3          2.0         1.0           1.0  \n",
       "4          2.0         1.0           1.0  "
      ]
     },
     "execution_count": 92,
     "metadata": {},
     "output_type": "execute_result"
    }
   ],
   "source": [
    "data.head()"
   ]
  },
  {
   "cell_type": "code",
   "execution_count": 93,
   "metadata": {},
   "outputs": [],
   "source": [
    "#############################################"
   ]
  },
  {
   "cell_type": "markdown",
   "metadata": {},
   "source": [
    "**Escalamiento de variables**"
   ]
  },
  {
   "cell_type": "markdown",
   "metadata": {},
   "source": [
    "**Ciertas técnicas (modelos) requieren que los datos estén en una misma escala de medida**"
   ]
  },
  {
   "cell_type": "markdown",
   "metadata": {},
   "source": [
    "- Algoritmos de agrupamiento de observaciones k-means & AGNES (clúster jerárquico aglomerativo)\n",
    "- técnicas de reducción de dimensionalidad: PCA & FA"
   ]
  },
  {
   "cell_type": "code",
   "execution_count": 94,
   "metadata": {},
   "outputs": [],
   "source": [
    "import os\n",
    "import pandas as pd\n",
    "from sklearn.model_selection import train_test_split"
   ]
  },
  {
   "cell_type": "code",
   "execution_count": 95,
   "metadata": {},
   "outputs": [],
   "source": [
    "os.chdir(\"D:/Python/1. Nivel I/9/datos\")"
   ]
  },
  {
   "cell_type": "code",
   "execution_count": 96,
   "metadata": {},
   "outputs": [],
   "source": [
    "df = pd.read_csv(\"data_credit.csv\",\n",
    "                sep=\",\",\n",
    "                encoding=\"ISO-8859-1\")"
   ]
  },
  {
   "cell_type": "code",
   "execution_count": 97,
   "metadata": {},
   "outputs": [
    {
     "data": {
      "text/html": [
       "<div>\n",
       "<style scoped>\n",
       "    .dataframe tbody tr th:only-of-type {\n",
       "        vertical-align: middle;\n",
       "    }\n",
       "\n",
       "    .dataframe tbody tr th {\n",
       "        vertical-align: top;\n",
       "    }\n",
       "\n",
       "    .dataframe thead th {\n",
       "        text-align: right;\n",
       "    }\n",
       "</style>\n",
       "<table border=\"1\" class=\"dataframe\">\n",
       "  <thead>\n",
       "    <tr style=\"text-align: right;\">\n",
       "      <th></th>\n",
       "      <th>duration</th>\n",
       "      <th>chist</th>\n",
       "      <th>reason</th>\n",
       "      <th>camt</th>\n",
       "      <th>telephne</th>\n",
       "      <th>lenemp</th>\n",
       "      <th>instrate</th>\n",
       "      <th>perstat</th>\n",
       "      <th>residlen</th>\n",
       "      <th>prpownr</th>\n",
       "      <th>age</th>\n",
       "      <th>housng</th>\n",
       "      <th>numcred</th>\n",
       "      <th>emptype</th>\n",
       "      <th>numliab</th>\n",
       "      <th>customer</th>\n",
       "    </tr>\n",
       "  </thead>\n",
       "  <tbody>\n",
       "    <tr>\n",
       "      <th>0</th>\n",
       "      <td>6.0</td>\n",
       "      <td>5.0</td>\n",
       "      <td>4.0</td>\n",
       "      <td>1169.0</td>\n",
       "      <td>0.0</td>\n",
       "      <td>4.0</td>\n",
       "      <td>4.0</td>\n",
       "      <td>3.0</td>\n",
       "      <td>4.0</td>\n",
       "      <td>1.0</td>\n",
       "      <td>67.0</td>\n",
       "      <td>2.0</td>\n",
       "      <td>2.0</td>\n",
       "      <td>3.0</td>\n",
       "      <td>1.0</td>\n",
       "      <td>1.0</td>\n",
       "    </tr>\n",
       "    <tr>\n",
       "      <th>1</th>\n",
       "      <td>48.0</td>\n",
       "      <td>3.0</td>\n",
       "      <td>4.0</td>\n",
       "      <td>5951.0</td>\n",
       "      <td>1.0</td>\n",
       "      <td>2.0</td>\n",
       "      <td>2.0</td>\n",
       "      <td>2.0</td>\n",
       "      <td>2.0</td>\n",
       "      <td>1.0</td>\n",
       "      <td>22.0</td>\n",
       "      <td>2.0</td>\n",
       "      <td>1.0</td>\n",
       "      <td>3.0</td>\n",
       "      <td>1.0</td>\n",
       "      <td>2.0</td>\n",
       "    </tr>\n",
       "    <tr>\n",
       "      <th>2</th>\n",
       "      <td>12.0</td>\n",
       "      <td>5.0</td>\n",
       "      <td>7.0</td>\n",
       "      <td>2096.0</td>\n",
       "      <td>1.0</td>\n",
       "      <td>3.0</td>\n",
       "      <td>2.0</td>\n",
       "      <td>3.0</td>\n",
       "      <td>3.0</td>\n",
       "      <td>1.0</td>\n",
       "      <td>49.0</td>\n",
       "      <td>2.0</td>\n",
       "      <td>1.0</td>\n",
       "      <td>2.0</td>\n",
       "      <td>2.0</td>\n",
       "      <td>1.0</td>\n",
       "    </tr>\n",
       "    <tr>\n",
       "      <th>3</th>\n",
       "      <td>42.0</td>\n",
       "      <td>3.0</td>\n",
       "      <td>3.0</td>\n",
       "      <td>7882.0</td>\n",
       "      <td>1.0</td>\n",
       "      <td>3.0</td>\n",
       "      <td>2.0</td>\n",
       "      <td>3.0</td>\n",
       "      <td>4.0</td>\n",
       "      <td>2.0</td>\n",
       "      <td>45.0</td>\n",
       "      <td>3.0</td>\n",
       "      <td>1.0</td>\n",
       "      <td>3.0</td>\n",
       "      <td>2.0</td>\n",
       "      <td>1.0</td>\n",
       "    </tr>\n",
       "    <tr>\n",
       "      <th>4</th>\n",
       "      <td>24.0</td>\n",
       "      <td>4.0</td>\n",
       "      <td>1.0</td>\n",
       "      <td>4870.0</td>\n",
       "      <td>1.0</td>\n",
       "      <td>2.0</td>\n",
       "      <td>3.0</td>\n",
       "      <td>3.0</td>\n",
       "      <td>4.0</td>\n",
       "      <td>4.0</td>\n",
       "      <td>53.0</td>\n",
       "      <td>3.0</td>\n",
       "      <td>2.0</td>\n",
       "      <td>3.0</td>\n",
       "      <td>2.0</td>\n",
       "      <td>2.0</td>\n",
       "    </tr>\n",
       "  </tbody>\n",
       "</table>\n",
       "</div>"
      ],
      "text/plain": [
       "   duration  chist  reason    camt  telephne  lenemp  instrate  perstat  \\\n",
       "0       6.0    5.0     4.0  1169.0       0.0     4.0       4.0      3.0   \n",
       "1      48.0    3.0     4.0  5951.0       1.0     2.0       2.0      2.0   \n",
       "2      12.0    5.0     7.0  2096.0       1.0     3.0       2.0      3.0   \n",
       "3      42.0    3.0     3.0  7882.0       1.0     3.0       2.0      3.0   \n",
       "4      24.0    4.0     1.0  4870.0       1.0     2.0       3.0      3.0   \n",
       "\n",
       "   residlen  prpownr   age  housng  numcred  emptype  numliab  customer  \n",
       "0       4.0      1.0  67.0     2.0      2.0      3.0      1.0       1.0  \n",
       "1       2.0      1.0  22.0     2.0      1.0      3.0      1.0       2.0  \n",
       "2       3.0      1.0  49.0     2.0      1.0      2.0      2.0       1.0  \n",
       "3       4.0      2.0  45.0     3.0      1.0      3.0      2.0       1.0  \n",
       "4       4.0      4.0  53.0     3.0      2.0      3.0      2.0       2.0  "
      ]
     },
     "execution_count": 97,
     "metadata": {},
     "output_type": "execute_result"
    }
   ],
   "source": [
    "df.head()"
   ]
  },
  {
   "cell_type": "markdown",
   "metadata": {},
   "source": [
    "**Particionamiento**"
   ]
  },
  {
   "cell_type": "code",
   "execution_count": 98,
   "metadata": {},
   "outputs": [],
   "source": [
    "x=df.iloc[:,0:15].values\n",
    "y=df.iloc[:,15].values"
   ]
  },
  {
   "cell_type": "code",
   "execution_count": 99,
   "metadata": {},
   "outputs": [],
   "source": [
    "x_train, x_test, y_train, y_test = train_test_split(x,y,\n",
    "                                                   test_size=0.3,\n",
    "                                                   random_state=2023)"
   ]
  },
  {
   "cell_type": "markdown",
   "metadata": {},
   "source": [
    "**Normalización**"
   ]
  },
  {
   "cell_type": "markdown",
   "metadata": {},
   "source": [
    "transformación de los datos es la técnica que busca que los datos tengan un comportamiento normal"
   ]
  },
  {
   "cell_type": "code",
   "execution_count": 100,
   "metadata": {},
   "outputs": [],
   "source": [
    "datos = [23,21,18,32,30,26]"
   ]
  },
  {
   "cell_type": "code",
   "execution_count": 101,
   "metadata": {},
   "outputs": [],
   "source": [
    "min_data=18\n",
    "max_data=32"
   ]
  },
  {
   "cell_type": "code",
   "execution_count": 105,
   "metadata": {},
   "outputs": [
    {
     "data": {
      "text/plain": [
       "6"
      ]
     },
     "execution_count": 105,
     "metadata": {},
     "output_type": "execute_result"
    }
   ],
   "source": [
    "len(datos)"
   ]
  },
  {
   "cell_type": "code",
   "execution_count": 110,
   "metadata": {},
   "outputs": [],
   "source": [
    "datos_norm=[]"
   ]
  },
  {
   "cell_type": "code",
   "execution_count": 111,
   "metadata": {},
   "outputs": [],
   "source": [
    "for i in range (0,len(datos)):\n",
    "    d=(datos[i]-min_data)/(max_data-min_data)\n",
    "    datos_norm.append(d)"
   ]
  },
  {
   "cell_type": "code",
   "execution_count": 121,
   "metadata": {},
   "outputs": [],
   "source": [
    "df_caso=pd.DataFrame({\"datos\":datos,\"datos_norm\":datos_norm})"
   ]
  },
  {
   "cell_type": "code",
   "execution_count": 122,
   "metadata": {},
   "outputs": [
    {
     "data": {
      "text/html": [
       "<div>\n",
       "<style scoped>\n",
       "    .dataframe tbody tr th:only-of-type {\n",
       "        vertical-align: middle;\n",
       "    }\n",
       "\n",
       "    .dataframe tbody tr th {\n",
       "        vertical-align: top;\n",
       "    }\n",
       "\n",
       "    .dataframe thead th {\n",
       "        text-align: right;\n",
       "    }\n",
       "</style>\n",
       "<table border=\"1\" class=\"dataframe\">\n",
       "  <thead>\n",
       "    <tr style=\"text-align: right;\">\n",
       "      <th></th>\n",
       "      <th>datos</th>\n",
       "      <th>datos_norm</th>\n",
       "    </tr>\n",
       "  </thead>\n",
       "  <tbody>\n",
       "    <tr>\n",
       "      <th>0</th>\n",
       "      <td>23</td>\n",
       "      <td>0.357143</td>\n",
       "    </tr>\n",
       "    <tr>\n",
       "      <th>1</th>\n",
       "      <td>21</td>\n",
       "      <td>0.214286</td>\n",
       "    </tr>\n",
       "    <tr>\n",
       "      <th>2</th>\n",
       "      <td>18</td>\n",
       "      <td>0.000000</td>\n",
       "    </tr>\n",
       "    <tr>\n",
       "      <th>3</th>\n",
       "      <td>32</td>\n",
       "      <td>1.000000</td>\n",
       "    </tr>\n",
       "    <tr>\n",
       "      <th>4</th>\n",
       "      <td>30</td>\n",
       "      <td>0.857143</td>\n",
       "    </tr>\n",
       "    <tr>\n",
       "      <th>5</th>\n",
       "      <td>26</td>\n",
       "      <td>0.571429</td>\n",
       "    </tr>\n",
       "  </tbody>\n",
       "</table>\n",
       "</div>"
      ],
      "text/plain": [
       "   datos  datos_norm\n",
       "0     23    0.357143\n",
       "1     21    0.214286\n",
       "2     18    0.000000\n",
       "3     32    1.000000\n",
       "4     30    0.857143\n",
       "5     26    0.571429"
      ]
     },
     "execution_count": 122,
     "metadata": {},
     "output_type": "execute_result"
    }
   ],
   "source": [
    "df_caso"
   ]
  },
  {
   "cell_type": "code",
   "execution_count": 114,
   "metadata": {},
   "outputs": [],
   "source": [
    "from sklearn.preprocessing import MinMaxScaler"
   ]
  },
  {
   "cell_type": "code",
   "execution_count": 115,
   "metadata": {},
   "outputs": [],
   "source": [
    "minmax=MinMaxScaler()"
   ]
  },
  {
   "cell_type": "code",
   "execution_count": 116,
   "metadata": {},
   "outputs": [],
   "source": [
    "x_train_norm= minmax.fit_transform(x_train)"
   ]
  },
  {
   "cell_type": "markdown",
   "metadata": {},
   "source": [
    "**Estandarización**"
   ]
  },
  {
   "cell_type": "markdown",
   "metadata": {},
   "source": [
    "Basada en la media y desviación estándar, mantiene el comportamiento original de los datos."
   ]
  },
  {
   "cell_type": "code",
   "execution_count": 125,
   "metadata": {},
   "outputs": [],
   "source": [
    "datos = [23,21,18,32,30,26]"
   ]
  },
  {
   "cell_type": "code",
   "execution_count": 123,
   "metadata": {},
   "outputs": [
    {
     "data": {
      "text/plain": [
       "25.0"
      ]
     },
     "execution_count": 123,
     "metadata": {},
     "output_type": "execute_result"
    }
   ],
   "source": [
    "df_caso[\"datos\"].mean()"
   ]
  },
  {
   "cell_type": "code",
   "execution_count": 124,
   "metadata": {},
   "outputs": [
    {
     "data": {
      "text/plain": [
       "4.898979485566356"
      ]
     },
     "execution_count": 124,
     "metadata": {},
     "output_type": "execute_result"
    }
   ],
   "source": [
    "np.std(df_caso[\"datos\"])"
   ]
  },
  {
   "cell_type": "code",
   "execution_count": 127,
   "metadata": {},
   "outputs": [],
   "source": [
    "datos_std=[]"
   ]
  },
  {
   "cell_type": "code",
   "execution_count": 128,
   "metadata": {},
   "outputs": [],
   "source": [
    "for i in range (0,len(datos)):\n",
    "    d=(datos[i]-df_caso[\"datos\"].mean())/(np.std(df_caso[\"datos\"]))\n",
    "    datos_std.append(d)"
   ]
  },
  {
   "cell_type": "code",
   "execution_count": 130,
   "metadata": {},
   "outputs": [],
   "source": [
    "df_caso[\"datos_std\"]=datos_std"
   ]
  },
  {
   "cell_type": "code",
   "execution_count": 131,
   "metadata": {},
   "outputs": [
    {
     "data": {
      "text/html": [
       "<div>\n",
       "<style scoped>\n",
       "    .dataframe tbody tr th:only-of-type {\n",
       "        vertical-align: middle;\n",
       "    }\n",
       "\n",
       "    .dataframe tbody tr th {\n",
       "        vertical-align: top;\n",
       "    }\n",
       "\n",
       "    .dataframe thead th {\n",
       "        text-align: right;\n",
       "    }\n",
       "</style>\n",
       "<table border=\"1\" class=\"dataframe\">\n",
       "  <thead>\n",
       "    <tr style=\"text-align: right;\">\n",
       "      <th></th>\n",
       "      <th>datos</th>\n",
       "      <th>datos_norm</th>\n",
       "      <th>datos_std</th>\n",
       "    </tr>\n",
       "  </thead>\n",
       "  <tbody>\n",
       "    <tr>\n",
       "      <th>0</th>\n",
       "      <td>23</td>\n",
       "      <td>0.357143</td>\n",
       "      <td>-0.408248</td>\n",
       "    </tr>\n",
       "    <tr>\n",
       "      <th>1</th>\n",
       "      <td>21</td>\n",
       "      <td>0.214286</td>\n",
       "      <td>-0.816497</td>\n",
       "    </tr>\n",
       "    <tr>\n",
       "      <th>2</th>\n",
       "      <td>18</td>\n",
       "      <td>0.000000</td>\n",
       "      <td>-1.428869</td>\n",
       "    </tr>\n",
       "    <tr>\n",
       "      <th>3</th>\n",
       "      <td>32</td>\n",
       "      <td>1.000000</td>\n",
       "      <td>1.428869</td>\n",
       "    </tr>\n",
       "    <tr>\n",
       "      <th>4</th>\n",
       "      <td>30</td>\n",
       "      <td>0.857143</td>\n",
       "      <td>1.020621</td>\n",
       "    </tr>\n",
       "    <tr>\n",
       "      <th>5</th>\n",
       "      <td>26</td>\n",
       "      <td>0.571429</td>\n",
       "      <td>0.204124</td>\n",
       "    </tr>\n",
       "  </tbody>\n",
       "</table>\n",
       "</div>"
      ],
      "text/plain": [
       "   datos  datos_norm  datos_std\n",
       "0     23    0.357143  -0.408248\n",
       "1     21    0.214286  -0.816497\n",
       "2     18    0.000000  -1.428869\n",
       "3     32    1.000000   1.428869\n",
       "4     30    0.857143   1.020621\n",
       "5     26    0.571429   0.204124"
      ]
     },
     "execution_count": 131,
     "metadata": {},
     "output_type": "execute_result"
    }
   ],
   "source": [
    "df_caso"
   ]
  },
  {
   "cell_type": "code",
   "execution_count": 132,
   "metadata": {},
   "outputs": [],
   "source": [
    "from sklearn.preprocessing import StandardScaler"
   ]
  },
  {
   "cell_type": "code",
   "execution_count": 133,
   "metadata": {},
   "outputs": [],
   "source": [
    "std=StandardScaler()"
   ]
  },
  {
   "cell_type": "code",
   "execution_count": 134,
   "metadata": {},
   "outputs": [],
   "source": [
    "x_train_std=std.fit_transform(x_train)"
   ]
  },
  {
   "cell_type": "markdown",
   "metadata": {},
   "source": [
    "**Reducción de dimensionalidad**"
   ]
  },
  {
   "cell_type": "markdown",
   "metadata": {},
   "source": [
    "1. problema multicolinealidad (predictores están correlacionadas)"
   ]
  },
  {
   "cell_type": "markdown",
   "metadata": {},
   "source": [
    "2. solución: aplicar técnicas de reducción de dimensionalidad (PCA o FA). Estas técnicas decorrelacionan las variables creando componentes o factores"
   ]
  },
  {
   "cell_type": "markdown",
   "metadata": {},
   "source": [
    "**Paso 1**: demostrar que existe multicolinealidad"
   ]
  },
  {
   "cell_type": "code",
   "execution_count": 135,
   "metadata": {},
   "outputs": [],
   "source": [
    "df_train = pd.DataFrame(x_train,\n",
    "                       columns=df.columns.tolist()[0:15])"
   ]
  },
  {
   "cell_type": "code",
   "execution_count": 136,
   "metadata": {},
   "outputs": [
    {
     "data": {
      "text/html": [
       "<div>\n",
       "<style scoped>\n",
       "    .dataframe tbody tr th:only-of-type {\n",
       "        vertical-align: middle;\n",
       "    }\n",
       "\n",
       "    .dataframe tbody tr th {\n",
       "        vertical-align: top;\n",
       "    }\n",
       "\n",
       "    .dataframe thead th {\n",
       "        text-align: right;\n",
       "    }\n",
       "</style>\n",
       "<table border=\"1\" class=\"dataframe\">\n",
       "  <thead>\n",
       "    <tr style=\"text-align: right;\">\n",
       "      <th></th>\n",
       "      <th>duration</th>\n",
       "      <th>chist</th>\n",
       "      <th>reason</th>\n",
       "      <th>camt</th>\n",
       "      <th>telephne</th>\n",
       "      <th>lenemp</th>\n",
       "      <th>instrate</th>\n",
       "      <th>perstat</th>\n",
       "      <th>residlen</th>\n",
       "      <th>prpownr</th>\n",
       "      <th>age</th>\n",
       "      <th>housng</th>\n",
       "      <th>numcred</th>\n",
       "      <th>emptype</th>\n",
       "      <th>numliab</th>\n",
       "    </tr>\n",
       "  </thead>\n",
       "  <tbody>\n",
       "    <tr>\n",
       "      <th>duration</th>\n",
       "      <td>1.000000</td>\n",
       "      <td>-0.090075</td>\n",
       "      <td>0.173382</td>\n",
       "      <td>0.639104</td>\n",
       "      <td>-0.187380</td>\n",
       "      <td>0.050090</td>\n",
       "      <td>0.073543</td>\n",
       "      <td>0.027830</td>\n",
       "      <td>0.020677</td>\n",
       "      <td>0.300946</td>\n",
       "      <td>-0.052212</td>\n",
       "      <td>0.144170</td>\n",
       "      <td>0.010728</td>\n",
       "      <td>0.213519</td>\n",
       "      <td>-0.021889</td>\n",
       "    </tr>\n",
       "    <tr>\n",
       "      <th>chist</th>\n",
       "      <td>-0.090075</td>\n",
       "      <td>1.000000</td>\n",
       "      <td>-0.071030</td>\n",
       "      <td>-0.060820</td>\n",
       "      <td>-0.077742</td>\n",
       "      <td>0.173516</td>\n",
       "      <td>0.054341</td>\n",
       "      <td>0.028894</td>\n",
       "      <td>0.061463</td>\n",
       "      <td>-0.078292</td>\n",
       "      <td>0.149334</td>\n",
       "      <td>0.059454</td>\n",
       "      <td>0.408691</td>\n",
       "      <td>0.024548</td>\n",
       "      <td>0.008851</td>\n",
       "    </tr>\n",
       "    <tr>\n",
       "      <th>reason</th>\n",
       "      <td>0.173382</td>\n",
       "      <td>-0.071030</td>\n",
       "      <td>1.000000</td>\n",
       "      <td>0.219877</td>\n",
       "      <td>-0.134214</td>\n",
       "      <td>0.066568</td>\n",
       "      <td>-0.000763</td>\n",
       "      <td>-0.015217</td>\n",
       "      <td>-0.025662</td>\n",
       "      <td>0.071566</td>\n",
       "      <td>0.030800</td>\n",
       "      <td>0.058838</td>\n",
       "      <td>0.076016</td>\n",
       "      <td>0.142034</td>\n",
       "      <td>-0.030063</td>\n",
       "    </tr>\n",
       "    <tr>\n",
       "      <th>camt</th>\n",
       "      <td>0.639104</td>\n",
       "      <td>-0.060820</td>\n",
       "      <td>0.219877</td>\n",
       "      <td>1.000000</td>\n",
       "      <td>-0.274351</td>\n",
       "      <td>0.060297</td>\n",
       "      <td>-0.264340</td>\n",
       "      <td>-0.029019</td>\n",
       "      <td>0.042070</td>\n",
       "      <td>0.336807</td>\n",
       "      <td>0.051650</td>\n",
       "      <td>0.135824</td>\n",
       "      <td>0.016648</td>\n",
       "      <td>0.309699</td>\n",
       "      <td>0.003639</td>\n",
       "    </tr>\n",
       "    <tr>\n",
       "      <th>telephne</th>\n",
       "      <td>-0.187380</td>\n",
       "      <td>-0.077742</td>\n",
       "      <td>-0.134214</td>\n",
       "      <td>-0.274351</td>\n",
       "      <td>1.000000</td>\n",
       "      <td>-0.154230</td>\n",
       "      <td>-0.022830</td>\n",
       "      <td>-0.022277</td>\n",
       "      <td>-0.072266</td>\n",
       "      <td>-0.186737</td>\n",
       "      <td>-0.115687</td>\n",
       "      <td>-0.077467</td>\n",
       "      <td>-0.056170</td>\n",
       "      <td>-0.388942</td>\n",
       "      <td>0.039435</td>\n",
       "    </tr>\n",
       "    <tr>\n",
       "      <th>lenemp</th>\n",
       "      <td>0.050090</td>\n",
       "      <td>0.173516</td>\n",
       "      <td>0.066568</td>\n",
       "      <td>0.060297</td>\n",
       "      <td>-0.154230</td>\n",
       "      <td>1.000000</td>\n",
       "      <td>0.054605</td>\n",
       "      <td>0.080002</td>\n",
       "      <td>0.308662</td>\n",
       "      <td>0.171352</td>\n",
       "      <td>0.371038</td>\n",
       "      <td>0.179710</td>\n",
       "      <td>0.182567</td>\n",
       "      <td>0.141492</td>\n",
       "      <td>0.096587</td>\n",
       "    </tr>\n",
       "    <tr>\n",
       "      <th>instrate</th>\n",
       "      <td>0.073543</td>\n",
       "      <td>0.054341</td>\n",
       "      <td>-0.000763</td>\n",
       "      <td>-0.264340</td>\n",
       "      <td>-0.022830</td>\n",
       "      <td>0.054605</td>\n",
       "      <td>1.000000</td>\n",
       "      <td>0.138215</td>\n",
       "      <td>0.005403</td>\n",
       "      <td>0.018823</td>\n",
       "      <td>0.018944</td>\n",
       "      <td>0.066745</td>\n",
       "      <td>0.049715</td>\n",
       "      <td>0.109502</td>\n",
       "      <td>-0.066688</td>\n",
       "    </tr>\n",
       "    <tr>\n",
       "      <th>perstat</th>\n",
       "      <td>0.027830</td>\n",
       "      <td>0.028894</td>\n",
       "      <td>-0.015217</td>\n",
       "      <td>-0.029019</td>\n",
       "      <td>-0.022277</td>\n",
       "      <td>0.080002</td>\n",
       "      <td>0.138215</td>\n",
       "      <td>1.000000</td>\n",
       "      <td>-0.063495</td>\n",
       "      <td>-0.006606</td>\n",
       "      <td>-0.012137</td>\n",
       "      <td>0.100881</td>\n",
       "      <td>0.084569</td>\n",
       "      <td>-0.007440</td>\n",
       "      <td>0.122301</td>\n",
       "    </tr>\n",
       "    <tr>\n",
       "      <th>residlen</th>\n",
       "      <td>0.020677</td>\n",
       "      <td>0.061463</td>\n",
       "      <td>-0.025662</td>\n",
       "      <td>0.042070</td>\n",
       "      <td>-0.072266</td>\n",
       "      <td>0.308662</td>\n",
       "      <td>0.005403</td>\n",
       "      <td>-0.063495</td>\n",
       "      <td>1.000000</td>\n",
       "      <td>0.107902</td>\n",
       "      <td>0.240570</td>\n",
       "      <td>-0.027995</td>\n",
       "      <td>0.095300</td>\n",
       "      <td>-0.011931</td>\n",
       "      <td>0.049919</td>\n",
       "    </tr>\n",
       "    <tr>\n",
       "      <th>prpownr</th>\n",
       "      <td>0.300946</td>\n",
       "      <td>-0.078292</td>\n",
       "      <td>0.071566</td>\n",
       "      <td>0.336807</td>\n",
       "      <td>-0.186737</td>\n",
       "      <td>0.171352</td>\n",
       "      <td>0.018823</td>\n",
       "      <td>-0.006606</td>\n",
       "      <td>0.107902</td>\n",
       "      <td>1.000000</td>\n",
       "      <td>0.041629</td>\n",
       "      <td>0.302234</td>\n",
       "      <td>-0.019501</td>\n",
       "      <td>0.234086</td>\n",
       "      <td>0.056848</td>\n",
       "    </tr>\n",
       "    <tr>\n",
       "      <th>age</th>\n",
       "      <td>-0.052212</td>\n",
       "      <td>0.149334</td>\n",
       "      <td>0.030800</td>\n",
       "      <td>0.051650</td>\n",
       "      <td>-0.115687</td>\n",
       "      <td>0.371038</td>\n",
       "      <td>0.018944</td>\n",
       "      <td>-0.012137</td>\n",
       "      <td>0.240570</td>\n",
       "      <td>0.041629</td>\n",
       "      <td>1.000000</td>\n",
       "      <td>0.286900</td>\n",
       "      <td>0.152699</td>\n",
       "      <td>-0.018429</td>\n",
       "      <td>0.103699</td>\n",
       "    </tr>\n",
       "    <tr>\n",
       "      <th>housng</th>\n",
       "      <td>0.144170</td>\n",
       "      <td>0.059454</td>\n",
       "      <td>0.058838</td>\n",
       "      <td>0.135824</td>\n",
       "      <td>-0.077467</td>\n",
       "      <td>0.179710</td>\n",
       "      <td>0.066745</td>\n",
       "      <td>0.100881</td>\n",
       "      <td>-0.027995</td>\n",
       "      <td>0.302234</td>\n",
       "      <td>0.286900</td>\n",
       "      <td>1.000000</td>\n",
       "      <td>0.074604</td>\n",
       "      <td>0.092694</td>\n",
       "      <td>0.139203</td>\n",
       "    </tr>\n",
       "    <tr>\n",
       "      <th>numcred</th>\n",
       "      <td>0.010728</td>\n",
       "      <td>0.408691</td>\n",
       "      <td>0.076016</td>\n",
       "      <td>0.016648</td>\n",
       "      <td>-0.056170</td>\n",
       "      <td>0.182567</td>\n",
       "      <td>0.049715</td>\n",
       "      <td>0.084569</td>\n",
       "      <td>0.095300</td>\n",
       "      <td>-0.019501</td>\n",
       "      <td>0.152699</td>\n",
       "      <td>0.074604</td>\n",
       "      <td>1.000000</td>\n",
       "      <td>-0.033457</td>\n",
       "      <td>0.125465</td>\n",
       "    </tr>\n",
       "    <tr>\n",
       "      <th>emptype</th>\n",
       "      <td>0.213519</td>\n",
       "      <td>0.024548</td>\n",
       "      <td>0.142034</td>\n",
       "      <td>0.309699</td>\n",
       "      <td>-0.388942</td>\n",
       "      <td>0.141492</td>\n",
       "      <td>0.109502</td>\n",
       "      <td>-0.007440</td>\n",
       "      <td>-0.011931</td>\n",
       "      <td>0.234086</td>\n",
       "      <td>-0.018429</td>\n",
       "      <td>0.092694</td>\n",
       "      <td>-0.033457</td>\n",
       "      <td>1.000000</td>\n",
       "      <td>-0.079893</td>\n",
       "    </tr>\n",
       "    <tr>\n",
       "      <th>numliab</th>\n",
       "      <td>-0.021889</td>\n",
       "      <td>0.008851</td>\n",
       "      <td>-0.030063</td>\n",
       "      <td>0.003639</td>\n",
       "      <td>0.039435</td>\n",
       "      <td>0.096587</td>\n",
       "      <td>-0.066688</td>\n",
       "      <td>0.122301</td>\n",
       "      <td>0.049919</td>\n",
       "      <td>0.056848</td>\n",
       "      <td>0.103699</td>\n",
       "      <td>0.139203</td>\n",
       "      <td>0.125465</td>\n",
       "      <td>-0.079893</td>\n",
       "      <td>1.000000</td>\n",
       "    </tr>\n",
       "  </tbody>\n",
       "</table>\n",
       "</div>"
      ],
      "text/plain": [
       "          duration     chist    reason      camt  telephne    lenemp  \\\n",
       "duration  1.000000 -0.090075  0.173382  0.639104 -0.187380  0.050090   \n",
       "chist    -0.090075  1.000000 -0.071030 -0.060820 -0.077742  0.173516   \n",
       "reason    0.173382 -0.071030  1.000000  0.219877 -0.134214  0.066568   \n",
       "camt      0.639104 -0.060820  0.219877  1.000000 -0.274351  0.060297   \n",
       "telephne -0.187380 -0.077742 -0.134214 -0.274351  1.000000 -0.154230   \n",
       "lenemp    0.050090  0.173516  0.066568  0.060297 -0.154230  1.000000   \n",
       "instrate  0.073543  0.054341 -0.000763 -0.264340 -0.022830  0.054605   \n",
       "perstat   0.027830  0.028894 -0.015217 -0.029019 -0.022277  0.080002   \n",
       "residlen  0.020677  0.061463 -0.025662  0.042070 -0.072266  0.308662   \n",
       "prpownr   0.300946 -0.078292  0.071566  0.336807 -0.186737  0.171352   \n",
       "age      -0.052212  0.149334  0.030800  0.051650 -0.115687  0.371038   \n",
       "housng    0.144170  0.059454  0.058838  0.135824 -0.077467  0.179710   \n",
       "numcred   0.010728  0.408691  0.076016  0.016648 -0.056170  0.182567   \n",
       "emptype   0.213519  0.024548  0.142034  0.309699 -0.388942  0.141492   \n",
       "numliab  -0.021889  0.008851 -0.030063  0.003639  0.039435  0.096587   \n",
       "\n",
       "          instrate   perstat  residlen   prpownr       age    housng  \\\n",
       "duration  0.073543  0.027830  0.020677  0.300946 -0.052212  0.144170   \n",
       "chist     0.054341  0.028894  0.061463 -0.078292  0.149334  0.059454   \n",
       "reason   -0.000763 -0.015217 -0.025662  0.071566  0.030800  0.058838   \n",
       "camt     -0.264340 -0.029019  0.042070  0.336807  0.051650  0.135824   \n",
       "telephne -0.022830 -0.022277 -0.072266 -0.186737 -0.115687 -0.077467   \n",
       "lenemp    0.054605  0.080002  0.308662  0.171352  0.371038  0.179710   \n",
       "instrate  1.000000  0.138215  0.005403  0.018823  0.018944  0.066745   \n",
       "perstat   0.138215  1.000000 -0.063495 -0.006606 -0.012137  0.100881   \n",
       "residlen  0.005403 -0.063495  1.000000  0.107902  0.240570 -0.027995   \n",
       "prpownr   0.018823 -0.006606  0.107902  1.000000  0.041629  0.302234   \n",
       "age       0.018944 -0.012137  0.240570  0.041629  1.000000  0.286900   \n",
       "housng    0.066745  0.100881 -0.027995  0.302234  0.286900  1.000000   \n",
       "numcred   0.049715  0.084569  0.095300 -0.019501  0.152699  0.074604   \n",
       "emptype   0.109502 -0.007440 -0.011931  0.234086 -0.018429  0.092694   \n",
       "numliab  -0.066688  0.122301  0.049919  0.056848  0.103699  0.139203   \n",
       "\n",
       "           numcred   emptype   numliab  \n",
       "duration  0.010728  0.213519 -0.021889  \n",
       "chist     0.408691  0.024548  0.008851  \n",
       "reason    0.076016  0.142034 -0.030063  \n",
       "camt      0.016648  0.309699  0.003639  \n",
       "telephne -0.056170 -0.388942  0.039435  \n",
       "lenemp    0.182567  0.141492  0.096587  \n",
       "instrate  0.049715  0.109502 -0.066688  \n",
       "perstat   0.084569 -0.007440  0.122301  \n",
       "residlen  0.095300 -0.011931  0.049919  \n",
       "prpownr  -0.019501  0.234086  0.056848  \n",
       "age       0.152699 -0.018429  0.103699  \n",
       "housng    0.074604  0.092694  0.139203  \n",
       "numcred   1.000000 -0.033457  0.125465  \n",
       "emptype  -0.033457  1.000000 -0.079893  \n",
       "numliab   0.125465 -0.079893  1.000000  "
      ]
     },
     "execution_count": 136,
     "metadata": {},
     "output_type": "execute_result"
    }
   ],
   "source": [
    "df_train.corr(method=\"pearson\")"
   ]
  },
  {
   "cell_type": "markdown",
   "metadata": {},
   "source": [
    "Prueba estadística para determinar si nuestros predictores están relacionados: **esferacidad de Bartlet**"
   ]
  },
  {
   "cell_type": "code",
   "execution_count": 137,
   "metadata": {},
   "outputs": [
    {
     "name": "stdout",
     "output_type": "stream",
     "text": [
      "700\n"
     ]
    }
   ],
   "source": [
    "n = len(df_train); print(n)"
   ]
  },
  {
   "cell_type": "code",
   "execution_count": 138,
   "metadata": {},
   "outputs": [
    {
     "name": "stdout",
     "output_type": "stream",
     "text": [
      "15\n"
     ]
    }
   ],
   "source": [
    "p = df_train.shape[1];print(p)"
   ]
  },
  {
   "cell_type": "code",
   "execution_count": 139,
   "metadata": {},
   "outputs": [],
   "source": [
    "import math as m\n",
    "import scipy.stats as stats"
   ]
  },
  {
   "cell_type": "code",
   "execution_count": 140,
   "metadata": {},
   "outputs": [],
   "source": [
    "mcorr=df_train.corr(method=\"pearson\")"
   ]
  },
  {
   "cell_type": "code",
   "execution_count": 141,
   "metadata": {},
   "outputs": [],
   "source": [
    "ch2=(n-1-(2*p+5/6)*m.log(np.linalg.det(mcorr)))"
   ]
  },
  {
   "cell_type": "code",
   "execution_count": 144,
   "metadata": {},
   "outputs": [],
   "source": [
    "ddl=p*(p-1)/2"
   ]
  },
  {
   "cell_type": "code",
   "execution_count": 146,
   "metadata": {},
   "outputs": [
    {
     "name": "stdout",
     "output_type": "stream",
     "text": [
      "4.33466733741396e-102\n"
     ]
    }
   ],
   "source": [
    "pvalue=stats.chi2.pdf(ch2,ddl);print(pvalue)"
   ]
  },
  {
   "cell_type": "code",
   "execution_count": null,
   "metadata": {},
   "outputs": [],
   "source": [
    "0.0000000000000...4334"
   ]
  },
  {
   "cell_type": "markdown",
   "metadata": {},
   "source": [
    "- H nula : las variables no están correlacionadas\n",
    "- H alterna: las variables están correlacionadas"
   ]
  },
  {
   "cell_type": "markdown",
   "metadata": {},
   "source": [
    "- pvalor >=0.05 aceptamos la hipótesis nula\n",
    "- pvalor < 0.05 rechazamos la hipótesis nula y aceptamos la alterna"
   ]
  },
  {
   "cell_type": "markdown",
   "metadata": {},
   "source": [
    "Conclusión: existe un problema de multicolinealidad"
   ]
  },
  {
   "cell_type": "markdown",
   "metadata": {},
   "source": [
    "**Paso 2**: ¿cuántos componentes?"
   ]
  },
  {
   "cell_type": "markdown",
   "metadata": {},
   "source": [
    "**criterio de Kaiser**: varianza debe ser igual o mayor a 1"
   ]
  },
  {
   "cell_type": "code",
   "execution_count": 147,
   "metadata": {},
   "outputs": [],
   "source": [
    "cov_mat = np.cov(x_train_std.T)"
   ]
  },
  {
   "cell_type": "code",
   "execution_count": 149,
   "metadata": {},
   "outputs": [],
   "source": [
    "autovalores, autovectores = np.linalg.eig(cov_mat)"
   ]
  },
  {
   "cell_type": "code",
   "execution_count": 150,
   "metadata": {},
   "outputs": [
    {
     "data": {
      "text/plain": [
       "array([2.55, 1.94, 0.25, 1.29, 1.25, 1.17, 0.49, 0.53, 0.56, 0.64, 0.71,\n",
       "       0.81, 0.93, 0.96, 0.95])"
      ]
     },
     "execution_count": 150,
     "metadata": {},
     "output_type": "execute_result"
    }
   ],
   "source": [
    "np.round(autovalores,2)"
   ]
  },
  {
   "cell_type": "markdown",
   "metadata": {},
   "source": [
    "**Conclusión**: siguiendo el criterio de **Kaiser** el número de dimensiones es igual a 5"
   ]
  },
  {
   "cell_type": "code",
   "execution_count": 152,
   "metadata": {},
   "outputs": [
    {
     "data": {
      "text/plain": [
       "17.001328383566204"
      ]
     },
     "execution_count": 152,
     "metadata": {},
     "output_type": "execute_result"
    }
   ],
   "source": [
    "autovalores[0]/autovalores.sum()*100"
   ]
  },
  {
   "cell_type": "markdown",
   "metadata": {},
   "source": [
    "**Nota**: el PC! explica el 17 % de la varianza de los datos"
   ]
  },
  {
   "cell_type": "code",
   "execution_count": 153,
   "metadata": {},
   "outputs": [],
   "source": [
    "from sklearn.decomposition import PCA"
   ]
  },
  {
   "cell_type": "code",
   "execution_count": 154,
   "metadata": {},
   "outputs": [],
   "source": [
    "pca = PCA(n_components=5)"
   ]
  },
  {
   "cell_type": "code",
   "execution_count": 155,
   "metadata": {},
   "outputs": [],
   "source": [
    "x_train_pca = pca.fit_transform(x_train_std)"
   ]
  },
  {
   "cell_type": "code",
   "execution_count": 156,
   "metadata": {},
   "outputs": [],
   "source": [
    "x_train_pca_df = pd.DataFrame(x_train_pca,\n",
    "                             columns=[\"PC1\",\"PC2\",\"PC3\",\"PC4\",\"PC5\"])"
   ]
  },
  {
   "cell_type": "code",
   "execution_count": 157,
   "metadata": {},
   "outputs": [
    {
     "data": {
      "text/html": [
       "<div>\n",
       "<style scoped>\n",
       "    .dataframe tbody tr th:only-of-type {\n",
       "        vertical-align: middle;\n",
       "    }\n",
       "\n",
       "    .dataframe tbody tr th {\n",
       "        vertical-align: top;\n",
       "    }\n",
       "\n",
       "    .dataframe thead th {\n",
       "        text-align: right;\n",
       "    }\n",
       "</style>\n",
       "<table border=\"1\" class=\"dataframe\">\n",
       "  <thead>\n",
       "    <tr style=\"text-align: right;\">\n",
       "      <th></th>\n",
       "      <th>PC1</th>\n",
       "      <th>PC2</th>\n",
       "      <th>PC3</th>\n",
       "      <th>PC4</th>\n",
       "      <th>PC5</th>\n",
       "    </tr>\n",
       "  </thead>\n",
       "  <tbody>\n",
       "    <tr>\n",
       "      <th>0</th>\n",
       "      <td>-1.187711</td>\n",
       "      <td>-1.999904</td>\n",
       "      <td>2.681628</td>\n",
       "      <td>1.523508</td>\n",
       "      <td>-1.017907</td>\n",
       "    </tr>\n",
       "    <tr>\n",
       "      <th>1</th>\n",
       "      <td>-3.086301</td>\n",
       "      <td>1.262873</td>\n",
       "      <td>1.443547</td>\n",
       "      <td>1.727725</td>\n",
       "      <td>0.506240</td>\n",
       "    </tr>\n",
       "    <tr>\n",
       "      <th>2</th>\n",
       "      <td>2.155541</td>\n",
       "      <td>-1.038378</td>\n",
       "      <td>0.147975</td>\n",
       "      <td>-0.050686</td>\n",
       "      <td>-3.117033</td>\n",
       "    </tr>\n",
       "    <tr>\n",
       "      <th>3</th>\n",
       "      <td>-1.456585</td>\n",
       "      <td>-0.070526</td>\n",
       "      <td>-1.667803</td>\n",
       "      <td>-0.066034</td>\n",
       "      <td>1.044369</td>\n",
       "    </tr>\n",
       "    <tr>\n",
       "      <th>4</th>\n",
       "      <td>-1.554560</td>\n",
       "      <td>1.322221</td>\n",
       "      <td>-0.341094</td>\n",
       "      <td>1.534566</td>\n",
       "      <td>-0.415363</td>\n",
       "    </tr>\n",
       "  </tbody>\n",
       "</table>\n",
       "</div>"
      ],
      "text/plain": [
       "        PC1       PC2       PC3       PC4       PC5\n",
       "0 -1.187711 -1.999904  2.681628  1.523508 -1.017907\n",
       "1 -3.086301  1.262873  1.443547  1.727725  0.506240\n",
       "2  2.155541 -1.038378  0.147975 -0.050686 -3.117033\n",
       "3 -1.456585 -0.070526 -1.667803 -0.066034  1.044369\n",
       "4 -1.554560  1.322221 -0.341094  1.534566 -0.415363"
      ]
     },
     "execution_count": 157,
     "metadata": {},
     "output_type": "execute_result"
    }
   ],
   "source": [
    "x_train_pca_df.head()"
   ]
  },
  {
   "cell_type": "code",
   "execution_count": 158,
   "metadata": {},
   "outputs": [
    {
     "data": {
      "text/html": [
       "<div>\n",
       "<style scoped>\n",
       "    .dataframe tbody tr th:only-of-type {\n",
       "        vertical-align: middle;\n",
       "    }\n",
       "\n",
       "    .dataframe tbody tr th {\n",
       "        vertical-align: top;\n",
       "    }\n",
       "\n",
       "    .dataframe thead th {\n",
       "        text-align: right;\n",
       "    }\n",
       "</style>\n",
       "<table border=\"1\" class=\"dataframe\">\n",
       "  <thead>\n",
       "    <tr style=\"text-align: right;\">\n",
       "      <th></th>\n",
       "      <th>PC1</th>\n",
       "      <th>PC2</th>\n",
       "      <th>PC3</th>\n",
       "      <th>PC4</th>\n",
       "      <th>PC5</th>\n",
       "    </tr>\n",
       "  </thead>\n",
       "  <tbody>\n",
       "    <tr>\n",
       "      <th>PC1</th>\n",
       "      <td>1.000000e+00</td>\n",
       "      <td>5.808671e-18</td>\n",
       "      <td>4.400003e-17</td>\n",
       "      <td>1.347269e-16</td>\n",
       "      <td>-7.366626e-17</td>\n",
       "    </tr>\n",
       "    <tr>\n",
       "      <th>PC2</th>\n",
       "      <td>5.808671e-18</td>\n",
       "      <td>1.000000e+00</td>\n",
       "      <td>-5.966461e-17</td>\n",
       "      <td>-5.168591e-17</td>\n",
       "      <td>-1.301291e-16</td>\n",
       "    </tr>\n",
       "    <tr>\n",
       "      <th>PC3</th>\n",
       "      <td>4.400003e-17</td>\n",
       "      <td>-5.966461e-17</td>\n",
       "      <td>1.000000e+00</td>\n",
       "      <td>-7.251783e-16</td>\n",
       "      <td>-2.778875e-16</td>\n",
       "    </tr>\n",
       "    <tr>\n",
       "      <th>PC4</th>\n",
       "      <td>1.347269e-16</td>\n",
       "      <td>-5.168591e-17</td>\n",
       "      <td>-7.251783e-16</td>\n",
       "      <td>1.000000e+00</td>\n",
       "      <td>2.077762e-16</td>\n",
       "    </tr>\n",
       "    <tr>\n",
       "      <th>PC5</th>\n",
       "      <td>-7.366626e-17</td>\n",
       "      <td>-1.301291e-16</td>\n",
       "      <td>-2.778875e-16</td>\n",
       "      <td>2.077762e-16</td>\n",
       "      <td>1.000000e+00</td>\n",
       "    </tr>\n",
       "  </tbody>\n",
       "</table>\n",
       "</div>"
      ],
      "text/plain": [
       "              PC1           PC2           PC3           PC4           PC5\n",
       "PC1  1.000000e+00  5.808671e-18  4.400003e-17  1.347269e-16 -7.366626e-17\n",
       "PC2  5.808671e-18  1.000000e+00 -5.966461e-17 -5.168591e-17 -1.301291e-16\n",
       "PC3  4.400003e-17 -5.966461e-17  1.000000e+00 -7.251783e-16 -2.778875e-16\n",
       "PC4  1.347269e-16 -5.168591e-17 -7.251783e-16  1.000000e+00  2.077762e-16\n",
       "PC5 -7.366626e-17 -1.301291e-16 -2.778875e-16  2.077762e-16  1.000000e+00"
      ]
     },
     "execution_count": 158,
     "metadata": {},
     "output_type": "execute_result"
    }
   ],
   "source": [
    "x_train_pca_df.corr(method=\"pearson\")"
   ]
  },
  {
   "cell_type": "markdown",
   "metadata": {},
   "source": [
    "**Análisis Factorial**"
   ]
  },
  {
   "cell_type": "code",
   "execution_count": 159,
   "metadata": {},
   "outputs": [],
   "source": [
    "from sklearn.decomposition import FactorAnalysis"
   ]
  },
  {
   "cell_type": "code",
   "execution_count": 160,
   "metadata": {},
   "outputs": [],
   "source": [
    "fa = FactorAnalysis(n_components=5)"
   ]
  },
  {
   "cell_type": "code",
   "execution_count": 161,
   "metadata": {},
   "outputs": [],
   "source": [
    "x_train_fa = fa.fit_transform(x_train_std)"
   ]
  },
  {
   "cell_type": "code",
   "execution_count": 162,
   "metadata": {},
   "outputs": [],
   "source": [
    "x_train_fa_df = pd.DataFrame(x_train_fa,\n",
    "                             columns=[\"FA1\",\"FA2\",\"FA3\",\"FA4\",\"FA5\"])"
   ]
  },
  {
   "cell_type": "code",
   "execution_count": 163,
   "metadata": {},
   "outputs": [
    {
     "data": {
      "text/html": [
       "<div>\n",
       "<style scoped>\n",
       "    .dataframe tbody tr th:only-of-type {\n",
       "        vertical-align: middle;\n",
       "    }\n",
       "\n",
       "    .dataframe tbody tr th {\n",
       "        vertical-align: top;\n",
       "    }\n",
       "\n",
       "    .dataframe thead th {\n",
       "        text-align: right;\n",
       "    }\n",
       "</style>\n",
       "<table border=\"1\" class=\"dataframe\">\n",
       "  <thead>\n",
       "    <tr style=\"text-align: right;\">\n",
       "      <th></th>\n",
       "      <th>FA1</th>\n",
       "      <th>FA2</th>\n",
       "      <th>FA3</th>\n",
       "      <th>FA4</th>\n",
       "      <th>FA5</th>\n",
       "    </tr>\n",
       "  </thead>\n",
       "  <tbody>\n",
       "    <tr>\n",
       "      <th>FA1</th>\n",
       "      <td>1.000000e+00</td>\n",
       "      <td>-1.067555e-13</td>\n",
       "      <td>1.086080e-13</td>\n",
       "      <td>2.389824e-14</td>\n",
       "      <td>-8.562856e-14</td>\n",
       "    </tr>\n",
       "    <tr>\n",
       "      <th>FA2</th>\n",
       "      <td>-1.067555e-13</td>\n",
       "      <td>1.000000e+00</td>\n",
       "      <td>-2.088004e-13</td>\n",
       "      <td>3.676634e-14</td>\n",
       "      <td>-7.101854e-14</td>\n",
       "    </tr>\n",
       "    <tr>\n",
       "      <th>FA3</th>\n",
       "      <td>1.086080e-13</td>\n",
       "      <td>-2.088004e-13</td>\n",
       "      <td>1.000000e+00</td>\n",
       "      <td>-2.574258e-14</td>\n",
       "      <td>-2.131784e-14</td>\n",
       "    </tr>\n",
       "    <tr>\n",
       "      <th>FA4</th>\n",
       "      <td>2.389824e-14</td>\n",
       "      <td>3.676634e-14</td>\n",
       "      <td>-2.574258e-14</td>\n",
       "      <td>1.000000e+00</td>\n",
       "      <td>-5.536686e-14</td>\n",
       "    </tr>\n",
       "    <tr>\n",
       "      <th>FA5</th>\n",
       "      <td>-8.562856e-14</td>\n",
       "      <td>-7.101854e-14</td>\n",
       "      <td>-2.131784e-14</td>\n",
       "      <td>-5.536686e-14</td>\n",
       "      <td>1.000000e+00</td>\n",
       "    </tr>\n",
       "  </tbody>\n",
       "</table>\n",
       "</div>"
      ],
      "text/plain": [
       "              FA1           FA2           FA3           FA4           FA5\n",
       "FA1  1.000000e+00 -1.067555e-13  1.086080e-13  2.389824e-14 -8.562856e-14\n",
       "FA2 -1.067555e-13  1.000000e+00 -2.088004e-13  3.676634e-14 -7.101854e-14\n",
       "FA3  1.086080e-13 -2.088004e-13  1.000000e+00 -2.574258e-14 -2.131784e-14\n",
       "FA4  2.389824e-14  3.676634e-14 -2.574258e-14  1.000000e+00 -5.536686e-14\n",
       "FA5 -8.562856e-14 -7.101854e-14 -2.131784e-14 -5.536686e-14  1.000000e+00"
      ]
     },
     "execution_count": 163,
     "metadata": {},
     "output_type": "execute_result"
    }
   ],
   "source": [
    "x_train_fa_df.corr(method=\"pearson\")"
   ]
  },
  {
   "cell_type": "code",
   "execution_count": null,
   "metadata": {},
   "outputs": [],
   "source": []
  }
 ],
 "metadata": {
  "kernelspec": {
   "display_name": "Python 3",
   "language": "python",
   "name": "python3"
  },
  "language_info": {
   "codemirror_mode": {
    "name": "ipython",
    "version": 3
   },
   "file_extension": ".py",
   "mimetype": "text/x-python",
   "name": "python",
   "nbconvert_exporter": "python",
   "pygments_lexer": "ipython3",
   "version": "3.8.5"
  }
 },
 "nbformat": 4,
 "nbformat_minor": 4
}
