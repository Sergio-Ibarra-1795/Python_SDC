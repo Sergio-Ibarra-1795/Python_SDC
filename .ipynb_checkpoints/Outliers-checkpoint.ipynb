{
 "cells": [
  {
   "cell_type": "markdown",
   "id": "1962182f",
   "metadata": {},
   "source": [
    "**OUTLIERS**"
   ]
  },
  {
   "cell_type": "code",
   "execution_count": 1,
   "id": "7d3bf92b",
   "metadata": {},
   "outputs": [],
   "source": [
    "import os\n",
    "import pandas as pd\n",
    "from sklearn.model_selection import train_test_split"
   ]
  },
  {
   "cell_type": "code",
   "execution_count": 2,
   "id": "7aeff9d2",
   "metadata": {},
   "outputs": [],
   "source": [
    "os.chdir(R\"C:\\Users\\sergi\\OneDrive\\Documentos\\SIR_personal\\Python_SDC_HP-i3\")"
   ]
  },
  {
   "cell_type": "code",
   "execution_count": 3,
   "id": "efd5c59b",
   "metadata": {},
   "outputs": [],
   "source": [
    "df = pd.read_csv(\"data_credit.csv\",\n",
    "                sep=\",\",\n",
    "                encoding=\"ISO-8859-1\")"
   ]
  },
  {
   "cell_type": "code",
   "execution_count": null,
   "id": "6df04f47",
   "metadata": {},
   "outputs": [],
   "source": []
  }
 ],
 "metadata": {
  "kernelspec": {
   "display_name": "Python 3 (ipykernel)",
   "language": "python",
   "name": "python3"
  },
  "language_info": {
   "codemirror_mode": {
    "name": "ipython",
    "version": 3
   },
   "file_extension": ".py",
   "mimetype": "text/x-python",
   "name": "python",
   "nbconvert_exporter": "python",
   "pygments_lexer": "ipython3",
   "version": "3.9.13"
  }
 },
 "nbformat": 4,
 "nbformat_minor": 5
}
