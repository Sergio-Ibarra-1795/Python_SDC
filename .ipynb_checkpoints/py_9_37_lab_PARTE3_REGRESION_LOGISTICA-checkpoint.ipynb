{
 "cells": [
  {
   "cell_type": "markdown",
   "metadata": {},
   "source": [
    "**Regresión logística**"
   ]
  },
  {
   "cell_type": "code",
   "execution_count": 2,
   "metadata": {},
   "outputs": [
    {
     "name": "stdout",
     "output_type": "stream",
     "text": [
      "Collecting imblearn\n",
      "  Downloading imblearn-0.0-py2.py3-none-any.whl (1.9 kB)\n",
      "Collecting imbalanced-learn\n",
      "  Downloading imbalanced_learn-0.10.1-py3-none-any.whl (226 kB)\n",
      "     ------------------------------------ 226.0/226.0 kB 531.4 kB/s eta 0:00:00\n",
      "Requirement already satisfied: threadpoolctl>=2.0.0 in c:\\users\\llell\\anaconda3\\lib\\site-packages (from imbalanced-learn->imblearn) (2.2.0)\n",
      "Requirement already satisfied: numpy>=1.17.3 in c:\\users\\llell\\anaconda3\\lib\\site-packages (from imbalanced-learn->imblearn) (1.21.5)\n",
      "Collecting joblib>=1.1.1\n",
      "  Downloading joblib-1.2.0-py3-none-any.whl (297 kB)\n",
      "     ------------------------------------ 298.0/298.0 kB 312.1 kB/s eta 0:00:00\n",
      "Requirement already satisfied: scipy>=1.3.2 in c:\\users\\llell\\anaconda3\\lib\\site-packages (from imbalanced-learn->imblearn) (1.9.1)\n",
      "Requirement already satisfied: scikit-learn>=1.0.2 in c:\\users\\llell\\anaconda3\\lib\\site-packages (from imbalanced-learn->imblearn) (1.0.2)\n",
      "Installing collected packages: joblib, imbalanced-learn, imblearn\n",
      "  Attempting uninstall: joblib\n",
      "    Found existing installation: joblib 1.1.0\n",
      "    Uninstalling joblib-1.1.0:\n",
      "      Successfully uninstalled joblib-1.1.0\n",
      "Successfully installed imbalanced-learn-0.10.1 imblearn-0.0 joblib-1.2.0\n",
      "Note: you may need to restart the kernel to use updated packages.\n"
     ]
    }
   ],
   "source": [
    "pip install imblearn"
   ]
  },
  {
   "cell_type": "code",
   "execution_count": 1,
   "metadata": {
    "scrolled": true
   },
   "outputs": [],
   "source": [
    "import numpy as np\n",
    "import scipy\n",
    "import statsmodels.api as sm\n",
    "from imblearn.combine import SMOTETomek\n",
    "import pandas as pd\n",
    "import matplotlib.pyplot as plt\n",
    "import seaborn as sns\n",
    "import os\n",
    "from sklearn.model_selection import train_test_split\n",
    "from sklearn.linear_model import LogisticRegression #modelo de regresión\n",
    "from sklearn.metrics import classification_report #reporte del modelo de clasificación\n",
    "from sklearn.metrics import confusion_matrix #matrix de confusión\n",
    "from sklearn.feature_selection import RFE #selección de predictores\n",
    "from pylab import rcParams"
   ]
  },
  {
   "cell_type": "code",
   "execution_count": 2,
   "metadata": {},
   "outputs": [
    {
     "name": "stderr",
     "output_type": "stream",
     "text": [
      "C:\\Users\\llell\\AppData\\Local\\Temp\\ipykernel_19648\\3539593243.py:1: DtypeWarning: Columns (6) have mixed types. Specify dtype option on import or set low_memory=False.\n",
      "  data=pd.read_csv(\"Grid_v1.csv\")\n"
     ]
    }
   ],
   "source": [
    "data=pd.read_csv(\"Grid_v1.csv\")"
   ]
  },
  {
   "cell_type": "code",
   "execution_count": 3,
   "metadata": {},
   "outputs": [
    {
     "data": {
      "text/html": [
       "<div>\n",
       "<style scoped>\n",
       "    .dataframe tbody tr th:only-of-type {\n",
       "        vertical-align: middle;\n",
       "    }\n",
       "\n",
       "    .dataframe tbody tr th {\n",
       "        vertical-align: top;\n",
       "    }\n",
       "\n",
       "    .dataframe thead th {\n",
       "        text-align: right;\n",
       "    }\n",
       "</style>\n",
       "<table border=\"1\" class=\"dataframe\">\n",
       "  <thead>\n",
       "    <tr style=\"text-align: right;\">\n",
       "      <th></th>\n",
       "      <th>Description</th>\n",
       "      <th>Col_Name</th>\n",
       "      <th>Row_Name</th>\n",
       "      <th>rsrp</th>\n",
       "      <th>incidentes</th>\n",
       "      <th>redireccion</th>\n",
       "      <th>best_server</th>\n",
       "      <th>cqi</th>\n",
       "    </tr>\n",
       "  </thead>\n",
       "  <tbody>\n",
       "    <tr>\n",
       "      <th>0</th>\n",
       "      <td>A1</td>\n",
       "      <td>A</td>\n",
       "      <td>1</td>\n",
       "      <td>0.0</td>\n",
       "      <td>0</td>\n",
       "      <td>0.0</td>\n",
       "      <td>NaN</td>\n",
       "      <td>0.0</td>\n",
       "    </tr>\n",
       "    <tr>\n",
       "      <th>1</th>\n",
       "      <td>A2</td>\n",
       "      <td>A</td>\n",
       "      <td>2</td>\n",
       "      <td>0.0</td>\n",
       "      <td>0</td>\n",
       "      <td>0.0</td>\n",
       "      <td>NaN</td>\n",
       "      <td>0.0</td>\n",
       "    </tr>\n",
       "    <tr>\n",
       "      <th>2</th>\n",
       "      <td>A3</td>\n",
       "      <td>A</td>\n",
       "      <td>3</td>\n",
       "      <td>0.0</td>\n",
       "      <td>0</td>\n",
       "      <td>0.0</td>\n",
       "      <td>NaN</td>\n",
       "      <td>0.0</td>\n",
       "    </tr>\n",
       "    <tr>\n",
       "      <th>3</th>\n",
       "      <td>A4</td>\n",
       "      <td>A</td>\n",
       "      <td>4</td>\n",
       "      <td>0.0</td>\n",
       "      <td>0</td>\n",
       "      <td>0.0</td>\n",
       "      <td>NaN</td>\n",
       "      <td>0.0</td>\n",
       "    </tr>\n",
       "    <tr>\n",
       "      <th>4</th>\n",
       "      <td>A5</td>\n",
       "      <td>A</td>\n",
       "      <td>5</td>\n",
       "      <td>0.0</td>\n",
       "      <td>0</td>\n",
       "      <td>0.0</td>\n",
       "      <td>NaN</td>\n",
       "      <td>0.0</td>\n",
       "    </tr>\n",
       "  </tbody>\n",
       "</table>\n",
       "</div>"
      ],
      "text/plain": [
       "  Description Col_Name  Row_Name  rsrp  incidentes  redireccion best_server  \\\n",
       "0          A1        A         1   0.0           0          0.0         NaN   \n",
       "1          A2        A         2   0.0           0          0.0         NaN   \n",
       "2          A3        A         3   0.0           0          0.0         NaN   \n",
       "3          A4        A         4   0.0           0          0.0         NaN   \n",
       "4          A5        A         5   0.0           0          0.0         NaN   \n",
       "\n",
       "   cqi  \n",
       "0  0.0  \n",
       "1  0.0  \n",
       "2  0.0  \n",
       "3  0.0  \n",
       "4  0.0  "
      ]
     },
     "execution_count": 3,
     "metadata": {},
     "output_type": "execute_result"
    }
   ],
   "source": [
    "data.head()"
   ]
  },
  {
   "cell_type": "code",
   "execution_count": 4,
   "metadata": {},
   "outputs": [
    {
     "data": {
      "text/plain": [
       "197640"
      ]
     },
     "execution_count": 4,
     "metadata": {},
     "output_type": "execute_result"
    }
   ],
   "source": [
    "len(data)"
   ]
  },
  {
   "cell_type": "code",
   "execution_count": 5,
   "metadata": {},
   "outputs": [
    {
     "data": {
      "text/plain": [
       "pandas.core.frame.DataFrame"
      ]
     },
     "execution_count": 5,
     "metadata": {},
     "output_type": "execute_result"
    }
   ],
   "source": [
    "type(data)"
   ]
  },
  {
   "cell_type": "markdown",
   "metadata": {},
   "source": [
    "### Filtro de ciertas columnas de un conjunto de datos, usando loc"
   ]
  },
  {
   "cell_type": "code",
   "execution_count": 6,
   "metadata": {},
   "outputs": [],
   "source": [
    "data=data.loc[(data[\"rsrp\"]<0)]"
   ]
  },
  {
   "cell_type": "code",
   "execution_count": 7,
   "metadata": {},
   "outputs": [
    {
     "data": {
      "text/html": [
       "<div>\n",
       "<style scoped>\n",
       "    .dataframe tbody tr th:only-of-type {\n",
       "        vertical-align: middle;\n",
       "    }\n",
       "\n",
       "    .dataframe tbody tr th {\n",
       "        vertical-align: top;\n",
       "    }\n",
       "\n",
       "    .dataframe thead th {\n",
       "        text-align: right;\n",
       "    }\n",
       "</style>\n",
       "<table border=\"1\" class=\"dataframe\">\n",
       "  <thead>\n",
       "    <tr style=\"text-align: right;\">\n",
       "      <th></th>\n",
       "      <th>Description</th>\n",
       "      <th>Col_Name</th>\n",
       "      <th>Row_Name</th>\n",
       "      <th>rsrp</th>\n",
       "      <th>incidentes</th>\n",
       "      <th>redireccion</th>\n",
       "      <th>best_server</th>\n",
       "      <th>cqi</th>\n",
       "    </tr>\n",
       "  </thead>\n",
       "  <tbody>\n",
       "    <tr>\n",
       "      <th>14400</th>\n",
       "      <td>AA127</td>\n",
       "      <td>AA</td>\n",
       "      <td>127</td>\n",
       "      <td>-115.7500</td>\n",
       "      <td>0</td>\n",
       "      <td>884.696988</td>\n",
       "      <td>01403753_LM_Ancon</td>\n",
       "      <td>10.856694</td>\n",
       "    </tr>\n",
       "    <tr>\n",
       "      <th>14949</th>\n",
       "      <td>AB127</td>\n",
       "      <td>AB</td>\n",
       "      <td>127</td>\n",
       "      <td>-112.7500</td>\n",
       "      <td>0</td>\n",
       "      <td>381.359613</td>\n",
       "      <td>01403753_LM_Ancon</td>\n",
       "      <td>11.205094</td>\n",
       "    </tr>\n",
       "    <tr>\n",
       "      <th>15498</th>\n",
       "      <td>AC127</td>\n",
       "      <td>AC</td>\n",
       "      <td>127</td>\n",
       "      <td>-118.3750</td>\n",
       "      <td>0</td>\n",
       "      <td>713.387431</td>\n",
       "      <td>01403753_LM_Ancon</td>\n",
       "      <td>8.729160</td>\n",
       "    </tr>\n",
       "    <tr>\n",
       "      <th>16046</th>\n",
       "      <td>AD126</td>\n",
       "      <td>AD</td>\n",
       "      <td>126</td>\n",
       "      <td>-115.3750</td>\n",
       "      <td>0</td>\n",
       "      <td>307.311721</td>\n",
       "      <td>01403753_LM_Ancon</td>\n",
       "      <td>9.607077</td>\n",
       "    </tr>\n",
       "    <tr>\n",
       "      <th>16596</th>\n",
       "      <td>AE127</td>\n",
       "      <td>AE</td>\n",
       "      <td>127</td>\n",
       "      <td>-118.1875</td>\n",
       "      <td>0</td>\n",
       "      <td>1728.576707</td>\n",
       "      <td>01403753_LM_Ancon</td>\n",
       "      <td>9.835512</td>\n",
       "    </tr>\n",
       "  </tbody>\n",
       "</table>\n",
       "</div>"
      ],
      "text/plain": [
       "      Description Col_Name  Row_Name      rsrp  incidentes  redireccion  \\\n",
       "14400       AA127       AA       127 -115.7500           0   884.696988   \n",
       "14949       AB127       AB       127 -112.7500           0   381.359613   \n",
       "15498       AC127       AC       127 -118.3750           0   713.387431   \n",
       "16046       AD126       AD       126 -115.3750           0   307.311721   \n",
       "16596       AE127       AE       127 -118.1875           0  1728.576707   \n",
       "\n",
       "             best_server        cqi  \n",
       "14400  01403753_LM_Ancon  10.856694  \n",
       "14949  01403753_LM_Ancon  11.205094  \n",
       "15498  01403753_LM_Ancon   8.729160  \n",
       "16046  01403753_LM_Ancon   9.607077  \n",
       "16596  01403753_LM_Ancon   9.835512  "
      ]
     },
     "execution_count": 7,
     "metadata": {},
     "output_type": "execute_result"
    }
   ],
   "source": [
    "data.head()"
   ]
  },
  {
   "cell_type": "code",
   "execution_count": 8,
   "metadata": {},
   "outputs": [
    {
     "data": {
      "text/html": [
       "<div>\n",
       "<style scoped>\n",
       "    .dataframe tbody tr th:only-of-type {\n",
       "        vertical-align: middle;\n",
       "    }\n",
       "\n",
       "    .dataframe tbody tr th {\n",
       "        vertical-align: top;\n",
       "    }\n",
       "\n",
       "    .dataframe thead th {\n",
       "        text-align: right;\n",
       "    }\n",
       "</style>\n",
       "<table border=\"1\" class=\"dataframe\">\n",
       "  <thead>\n",
       "    <tr style=\"text-align: right;\">\n",
       "      <th></th>\n",
       "      <th>Description</th>\n",
       "      <th>Col_Name</th>\n",
       "      <th>Row_Name</th>\n",
       "      <th>rsrp</th>\n",
       "      <th>incidentes</th>\n",
       "      <th>redireccion</th>\n",
       "      <th>best_server</th>\n",
       "      <th>cqi</th>\n",
       "    </tr>\n",
       "  </thead>\n",
       "  <tbody>\n",
       "    <tr>\n",
       "      <th>173676</th>\n",
       "      <td>LE193</td>\n",
       "      <td>LE</td>\n",
       "      <td>193</td>\n",
       "      <td>-112.5625</td>\n",
       "      <td>0</td>\n",
       "      <td>64.675671</td>\n",
       "      <td>01405591_LM_Plaza_Santa_Eulalia</td>\n",
       "      <td>9.532046</td>\n",
       "    </tr>\n",
       "    <tr>\n",
       "      <th>173690</th>\n",
       "      <td>LE207</td>\n",
       "      <td>LE</td>\n",
       "      <td>207</td>\n",
       "      <td>-113.5000</td>\n",
       "      <td>0</td>\n",
       "      <td>82.145773</td>\n",
       "      <td>01450321_LM_Sarita_Colonia</td>\n",
       "      <td>9.948742</td>\n",
       "    </tr>\n",
       "    <tr>\n",
       "      <th>173691</th>\n",
       "      <td>LE208</td>\n",
       "      <td>LE</td>\n",
       "      <td>208</td>\n",
       "      <td>-113.6875</td>\n",
       "      <td>0</td>\n",
       "      <td>82.145773</td>\n",
       "      <td>01450321_LM_Sarita_Colonia</td>\n",
       "      <td>9.173187</td>\n",
       "    </tr>\n",
       "    <tr>\n",
       "      <th>174224</th>\n",
       "      <td>LF192</td>\n",
       "      <td>LF</td>\n",
       "      <td>192</td>\n",
       "      <td>-116.1250</td>\n",
       "      <td>0</td>\n",
       "      <td>83.135283</td>\n",
       "      <td>01405581_LM_Cerro_Santa_Eulalia</td>\n",
       "      <td>9.112160</td>\n",
       "    </tr>\n",
       "    <tr>\n",
       "      <th>174240</th>\n",
       "      <td>LF208</td>\n",
       "      <td>LF</td>\n",
       "      <td>208</td>\n",
       "      <td>-115.0000</td>\n",
       "      <td>0</td>\n",
       "      <td>73.747253</td>\n",
       "      <td>01450321_LM_Sarita_Colonia</td>\n",
       "      <td>8.561027</td>\n",
       "    </tr>\n",
       "  </tbody>\n",
       "</table>\n",
       "</div>"
      ],
      "text/plain": [
       "       Description Col_Name  Row_Name      rsrp  incidentes  redireccion  \\\n",
       "173676       LE193       LE       193 -112.5625           0    64.675671   \n",
       "173690       LE207       LE       207 -113.5000           0    82.145773   \n",
       "173691       LE208       LE       208 -113.6875           0    82.145773   \n",
       "174224       LF192       LF       192 -116.1250           0    83.135283   \n",
       "174240       LF208       LF       208 -115.0000           0    73.747253   \n",
       "\n",
       "                            best_server       cqi  \n",
       "173676  01405591_LM_Plaza_Santa_Eulalia  9.532046  \n",
       "173690       01450321_LM_Sarita_Colonia  9.948742  \n",
       "173691       01450321_LM_Sarita_Colonia  9.173187  \n",
       "174224  01405581_LM_Cerro_Santa_Eulalia  9.112160  \n",
       "174240       01450321_LM_Sarita_Colonia  8.561027  "
      ]
     },
     "execution_count": 8,
     "metadata": {},
     "output_type": "execute_result"
    }
   ],
   "source": [
    "data.tail()"
   ]
  },
  {
   "cell_type": "code",
   "execution_count": 9,
   "metadata": {},
   "outputs": [
    {
     "data": {
      "text/plain": [
       "0    21601\n",
       "1     1279\n",
       "2      167\n",
       "3       41\n",
       "4       11\n",
       "6        2\n",
       "7        1\n",
       "5        1\n",
       "Name: incidentes, dtype: int64"
      ]
     },
     "execution_count": 9,
     "metadata": {},
     "output_type": "execute_result"
    }
   ],
   "source": [
    "pd.value_counts(data[\"incidentes\"],sort=True)"
   ]
  },
  {
   "cell_type": "markdown",
   "metadata": {},
   "source": [
    "Reemplazamos todos los que si hayan reclamado más de una vez por 1 "
   ]
  },
  {
   "cell_type": "code",
   "execution_count": 10,
   "metadata": {},
   "outputs": [],
   "source": [
    "data[\"incidentes\"]=data[\"incidentes\"].replace([2,3,4,5,6,7],1)"
   ]
  },
  {
   "cell_type": "code",
   "execution_count": 11,
   "metadata": {},
   "outputs": [
    {
     "data": {
      "text/plain": [
       "0    21601\n",
       "1     1502\n",
       "Name: incidentes, dtype: int64"
      ]
     },
     "execution_count": 11,
     "metadata": {},
     "output_type": "execute_result"
    }
   ],
   "source": [
    "pd.value_counts(data[\"incidentes\"],sort=True)"
   ]
  },
  {
   "cell_type": "code",
   "execution_count": 12,
   "metadata": {},
   "outputs": [
    {
     "data": {
      "text/plain": [
       "0    93.5\n",
       "1     6.5\n",
       "Name: incidentes, dtype: float64"
      ]
     },
     "execution_count": 12,
     "metadata": {},
     "output_type": "execute_result"
    }
   ],
   "source": [
    "round(pd.value_counts(data[\"incidentes\"],sort=True)/len(data)*100,2)"
   ]
  },
  {
   "cell_type": "code",
   "execution_count": 13,
   "metadata": {},
   "outputs": [
    {
     "data": {
      "text/plain": [
       "0    21601\n",
       "1     1502\n",
       "Name: incidentes, dtype: int64"
      ]
     },
     "execution_count": 13,
     "metadata": {},
     "output_type": "execute_result"
    }
   ],
   "source": [
    "pd.value_counts(data[\"incidentes\"],sort=True)"
   ]
  },
  {
   "cell_type": "markdown",
   "metadata": {},
   "source": [
    "**El 6.5% de las zonas han planteado algún reclamo**"
   ]
  },
  {
   "cell_type": "markdown",
   "metadata": {},
   "source": [
    "- indicador base: 6.5% (1502)\n",
    "- indicador objetivo: 3% (694)\n",
    "    \n",
    "- sensibilidad (requerida mínima) predecir 808 (sensibilidad=0.54)"
   ]
  },
  {
   "cell_type": "code",
   "execution_count": 14,
   "metadata": {},
   "outputs": [
    {
     "data": {
      "text/plain": [
       "0.5379494007989347"
      ]
     },
     "execution_count": 14,
     "metadata": {},
     "output_type": "execute_result"
    }
   ],
   "source": [
    "808/1502"
   ]
  },
  {
   "cell_type": "markdown",
   "metadata": {},
   "source": [
    "**BENEFICIOS**:\n",
    "- renovación por 18 meses y durante 6 meses pagar el 50% de su plan\n",
    "- sistema de soporte técnico se contactará con los clientes que nuestro sistema alerte que presente fallas"
   ]
  },
  {
   "cell_type": "markdown",
   "metadata": {},
   "source": [
    "- indicador base: 93.5%\n",
    "- indicador objetivo: 97%\n",
    "- especificidad (requerida mínima) predecir 0.98 (21 169 casos)"
   ]
  },
  {
   "cell_type": "markdown",
   "metadata": {},
   "source": [
    "- Soport (optimizar) --> 808 clientes + 432 (falsos positivos) = 1240 clientes\n",
    "- 50% DE LA LINEA POR 6 MESES 1240 CLIENTES"
   ]
  },
  {
   "cell_type": "code",
   "execution_count": 15,
   "metadata": {},
   "outputs": [
    {
     "name": "stdout",
     "output_type": "stream",
     "text": [
      "1078680.0\n"
     ]
    }
   ],
   "source": [
    "GANANCIA=(((808*89)*0.5))*6+((808*89)*12);print(GANANCIA)"
   ]
  },
  {
   "cell_type": "markdown",
   "metadata": {},
   "source": [
    "El modelo \"solo se equivoca\" dándole el beneficio a 432 clientes falsos positivos por 6 meses"
   ]
  },
  {
   "cell_type": "code",
   "execution_count": 16,
   "metadata": {},
   "outputs": [
    {
     "name": "stdout",
     "output_type": "stream",
     "text": [
      "115344.0\n"
     ]
    }
   ],
   "source": [
    "PERDIDA=((432*89)*0.5)*6; print(PERDIDA)"
   ]
  },
  {
   "cell_type": "code",
   "execution_count": 17,
   "metadata": {},
   "outputs": [
    {
     "name": "stdout",
     "output_type": "stream",
     "text": [
      "963336.0\n"
     ]
    }
   ],
   "source": [
    "rentabilidad = GANANCIA-PERDIDA; print(rentabilidad)"
   ]
  },
  {
   "cell_type": "code",
   "execution_count": 18,
   "metadata": {},
   "outputs": [],
   "source": [
    "gasto=250000"
   ]
  },
  {
   "cell_type": "code",
   "execution_count": 19,
   "metadata": {},
   "outputs": [
    {
     "name": "stdout",
     "output_type": "stream",
     "text": [
      "2.853344\n"
     ]
    }
   ],
   "source": [
    "RSI=(rentabilidad-gasto)/gasto; print(RSI)"
   ]
  },
  {
   "cell_type": "markdown",
   "metadata": {},
   "source": [
    "**RSI**: retorno sobre la inversión"
   ]
  },
  {
   "cell_type": "markdown",
   "metadata": {},
   "source": [
    "**NOTA**: por cada dólar que invierto mi retorno de inversión es 2 dólares con 85 centavos."
   ]
  },
  {
   "cell_type": "code",
   "execution_count": 20,
   "metadata": {},
   "outputs": [
    {
     "data": {
      "text/html": [
       "<div>\n",
       "<style scoped>\n",
       "    .dataframe tbody tr th:only-of-type {\n",
       "        vertical-align: middle;\n",
       "    }\n",
       "\n",
       "    .dataframe tbody tr th {\n",
       "        vertical-align: top;\n",
       "    }\n",
       "\n",
       "    .dataframe thead th {\n",
       "        text-align: right;\n",
       "    }\n",
       "</style>\n",
       "<table border=\"1\" class=\"dataframe\">\n",
       "  <thead>\n",
       "    <tr style=\"text-align: right;\">\n",
       "      <th></th>\n",
       "      <th>rsrp</th>\n",
       "      <th>redireccion</th>\n",
       "      <th>cqi</th>\n",
       "      <th>incidentes</th>\n",
       "    </tr>\n",
       "  </thead>\n",
       "  <tbody>\n",
       "    <tr>\n",
       "      <th>14400</th>\n",
       "      <td>-115.7500</td>\n",
       "      <td>884.696988</td>\n",
       "      <td>10.856694</td>\n",
       "      <td>0</td>\n",
       "    </tr>\n",
       "    <tr>\n",
       "      <th>14949</th>\n",
       "      <td>-112.7500</td>\n",
       "      <td>381.359613</td>\n",
       "      <td>11.205094</td>\n",
       "      <td>0</td>\n",
       "    </tr>\n",
       "    <tr>\n",
       "      <th>15498</th>\n",
       "      <td>-118.3750</td>\n",
       "      <td>713.387431</td>\n",
       "      <td>8.729160</td>\n",
       "      <td>0</td>\n",
       "    </tr>\n",
       "    <tr>\n",
       "      <th>16046</th>\n",
       "      <td>-115.3750</td>\n",
       "      <td>307.311721</td>\n",
       "      <td>9.607077</td>\n",
       "      <td>0</td>\n",
       "    </tr>\n",
       "    <tr>\n",
       "      <th>16596</th>\n",
       "      <td>-118.1875</td>\n",
       "      <td>1728.576707</td>\n",
       "      <td>9.835512</td>\n",
       "      <td>0</td>\n",
       "    </tr>\n",
       "    <tr>\n",
       "      <th>...</th>\n",
       "      <td>...</td>\n",
       "      <td>...</td>\n",
       "      <td>...</td>\n",
       "      <td>...</td>\n",
       "    </tr>\n",
       "    <tr>\n",
       "      <th>173676</th>\n",
       "      <td>-112.5625</td>\n",
       "      <td>64.675671</td>\n",
       "      <td>9.532046</td>\n",
       "      <td>0</td>\n",
       "    </tr>\n",
       "    <tr>\n",
       "      <th>173690</th>\n",
       "      <td>-113.5000</td>\n",
       "      <td>82.145773</td>\n",
       "      <td>9.948742</td>\n",
       "      <td>0</td>\n",
       "    </tr>\n",
       "    <tr>\n",
       "      <th>173691</th>\n",
       "      <td>-113.6875</td>\n",
       "      <td>82.145773</td>\n",
       "      <td>9.173187</td>\n",
       "      <td>0</td>\n",
       "    </tr>\n",
       "    <tr>\n",
       "      <th>174224</th>\n",
       "      <td>-116.1250</td>\n",
       "      <td>83.135283</td>\n",
       "      <td>9.112160</td>\n",
       "      <td>0</td>\n",
       "    </tr>\n",
       "    <tr>\n",
       "      <th>174240</th>\n",
       "      <td>-115.0000</td>\n",
       "      <td>73.747253</td>\n",
       "      <td>8.561027</td>\n",
       "      <td>0</td>\n",
       "    </tr>\n",
       "  </tbody>\n",
       "</table>\n",
       "<p>23103 rows × 4 columns</p>\n",
       "</div>"
      ],
      "text/plain": [
       "            rsrp  redireccion        cqi  incidentes\n",
       "14400  -115.7500   884.696988  10.856694           0\n",
       "14949  -112.7500   381.359613  11.205094           0\n",
       "15498  -118.3750   713.387431   8.729160           0\n",
       "16046  -115.3750   307.311721   9.607077           0\n",
       "16596  -118.1875  1728.576707   9.835512           0\n",
       "...          ...          ...        ...         ...\n",
       "173676 -112.5625    64.675671   9.532046           0\n",
       "173690 -113.5000    82.145773   9.948742           0\n",
       "173691 -113.6875    82.145773   9.173187           0\n",
       "174224 -116.1250    83.135283   9.112160           0\n",
       "174240 -115.0000    73.747253   8.561027           0\n",
       "\n",
       "[23103 rows x 4 columns]"
      ]
     },
     "execution_count": 20,
     "metadata": {},
     "output_type": "execute_result"
    }
   ],
   "source": [
    "data= data[[\"rsrp\",\"redireccion\",\"cqi\",\"incidentes\"]]\n",
    "data"
   ]
  },
  {
   "cell_type": "markdown",
   "metadata": {},
   "source": [
    "Vamos a resetear los indices de nuestra data "
   ]
  },
  {
   "cell_type": "code",
   "execution_count": 21,
   "metadata": {},
   "outputs": [],
   "source": [
    "data = data.reset_index(drop=True)"
   ]
  },
  {
   "cell_type": "code",
   "execution_count": 22,
   "metadata": {},
   "outputs": [
    {
     "data": {
      "text/html": [
       "<div>\n",
       "<style scoped>\n",
       "    .dataframe tbody tr th:only-of-type {\n",
       "        vertical-align: middle;\n",
       "    }\n",
       "\n",
       "    .dataframe tbody tr th {\n",
       "        vertical-align: top;\n",
       "    }\n",
       "\n",
       "    .dataframe thead th {\n",
       "        text-align: right;\n",
       "    }\n",
       "</style>\n",
       "<table border=\"1\" class=\"dataframe\">\n",
       "  <thead>\n",
       "    <tr style=\"text-align: right;\">\n",
       "      <th></th>\n",
       "      <th>rsrp</th>\n",
       "      <th>redireccion</th>\n",
       "      <th>cqi</th>\n",
       "      <th>incidentes</th>\n",
       "    </tr>\n",
       "  </thead>\n",
       "  <tbody>\n",
       "    <tr>\n",
       "      <th>0</th>\n",
       "      <td>-115.7500</td>\n",
       "      <td>884.696988</td>\n",
       "      <td>10.856694</td>\n",
       "      <td>0</td>\n",
       "    </tr>\n",
       "    <tr>\n",
       "      <th>1</th>\n",
       "      <td>-112.7500</td>\n",
       "      <td>381.359613</td>\n",
       "      <td>11.205094</td>\n",
       "      <td>0</td>\n",
       "    </tr>\n",
       "    <tr>\n",
       "      <th>2</th>\n",
       "      <td>-118.3750</td>\n",
       "      <td>713.387431</td>\n",
       "      <td>8.729160</td>\n",
       "      <td>0</td>\n",
       "    </tr>\n",
       "    <tr>\n",
       "      <th>3</th>\n",
       "      <td>-115.3750</td>\n",
       "      <td>307.311721</td>\n",
       "      <td>9.607077</td>\n",
       "      <td>0</td>\n",
       "    </tr>\n",
       "    <tr>\n",
       "      <th>4</th>\n",
       "      <td>-118.1875</td>\n",
       "      <td>1728.576707</td>\n",
       "      <td>9.835512</td>\n",
       "      <td>0</td>\n",
       "    </tr>\n",
       "  </tbody>\n",
       "</table>\n",
       "</div>"
      ],
      "text/plain": [
       "       rsrp  redireccion        cqi  incidentes\n",
       "0 -115.7500   884.696988  10.856694           0\n",
       "1 -112.7500   381.359613  11.205094           0\n",
       "2 -118.3750   713.387431   8.729160           0\n",
       "3 -115.3750   307.311721   9.607077           0\n",
       "4 -118.1875  1728.576707   9.835512           0"
      ]
     },
     "execution_count": 22,
     "metadata": {},
     "output_type": "execute_result"
    }
   ],
   "source": [
    "data.head()"
   ]
  },
  {
   "cell_type": "code",
   "execution_count": null,
   "metadata": {},
   "outputs": [],
   "source": []
  },
  {
   "cell_type": "markdown",
   "metadata": {},
   "source": [
    "**construir datos de entrenamiento y testeo**"
   ]
  },
  {
   "cell_type": "markdown",
   "metadata": {},
   "source": [
    "**`iloc`** is a method in Pandas that allows you to select rows and columns from a DataFrame by integer-based indexing.\n",
    "\n",
    "In your case, **`data.iloc[:,0:3]`** selects all the rows **`:`** and the columns from index **`0`** up to but not including index **`3`** which are **`rsrp`**, **`redireccion`**, and **`cqi`**.\n",
    "\n",
    "**`.values`** returns a NumPy array representation of the selected subset of the DataFrame.\n",
    "\n",
    "So, **`x = data.iloc[:,0:3].values`** creates a new variable **`x`** that contains a NumPy array with the values of columns **`rsrp`**, **`redireccion`**, and **`cqi`** from the **`data`** DataFrame."
   ]
  },
  {
   "cell_type": "code",
   "execution_count": 23,
   "metadata": {},
   "outputs": [
    {
     "data": {
      "text/plain": [
       "array([[-115.75     ,  884.6969876],\n",
       "       [-112.75     ,  381.3596128],\n",
       "       [-118.375    ,  713.3874311],\n",
       "       [-115.375    ,  307.3117207],\n",
       "       [-118.1875   , 1728.576707 ]])"
      ]
     },
     "execution_count": 23,
     "metadata": {},
     "output_type": "execute_result"
    }
   ],
   "source": [
    "prueba = data.iloc[0:5,0:2].values\n",
    "prueba"
   ]
  },
  {
   "cell_type": "code",
   "execution_count": 24,
   "metadata": {
    "scrolled": true
   },
   "outputs": [
    {
     "data": {
      "text/plain": [
       "array([[-115.75      ,  884.6969876 ,   10.85669404],\n",
       "       [-112.75      ,  381.3596128 ,   11.20509392],\n",
       "       [-118.375     ,  713.3874311 ,    8.72915956],\n",
       "       ...,\n",
       "       [-113.6875    ,   82.14577259,    9.17318726],\n",
       "       [-116.125     ,   83.13528251,    9.1121599 ],\n",
       "       [-115.        ,   73.74725258,    8.56102669]])"
      ]
     },
     "execution_count": 24,
     "metadata": {},
     "output_type": "execute_result"
    }
   ],
   "source": [
    "x = data.iloc[:,0:3].values\n",
    "x"
   ]
  },
  {
   "cell_type": "markdown",
   "metadata": {},
   "source": [
    "y es la variable incidentes (codificada como 0 ó 1)"
   ]
  },
  {
   "cell_type": "code",
   "execution_count": 25,
   "metadata": {},
   "outputs": [
    {
     "data": {
      "text/plain": [
       "array([0, 0, 0, ..., 0, 0, 0], dtype=int64)"
      ]
     },
     "execution_count": 25,
     "metadata": {},
     "output_type": "execute_result"
    }
   ],
   "source": [
    "y = data.iloc[:,3].values\n",
    "y"
   ]
  },
  {
   "cell_type": "markdown",
   "metadata": {},
   "source": [
    "NOTAMOS QUE NUESTRA VARIABLE A PREDECIR ESTÁ MUY DESABALANCEADA EN NUESTRO CONJUNTO DE DATOS"
   ]
  },
  {
   "cell_type": "code",
   "execution_count": 26,
   "metadata": {},
   "outputs": [
    {
     "data": {
      "image/png": "[encoded data removed]",
      "text/plain": [
       "<Figure size 640x480 with 1 Axes>"
      ]
     },
     "metadata": {},
     "output_type": "display_data"
    }
   ],
   "source": [
    "(pd.value_counts(data[\"incidentes\"],sort=True)/len(data)*100).plot(kind=\"bar\")\n",
    "plt.show()"
   ]
  },
  {
   "cell_type": "code",
   "execution_count": 27,
   "metadata": {},
   "outputs": [
    {
     "data": {
      "text/plain": [
       "0    21601\n",
       "1     1502\n",
       "Name: incidentes, dtype: int64"
      ]
     },
     "execution_count": 27,
     "metadata": {},
     "output_type": "execute_result"
    }
   ],
   "source": [
    "pd.value_counts(data[\"incidentes\"],sort=True)"
   ]
  },
  {
   "cell_type": "markdown",
   "metadata": {},
   "source": [
    "**Probelam de desbalance en los datos**"
   ]
  },
  {
   "cell_type": "markdown",
   "metadata": {},
   "source": [
    "**Recordemos**: el balanceo se aplica a los datos de entrenamiento"
   ]
  },
  {
   "cell_type": "markdown",
   "metadata": {},
   "source": [
    "**Particionamos los datos en datos train y test**"
   ]
  },
  {
   "cell_type": "markdown",
   "metadata": {},
   "source": [
    "SE ESPECIFICARON  test_size=0.3 & random_state=2022"
   ]
  },
  {
   "cell_type": "code",
   "execution_count": 28,
   "metadata": {},
   "outputs": [],
   "source": [
    "x_train, x_test, y_train, y_test = train_test_split(x,\n",
    "                                                   y,\n",
    "                                                   test_size=0.3,\n",
    "                                                   random_state=2022)"
   ]
  },
  {
   "cell_type": "code",
   "execution_count": 29,
   "metadata": {},
   "outputs": [
    {
     "data": {
      "text/plain": [
       "array([[-1.15375000e+02,  3.16798565e+04,  8.37357593e+00],\n",
       "       [-1.13125000e+02,  2.30062622e+03,  9.48809809e+00],\n",
       "       [-1.12750000e+02,  1.44076968e+03,  9.73810807e+00],\n",
       "       ...,\n",
       "       [-1.18187500e+02,  3.94287190e+03,  7.40352938e+00],\n",
       "       [-1.16687500e+02,  6.94436582e+02,  9.07778689e+00],\n",
       "       [-1.11625000e+02,  1.15806540e+03,  1.05552474e+01]])"
      ]
     },
     "execution_count": 29,
     "metadata": {},
     "output_type": "execute_result"
    }
   ],
   "source": [
    "x_train"
   ]
  },
  {
   "cell_type": "code",
   "execution_count": 30,
   "metadata": {},
   "outputs": [
    {
     "data": {
      "text/plain": [
       "16172"
      ]
     },
     "execution_count": 30,
     "metadata": {},
     "output_type": "execute_result"
    }
   ],
   "source": [
    "\n",
    "len(x_train)"
   ]
  },
  {
   "cell_type": "code",
   "execution_count": 31,
   "metadata": {},
   "outputs": [
    {
     "data": {
      "text/plain": [
       "array([[-1.10875000e+02,  8.89392260e+03,  7.96615207e+00],\n",
       "       [-1.17812500e+02,  1.23917158e+04,  9.20821512e+00],\n",
       "       [-1.09562500e+02,  9.71330540e+03,  8.55850033e+00],\n",
       "       ...,\n",
       "       [-1.18750000e+02,  9.82490246e+03,  5.14312824e+00],\n",
       "       [-1.12375000e+02,  1.90617624e+04,  8.74938479e+00],\n",
       "       [-1.17812500e+02,  5.56644950e+03,  8.64455393e+00]])"
      ]
     },
     "execution_count": 31,
     "metadata": {},
     "output_type": "execute_result"
    }
   ],
   "source": [
    "x_test"
   ]
  },
  {
   "cell_type": "code",
   "execution_count": 32,
   "metadata": {},
   "outputs": [
    {
     "data": {
      "text/plain": [
       "6931"
      ]
     },
     "execution_count": 32,
     "metadata": {},
     "output_type": "execute_result"
    }
   ],
   "source": [
    "len(x_test)"
   ]
  },
  {
   "cell_type": "code",
   "execution_count": 33,
   "metadata": {},
   "outputs": [
    {
     "data": {
      "text/plain": [
       "array([0, 0, 0, ..., 0, 0, 0], dtype=int64)"
      ]
     },
     "execution_count": 33,
     "metadata": {},
     "output_type": "execute_result"
    }
   ],
   "source": [
    "y_train\n"
   ]
  },
  {
   "cell_type": "code",
   "execution_count": 34,
   "metadata": {
    "scrolled": true
   },
   "outputs": [
    {
     "data": {
      "text/plain": [
       "16172"
      ]
     },
     "execution_count": 34,
     "metadata": {},
     "output_type": "execute_result"
    }
   ],
   "source": [
    "len(y_train)\n"
   ]
  },
  {
   "cell_type": "markdown",
   "metadata": {},
   "source": [
    "¿Cómo se ven solo los datos de y train?"
   ]
  },
  {
   "cell_type": "code",
   "execution_count": 35,
   "metadata": {},
   "outputs": [
    {
     "data": {
      "image/png": "[encoded data removed]",
      "text/plain": [
       "<Figure size 640x480 with 1 Axes>"
      ]
     },
     "metadata": {},
     "output_type": "display_data"
    }
   ],
   "source": [
    "(pd.value_counts(y_train,sort=True)/len(y_train)*100).plot(kind=\"bar\")\n",
    "plt.show()"
   ]
  },
  {
   "cell_type": "code",
   "execution_count": 36,
   "metadata": {},
   "outputs": [
    {
     "data": {
      "text/plain": [
       "0    15127\n",
       "1     1045\n",
       "dtype: int64"
      ]
     },
     "execution_count": 36,
     "metadata": {},
     "output_type": "execute_result"
    }
   ],
   "source": [
    "pd.value_counts(y_train,sort=True)"
   ]
  },
  {
   "cell_type": "markdown",
   "metadata": {},
   "source": [
    "Seguimos teniendo, incluso tras separar a data_total = train & test solo apriximadamente un 6.5% de datos 1,  es decir, con alguna incidencia (por ejemplo en train)"
   ]
  },
  {
   "cell_type": "code",
   "execution_count": 37,
   "metadata": {},
   "outputs": [
    {
     "data": {
      "text/plain": [
       "array([0, 0, 0, ..., 0, 0, 0], dtype=int64)"
      ]
     },
     "execution_count": 37,
     "metadata": {},
     "output_type": "execute_result"
    }
   ],
   "source": [
    "y_test"
   ]
  },
  {
   "cell_type": "code",
   "execution_count": 38,
   "metadata": {},
   "outputs": [
    {
     "data": {
      "text/plain": [
       "6931"
      ]
     },
     "execution_count": 38,
     "metadata": {},
     "output_type": "execute_result"
    }
   ],
   "source": [
    "len(y_test)"
   ]
  },
  {
   "cell_type": "markdown",
   "metadata": {},
   "source": [
    "**Técnicas de balanceo de datos**"
   ]
  },
  {
   "cell_type": "code",
   "execution_count": 39,
   "metadata": {},
   "outputs": [],
   "source": [
    "from imblearn.under_sampling import NearMiss\n",
    "from imblearn.over_sampling import RandomOverSampler\n",
    "from imblearn.combine import SMOTETomek"
   ]
  },
  {
   "cell_type": "code",
   "execution_count": 40,
   "metadata": {},
   "outputs": [],
   "source": [
    "#Smote and Tomek\n",
    "os_us = SMOTETomek(sampling_strategy=0.8,random_state=0)\n",
    "x_train_st, y_train_st =os_us.fit_resample(x_train,\n",
    "                                           y_train)"
   ]
  },
  {
   "cell_type": "code",
   "execution_count": 41,
   "metadata": {},
   "outputs": [
    {
     "data": {
      "text/plain": [
       "array([[-1.15375000e+02,  3.16798565e+04,  8.37357593e+00],\n",
       "       [-1.13125000e+02,  2.30062622e+03,  9.48809809e+00],\n",
       "       [-1.12750000e+02,  1.44076968e+03,  9.73810807e+00],\n",
       "       ...,\n",
       "       [-1.09136716e+02,  2.94429602e+03,  8.39123686e+00],\n",
       "       [-1.14206792e+02,  2.30976497e+04,  8.64963924e+00],\n",
       "       [-1.18082237e+02,  9.09808788e+03,  6.67301880e+00]])"
      ]
     },
     "execution_count": 41,
     "metadata": {},
     "output_type": "execute_result"
    }
   ],
   "source": [
    "x_train_st"
   ]
  },
  {
   "cell_type": "code",
   "execution_count": 42,
   "metadata": {},
   "outputs": [
    {
     "data": {
      "text/plain": [
       "23802"
      ]
     },
     "execution_count": 42,
     "metadata": {},
     "output_type": "execute_result"
    }
   ],
   "source": [
    "len(x_train_st)"
   ]
  },
  {
   "cell_type": "markdown",
   "metadata": {},
   "source": [
    "Now let´s see whtat does y_train_st is"
   ]
  },
  {
   "cell_type": "code",
   "execution_count": 43,
   "metadata": {},
   "outputs": [
    {
     "data": {
      "text/plain": [
       "array([0, 0, 0, ..., 1, 1, 1], dtype=int64)"
      ]
     },
     "execution_count": 43,
     "metadata": {},
     "output_type": "execute_result"
    }
   ],
   "source": [
    "y_train_st "
   ]
  },
  {
   "cell_type": "code",
   "execution_count": 44,
   "metadata": {},
   "outputs": [
    {
     "data": {
      "text/plain": [
       "23802"
      ]
     },
     "execution_count": 44,
     "metadata": {},
     "output_type": "execute_result"
    }
   ],
   "source": [
    "len(y_train_st)"
   ]
  },
  {
   "cell_type": "markdown",
   "metadata": {},
   "source": [
    "Let´s verify, if the SMOTETomek: balance sampling techquine works"
   ]
  },
  {
   "cell_type": "code",
   "execution_count": 45,
   "metadata": {},
   "outputs": [
    {
     "data": {
      "text/plain": [
       "0    13414\n",
       "1    10388\n",
       "dtype: int64"
      ]
     },
     "execution_count": 45,
     "metadata": {},
     "output_type": "execute_result"
    }
   ],
   "source": [
    "pd.value_counts(y_train_st,sort=True)"
   ]
  },
  {
   "cell_type": "code",
   "execution_count": 46,
   "metadata": {},
   "outputs": [],
   "source": [
    "#Over Sampling\n",
    "os =  RandomOverSampler(sampling_strategy=0.8,random_state=0)\n",
    "x_train_os, y_train_os =os.fit_resample(x_train,y_train)"
   ]
  },
  {
   "cell_type": "markdown",
   "metadata": {},
   "source": [
    "SMOTETomek: SMOTETomek uses two techniques, SMOTE and Tomek links, to oversample the minority class and remove noisy samples. SMOTE generates synthetic samples by interpolating between existing samples in the minority class, while Tomek links are used to identify noisy samples that should be removed. This results in a more refined oversampling technique that can produce better results, especially when dealing with imbalanced datasets that have overlapping classes.\n",
    "\n",
    "RandomOverSampler: RandomOverSampler generates synthetic samples by randomly duplicating samples from the minority class. This technique is simpler and faster than SMOTETomek, but it may generate less realistic synthetic samples and can lead to overfitting if the duplicated samples are too similar to the original samples. RandomOverSampler is suitable for cases where the class distribution is severely imbalanced and the dataset is relatively simple."
   ]
  },
  {
   "cell_type": "code",
   "execution_count": 47,
   "metadata": {},
   "outputs": [
    {
     "data": {
      "text/plain": [
       "27228"
      ]
     },
     "execution_count": 47,
     "metadata": {},
     "output_type": "execute_result"
    }
   ],
   "source": [
    "len(x_train_os)"
   ]
  },
  {
   "cell_type": "markdown",
   "metadata": {},
   "source": [
    "Let´s verify, if the RandomOverSampler balance sampling techquine works"
   ]
  },
  {
   "cell_type": "code",
   "execution_count": 48,
   "metadata": {},
   "outputs": [
    {
     "data": {
      "text/plain": [
       "0    15127\n",
       "1    12101\n",
       "dtype: int64"
      ]
     },
     "execution_count": 48,
     "metadata": {},
     "output_type": "execute_result"
    }
   ],
   "source": [
    "pd.value_counts(y_train_os,sort=True)"
   ]
  },
  {
   "cell_type": "code",
   "execution_count": 49,
   "metadata": {},
   "outputs": [],
   "source": [
    "#Under Sampling\n",
    "unds = NearMiss(sampling_strategy=0.8, \n",
    "                n_neighbors=11, \n",
    "                version=2)\n",
    "x_train_us, y_train_us =unds.fit_resample(x_train,y_train)"
   ]
  },
  {
   "cell_type": "markdown",
   "metadata": {},
   "source": [
    "Now, let's compare the results of the three techniques we've used so far: SMOTETomek, RandomOverSampler, and NearMiss."
   ]
  },
  {
   "cell_type": "code",
   "execution_count": 50,
   "metadata": {},
   "outputs": [
    {
     "name": "stdout",
     "output_type": "stream",
     "text": [
      "Original dataset shape: Counter({0: 15127, 1: 1045})\n",
      "SMOTETomek dataset shape: Counter({0: 13414, 1: 10388})\n",
      "RandomOverSampler dataset shape: Counter({0: 15127, 1: 12101})\n",
      "NearMiss dataset shape: Counter({0: 1306, 1: 1045})\n"
     ]
    }
   ],
   "source": [
    "from collections import Counter\n",
    "\n",
    "print(\"Original dataset shape:\", Counter(y_train))\n",
    "print(\"SMOTETomek dataset shape:\", Counter(y_train_st))\n",
    "print(\"RandomOverSampler dataset shape:\", Counter(y_train_os))\n",
    "print(\"NearMiss dataset shape:\", Counter(y_train_us))\n"
   ]
  },
  {
   "cell_type": "markdown",
   "metadata": {},
   "source": [
    "**¿Qué es más conveniente trabajar con los datos balanceados (qué tecnica) o desbalanceados?**"
   ]
  },
  {
   "cell_type": "markdown",
   "metadata": {},
   "source": [
    "**Criterio de AKAIKE** (comparación de los valores de AIC)\n",
    "- data balanceada por Smote and Tomek AIC=30289.7673\n",
    "- data balanceada por OverSampling AIC= 35618.2579\n",
    "- data balanceada por UnderSampling AIC=2430.6456 (forma de balanceo seleccionada)\n",
    "- data sin balancear AIC=7613.4035"
   ]
  },
  {
   "cell_type": "code",
   "execution_count": 51,
   "metadata": {},
   "outputs": [
    {
     "name": "stdout",
     "output_type": "stream",
     "text": [
      "Optimization terminated successfully.\n",
      "         Current function value: 0.235203\n",
      "         Iterations 7\n",
      "AIC value for original dataset: 7613.403535014911\n"
     ]
    }
   ],
   "source": [
    "import statsmodels.api as sm\n",
    "\n",
    "# Fit a logistic regression model to your data\n",
    "logit_model = sm.Logit(y_train, x_train)\n",
    "result = logit_model.fit()\n",
    "\n",
    "# Calculate the AIC value for the model\n",
    "aic = result.aic\n",
    "\n",
    "print(\"AIC value for original dataset:\", aic)\n",
    "\n",
    "# Repeat for each of your other datasets (y_train_st, y_train_os, y_train_us)\n",
    "# and compare the AIC values to determine which model has the best fit\n"
   ]
  },
  {
   "cell_type": "code",
   "execution_count": 52,
   "metadata": {},
   "outputs": [
    {
     "name": "stdout",
     "output_type": "stream",
     "text": [
      "Optimization terminated successfully.\n",
      "         Current function value: 0.636160\n",
      "         Iterations 5\n",
      "AIC value for st SMOTETomek dataset: 30289.767329235096\n"
     ]
    }
   ],
   "source": [
    "# Fit a logistic regression model to your data\n",
    "logit_model_st = sm.Logit(y_train_st, x_train_st)\n",
    "result_st = logit_model_st.fit()\n",
    "\n",
    "# Calculate the AIC value for the model\n",
    "aic_st = result_st.aic\n",
    "\n",
    "print(\"AIC value for st SMOTETomek dataset:\", aic_st)\n",
    "\n"
   ]
  },
  {
   "cell_type": "code",
   "execution_count": 53,
   "metadata": {},
   "outputs": [
    {
     "name": "stdout",
     "output_type": "stream",
     "text": [
      "Optimization terminated successfully.\n",
      "         Current function value: 0.653964\n",
      "         Iterations 5\n",
      "AIC value for os RandomOverSampler dataset: 35618.25788115203\n"
     ]
    }
   ],
   "source": [
    "# Fit a logistic regression model to your data\n",
    "logit_model_os = sm.Logit(y_train_os, x_train_os)\n",
    "result_os = logit_model_os.fit()\n",
    "\n",
    "# Calculate the AIC value for the model\n",
    "aic_os = result_os.aic\n",
    "\n",
    "print(\"AIC value for os RandomOverSampler dataset:\", aic_os)\n"
   ]
  },
  {
   "cell_type": "code",
   "execution_count": 54,
   "metadata": {},
   "outputs": [
    {
     "name": "stdout",
     "output_type": "stream",
     "text": [
      "Optimization terminated successfully.\n",
      "         Current function value: 0.515663\n",
      "         Iterations 6\n",
      "AIC value for us NearMiss dataset: 2430.645564188293\n"
     ]
    }
   ],
   "source": [
    "# Fit a logistic regression model to your data\n",
    "logit_model_us = sm.Logit(y_train_us, x_train_us)\n",
    "result_us = logit_model_us.fit()\n",
    "\n",
    "# Calculate the AIC value for the model\n",
    "aic_us = result_us.aic\n",
    "\n",
    "print(\"AIC value for us NearMiss dataset:\", aic_us)\n"
   ]
  },
  {
   "cell_type": "code",
   "execution_count": null,
   "metadata": {},
   "outputs": [],
   "source": []
  },
  {
   "cell_type": "code",
   "execution_count": 55,
   "metadata": {},
   "outputs": [],
   "source": [
    "import statsmodels.api as sm"
   ]
  },
  {
   "cell_type": "code",
   "execution_count": 56,
   "metadata": {},
   "outputs": [
    {
     "name": "stdout",
     "output_type": "stream",
     "text": [
      "Optimization terminated successfully.\n",
      "         Current function value: 0.515663\n",
      "         Iterations 6\n"
     ]
    },
    {
     "data": {
      "text/html": [
       "<table class=\"simpletable\">\n",
       "<tr>\n",
       "        <td>Model:</td>              <td>Logit</td>      <td>Pseudo R-squared:</td>    <td>0.249</td>   \n",
       "</tr>\n",
       "<tr>\n",
       "  <td>Dependent Variable:</td>         <td>y</td>              <td>AIC:</td>         <td>2430.6456</td> \n",
       "</tr>\n",
       "<tr>\n",
       "         <td>Date:</td>        <td>2023-03-13 15:54</td>       <td>BIC:</td>         <td>2447.9334</td> \n",
       "</tr>\n",
       "<tr>\n",
       "   <td>No. Observations:</td>        <td>2351</td>        <td>Log-Likelihood:</td>    <td>-1212.3</td>  \n",
       "</tr>\n",
       "<tr>\n",
       "       <td>Df Model:</td>              <td>2</td>            <td>LL-Null:</td>        <td>-1615.1</td>  \n",
       "</tr>\n",
       "<tr>\n",
       "     <td>Df Residuals:</td>          <td>2348</td>         <td>LLR p-value:</td>    <td>1.2260e-175</td>\n",
       "</tr>\n",
       "<tr>\n",
       "      <td>Converged:</td>           <td>1.0000</td>           <td>Scale:</td>         <td>1.0000</td>   \n",
       "</tr>\n",
       "<tr>\n",
       "    <td>No. Iterations:</td>        <td>6.0000</td>              <td></td>               <td></td>      \n",
       "</tr>\n",
       "</table>\n",
       "<table class=\"simpletable\">\n",
       "<tr>\n",
       "   <td></td>   <th>Coef.</th>  <th>Std.Err.</th>     <th>z</th>     <th>P>|z|</th> <th>[0.025</th>  <th>0.975]</th> \n",
       "</tr>\n",
       "<tr>\n",
       "  <th>x1</th> <td>-0.0233</td>  <td>0.0034</td>   <td>-6.9072</td> <td>0.0000</td> <td>-0.0299</td> <td>-0.0167</td>\n",
       "</tr>\n",
       "<tr>\n",
       "  <th>x2</th> <td>-0.0001</td>  <td>0.0000</td>  <td>-21.1594</td> <td>0.0000</td> <td>-0.0001</td> <td>-0.0001</td>\n",
       "</tr>\n",
       "<tr>\n",
       "  <th>x3</th> <td>-0.0868</td>  <td>0.0454</td>   <td>-1.9098</td> <td>0.0562</td> <td>-0.1758</td> <td>0.0023</td> \n",
       "</tr>\n",
       "</table>"
      ],
      "text/plain": [
       "<class 'statsmodels.iolib.summary2.Summary'>\n",
       "\"\"\"\n",
       "                          Results: Logit\n",
       "==================================================================\n",
       "Model:              Logit            Pseudo R-squared: 0.249      \n",
       "Dependent Variable: y                AIC:              2430.6456  \n",
       "Date:               2023-03-13 15:54 BIC:              2447.9334  \n",
       "No. Observations:   2351             Log-Likelihood:   -1212.3    \n",
       "Df Model:           2                LL-Null:          -1615.1    \n",
       "Df Residuals:       2348             LLR p-value:      1.2260e-175\n",
       "Converged:          1.0000           Scale:            1.0000     \n",
       "No. Iterations:     6.0000                                        \n",
       "---------------------------------------------------------------------\n",
       "       Coef.     Std.Err.       z        P>|z|      [0.025     0.975]\n",
       "---------------------------------------------------------------------\n",
       "x1    -0.0233      0.0034     -6.9072    0.0000    -0.0299    -0.0167\n",
       "x2    -0.0001      0.0000    -21.1594    0.0000    -0.0001    -0.0001\n",
       "x3    -0.0868      0.0454     -1.9098    0.0562    -0.1758     0.0023\n",
       "==================================================================\n",
       "\n",
       "\"\"\""
      ]
     },
     "execution_count": 56,
     "metadata": {},
     "output_type": "execute_result"
    }
   ],
   "source": [
    "logit=sm.Logit(y_train_us,x_train_us)\n",
    "model= logit.fit()\n",
    "model.summary2()"
   ]
  },
  {
   "cell_type": "markdown",
   "metadata": {},
   "source": [
    "Conclusión: **siguiendo el criterio de Akaike se selecciona la forma de balanceo por UnderSampling**"
   ]
  },
  {
   "cell_type": "markdown",
   "metadata": {},
   "source": [
    "Se aplica el **modelo de regresion logistica** que modela la probabilidad de que y pertenezca a una determinada categoria "
   ]
  },
  {
   "cell_type": "code",
   "execution_count": 57,
   "metadata": {},
   "outputs": [],
   "source": [
    "logit_model = LogisticRegression()"
   ]
  },
  {
   "cell_type": "markdown",
   "metadata": {},
   "source": [
    "Realizamos el entranmiento del modelo (obviamente sobre los datos de train ya balanceados por us)"
   ]
  },
  {
   "cell_type": "code",
   "execution_count": 58,
   "metadata": {},
   "outputs": [],
   "source": [
    "model_logit = logit_model.fit(x_train_us,\n",
    "                              y_train_us)"
   ]
  },
  {
   "cell_type": "markdown",
   "metadata": {},
   "source": [
    "model_logit es el modelo con la regresion logistica ya entrenada"
   ]
  },
  {
   "cell_type": "code",
   "execution_count": 59,
   "metadata": {},
   "outputs": [
    {
     "data": {
      "text/plain": [
       "LogisticRegression()"
      ]
     },
     "execution_count": 59,
     "metadata": {},
     "output_type": "execute_result"
    }
   ],
   "source": [
    "model_logit"
   ]
  },
  {
   "cell_type": "markdown",
   "metadata": {},
   "source": [
    "HACEMOS LA PREDICCIÓN DEL LOS DATOS USANDO EL MODELO"
   ]
  },
  {
   "cell_type": "code",
   "execution_count": 60,
   "metadata": {},
   "outputs": [],
   "source": [
    "y_predict_train=model_logit.predict(x_train_us)\n",
    "y_predict_test=model_logit.predict(x_test)"
   ]
  },
  {
   "cell_type": "markdown",
   "metadata": {},
   "source": [
    "VALORES PREDICHOS PARA DATOS DE ENTENAMIENTO Y TESTEO (ES DECIR, SI VAN A RECLAMAR O NO)"
   ]
  },
  {
   "cell_type": "code",
   "execution_count": 62,
   "metadata": {},
   "outputs": [
    {
     "data": {
      "text/plain": [
       "array([0, 0, 0, ..., 1, 0, 1], dtype=int64)"
      ]
     },
     "execution_count": 62,
     "metadata": {},
     "output_type": "execute_result"
    }
   ],
   "source": [
    "y_predict_train"
   ]
  },
  {
   "cell_type": "code",
   "execution_count": 63,
   "metadata": {},
   "outputs": [
    {
     "data": {
      "text/plain": [
       "array([1, 1, 1, ..., 1, 1, 1], dtype=int64)"
      ]
     },
     "execution_count": 63,
     "metadata": {},
     "output_type": "execute_result"
    }
   ],
   "source": [
    "y_predict_test"
   ]
  },
  {
   "cell_type": "code",
   "execution_count": 64,
   "metadata": {},
   "outputs": [],
   "source": [
    "import model_evaluation_utils as meu"
   ]
  },
  {
   "cell_type": "markdown",
   "metadata": {},
   "source": [
    "En este caso son nuestras variables a distinguir si reclamaron (1) o nó lo hicieron (0)"
   ]
  },
  {
   "cell_type": "code",
   "execution_count": 65,
   "metadata": {},
   "outputs": [],
   "source": [
    "labels_names=[0,1]"
   ]
  },
  {
   "cell_type": "code",
   "execution_count": 66,
   "metadata": {},
   "outputs": [
    {
     "name": "stdout",
     "output_type": "stream",
     "text": [
      "Model Performance metrics:\n",
      "------------------------------\n",
      "Accuracy: 0.8588\n",
      "Precision: 0.8624\n",
      "Recall: 0.8588\n",
      "F1 Score: 0.8572\n",
      "\n",
      "Model Classification report:\n",
      "------------------------------\n",
      "              precision    recall  f1-score   support\n",
      "\n",
      "           0       0.84      0.93      0.88      1306\n",
      "           1       0.90      0.77      0.83      1045\n",
      "\n",
      "    accuracy                           0.86      2351\n",
      "   macro avg       0.87      0.85      0.85      2351\n",
      "weighted avg       0.86      0.86      0.86      2351\n",
      "\n",
      "\n",
      "Prediction Confusion Matrix:\n",
      "------------------------------\n",
      "      0    1\n",
      "0  1212   94\n",
      "1   238  807\n"
     ]
    }
   ],
   "source": [
    "meu.display_model_performance_metrics(y_train_us,\n",
    "                                     y_predict_train,\n",
    "                                     labels_names)"
   ]
  },
  {
   "cell_type": "code",
   "execution_count": 67,
   "metadata": {},
   "outputs": [],
   "source": [
    "from sklearn.metrics import classification_report"
   ]
  },
  {
   "cell_type": "markdown",
   "metadata": {},
   "source": [
    "Testeemos el modelo ahora con los datos de test "
   ]
  },
  {
   "cell_type": "code",
   "execution_count": 68,
   "metadata": {},
   "outputs": [],
   "source": [
    "report = classification_report(y_test,\n",
    "                                     y_predict_test,\n",
    "                                     labels=labels_names) "
   ]
  },
  {
   "cell_type": "code",
   "execution_count": 69,
   "metadata": {},
   "outputs": [
    {
     "name": "stdout",
     "output_type": "stream",
     "text": [
      "              precision    recall  f1-score   support\n",
      "\n",
      "           0       0.84      0.08      0.14      6474\n",
      "           1       0.06      0.79      0.11       457\n",
      "\n",
      "    accuracy                           0.12      6931\n",
      "   macro avg       0.45      0.43      0.12      6931\n",
      "weighted avg       0.79      0.12      0.14      6931\n",
      "\n"
     ]
    }
   ],
   "source": [
    "print(report)"
   ]
  },
  {
   "cell_type": "code",
   "execution_count": 70,
   "metadata": {},
   "outputs": [],
   "source": [
    "def get_metrics(true_labels, predicted_labels):\n",
    "    \n",
    "    print('Accuracy:', np.round(\n",
    "                        metrics.accuracy_score(true_labels, \n",
    "                                               predicted_labels),\n",
    "                        4))\n",
    "    print('Precision:', np.round(\n",
    "                        metrics.precision_score(true_labels, \n",
    "                                               predicted_labels,\n",
    "                                               average='weighted'),\n",
    "                        4))\n",
    "    print('Recall:', np.round(\n",
    "                        metrics.recall_score(true_labels, \n",
    "                                               predicted_labels,\n",
    "                                               average='weighted'),\n",
    "                        4))\n",
    "    print('F1 Score:', np.round(\n",
    "                        metrics.f1_score(true_labels, \n",
    "                                               predicted_labels,\n",
    "                                               average='weighted'),\n",
    "                        4))\n",
    "                        "
   ]
  },
  {
   "cell_type": "code",
   "execution_count": 71,
   "metadata": {},
   "outputs": [
    {
     "data": {
      "image/png": "[encoded data removed]",
      "text/plain": [
       "<Figure size 640x480 with 1 Axes>"
      ]
     },
     "metadata": {},
     "output_type": "display_data"
    }
   ],
   "source": [
    "meu.plot_model_roc_curve(model_logit,\n",
    "                        x_train_us,\n",
    "                         y_train_us)"
   ]
  },
  {
   "cell_type": "code",
   "execution_count": null,
   "metadata": {},
   "outputs": [],
   "source": []
  },
  {
   "cell_type": "code",
   "execution_count": 72,
   "metadata": {},
   "outputs": [
    {
     "name": "stdout",
     "output_type": "stream",
     "text": [
      "Model Performance metrics:\n",
      "------------------------------\n",
      "Accuracy: 0.1247\n",
      "Precision: 0.7881\n",
      "Recall: 0.1247\n",
      "F1 Score: 0.1399\n",
      "\n",
      "Model Classification report:\n",
      "------------------------------\n",
      "              precision    recall  f1-score   support\n",
      "\n",
      "           0       0.84      0.08      0.14      6474\n",
      "           1       0.06      0.79      0.11       457\n",
      "\n",
      "    accuracy                           0.12      6931\n",
      "   macro avg       0.45      0.43      0.12      6931\n",
      "weighted avg       0.79      0.12      0.14      6931\n",
      "\n",
      "\n",
      "Prediction Confusion Matrix:\n",
      "------------------------------\n",
      "     0     1\n",
      "0  503  5971\n",
      "1   96   361\n"
     ]
    }
   ],
   "source": [
    "meu.display_model_performance_metrics(y_test,\n",
    "                                     y_predict_test,\n",
    "                                     labels_names)"
   ]
  },
  {
   "cell_type": "code",
   "execution_count": 73,
   "metadata": {},
   "outputs": [
    {
     "data": {
      "image/png": "[encoded data removed]",
      "text/plain": [
       "<Figure size 640x480 with 1 Axes>"
      ]
     },
     "metadata": {},
     "output_type": "display_data"
    }
   ],
   "source": [
    "meu.plot_model_roc_curve(model_logit,\n",
    "                        x_test,y_test)"
   ]
  },
  {
   "cell_type": "markdown",
   "metadata": {},
   "source": [
    "**¿A qué se deben los problemas del modelo?**"
   ]
  },
  {
   "cell_type": "markdown",
   "metadata": {},
   "source": [
    "**variación en los datos**"
   ]
  },
  {
   "cell_type": "code",
   "execution_count": 75,
   "metadata": {},
   "outputs": [],
   "source": [
    "from sklearn.model_selection import cross_val_score"
   ]
  },
  {
   "cell_type": "code",
   "execution_count": 76,
   "metadata": {},
   "outputs": [],
   "source": [
    "logit_model = LogisticRegression()"
   ]
  },
  {
   "cell_type": "code",
   "execution_count": 77,
   "metadata": {},
   "outputs": [],
   "source": [
    "scores = cross_val_score(logit_model,\n",
    "                        x_train_us,\n",
    "                         y_train_us,\n",
    "                        scoring=\"accuracy\",\n",
    "                        cv=10)"
   ]
  },
  {
   "cell_type": "code",
   "execution_count": 78,
   "metadata": {},
   "outputs": [
    {
     "data": {
      "text/plain": [
       "array([0.86864407, 0.90212766, 0.88510638, 0.92340426, 0.90212766,\n",
       "       0.90638298, 0.8893617 , 0.8893617 , 0.74042553, 0.38723404])"
      ]
     },
     "execution_count": 78,
     "metadata": {},
     "output_type": "execute_result"
    }
   ],
   "source": [
    "scores"
   ]
  },
  {
   "cell_type": "code",
   "execution_count": 79,
   "metadata": {},
   "outputs": [
    {
     "data": {
      "text/plain": [
       "0.8294175982690227"
      ]
     },
     "execution_count": 79,
     "metadata": {},
     "output_type": "execute_result"
    }
   ],
   "source": [
    "scores.mean()"
   ]
  },
  {
   "cell_type": "markdown",
   "metadata": {},
   "source": [
    "**Accuracy: 0.8588**"
   ]
  },
  {
   "cell_type": "code",
   "execution_count": 80,
   "metadata": {},
   "outputs": [
    {
     "name": "stdout",
     "output_type": "stream",
     "text": [
      "14.12\n"
     ]
    }
   ],
   "source": [
    "error=1-0.8588; print(error*100)"
   ]
  },
  {
   "cell_type": "code",
   "execution_count": 81,
   "metadata": {},
   "outputs": [
    {
     "data": {
      "text/plain": [
       "array([-0.03922647, -0.07271006, -0.05568878, -0.09398666, -0.07271006,\n",
       "       -0.07696538, -0.0599441 , -0.0599441 ,  0.08899207,  0.44218356])"
      ]
     },
     "execution_count": 81,
     "metadata": {},
     "output_type": "execute_result"
    }
   ],
   "source": [
    "scores.mean()-scores"
   ]
  },
  {
   "cell_type": "code",
   "execution_count": 82,
   "metadata": {},
   "outputs": [
    {
     "data": {
      "text/plain": [
       "array([13.13559322,  9.78723404, 11.4893617 ,  7.65957447,  9.78723404,\n",
       "        9.36170213, 11.06382979, 11.06382979, 25.95744681, 61.27659574])"
      ]
     },
     "execution_count": 82,
     "metadata": {},
     "output_type": "execute_result"
    }
   ],
   "source": [
    "(1-scores)*100"
   ]
  },
  {
   "cell_type": "markdown",
   "metadata": {},
   "source": [
    "**Nota**: existe cierta variación interna del modelo que podría afectar el proceso de entrenamiento."
   ]
  },
  {
   "cell_type": "markdown",
   "metadata": {},
   "source": [
    "**probabilidad de corte**"
   ]
  },
  {
   "cell_type": "code",
   "execution_count": 83,
   "metadata": {},
   "outputs": [],
   "source": [
    "model_logit = logit_model.fit(x_train_us,y_train_us)"
   ]
  },
  {
   "cell_type": "code",
   "execution_count": 84,
   "metadata": {},
   "outputs": [],
   "source": [
    "y_predict_test_proba = model_logit.predict_proba(x_test)"
   ]
  },
  {
   "cell_type": "code",
   "execution_count": 85,
   "metadata": {},
   "outputs": [
    {
     "data": {
      "text/plain": [
       "array([[0.24126343, 0.75873657],\n",
       "       [0.27516736, 0.72483264],\n",
       "       [0.25836259, 0.74163741],\n",
       "       ...,\n",
       "       [0.23188282, 0.76811718],\n",
       "       [0.42339311, 0.57660689],\n",
       "       [0.17545132, 0.82454868]])"
      ]
     },
     "execution_count": 85,
     "metadata": {},
     "output_type": "execute_result"
    }
   ],
   "source": [
    "y_predict_test_proba"
   ]
  },
  {
   "cell_type": "markdown",
   "metadata": {},
   "source": [
    "**Prob(y=1) - data test** (Valores de la segunda columna)"
   ]
  },
  {
   "cell_type": "code",
   "execution_count": 86,
   "metadata": {},
   "outputs": [
    {
     "data": {
      "text/plain": [
       "array([0.75873657, 0.72483264, 0.74163741, ..., 0.76811718, 0.57660689,\n",
       "       0.82454868])"
      ]
     },
     "execution_count": 86,
     "metadata": {},
     "output_type": "execute_result"
    }
   ],
   "source": [
    "y_predict_test_proba[:,1]"
   ]
  },
  {
   "cell_type": "markdown",
   "metadata": {},
   "source": [
    "**¿Qué valores podría tomar ese punto de corte?**"
   ]
  },
  {
   "cell_type": "markdown",
   "metadata": {},
   "source": [
    "1. La probabilidad de que ocurra o no el suceso (0.5).\n",
    "2. Requerimiento: modelar la prob(y=moroso), algunas empresas o gerente no asumen el riesgo para tomar un valor de probabilidad y determinan para clasificar el caso una probabilidad de 0.3\n",
    "3. AUC=0.3: criterio basado en el área bajo la curva ROC."
   ]
  },
  {
   "cell_type": "code",
   "execution_count": 87,
   "metadata": {},
   "outputs": [],
   "source": [
    "punto_c=0.3\n",
    "y_pre_test_proba_corte=pd.DataFrame(np.where(y_predict_test_proba[:,1]>=punto_c,1,0),columns=[\"prediccion\"])"
   ]
  },
  {
   "cell_type": "code",
   "execution_count": 89,
   "metadata": {},
   "outputs": [
    {
     "data": {
      "text/html": [
       "<div>\n",
       "<style scoped>\n",
       "    .dataframe tbody tr th:only-of-type {\n",
       "        vertical-align: middle;\n",
       "    }\n",
       "\n",
       "    .dataframe tbody tr th {\n",
       "        vertical-align: top;\n",
       "    }\n",
       "\n",
       "    .dataframe thead th {\n",
       "        text-align: right;\n",
       "    }\n",
       "</style>\n",
       "<table border=\"1\" class=\"dataframe\">\n",
       "  <thead>\n",
       "    <tr style=\"text-align: right;\">\n",
       "      <th></th>\n",
       "      <th>prediccion</th>\n",
       "    </tr>\n",
       "  </thead>\n",
       "  <tbody>\n",
       "    <tr>\n",
       "      <th>0</th>\n",
       "      <td>1</td>\n",
       "    </tr>\n",
       "    <tr>\n",
       "      <th>1</th>\n",
       "      <td>1</td>\n",
       "    </tr>\n",
       "    <tr>\n",
       "      <th>2</th>\n",
       "      <td>1</td>\n",
       "    </tr>\n",
       "    <tr>\n",
       "      <th>3</th>\n",
       "      <td>1</td>\n",
       "    </tr>\n",
       "    <tr>\n",
       "      <th>4</th>\n",
       "      <td>1</td>\n",
       "    </tr>\n",
       "  </tbody>\n",
       "</table>\n",
       "</div>"
      ],
      "text/plain": [
       "   prediccion\n",
       "0           1\n",
       "1           1\n",
       "2           1\n",
       "3           1\n",
       "4           1"
      ]
     },
     "execution_count": 89,
     "metadata": {},
     "output_type": "execute_result"
    }
   ],
   "source": [
    "y_pre_test_proba_corte.head()"
   ]
  },
  {
   "cell_type": "code",
   "execution_count": 91,
   "metadata": {},
   "outputs": [
    {
     "name": "stdout",
     "output_type": "stream",
     "text": [
      "Model Performance metrics:\n",
      "------------------------------\n",
      "Accuracy: 0.0978\n",
      "Precision: 0.7988\n",
      "Recall: 0.0978\n",
      "F1 Score: 0.0814\n",
      "\n",
      "Model Classification report:\n",
      "------------------------------\n",
      "              precision    recall  f1-score   support\n",
      "\n",
      "           0       0.85      0.04      0.08      6474\n",
      "           1       0.06      0.90      0.12       457\n",
      "\n",
      "    accuracy                           0.10      6931\n",
      "   macro avg       0.46      0.47      0.10      6931\n",
      "weighted avg       0.80      0.10      0.08      6931\n",
      "\n",
      "\n",
      "Prediction Confusion Matrix:\n",
      "------------------------------\n",
      "     0     1\n",
      "0  268  6206\n",
      "1   47   410\n"
     ]
    }
   ],
   "source": [
    "import model_evaluation_utils as meu\n",
    "labels_names=[0,1]\n",
    "meu.display_model_performance_metrics(y_test,\n",
    "                                     y_pre_test_proba_corte,\n",
    "                                     labels_names)"
   ]
  },
  {
   "cell_type": "markdown",
   "metadata": {},
   "source": [
    "**matriz de confusión**"
   ]
  },
  {
   "cell_type": "code",
   "execution_count": 67,
   "metadata": {},
   "outputs": [],
   "source": [
    "confusion_matriz= pd.crosstab(y_test,y_pre_test[\"prediccion\"])"
   ]
  },
  {
   "cell_type": "code",
   "execution_count": 68,
   "metadata": {},
   "outputs": [
    {
     "data": {
      "text/html": [
       "<div>\n",
       "<style scoped>\n",
       "    .dataframe tbody tr th:only-of-type {\n",
       "        vertical-align: middle;\n",
       "    }\n",
       "\n",
       "    .dataframe tbody tr th {\n",
       "        vertical-align: top;\n",
       "    }\n",
       "\n",
       "    .dataframe thead th {\n",
       "        text-align: right;\n",
       "    }\n",
       "</style>\n",
       "<table border=\"1\" class=\"dataframe\">\n",
       "  <thead>\n",
       "    <tr style=\"text-align: right;\">\n",
       "      <th>prediccion</th>\n",
       "      <th>0</th>\n",
       "      <th>1</th>\n",
       "    </tr>\n",
       "    <tr>\n",
       "      <th>row_0</th>\n",
       "      <th></th>\n",
       "      <th></th>\n",
       "    </tr>\n",
       "  </thead>\n",
       "  <tbody>\n",
       "    <tr>\n",
       "      <th>0</th>\n",
       "      <td>268</td>\n",
       "      <td>6206</td>\n",
       "    </tr>\n",
       "    <tr>\n",
       "      <th>1</th>\n",
       "      <td>47</td>\n",
       "      <td>410</td>\n",
       "    </tr>\n",
       "  </tbody>\n",
       "</table>\n",
       "</div>"
      ],
      "text/plain": [
       "prediccion    0     1\n",
       "row_0                \n",
       "0           268  6206\n",
       "1            47   410"
      ]
     },
     "execution_count": 68,
     "metadata": {},
     "output_type": "execute_result"
    }
   ],
   "source": [
    "confusion_matriz"
   ]
  },
  {
   "cell_type": "code",
   "execution_count": 69,
   "metadata": {},
   "outputs": [
    {
     "data": {
      "text/plain": [
       "0    6474\n",
       "1     457\n",
       "Name: y, dtype: int64"
      ]
     },
     "execution_count": 69,
     "metadata": {},
     "output_type": "execute_result"
    }
   ],
   "source": [
    "pd.value_counts(pd.DataFrame(y_test,columns=[\"y\"])[\"y\"],sort=True)"
   ]
  },
  {
   "cell_type": "code",
   "execution_count": 70,
   "metadata": {},
   "outputs": [],
   "source": [
    "VN=confusion_matriz[0][0]\n",
    "VP=confusion_matriz[1][1]\n",
    "FN=confusion_matriz[0][1]\n",
    "FP=confusion_matriz[1][0]"
   ]
  },
  {
   "cell_type": "code",
   "execution_count": 71,
   "metadata": {},
   "outputs": [
    {
     "name": "stdout",
     "output_type": "stream",
     "text": [
      "0.09782138219593133\n"
     ]
    }
   ],
   "source": [
    "accuracy_model=(VP+VN)/(VN+VP+FN+FP);print(accuracy_model)"
   ]
  },
  {
   "cell_type": "markdown",
   "metadata": {},
   "source": [
    "**Predicción del modelo para la clase positiva: reclamo**"
   ]
  },
  {
   "cell_type": "code",
   "execution_count": 72,
   "metadata": {},
   "outputs": [
    {
     "name": "stdout",
     "output_type": "stream",
     "text": [
      "0.8971553610503282\n"
     ]
    }
   ],
   "source": [
    "sensibilidad_model=VP/(VP+FN); print(sensibilidad_model)"
   ]
  },
  {
   "cell_type": "markdown",
   "metadata": {},
   "source": [
    "**Nota**:indica que el modelo predice 90 de cada 100 casos de reclamo"
   ]
  },
  {
   "cell_type": "markdown",
   "metadata": {},
   "source": [
    "**Predicción del modelo para la clase positiva: no reclamo**"
   ]
  },
  {
   "cell_type": "code",
   "execution_count": 73,
   "metadata": {},
   "outputs": [
    {
     "name": "stdout",
     "output_type": "stream",
     "text": [
      "0.041396354649366696\n"
     ]
    }
   ],
   "source": [
    "especificidad_model=VN/(VN+FP); print(especificidad_model)"
   ]
  },
  {
   "cell_type": "markdown",
   "metadata": {},
   "source": [
    "**Nota**:indica que el modelo predice 4 de cada 100 casos de **No** reclamo"
   ]
  },
  {
   "cell_type": "code",
   "execution_count": 74,
   "metadata": {},
   "outputs": [
    {
     "name": "stdout",
     "output_type": "stream",
     "text": [
      "0.061970979443772674\n"
     ]
    }
   ],
   "source": [
    "precision_1_model=VP/(VP+FP);print(precision_1_model)"
   ]
  },
  {
   "cell_type": "code",
   "execution_count": 75,
   "metadata": {},
   "outputs": [
    {
     "name": "stdout",
     "output_type": "stream",
     "text": [
      "0.8507936507936508\n"
     ]
    }
   ],
   "source": [
    "precision_0_model=VN/(VN+FN);print(precision_0_model)"
   ]
  },
  {
   "cell_type": "code",
   "execution_count": null,
   "metadata": {},
   "outputs": [],
   "source": []
  }
 ],
 "metadata": {
  "kernelspec": {
   "display_name": "Python 3 (ipykernel)",
   "language": "python",
   "name": "python3"
  },
  "language_info": {
   "codemirror_mode": {
    "name": "ipython",
    "version": 3
   },
   "file_extension": ".py",
   "mimetype": "text/x-python",
   "name": "python",
   "nbconvert_exporter": "python",
   "pygments_lexer": "ipython3",
   "version": "3.9.13"
  }
 },
 "nbformat": 4,
 "nbformat_minor": 4
}
