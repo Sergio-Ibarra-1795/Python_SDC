{
 "cells": [
  {
   "cell_type": "markdown",
   "metadata": {},
   "source": [
    "**Caso: diabetes**"
   ]
  },
  {
   "cell_type": "code",
   "execution_count": 1,
   "metadata": {},
   "outputs": [],
   "source": [
    "import pandas as pd\n",
    "import numpy as np\n",
    "import os"
   ]
  },
  {
   "cell_type": "code",
   "execution_count": 2,
   "metadata": {},
   "outputs": [
    {
     "data": {
      "text/plain": [
       "'C:\\\\Users\\\\sergi\\\\OneDrive\\\\Documentos\\\\SIR_personal\\\\Python_SDC_HP-i3\\\\Python_SDC_hpi3_git\\\\Python_SDC_GIT_'"
      ]
     },
     "execution_count": 2,
     "metadata": {},
     "output_type": "execute_result"
    }
   ],
   "source": [
    "os.getcwd()"
   ]
  },
  {
   "cell_type": "code",
   "execution_count": 3,
   "metadata": {},
   "outputs": [],
   "source": [
    "data = pd.read_excel(\"diabetes_py.xlsx\")"
   ]
  },
  {
   "cell_type": "code",
   "execution_count": 4,
   "metadata": {},
   "outputs": [
    {
     "data": {
      "text/html": [
       "<div>\n",
       "<style scoped>\n",
       "    .dataframe tbody tr th:only-of-type {\n",
       "        vertical-align: middle;\n",
       "    }\n",
       "\n",
       "    .dataframe tbody tr th {\n",
       "        vertical-align: top;\n",
       "    }\n",
       "\n",
       "    .dataframe thead th {\n",
       "        text-align: right;\n",
       "    }\n",
       "</style>\n",
       "<table border=\"1\" class=\"dataframe\">\n",
       "  <thead>\n",
       "    <tr style=\"text-align: right;\">\n",
       "      <th></th>\n",
       "      <th>clase</th>\n",
       "      <th>glucosa</th>\n",
       "      <th>insulina</th>\n",
       "      <th>sspg</th>\n",
       "    </tr>\n",
       "  </thead>\n",
       "  <tbody>\n",
       "    <tr>\n",
       "      <th>0</th>\n",
       "      <td>1</td>\n",
       "      <td>97</td>\n",
       "      <td>289</td>\n",
       "      <td>117</td>\n",
       "    </tr>\n",
       "    <tr>\n",
       "      <th>1</th>\n",
       "      <td>1</td>\n",
       "      <td>105</td>\n",
       "      <td>319</td>\n",
       "      <td>143</td>\n",
       "    </tr>\n",
       "    <tr>\n",
       "      <th>2</th>\n",
       "      <td>1</td>\n",
       "      <td>90</td>\n",
       "      <td>356</td>\n",
       "      <td>199</td>\n",
       "    </tr>\n",
       "  </tbody>\n",
       "</table>\n",
       "</div>"
      ],
      "text/plain": [
       "   clase  glucosa  insulina  sspg\n",
       "0      1       97       289   117\n",
       "1      1      105       319   143\n",
       "2      1       90       356   199"
      ]
     },
     "execution_count": 4,
     "metadata": {},
     "output_type": "execute_result"
    }
   ],
   "source": [
    "data.head(n=3)"
   ]
  },
  {
   "cell_type": "markdown",
   "metadata": {},
   "source": [
    "**target**: \"1\"= normal; \"2\"=pre-diabético; \"3\"=diabético"
   ]
  },
  {
   "cell_type": "markdown",
   "metadata": {},
   "source": [
    "**particionamiento de los datos**"
   ]
  },
  {
   "cell_type": "code",
   "execution_count": 5,
   "metadata": {},
   "outputs": [],
   "source": [
    "from sklearn.model_selection import train_test_split"
   ]
  },
  {
   "cell_type": "code",
   "execution_count": 6,
   "metadata": {},
   "outputs": [],
   "source": [
    "x= data.iloc[:,1:4].values\n",
    "y= data.iloc[:,0].values"
   ]
  },
  {
   "cell_type": "code",
   "execution_count": 7,
   "metadata": {},
   "outputs": [],
   "source": [
    "x_train, x_test, y_train, y_test = train_test_split(x,\n",
    "                                                   y,\n",
    "                                                   test_size=0.2,\n",
    "                                                   stratify=y,\n",
    "                                                   random_state=2023)"
   ]
  },
  {
   "cell_type": "markdown",
   "metadata": {},
   "source": [
    "**modelo de árbol de decisión**"
   ]
  },
  {
   "cell_type": "code",
   "execution_count": 8,
   "metadata": {},
   "outputs": [],
   "source": [
    "from sklearn.tree import DecisionTreeClassifier\n",
    "from mlxtend.plotting import plot_decision_regions\n",
    "import matplotlib.pyplot as plt"
   ]
  },
  {
   "cell_type": "code",
   "execution_count": 9,
   "metadata": {},
   "outputs": [],
   "source": [
    "model = DecisionTreeClassifier(criterion=\"entropy\",\n",
    "                              max_depth=3,\n",
    "                              random_state=2023)"
   ]
  },
  {
   "cell_type": "code",
   "execution_count": 10,
   "metadata": {},
   "outputs": [],
   "source": [
    "model_fit=model.fit(x_train,y_train)"
   ]
  },
  {
   "cell_type": "code",
   "execution_count": 11,
   "metadata": {},
   "outputs": [],
   "source": [
    "#pip install graphviz"
   ]
  },
  {
   "cell_type": "code",
   "execution_count": 12,
   "metadata": {},
   "outputs": [],
   "source": [
    "import graphviz\n",
    "from sklearn.tree import export_graphviz\n",
    "from subprocess import check_call"
   ]
  },
  {
   "cell_type": "code",
   "execution_count": 13,
   "metadata": {},
   "outputs": [
    {
     "name": "stdout",
     "output_type": "stream",
     "text": [
      "['glucosa', 'insulina', 'sspg']\n"
     ]
    }
   ],
   "source": [
    "predictores = data.columns.tolist()[1:4];print(predictores)"
   ]
  },
  {
   "cell_type": "code",
   "execution_count": 14,
   "metadata": {},
   "outputs": [],
   "source": [
    "with open(\"bupa_dtree.dot\",\"w\") as dotfile:\n",
    "    export_graphviz(model_fit, out_file=dotfile, feature_names=predictores)"
   ]
  },
  {
   "cell_type": "code",
   "execution_count": 15,
   "metadata": {},
   "outputs": [
    {
     "data": {
      "text/plain": [
       "'C:\\\\Users\\\\sergi\\\\OneDrive\\\\Documentos\\\\SIR_personal\\\\Python_SDC_HP-i3\\\\Python_SDC_hpi3_git\\\\Python_SDC_GIT_'"
      ]
     },
     "execution_count": 15,
     "metadata": {},
     "output_type": "execute_result"
    }
   ],
   "source": [
    "os.getcwd()"
   ]
  },
  {
   "cell_type": "code",
   "execution_count": 16,
   "metadata": {},
   "outputs": [],
   "source": [
    "file = open(\"bupa_dtree.dot\",\"r\")"
   ]
  },
  {
   "cell_type": "code",
   "execution_count": 17,
   "metadata": {},
   "outputs": [],
   "source": [
    "text = file.read()"
   ]
  },
  {
   "cell_type": "code",
   "execution_count": 18,
   "metadata": {},
   "outputs": [
    {
     "data": {
      "text/plain": [
       "'digraph Tree {\\nnode [shape=box, fontname=\"helvetica\"] ;\\nedge [fontname=\"helvetica\"] ;\\n0 [label=\"insulina <= 431.0\\\\nentropy = 1.405\\\\nsamples = 92\\\\nvalue = [53, 21, 18]\"] ;\\n1 [label=\"insulina <= 420.5\\\\nentropy = 0.133\\\\nsamples = 54\\\\nvalue = [53, 1, 0]\"] ;\\n0 -> 1 [labeldistance=2.5, labelangle=45, headlabel=\"True\"] ;\\n2 [label=\"entropy = 0.0\\\\nsamples = 52\\\\nvalue = [52, 0, 0]\"] ;\\n1 -> 2 ;\\n3 [label=\"glucosa <= 97.5\\\\nentropy = 1.0\\\\nsamples = 2\\\\nvalue = [1, 1, 0]\"] ;\\n1 -> 3 ;\\n4 [label=\"entropy = 0.0\\\\nsamples = 1\\\\nvalue = [0, 1, 0]\"] ;\\n3 -> 4 ;\\n5 [label=\"entropy = 0.0\\\\nsamples = 1\\\\nvalue = [1, 0, 0]\"] ;\\n3 -> 5 ;\\n6 [label=\"glucosa <= 117.0\\\\nentropy = 0.998\\\\nsamples = 38\\\\nvalue = [0, 20, 18]\"] ;\\n0 -> 6 [labeldistance=2.5, labelangle=-45, headlabel=\"False\"] ;\\n7 [label=\"entropy = 0.0\\\\nsamples = 20\\\\nvalue = [0, 20, 0]\"] ;\\n6 -> 7 ;\\n8 [label=\"entropy = 0.0\\\\nsamples = 18\\\\nvalue = [0, 0, 18]\"] ;\\n6 -> 8 ;\\n}'"
      ]
     },
     "execution_count": 18,
     "metadata": {},
     "output_type": "execute_result"
    }
   ],
   "source": [
    "text"
   ]
  },
  {
   "cell_type": "code",
   "execution_count": 19,
   "metadata": {},
   "outputs": [],
   "source": [
    "from graphviz import Source"
   ]
  },
  {
   "cell_type": "code",
   "execution_count": 20,
   "metadata": {},
   "outputs": [
    {
     "data": {
      "image/svg+xml": [
       "<?xml version=\"1.0\" encoding=\"UTF-8\" standalone=\"no\"?>\n",
       "<!DOCTYPE svg PUBLIC \"-//W3C//DTD SVG 1.1//EN\"\n",
       " \"http://www.w3.org/Graphics/SVG/1.1/DTD/svg11.dtd\">\n",
       "<!-- Generated by graphviz version 2.38.0 (20140413.2041)\n",
       " -->\n",
       "<!-- Title: Tree Pages: 1 -->\n",
       "<svg width=\"547pt\" height=\"373pt\"\n",
       " viewBox=\"0.00 0.00 547.00 373.00\" xmlns=\"http://www.w3.org/2000/svg\" xmlns:xlink=\"http://www.w3.org/1999/xlink\">\n",
       "<g id=\"graph0\" class=\"graph\" transform=\"scale(1 1) rotate(0) translate(4 369)\">\n",
       "<title>Tree</title>\n",
       "<polygon fill=\"white\" stroke=\"none\" points=\"-4,4 -4,-369 543,-369 543,4 -4,4\"/>\n",
       "<!-- 0 -->\n",
       "<g id=\"node1\" class=\"node\"><title>0</title>\n",
       "<polygon fill=\"none\" stroke=\"black\" points=\"337,-365 200,-365 200,-297 337,-297 337,-365\"/>\n",
       "<text text-anchor=\"middle\" x=\"268.5\" y=\"-349.8\" font-family=\"Helvetica,sans-Serif\" font-size=\"14.00\">insulina &lt;= 431.0</text>\n",
       "<text text-anchor=\"middle\" x=\"268.5\" y=\"-334.8\" font-family=\"Helvetica,sans-Serif\" font-size=\"14.00\">entropy = 1.405</text>\n",
       "<text text-anchor=\"middle\" x=\"268.5\" y=\"-319.8\" font-family=\"Helvetica,sans-Serif\" font-size=\"14.00\">samples = 92</text>\n",
       "<text text-anchor=\"middle\" x=\"268.5\" y=\"-304.8\" font-family=\"Helvetica,sans-Serif\" font-size=\"14.00\">value = [53, 21, 18]</text>\n",
       "</g>\n",
       "<!-- 1 -->\n",
       "<g id=\"node2\" class=\"node\"><title>1</title>\n",
       "<polygon fill=\"none\" stroke=\"black\" points=\"258.5,-261 134.5,-261 134.5,-193 258.5,-193 258.5,-261\"/>\n",
       "<text text-anchor=\"middle\" x=\"196.5\" y=\"-245.8\" font-family=\"Helvetica,sans-Serif\" font-size=\"14.00\">insulina &lt;= 420.5</text>\n",
       "<text text-anchor=\"middle\" x=\"196.5\" y=\"-230.8\" font-family=\"Helvetica,sans-Serif\" font-size=\"14.00\">entropy = 0.133</text>\n",
       "<text text-anchor=\"middle\" x=\"196.5\" y=\"-215.8\" font-family=\"Helvetica,sans-Serif\" font-size=\"14.00\">samples = 54</text>\n",
       "<text text-anchor=\"middle\" x=\"196.5\" y=\"-200.8\" font-family=\"Helvetica,sans-Serif\" font-size=\"14.00\">value = [53, 1, 0]</text>\n",
       "</g>\n",
       "<!-- 0&#45;&gt;1 -->\n",
       "<g id=\"edge1\" class=\"edge\"><title>0&#45;&gt;1</title>\n",
       "<path fill=\"none\" stroke=\"black\" d=\"M245.124,-296.884C238.962,-288.154 232.235,-278.625 225.804,-269.514\"/>\n",
       "<polygon fill=\"black\" stroke=\"black\" points=\"228.632,-267.451 220.005,-261.299 222.913,-271.487 228.632,-267.451\"/>\n",
       "<text text-anchor=\"middle\" x=\"215.758\" y=\"-282.236\" font-family=\"Helvetica,sans-Serif\" font-size=\"14.00\">True</text>\n",
       "</g>\n",
       "<!-- 6 -->\n",
       "<g id=\"node7\" class=\"node\"><title>6</title>\n",
       "<polygon fill=\"none\" stroke=\"black\" points=\"406,-261 277,-261 277,-193 406,-193 406,-261\"/>\n",
       "<text text-anchor=\"middle\" x=\"341.5\" y=\"-245.8\" font-family=\"Helvetica,sans-Serif\" font-size=\"14.00\">glucosa &lt;= 117.0</text>\n",
       "<text text-anchor=\"middle\" x=\"341.5\" y=\"-230.8\" font-family=\"Helvetica,sans-Serif\" font-size=\"14.00\">entropy = 0.998</text>\n",
       "<text text-anchor=\"middle\" x=\"341.5\" y=\"-215.8\" font-family=\"Helvetica,sans-Serif\" font-size=\"14.00\">samples = 38</text>\n",
       "<text text-anchor=\"middle\" x=\"341.5\" y=\"-200.8\" font-family=\"Helvetica,sans-Serif\" font-size=\"14.00\">value = [0, 20, 18]</text>\n",
       "</g>\n",
       "<!-- 0&#45;&gt;6 -->\n",
       "<g id=\"edge6\" class=\"edge\"><title>0&#45;&gt;6</title>\n",
       "<path fill=\"none\" stroke=\"black\" d=\"M292.201,-296.884C298.448,-288.154 305.269,-278.625 311.789,-269.514\"/>\n",
       "<polygon fill=\"black\" stroke=\"black\" points=\"314.694,-271.468 317.668,-261.299 309.002,-267.394 314.694,-271.468\"/>\n",
       "<text text-anchor=\"middle\" x=\"321.755\" y=\"-282.263\" font-family=\"Helvetica,sans-Serif\" font-size=\"14.00\">False</text>\n",
       "</g>\n",
       "<!-- 2 -->\n",
       "<g id=\"node3\" class=\"node\"><title>2</title>\n",
       "<polygon fill=\"none\" stroke=\"black\" points=\"121,-149.5 0,-149.5 0,-96.5 121,-96.5 121,-149.5\"/>\n",
       "<text text-anchor=\"middle\" x=\"60.5\" y=\"-134.3\" font-family=\"Helvetica,sans-Serif\" font-size=\"14.00\">entropy = 0.0</text>\n",
       "<text text-anchor=\"middle\" x=\"60.5\" y=\"-119.3\" font-family=\"Helvetica,sans-Serif\" font-size=\"14.00\">samples = 52</text>\n",
       "<text text-anchor=\"middle\" x=\"60.5\" y=\"-104.3\" font-family=\"Helvetica,sans-Serif\" font-size=\"14.00\">value = [52, 0, 0]</text>\n",
       "</g>\n",
       "<!-- 1&#45;&gt;2 -->\n",
       "<g id=\"edge2\" class=\"edge\"><title>1&#45;&gt;2</title>\n",
       "<path fill=\"none\" stroke=\"black\" d=\"M152.345,-192.884C136.361,-180.896 118.365,-167.399 102.566,-155.549\"/>\n",
       "<polygon fill=\"black\" stroke=\"black\" points=\"104.627,-152.72 94.5266,-149.52 100.427,-158.32 104.627,-152.72\"/>\n",
       "</g>\n",
       "<!-- 3 -->\n",
       "<g id=\"node4\" class=\"node\"><title>3</title>\n",
       "<polygon fill=\"none\" stroke=\"black\" points=\"258,-157 139,-157 139,-89 258,-89 258,-157\"/>\n",
       "<text text-anchor=\"middle\" x=\"198.5\" y=\"-141.8\" font-family=\"Helvetica,sans-Serif\" font-size=\"14.00\">glucosa &lt;= 97.5</text>\n",
       "<text text-anchor=\"middle\" x=\"198.5\" y=\"-126.8\" font-family=\"Helvetica,sans-Serif\" font-size=\"14.00\">entropy = 1.0</text>\n",
       "<text text-anchor=\"middle\" x=\"198.5\" y=\"-111.8\" font-family=\"Helvetica,sans-Serif\" font-size=\"14.00\">samples = 2</text>\n",
       "<text text-anchor=\"middle\" x=\"198.5\" y=\"-96.8\" font-family=\"Helvetica,sans-Serif\" font-size=\"14.00\">value = [1, 1, 0]</text>\n",
       "</g>\n",
       "<!-- 1&#45;&gt;3 -->\n",
       "<g id=\"edge3\" class=\"edge\"><title>1&#45;&gt;3</title>\n",
       "<path fill=\"none\" stroke=\"black\" d=\"M197.149,-192.884C197.308,-184.778 197.481,-175.982 197.648,-167.472\"/>\n",
       "<polygon fill=\"black\" stroke=\"black\" points=\"201.15,-167.366 197.847,-157.299 194.152,-167.229 201.15,-167.366\"/>\n",
       "</g>\n",
       "<!-- 4 -->\n",
       "<g id=\"node5\" class=\"node\"><title>4</title>\n",
       "<polygon fill=\"none\" stroke=\"black\" points=\"189,-53 76,-53 76,-0 189,-0 189,-53\"/>\n",
       "<text text-anchor=\"middle\" x=\"132.5\" y=\"-37.8\" font-family=\"Helvetica,sans-Serif\" font-size=\"14.00\">entropy = 0.0</text>\n",
       "<text text-anchor=\"middle\" x=\"132.5\" y=\"-22.8\" font-family=\"Helvetica,sans-Serif\" font-size=\"14.00\">samples = 1</text>\n",
       "<text text-anchor=\"middle\" x=\"132.5\" y=\"-7.8\" font-family=\"Helvetica,sans-Serif\" font-size=\"14.00\">value = [0, 1, 0]</text>\n",
       "</g>\n",
       "<!-- 3&#45;&gt;4 -->\n",
       "<g id=\"edge4\" class=\"edge\"><title>3&#45;&gt;4</title>\n",
       "<path fill=\"none\" stroke=\"black\" d=\"M175.416,-88.9485C169.219,-80.0749 162.507,-70.4648 156.273,-61.5388\"/>\n",
       "<polygon fill=\"black\" stroke=\"black\" points=\"159.07,-59.4311 150.475,-53.2367 153.331,-63.4392 159.07,-59.4311\"/>\n",
       "</g>\n",
       "<!-- 5 -->\n",
       "<g id=\"node6\" class=\"node\"><title>5</title>\n",
       "<polygon fill=\"none\" stroke=\"black\" points=\"320,-53 207,-53 207,-0 320,-0 320,-53\"/>\n",
       "<text text-anchor=\"middle\" x=\"263.5\" y=\"-37.8\" font-family=\"Helvetica,sans-Serif\" font-size=\"14.00\">entropy = 0.0</text>\n",
       "<text text-anchor=\"middle\" x=\"263.5\" y=\"-22.8\" font-family=\"Helvetica,sans-Serif\" font-size=\"14.00\">samples = 1</text>\n",
       "<text text-anchor=\"middle\" x=\"263.5\" y=\"-7.8\" font-family=\"Helvetica,sans-Serif\" font-size=\"14.00\">value = [1, 0, 0]</text>\n",
       "</g>\n",
       "<!-- 3&#45;&gt;5 -->\n",
       "<g id=\"edge5\" class=\"edge\"><title>3&#45;&gt;5</title>\n",
       "<path fill=\"none\" stroke=\"black\" d=\"M221.234,-88.9485C227.337,-80.0749 233.947,-70.4648 240.087,-61.5388\"/>\n",
       "<polygon fill=\"black\" stroke=\"black\" points=\"243.014,-63.4594 245.798,-53.2367 237.247,-59.4924 243.014,-63.4594\"/>\n",
       "</g>\n",
       "<!-- 7 -->\n",
       "<g id=\"node8\" class=\"node\"><title>7</title>\n",
       "<polygon fill=\"none\" stroke=\"black\" points=\"400,-149.5 279,-149.5 279,-96.5 400,-96.5 400,-149.5\"/>\n",
       "<text text-anchor=\"middle\" x=\"339.5\" y=\"-134.3\" font-family=\"Helvetica,sans-Serif\" font-size=\"14.00\">entropy = 0.0</text>\n",
       "<text text-anchor=\"middle\" x=\"339.5\" y=\"-119.3\" font-family=\"Helvetica,sans-Serif\" font-size=\"14.00\">samples = 20</text>\n",
       "<text text-anchor=\"middle\" x=\"339.5\" y=\"-104.3\" font-family=\"Helvetica,sans-Serif\" font-size=\"14.00\">value = [0, 20, 0]</text>\n",
       "</g>\n",
       "<!-- 6&#45;&gt;7 -->\n",
       "<g id=\"edge7\" class=\"edge\"><title>6&#45;&gt;7</title>\n",
       "<path fill=\"none\" stroke=\"black\" d=\"M340.851,-192.884C340.641,-182.216 340.409,-170.352 340.196,-159.519\"/>\n",
       "<polygon fill=\"black\" stroke=\"black\" points=\"343.696,-159.449 340,-149.52 336.697,-159.587 343.696,-159.449\"/>\n",
       "</g>\n",
       "<!-- 8 -->\n",
       "<g id=\"node9\" class=\"node\"><title>8</title>\n",
       "<polygon fill=\"none\" stroke=\"black\" points=\"539,-149.5 418,-149.5 418,-96.5 539,-96.5 539,-149.5\"/>\n",
       "<text text-anchor=\"middle\" x=\"478.5\" y=\"-134.3\" font-family=\"Helvetica,sans-Serif\" font-size=\"14.00\">entropy = 0.0</text>\n",
       "<text text-anchor=\"middle\" x=\"478.5\" y=\"-119.3\" font-family=\"Helvetica,sans-Serif\" font-size=\"14.00\">samples = 18</text>\n",
       "<text text-anchor=\"middle\" x=\"478.5\" y=\"-104.3\" font-family=\"Helvetica,sans-Serif\" font-size=\"14.00\">value = [0, 0, 18]</text>\n",
       "</g>\n",
       "<!-- 6&#45;&gt;8 -->\n",
       "<g id=\"edge8\" class=\"edge\"><title>6&#45;&gt;8</title>\n",
       "<path fill=\"none\" stroke=\"black\" d=\"M385.98,-192.884C402.081,-180.896 420.209,-167.399 436.125,-155.549\"/>\n",
       "<polygon fill=\"black\" stroke=\"black\" points=\"438.292,-158.299 444.223,-149.52 434.112,-152.684 438.292,-158.299\"/>\n",
       "</g>\n",
       "</g>\n",
       "</svg>\n"
      ],
      "text/plain": [
       "<graphviz.sources.Source at 0x1c34ec0b8b0>"
      ]
     },
     "execution_count": 20,
     "metadata": {},
     "output_type": "execute_result"
    }
   ],
   "source": [
    "Source(text)"
   ]
  },
  {
   "cell_type": "markdown",
   "metadata": {},
   "source": [
    "x1= glucosa\n",
    "x2= insulina\n",
    "x3= sspg"
   ]
  },
  {
   "cell_type": "markdown",
   "metadata": {},
   "source": [
    "**Interpretabilidad: generar reglas por el modelo aplicadas al negocio**"
   ]
  },
  {
   "cell_type": "markdown",
   "metadata": {},
   "source": [
    "y ~ x2(insulina)"
   ]
  },
  {
   "cell_type": "code",
   "execution_count": 23,
   "metadata": {},
   "outputs": [
    {
     "ename": "SyntaxError",
     "evalue": "cannot assign to function call (3019627310.py, line 1)",
     "output_type": "error",
     "traceback": [
      "\u001b[1;36m  File \u001b[1;32m\"C:\\Users\\sergi\\AppData\\Local\\Temp\\ipykernel_7620\\3019627310.py\"\u001b[1;36m, line \u001b[1;32m1\u001b[0m\n\u001b[1;33m    Pr(y=1|x2<=431)=0.981\u001b[0m\n\u001b[1;37m    ^\u001b[0m\n\u001b[1;31mSyntaxError\u001b[0m\u001b[1;31m:\u001b[0m cannot assign to function call\n"
     ]
    }
   ],
   "source": [
    "Pr(y=1|x2<=431)=0.981\n",
    "Pr(y=2|x2<=431)=0.018\n",
    "Pr(y=3|x2<=431)=0\n",
    "Pr(y=1|x2> 431)=0\n",
    "Pr(y=2|x2> 431)=0.526\n",
    "Pr(y=3|x2> 431)=0.474"
   ]
  },
  {
   "cell_type": "markdown",
   "metadata": {},
   "source": [
    "y ~ x2(insulina) + x1(glucosa)"
   ]
  },
  {
   "cell_type": "code",
   "execution_count": 24,
   "metadata": {},
   "outputs": [
    {
     "ename": "SyntaxError",
     "evalue": "cannot assign to function call (104708242.py, line 1)",
     "output_type": "error",
     "traceback": [
      "\u001b[1;36m  File \u001b[1;32m\"C:\\Users\\sergi\\AppData\\Local\\Temp\\ipykernel_7620\\104708242.py\"\u001b[1;36m, line \u001b[1;32m1\u001b[0m\n\u001b[1;33m    Pr(y=1|x2> 431 & x1<= 117)=0\u001b[0m\n\u001b[1;37m    ^\u001b[0m\n\u001b[1;31mSyntaxError\u001b[0m\u001b[1;31m:\u001b[0m cannot assign to function call\n"
     ]
    }
   ],
   "source": [
    "Pr(y=1|x2> 431 & x1<= 117)=0\n",
    "Pr(y=2|x2> 431 & x1<= 117)=1\n",
    "Pr(y=3|x2> 431 & x1<= 117)=0\n",
    "Pr(y=1|x2> 431 & x1>  117)=0\n",
    "Pr(y=2|x2> 431 & x1>  117)=0\n",
    "Pr(y=3|x2> 431 & x1>  117)=1"
   ]
  },
  {
   "cell_type": "code",
   "execution_count": 25,
   "metadata": {},
   "outputs": [],
   "source": [
    "model = DecisionTreeClassifier(criterion=\"entropy\",\n",
    "                              max_depth=3,\n",
    "                              random_state=2023)"
   ]
  },
  {
   "cell_type": "markdown",
   "metadata": {},
   "source": [
    "**Recordemos**: si existe el problema de varianza interna en el modelo de árboles es mejor aplicar un modelo de ensamble (random forest o XGBoost, entre otros)"
   ]
  },
  {
   "cell_type": "code",
   "execution_count": 26,
   "metadata": {},
   "outputs": [],
   "source": [
    "from sklearn.model_selection import cross_val_score"
   ]
  },
  {
   "cell_type": "code",
   "execution_count": 27,
   "metadata": {},
   "outputs": [],
   "source": [
    "scores = cross_val_score(model,\n",
    "                        x_train,\n",
    "                        y_train,\n",
    "                        scoring=\"accuracy\",\n",
    "                        cv=5)"
   ]
  },
  {
   "cell_type": "code",
   "execution_count": 28,
   "metadata": {},
   "outputs": [
    {
     "data": {
      "text/plain": [
       "array([1.        , 0.94736842, 1.        , 0.94444444, 1.        ])"
      ]
     },
     "execution_count": 28,
     "metadata": {},
     "output_type": "execute_result"
    }
   ],
   "source": [
    "scores"
   ]
  },
  {
   "cell_type": "code",
   "execution_count": 30,
   "metadata": {},
   "outputs": [
    {
     "data": {
      "text/plain": [
       "0.9783625730994151"
      ]
     },
     "execution_count": 30,
     "metadata": {},
     "output_type": "execute_result"
    }
   ],
   "source": [
    "scores.mean()"
   ]
  },
  {
   "cell_type": "markdown",
   "metadata": {},
   "source": [
    "El modelo logra predecir 96 de cada 100 casos (registros)"
   ]
  },
  {
   "cell_type": "markdown",
   "metadata": {},
   "source": [
    "**árboles de decisión**"
   ]
  },
  {
   "cell_type": "markdown",
   "metadata": {},
   "source": [
    "**Problema**: incremento de la profundidad de un árbol (incremento de la complejidad del modelo) puede generar un problema de varianza interna en los datos."
   ]
  },
  {
   "cell_type": "markdown",
   "metadata": {},
   "source": [
    "ID   Ingreso     Consumo    hrs     Promedio      | Fuga (Churn_est)\n",
    "1\n",
    "2\n",
    "3\n",
    "4\n",
    "5\n",
    ".\n",
    ".\n",
    ".\n",
    "100"
   ]
  },
  {
   "cell_type": "markdown",
   "metadata": {},
   "source": [
    "train: 70%\n",
    "test: 30%"
   ]
  },
  {
   "cell_type": "code",
   "execution_count": 32,
   "metadata": {},
   "outputs": [
    {
     "ename": "SyntaxError",
     "evalue": "invalid syntax (1796146532.py, line 1)",
     "output_type": "error",
     "traceback": [
      "\u001b[1;36m  File \u001b[1;32m\"C:\\Users\\sergi\\AppData\\Local\\Temp\\ipykernel_7620\\1796146532.py\"\u001b[1;36m, line \u001b[1;32m1\u001b[0m\n\u001b[1;33m    seg 1= 55%\u001b[0m\n\u001b[1;37m        ^\u001b[0m\n\u001b[1;31mSyntaxError\u001b[0m\u001b[1;31m:\u001b[0m invalid syntax\n"
     ]
    }
   ],
   "source": [
    "seg 1= 55%\n",
    "seg 2= 98%\n",
    "seg 3= 80%\n",
    "seg 4= 77%\n",
    "seg 5= 91%"
   ]
  },
  {
   "cell_type": "code",
   "execution_count": null,
   "metadata": {},
   "outputs": [],
   "source": [
    "**Sensibilidad** 85% casos positivos (fuga clientes)"
   ]
  },
  {
   "cell_type": "markdown",
   "metadata": {},
   "source": [
    "**Bagging**"
   ]
  },
  {
   "cell_type": "markdown",
   "metadata": {},
   "source": [
    "Los teóricos de Bagging proponen agregar Bootstrap a los modelos de árboles"
   ]
  },
  {
   "cell_type": "code",
   "execution_count": null,
   "metadata": {},
   "outputs": [],
   "source": [
    "m1 = x1 + x5\n",
    "m2 = x5 + x8\n",
    "m3 = x1 + x5\n",
    "m4 = x1 + x5\n",
    ".\n",
    ".\n",
    ".\n",
    "m100 = x1 + x3"
   ]
  },
  {
   "cell_type": "markdown",
   "metadata": {},
   "source": [
    "**voto mayoritario**: x1 + x5"
   ]
  },
  {
   "cell_type": "markdown",
   "metadata": {},
   "source": [
    "**Solución**: ayudaron a controlar el problema de varianza interna"
   ]
  },
  {
   "cell_type": "markdown",
   "metadata": {},
   "source": [
    "**Problema**: árboles generados por Bagging estaban correlacionados"
   ]
  },
  {
   "cell_type": "markdown",
   "metadata": {},
   "source": [
    "**Random forest**"
   ]
  },
  {
   "cell_type": "markdown",
   "metadata": {},
   "source": [
    "- Boostrap (a las observaciones) + raiz cuadrada de los \"p\" predictores"
   ]
  },
  {
   "cell_type": "code",
   "execution_count": null,
   "metadata": {},
   "outputs": [],
   "source": [
    "m_1 | x1 x5 x7 x9 x15 x30 ~ y ---> se aplica árboles a estos datos\n",
    "m_2 | x2 x9 x17 x19 x25 x31 ~ y ---> se aplica árboles a estos datos\n",
    "m_3 | x3 x8 x17 x19 x22 x29 ~ y ---> se aplica árboles a estos datos\n",
    ".\n",
    ".\n",
    ".\n",
    "m_100 | x1 x4 x17 x21 x25 x30 ~ y ---> se aplica árboles a estos datos"
   ]
  },
  {
   "cell_type": "markdown",
   "metadata": {},
   "source": [
    "**Voto mayoritario**"
   ]
  },
  {
   "cell_type": "code",
   "execution_count": 33,
   "metadata": {},
   "outputs": [
    {
     "data": {
      "text/plain": [
       "5"
      ]
     },
     "execution_count": 33,
     "metadata": {},
     "output_type": "execute_result"
    }
   ],
   "source": [
    "import math as m\n",
    "round(m.log2(36))"
   ]
  },
  {
   "cell_type": "code",
   "execution_count": 34,
   "metadata": {},
   "outputs": [
    {
     "data": {
      "text/plain": [
       "6"
      ]
     },
     "execution_count": 34,
     "metadata": {},
     "output_type": "execute_result"
    }
   ],
   "source": [
    "round(m.sqrt(36))"
   ]
  },
  {
   "cell_type": "markdown",
   "metadata": {},
   "source": [
    "**Caso: fuga de clientes**"
   ]
  },
  {
   "cell_type": "code",
   "execution_count": 35,
   "metadata": {},
   "outputs": [],
   "source": [
    "import pandas as pd"
   ]
  },
  {
   "cell_type": "code",
   "execution_count": 37,
   "metadata": {},
   "outputs": [],
   "source": [
    "data = pd.read_csv(\"Churn.csv\")"
   ]
  },
  {
   "cell_type": "code",
   "execution_count": 38,
   "metadata": {},
   "outputs": [
    {
     "data": {
      "text/html": [
       "<div>\n",
       "<style scoped>\n",
       "    .dataframe tbody tr th:only-of-type {\n",
       "        vertical-align: middle;\n",
       "    }\n",
       "\n",
       "    .dataframe tbody tr th {\n",
       "        vertical-align: top;\n",
       "    }\n",
       "\n",
       "    .dataframe thead th {\n",
       "        text-align: right;\n",
       "    }\n",
       "</style>\n",
       "<table border=\"1\" class=\"dataframe\">\n",
       "  <thead>\n",
       "    <tr style=\"text-align: right;\">\n",
       "      <th></th>\n",
       "      <th>TARGET_MOD1</th>\n",
       "      <th>PCT_COMISIONES_PAGO_UM</th>\n",
       "      <th>DEUDA_VIG</th>\n",
       "      <th>ADICIONALES_ACTIVAS</th>\n",
       "      <th>DIAS_MORA</th>\n",
       "      <th>NUM_TC_ACTIVAS</th>\n",
       "      <th>TOTAL_TIEMPO_SOLUCION_UM</th>\n",
       "      <th>TOT_PRODUCTOS</th>\n",
       "      <th>IMPORTE_MEMBRESIA_UM</th>\n",
       "      <th>MESES_EXPIRACION</th>\n",
       "      <th>...</th>\n",
       "      <th>SAL_MES_PP</th>\n",
       "      <th>CLF_IBK</th>\n",
       "      <th>PROM_MTO_6UM</th>\n",
       "      <th>MONTO_PAGOS_UM</th>\n",
       "      <th>EMP_MAYLINEA_UM</th>\n",
       "      <th>NUM_VOLUNTARIA_UM</th>\n",
       "      <th>REGION</th>\n",
       "      <th>NUM_TRX_UM</th>\n",
       "      <th>SEGMENTO_BANCO</th>\n",
       "      <th>FLG_TRAIN</th>\n",
       "    </tr>\n",
       "  </thead>\n",
       "  <tbody>\n",
       "    <tr>\n",
       "      <th>0</th>\n",
       "      <td>0</td>\n",
       "      <td>0.875648</td>\n",
       "      <td>2338.80</td>\n",
       "      <td>0</td>\n",
       "      <td>0</td>\n",
       "      <td>2</td>\n",
       "      <td>0.0</td>\n",
       "      <td>4</td>\n",
       "      <td>0</td>\n",
       "      <td>0</td>\n",
       "      <td>...</td>\n",
       "      <td>0.0</td>\n",
       "      <td>0</td>\n",
       "      <td>2400.000000</td>\n",
       "      <td>0.0</td>\n",
       "      <td>IBK</td>\n",
       "      <td>0</td>\n",
       "      <td>LIMA NORTE</td>\n",
       "      <td>1</td>\n",
       "      <td>2</td>\n",
       "      <td>1</td>\n",
       "    </tr>\n",
       "    <tr>\n",
       "      <th>1</th>\n",
       "      <td>0</td>\n",
       "      <td>0.051539</td>\n",
       "      <td>112.24</td>\n",
       "      <td>0</td>\n",
       "      <td>0</td>\n",
       "      <td>1</td>\n",
       "      <td>0.0</td>\n",
       "      <td>2</td>\n",
       "      <td>0</td>\n",
       "      <td>0</td>\n",
       "      <td>...</td>\n",
       "      <td>0.0</td>\n",
       "      <td>0</td>\n",
       "      <td>794.258333</td>\n",
       "      <td>0.0</td>\n",
       "      <td>IBK</td>\n",
       "      <td>0</td>\n",
       "      <td>CENTRO SUR</td>\n",
       "      <td>4</td>\n",
       "      <td>3</td>\n",
       "      <td>1</td>\n",
       "    </tr>\n",
       "    <tr>\n",
       "      <th>2</th>\n",
       "      <td>0</td>\n",
       "      <td>1.000000</td>\n",
       "      <td>97.79</td>\n",
       "      <td>0</td>\n",
       "      <td>0</td>\n",
       "      <td>1</td>\n",
       "      <td>0.0</td>\n",
       "      <td>1</td>\n",
       "      <td>0</td>\n",
       "      <td>0</td>\n",
       "      <td>...</td>\n",
       "      <td>0.0</td>\n",
       "      <td>2</td>\n",
       "      <td>501.450000</td>\n",
       "      <td>0.0</td>\n",
       "      <td>OTROS</td>\n",
       "      <td>0</td>\n",
       "      <td>CENTRO SUR</td>\n",
       "      <td>0</td>\n",
       "      <td>2</td>\n",
       "      <td>1</td>\n",
       "    </tr>\n",
       "    <tr>\n",
       "      <th>3</th>\n",
       "      <td>0</td>\n",
       "      <td>0.131875</td>\n",
       "      <td>1423.26</td>\n",
       "      <td>0</td>\n",
       "      <td>0</td>\n",
       "      <td>1</td>\n",
       "      <td>0.0</td>\n",
       "      <td>2</td>\n",
       "      <td>0</td>\n",
       "      <td>0</td>\n",
       "      <td>...</td>\n",
       "      <td>0.0</td>\n",
       "      <td>0</td>\n",
       "      <td>1826.080000</td>\n",
       "      <td>0.0</td>\n",
       "      <td>OTROS</td>\n",
       "      <td>0</td>\n",
       "      <td>LIMA NORTE</td>\n",
       "      <td>11</td>\n",
       "      <td>3</td>\n",
       "      <td>1</td>\n",
       "    </tr>\n",
       "    <tr>\n",
       "      <th>4</th>\n",
       "      <td>0</td>\n",
       "      <td>1.000000</td>\n",
       "      <td>726.06</td>\n",
       "      <td>0</td>\n",
       "      <td>0</td>\n",
       "      <td>1</td>\n",
       "      <td>0.0</td>\n",
       "      <td>5</td>\n",
       "      <td>0</td>\n",
       "      <td>0</td>\n",
       "      <td>...</td>\n",
       "      <td>0.0</td>\n",
       "      <td>0</td>\n",
       "      <td>842.035000</td>\n",
       "      <td>0.0</td>\n",
       "      <td>IBK</td>\n",
       "      <td>0</td>\n",
       "      <td>LIMA CENTRO</td>\n",
       "      <td>10</td>\n",
       "      <td>3</td>\n",
       "      <td>1</td>\n",
       "    </tr>\n",
       "  </tbody>\n",
       "</table>\n",
       "<p>5 rows × 36 columns</p>\n",
       "</div>"
      ],
      "text/plain": [
       "   TARGET_MOD1  PCT_COMISIONES_PAGO_UM  DEUDA_VIG  ADICIONALES_ACTIVAS  \\\n",
       "0            0                0.875648    2338.80                    0   \n",
       "1            0                0.051539     112.24                    0   \n",
       "2            0                1.000000      97.79                    0   \n",
       "3            0                0.131875    1423.26                    0   \n",
       "4            0                1.000000     726.06                    0   \n",
       "\n",
       "   DIAS_MORA  NUM_TC_ACTIVAS  TOTAL_TIEMPO_SOLUCION_UM  TOT_PRODUCTOS  \\\n",
       "0          0               2                       0.0              4   \n",
       "1          0               1                       0.0              2   \n",
       "2          0               1                       0.0              1   \n",
       "3          0               1                       0.0              2   \n",
       "4          0               1                       0.0              5   \n",
       "\n",
       "   IMPORTE_MEMBRESIA_UM  MESES_EXPIRACION  ...  SAL_MES_PP  CLF_IBK  \\\n",
       "0                     0                 0  ...         0.0        0   \n",
       "1                     0                 0  ...         0.0        0   \n",
       "2                     0                 0  ...         0.0        2   \n",
       "3                     0                 0  ...         0.0        0   \n",
       "4                     0                 0  ...         0.0        0   \n",
       "\n",
       "   PROM_MTO_6UM  MONTO_PAGOS_UM  EMP_MAYLINEA_UM  NUM_VOLUNTARIA_UM  \\\n",
       "0   2400.000000             0.0              IBK                  0   \n",
       "1    794.258333             0.0              IBK                  0   \n",
       "2    501.450000             0.0            OTROS                  0   \n",
       "3   1826.080000             0.0            OTROS                  0   \n",
       "4    842.035000             0.0              IBK                  0   \n",
       "\n",
       "        REGION  NUM_TRX_UM  SEGMENTO_BANCO  FLG_TRAIN  \n",
       "0   LIMA NORTE           1               2          1  \n",
       "1   CENTRO SUR           4               3          1  \n",
       "2   CENTRO SUR           0               2          1  \n",
       "3   LIMA NORTE          11               3          1  \n",
       "4  LIMA CENTRO          10               3          1  \n",
       "\n",
       "[5 rows x 36 columns]"
      ]
     },
     "execution_count": 38,
     "metadata": {},
     "output_type": "execute_result"
    }
   ],
   "source": [
    "data.head()"
   ]
  },
  {
   "cell_type": "code",
   "execution_count": 39,
   "metadata": {},
   "outputs": [
    {
     "name": "stdout",
     "output_type": "stream",
     "text": [
      "<class 'pandas.core.frame.DataFrame'>\n",
      "RangeIndex: 179628 entries, 0 to 179627\n",
      "Data columns (total 36 columns):\n",
      " #   Column                    Non-Null Count   Dtype  \n",
      "---  ------                    --------------   -----  \n",
      " 0   TARGET_MOD1               179628 non-null  int64  \n",
      " 1   PCT_COMISIONES_PAGO_UM    179628 non-null  float64\n",
      " 2   DEUDA_VIG                 179628 non-null  float64\n",
      " 3   ADICIONALES_ACTIVAS       179628 non-null  int64  \n",
      " 4   DIAS_MORA                 179628 non-null  int64  \n",
      " 5   NUM_TC_ACTIVAS            179628 non-null  int64  \n",
      " 6   TOTAL_TIEMPO_SOLUCION_UM  179628 non-null  float64\n",
      " 7   TOT_PRODUCTOS             179628 non-null  int64  \n",
      " 8   IMPORTE_MEMBRESIA_UM      179628 non-null  int64  \n",
      " 9   MESES_EXPIRACION          179628 non-null  int64  \n",
      " 10  TOTAL_DURACION_6UM        179628 non-null  int64  \n",
      " 11  MTOPAGOMESTOT_UM          179628 non-null  float64\n",
      " 12  NUM_TC_6UM                179628 non-null  int64  \n",
      " 13  ANTIGUEDAD_ACTIVA         179628 non-null  float64\n",
      " 14  FLG_CUOTAS_UM             179628 non-null  int64  \n",
      " 15  TOTAL_DURACION_UM         179628 non-null  int64  \n",
      " 16  TASADE_UM                 179628 non-null  float64\n",
      " 17  IMPORTE_MEMBRESIA_3UM     179628 non-null  int64  \n",
      " 18  PCT_USO_TC_IBK            179628 non-null  float64\n",
      " 19  PAGOS_6UM                 179628 non-null  int64  \n",
      " 20  TICKET_UM                 179628 non-null  float64\n",
      " 21  CTDCONSUMO30D_UM          179628 non-null  int64  \n",
      " 22  PROM_MTOLINEAUTI_3UM      179628 non-null  float64\n",
      " 23  SALDO_PROM_IBK_6UM        179628 non-null  float64\n",
      " 24  DIF_SALDO_UM              179628 non-null  float64\n",
      " 25  PCT_USO_LINEA_UM          179628 non-null  float64\n",
      " 26  SAL_MES_PP                179628 non-null  float64\n",
      " 27  CLF_IBK                   179628 non-null  int64  \n",
      " 28  PROM_MTO_6UM              179628 non-null  float64\n",
      " 29  MONTO_PAGOS_UM            179628 non-null  float64\n",
      " 30  EMP_MAYLINEA_UM           179628 non-null  object \n",
      " 31  NUM_VOLUNTARIA_UM         179628 non-null  int64  \n",
      " 32  REGION                    179628 non-null  object \n",
      " 33  NUM_TRX_UM                179628 non-null  int64  \n",
      " 34  SEGMENTO_BANCO            179628 non-null  object \n",
      " 35  FLG_TRAIN                 179628 non-null  int64  \n",
      "dtypes: float64(15), int64(18), object(3)\n",
      "memory usage: 49.3+ MB\n"
     ]
    }
   ],
   "source": [
    "data.info()"
   ]
  },
  {
   "cell_type": "code",
   "execution_count": 40,
   "metadata": {},
   "outputs": [
    {
     "data": {
      "text/plain": [
       "0    68.921326\n",
       "1    31.078674\n",
       "Name: TARGET_MOD1, dtype: float64"
      ]
     },
     "execution_count": 40,
     "metadata": {},
     "output_type": "execute_result"
    }
   ],
   "source": [
    "pd.value_counts(data[\"TARGET_MOD1\"])/len(data)*100"
   ]
  },
  {
   "cell_type": "markdown",
   "metadata": {},
   "source": [
    "**FLG_TRAIN**"
   ]
  },
  {
   "cell_type": "markdown",
   "metadata": {},
   "source": [
    "- 1:train (enero a agosto de 2018)\n",
    "- 0:test (septiembre 2018 a febrero 2019)"
   ]
  },
  {
   "cell_type": "code",
   "execution_count": 62,
   "metadata": {},
   "outputs": [],
   "source": [
    "train = data.loc[(data[\"FLG_TRAIN\"]==1)]"
   ]
  },
  {
   "cell_type": "code",
   "execution_count": 63,
   "metadata": {},
   "outputs": [],
   "source": [
    "test = data.loc[(data[\"FLG_TRAIN\"]==0)]"
   ]
  },
  {
   "cell_type": "code",
   "execution_count": 64,
   "metadata": {},
   "outputs": [
    {
     "data": {
      "text/plain": [
       "109722"
      ]
     },
     "execution_count": 64,
     "metadata": {},
     "output_type": "execute_result"
    }
   ],
   "source": [
    "len(train)"
   ]
  },
  {
   "cell_type": "code",
   "execution_count": 65,
   "metadata": {},
   "outputs": [
    {
     "data": {
      "text/plain": [
       "69906"
      ]
     },
     "execution_count": 65,
     "metadata": {},
     "output_type": "execute_result"
    }
   ],
   "source": [
    "len(test)"
   ]
  },
  {
   "cell_type": "code",
   "execution_count": 66,
   "metadata": {},
   "outputs": [],
   "source": [
    "train = train.drop([\"FLG_TRAIN\"],axis=1)"
   ]
  },
  {
   "cell_type": "code",
   "execution_count": 67,
   "metadata": {},
   "outputs": [],
   "source": [
    "test = test.drop([\"FLG_TRAIN\"],axis=1)"
   ]
  },
  {
   "cell_type": "markdown",
   "metadata": {},
   "source": [
    "**Segmento banco (SEGMENTO_BANCO)**"
   ]
  },
  {
   "cell_type": "code",
   "execution_count": 69,
   "metadata": {},
   "outputs": [
    {
     "data": {
      "text/plain": [
       "3      90790\n",
       "2      45346\n",
       "1A     23598\n",
       "1BC     9718\n",
       "4       4063\n",
       "6       3489\n",
       "5       2624\n",
       "Name: SEGMENTO_BANCO, dtype: int64"
      ]
     },
     "execution_count": 69,
     "metadata": {},
     "output_type": "execute_result"
    }
   ],
   "source": [
    "pd.value_counts(data[\"SEGMENTO_BANCO\"])"
   ]
  },
  {
   "cell_type": "code",
   "execution_count": 70,
   "metadata": {},
   "outputs": [
    {
     "data": {
      "text/plain": [
       "3      53004\n",
       "2      29078\n",
       "1A     10599\n",
       "1BC     9093\n",
       "4       3636\n",
       "5       2624\n",
       "6       1688\n",
       "Name: SEGMENTO_BANCO, dtype: int64"
      ]
     },
     "execution_count": 70,
     "metadata": {},
     "output_type": "execute_result"
    }
   ],
   "source": [
    "pd.value_counts(train[\"SEGMENTO_BANCO\"])"
   ]
  },
  {
   "cell_type": "code",
   "execution_count": 71,
   "metadata": {},
   "outputs": [
    {
     "data": {
      "text/plain": [
       "3      37786\n",
       "2      16268\n",
       "1A     12999\n",
       "6       1801\n",
       "1BC      625\n",
       "4        427\n",
       "Name: SEGMENTO_BANCO, dtype: int64"
      ]
     },
     "execution_count": 71,
     "metadata": {},
     "output_type": "execute_result"
    }
   ],
   "source": [
    "pd.value_counts(test[\"SEGMENTO_BANCO\"])"
   ]
  },
  {
   "cell_type": "markdown",
   "metadata": {},
   "source": [
    "**ingenieria de características**"
   ]
  },
  {
   "cell_type": "code",
   "execution_count": 73,
   "metadata": {},
   "outputs": [],
   "source": [
    "train[\"SEGMENTO_BANCO\"]=train[\"SEGMENTO_BANCO\"].replace(\"1A\",7)\n"
   ]
  },
  {
   "cell_type": "code",
   "execution_count": 74,
   "metadata": {},
   "outputs": [],
   "source": [
    "train[\"SEGMENTO_BANCO\"]=train[\"SEGMENTO_BANCO\"].replace(\"1BC\",8)"
   ]
  },
  {
   "cell_type": "code",
   "execution_count": 75,
   "metadata": {},
   "outputs": [],
   "source": [
    "test[\"SEGMENTO_BANCO\"]=test[\"SEGMENTO_BANCO\"].replace(\"1A\",7)\n",
    "test[\"SEGMENTO_BANCO\"]=test[\"SEGMENTO_BANCO\"].replace(\"1BC\",8)"
   ]
  },
  {
   "cell_type": "code",
   "execution_count": 76,
   "metadata": {},
   "outputs": [],
   "source": [
    "#cambio de formato"
   ]
  },
  {
   "cell_type": "code",
   "execution_count": 77,
   "metadata": {},
   "outputs": [],
   "source": [
    "train[\"SEGMENTO_BANCO\"]=train[\"SEGMENTO_BANCO\"].astype(\"int32\")"
   ]
  },
  {
   "cell_type": "code",
   "execution_count": 78,
   "metadata": {},
   "outputs": [],
   "source": [
    "test[\"SEGMENTO_BANCO\"]=test[\"SEGMENTO_BANCO\"].astype(\"int32\")"
   ]
  },
  {
   "cell_type": "markdown",
   "metadata": {},
   "source": [
    "**Codificación de variables**"
   ]
  },
  {
   "cell_type": "code",
   "execution_count": 79,
   "metadata": {},
   "outputs": [],
   "source": [
    "list_text = [\"EMP_MAYLINEA_UM\",\"REGION\"]"
   ]
  },
  {
   "cell_type": "code",
   "execution_count": 80,
   "metadata": {},
   "outputs": [],
   "source": [
    "from collections import defaultdict"
   ]
  },
  {
   "cell_type": "code",
   "execution_count": 81,
   "metadata": {},
   "outputs": [],
   "source": [
    "from sklearn import preprocessing"
   ]
  },
  {
   "cell_type": "code",
   "execution_count": 82,
   "metadata": {},
   "outputs": [],
   "source": [
    "d=defaultdict(preprocessing.LabelEncoder)"
   ]
  },
  {
   "cell_type": "code",
   "execution_count": 83,
   "metadata": {},
   "outputs": [],
   "source": [
    "fit = train.apply(lambda x: d[x.name].fit_transform(x) if x.name in list_text else x)"
   ]
  },
  {
   "cell_type": "code",
   "execution_count": 84,
   "metadata": {},
   "outputs": [],
   "source": [
    "train=train.apply(lambda x: d[x.name].transform(x) if x.name in list_text else x)"
   ]
  },
  {
   "cell_type": "code",
   "execution_count": 85,
   "metadata": {},
   "outputs": [],
   "source": [
    "test=test.apply(lambda x: d[x.name].transform(x) if x.name in list_text else x)"
   ]
  },
  {
   "cell_type": "markdown",
   "metadata": {},
   "source": [
    "**árboles de decisión vs. random forest**"
   ]
  },
  {
   "cell_type": "code",
   "execution_count": 86,
   "metadata": {},
   "outputs": [],
   "source": [
    "from sklearn.model_selection import GridSearchCV #función para optimizar hiperparámetros\n",
    "from sklearn.tree import DecisionTreeClassifier\n",
    "from sklearn.ensemble import RandomForestClassifier"
   ]
  },
  {
   "cell_type": "code",
   "execution_count": 87,
   "metadata": {},
   "outputs": [],
   "source": [
    "tree = DecisionTreeClassifier(criterion=\"entropy\",\n",
    "                             random_state=2023)"
   ]
  },
  {
   "cell_type": "code",
   "execution_count": 88,
   "metadata": {},
   "outputs": [],
   "source": [
    "param_grid = {\"max_depth\":[2,3,4,5,6,7,8,9,10]}"
   ]
  },
  {
   "cell_type": "code",
   "execution_count": 89,
   "metadata": {},
   "outputs": [],
   "source": [
    "model_tree = GridSearchCV(tree, param_grid,\n",
    "                         cv=10,\n",
    "                         scoring=\"recall\")"
   ]
  },
  {
   "cell_type": "markdown",
   "metadata": {},
   "source": [
    "**Nota**: la selección de la metrica objetivo (de comparación) depende del caso de negocio"
   ]
  },
  {
   "cell_type": "code",
   "execution_count": 90,
   "metadata": {},
   "outputs": [],
   "source": [
    "x_train, y_train = train.iloc[:,1:].values, train.iloc[:,0].values"
   ]
  },
  {
   "cell_type": "code",
   "execution_count": 91,
   "metadata": {},
   "outputs": [],
   "source": [
    "x_test, y_test = test.iloc[:,1:].values, test.iloc[:,0].values"
   ]
  },
  {
   "cell_type": "code",
   "execution_count": 92,
   "metadata": {},
   "outputs": [
    {
     "data": {
      "text/plain": [
       "GridSearchCV(cv=10,\n",
       "             estimator=DecisionTreeClassifier(criterion='entropy',\n",
       "                                              random_state=2023),\n",
       "             param_grid={'max_depth': [2, 3, 4, 5, 6, 7, 8, 9, 10]},\n",
       "             scoring='recall')"
      ]
     },
     "execution_count": 92,
     "metadata": {},
     "output_type": "execute_result"
    }
   ],
   "source": [
    "model_tree.fit(x_train,y_train)"
   ]
  },
  {
   "cell_type": "code",
   "execution_count": 93,
   "metadata": {},
   "outputs": [
    {
     "name": "stdout",
     "output_type": "stream",
     "text": [
      "{'max_depth': 4}\n"
     ]
    }
   ],
   "source": [
    "print(model_tree.best_params_)"
   ]
  },
  {
   "cell_type": "code",
   "execution_count": 95,
   "metadata": {},
   "outputs": [],
   "source": [
    "tree = DecisionTreeClassifier(criterion=\"entropy\",\n",
    "                              max_depth=4,\n",
    "                             random_state=2023)"
   ]
  },
  {
   "cell_type": "code",
   "execution_count": 96,
   "metadata": {},
   "outputs": [
    {
     "data": {
      "text/plain": [
       "DecisionTreeClassifier(criterion='entropy', max_depth=4, random_state=2023)"
      ]
     },
     "execution_count": 96,
     "metadata": {},
     "output_type": "execute_result"
    }
   ],
   "source": [
    "tree.fit(x_train,y_train)"
   ]
  },
  {
   "cell_type": "markdown",
   "metadata": {},
   "source": [
    "**Random forest**"
   ]
  },
  {
   "cell_type": "code",
   "execution_count": 97,
   "metadata": {},
   "outputs": [],
   "source": [
    "model_f = RandomForestClassifier(random_state=2023,\n",
    "                                criterion=\"entropy\")"
   ]
  },
  {
   "cell_type": "code",
   "execution_count": 98,
   "metadata": {},
   "outputs": [],
   "source": [
    "param_grid = {\"max_depth\":[2,3,4,5],\n",
    "             \"n_estimators\":[100,150],\n",
    "             \"max_features\":[\"auto\",\"log2\"]}"
   ]
  },
  {
   "cell_type": "code",
   "execution_count": 99,
   "metadata": {},
   "outputs": [],
   "source": [
    "model_RF = GridSearchCV(model_f,\n",
    "                        param_grid,\n",
    "                        cv=10,\n",
    "                        scoring=\"recall\")"
   ]
  },
  {
   "cell_type": "code",
   "execution_count": null,
   "metadata": {},
   "outputs": [],
   "source": [
    "model_RF.fit(x_train, y_train)"
   ]
  },
  {
   "cell_type": "code",
   "execution_count": null,
   "metadata": {},
   "outputs": [],
   "source": [
    "print(model_RF.best_params_)"
   ]
  },
  {
   "cell_type": "code",
   "execution_count": null,
   "metadata": {},
   "outputs": [],
   "source": []
  },
  {
   "cell_type": "code",
   "execution_count": null,
   "metadata": {},
   "outputs": [],
   "source": []
  },
  {
   "cell_type": "code",
   "execution_count": null,
   "metadata": {},
   "outputs": [],
   "source": []
  },
  {
   "cell_type": "code",
   "execution_count": null,
   "metadata": {},
   "outputs": [],
   "source": []
  },
  {
   "cell_type": "code",
   "execution_count": null,
   "metadata": {},
   "outputs": [],
   "source": []
  },
  {
   "cell_type": "code",
   "execution_count": null,
   "metadata": {},
   "outputs": [],
   "source": []
  }
 ],
 "metadata": {
  "kernelspec": {
   "display_name": "Python 3 (ipykernel)",
   "language": "python",
   "name": "python3"
  },
  "language_info": {
   "codemirror_mode": {
    "name": "ipython",
    "version": 3
   },
   "file_extension": ".py",
   "mimetype": "text/x-python",
   "name": "python",
   "nbconvert_exporter": "python",
   "pygments_lexer": "ipython3",
   "version": "3.9.13"
  }
 },
 "nbformat": 4,
 "nbformat_minor": 4
}
