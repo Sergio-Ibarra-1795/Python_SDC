{
 "cells": [
  {
   "cell_type": "markdown",
   "metadata": {},
   "source": [
    "**Historia**"
   ]
  },
  {
   "cell_type": "markdown",
   "metadata": {},
   "source": [
    "- Antes de que se genere el avance en cómputo paralelo uno de los principales problemas de los algoritmos de segmentación fue el volúmen de datos (large data).\n",
    "- En ese contexto surge el algoritmo CLARANS\n",
    "- CLARANS: particionamiento basado en medoides (medianas), por lo que podrías inclir variables discretas. CLARANS en su generalización de PAM (Particionamiento al rededor de medoides).\n",
    "- CLARANS trabajaba con una muestra de la matriz de disimilaridad (matriz de distancia)."
   ]
  },
  {
   "cell_type": "code",
   "execution_count": null,
   "metadata": {},
   "outputs": [],
   "source": [
    "pip install pyclustering"
   ]
  },
  {
   "cell_type": "code",
   "execution_count": null,
   "metadata": {},
   "outputs": [],
   "source": [
    "pip install pyreadstat"
   ]
  },
  {
   "cell_type": "code",
   "execution_count": 1,
   "metadata": {},
   "outputs": [],
   "source": [
    "from pyclustering.cluster.clarans import clarans\n",
    "from pyclustering.utils import timedcall\n",
    "import numpy as np\n",
    "import pyreadstat"
   ]
  },
  {
   "cell_type": "code",
   "execution_count": 2,
   "metadata": {},
   "outputs": [],
   "source": [
    "pathsav=\"D:/Python/2. Nivel II/4/datos/distritos.sav\""
   ]
  },
  {
   "cell_type": "code",
   "execution_count": 3,
   "metadata": {},
   "outputs": [],
   "source": [
    "data, meta=pyreadstat.read_sav(pathsav)"
   ]
  },
  {
   "cell_type": "code",
   "execution_count": 4,
   "metadata": {},
   "outputs": [
    {
     "data": {
      "text/plain": [
       "<pyreadstat._readstat_parser.metadata_container at 0x26d585c8940>"
      ]
     },
     "execution_count": 4,
     "metadata": {},
     "output_type": "execute_result"
    }
   ],
   "source": [
    "meta"
   ]
  },
  {
   "cell_type": "code",
   "execution_count": 5,
   "metadata": {},
   "outputs": [
    {
     "data": {
      "text/html": [
       "<div>\n",
       "<style scoped>\n",
       "    .dataframe tbody tr th:only-of-type {\n",
       "        vertical-align: middle;\n",
       "    }\n",
       "\n",
       "    .dataframe tbody tr th {\n",
       "        vertical-align: top;\n",
       "    }\n",
       "\n",
       "    .dataframe thead th {\n",
       "        text-align: right;\n",
       "    }\n",
       "</style>\n",
       "<table border=\"1\" class=\"dataframe\">\n",
       "  <thead>\n",
       "    <tr style=\"text-align: right;\">\n",
       "      <th></th>\n",
       "      <th>distrito</th>\n",
       "      <th>ocu_vivi</th>\n",
       "      <th>pobpjov</th>\n",
       "      <th>sinelect</th>\n",
       "      <th>sinagua</th>\n",
       "      <th>pea1619</th>\n",
       "      <th>pocprin</th>\n",
       "      <th>peam15</th>\n",
       "    </tr>\n",
       "  </thead>\n",
       "  <tbody>\n",
       "    <tr>\n",
       "      <th>0</th>\n",
       "      <td>Ate</td>\n",
       "      <td>1.15</td>\n",
       "      <td>5.3</td>\n",
       "      <td>27.60</td>\n",
       "      <td>51.10</td>\n",
       "      <td>3.9</td>\n",
       "      <td>1.1</td>\n",
       "      <td>63.48</td>\n",
       "    </tr>\n",
       "    <tr>\n",
       "      <th>1</th>\n",
       "      <td>Barranco</td>\n",
       "      <td>1.09</td>\n",
       "      <td>4.5</td>\n",
       "      <td>1.59</td>\n",
       "      <td>8.32</td>\n",
       "      <td>0.8</td>\n",
       "      <td>3.9</td>\n",
       "      <td>33.48</td>\n",
       "    </tr>\n",
       "    <tr>\n",
       "      <th>2</th>\n",
       "      <td>Breña</td>\n",
       "      <td>1.08</td>\n",
       "      <td>4.4</td>\n",
       "      <td>2.20</td>\n",
       "      <td>23.15</td>\n",
       "      <td>0.9</td>\n",
       "      <td>4.0</td>\n",
       "      <td>37.89</td>\n",
       "    </tr>\n",
       "    <tr>\n",
       "      <th>3</th>\n",
       "      <td>Carabayllo</td>\n",
       "      <td>1.10</td>\n",
       "      <td>5.1</td>\n",
       "      <td>30.13</td>\n",
       "      <td>38.09</td>\n",
       "      <td>4.5</td>\n",
       "      <td>12.6</td>\n",
       "      <td>63.65</td>\n",
       "    </tr>\n",
       "    <tr>\n",
       "      <th>4</th>\n",
       "      <td>Comas</td>\n",
       "      <td>1.20</td>\n",
       "      <td>5.9</td>\n",
       "      <td>10.92</td>\n",
       "      <td>24.27</td>\n",
       "      <td>3.8</td>\n",
       "      <td>9.4</td>\n",
       "      <td>60.37</td>\n",
       "    </tr>\n",
       "  </tbody>\n",
       "</table>\n",
       "</div>"
      ],
      "text/plain": [
       "     distrito  ocu_vivi  pobpjov  sinelect  sinagua  pea1619  pocprin  peam15\n",
       "0         Ate      1.15      5.3     27.60    51.10      3.9      1.1   63.48\n",
       "1    Barranco      1.09      4.5      1.59     8.32      0.8      3.9   33.48\n",
       "2       Breña      1.08      4.4      2.20    23.15      0.9      4.0   37.89\n",
       "3  Carabayllo      1.10      5.1     30.13    38.09      4.5     12.6   63.65\n",
       "4       Comas      1.20      5.9     10.92    24.27      3.8      9.4   60.37"
      ]
     },
     "execution_count": 5,
     "metadata": {},
     "output_type": "execute_result"
    }
   ],
   "source": [
    "data.head()"
   ]
  },
  {
   "cell_type": "code",
   "execution_count": 6,
   "metadata": {},
   "outputs": [],
   "source": [
    "xs=data.iloc[:,1:].values"
   ]
  },
  {
   "cell_type": "code",
   "execution_count": 7,
   "metadata": {},
   "outputs": [
    {
     "data": {
      "text/plain": [
       "array([[ 1.15,  5.3 , 27.6 , 51.1 ,  3.9 ,  1.1 , 63.48],\n",
       "       [ 1.09,  4.5 ,  1.59,  8.32,  0.8 ,  3.9 , 33.48],\n",
       "       [ 1.08,  4.4 ,  2.2 , 23.15,  0.9 ,  4.  , 37.89]])"
      ]
     },
     "execution_count": 7,
     "metadata": {},
     "output_type": "execute_result"
    }
   ],
   "source": [
    "xs[:3]"
   ]
  },
  {
   "cell_type": "markdown",
   "metadata": {},
   "source": [
    "**Escalamiento**"
   ]
  },
  {
   "cell_type": "code",
   "execution_count": 8,
   "metadata": {},
   "outputs": [],
   "source": [
    "from sklearn.preprocessing import MinMaxScaler"
   ]
  },
  {
   "cell_type": "code",
   "execution_count": 9,
   "metadata": {},
   "outputs": [],
   "source": [
    "minmax=MinMaxScaler()"
   ]
  },
  {
   "cell_type": "code",
   "execution_count": 10,
   "metadata": {},
   "outputs": [],
   "source": [
    "X= minmax.fit_transform(xs)"
   ]
  },
  {
   "cell_type": "code",
   "execution_count": 11,
   "metadata": {},
   "outputs": [
    {
     "data": {
      "text/plain": [
       "array([[0.4       , 0.57142857, 0.8364027 , 0.7504256 , 0.71698113,\n",
       "        0.        , 0.9670574 ],\n",
       "       [0.2       , 0.28571429, 0.03806016, 0.02213143, 0.13207547,\n",
       "        0.21052632, 0.36075182],\n",
       "       [0.16666667, 0.25      , 0.0567833 , 0.27459993, 0.1509434 ,\n",
       "        0.21804511, 0.44987874]])"
      ]
     },
     "execution_count": 11,
     "metadata": {},
     "output_type": "execute_result"
    }
   ],
   "source": [
    "X[:3]"
   ]
  },
  {
   "cell_type": "code",
   "execution_count": 12,
   "metadata": {},
   "outputs": [],
   "source": [
    "clarans_instance = clarans(X,\n",
    "                          3,\n",
    "                          10,\n",
    "                          6)"
   ]
  },
  {
   "cell_type": "markdown",
   "metadata": {},
   "source": [
    "**Large data: datos de mayor volúmen**"
   ]
  },
  {
   "cell_type": "code",
   "execution_count": 13,
   "metadata": {},
   "outputs": [],
   "source": [
    "#np.random.seed(2022)\n",
    "(ticks, result)=timedcall(clarans_instance.process)"
   ]
  },
  {
   "cell_type": "code",
   "execution_count": 14,
   "metadata": {},
   "outputs": [
    {
     "data": {
      "text/plain": [
       "6.259788000000299"
      ]
     },
     "execution_count": 14,
     "metadata": {},
     "output_type": "execute_result"
    }
   ],
   "source": [
    "ticks"
   ]
  },
  {
   "cell_type": "code",
   "execution_count": 17,
   "metadata": {},
   "outputs": [
    {
     "data": {
      "text/plain": [
       "<pyclustering.cluster.clarans.clarans at 0x1f088db7070>"
      ]
     },
     "execution_count": 17,
     "metadata": {},
     "output_type": "execute_result"
    }
   ],
   "source": [
    "result"
   ]
  },
  {
   "cell_type": "code",
   "execution_count": 15,
   "metadata": {},
   "outputs": [],
   "source": [
    "clusters=clarans_instance.get_clusters()"
   ]
  },
  {
   "cell_type": "code",
   "execution_count": 16,
   "metadata": {},
   "outputs": [
    {
     "name": "stdout",
     "output_type": "stream",
     "text": [
      "[[22, 29, 31, 32], [0, 3, 4, 5, 6, 7, 12, 13, 20, 21, 23, 25, 28, 30], [1, 2, 8, 9, 10, 11, 14, 15, 16, 17, 18, 19, 24, 26, 27, 33]]\n"
     ]
    }
   ],
   "source": [
    "print(clusters)"
   ]
  },
  {
   "cell_type": "code",
   "execution_count": 21,
   "metadata": {},
   "outputs": [
    {
     "data": {
      "text/plain": [
       "[1, 2, 8, 9, 10, 11, 14, 15, 16, 17, 18, 19, 24, 26, 27, 33]"
      ]
     },
     "execution_count": 21,
     "metadata": {},
     "output_type": "execute_result"
    }
   ],
   "source": [
    "clarans_instance.get_clusters()[2]"
   ]
  },
  {
   "cell_type": "code",
   "execution_count": 22,
   "metadata": {},
   "outputs": [],
   "source": [
    "import pandas as pd\n",
    "df_x= pd.DataFrame({},\n",
    "                  columns=[])"
   ]
  },
  {
   "cell_type": "code",
   "execution_count": 23,
   "metadata": {},
   "outputs": [
    {
     "data": {
      "text/html": [
       "<div>\n",
       "<style scoped>\n",
       "    .dataframe tbody tr th:only-of-type {\n",
       "        vertical-align: middle;\n",
       "    }\n",
       "\n",
       "    .dataframe tbody tr th {\n",
       "        vertical-align: top;\n",
       "    }\n",
       "\n",
       "    .dataframe thead th {\n",
       "        text-align: right;\n",
       "    }\n",
       "</style>\n",
       "<table border=\"1\" class=\"dataframe\">\n",
       "  <thead>\n",
       "    <tr style=\"text-align: right;\">\n",
       "      <th></th>\n",
       "    </tr>\n",
       "  </thead>\n",
       "  <tbody>\n",
       "  </tbody>\n",
       "</table>\n",
       "</div>"
      ],
      "text/plain": [
       "Empty DataFrame\n",
       "Columns: []\n",
       "Index: []"
      ]
     },
     "execution_count": 23,
     "metadata": {},
     "output_type": "execute_result"
    }
   ],
   "source": [
    "df_x"
   ]
  },
  {
   "cell_type": "code",
   "execution_count": 24,
   "metadata": {},
   "outputs": [
    {
     "data": {
      "text/plain": [
       "pandas.core.frame.DataFrame"
      ]
     },
     "execution_count": 24,
     "metadata": {},
     "output_type": "execute_result"
    }
   ],
   "source": [
    "type(df_x)"
   ]
  },
  {
   "cell_type": "code",
   "execution_count": 25,
   "metadata": {},
   "outputs": [
    {
     "data": {
      "text/plain": [
       "3"
      ]
     },
     "execution_count": 25,
     "metadata": {},
     "output_type": "execute_result"
    }
   ],
   "source": [
    "len(clusters)"
   ]
  },
  {
   "cell_type": "code",
   "execution_count": 26,
   "metadata": {},
   "outputs": [],
   "source": [
    "for i in range(0,len(clusters)):\n",
    "    dfb=data.loc[clusters[i],]\n",
    "    dfb[\"cluster\"]=i +1\n",
    "    df_x = pd.concat([df_x,dfb])"
   ]
  },
  {
   "cell_type": "code",
   "execution_count": 27,
   "metadata": {},
   "outputs": [
    {
     "data": {
      "text/html": [
       "<div>\n",
       "<style scoped>\n",
       "    .dataframe tbody tr th:only-of-type {\n",
       "        vertical-align: middle;\n",
       "    }\n",
       "\n",
       "    .dataframe tbody tr th {\n",
       "        vertical-align: top;\n",
       "    }\n",
       "\n",
       "    .dataframe thead th {\n",
       "        text-align: right;\n",
       "    }\n",
       "</style>\n",
       "<table border=\"1\" class=\"dataframe\">\n",
       "  <thead>\n",
       "    <tr style=\"text-align: right;\">\n",
       "      <th></th>\n",
       "      <th>distrito</th>\n",
       "      <th>ocu_vivi</th>\n",
       "      <th>pobpjov</th>\n",
       "      <th>sinelect</th>\n",
       "      <th>sinagua</th>\n",
       "      <th>pea1619</th>\n",
       "      <th>pocprin</th>\n",
       "      <th>peam15</th>\n",
       "      <th>cluster</th>\n",
       "    </tr>\n",
       "  </thead>\n",
       "  <tbody>\n",
       "    <tr>\n",
       "      <th>22</th>\n",
       "      <td>San Luis</td>\n",
       "      <td>1.10</td>\n",
       "      <td>5.5</td>\n",
       "      <td>3.94</td>\n",
       "      <td>12.36</td>\n",
       "      <td>1.70</td>\n",
       "      <td>7.0</td>\n",
       "      <td>38.61</td>\n",
       "      <td>1</td>\n",
       "    </tr>\n",
       "    <tr>\n",
       "      <th>29</th>\n",
       "      <td>Villa María del Triunfo</td>\n",
       "      <td>1.18</td>\n",
       "      <td>5.6</td>\n",
       "      <td>1.79</td>\n",
       "      <td>9.30</td>\n",
       "      <td>2.20</td>\n",
       "      <td>4.6</td>\n",
       "      <td>38.72</td>\n",
       "      <td>1</td>\n",
       "    </tr>\n",
       "    <tr>\n",
       "      <th>31</th>\n",
       "      <td>Carmen de la Legua</td>\n",
       "      <td>1.33</td>\n",
       "      <td>6.5</td>\n",
       "      <td>2.73</td>\n",
       "      <td>7.02</td>\n",
       "      <td>4.02</td>\n",
       "      <td>8.7</td>\n",
       "      <td>60.97</td>\n",
       "      <td>1</td>\n",
       "    </tr>\n",
       "    <tr>\n",
       "      <th>32</th>\n",
       "      <td>La Perla</td>\n",
       "      <td>1.17</td>\n",
       "      <td>5.3</td>\n",
       "      <td>1.99</td>\n",
       "      <td>9.12</td>\n",
       "      <td>1.50</td>\n",
       "      <td>3.9</td>\n",
       "      <td>38.10</td>\n",
       "      <td>1</td>\n",
       "    </tr>\n",
       "    <tr>\n",
       "      <th>0</th>\n",
       "      <td>Ate</td>\n",
       "      <td>1.15</td>\n",
       "      <td>5.3</td>\n",
       "      <td>27.60</td>\n",
       "      <td>51.10</td>\n",
       "      <td>3.90</td>\n",
       "      <td>1.1</td>\n",
       "      <td>63.48</td>\n",
       "      <td>2</td>\n",
       "    </tr>\n",
       "    <tr>\n",
       "      <th>3</th>\n",
       "      <td>Carabayllo</td>\n",
       "      <td>1.10</td>\n",
       "      <td>5.1</td>\n",
       "      <td>30.13</td>\n",
       "      <td>38.09</td>\n",
       "      <td>4.50</td>\n",
       "      <td>12.6</td>\n",
       "      <td>63.65</td>\n",
       "      <td>2</td>\n",
       "    </tr>\n",
       "    <tr>\n",
       "      <th>4</th>\n",
       "      <td>Comas</td>\n",
       "      <td>1.20</td>\n",
       "      <td>5.9</td>\n",
       "      <td>10.92</td>\n",
       "      <td>24.27</td>\n",
       "      <td>3.80</td>\n",
       "      <td>9.4</td>\n",
       "      <td>60.37</td>\n",
       "      <td>2</td>\n",
       "    </tr>\n",
       "    <tr>\n",
       "      <th>5</th>\n",
       "      <td>Chorrillos</td>\n",
       "      <td>1.15</td>\n",
       "      <td>5.5</td>\n",
       "      <td>16.77</td>\n",
       "      <td>37.11</td>\n",
       "      <td>3.20</td>\n",
       "      <td>10.6</td>\n",
       "      <td>18.78</td>\n",
       "      <td>2</td>\n",
       "    </tr>\n",
       "    <tr>\n",
       "      <th>6</th>\n",
       "      <td>Agustino</td>\n",
       "      <td>1.22</td>\n",
       "      <td>6.0</td>\n",
       "      <td>16.42</td>\n",
       "      <td>41.16</td>\n",
       "      <td>4.50</td>\n",
       "      <td>13.5</td>\n",
       "      <td>55.84</td>\n",
       "      <td>2</td>\n",
       "    </tr>\n",
       "    <tr>\n",
       "      <th>7</th>\n",
       "      <td>Independencia</td>\n",
       "      <td>1.19</td>\n",
       "      <td>5.9</td>\n",
       "      <td>9.61</td>\n",
       "      <td>21.58</td>\n",
       "      <td>4.00</td>\n",
       "      <td>10.5</td>\n",
       "      <td>60.16</td>\n",
       "      <td>2</td>\n",
       "    </tr>\n",
       "    <tr>\n",
       "      <th>12</th>\n",
       "      <td>Los Olivos</td>\n",
       "      <td>1.11</td>\n",
       "      <td>5.1</td>\n",
       "      <td>30.25</td>\n",
       "      <td>46.18</td>\n",
       "      <td>2.00</td>\n",
       "      <td>6.7</td>\n",
       "      <td>52.80</td>\n",
       "      <td>2</td>\n",
       "    </tr>\n",
       "    <tr>\n",
       "      <th>13</th>\n",
       "      <td>Lurigancho-Chosica</td>\n",
       "      <td>1.10</td>\n",
       "      <td>5.2</td>\n",
       "      <td>32.93</td>\n",
       "      <td>65.76</td>\n",
       "      <td>5.40</td>\n",
       "      <td>14.4</td>\n",
       "      <td>60.66</td>\n",
       "      <td>2</td>\n",
       "    </tr>\n",
       "    <tr>\n",
       "      <th>20</th>\n",
       "      <td>San Juan de Lurigancho</td>\n",
       "      <td>1.12</td>\n",
       "      <td>5.2</td>\n",
       "      <td>23.49</td>\n",
       "      <td>50.00</td>\n",
       "      <td>3.60</td>\n",
       "      <td>10.3</td>\n",
       "      <td>61.83</td>\n",
       "      <td>2</td>\n",
       "    </tr>\n",
       "    <tr>\n",
       "      <th>21</th>\n",
       "      <td>San Juan de Miraflores</td>\n",
       "      <td>1.15</td>\n",
       "      <td>5.4</td>\n",
       "      <td>20.14</td>\n",
       "      <td>41.80</td>\n",
       "      <td>4.20</td>\n",
       "      <td>10.8</td>\n",
       "      <td>57.90</td>\n",
       "      <td>2</td>\n",
       "    </tr>\n",
       "    <tr>\n",
       "      <th>23</th>\n",
       "      <td>San Martin de Porres</td>\n",
       "      <td>1.18</td>\n",
       "      <td>5.5</td>\n",
       "      <td>9.62</td>\n",
       "      <td>24.04</td>\n",
       "      <td>2.50</td>\n",
       "      <td>6.0</td>\n",
       "      <td>49.33</td>\n",
       "      <td>2</td>\n",
       "    </tr>\n",
       "    <tr>\n",
       "      <th>25</th>\n",
       "      <td>Santa Anita</td>\n",
       "      <td>1.20</td>\n",
       "      <td>6.1</td>\n",
       "      <td>12.14</td>\n",
       "      <td>35.30</td>\n",
       "      <td>3.90</td>\n",
       "      <td>11.8</td>\n",
       "      <td>65.11</td>\n",
       "      <td>2</td>\n",
       "    </tr>\n",
       "    <tr>\n",
       "      <th>28</th>\n",
       "      <td>Villa el Salvador</td>\n",
       "      <td>1.06</td>\n",
       "      <td>4.8</td>\n",
       "      <td>24.11</td>\n",
       "      <td>38.73</td>\n",
       "      <td>4.20</td>\n",
       "      <td>11.7</td>\n",
       "      <td>64.84</td>\n",
       "      <td>2</td>\n",
       "    </tr>\n",
       "    <tr>\n",
       "      <th>30</th>\n",
       "      <td>Callao</td>\n",
       "      <td>1.14</td>\n",
       "      <td>5.3</td>\n",
       "      <td>15.98</td>\n",
       "      <td>33.22</td>\n",
       "      <td>3.20</td>\n",
       "      <td>8.6</td>\n",
       "      <td>56.88</td>\n",
       "      <td>2</td>\n",
       "    </tr>\n",
       "    <tr>\n",
       "      <th>1</th>\n",
       "      <td>Barranco</td>\n",
       "      <td>1.09</td>\n",
       "      <td>4.5</td>\n",
       "      <td>1.59</td>\n",
       "      <td>8.32</td>\n",
       "      <td>0.80</td>\n",
       "      <td>3.9</td>\n",
       "      <td>33.48</td>\n",
       "      <td>3</td>\n",
       "    </tr>\n",
       "    <tr>\n",
       "      <th>2</th>\n",
       "      <td>Breña</td>\n",
       "      <td>1.08</td>\n",
       "      <td>4.4</td>\n",
       "      <td>2.20</td>\n",
       "      <td>23.15</td>\n",
       "      <td>0.90</td>\n",
       "      <td>4.0</td>\n",
       "      <td>37.89</td>\n",
       "      <td>3</td>\n",
       "    </tr>\n",
       "  </tbody>\n",
       "</table>\n",
       "</div>"
      ],
      "text/plain": [
       "                   distrito  ocu_vivi  pobpjov  sinelect  sinagua  pea1619  \\\n",
       "22                 San Luis      1.10      5.5      3.94    12.36     1.70   \n",
       "29  Villa María del Triunfo      1.18      5.6      1.79     9.30     2.20   \n",
       "31       Carmen de la Legua      1.33      6.5      2.73     7.02     4.02   \n",
       "32                 La Perla      1.17      5.3      1.99     9.12     1.50   \n",
       "0                       Ate      1.15      5.3     27.60    51.10     3.90   \n",
       "3                Carabayllo      1.10      5.1     30.13    38.09     4.50   \n",
       "4                     Comas      1.20      5.9     10.92    24.27     3.80   \n",
       "5                Chorrillos      1.15      5.5     16.77    37.11     3.20   \n",
       "6                  Agustino      1.22      6.0     16.42    41.16     4.50   \n",
       "7             Independencia      1.19      5.9      9.61    21.58     4.00   \n",
       "12               Los Olivos      1.11      5.1     30.25    46.18     2.00   \n",
       "13       Lurigancho-Chosica      1.10      5.2     32.93    65.76     5.40   \n",
       "20   San Juan de Lurigancho      1.12      5.2     23.49    50.00     3.60   \n",
       "21   San Juan de Miraflores      1.15      5.4     20.14    41.80     4.20   \n",
       "23     San Martin de Porres      1.18      5.5      9.62    24.04     2.50   \n",
       "25              Santa Anita      1.20      6.1     12.14    35.30     3.90   \n",
       "28        Villa el Salvador      1.06      4.8     24.11    38.73     4.20   \n",
       "30                   Callao      1.14      5.3     15.98    33.22     3.20   \n",
       "1                  Barranco      1.09      4.5      1.59     8.32     0.80   \n",
       "2                     Breña      1.08      4.4      2.20    23.15     0.90   \n",
       "\n",
       "    pocprin  peam15  cluster  \n",
       "22      7.0   38.61        1  \n",
       "29      4.6   38.72        1  \n",
       "31      8.7   60.97        1  \n",
       "32      3.9   38.10        1  \n",
       "0       1.1   63.48        2  \n",
       "3      12.6   63.65        2  \n",
       "4       9.4   60.37        2  \n",
       "5      10.6   18.78        2  \n",
       "6      13.5   55.84        2  \n",
       "7      10.5   60.16        2  \n",
       "12      6.7   52.80        2  \n",
       "13     14.4   60.66        2  \n",
       "20     10.3   61.83        2  \n",
       "21     10.8   57.90        2  \n",
       "23      6.0   49.33        2  \n",
       "25     11.8   65.11        2  \n",
       "28     11.7   64.84        2  \n",
       "30      8.6   56.88        2  \n",
       "1       3.9   33.48        3  \n",
       "2       4.0   37.89        3  "
      ]
     },
     "execution_count": 27,
     "metadata": {},
     "output_type": "execute_result"
    }
   ],
   "source": [
    "df_x.head(n=20)"
   ]
  },
  {
   "cell_type": "code",
   "execution_count": 28,
   "metadata": {},
   "outputs": [
    {
     "data": {
      "text/html": [
       "<div>\n",
       "<style scoped>\n",
       "    .dataframe tbody tr th:only-of-type {\n",
       "        vertical-align: middle;\n",
       "    }\n",
       "\n",
       "    .dataframe tbody tr th {\n",
       "        vertical-align: top;\n",
       "    }\n",
       "\n",
       "    .dataframe thead th {\n",
       "        text-align: right;\n",
       "    }\n",
       "</style>\n",
       "<table border=\"1\" class=\"dataframe\">\n",
       "  <thead>\n",
       "    <tr style=\"text-align: right;\">\n",
       "      <th></th>\n",
       "      <th>distrito</th>\n",
       "      <th>ocu_vivi</th>\n",
       "      <th>pobpjov</th>\n",
       "      <th>sinelect</th>\n",
       "      <th>sinagua</th>\n",
       "      <th>pea1619</th>\n",
       "      <th>pocprin</th>\n",
       "      <th>peam15</th>\n",
       "      <th>cluster</th>\n",
       "    </tr>\n",
       "  </thead>\n",
       "  <tbody>\n",
       "    <tr>\n",
       "      <th>0</th>\n",
       "      <td>Ate</td>\n",
       "      <td>1.15</td>\n",
       "      <td>5.3</td>\n",
       "      <td>27.60</td>\n",
       "      <td>51.10</td>\n",
       "      <td>3.90</td>\n",
       "      <td>1.1</td>\n",
       "      <td>63.48</td>\n",
       "      <td>2</td>\n",
       "    </tr>\n",
       "    <tr>\n",
       "      <th>1</th>\n",
       "      <td>Barranco</td>\n",
       "      <td>1.09</td>\n",
       "      <td>4.5</td>\n",
       "      <td>1.59</td>\n",
       "      <td>8.32</td>\n",
       "      <td>0.80</td>\n",
       "      <td>3.9</td>\n",
       "      <td>33.48</td>\n",
       "      <td>3</td>\n",
       "    </tr>\n",
       "    <tr>\n",
       "      <th>2</th>\n",
       "      <td>Breña</td>\n",
       "      <td>1.08</td>\n",
       "      <td>4.4</td>\n",
       "      <td>2.20</td>\n",
       "      <td>23.15</td>\n",
       "      <td>0.90</td>\n",
       "      <td>4.0</td>\n",
       "      <td>37.89</td>\n",
       "      <td>3</td>\n",
       "    </tr>\n",
       "    <tr>\n",
       "      <th>3</th>\n",
       "      <td>Carabayllo</td>\n",
       "      <td>1.10</td>\n",
       "      <td>5.1</td>\n",
       "      <td>30.13</td>\n",
       "      <td>38.09</td>\n",
       "      <td>4.50</td>\n",
       "      <td>12.6</td>\n",
       "      <td>63.65</td>\n",
       "      <td>2</td>\n",
       "    </tr>\n",
       "    <tr>\n",
       "      <th>4</th>\n",
       "      <td>Comas</td>\n",
       "      <td>1.20</td>\n",
       "      <td>5.9</td>\n",
       "      <td>10.92</td>\n",
       "      <td>24.27</td>\n",
       "      <td>3.80</td>\n",
       "      <td>9.4</td>\n",
       "      <td>60.37</td>\n",
       "      <td>2</td>\n",
       "    </tr>\n",
       "    <tr>\n",
       "      <th>5</th>\n",
       "      <td>Chorrillos</td>\n",
       "      <td>1.15</td>\n",
       "      <td>5.5</td>\n",
       "      <td>16.77</td>\n",
       "      <td>37.11</td>\n",
       "      <td>3.20</td>\n",
       "      <td>10.6</td>\n",
       "      <td>18.78</td>\n",
       "      <td>2</td>\n",
       "    </tr>\n",
       "    <tr>\n",
       "      <th>6</th>\n",
       "      <td>Agustino</td>\n",
       "      <td>1.22</td>\n",
       "      <td>6.0</td>\n",
       "      <td>16.42</td>\n",
       "      <td>41.16</td>\n",
       "      <td>4.50</td>\n",
       "      <td>13.5</td>\n",
       "      <td>55.84</td>\n",
       "      <td>2</td>\n",
       "    </tr>\n",
       "    <tr>\n",
       "      <th>7</th>\n",
       "      <td>Independencia</td>\n",
       "      <td>1.19</td>\n",
       "      <td>5.9</td>\n",
       "      <td>9.61</td>\n",
       "      <td>21.58</td>\n",
       "      <td>4.00</td>\n",
       "      <td>10.5</td>\n",
       "      <td>60.16</td>\n",
       "      <td>2</td>\n",
       "    </tr>\n",
       "    <tr>\n",
       "      <th>8</th>\n",
       "      <td>Jesús María</td>\n",
       "      <td>1.03</td>\n",
       "      <td>4.2</td>\n",
       "      <td>0.57</td>\n",
       "      <td>14.78</td>\n",
       "      <td>0.30</td>\n",
       "      <td>3.1</td>\n",
       "      <td>23.52</td>\n",
       "      <td>3</td>\n",
       "    </tr>\n",
       "    <tr>\n",
       "      <th>9</th>\n",
       "      <td>La Victoria</td>\n",
       "      <td>1.06</td>\n",
       "      <td>4.7</td>\n",
       "      <td>3.09</td>\n",
       "      <td>25.79</td>\n",
       "      <td>1.70</td>\n",
       "      <td>7.8</td>\n",
       "      <td>49.21</td>\n",
       "      <td>3</td>\n",
       "    </tr>\n",
       "    <tr>\n",
       "      <th>10</th>\n",
       "      <td>Lima</td>\n",
       "      <td>1.10</td>\n",
       "      <td>4.6</td>\n",
       "      <td>4.55</td>\n",
       "      <td>26.00</td>\n",
       "      <td>1.70</td>\n",
       "      <td>6.6</td>\n",
       "      <td>46.66</td>\n",
       "      <td>3</td>\n",
       "    </tr>\n",
       "    <tr>\n",
       "      <th>11</th>\n",
       "      <td>Lince</td>\n",
       "      <td>1.03</td>\n",
       "      <td>4.1</td>\n",
       "      <td>1.14</td>\n",
       "      <td>20.22</td>\n",
       "      <td>0.50</td>\n",
       "      <td>3.6</td>\n",
       "      <td>29.42</td>\n",
       "      <td>3</td>\n",
       "    </tr>\n",
       "    <tr>\n",
       "      <th>12</th>\n",
       "      <td>Los Olivos</td>\n",
       "      <td>1.11</td>\n",
       "      <td>5.1</td>\n",
       "      <td>30.25</td>\n",
       "      <td>46.18</td>\n",
       "      <td>2.00</td>\n",
       "      <td>6.7</td>\n",
       "      <td>52.80</td>\n",
       "      <td>2</td>\n",
       "    </tr>\n",
       "    <tr>\n",
       "      <th>13</th>\n",
       "      <td>Lurigancho-Chosica</td>\n",
       "      <td>1.10</td>\n",
       "      <td>5.2</td>\n",
       "      <td>32.93</td>\n",
       "      <td>65.76</td>\n",
       "      <td>5.40</td>\n",
       "      <td>14.4</td>\n",
       "      <td>60.66</td>\n",
       "      <td>2</td>\n",
       "    </tr>\n",
       "    <tr>\n",
       "      <th>14</th>\n",
       "      <td>Magdalena del Mar</td>\n",
       "      <td>1.08</td>\n",
       "      <td>4.5</td>\n",
       "      <td>1.41</td>\n",
       "      <td>15.16</td>\n",
       "      <td>0.70</td>\n",
       "      <td>4.1</td>\n",
       "      <td>28.99</td>\n",
       "      <td>3</td>\n",
       "    </tr>\n",
       "    <tr>\n",
       "      <th>15</th>\n",
       "      <td>Pueblo Libre</td>\n",
       "      <td>1.09</td>\n",
       "      <td>4.7</td>\n",
       "      <td>1.24</td>\n",
       "      <td>13.02</td>\n",
       "      <td>0.50</td>\n",
       "      <td>3.9</td>\n",
       "      <td>26.71</td>\n",
       "      <td>3</td>\n",
       "    </tr>\n",
       "    <tr>\n",
       "      <th>16</th>\n",
       "      <td>Miraflores</td>\n",
       "      <td>1.03</td>\n",
       "      <td>3.7</td>\n",
       "      <td>0.67</td>\n",
       "      <td>14.75</td>\n",
       "      <td>0.20</td>\n",
       "      <td>4.0</td>\n",
       "      <td>22.45</td>\n",
       "      <td>3</td>\n",
       "    </tr>\n",
       "    <tr>\n",
       "      <th>17</th>\n",
       "      <td>Rímac</td>\n",
       "      <td>1.12</td>\n",
       "      <td>5.0</td>\n",
       "      <td>7.00</td>\n",
       "      <td>25.60</td>\n",
       "      <td>0.20</td>\n",
       "      <td>6.9</td>\n",
       "      <td>48.75</td>\n",
       "      <td>3</td>\n",
       "    </tr>\n",
       "    <tr>\n",
       "      <th>18</th>\n",
       "      <td>San Borja</td>\n",
       "      <td>1.06</td>\n",
       "      <td>4.8</td>\n",
       "      <td>1.77</td>\n",
       "      <td>8.26</td>\n",
       "      <td>0.40</td>\n",
       "      <td>4.2</td>\n",
       "      <td>18.67</td>\n",
       "      <td>3</td>\n",
       "    </tr>\n",
       "    <tr>\n",
       "      <th>19</th>\n",
       "      <td>San Isidro</td>\n",
       "      <td>1.03</td>\n",
       "      <td>3.9</td>\n",
       "      <td>0.46</td>\n",
       "      <td>13.94</td>\n",
       "      <td>0.10</td>\n",
       "      <td>4.9</td>\n",
       "      <td>16.29</td>\n",
       "      <td>3</td>\n",
       "    </tr>\n",
       "    <tr>\n",
       "      <th>20</th>\n",
       "      <td>San Juan de Lurigancho</td>\n",
       "      <td>1.12</td>\n",
       "      <td>5.2</td>\n",
       "      <td>23.49</td>\n",
       "      <td>50.00</td>\n",
       "      <td>3.60</td>\n",
       "      <td>10.3</td>\n",
       "      <td>61.83</td>\n",
       "      <td>2</td>\n",
       "    </tr>\n",
       "    <tr>\n",
       "      <th>21</th>\n",
       "      <td>San Juan de Miraflores</td>\n",
       "      <td>1.15</td>\n",
       "      <td>5.4</td>\n",
       "      <td>20.14</td>\n",
       "      <td>41.80</td>\n",
       "      <td>4.20</td>\n",
       "      <td>10.8</td>\n",
       "      <td>57.90</td>\n",
       "      <td>2</td>\n",
       "    </tr>\n",
       "    <tr>\n",
       "      <th>22</th>\n",
       "      <td>San Luis</td>\n",
       "      <td>1.10</td>\n",
       "      <td>5.5</td>\n",
       "      <td>3.94</td>\n",
       "      <td>12.36</td>\n",
       "      <td>1.70</td>\n",
       "      <td>7.0</td>\n",
       "      <td>38.61</td>\n",
       "      <td>1</td>\n",
       "    </tr>\n",
       "    <tr>\n",
       "      <th>23</th>\n",
       "      <td>San Martin de Porres</td>\n",
       "      <td>1.18</td>\n",
       "      <td>5.5</td>\n",
       "      <td>9.62</td>\n",
       "      <td>24.04</td>\n",
       "      <td>2.50</td>\n",
       "      <td>6.0</td>\n",
       "      <td>49.33</td>\n",
       "      <td>2</td>\n",
       "    </tr>\n",
       "    <tr>\n",
       "      <th>24</th>\n",
       "      <td>San Miguel</td>\n",
       "      <td>1.11</td>\n",
       "      <td>5.1</td>\n",
       "      <td>4.16</td>\n",
       "      <td>15.04</td>\n",
       "      <td>0.90</td>\n",
       "      <td>4.2</td>\n",
       "      <td>32.34</td>\n",
       "      <td>3</td>\n",
       "    </tr>\n",
       "    <tr>\n",
       "      <th>25</th>\n",
       "      <td>Santa Anita</td>\n",
       "      <td>1.20</td>\n",
       "      <td>6.1</td>\n",
       "      <td>12.14</td>\n",
       "      <td>35.30</td>\n",
       "      <td>3.90</td>\n",
       "      <td>11.8</td>\n",
       "      <td>65.11</td>\n",
       "      <td>2</td>\n",
       "    </tr>\n",
       "    <tr>\n",
       "      <th>26</th>\n",
       "      <td>Surco</td>\n",
       "      <td>1.03</td>\n",
       "      <td>4.5</td>\n",
       "      <td>5.44</td>\n",
       "      <td>15.95</td>\n",
       "      <td>0.90</td>\n",
       "      <td>4.9</td>\n",
       "      <td>27.16</td>\n",
       "      <td>3</td>\n",
       "    </tr>\n",
       "    <tr>\n",
       "      <th>27</th>\n",
       "      <td>Surquillo</td>\n",
       "      <td>1.09</td>\n",
       "      <td>4.7</td>\n",
       "      <td>3.15</td>\n",
       "      <td>21.87</td>\n",
       "      <td>1.20</td>\n",
       "      <td>5.5</td>\n",
       "      <td>38.54</td>\n",
       "      <td>3</td>\n",
       "    </tr>\n",
       "    <tr>\n",
       "      <th>28</th>\n",
       "      <td>Villa el Salvador</td>\n",
       "      <td>1.06</td>\n",
       "      <td>4.8</td>\n",
       "      <td>24.11</td>\n",
       "      <td>38.73</td>\n",
       "      <td>4.20</td>\n",
       "      <td>11.7</td>\n",
       "      <td>64.84</td>\n",
       "      <td>2</td>\n",
       "    </tr>\n",
       "    <tr>\n",
       "      <th>29</th>\n",
       "      <td>Villa María del Triunfo</td>\n",
       "      <td>1.18</td>\n",
       "      <td>5.6</td>\n",
       "      <td>1.79</td>\n",
       "      <td>9.30</td>\n",
       "      <td>2.20</td>\n",
       "      <td>4.6</td>\n",
       "      <td>38.72</td>\n",
       "      <td>1</td>\n",
       "    </tr>\n",
       "    <tr>\n",
       "      <th>30</th>\n",
       "      <td>Callao</td>\n",
       "      <td>1.14</td>\n",
       "      <td>5.3</td>\n",
       "      <td>15.98</td>\n",
       "      <td>33.22</td>\n",
       "      <td>3.20</td>\n",
       "      <td>8.6</td>\n",
       "      <td>56.88</td>\n",
       "      <td>2</td>\n",
       "    </tr>\n",
       "    <tr>\n",
       "      <th>31</th>\n",
       "      <td>Carmen de la Legua</td>\n",
       "      <td>1.33</td>\n",
       "      <td>6.5</td>\n",
       "      <td>2.73</td>\n",
       "      <td>7.02</td>\n",
       "      <td>4.02</td>\n",
       "      <td>8.7</td>\n",
       "      <td>60.97</td>\n",
       "      <td>1</td>\n",
       "    </tr>\n",
       "    <tr>\n",
       "      <th>32</th>\n",
       "      <td>La Perla</td>\n",
       "      <td>1.17</td>\n",
       "      <td>5.3</td>\n",
       "      <td>1.99</td>\n",
       "      <td>9.12</td>\n",
       "      <td>1.50</td>\n",
       "      <td>3.9</td>\n",
       "      <td>38.10</td>\n",
       "      <td>1</td>\n",
       "    </tr>\n",
       "    <tr>\n",
       "      <th>33</th>\n",
       "      <td>La Punta</td>\n",
       "      <td>1.05</td>\n",
       "      <td>4.2</td>\n",
       "      <td>0.35</td>\n",
       "      <td>7.74</td>\n",
       "      <td>0.20</td>\n",
       "      <td>9.0</td>\n",
       "      <td>15.63</td>\n",
       "      <td>3</td>\n",
       "    </tr>\n",
       "  </tbody>\n",
       "</table>\n",
       "</div>"
      ],
      "text/plain": [
       "                   distrito  ocu_vivi  pobpjov  sinelect  sinagua  pea1619  \\\n",
       "0                       Ate      1.15      5.3     27.60    51.10     3.90   \n",
       "1                  Barranco      1.09      4.5      1.59     8.32     0.80   \n",
       "2                     Breña      1.08      4.4      2.20    23.15     0.90   \n",
       "3                Carabayllo      1.10      5.1     30.13    38.09     4.50   \n",
       "4                     Comas      1.20      5.9     10.92    24.27     3.80   \n",
       "5                Chorrillos      1.15      5.5     16.77    37.11     3.20   \n",
       "6                  Agustino      1.22      6.0     16.42    41.16     4.50   \n",
       "7             Independencia      1.19      5.9      9.61    21.58     4.00   \n",
       "8               Jesús María      1.03      4.2      0.57    14.78     0.30   \n",
       "9               La Victoria      1.06      4.7      3.09    25.79     1.70   \n",
       "10                     Lima      1.10      4.6      4.55    26.00     1.70   \n",
       "11                    Lince      1.03      4.1      1.14    20.22     0.50   \n",
       "12               Los Olivos      1.11      5.1     30.25    46.18     2.00   \n",
       "13       Lurigancho-Chosica      1.10      5.2     32.93    65.76     5.40   \n",
       "14        Magdalena del Mar      1.08      4.5      1.41    15.16     0.70   \n",
       "15             Pueblo Libre      1.09      4.7      1.24    13.02     0.50   \n",
       "16               Miraflores      1.03      3.7      0.67    14.75     0.20   \n",
       "17                    Rímac      1.12      5.0      7.00    25.60     0.20   \n",
       "18                San Borja      1.06      4.8      1.77     8.26     0.40   \n",
       "19               San Isidro      1.03      3.9      0.46    13.94     0.10   \n",
       "20   San Juan de Lurigancho      1.12      5.2     23.49    50.00     3.60   \n",
       "21   San Juan de Miraflores      1.15      5.4     20.14    41.80     4.20   \n",
       "22                 San Luis      1.10      5.5      3.94    12.36     1.70   \n",
       "23     San Martin de Porres      1.18      5.5      9.62    24.04     2.50   \n",
       "24               San Miguel      1.11      5.1      4.16    15.04     0.90   \n",
       "25              Santa Anita      1.20      6.1     12.14    35.30     3.90   \n",
       "26                    Surco      1.03      4.5      5.44    15.95     0.90   \n",
       "27                Surquillo      1.09      4.7      3.15    21.87     1.20   \n",
       "28        Villa el Salvador      1.06      4.8     24.11    38.73     4.20   \n",
       "29  Villa María del Triunfo      1.18      5.6      1.79     9.30     2.20   \n",
       "30                   Callao      1.14      5.3     15.98    33.22     3.20   \n",
       "31       Carmen de la Legua      1.33      6.5      2.73     7.02     4.02   \n",
       "32                 La Perla      1.17      5.3      1.99     9.12     1.50   \n",
       "33                 La Punta      1.05      4.2      0.35     7.74     0.20   \n",
       "\n",
       "    pocprin  peam15  cluster  \n",
       "0       1.1   63.48        2  \n",
       "1       3.9   33.48        3  \n",
       "2       4.0   37.89        3  \n",
       "3      12.6   63.65        2  \n",
       "4       9.4   60.37        2  \n",
       "5      10.6   18.78        2  \n",
       "6      13.5   55.84        2  \n",
       "7      10.5   60.16        2  \n",
       "8       3.1   23.52        3  \n",
       "9       7.8   49.21        3  \n",
       "10      6.6   46.66        3  \n",
       "11      3.6   29.42        3  \n",
       "12      6.7   52.80        2  \n",
       "13     14.4   60.66        2  \n",
       "14      4.1   28.99        3  \n",
       "15      3.9   26.71        3  \n",
       "16      4.0   22.45        3  \n",
       "17      6.9   48.75        3  \n",
       "18      4.2   18.67        3  \n",
       "19      4.9   16.29        3  \n",
       "20     10.3   61.83        2  \n",
       "21     10.8   57.90        2  \n",
       "22      7.0   38.61        1  \n",
       "23      6.0   49.33        2  \n",
       "24      4.2   32.34        3  \n",
       "25     11.8   65.11        2  \n",
       "26      4.9   27.16        3  \n",
       "27      5.5   38.54        3  \n",
       "28     11.7   64.84        2  \n",
       "29      4.6   38.72        1  \n",
       "30      8.6   56.88        2  \n",
       "31      8.7   60.97        1  \n",
       "32      3.9   38.10        1  \n",
       "33      9.0   15.63        3  "
      ]
     },
     "execution_count": 28,
     "metadata": {},
     "output_type": "execute_result"
    }
   ],
   "source": [
    "df_x.sort_index()"
   ]
  },
  {
   "cell_type": "markdown",
   "metadata": {},
   "source": [
    "__________________________"
   ]
  },
  {
   "cell_type": "markdown",
   "metadata": {},
   "source": [
    "**Clúster jerárquico**"
   ]
  },
  {
   "cell_type": "code",
   "execution_count": 29,
   "metadata": {},
   "outputs": [],
   "source": [
    "import pandas as pd\n",
    "import numpy as np"
   ]
  },
  {
   "cell_type": "code",
   "execution_count": 30,
   "metadata": {},
   "outputs": [],
   "source": [
    "variables = [\"X\",\"Y\"]\n",
    "labels = [\"ID_0\",\"ID_1\",\"ID_2\",\"ID_3\",\"ID_4\"]\n",
    "np.random.seed(123)\n",
    "X = np.random.random_sample([5,2])*10"
   ]
  },
  {
   "cell_type": "code",
   "execution_count": 31,
   "metadata": {},
   "outputs": [],
   "source": [
    "df= pd.DataFrame(X,\n",
    "                 columns=variables,\n",
    "                 index=labels)"
   ]
  },
  {
   "cell_type": "code",
   "execution_count": 32,
   "metadata": {},
   "outputs": [
    {
     "data": {
      "text/html": [
       "<div>\n",
       "<style scoped>\n",
       "    .dataframe tbody tr th:only-of-type {\n",
       "        vertical-align: middle;\n",
       "    }\n",
       "\n",
       "    .dataframe tbody tr th {\n",
       "        vertical-align: top;\n",
       "    }\n",
       "\n",
       "    .dataframe thead th {\n",
       "        text-align: right;\n",
       "    }\n",
       "</style>\n",
       "<table border=\"1\" class=\"dataframe\">\n",
       "  <thead>\n",
       "    <tr style=\"text-align: right;\">\n",
       "      <th></th>\n",
       "      <th>X</th>\n",
       "      <th>Y</th>\n",
       "    </tr>\n",
       "  </thead>\n",
       "  <tbody>\n",
       "    <tr>\n",
       "      <th>ID_0</th>\n",
       "      <td>6.964692</td>\n",
       "      <td>2.861393</td>\n",
       "    </tr>\n",
       "    <tr>\n",
       "      <th>ID_1</th>\n",
       "      <td>2.268515</td>\n",
       "      <td>5.513148</td>\n",
       "    </tr>\n",
       "    <tr>\n",
       "      <th>ID_2</th>\n",
       "      <td>7.194690</td>\n",
       "      <td>4.231065</td>\n",
       "    </tr>\n",
       "    <tr>\n",
       "      <th>ID_3</th>\n",
       "      <td>9.807642</td>\n",
       "      <td>6.848297</td>\n",
       "    </tr>\n",
       "    <tr>\n",
       "      <th>ID_4</th>\n",
       "      <td>4.809319</td>\n",
       "      <td>3.921175</td>\n",
       "    </tr>\n",
       "  </tbody>\n",
       "</table>\n",
       "</div>"
      ],
      "text/plain": [
       "             X         Y\n",
       "ID_0  6.964692  2.861393\n",
       "ID_1  2.268515  5.513148\n",
       "ID_2  7.194690  4.231065\n",
       "ID_3  9.807642  6.848297\n",
       "ID_4  4.809319  3.921175"
      ]
     },
     "execution_count": 32,
     "metadata": {},
     "output_type": "execute_result"
    }
   ],
   "source": [
    "df.head()"
   ]
  },
  {
   "cell_type": "code",
   "execution_count": 33,
   "metadata": {},
   "outputs": [],
   "source": [
    "from scipy.spatial.distance import pdist, squareform\n",
    "from sklearn.preprocessing import StandardScaler\n",
    "import matplotlib.pyplot as plt"
   ]
  },
  {
   "cell_type": "markdown",
   "metadata": {},
   "source": [
    "**Paso 1: estandarización**"
   ]
  },
  {
   "cell_type": "code",
   "execution_count": 34,
   "metadata": {},
   "outputs": [],
   "source": [
    "std=StandardScaler()\n",
    "data_std = std.fit_transform(df)"
   ]
  },
  {
   "cell_type": "code",
   "execution_count": 35,
   "metadata": {},
   "outputs": [
    {
     "data": {
      "text/plain": [
       "array([[ 0.29882088, -1.31711231],\n",
       "       [-1.55810367,  0.60867913],\n",
       "       [ 0.38976477, -0.32241188],\n",
       "       [ 1.42295728,  1.57830886],\n",
       "       [-0.55343926, -0.5474638 ]])"
      ]
     },
     "execution_count": 35,
     "metadata": {},
     "output_type": "execute_result"
    }
   ],
   "source": [
    "data_std"
   ]
  },
  {
   "cell_type": "markdown",
   "metadata": {},
   "source": [
    "**Paso 2: construir una matriz de distancia**"
   ]
  },
  {
   "cell_type": "code",
   "execution_count": 36,
   "metadata": {},
   "outputs": [],
   "source": [
    "df_std = pd.DataFrame(data_std)"
   ]
  },
  {
   "cell_type": "code",
   "execution_count": 37,
   "metadata": {},
   "outputs": [
    {
     "data": {
      "text/html": [
       "<div>\n",
       "<style scoped>\n",
       "    .dataframe tbody tr th:only-of-type {\n",
       "        vertical-align: middle;\n",
       "    }\n",
       "\n",
       "    .dataframe tbody tr th {\n",
       "        vertical-align: top;\n",
       "    }\n",
       "\n",
       "    .dataframe thead th {\n",
       "        text-align: right;\n",
       "    }\n",
       "</style>\n",
       "<table border=\"1\" class=\"dataframe\">\n",
       "  <thead>\n",
       "    <tr style=\"text-align: right;\">\n",
       "      <th></th>\n",
       "      <th>ID_0</th>\n",
       "      <th>ID_1</th>\n",
       "      <th>ID_2</th>\n",
       "      <th>ID_3</th>\n",
       "      <th>ID_4</th>\n",
       "    </tr>\n",
       "  </thead>\n",
       "  <tbody>\n",
       "    <tr>\n",
       "      <th>ID_0</th>\n",
       "      <td>0.000000</td>\n",
       "      <td>2.675227</td>\n",
       "      <td>0.998849</td>\n",
       "      <td>3.105986</td>\n",
       "      <td>1.148349</td>\n",
       "    </tr>\n",
       "    <tr>\n",
       "      <th>ID_1</th>\n",
       "      <td>2.675227</td>\n",
       "      <td>0.000000</td>\n",
       "      <td>2.158963</td>\n",
       "      <td>3.134790</td>\n",
       "      <td>1.531671</td>\n",
       "    </tr>\n",
       "    <tr>\n",
       "      <th>ID_2</th>\n",
       "      <td>0.998849</td>\n",
       "      <td>2.158963</td>\n",
       "      <td>0.000000</td>\n",
       "      <td>2.163383</td>\n",
       "      <td>0.969681</td>\n",
       "    </tr>\n",
       "    <tr>\n",
       "      <th>ID_3</th>\n",
       "      <td>3.105986</td>\n",
       "      <td>3.134790</td>\n",
       "      <td>2.163383</td>\n",
       "      <td>0.000000</td>\n",
       "      <td>2.902594</td>\n",
       "    </tr>\n",
       "    <tr>\n",
       "      <th>ID_4</th>\n",
       "      <td>1.148349</td>\n",
       "      <td>1.531671</td>\n",
       "      <td>0.969681</td>\n",
       "      <td>2.902594</td>\n",
       "      <td>0.000000</td>\n",
       "    </tr>\n",
       "  </tbody>\n",
       "</table>\n",
       "</div>"
      ],
      "text/plain": [
       "          ID_0      ID_1      ID_2      ID_3      ID_4\n",
       "ID_0  0.000000  2.675227  0.998849  3.105986  1.148349\n",
       "ID_1  2.675227  0.000000  2.158963  3.134790  1.531671\n",
       "ID_2  0.998849  2.158963  0.000000  2.163383  0.969681\n",
       "ID_3  3.105986  3.134790  2.163383  0.000000  2.902594\n",
       "ID_4  1.148349  1.531671  0.969681  2.902594  0.000000"
      ]
     },
     "execution_count": 37,
     "metadata": {},
     "output_type": "execute_result"
    }
   ],
   "source": [
    "pd.DataFrame(squareform(pdist(df_std,\n",
    "                metric=\"euclidean\")),\n",
    "            columns=labels,\n",
    "            index=labels)"
   ]
  },
  {
   "cell_type": "markdown",
   "metadata": {},
   "source": [
    "**Paso 3: visualización para fines ilustrativos**"
   ]
  },
  {
   "cell_type": "code",
   "execution_count": 38,
   "metadata": {},
   "outputs": [
    {
     "data": {
      "image/png": "[encoded data removed]",
      "text/plain": [
       "<Figure size 640x480 with 1 Axes>"
      ]
     },
     "metadata": {},
     "output_type": "display_data"
    }
   ],
   "source": [
    "plt.scatter(df_std.iloc[:,0].values, \n",
    "            df_std.iloc[:,1].values,\n",
    "            color=\"red\")\n",
    "plt.xlabel(\"X\")\n",
    "plt.ylabel(\"Y\")\n",
    "for i, label in enumerate(labels):\n",
    "    plt.annotate(label,(data_std[i][0],data_std[i][1]))\n",
    "\n",
    "plt.show()"
   ]
  },
  {
   "cell_type": "code",
   "execution_count": 39,
   "metadata": {},
   "outputs": [],
   "source": [
    "from scipy.cluster.hierarchy import linkage"
   ]
  },
  {
   "cell_type": "code",
   "execution_count": 41,
   "metadata": {},
   "outputs": [],
   "source": [
    "cluster = linkage(pdist(df_std,metric=\"euclidean\"),\n",
    "                  method=\"single\")"
   ]
  },
  {
   "cell_type": "code",
   "execution_count": 42,
   "metadata": {},
   "outputs": [],
   "source": [
    "from scipy.cluster.hierarchy import dendrogram"
   ]
  },
  {
   "cell_type": "code",
   "execution_count": 43,
   "metadata": {},
   "outputs": [
    {
     "data": {
      "image/png": "[encoded data removed]",
      "text/plain": [
       "<Figure size 640x480 with 1 Axes>"
      ]
     },
     "metadata": {},
     "output_type": "display_data"
    }
   ],
   "source": [
    "dendograma = dendrogram(cluster,\n",
    "                        labels=labels)\n",
    "plt.show()"
   ]
  },
  {
   "cell_type": "code",
   "execution_count": 44,
   "metadata": {},
   "outputs": [],
   "source": [
    "cluster = linkage(pdist(df_std,metric=\"euclidean\"),\n",
    "                  method=\"complete\")"
   ]
  },
  {
   "cell_type": "code",
   "execution_count": 45,
   "metadata": {},
   "outputs": [
    {
     "data": {
      "image/png": "[encoded data removed]",
      "text/plain": [
       "<Figure size 640x480 with 1 Axes>"
      ]
     },
     "metadata": {},
     "output_type": "display_data"
    }
   ],
   "source": [
    "dendograma = dendrogram(cluster, labels=labels)\n",
    "plt.show()"
   ]
  },
  {
   "cell_type": "markdown",
   "metadata": {},
   "source": [
    "**Paso 4: agregar a qué clúster pertenece cada una de las observaciones**"
   ]
  },
  {
   "cell_type": "code",
   "execution_count": null,
   "metadata": {},
   "outputs": [],
   "source": []
  },
  {
   "cell_type": "markdown",
   "metadata": {},
   "source": [
    "**Paso 5: perfilamiento de clúster**"
   ]
  },
  {
   "cell_type": "code",
   "execution_count": null,
   "metadata": {},
   "outputs": [],
   "source": []
  },
  {
   "cell_type": "markdown",
   "metadata": {},
   "source": [
    "**Clúster jerárquico**"
   ]
  },
  {
   "cell_type": "code",
   "execution_count": 46,
   "metadata": {},
   "outputs": [],
   "source": [
    "from sklearn.cluster import AgglomerativeClustering"
   ]
  },
  {
   "cell_type": "code",
   "execution_count": 47,
   "metadata": {},
   "outputs": [],
   "source": [
    "agnes = AgglomerativeClustering(n_clusters=2,\n",
    "                               affinity=\"euclidean\",\n",
    "                               linkage=\"single\")"
   ]
  },
  {
   "cell_type": "code",
   "execution_count": 48,
   "metadata": {},
   "outputs": [],
   "source": [
    "df[\"cluster_AGNES_single\"]=agnes.fit_predict(X)+1"
   ]
  },
  {
   "cell_type": "code",
   "execution_count": 49,
   "metadata": {},
   "outputs": [
    {
     "data": {
      "text/html": [
       "<div>\n",
       "<style scoped>\n",
       "    .dataframe tbody tr th:only-of-type {\n",
       "        vertical-align: middle;\n",
       "    }\n",
       "\n",
       "    .dataframe tbody tr th {\n",
       "        vertical-align: top;\n",
       "    }\n",
       "\n",
       "    .dataframe thead th {\n",
       "        text-align: right;\n",
       "    }\n",
       "</style>\n",
       "<table border=\"1\" class=\"dataframe\">\n",
       "  <thead>\n",
       "    <tr style=\"text-align: right;\">\n",
       "      <th></th>\n",
       "      <th>X</th>\n",
       "      <th>Y</th>\n",
       "      <th>cluster_AGNES_single</th>\n",
       "    </tr>\n",
       "  </thead>\n",
       "  <tbody>\n",
       "    <tr>\n",
       "      <th>ID_0</th>\n",
       "      <td>6.964692</td>\n",
       "      <td>2.861393</td>\n",
       "      <td>1</td>\n",
       "    </tr>\n",
       "    <tr>\n",
       "      <th>ID_1</th>\n",
       "      <td>2.268515</td>\n",
       "      <td>5.513148</td>\n",
       "      <td>1</td>\n",
       "    </tr>\n",
       "    <tr>\n",
       "      <th>ID_2</th>\n",
       "      <td>7.194690</td>\n",
       "      <td>4.231065</td>\n",
       "      <td>1</td>\n",
       "    </tr>\n",
       "    <tr>\n",
       "      <th>ID_3</th>\n",
       "      <td>9.807642</td>\n",
       "      <td>6.848297</td>\n",
       "      <td>2</td>\n",
       "    </tr>\n",
       "    <tr>\n",
       "      <th>ID_4</th>\n",
       "      <td>4.809319</td>\n",
       "      <td>3.921175</td>\n",
       "      <td>1</td>\n",
       "    </tr>\n",
       "  </tbody>\n",
       "</table>\n",
       "</div>"
      ],
      "text/plain": [
       "             X         Y  cluster_AGNES_single\n",
       "ID_0  6.964692  2.861393                     1\n",
       "ID_1  2.268515  5.513148                     1\n",
       "ID_2  7.194690  4.231065                     1\n",
       "ID_3  9.807642  6.848297                     2\n",
       "ID_4  4.809319  3.921175                     1"
      ]
     },
     "execution_count": 49,
     "metadata": {},
     "output_type": "execute_result"
    }
   ],
   "source": [
    "df"
   ]
  },
  {
   "cell_type": "markdown",
   "metadata": {},
   "source": [
    "**Número óptimo de clústers**"
   ]
  },
  {
   "cell_type": "code",
   "execution_count": 50,
   "metadata": {},
   "outputs": [],
   "source": [
    "from sklearn.metrics import euclidean_distances, silhouette_score"
   ]
  },
  {
   "cell_type": "code",
   "execution_count": 51,
   "metadata": {},
   "outputs": [],
   "source": [
    "silueta=[]\n",
    "\n",
    "for i in range(2,5):\n",
    "    agnes = AgglomerativeClustering(n_clusters=i,\n",
    "                               affinity=\"euclidean\",\n",
    "                               linkage=\"single\")\n",
    "    silueta.append(silhouette_score(X,agnes.fit_predict(X)))"
   ]
  },
  {
   "cell_type": "code",
   "execution_count": 52,
   "metadata": {},
   "outputs": [
    {
     "data": {
      "text/plain": [
       "[0.30758371787876365, 0.2596626119320968, 0.16887394203608858]"
      ]
     },
     "execution_count": 52,
     "metadata": {},
     "output_type": "execute_result"
    }
   ],
   "source": [
    "silueta"
   ]
  },
  {
   "cell_type": "code",
   "execution_count": 53,
   "metadata": {},
   "outputs": [],
   "source": [
    "k=[2,3,4]"
   ]
  },
  {
   "cell_type": "code",
   "execution_count": 54,
   "metadata": {},
   "outputs": [
    {
     "data": {
      "text/html": [
       "<div>\n",
       "<style scoped>\n",
       "    .dataframe tbody tr th:only-of-type {\n",
       "        vertical-align: middle;\n",
       "    }\n",
       "\n",
       "    .dataframe tbody tr th {\n",
       "        vertical-align: top;\n",
       "    }\n",
       "\n",
       "    .dataframe thead th {\n",
       "        text-align: right;\n",
       "    }\n",
       "</style>\n",
       "<table border=\"1\" class=\"dataframe\">\n",
       "  <thead>\n",
       "    <tr style=\"text-align: right;\">\n",
       "      <th></th>\n",
       "      <th>Silueta</th>\n",
       "      <th>Número de clusters</th>\n",
       "    </tr>\n",
       "  </thead>\n",
       "  <tbody>\n",
       "    <tr>\n",
       "      <th>0</th>\n",
       "      <td>0.307584</td>\n",
       "      <td>2</td>\n",
       "    </tr>\n",
       "    <tr>\n",
       "      <th>1</th>\n",
       "      <td>0.259663</td>\n",
       "      <td>3</td>\n",
       "    </tr>\n",
       "    <tr>\n",
       "      <th>2</th>\n",
       "      <td>0.168874</td>\n",
       "      <td>4</td>\n",
       "    </tr>\n",
       "  </tbody>\n",
       "</table>\n",
       "</div>"
      ],
      "text/plain": [
       "    Silueta  Número de clusters\n",
       "0  0.307584                   2\n",
       "1  0.259663                   3\n",
       "2  0.168874                   4"
      ]
     },
     "execution_count": 54,
     "metadata": {},
     "output_type": "execute_result"
    }
   ],
   "source": [
    "pd.DataFrame({\"Silueta\":silueta,\n",
    "              \"Número de clusters\":k})"
   ]
  },
  {
   "cell_type": "markdown",
   "metadata": {},
   "source": [
    "**Nota**: el número óptimo de clústers es 2 (mayor valor en el coef. Silueta)"
   ]
  },
  {
   "cell_type": "markdown",
   "metadata": {},
   "source": [
    "**Caso:distrito**"
   ]
  },
  {
   "cell_type": "code",
   "execution_count": 55,
   "metadata": {},
   "outputs": [],
   "source": [
    "import pyreadstat\n",
    "pathsav=\"D:/Python/2. Nivel II/4/datos/distritos.sav\"\n",
    "data, meta=pyreadstat.read_sav(pathsav)"
   ]
  },
  {
   "cell_type": "code",
   "execution_count": 56,
   "metadata": {},
   "outputs": [
    {
     "data": {
      "text/html": [
       "<div>\n",
       "<style scoped>\n",
       "    .dataframe tbody tr th:only-of-type {\n",
       "        vertical-align: middle;\n",
       "    }\n",
       "\n",
       "    .dataframe tbody tr th {\n",
       "        vertical-align: top;\n",
       "    }\n",
       "\n",
       "    .dataframe thead th {\n",
       "        text-align: right;\n",
       "    }\n",
       "</style>\n",
       "<table border=\"1\" class=\"dataframe\">\n",
       "  <thead>\n",
       "    <tr style=\"text-align: right;\">\n",
       "      <th></th>\n",
       "      <th>distrito</th>\n",
       "      <th>ocu_vivi</th>\n",
       "      <th>pobpjov</th>\n",
       "      <th>sinelect</th>\n",
       "      <th>sinagua</th>\n",
       "      <th>pea1619</th>\n",
       "      <th>pocprin</th>\n",
       "      <th>peam15</th>\n",
       "    </tr>\n",
       "  </thead>\n",
       "  <tbody>\n",
       "    <tr>\n",
       "      <th>0</th>\n",
       "      <td>Ate</td>\n",
       "      <td>1.15</td>\n",
       "      <td>5.3</td>\n",
       "      <td>27.60</td>\n",
       "      <td>51.10</td>\n",
       "      <td>3.9</td>\n",
       "      <td>1.1</td>\n",
       "      <td>63.48</td>\n",
       "    </tr>\n",
       "    <tr>\n",
       "      <th>1</th>\n",
       "      <td>Barranco</td>\n",
       "      <td>1.09</td>\n",
       "      <td>4.5</td>\n",
       "      <td>1.59</td>\n",
       "      <td>8.32</td>\n",
       "      <td>0.8</td>\n",
       "      <td>3.9</td>\n",
       "      <td>33.48</td>\n",
       "    </tr>\n",
       "    <tr>\n",
       "      <th>2</th>\n",
       "      <td>Breña</td>\n",
       "      <td>1.08</td>\n",
       "      <td>4.4</td>\n",
       "      <td>2.20</td>\n",
       "      <td>23.15</td>\n",
       "      <td>0.9</td>\n",
       "      <td>4.0</td>\n",
       "      <td>37.89</td>\n",
       "    </tr>\n",
       "    <tr>\n",
       "      <th>3</th>\n",
       "      <td>Carabayllo</td>\n",
       "      <td>1.10</td>\n",
       "      <td>5.1</td>\n",
       "      <td>30.13</td>\n",
       "      <td>38.09</td>\n",
       "      <td>4.5</td>\n",
       "      <td>12.6</td>\n",
       "      <td>63.65</td>\n",
       "    </tr>\n",
       "    <tr>\n",
       "      <th>4</th>\n",
       "      <td>Comas</td>\n",
       "      <td>1.20</td>\n",
       "      <td>5.9</td>\n",
       "      <td>10.92</td>\n",
       "      <td>24.27</td>\n",
       "      <td>3.8</td>\n",
       "      <td>9.4</td>\n",
       "      <td>60.37</td>\n",
       "    </tr>\n",
       "  </tbody>\n",
       "</table>\n",
       "</div>"
      ],
      "text/plain": [
       "     distrito  ocu_vivi  pobpjov  sinelect  sinagua  pea1619  pocprin  peam15\n",
       "0         Ate      1.15      5.3     27.60    51.10      3.9      1.1   63.48\n",
       "1    Barranco      1.09      4.5      1.59     8.32      0.8      3.9   33.48\n",
       "2       Breña      1.08      4.4      2.20    23.15      0.9      4.0   37.89\n",
       "3  Carabayllo      1.10      5.1     30.13    38.09      4.5     12.6   63.65\n",
       "4       Comas      1.20      5.9     10.92    24.27      3.8      9.4   60.37"
      ]
     },
     "execution_count": 56,
     "metadata": {},
     "output_type": "execute_result"
    }
   ],
   "source": [
    "data.head()"
   ]
  },
  {
   "cell_type": "code",
   "execution_count": 57,
   "metadata": {},
   "outputs": [],
   "source": [
    "X=data.iloc[:,1:].values"
   ]
  },
  {
   "cell_type": "markdown",
   "metadata": {},
   "source": [
    "**Escalamiento**"
   ]
  },
  {
   "cell_type": "code",
   "execution_count": 58,
   "metadata": {},
   "outputs": [],
   "source": [
    "from sklearn.preprocessing import MinMaxScaler"
   ]
  },
  {
   "cell_type": "code",
   "execution_count": 59,
   "metadata": {},
   "outputs": [],
   "source": [
    "minmax=MinMaxScaler()"
   ]
  },
  {
   "cell_type": "code",
   "execution_count": 60,
   "metadata": {},
   "outputs": [],
   "source": [
    "X_scl=minmax.fit_transform(X)"
   ]
  },
  {
   "cell_type": "markdown",
   "metadata": {},
   "source": [
    "**Análisis clúster**"
   ]
  },
  {
   "cell_type": "code",
   "execution_count": 61,
   "metadata": {},
   "outputs": [],
   "source": [
    "import scipy.cluster.hierarchy as sch"
   ]
  },
  {
   "cell_type": "code",
   "execution_count": 62,
   "metadata": {},
   "outputs": [
    {
     "name": "stdout",
     "output_type": "stream",
     "text": [
      "['Ate', 'Barranco', 'Breña', 'Carabayllo', 'Comas', 'Chorrillos', 'Agustino', 'Independencia', 'Jesús María', 'La Victoria', 'Lima', 'Lince', 'Los Olivos', 'Lurigancho-Chosica', 'Magdalena del Mar', 'Pueblo Libre', 'Miraflores', 'Rímac', 'San Borja', 'San Isidro', 'San Juan de Lurigancho', 'San Juan de Miraflores', 'San Luis', 'San Martin de Porres', 'San Miguel', 'Santa Anita', 'Surco', 'Surquillo', 'Villa el Salvador', 'Villa María del Triunfo', 'Callao', 'Carmen de la Legua', 'La Perla', 'La Punta']\n"
     ]
    }
   ],
   "source": [
    "distritos = list(data[\"distrito\"].values);print(distritos)"
   ]
  },
  {
   "cell_type": "code",
   "execution_count": 80,
   "metadata": {},
   "outputs": [],
   "source": [
    "cluster = linkage(pdist(X_scl,\n",
    "                        metric=\"euclidean\"),\n",
    "                 method=\"complete\")"
   ]
  },
  {
   "cell_type": "code",
   "execution_count": 81,
   "metadata": {},
   "outputs": [],
   "source": [
    "import matplotlib.pyplot as plt"
   ]
  },
  {
   "cell_type": "code",
   "execution_count": 82,
   "metadata": {},
   "outputs": [
    {
     "data": {
      "image/png": "[encoded data removed]",
      "text/plain": [
       "<Figure size 2500x600 with 1 Axes>"
      ]
     },
     "metadata": {},
     "output_type": "display_data"
    }
   ],
   "source": [
    "fig, axes= plt.subplots(1,figsize=(25,6))\n",
    "dendrograma_distritos= dendrogram(cluster,\n",
    "                                  labels=distritos)\n",
    "plt.show()"
   ]
  },
  {
   "cell_type": "code",
   "execution_count": 83,
   "metadata": {},
   "outputs": [],
   "source": [
    "silueta=[]\n",
    "\n",
    "for i in range(2,11):\n",
    "    agnes = AgglomerativeClustering(n_clusters=i,\n",
    "                               affinity=\"euclidean\",\n",
    "                               linkage=\"complete\")\n",
    "    silueta.append(silhouette_score(X_scl,\n",
    "                                    agnes.fit_predict(X_scl)))"
   ]
  },
  {
   "cell_type": "code",
   "execution_count": 84,
   "metadata": {},
   "outputs": [],
   "source": [
    "k=[2,3,4,5,6,7,8,9,10]"
   ]
  },
  {
   "cell_type": "markdown",
   "metadata": {},
   "source": [
    "**Coef. Silueta / linkage=Ward**"
   ]
  },
  {
   "cell_type": "code",
   "execution_count": 70,
   "metadata": {},
   "outputs": [
    {
     "data": {
      "text/html": [
       "<div>\n",
       "<style scoped>\n",
       "    .dataframe tbody tr th:only-of-type {\n",
       "        vertical-align: middle;\n",
       "    }\n",
       "\n",
       "    .dataframe tbody tr th {\n",
       "        vertical-align: top;\n",
       "    }\n",
       "\n",
       "    .dataframe thead th {\n",
       "        text-align: right;\n",
       "    }\n",
       "</style>\n",
       "<table border=\"1\" class=\"dataframe\">\n",
       "  <thead>\n",
       "    <tr style=\"text-align: right;\">\n",
       "      <th></th>\n",
       "      <th>Silueta</th>\n",
       "      <th>Número de clusters</th>\n",
       "    </tr>\n",
       "  </thead>\n",
       "  <tbody>\n",
       "    <tr>\n",
       "      <th>0</th>\n",
       "      <td>0.486332</td>\n",
       "      <td>2</td>\n",
       "    </tr>\n",
       "  </tbody>\n",
       "</table>\n",
       "</div>"
      ],
      "text/plain": [
       "    Silueta  Número de clusters\n",
       "0  0.486332                   2"
      ]
     },
     "execution_count": 70,
     "metadata": {},
     "output_type": "execute_result"
    }
   ],
   "source": [
    "coef_ward=pd.DataFrame({\"Silueta\":silueta, \"Número de clusters\":k})\n",
    "coef_ward[coef_ward.Silueta==coef_ward.Silueta.max()]"
   ]
  },
  {
   "cell_type": "markdown",
   "metadata": {},
   "source": [
    "**Coef. Silueta / linkage=Simple**"
   ]
  },
  {
   "cell_type": "code",
   "execution_count": 73,
   "metadata": {},
   "outputs": [
    {
     "data": {
      "text/html": [
       "<div>\n",
       "<style scoped>\n",
       "    .dataframe tbody tr th:only-of-type {\n",
       "        vertical-align: middle;\n",
       "    }\n",
       "\n",
       "    .dataframe tbody tr th {\n",
       "        vertical-align: top;\n",
       "    }\n",
       "\n",
       "    .dataframe thead th {\n",
       "        text-align: right;\n",
       "    }\n",
       "</style>\n",
       "<table border=\"1\" class=\"dataframe\">\n",
       "  <thead>\n",
       "    <tr style=\"text-align: right;\">\n",
       "      <th></th>\n",
       "      <th>Silueta</th>\n",
       "      <th>Número de clusters</th>\n",
       "    </tr>\n",
       "  </thead>\n",
       "  <tbody>\n",
       "    <tr>\n",
       "      <th>5</th>\n",
       "      <td>0.318628</td>\n",
       "      <td>7</td>\n",
       "    </tr>\n",
       "  </tbody>\n",
       "</table>\n",
       "</div>"
      ],
      "text/plain": [
       "    Silueta  Número de clusters\n",
       "5  0.318628                   7"
      ]
     },
     "execution_count": 73,
     "metadata": {},
     "output_type": "execute_result"
    }
   ],
   "source": [
    "coef_simple=pd.DataFrame({\"Silueta\":silueta, \"Número de clusters\":k})\n",
    "coef_simple[coef_simple.Silueta==coef_simple.Silueta.max()]"
   ]
  },
  {
   "cell_type": "markdown",
   "metadata": {},
   "source": [
    "**Coef. Silueta / linkage=Completo**"
   ]
  },
  {
   "cell_type": "code",
   "execution_count": 85,
   "metadata": {},
   "outputs": [
    {
     "data": {
      "text/html": [
       "<div>\n",
       "<style scoped>\n",
       "    .dataframe tbody tr th:only-of-type {\n",
       "        vertical-align: middle;\n",
       "    }\n",
       "\n",
       "    .dataframe tbody tr th {\n",
       "        vertical-align: top;\n",
       "    }\n",
       "\n",
       "    .dataframe thead th {\n",
       "        text-align: right;\n",
       "    }\n",
       "</style>\n",
       "<table border=\"1\" class=\"dataframe\">\n",
       "  <thead>\n",
       "    <tr style=\"text-align: right;\">\n",
       "      <th></th>\n",
       "      <th>Silueta</th>\n",
       "      <th>Número de clusters</th>\n",
       "    </tr>\n",
       "  </thead>\n",
       "  <tbody>\n",
       "    <tr>\n",
       "      <th>0</th>\n",
       "      <td>0.491727</td>\n",
       "      <td>2</td>\n",
       "    </tr>\n",
       "  </tbody>\n",
       "</table>\n",
       "</div>"
      ],
      "text/plain": [
       "    Silueta  Número de clusters\n",
       "0  0.491727                   2"
      ]
     },
     "execution_count": 85,
     "metadata": {},
     "output_type": "execute_result"
    }
   ],
   "source": [
    "coef_completo=pd.DataFrame({\"Silueta\":silueta, \"Número de clusters\":k})\n",
    "coef_completo[coef_completo.Silueta==coef_completo.Silueta.max()]"
   ]
  },
  {
   "cell_type": "markdown",
   "metadata": {},
   "source": [
    "**Modelo**"
   ]
  },
  {
   "cell_type": "code",
   "execution_count": 86,
   "metadata": {},
   "outputs": [],
   "source": [
    "agnes = AgglomerativeClustering(n_clusters=2,\n",
    "                               affinity=\"euclidean\",\n",
    "                               linkage=\"complete\")"
   ]
  },
  {
   "cell_type": "code",
   "execution_count": 87,
   "metadata": {},
   "outputs": [],
   "source": [
    "data[\"Cluster_AGNES\"]=agnes.fit_predict(X_scl)+1"
   ]
  },
  {
   "cell_type": "code",
   "execution_count": 88,
   "metadata": {},
   "outputs": [
    {
     "data": {
      "text/html": [
       "<div>\n",
       "<style scoped>\n",
       "    .dataframe tbody tr th:only-of-type {\n",
       "        vertical-align: middle;\n",
       "    }\n",
       "\n",
       "    .dataframe tbody tr th {\n",
       "        vertical-align: top;\n",
       "    }\n",
       "\n",
       "    .dataframe thead th {\n",
       "        text-align: right;\n",
       "    }\n",
       "</style>\n",
       "<table border=\"1\" class=\"dataframe\">\n",
       "  <thead>\n",
       "    <tr style=\"text-align: right;\">\n",
       "      <th></th>\n",
       "      <th>distrito</th>\n",
       "      <th>ocu_vivi</th>\n",
       "      <th>pobpjov</th>\n",
       "      <th>sinelect</th>\n",
       "      <th>sinagua</th>\n",
       "      <th>pea1619</th>\n",
       "      <th>pocprin</th>\n",
       "      <th>peam15</th>\n",
       "      <th>Cluster_AGNES</th>\n",
       "    </tr>\n",
       "  </thead>\n",
       "  <tbody>\n",
       "    <tr>\n",
       "      <th>0</th>\n",
       "      <td>Ate</td>\n",
       "      <td>1.15</td>\n",
       "      <td>5.3</td>\n",
       "      <td>27.60</td>\n",
       "      <td>51.10</td>\n",
       "      <td>3.9</td>\n",
       "      <td>1.1</td>\n",
       "      <td>63.48</td>\n",
       "      <td>1</td>\n",
       "    </tr>\n",
       "    <tr>\n",
       "      <th>1</th>\n",
       "      <td>Barranco</td>\n",
       "      <td>1.09</td>\n",
       "      <td>4.5</td>\n",
       "      <td>1.59</td>\n",
       "      <td>8.32</td>\n",
       "      <td>0.8</td>\n",
       "      <td>3.9</td>\n",
       "      <td>33.48</td>\n",
       "      <td>2</td>\n",
       "    </tr>\n",
       "    <tr>\n",
       "      <th>2</th>\n",
       "      <td>Breña</td>\n",
       "      <td>1.08</td>\n",
       "      <td>4.4</td>\n",
       "      <td>2.20</td>\n",
       "      <td>23.15</td>\n",
       "      <td>0.9</td>\n",
       "      <td>4.0</td>\n",
       "      <td>37.89</td>\n",
       "      <td>2</td>\n",
       "    </tr>\n",
       "    <tr>\n",
       "      <th>3</th>\n",
       "      <td>Carabayllo</td>\n",
       "      <td>1.10</td>\n",
       "      <td>5.1</td>\n",
       "      <td>30.13</td>\n",
       "      <td>38.09</td>\n",
       "      <td>4.5</td>\n",
       "      <td>12.6</td>\n",
       "      <td>63.65</td>\n",
       "      <td>1</td>\n",
       "    </tr>\n",
       "    <tr>\n",
       "      <th>4</th>\n",
       "      <td>Comas</td>\n",
       "      <td>1.20</td>\n",
       "      <td>5.9</td>\n",
       "      <td>10.92</td>\n",
       "      <td>24.27</td>\n",
       "      <td>3.8</td>\n",
       "      <td>9.4</td>\n",
       "      <td>60.37</td>\n",
       "      <td>1</td>\n",
       "    </tr>\n",
       "  </tbody>\n",
       "</table>\n",
       "</div>"
      ],
      "text/plain": [
       "     distrito  ocu_vivi  pobpjov  sinelect  sinagua  pea1619  pocprin  peam15  \\\n",
       "0         Ate      1.15      5.3     27.60    51.10      3.9      1.1   63.48   \n",
       "1    Barranco      1.09      4.5      1.59     8.32      0.8      3.9   33.48   \n",
       "2       Breña      1.08      4.4      2.20    23.15      0.9      4.0   37.89   \n",
       "3  Carabayllo      1.10      5.1     30.13    38.09      4.5     12.6   63.65   \n",
       "4       Comas      1.20      5.9     10.92    24.27      3.8      9.4   60.37   \n",
       "\n",
       "   Cluster_AGNES  \n",
       "0              1  \n",
       "1              2  \n",
       "2              2  \n",
       "3              1  \n",
       "4              1  "
      ]
     },
     "execution_count": 88,
     "metadata": {},
     "output_type": "execute_result"
    }
   ],
   "source": [
    "data.head()"
   ]
  },
  {
   "cell_type": "markdown",
   "metadata": {},
   "source": [
    "**Perfilamiento**"
   ]
  },
  {
   "cell_type": "code",
   "execution_count": 89,
   "metadata": {},
   "outputs": [
    {
     "data": {
      "text/html": [
       "<div>\n",
       "<style scoped>\n",
       "    .dataframe tbody tr th:only-of-type {\n",
       "        vertical-align: middle;\n",
       "    }\n",
       "\n",
       "    .dataframe tbody tr th {\n",
       "        vertical-align: top;\n",
       "    }\n",
       "\n",
       "    .dataframe thead th {\n",
       "        text-align: right;\n",
       "    }\n",
       "</style>\n",
       "<table border=\"1\" class=\"dataframe\">\n",
       "  <thead>\n",
       "    <tr style=\"text-align: right;\">\n",
       "      <th></th>\n",
       "      <th>ocu_vivi</th>\n",
       "      <th>pobpjov</th>\n",
       "      <th>sinelect</th>\n",
       "      <th>sinagua</th>\n",
       "      <th>pea1619</th>\n",
       "      <th>pocprin</th>\n",
       "      <th>peam15</th>\n",
       "    </tr>\n",
       "    <tr>\n",
       "      <th>Cluster_AGNES</th>\n",
       "      <th></th>\n",
       "      <th></th>\n",
       "      <th></th>\n",
       "      <th></th>\n",
       "      <th></th>\n",
       "      <th></th>\n",
       "      <th></th>\n",
       "    </tr>\n",
       "  </thead>\n",
       "  <tbody>\n",
       "    <tr>\n",
       "      <th>1</th>\n",
       "      <td>1.2</td>\n",
       "      <td>5.5</td>\n",
       "      <td>18.9</td>\n",
       "      <td>37.0</td>\n",
       "      <td>3.8</td>\n",
       "      <td>9.8</td>\n",
       "      <td>56.8</td>\n",
       "    </tr>\n",
       "    <tr>\n",
       "      <th>2</th>\n",
       "      <td>1.1</td>\n",
       "      <td>4.6</td>\n",
       "      <td>2.4</td>\n",
       "      <td>15.8</td>\n",
       "      <td>0.9</td>\n",
       "      <td>5.1</td>\n",
       "      <td>32.2</td>\n",
       "    </tr>\n",
       "  </tbody>\n",
       "</table>\n",
       "</div>"
      ],
      "text/plain": [
       "               ocu_vivi  pobpjov  sinelect  sinagua  pea1619  pocprin  peam15\n",
       "Cluster_AGNES                                                                \n",
       "1                   1.2      5.5      18.9     37.0      3.8      9.8    56.8\n",
       "2                   1.1      4.6       2.4     15.8      0.9      5.1    32.2"
      ]
     },
     "execution_count": 89,
     "metadata": {},
     "output_type": "execute_result"
    }
   ],
   "source": [
    "data.groupby([\"Cluster_AGNES\"]).mean().round(1)"
   ]
  },
  {
   "cell_type": "markdown",
   "metadata": {},
   "source": [
    "**Visualización usando 2 dimensiones**"
   ]
  },
  {
   "cell_type": "markdown",
   "metadata": {},
   "source": [
    "**Nota**: el PCA se utiliza como técnica de reducción para visualización de datos"
   ]
  },
  {
   "cell_type": "code",
   "execution_count": 90,
   "metadata": {},
   "outputs": [
    {
     "data": {
      "image/png": "[encoded data removed]",
      "text/plain": [
       "<Figure size 640x480 with 1 Axes>"
      ]
     },
     "metadata": {},
     "output_type": "display_data"
    }
   ],
   "source": [
    "plt.scatter(data.iloc[:,5].values,\n",
    "           data.iloc[:,6].values,\n",
    "           s=50,\n",
    "           c=data[\"Cluster_AGNES\"].values)\n",
    "plt.show()"
   ]
  }
 ],
 "metadata": {
  "kernelspec": {
   "display_name": "Python 3",
   "language": "python",
   "name": "python3"
  },
  "language_info": {
   "codemirror_mode": {
    "name": "ipython",
    "version": 3
   },
   "file_extension": ".py",
   "mimetype": "text/x-python",
   "name": "python",
   "nbconvert_exporter": "python",
   "pygments_lexer": "ipython3",
   "version": "3.8.5"
  }
 },
 "nbformat": 4,
 "nbformat_minor": 4
}
