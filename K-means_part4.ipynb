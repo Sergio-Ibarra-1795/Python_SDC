{
 "cells": [
  {
   "cell_type": "markdown",
   "metadata": {},
   "source": [
    "<center><img src=\"https://media-exp1.licdn.com/dms/image/C4E22AQEbIXZiRVkJPQ/feedshare-shrink_2048_1536/0?e=1605139200&v=beta&t=opmJLG_veDflQesF9uJvIhSXbmwPY3DGSlbZo1v-w2k\" width=\"1000\"></center>"
   ]
  },
  {
   "cell_type": "markdown",
   "metadata": {},
   "source": [
    "# SDC Certified Program in Python for Data Science\n",
    "\n",
    "## Tema 1. Métodos de particionamiento: caso práctico segmentación de Expresión de Proteínas en h2o\n",
    "\n",
    "### Prof. Manuel Sigüeñas, M.Sc.(c) \n",
    "\n",
    "[Perfil](https://socialdata-peru.com/learning/teacher2.php)\n",
    "\n",
    "### Prof. Lenguajes de Programación para Ciencia de Datos / Agile Data Scientists / SCRUMStudy Certified Trainer\n",
    "\n",
    "\n",
    "[msiguenas@socialdata-peru.com](msiguenas@socialdata-peru.com)"
   ]
  },
  {
   "cell_type": "code",
   "execution_count": 5,
   "metadata": {},
   "outputs": [],
   "source": [
    "from IPython.display import Image\n",
    "%matplotlib inline"
   ]
  },
  {
   "cell_type": "markdown",
   "metadata": {},
   "source": [
    "\n",
    "## Instalación de H2O"
   ]
  },
  {
   "cell_type": "code",
   "execution_count": 1,
   "metadata": {},
   "outputs": [],
   "source": [
    "#pip install requests\n",
    "#pip install tabulate\n",
    "#pip install \"colorama>=0.3.8\"\n",
    "#pip install future "
   ]
  },
  {
   "cell_type": "code",
   "execution_count": null,
   "metadata": {},
   "outputs": [],
   "source": [
    "#!pip install -U h2o"
   ]
  },
  {
   "cell_type": "code",
   "execution_count": null,
   "metadata": {},
   "outputs": [],
   "source": [
    "#pip install http://h2o-release.s3.amazonaws.com/h2o/rel-yu/4/Python/h2o-3.28.0.4-py2.py3-none-any.whl"
   ]
  },
  {
   "cell_type": "code",
   "execution_count": 6,
   "metadata": {},
   "outputs": [
    {
     "data": {
      "image/png": "[encoded data removed]",
      "text/plain": [
       "<IPython.core.display.Image object>"
      ]
     },
     "execution_count": 6,
     "metadata": {
      "image/png": {
       "width": 600
      }
     },
     "output_type": "execute_result"
    }
   ],
   "source": [
    "Image(filename='D:/Python/webinar/01_07.png', width=600) "
   ]
  },
  {
   "cell_type": "code",
   "execution_count": 7,
   "metadata": {},
   "outputs": [
    {
     "data": {
      "image/png": "[encoded data removed]",
      "text/plain": [
       "<IPython.core.display.Image object>"
      ]
     },
     "execution_count": 7,
     "metadata": {
      "image/png": {
       "width": 600
      }
     },
     "output_type": "execute_result"
    }
   ],
   "source": [
    "Image(filename='D:/Python/webinar/01_10.png', width=600) "
   ]
  },
  {
   "cell_type": "code",
   "execution_count": 2,
   "metadata": {},
   "outputs": [],
   "source": [
    "import h2o"
   ]
  },
  {
   "cell_type": "code",
   "execution_count": 3,
   "metadata": {
    "scrolled": true
   },
   "outputs": [
    {
     "name": "stdout",
     "output_type": "stream",
     "text": [
      "Checking whether there is an H2O instance running at http://localhost:54321 ..... not found.\n",
      "Attempting to start a local H2O server...\n",
      "; Java HotSpot(TM) 64-Bit Server VM (build 25.231-b11, mixed mode)\n",
      "  Starting server from C:\\ProgramData\\Anaconda3\\lib\\site-packages\\h2o\\backend\\bin\\h2o.jar\n",
      "  Ice root: C:\\Users\\SOCIAL~1\\AppData\\Local\\Temp\\tmpce8wvf44\n",
      "  JVM stdout: C:\\Users\\SOCIAL~1\\AppData\\Local\\Temp\\tmpce8wvf44\\h2o_SOCIAL_DATA_started_from_python.out\n",
      "  JVM stderr: C:\\Users\\SOCIAL~1\\AppData\\Local\\Temp\\tmpce8wvf44\\h2o_SOCIAL_DATA_started_from_python.err\n",
      "  Server is running at http://127.0.0.1:54321\n",
      "Connecting to H2O server at http://127.0.0.1:54321 ... successful.\n",
      "Warning: Your H2O cluster version is too old (5 months and 2 days)! Please download and install the latest version from http://h2o.ai/download/\n"
     ]
    },
    {
     "data": {
      "text/html": [
       "<div style=\"overflow:auto\"><table style=\"width:50%\"><tr><td>H2O_cluster_uptime:</td>\n",
       "<td>03 secs</td></tr>\n",
       "<tr><td>H2O_cluster_timezone:</td>\n",
       "<td>America/Bogota</td></tr>\n",
       "<tr><td>H2O_data_parsing_timezone:</td>\n",
       "<td>UTC</td></tr>\n",
       "<tr><td>H2O_cluster_version:</td>\n",
       "<td>3.30.0.1</td></tr>\n",
       "<tr><td>H2O_cluster_version_age:</td>\n",
       "<td>5 months and 2 days !!!</td></tr>\n",
       "<tr><td>H2O_cluster_name:</td>\n",
       "<td>H2O_from_python_SOCIAL_DATA_8789ng</td></tr>\n",
       "<tr><td>H2O_cluster_total_nodes:</td>\n",
       "<td>1</td></tr>\n",
       "<tr><td>H2O_cluster_free_memory:</td>\n",
       "<td>3.556 Gb</td></tr>\n",
       "<tr><td>H2O_cluster_total_cores:</td>\n",
       "<td>12</td></tr>\n",
       "<tr><td>H2O_cluster_allowed_cores:</td>\n",
       "<td>12</td></tr>\n",
       "<tr><td>H2O_cluster_status:</td>\n",
       "<td>accepting new members, healthy</td></tr>\n",
       "<tr><td>H2O_connection_url:</td>\n",
       "<td>http://127.0.0.1:54321</td></tr>\n",
       "<tr><td>H2O_connection_proxy:</td>\n",
       "<td>{\"http\": null, \"https\": null}</td></tr>\n",
       "<tr><td>H2O_internal_security:</td>\n",
       "<td>False</td></tr>\n",
       "<tr><td>H2O_API_Extensions:</td>\n",
       "<td>Amazon S3, Algos, AutoML, Core V3, TargetEncoder, Core V4</td></tr>\n",
       "<tr><td>Python_version:</td>\n",
       "<td>3.7.6 final</td></tr></table></div>"
      ],
      "text/plain": [
       "--------------------------  ---------------------------------------------------------\n",
       "H2O_cluster_uptime:         03 secs\n",
       "H2O_cluster_timezone:       America/Bogota\n",
       "H2O_data_parsing_timezone:  UTC\n",
       "H2O_cluster_version:        3.30.0.1\n",
       "H2O_cluster_version_age:    5 months and 2 days !!!\n",
       "H2O_cluster_name:           H2O_from_python_SOCIAL_DATA_8789ng\n",
       "H2O_cluster_total_nodes:    1\n",
       "H2O_cluster_free_memory:    3.556 Gb\n",
       "H2O_cluster_total_cores:    12\n",
       "H2O_cluster_allowed_cores:  12\n",
       "H2O_cluster_status:         accepting new members, healthy\n",
       "H2O_connection_url:         http://127.0.0.1:54321\n",
       "H2O_connection_proxy:       {\"http\": null, \"https\": null}\n",
       "H2O_internal_security:      False\n",
       "H2O_API_Extensions:         Amazon S3, Algos, AutoML, Core V3, TargetEncoder, Core V4\n",
       "Python_version:             3.7.6 final\n",
       "--------------------------  ---------------------------------------------------------"
      ]
     },
     "metadata": {},
     "output_type": "display_data"
    }
   ],
   "source": [
    "h2o.init (nthreads = -1, #nthreads = -1: se utilizaran todos los nodos de procesamiento\n",
    "          max_mem_size = \"4g\") #4g: se asigna el 25% de memoria ram"
   ]
  },
  {
   "cell_type": "markdown",
   "metadata": {},
   "source": [
    "Cuando se inicializa h2o, se generará un mensaje que hace referencia a la conexión exitosa de la librería al cluster que realizará los cálculos. El parámetro nthreads = -1 se refiere a que se harán uso de todos los CPU disponibles del equipo para realizarlos."
   ]
  },
  {
   "cell_type": "markdown",
   "metadata": {},
   "source": [
    "La versión de H2O en el repositorio podría estar hasta un mes o dos detrás de la última y mejor. A menos que se vea afectado por un error que sabe que se ha solucionado, no se preocupe. $h2o.init ()$ solo usará dos núcleos en su máquina y quizás una cuarta parte de la memoria de su sistema, 6 por defecto. Use $h2o.shutdown()$ para ver lo que hace. Luego, para comenzar de nuevo, pero usando todos los núcleos: $h2o.init (nthreads = -1)$. Y para darle, digamos, 4GB y todos sus núcleos: $h2o.init (nthreads = -1, max_mem_size = \"4g\")$."
   ]
  },
  {
   "cell_type": "markdown",
   "metadata": {},
   "source": [
    "#### Consideraciones:"
   ]
  },
  {
   "cell_type": "markdown",
   "metadata": {},
   "source": [
    "1. Algunos sistemas requieren contar con Java para 64 bits. En la carpeta correspondiente a la sesión podemos encontrar el ejecutable: jdk-8u231-windows-x64.exe\n",
    "2. Debemos tener una versión actualizada del clúster H2O. Nosotros trabajaremos con la versión 3.26.0.2 que se instalará desde el terminal de Windows con la siguiente sentencia: h2o.jar "
   ]
  },
  {
   "cell_type": "markdown",
   "metadata": {},
   "source": [
    "## K-means en h2o"
   ]
  },
  {
   "cell_type": "code",
   "execution_count": 22,
   "metadata": {},
   "outputs": [],
   "source": [
    "from h2o.estimators.kmeans import H2OKMeansEstimator"
   ]
  },
  {
   "cell_type": "markdown",
   "metadata": {},
   "source": [
    "Información del conjunto de datos:"
   ]
  },
  {
   "cell_type": "markdown",
   "metadata": {},
   "source": [
    "El conjunto de datos consiste en los niveles de expresión de 77 proteínas / modificaciones de proteínas que produjeron señales detectables en la fracción nuclear de la corteza. Hay 38 ratones de control y 34 ratones trisómicos (síndrome de Down), para un total de 72 ratones. \n",
    "\n",
    "En los experimentos, se registraron 15 mediciones de cada proteína por muestra / ratón. Por lo tanto, para los ratones de control, hay 38x15, o 570 mediciones, y para los ratones trisómicos, hay 34x15, o 510 mediciones.\n",
    "\n",
    "El conjunto de datos contiene un total de 1080 mediciones por proteína. Cada medida puede considerarse como una muestra / ratón independiente.\n",
    "Las ocho clases de ratones se describen en función de características como el genotipo, el comportamiento y el tratamiento. Según el genotipo, los ratones pueden ser de control o trisómicos. Según el comportamiento, algunos ratones han sido estimulados para aprender (shock de contexto) y otros no (contexto de shock) y para evaluar el efecto del medicamento memantina en la recuperación de la capacidad de aprender en ratones trisómicos, algunos ratones han sido inyectado con la droga y otros no.\n",
    "Clases: \n",
    "c-CS-s: ratones de control, estimulados para aprender, inyectados con solución salina (9 ratones) \n",
    "c-CS-m: ratones de control, estimulados para aprender, inyectados con memantina (10 ratones) \n",
    "c-SC-s: ratones de control , no estimulado para aprender, inyectado con solución salina (9 ratones) \n",
    "c-SC-m: ratones de control, no estimulado para aprender, inyectado con memantina (10 ratones)\n",
    "t-CS-s: ratones con trisomía, estimulados para aprender, inyectados con solución salina (7 ratones) \n",
    "t-CS-m: ratones con trisomía, estimulados para aprender, inyectados con memantina (9 ratones) \n",
    "t-SC-s: ratones con trisomía, no estimulados para aprender, inyectados con solución salina (9 ratones) \n",
    "t-SC-m: ratones con trisomía, no estimulados para aprender, inyectados con memantina (9 ratones)\n",
    "\n",
    "**Objetivo:** identificar subconjuntos de proteínas que son discriminantes entre las clases."
   ]
  },
  {
   "cell_type": "markdown",
   "metadata": {},
   "source": [
    "**Fuente:** Clara Higuera, Departamento de Ingeniería de Software e Inteligencia Artificial, Facultad de Informática y Departamento de Bioquímica y Biología Molecular, Facultad de Química, Universidad Complutense, Madrid, España. Correo electrónico:\n",
    "clarahiguera '@' ucm.es\n",
    "Katheleen J. Gardiner, creadora y propietaria de los datos de expresión de proteínas, se encuentra actualmente en el Instituto Linda Crnic para el Síndrome de Down, Departamento de Pediatría, Departamento de Bioquímica y Genética Molecular, Genética y Genómica Médica Humana, y Programas de Neurociencia, Universidad de Colorado, Facultad de Medicina, Aurora, Colorado, EE. UU.\n",
    "katheleen.gardiner '@' ucdenver.edu\n",
    "Krzysztof J. Cios está actualmente en el Departamento de Ciencias de la Computación, Virginia Commonwealth University, Richmond, Virginia, EE. UU., Y la Academia de Ciencias Polaca IITiS, Polonia. Email:\n",
    "kcios '@' vcu.edu"
   ]
  },
  {
   "cell_type": "code",
   "execution_count": 4,
   "metadata": {},
   "outputs": [
    {
     "name": "stdout",
     "output_type": "stream",
     "text": [
      "<class 'pandas.core.frame.DataFrame'>\n",
      "RangeIndex: 1080 entries, 0 to 1079\n",
      "Data columns (total 82 columns):\n",
      " #   Column           Non-Null Count  Dtype  \n",
      "---  ------           --------------  -----  \n",
      " 0   MouseID          1080 non-null   object \n",
      " 1   DYRK1A_N         1077 non-null   float64\n",
      " 2   ITSN1_N          1077 non-null   float64\n",
      " 3   BDNF_N           1077 non-null   float64\n",
      " 4   NR1_N            1077 non-null   float64\n",
      " 5   NR2A_N           1077 non-null   float64\n",
      " 6   pAKT_N           1077 non-null   float64\n",
      " 7   pBRAF_N          1077 non-null   float64\n",
      " 8   pCAMKII_N        1077 non-null   float64\n",
      " 9   pCREB_N          1077 non-null   float64\n",
      " 10  pELK_N           1077 non-null   float64\n",
      " 11  pERK_N           1077 non-null   float64\n",
      " 12  pJNK_N           1077 non-null   float64\n",
      " 13  PKCA_N           1077 non-null   float64\n",
      " 14  pMEK_N           1077 non-null   float64\n",
      " 15  pNR1_N           1077 non-null   float64\n",
      " 16  pNR2A_N          1077 non-null   float64\n",
      " 17  pNR2B_N          1077 non-null   float64\n",
      " 18  pPKCAB_N         1077 non-null   float64\n",
      " 19  pRSK_N           1077 non-null   float64\n",
      " 20  AKT_N            1077 non-null   float64\n",
      " 21  BRAF_N           1077 non-null   float64\n",
      " 22  CAMKII_N         1077 non-null   float64\n",
      " 23  CREB_N           1077 non-null   float64\n",
      " 24  ELK_N            1062 non-null   float64\n",
      " 25  ERK_N            1077 non-null   float64\n",
      " 26  GSK3B_N          1077 non-null   float64\n",
      " 27  JNK_N            1077 non-null   float64\n",
      " 28  MEK_N            1073 non-null   float64\n",
      " 29  TRKA_N           1077 non-null   float64\n",
      " 30  RSK_N            1077 non-null   float64\n",
      " 31  APP_N            1077 non-null   float64\n",
      " 32  Bcatenin_N       1062 non-null   float64\n",
      " 33  SOD1_N           1077 non-null   float64\n",
      " 34  MTOR_N           1077 non-null   float64\n",
      " 35  P38_N            1077 non-null   float64\n",
      " 36  pMTOR_N          1077 non-null   float64\n",
      " 37  DSCR1_N          1077 non-null   float64\n",
      " 38  AMPKA_N          1077 non-null   float64\n",
      " 39  NR2B_N           1077 non-null   float64\n",
      " 40  pNUMB_N          1077 non-null   float64\n",
      " 41  RAPTOR_N         1077 non-null   float64\n",
      " 42  TIAM1_N          1077 non-null   float64\n",
      " 43  pP70S6_N         1077 non-null   float64\n",
      " 44  NUMB_N           1080 non-null   float64\n",
      " 45  P70S6_N          1080 non-null   float64\n",
      " 46  pGSK3B_N         1080 non-null   float64\n",
      " 47  pPKCG_N          1080 non-null   float64\n",
      " 48  CDK5_N           1080 non-null   float64\n",
      " 49  S6_N             1080 non-null   float64\n",
      " 50  ADARB1_N         1080 non-null   float64\n",
      " 51  AcetylH3K9_N     1080 non-null   float64\n",
      " 52  RRP1_N           1080 non-null   float64\n",
      " 53  BAX_N            1080 non-null   float64\n",
      " 54  ARC_N            1080 non-null   float64\n",
      " 55  ERBB4_N          1080 non-null   float64\n",
      " 56  nNOS_N           1080 non-null   float64\n",
      " 57  Tau_N            1080 non-null   float64\n",
      " 58  GFAP_N           1080 non-null   float64\n",
      " 59  GluR3_N          1080 non-null   float64\n",
      " 60  GluR4_N          1080 non-null   float64\n",
      " 61  IL1B_N           1080 non-null   float64\n",
      " 62  P3525_N          1080 non-null   float64\n",
      " 63  pCASP9_N         1080 non-null   float64\n",
      " 64  PSD95_N          1080 non-null   float64\n",
      " 65  SNCA_N           1080 non-null   float64\n",
      " 66  Ubiquitin_N      1080 non-null   float64\n",
      " 67  pGSK3B_Tyr216_N  1080 non-null   float64\n",
      " 68  SHH_N            1080 non-null   float64\n",
      " 69  BAD_N            867 non-null    float64\n",
      " 70  BCL2_N           795 non-null    float64\n",
      " 71  pS6_N            1080 non-null   float64\n",
      " 72  pCFOS_N          1005 non-null   float64\n",
      " 73  SYP_N            1080 non-null   float64\n",
      " 74  H3AcK18_N        900 non-null    float64\n",
      " 75  EGR1_N           870 non-null    float64\n",
      " 76  H3MeK4_N         810 non-null    float64\n",
      " 77  CaNA_N           1080 non-null   float64\n",
      " 78  Genotype         1080 non-null   object \n",
      " 79  Treatment        1080 non-null   object \n",
      " 80  Behavior         1080 non-null   object \n",
      " 81  class            1080 non-null   object \n",
      "dtypes: float64(77), object(5)\n",
      "memory usage: 692.0+ KB\n"
     ]
    }
   ],
   "source": [
    "\n",
    "import pandas as pd\n",
    "df = pd.read_excel('https://query.data.world/s/jnzl2btcn27pz6sxzwde356nvzuwzf')\n",
    "df.info()"
   ]
  },
  {
   "cell_type": "code",
   "execution_count": 5,
   "metadata": {},
   "outputs": [],
   "source": [
    "df=df.drop(['MouseID'], axis=1) #eliminamos la variable identificador (MouseID) de ratón"
   ]
  },
  {
   "cell_type": "code",
   "execution_count": 6,
   "metadata": {},
   "outputs": [],
   "source": [
    "df=df.dropna() #eliminar las filas con valores faltantes"
   ]
  },
  {
   "cell_type": "code",
   "execution_count": 7,
   "metadata": {},
   "outputs": [
    {
     "data": {
      "text/plain": [
       "DYRK1A_N     0\n",
       "ITSN1_N      0\n",
       "BDNF_N       0\n",
       "NR1_N        0\n",
       "NR2A_N       0\n",
       "            ..\n",
       "CaNA_N       0\n",
       "Genotype     0\n",
       "Treatment    0\n",
       "Behavior     0\n",
       "class        0\n",
       "Length: 81, dtype: int64"
      ]
     },
     "execution_count": 7,
     "metadata": {},
     "output_type": "execute_result"
    }
   ],
   "source": [
    "df.isnull().sum()"
   ]
  },
  {
   "cell_type": "code",
   "execution_count": 8,
   "metadata": {},
   "outputs": [
    {
     "name": "stdout",
     "output_type": "stream",
     "text": [
      "Parse progress: |█████████████████████████████████████████████████████████| 100%\n"
     ]
    },
    {
     "data": {
      "text/html": [
       "<table>\n",
       "<thead>\n",
       "<tr><th style=\"text-align: right;\">  DYRK1A_N</th><th style=\"text-align: right;\">  ITSN1_N</th><th style=\"text-align: right;\">  BDNF_N</th><th style=\"text-align: right;\">  NR1_N</th><th style=\"text-align: right;\">  NR2A_N</th><th style=\"text-align: right;\">  pAKT_N</th><th style=\"text-align: right;\">  pBRAF_N</th><th style=\"text-align: right;\">  pCAMKII_N</th><th style=\"text-align: right;\">  pCREB_N</th><th style=\"text-align: right;\">  pELK_N</th><th style=\"text-align: right;\">  pERK_N</th><th style=\"text-align: right;\">  pJNK_N</th><th style=\"text-align: right;\">  PKCA_N</th><th style=\"text-align: right;\">  pMEK_N</th><th style=\"text-align: right;\">  pNR1_N</th><th style=\"text-align: right;\">  pNR2A_N</th><th style=\"text-align: right;\">  pNR2B_N</th><th style=\"text-align: right;\">  pPKCAB_N</th><th style=\"text-align: right;\">  pRSK_N</th><th style=\"text-align: right;\">   AKT_N</th><th style=\"text-align: right;\">  BRAF_N</th><th style=\"text-align: right;\">  CAMKII_N</th><th style=\"text-align: right;\">  CREB_N</th><th style=\"text-align: right;\">  ELK_N</th><th style=\"text-align: right;\">  ERK_N</th><th style=\"text-align: right;\">  GSK3B_N</th><th style=\"text-align: right;\">   JNK_N</th><th style=\"text-align: right;\">   MEK_N</th><th style=\"text-align: right;\">  TRKA_N</th><th style=\"text-align: right;\">   RSK_N</th><th style=\"text-align: right;\">   APP_N</th><th style=\"text-align: right;\">  Bcatenin_N</th><th style=\"text-align: right;\">  SOD1_N</th><th style=\"text-align: right;\">  MTOR_N</th><th style=\"text-align: right;\">   P38_N</th><th style=\"text-align: right;\">  pMTOR_N</th><th style=\"text-align: right;\">  DSCR1_N</th><th style=\"text-align: right;\">  AMPKA_N</th><th style=\"text-align: right;\">  NR2B_N</th><th style=\"text-align: right;\">  pNUMB_N</th><th style=\"text-align: right;\">  RAPTOR_N</th><th style=\"text-align: right;\">  TIAM1_N</th><th style=\"text-align: right;\">  pP70S6_N</th><th style=\"text-align: right;\">  NUMB_N</th><th style=\"text-align: right;\">  P70S6_N</th><th style=\"text-align: right;\">  pGSK3B_N</th><th style=\"text-align: right;\">  pPKCG_N</th><th style=\"text-align: right;\">  CDK5_N</th><th style=\"text-align: right;\">    S6_N</th><th style=\"text-align: right;\">  ADARB1_N</th><th style=\"text-align: right;\">  AcetylH3K9_N</th><th style=\"text-align: right;\">  RRP1_N</th><th style=\"text-align: right;\">   BAX_N</th><th style=\"text-align: right;\">   ARC_N</th><th style=\"text-align: right;\">  ERBB4_N</th><th style=\"text-align: right;\">  nNOS_N</th><th style=\"text-align: right;\">   Tau_N</th><th style=\"text-align: right;\">  GFAP_N</th><th style=\"text-align: right;\">  GluR3_N</th><th style=\"text-align: right;\">  GluR4_N</th><th style=\"text-align: right;\">  IL1B_N</th><th style=\"text-align: right;\">  P3525_N</th><th style=\"text-align: right;\">  pCASP9_N</th><th style=\"text-align: right;\">  PSD95_N</th><th style=\"text-align: right;\">  SNCA_N</th><th style=\"text-align: right;\">  Ubiquitin_N</th><th style=\"text-align: right;\">  pGSK3B_Tyr216_N</th><th style=\"text-align: right;\">   SHH_N</th><th style=\"text-align: right;\">   BAD_N</th><th style=\"text-align: right;\">  BCL2_N</th><th style=\"text-align: right;\">   pS6_N</th><th style=\"text-align: right;\">  pCFOS_N</th><th style=\"text-align: right;\">   SYP_N</th><th style=\"text-align: right;\">  H3AcK18_N</th><th style=\"text-align: right;\">  EGR1_N</th><th style=\"text-align: right;\">  H3MeK4_N</th><th style=\"text-align: right;\">  CaNA_N</th><th>Genotype  </th><th>Treatment  </th><th>Behavior  </th><th>class  </th></tr>\n",
       "</thead>\n",
       "<tbody>\n",
       "<tr><td style=\"text-align: right;\">  0.649781</td><td style=\"text-align: right;\"> 0.828696</td><td style=\"text-align: right;\">0.405862</td><td style=\"text-align: right;\">2.92143</td><td style=\"text-align: right;\"> 5.16798</td><td style=\"text-align: right;\">0.207174</td><td style=\"text-align: right;\"> 0.17664 </td><td style=\"text-align: right;\">    3.72808</td><td style=\"text-align: right;\"> 0.239283</td><td style=\"text-align: right;\"> 1.66658</td><td style=\"text-align: right;\">0.969466</td><td style=\"text-align: right;\">0.32126 </td><td style=\"text-align: right;\">0.406562</td><td style=\"text-align: right;\">0.255293</td><td style=\"text-align: right;\">1.05634 </td><td style=\"text-align: right;\"> 1.0993  </td><td style=\"text-align: right;\">  1.92528</td><td style=\"text-align: right;\">   2.23167</td><td style=\"text-align: right;\">0.426859</td><td style=\"text-align: right;\">0.873228</td><td style=\"text-align: right;\">0.512773</td><td style=\"text-align: right;\">  0.34322 </td><td style=\"text-align: right;\">0.167629</td><td style=\"text-align: right;\">1.85276</td><td style=\"text-align: right;\">3.36649</td><td style=\"text-align: right;\">  1.50367</td><td style=\"text-align: right;\">0.246019</td><td style=\"text-align: right;\">0.305424</td><td style=\"text-align: right;\">0.851006</td><td style=\"text-align: right;\">0.165179</td><td style=\"text-align: right;\">0.441557</td><td style=\"text-align: right;\">     2.57822</td><td style=\"text-align: right;\">0.340857</td><td style=\"text-align: right;\">0.487664</td><td style=\"text-align: right;\">0.40105 </td><td style=\"text-align: right;\"> 0.781365</td><td style=\"text-align: right;\"> 0.534033</td><td style=\"text-align: right;\"> 0.431846</td><td style=\"text-align: right;\">0.618023</td><td style=\"text-align: right;\"> 0.361417</td><td style=\"text-align: right;\">  0.32196 </td><td style=\"text-align: right;\"> 0.427297</td><td style=\"text-align: right;\">  0.252056</td><td style=\"text-align: right;\">0.242086</td><td style=\"text-align: right;\"> 1.06118 </td><td style=\"text-align: right;\">  0.163758</td><td style=\"text-align: right;\">  1.86237</td><td style=\"text-align: right;\">0.321175</td><td style=\"text-align: right;\">0.541041</td><td style=\"text-align: right;\">   2.15955</td><td style=\"text-align: right;\">     0.134639 </td><td style=\"text-align: right;\">0.158178</td><td style=\"text-align: right;\">0.196124</td><td style=\"text-align: right;\">0.132001</td><td style=\"text-align: right;\"> 0.16112 </td><td style=\"text-align: right;\">0.210988</td><td style=\"text-align: right;\">0.210379</td><td style=\"text-align: right;\">0.128145</td><td style=\"text-align: right;\"> 0.292461</td><td style=\"text-align: right;\"> 0.152597</td><td style=\"text-align: right;\">0.527242</td><td style=\"text-align: right;\"> 0.348062</td><td style=\"text-align: right;\">   1.68755</td><td style=\"text-align: right;\">  2.43659</td><td style=\"text-align: right;\">0.168172</td><td style=\"text-align: right;\">      1.13915</td><td style=\"text-align: right;\">         0.987774</td><td style=\"text-align: right;\">0.239752</td><td style=\"text-align: right;\">0.139052</td><td style=\"text-align: right;\">0.112926</td><td style=\"text-align: right;\">0.132001</td><td style=\"text-align: right;\"> 0.129363</td><td style=\"text-align: right;\">0.486912</td><td style=\"text-align: right;\">   0.125152</td><td style=\"text-align: right;\">0.146865</td><td style=\"text-align: right;\">  0.143517</td><td style=\"text-align: right;\"> 1.62718</td><td>Control   </td><td>Memantine  </td><td>C/S       </td><td>c-CS-m </td></tr>\n",
       "<tr><td style=\"text-align: right;\">  0.616481</td><td style=\"text-align: right;\"> 0.841974</td><td style=\"text-align: right;\">0.388584</td><td style=\"text-align: right;\">2.86258</td><td style=\"text-align: right;\"> 5.19416</td><td style=\"text-align: right;\">0.223433</td><td style=\"text-align: right;\"> 0.167725</td><td style=\"text-align: right;\">    3.64824</td><td style=\"text-align: right;\"> 0.22103 </td><td style=\"text-align: right;\"> 1.56515</td><td style=\"text-align: right;\">0.991845</td><td style=\"text-align: right;\">0.342918</td><td style=\"text-align: right;\">0.39691 </td><td style=\"text-align: right;\">0.270815</td><td style=\"text-align: right;\">1.03279 </td><td style=\"text-align: right;\"> 1.07871 </td><td style=\"text-align: right;\">  1.89305</td><td style=\"text-align: right;\">   2.33099</td><td style=\"text-align: right;\">0.409185</td><td style=\"text-align: right;\">0.789013</td><td style=\"text-align: right;\">0.511502</td><td style=\"text-align: right;\">  0.344807</td><td style=\"text-align: right;\">0.166695</td><td style=\"text-align: right;\">1.85253</td><td style=\"text-align: right;\">3.43116</td><td style=\"text-align: right;\">  1.47167</td><td style=\"text-align: right;\">0.24206 </td><td style=\"text-align: right;\">0.300172</td><td style=\"text-align: right;\">0.833648</td><td style=\"text-align: right;\">0.162661</td><td style=\"text-align: right;\">0.437253</td><td style=\"text-align: right;\">     2.53803</td><td style=\"text-align: right;\">0.337682</td><td style=\"text-align: right;\">0.472618</td><td style=\"text-align: right;\">0.402318</td><td style=\"text-align: right;\"> 0.786524</td><td style=\"text-align: right;\"> 0.533219</td><td style=\"text-align: right;\"> 0.429871</td><td style=\"text-align: right;\">0.603176</td><td style=\"text-align: right;\"> 0.360258</td><td style=\"text-align: right;\">  0.296052</td><td style=\"text-align: right;\"> 0.425837</td><td style=\"text-align: right;\">  0.252017</td><td style=\"text-align: right;\">0.24212 </td><td style=\"text-align: right;\"> 1.06399 </td><td style=\"text-align: right;\">  0.169981</td><td style=\"text-align: right;\">  1.6922 </td><td style=\"text-align: right;\">0.320473</td><td style=\"text-align: right;\">0.539226</td><td style=\"text-align: right;\">   2.1671 </td><td style=\"text-align: right;\">     0.136273 </td><td style=\"text-align: right;\">0.161579</td><td style=\"text-align: right;\">0.193348</td><td style=\"text-align: right;\">0.139008</td><td style=\"text-align: right;\"> 0.161529</td><td style=\"text-align: right;\">0.210798</td><td style=\"text-align: right;\">0.193398</td><td style=\"text-align: right;\">0.134583</td><td style=\"text-align: right;\"> 0.291489</td><td style=\"text-align: right;\"> 0.151884</td><td style=\"text-align: right;\">0.519787</td><td style=\"text-align: right;\"> 0.365119</td><td style=\"text-align: right;\">   1.66287</td><td style=\"text-align: right;\">  2.35473</td><td style=\"text-align: right;\">0.174704</td><td style=\"text-align: right;\">      1.22785</td><td style=\"text-align: right;\">         0.981655</td><td style=\"text-align: right;\">0.249031</td><td style=\"text-align: right;\">0.133787</td><td style=\"text-align: right;\">0.121607</td><td style=\"text-align: right;\">0.139008</td><td style=\"text-align: right;\"> 0.143084</td><td style=\"text-align: right;\">0.467833</td><td style=\"text-align: right;\">   0.112857</td><td style=\"text-align: right;\">0.161132</td><td style=\"text-align: right;\">  0.145719</td><td style=\"text-align: right;\"> 1.5621 </td><td>Control   </td><td>Memantine  </td><td>C/S       </td><td>c-CS-m </td></tr>\n",
       "<tr><td style=\"text-align: right;\">  0.637424</td><td style=\"text-align: right;\"> 0.852882</td><td style=\"text-align: right;\">0.400561</td><td style=\"text-align: right;\">2.96816</td><td style=\"text-align: right;\"> 5.35082</td><td style=\"text-align: right;\">0.20879 </td><td style=\"text-align: right;\"> 0.173261</td><td style=\"text-align: right;\">    3.81455</td><td style=\"text-align: right;\"> 0.2223  </td><td style=\"text-align: right;\"> 1.74173</td><td style=\"text-align: right;\">0.989999</td><td style=\"text-align: right;\">0.328976</td><td style=\"text-align: right;\">0.39793 </td><td style=\"text-align: right;\">0.263795</td><td style=\"text-align: right;\">1.09229 </td><td style=\"text-align: right;\"> 1.09404 </td><td style=\"text-align: right;\">  1.91596</td><td style=\"text-align: right;\">   1.95254</td><td style=\"text-align: right;\">0.454075</td><td style=\"text-align: right;\">0.793754</td><td style=\"text-align: right;\">0.533205</td><td style=\"text-align: right;\">  0.352048</td><td style=\"text-align: right;\">0.172559</td><td style=\"text-align: right;\">1.96579</td><td style=\"text-align: right;\">3.43425</td><td style=\"text-align: right;\">  1.5418 </td><td style=\"text-align: right;\">0.251952</td><td style=\"text-align: right;\">0.345908</td><td style=\"text-align: right;\">0.881393</td><td style=\"text-align: right;\">0.165278</td><td style=\"text-align: right;\">0.44346 </td><td style=\"text-align: right;\">     2.60961</td><td style=\"text-align: right;\">0.342398</td><td style=\"text-align: right;\">0.493903</td><td style=\"text-align: right;\">0.410913</td><td style=\"text-align: right;\"> 0.812791</td><td style=\"text-align: right;\"> 0.564699</td><td style=\"text-align: right;\"> 0.441179</td><td style=\"text-align: right;\">0.640232</td><td style=\"text-align: right;\"> 0.374331</td><td style=\"text-align: right;\">  0.299675</td><td style=\"text-align: right;\"> 0.445214</td><td style=\"text-align: right;\">  0.252303</td><td style=\"text-align: right;\">0.241042</td><td style=\"text-align: right;\"> 1.05945 </td><td style=\"text-align: right;\">  0.17523 </td><td style=\"text-align: right;\">  1.65484</td><td style=\"text-align: right;\">0.317856</td><td style=\"text-align: right;\">0.561875</td><td style=\"text-align: right;\">   2.18245</td><td style=\"text-align: right;\">     0.135914 </td><td style=\"text-align: right;\">0.167508</td><td style=\"text-align: right;\">0.192238</td><td style=\"text-align: right;\">0.134804</td><td style=\"text-align: right;\"> 0.181034</td><td style=\"text-align: right;\">0.202534</td><td style=\"text-align: right;\">0.2043  </td><td style=\"text-align: right;\">0.129555</td><td style=\"text-align: right;\"> 0.270062</td><td style=\"text-align: right;\"> 0.153629</td><td style=\"text-align: right;\">0.506309</td><td style=\"text-align: right;\"> 0.349753</td><td style=\"text-align: right;\">   1.71636</td><td style=\"text-align: right;\">  2.43732</td><td style=\"text-align: right;\">0.156001</td><td style=\"text-align: right;\">      1.2261 </td><td style=\"text-align: right;\">         0.994146</td><td style=\"text-align: right;\">0.247956</td><td style=\"text-align: right;\">0.142324</td><td style=\"text-align: right;\">0.130261</td><td style=\"text-align: right;\">0.134804</td><td style=\"text-align: right;\"> 0.147673</td><td style=\"text-align: right;\">0.462501</td><td style=\"text-align: right;\">   0.116433</td><td style=\"text-align: right;\">0.160594</td><td style=\"text-align: right;\">  0.142879</td><td style=\"text-align: right;\"> 1.57187</td><td>Control   </td><td>Memantine  </td><td>C/S       </td><td>c-CS-m </td></tr>\n",
       "<tr><td style=\"text-align: right;\">  0.576815</td><td style=\"text-align: right;\"> 0.75539 </td><td style=\"text-align: right;\">0.348346</td><td style=\"text-align: right;\">2.6249 </td><td style=\"text-align: right;\"> 4.72751</td><td style=\"text-align: right;\">0.205892</td><td style=\"text-align: right;\"> 0.161192</td><td style=\"text-align: right;\">    3.77853</td><td style=\"text-align: right;\"> 0.194153</td><td style=\"text-align: right;\"> 1.50547</td><td style=\"text-align: right;\">0.819167</td><td style=\"text-align: right;\">0.311548</td><td style=\"text-align: right;\">0.385822</td><td style=\"text-align: right;\">0.241562</td><td style=\"text-align: right;\">0.948414</td><td style=\"text-align: right;\"> 0.924822</td><td style=\"text-align: right;\">  1.75584</td><td style=\"text-align: right;\">   2.29721</td><td style=\"text-align: right;\">0.484818</td><td style=\"text-align: right;\">0.742183</td><td style=\"text-align: right;\">0.459194</td><td style=\"text-align: right;\">  0.33751 </td><td style=\"text-align: right;\">0.161982</td><td style=\"text-align: right;\">1.36471</td><td style=\"text-align: right;\">2.81499</td><td style=\"text-align: right;\">  1.44079</td><td style=\"text-align: right;\">0.234902</td><td style=\"text-align: right;\">0.274975</td><td style=\"text-align: right;\">0.766452</td><td style=\"text-align: right;\">0.150581</td><td style=\"text-align: right;\">0.407608</td><td style=\"text-align: right;\">     2.312  </td><td style=\"text-align: right;\">0.312112</td><td style=\"text-align: right;\">0.466305</td><td style=\"text-align: right;\">0.39474 </td><td style=\"text-align: right;\"> 0.740603</td><td style=\"text-align: right;\"> 0.522971</td><td style=\"text-align: right;\"> 0.391918</td><td style=\"text-align: right;\">0.585055</td><td style=\"text-align: right;\"> 0.345186</td><td style=\"text-align: right;\">  0.286714</td><td style=\"text-align: right;\"> 0.399932</td><td style=\"text-align: right;\">  0.277458</td><td style=\"text-align: right;\">0.208718</td><td style=\"text-align: right;\"> 0.969007</td><td style=\"text-align: right;\">  0.153779</td><td style=\"text-align: right;\">  2.02794</td><td style=\"text-align: right;\">0.299825</td><td style=\"text-align: right;\">0.466762</td><td style=\"text-align: right;\">   1.79515</td><td style=\"text-align: right;\">     0.126091 </td><td style=\"text-align: right;\">0.144363</td><td style=\"text-align: right;\">0.176977</td><td style=\"text-align: right;\">0.118982</td><td style=\"text-align: right;\"> 0.163632</td><td style=\"text-align: right;\">0.195311</td><td style=\"text-align: right;\">0.194126</td><td style=\"text-align: right;\">0.119356</td><td style=\"text-align: right;\"> 0.276939</td><td style=\"text-align: right;\"> 0.134635</td><td style=\"text-align: right;\">0.526503</td><td style=\"text-align: right;\"> 0.3166  </td><td style=\"text-align: right;\">   1.58637</td><td style=\"text-align: right;\">  2.38214</td><td style=\"text-align: right;\">0.145049</td><td style=\"text-align: right;\">      1.0565 </td><td style=\"text-align: right;\">         0.970067</td><td style=\"text-align: right;\">0.233225</td><td style=\"text-align: right;\">0.133637</td><td style=\"text-align: right;\">0.107321</td><td style=\"text-align: right;\">0.118982</td><td style=\"text-align: right;\"> 0.12129 </td><td style=\"text-align: right;\">0.47911 </td><td style=\"text-align: right;\">   0.102831</td><td style=\"text-align: right;\">0.144238</td><td style=\"text-align: right;\">  0.141681</td><td style=\"text-align: right;\"> 1.64661</td><td>Control   </td><td>Memantine  </td><td>C/S       </td><td>c-CS-m </td></tr>\n",
       "<tr><td style=\"text-align: right;\">  0.542545</td><td style=\"text-align: right;\"> 0.757917</td><td style=\"text-align: right;\">0.350051</td><td style=\"text-align: right;\">2.63451</td><td style=\"text-align: right;\"> 4.7356 </td><td style=\"text-align: right;\">0.210526</td><td style=\"text-align: right;\"> 0.165671</td><td style=\"text-align: right;\">    3.87197</td><td style=\"text-align: right;\"> 0.194297</td><td style=\"text-align: right;\"> 1.53161</td><td style=\"text-align: right;\">0.815057</td><td style=\"text-align: right;\">0.315001</td><td style=\"text-align: right;\">0.391525</td><td style=\"text-align: right;\">0.254142</td><td style=\"text-align: right;\">0.95537 </td><td style=\"text-align: right;\"> 0.938465</td><td style=\"text-align: right;\">  1.74484</td><td style=\"text-align: right;\">   2.47785</td><td style=\"text-align: right;\">0.476502</td><td style=\"text-align: right;\">0.71588 </td><td style=\"text-align: right;\">0.486307</td><td style=\"text-align: right;\">  0.338668</td><td style=\"text-align: right;\">0.1606  </td><td style=\"text-align: right;\">1.39817</td><td style=\"text-align: right;\">2.89102</td><td style=\"text-align: right;\">  1.4694 </td><td style=\"text-align: right;\">0.23487 </td><td style=\"text-align: right;\">0.270033</td><td style=\"text-align: right;\">0.755438</td><td style=\"text-align: right;\">0.149555</td><td style=\"text-align: right;\">0.41136 </td><td style=\"text-align: right;\">     2.32086</td><td style=\"text-align: right;\">0.309478</td><td style=\"text-align: right;\">0.472332</td><td style=\"text-align: right;\">0.393666</td><td style=\"text-align: right;\"> 0.739209</td><td style=\"text-align: right;\"> 0.542207</td><td style=\"text-align: right;\"> 0.389947</td><td style=\"text-align: right;\">0.5874  </td><td style=\"text-align: right;\"> 0.346557</td><td style=\"text-align: right;\">  0.290319</td><td style=\"text-align: right;\"> 0.405838</td><td style=\"text-align: right;\">  0.354671</td><td style=\"text-align: right;\">0.212714</td><td style=\"text-align: right;\"> 0.972906</td><td style=\"text-align: right;\">  0.163062</td><td style=\"text-align: right;\">  1.9698 </td><td style=\"text-align: right;\">0.303008</td><td style=\"text-align: right;\">0.491797</td><td style=\"text-align: right;\">   1.76348</td><td style=\"text-align: right;\">     0.124348 </td><td style=\"text-align: right;\">0.153741</td><td style=\"text-align: right;\">0.188106</td><td style=\"text-align: right;\">0.128635</td><td style=\"text-align: right;\"> 0.167972</td><td style=\"text-align: right;\">0.196992</td><td style=\"text-align: right;\">0.197117</td><td style=\"text-align: right;\">0.128635</td><td style=\"text-align: right;\"> 0.283371</td><td style=\"text-align: right;\"> 0.137211</td><td style=\"text-align: right;\">0.542568</td><td style=\"text-align: right;\"> 0.340355</td><td style=\"text-align: right;\">   1.61919</td><td style=\"text-align: right;\">  2.38622</td><td style=\"text-align: right;\">0.150945</td><td style=\"text-align: right;\">      1.13274</td><td style=\"text-align: right;\">         0.980798</td><td style=\"text-align: right;\">0.244469</td><td style=\"text-align: right;\">0.133358</td><td style=\"text-align: right;\">0.112851</td><td style=\"text-align: right;\">0.128635</td><td style=\"text-align: right;\"> 0.142617</td><td style=\"text-align: right;\">0.438354</td><td style=\"text-align: right;\">   0.110614</td><td style=\"text-align: right;\">0.155667</td><td style=\"text-align: right;\">  0.146408</td><td style=\"text-align: right;\"> 1.60763</td><td>Control   </td><td>Memantine  </td><td>C/S       </td><td>c-CS-m </td></tr>\n",
       "<tr><td style=\"text-align: right;\">  0.569918</td><td style=\"text-align: right;\"> 0.761078</td><td style=\"text-align: right;\">0.34391 </td><td style=\"text-align: right;\">2.59809</td><td style=\"text-align: right;\"> 4.76464</td><td style=\"text-align: right;\">0.203963</td><td style=\"text-align: right;\"> 0.16444 </td><td style=\"text-align: right;\">    3.84346</td><td style=\"text-align: right;\"> 0.193053</td><td style=\"text-align: right;\"> 1.57571</td><td style=\"text-align: right;\">0.836451</td><td style=\"text-align: right;\">0.306502</td><td style=\"text-align: right;\">0.373747</td><td style=\"text-align: right;\">0.273436</td><td style=\"text-align: right;\">0.945335</td><td style=\"text-align: right;\"> 0.925852</td><td style=\"text-align: right;\">  1.74048</td><td style=\"text-align: right;\">   2.37442</td><td style=\"text-align: right;\">0.471833</td><td style=\"text-align: right;\">0.721443</td><td style=\"text-align: right;\">0.495769</td><td style=\"text-align: right;\">  0.326987</td><td style=\"text-align: right;\">0.158985</td><td style=\"text-align: right;\">1.40036</td><td style=\"text-align: right;\">2.79492</td><td style=\"text-align: right;\">  1.42585</td><td style=\"text-align: right;\">0.234914</td><td style=\"text-align: right;\">0.292363</td><td style=\"text-align: right;\">0.750501</td><td style=\"text-align: right;\">0.143955</td><td style=\"text-align: right;\">0.409374</td><td style=\"text-align: right;\">     2.27232</td><td style=\"text-align: right;\">0.304721</td><td style=\"text-align: right;\">0.464707</td><td style=\"text-align: right;\">0.4165  </td><td style=\"text-align: right;\"> 0.738922</td><td style=\"text-align: right;\"> 0.535293</td><td style=\"text-align: right;\"> 0.389557</td><td style=\"text-align: right;\">0.601425</td><td style=\"text-align: right;\"> 0.351592</td><td style=\"text-align: right;\">  0.2888  </td><td style=\"text-align: right;\"> 0.400356</td><td style=\"text-align: right;\">  0.294033</td><td style=\"text-align: right;\">0.21237 </td><td style=\"text-align: right;\"> 0.985221</td><td style=\"text-align: right;\">  0.168219</td><td style=\"text-align: right;\">  1.96088</td><td style=\"text-align: right;\">0.309737</td><td style=\"text-align: right;\">0.48342 </td><td style=\"text-align: right;\">   1.74416</td><td style=\"text-align: right;\">     0.125559 </td><td style=\"text-align: right;\">0.160643</td><td style=\"text-align: right;\">0.191381</td><td style=\"text-align: right;\">0.127919</td><td style=\"text-align: right;\"> 0.177968</td><td style=\"text-align: right;\">0.188462</td><td style=\"text-align: right;\">0.204359</td><td style=\"text-align: right;\">0.125062</td><td style=\"text-align: right;\"> 0.271113</td><td style=\"text-align: right;\"> 0.136612</td><td style=\"text-align: right;\">0.553775</td><td style=\"text-align: right;\"> 0.332774</td><td style=\"text-align: right;\">   1.67424</td><td style=\"text-align: right;\">  2.38065</td><td style=\"text-align: right;\">0.150522</td><td style=\"text-align: right;\">      1.17635</td><td style=\"text-align: right;\">         1.00248 </td><td style=\"text-align: right;\">0.247516</td><td style=\"text-align: right;\">0.135867</td><td style=\"text-align: right;\">0.110097</td><td style=\"text-align: right;\">0.127919</td><td style=\"text-align: right;\"> 0.133818</td><td style=\"text-align: right;\">0.461314</td><td style=\"text-align: right;\">   0.114257</td><td style=\"text-align: right;\">0.155924</td><td style=\"text-align: right;\">  0.142139</td><td style=\"text-align: right;\"> 1.50652</td><td>Control   </td><td>Memantine  </td><td>C/S       </td><td>c-CS-m </td></tr>\n",
       "<tr><td style=\"text-align: right;\">  0.494053</td><td style=\"text-align: right;\"> 0.666165</td><td style=\"text-align: right;\">0.311962</td><td style=\"text-align: right;\">2.43978</td><td style=\"text-align: right;\"> 4.2566 </td><td style=\"text-align: right;\">0.225564</td><td style=\"text-align: right;\"> 0.157485</td><td style=\"text-align: right;\">    3.72823</td><td style=\"text-align: right;\"> 0.190021</td><td style=\"text-align: right;\"> 1.30909</td><td style=\"text-align: right;\">0.719481</td><td style=\"text-align: right;\">0.296104</td><td style=\"text-align: right;\">0.334792</td><td style=\"text-align: right;\">0.232809</td><td style=\"text-align: right;\">0.87095 </td><td style=\"text-align: right;\"> 0.819549</td><td style=\"text-align: right;\">  1.60971</td><td style=\"text-align: right;\">   1.90622</td><td style=\"text-align: right;\">0.485031</td><td style=\"text-align: right;\">0.652085</td><td style=\"text-align: right;\">0.432126</td><td style=\"text-align: right;\">  0.309364</td><td style=\"text-align: right;\">0.156118</td><td style=\"text-align: right;\">1.08298</td><td style=\"text-align: right;\">2.47532</td><td style=\"text-align: right;\">  1.33971</td><td style=\"text-align: right;\">0.22365 </td><td style=\"text-align: right;\">0.241012</td><td style=\"text-align: right;\">0.673821</td><td style=\"text-align: right;\">0.143267</td><td style=\"text-align: right;\">0.379357</td><td style=\"text-align: right;\">     2.11114</td><td style=\"text-align: right;\">0.296924</td><td style=\"text-align: right;\">0.44853 </td><td style=\"text-align: right;\">0.394805</td><td style=\"text-align: right;\"> 0.716746</td><td style=\"text-align: right;\"> 0.510731</td><td style=\"text-align: right;\"> 0.361176</td><td style=\"text-align: right;\">0.572932</td><td style=\"text-align: right;\"> 0.334245</td><td style=\"text-align: right;\">  0.284347</td><td style=\"text-align: right;\"> 0.386056</td><td style=\"text-align: right;\">  0.370608</td><td style=\"text-align: right;\">0.178159</td><td style=\"text-align: right;\"> 0.794704</td><td style=\"text-align: right;\">  0.149463</td><td style=\"text-align: right;\">  1.9982 </td><td style=\"text-align: right;\">0.273428</td><td style=\"text-align: right;\">0.393785</td><td style=\"text-align: right;\">   1.46003</td><td style=\"text-align: right;\">     0.107157 </td><td style=\"text-align: right;\">0.14315 </td><td style=\"text-align: right;\">0.164549</td><td style=\"text-align: right;\">0.113798</td><td style=\"text-align: right;\"> 0.15594 </td><td style=\"text-align: right;\">0.182258</td><td style=\"text-align: right;\">0.173977</td><td style=\"text-align: right;\">0.115766</td><td style=\"text-align: right;\"> 0.267771</td><td style=\"text-align: right;\"> 0.114126</td><td style=\"text-align: right;\">0.526687</td><td style=\"text-align: right;\"> 0.306305</td><td style=\"text-align: right;\">   1.47405</td><td style=\"text-align: right;\">  2.27056</td><td style=\"text-align: right;\">0.138559</td><td style=\"text-align: right;\">      1.11544</td><td style=\"text-align: right;\">         0.932442</td><td style=\"text-align: right;\">0.223662</td><td style=\"text-align: right;\">0.149873</td><td style=\"text-align: right;\">0.104206</td><td style=\"text-align: right;\">0.113798</td><td style=\"text-align: right;\"> 0.11634 </td><td style=\"text-align: right;\">0.44306 </td><td style=\"text-align: right;\">   0.115848</td><td style=\"text-align: right;\">0.146265</td><td style=\"text-align: right;\">  0.150857</td><td style=\"text-align: right;\"> 1.54136</td><td>Control   </td><td>Memantine  </td><td>C/S       </td><td>c-CS-m </td></tr>\n",
       "<tr><td style=\"text-align: right;\">  0.485692</td><td style=\"text-align: right;\"> 0.629683</td><td style=\"text-align: right;\">0.299948</td><td style=\"text-align: right;\">2.31777</td><td style=\"text-align: right;\"> 4.1501 </td><td style=\"text-align: right;\">0.204605</td><td style=\"text-align: right;\"> 0.151535</td><td style=\"text-align: right;\">    3.57232</td><td style=\"text-align: right;\"> 0.163892</td><td style=\"text-align: right;\"> 1.29071</td><td style=\"text-align: right;\">0.685744</td><td style=\"text-align: right;\">0.281868</td><td style=\"text-align: right;\">0.327784</td><td style=\"text-align: right;\">0.230489</td><td style=\"text-align: right;\">0.854318</td><td style=\"text-align: right;\"> 0.779657</td><td style=\"text-align: right;\">  1.52979</td><td style=\"text-align: right;\">   2.09899</td><td style=\"text-align: right;\">0.496098</td><td style=\"text-align: right;\">0.604448</td><td style=\"text-align: right;\">0.382804</td><td style=\"text-align: right;\">  0.288241</td><td style=\"text-align: right;\">0.150494</td><td style=\"text-align: right;\">1.06048</td><td style=\"text-align: right;\">2.38072</td><td style=\"text-align: right;\">  1.28447</td><td style=\"text-align: right;\">0.220604</td><td style=\"text-align: right;\">0.229969</td><td style=\"text-align: right;\">0.635796</td><td style=\"text-align: right;\">0.132674</td><td style=\"text-align: right;\">0.367976</td><td style=\"text-align: right;\">     2.02133</td><td style=\"text-align: right;\">0.287201</td><td style=\"text-align: right;\">0.44654 </td><td style=\"text-align: right;\">0.363944</td><td style=\"text-align: right;\"> 0.665973</td><td style=\"text-align: right;\"> 0.521202</td><td style=\"text-align: right;\"> 0.35731 </td><td style=\"text-align: right;\">0.552419</td><td style=\"text-align: right;\"> 0.342742</td><td style=\"text-align: right;\">  0.302029</td><td style=\"text-align: right;\"> 0.375   </td><td style=\"text-align: right;\">  0.370708</td><td style=\"text-align: right;\">0.188216</td><td style=\"text-align: right;\"> 0.807087</td><td style=\"text-align: right;\">  0.159374</td><td style=\"text-align: right;\">  2.01533</td><td style=\"text-align: right;\">0.283972</td><td style=\"text-align: right;\">0.409065</td><td style=\"text-align: right;\">   1.43098</td><td style=\"text-align: right;\">     0.112402 </td><td style=\"text-align: right;\">0.150144</td><td style=\"text-align: right;\">0.178986</td><td style=\"text-align: right;\">0.125587</td><td style=\"text-align: right;\"> 0.161104</td><td style=\"text-align: right;\">0.189287</td><td style=\"text-align: right;\">0.170334</td><td style=\"text-align: right;\">0.124928</td><td style=\"text-align: right;\"> 0.245076</td><td style=\"text-align: right;\"> 0.121302</td><td style=\"text-align: right;\">0.534569</td><td style=\"text-align: right;\"> 0.320148</td><td style=\"text-align: right;\">   1.55435</td><td style=\"text-align: right;\">  2.30787</td><td style=\"text-align: right;\">0.158714</td><td style=\"text-align: right;\">      1.14116</td><td style=\"text-align: right;\">         0.948826</td><td style=\"text-align: right;\">0.235929</td><td style=\"text-align: right;\">0.144129</td><td style=\"text-align: right;\">0.106386</td><td style=\"text-align: right;\">0.125587</td><td style=\"text-align: right;\"> 0.136959</td><td style=\"text-align: right;\">0.412938</td><td style=\"text-align: right;\">   0.122044</td><td style=\"text-align: right;\">0.160939</td><td style=\"text-align: right;\">  0.170004</td><td style=\"text-align: right;\"> 1.4857 </td><td>Control   </td><td>Memantine  </td><td>C/S       </td><td>c-CS-m </td></tr>\n",
       "<tr><td style=\"text-align: right;\">  0.508725</td><td style=\"text-align: right;\"> 0.655302</td><td style=\"text-align: right;\">0.305906</td><td style=\"text-align: right;\">2.4157 </td><td style=\"text-align: right;\"> 4.33852</td><td style=\"text-align: right;\">0.206711</td><td style=\"text-align: right;\"> 0.154362</td><td style=\"text-align: right;\">    3.82966</td><td style=\"text-align: right;\"> 0.17396 </td><td style=\"text-align: right;\"> 1.43007</td><td style=\"text-align: right;\">0.690604</td><td style=\"text-align: right;\">0.288725</td><td style=\"text-align: right;\">0.34094 </td><td style=\"text-align: right;\">0.231275</td><td style=\"text-align: right;\">0.882013</td><td style=\"text-align: right;\"> 0.827651</td><td style=\"text-align: right;\">  1.6153 </td><td style=\"text-align: right;\">   2.09423</td><td style=\"text-align: right;\">0.488725</td><td style=\"text-align: right;\">0.657584</td><td style=\"text-align: right;\">0.419732</td><td style=\"text-align: right;\">  0.326577</td><td style=\"text-align: right;\">0.151946</td><td style=\"text-align: right;\">1.11383</td><td style=\"text-align: right;\">2.40899</td><td style=\"text-align: right;\">  1.3145 </td><td style=\"text-align: right;\">0.222953</td><td style=\"text-align: right;\">0.240134</td><td style=\"text-align: right;\">0.66698 </td><td style=\"text-align: right;\">0.135436</td><td style=\"text-align: right;\">0.379463</td><td style=\"text-align: right;\">     2.09007</td><td style=\"text-align: right;\">0.298121</td><td style=\"text-align: right;\">0.465235</td><td style=\"text-align: right;\">0.422953</td><td style=\"text-align: right;\"> 0.712886</td><td style=\"text-align: right;\"> 0.532886</td><td style=\"text-align: right;\"> 0.373691</td><td style=\"text-align: right;\">0.563893</td><td style=\"text-align: right;\"> 0.341879</td><td style=\"text-align: right;\">  0.293691</td><td style=\"text-align: right;\"> 0.389664</td><td style=\"text-align: right;\">  0.381208</td><td style=\"text-align: right;\">0.193651</td><td style=\"text-align: right;\"> 0.844376</td><td style=\"text-align: right;\">  0.160901</td><td style=\"text-align: right;\">  2.05059</td><td style=\"text-align: right;\">0.287461</td><td style=\"text-align: right;\">0.418377</td><td style=\"text-align: right;\">   1.47232</td><td style=\"text-align: right;\">     0.11274  </td><td style=\"text-align: right;\">0.156713</td><td style=\"text-align: right;\">0.178993</td><td style=\"text-align: right;\">0.125052</td><td style=\"text-align: right;\"> 0.164838</td><td style=\"text-align: right;\">0.182344</td><td style=\"text-align: right;\">0.188709</td><td style=\"text-align: right;\">0.124885</td><td style=\"text-align: right;\"> 0.261998</td><td style=\"text-align: right;\"> 0.120111</td><td style=\"text-align: right;\">0.539241</td><td style=\"text-align: right;\"> 0.354636</td><td style=\"text-align: right;\">   1.60348</td><td style=\"text-align: right;\">  2.43086</td><td style=\"text-align: right;\">0.158891</td><td style=\"text-align: right;\">      1.18812</td><td style=\"text-align: right;\">         0.982159</td><td style=\"text-align: right;\">0.241645</td><td style=\"text-align: right;\">0.147835</td><td style=\"text-align: right;\">0.113326</td><td style=\"text-align: right;\">0.125052</td><td style=\"text-align: right;\"> 0.130162</td><td style=\"text-align: right;\">0.441829</td><td style=\"text-align: right;\">   0.119859</td><td style=\"text-align: right;\">0.167853</td><td style=\"text-align: right;\">  0.156127</td><td style=\"text-align: right;\"> 1.509  </td><td>Control   </td><td>Memantine  </td><td>C/S       </td><td>c-CS-m </td></tr>\n",
       "<tr><td style=\"text-align: right;\">  0.408177</td><td style=\"text-align: right;\"> 0.54364 </td><td style=\"text-align: right;\">0.266223</td><td style=\"text-align: right;\">2.02969</td><td style=\"text-align: right;\"> 3.38741</td><td style=\"text-align: right;\">0.215282</td><td style=\"text-align: right;\"> 0.162395</td><td style=\"text-align: right;\">    3.07495</td><td style=\"text-align: right;\"> 0.147956</td><td style=\"text-align: right;\"> 1.16564</td><td style=\"text-align: right;\">0.602693</td><td style=\"text-align: right;\">0.288936</td><td style=\"text-align: right;\">0.288936</td><td style=\"text-align: right;\">0.247567</td><td style=\"text-align: right;\">0.73913 </td><td style=\"text-align: right;\"> 0.647307</td><td style=\"text-align: right;\">  1.35675</td><td style=\"text-align: right;\">   1.74578</td><td style=\"text-align: right;\">0.463984</td><td style=\"text-align: right;\">0.551103</td><td style=\"text-align: right;\">0.427969</td><td style=\"text-align: right;\">  0.297534</td><td style=\"text-align: right;\">0.162557</td><td style=\"text-align: right;\">0.80451</td><td style=\"text-align: right;\">1.88108</td><td style=\"text-align: right;\">  1.16012</td><td style=\"text-align: right;\">0.228099</td><td style=\"text-align: right;\">0.238482</td><td style=\"text-align: right;\">0.614049</td><td style=\"text-align: right;\">0.146334</td><td style=\"text-align: right;\">0.329332</td><td style=\"text-align: right;\">     1.70474</td><td style=\"text-align: right;\">0.261681</td><td style=\"text-align: right;\">0.435594</td><td style=\"text-align: right;\">0.401687</td><td style=\"text-align: right;\"> 0.647631</td><td style=\"text-align: right;\"> 0.488482</td><td style=\"text-align: right;\"> 0.328034</td><td style=\"text-align: right;\">0.549156</td><td style=\"text-align: right;\"> 0.325438</td><td style=\"text-align: right;\">  0.30451 </td><td style=\"text-align: right;\"> 0.387086</td><td style=\"text-align: right;\">  0.399578</td><td style=\"text-align: right;\">0.168888</td><td style=\"text-align: right;\"> 0.735423</td><td style=\"text-align: right;\">  0.139629</td><td style=\"text-align: right;\">  2.04509</td><td style=\"text-align: right;\">0.256768</td><td style=\"text-align: right;\">0.359329</td><td style=\"text-align: right;\">   1.27332</td><td style=\"text-align: right;\">     0.0904831</td><td style=\"text-align: right;\">0.129217</td><td style=\"text-align: right;\">0.152332</td><td style=\"text-align: right;\">0.111412</td><td style=\"text-align: right;\"> 0.158267</td><td style=\"text-align: right;\">0.172636</td><td style=\"text-align: right;\">0.164619</td><td style=\"text-align: right;\">0.108496</td><td style=\"text-align: right;\"> 0.246252</td><td style=\"text-align: right;\"> 0.10631 </td><td style=\"text-align: right;\">0.529155</td><td style=\"text-align: right;\"> 0.31112 </td><td style=\"text-align: right;\">   1.38255</td><td style=\"text-align: right;\">  2.24344</td><td style=\"text-align: right;\">0.15025 </td><td style=\"text-align: right;\">      1.04071</td><td style=\"text-align: right;\">         0.895981</td><td style=\"text-align: right;\">0.228342</td><td style=\"text-align: right;\">0.144002</td><td style=\"text-align: right;\">0.107351</td><td style=\"text-align: right;\">0.111412</td><td style=\"text-align: right;\"> 0.121095</td><td style=\"text-align: right;\">0.371512</td><td style=\"text-align: right;\">   0.103811</td><td style=\"text-align: right;\">0.159413</td><td style=\"text-align: right;\">  0.16566 </td><td style=\"text-align: right;\"> 1.39744</td><td>Control   </td><td>Memantine  </td><td>C/S       </td><td>c-CS-m </td></tr>\n",
       "</tbody>\n",
       "</table>"
      ]
     },
     "metadata": {},
     "output_type": "display_data"
    },
    {
     "data": {
      "text/plain": []
     },
     "execution_count": 8,
     "metadata": {},
     "output_type": "execute_result"
    }
   ],
   "source": [
    "df_medicine = h2o.H2OFrame(df)\n",
    "df_medicine"
   ]
  },
  {
   "cell_type": "code",
   "execution_count": 10,
   "metadata": {},
   "outputs": [
    {
     "data": {
      "text/plain": [
       "pandas.core.frame.DataFrame"
      ]
     },
     "execution_count": 10,
     "metadata": {},
     "output_type": "execute_result"
    }
   ],
   "source": [
    "#Convertir H2Odataframe a un Dataframe de Pandas \n",
    "df_python=h2o.h2o.as_list(df_medicine, #df h20\n",
    "                          use_pandas=True) #\n",
    "type(df_python)"
   ]
  },
  {
   "cell_type": "code",
   "execution_count": 11,
   "metadata": {},
   "outputs": [
    {
     "data": {
      "text/html": [
       "<div>\n",
       "<style scoped>\n",
       "    .dataframe tbody tr th:only-of-type {\n",
       "        vertical-align: middle;\n",
       "    }\n",
       "\n",
       "    .dataframe tbody tr th {\n",
       "        vertical-align: top;\n",
       "    }\n",
       "\n",
       "    .dataframe thead th {\n",
       "        text-align: right;\n",
       "    }\n",
       "</style>\n",
       "<table border=\"1\" class=\"dataframe\">\n",
       "  <thead>\n",
       "    <tr style=\"text-align: right;\">\n",
       "      <th></th>\n",
       "      <th>DYRK1A_N</th>\n",
       "      <th>ITSN1_N</th>\n",
       "      <th>BDNF_N</th>\n",
       "      <th>NR1_N</th>\n",
       "      <th>NR2A_N</th>\n",
       "      <th>pAKT_N</th>\n",
       "      <th>pBRAF_N</th>\n",
       "      <th>pCAMKII_N</th>\n",
       "      <th>pCREB_N</th>\n",
       "      <th>pELK_N</th>\n",
       "      <th>...</th>\n",
       "      <th>pCFOS_N</th>\n",
       "      <th>SYP_N</th>\n",
       "      <th>H3AcK18_N</th>\n",
       "      <th>EGR1_N</th>\n",
       "      <th>H3MeK4_N</th>\n",
       "      <th>CaNA_N</th>\n",
       "      <th>Genotype</th>\n",
       "      <th>Treatment</th>\n",
       "      <th>Behavior</th>\n",
       "      <th>class</th>\n",
       "    </tr>\n",
       "  </thead>\n",
       "  <tbody>\n",
       "    <tr>\n",
       "      <th>0</th>\n",
       "      <td>0.649781</td>\n",
       "      <td>0.828696</td>\n",
       "      <td>0.405862</td>\n",
       "      <td>2.921435</td>\n",
       "      <td>5.167979</td>\n",
       "      <td>0.207174</td>\n",
       "      <td>0.176640</td>\n",
       "      <td>3.728084</td>\n",
       "      <td>0.239283</td>\n",
       "      <td>1.666579</td>\n",
       "      <td>...</td>\n",
       "      <td>0.129363</td>\n",
       "      <td>0.486912</td>\n",
       "      <td>0.125152</td>\n",
       "      <td>0.146865</td>\n",
       "      <td>0.143517</td>\n",
       "      <td>1.627181</td>\n",
       "      <td>Control</td>\n",
       "      <td>Memantine</td>\n",
       "      <td>C/S</td>\n",
       "      <td>c-CS-m</td>\n",
       "    </tr>\n",
       "    <tr>\n",
       "      <th>1</th>\n",
       "      <td>0.616481</td>\n",
       "      <td>0.841974</td>\n",
       "      <td>0.388584</td>\n",
       "      <td>2.862575</td>\n",
       "      <td>5.194163</td>\n",
       "      <td>0.223433</td>\n",
       "      <td>0.167725</td>\n",
       "      <td>3.648240</td>\n",
       "      <td>0.221030</td>\n",
       "      <td>1.565150</td>\n",
       "      <td>...</td>\n",
       "      <td>0.143084</td>\n",
       "      <td>0.467833</td>\n",
       "      <td>0.112857</td>\n",
       "      <td>0.161132</td>\n",
       "      <td>0.145719</td>\n",
       "      <td>1.562096</td>\n",
       "      <td>Control</td>\n",
       "      <td>Memantine</td>\n",
       "      <td>C/S</td>\n",
       "      <td>c-CS-m</td>\n",
       "    </tr>\n",
       "    <tr>\n",
       "      <th>2</th>\n",
       "      <td>0.637424</td>\n",
       "      <td>0.852882</td>\n",
       "      <td>0.400561</td>\n",
       "      <td>2.968155</td>\n",
       "      <td>5.350820</td>\n",
       "      <td>0.208790</td>\n",
       "      <td>0.173261</td>\n",
       "      <td>3.814545</td>\n",
       "      <td>0.222300</td>\n",
       "      <td>1.741732</td>\n",
       "      <td>...</td>\n",
       "      <td>0.147673</td>\n",
       "      <td>0.462501</td>\n",
       "      <td>0.116433</td>\n",
       "      <td>0.160594</td>\n",
       "      <td>0.142879</td>\n",
       "      <td>1.571868</td>\n",
       "      <td>Control</td>\n",
       "      <td>Memantine</td>\n",
       "      <td>C/S</td>\n",
       "      <td>c-CS-m</td>\n",
       "    </tr>\n",
       "    <tr>\n",
       "      <th>3</th>\n",
       "      <td>0.576815</td>\n",
       "      <td>0.755390</td>\n",
       "      <td>0.348346</td>\n",
       "      <td>2.624901</td>\n",
       "      <td>4.727509</td>\n",
       "      <td>0.205892</td>\n",
       "      <td>0.161192</td>\n",
       "      <td>3.778530</td>\n",
       "      <td>0.194153</td>\n",
       "      <td>1.505475</td>\n",
       "      <td>...</td>\n",
       "      <td>0.121290</td>\n",
       "      <td>0.479110</td>\n",
       "      <td>0.102831</td>\n",
       "      <td>0.144238</td>\n",
       "      <td>0.141681</td>\n",
       "      <td>1.646608</td>\n",
       "      <td>Control</td>\n",
       "      <td>Memantine</td>\n",
       "      <td>C/S</td>\n",
       "      <td>c-CS-m</td>\n",
       "    </tr>\n",
       "    <tr>\n",
       "      <th>4</th>\n",
       "      <td>0.542545</td>\n",
       "      <td>0.757917</td>\n",
       "      <td>0.350051</td>\n",
       "      <td>2.634509</td>\n",
       "      <td>4.735602</td>\n",
       "      <td>0.210526</td>\n",
       "      <td>0.165671</td>\n",
       "      <td>3.871971</td>\n",
       "      <td>0.194297</td>\n",
       "      <td>1.531613</td>\n",
       "      <td>...</td>\n",
       "      <td>0.142617</td>\n",
       "      <td>0.438354</td>\n",
       "      <td>0.110614</td>\n",
       "      <td>0.155667</td>\n",
       "      <td>0.146408</td>\n",
       "      <td>1.607631</td>\n",
       "      <td>Control</td>\n",
       "      <td>Memantine</td>\n",
       "      <td>C/S</td>\n",
       "      <td>c-CS-m</td>\n",
       "    </tr>\n",
       "  </tbody>\n",
       "</table>\n",
       "<p>5 rows × 81 columns</p>\n",
       "</div>"
      ],
      "text/plain": [
       "   DYRK1A_N   ITSN1_N    BDNF_N     NR1_N    NR2A_N    pAKT_N   pBRAF_N  \\\n",
       "0  0.649781  0.828696  0.405862  2.921435  5.167979  0.207174  0.176640   \n",
       "1  0.616481  0.841974  0.388584  2.862575  5.194163  0.223433  0.167725   \n",
       "2  0.637424  0.852882  0.400561  2.968155  5.350820  0.208790  0.173261   \n",
       "3  0.576815  0.755390  0.348346  2.624901  4.727509  0.205892  0.161192   \n",
       "4  0.542545  0.757917  0.350051  2.634509  4.735602  0.210526  0.165671   \n",
       "\n",
       "   pCAMKII_N   pCREB_N    pELK_N  ...   pCFOS_N     SYP_N  H3AcK18_N  \\\n",
       "0   3.728084  0.239283  1.666579  ...  0.129363  0.486912   0.125152   \n",
       "1   3.648240  0.221030  1.565150  ...  0.143084  0.467833   0.112857   \n",
       "2   3.814545  0.222300  1.741732  ...  0.147673  0.462501   0.116433   \n",
       "3   3.778530  0.194153  1.505475  ...  0.121290  0.479110   0.102831   \n",
       "4   3.871971  0.194297  1.531613  ...  0.142617  0.438354   0.110614   \n",
       "\n",
       "     EGR1_N  H3MeK4_N    CaNA_N  Genotype  Treatment  Behavior   class  \n",
       "0  0.146865  0.143517  1.627181   Control  Memantine       C/S  c-CS-m  \n",
       "1  0.161132  0.145719  1.562096   Control  Memantine       C/S  c-CS-m  \n",
       "2  0.160594  0.142879  1.571868   Control  Memantine       C/S  c-CS-m  \n",
       "3  0.144238  0.141681  1.646608   Control  Memantine       C/S  c-CS-m  \n",
       "4  0.155667  0.146408  1.607631   Control  Memantine       C/S  c-CS-m  \n",
       "\n",
       "[5 rows x 81 columns]"
      ]
     },
     "execution_count": 11,
     "metadata": {},
     "output_type": "execute_result"
    }
   ],
   "source": [
    "df_python.head()"
   ]
  },
  {
   "cell_type": "code",
   "execution_count": 12,
   "metadata": {},
   "outputs": [
    {
     "data": {
      "text/html": [
       "<div>\n",
       "<style scoped>\n",
       "    .dataframe tbody tr th:only-of-type {\n",
       "        vertical-align: middle;\n",
       "    }\n",
       "\n",
       "    .dataframe tbody tr th {\n",
       "        vertical-align: top;\n",
       "    }\n",
       "\n",
       "    .dataframe thead th {\n",
       "        text-align: right;\n",
       "    }\n",
       "</style>\n",
       "<table border=\"1\" class=\"dataframe\">\n",
       "  <thead>\n",
       "    <tr style=\"text-align: right;\">\n",
       "      <th></th>\n",
       "      <th>DYRK1A_N</th>\n",
       "      <th>ITSN1_N</th>\n",
       "      <th>BDNF_N</th>\n",
       "      <th>NR1_N</th>\n",
       "      <th>NR2A_N</th>\n",
       "      <th>pAKT_N</th>\n",
       "      <th>pBRAF_N</th>\n",
       "      <th>pCAMKII_N</th>\n",
       "      <th>pCREB_N</th>\n",
       "      <th>pELK_N</th>\n",
       "      <th>...</th>\n",
       "      <th>pCFOS_N</th>\n",
       "      <th>SYP_N</th>\n",
       "      <th>H3AcK18_N</th>\n",
       "      <th>EGR1_N</th>\n",
       "      <th>H3MeK4_N</th>\n",
       "      <th>CaNA_N</th>\n",
       "      <th>Genotype</th>\n",
       "      <th>Treatment</th>\n",
       "      <th>Behavior</th>\n",
       "      <th>class</th>\n",
       "    </tr>\n",
       "  </thead>\n",
       "  <tbody>\n",
       "    <tr>\n",
       "      <th>547</th>\n",
       "      <td>0.382149</td>\n",
       "      <td>0.595792</td>\n",
       "      <td>0.399101</td>\n",
       "      <td>2.527574</td>\n",
       "      <td>4.629493</td>\n",
       "      <td>0.317810</td>\n",
       "      <td>0.213235</td>\n",
       "      <td>6.219567</td>\n",
       "      <td>0.232639</td>\n",
       "      <td>1.495507</td>\n",
       "      <td>...</td>\n",
       "      <td>0.122308</td>\n",
       "      <td>0.507017</td>\n",
       "      <td>0.172393</td>\n",
       "      <td>0.200097</td>\n",
       "      <td>0.221994</td>\n",
       "      <td>1.141423</td>\n",
       "      <td>Ts65Dn</td>\n",
       "      <td>Saline</td>\n",
       "      <td>S/C</td>\n",
       "      <td>t-SC-s</td>\n",
       "    </tr>\n",
       "    <tr>\n",
       "      <th>548</th>\n",
       "      <td>0.387947</td>\n",
       "      <td>0.586510</td>\n",
       "      <td>0.431650</td>\n",
       "      <td>2.527041</td>\n",
       "      <td>4.781082</td>\n",
       "      <td>0.316903</td>\n",
       "      <td>0.222111</td>\n",
       "      <td>6.307723</td>\n",
       "      <td>0.239074</td>\n",
       "      <td>1.594492</td>\n",
       "      <td>...</td>\n",
       "      <td>0.121216</td>\n",
       "      <td>0.492432</td>\n",
       "      <td>0.177319</td>\n",
       "      <td>0.207593</td>\n",
       "      <td>0.235223</td>\n",
       "      <td>1.104757</td>\n",
       "      <td>Ts65Dn</td>\n",
       "      <td>Saline</td>\n",
       "      <td>S/C</td>\n",
       "      <td>t-SC-s</td>\n",
       "    </tr>\n",
       "    <tr>\n",
       "      <th>549</th>\n",
       "      <td>0.343695</td>\n",
       "      <td>0.562547</td>\n",
       "      <td>0.361243</td>\n",
       "      <td>2.412885</td>\n",
       "      <td>3.949361</td>\n",
       "      <td>0.330158</td>\n",
       "      <td>0.225620</td>\n",
       "      <td>6.060165</td>\n",
       "      <td>0.254951</td>\n",
       "      <td>1.625219</td>\n",
       "      <td>...</td>\n",
       "      <td>0.121936</td>\n",
       "      <td>0.490258</td>\n",
       "      <td>0.169076</td>\n",
       "      <td>0.182590</td>\n",
       "      <td>0.243715</td>\n",
       "      <td>1.104494</td>\n",
       "      <td>Ts65Dn</td>\n",
       "      <td>Saline</td>\n",
       "      <td>S/C</td>\n",
       "      <td>t-SC-s</td>\n",
       "    </tr>\n",
       "    <tr>\n",
       "      <th>550</th>\n",
       "      <td>0.346594</td>\n",
       "      <td>0.551467</td>\n",
       "      <td>0.390353</td>\n",
       "      <td>2.445052</td>\n",
       "      <td>4.236201</td>\n",
       "      <td>0.343610</td>\n",
       "      <td>0.229239</td>\n",
       "      <td>6.023371</td>\n",
       "      <td>0.240676</td>\n",
       "      <td>1.674043</td>\n",
       "      <td>...</td>\n",
       "      <td>0.136900</td>\n",
       "      <td>0.502282</td>\n",
       "      <td>0.180016</td>\n",
       "      <td>0.199685</td>\n",
       "      <td>0.269866</td>\n",
       "      <td>1.136585</td>\n",
       "      <td>Ts65Dn</td>\n",
       "      <td>Saline</td>\n",
       "      <td>S/C</td>\n",
       "      <td>t-SC-s</td>\n",
       "    </tr>\n",
       "    <tr>\n",
       "      <th>551</th>\n",
       "      <td>0.365907</td>\n",
       "      <td>0.552861</td>\n",
       "      <td>0.386275</td>\n",
       "      <td>2.473812</td>\n",
       "      <td>4.347236</td>\n",
       "      <td>0.353783</td>\n",
       "      <td>0.232784</td>\n",
       "      <td>6.085354</td>\n",
       "      <td>0.242726</td>\n",
       "      <td>1.677740</td>\n",
       "      <td>...</td>\n",
       "      <td>0.130069</td>\n",
       "      <td>0.487991</td>\n",
       "      <td>0.194635</td>\n",
       "      <td>0.220056</td>\n",
       "      <td>0.242514</td>\n",
       "      <td>1.085621</td>\n",
       "      <td>Ts65Dn</td>\n",
       "      <td>Saline</td>\n",
       "      <td>S/C</td>\n",
       "      <td>t-SC-s</td>\n",
       "    </tr>\n",
       "  </tbody>\n",
       "</table>\n",
       "<p>5 rows × 81 columns</p>\n",
       "</div>"
      ],
      "text/plain": [
       "     DYRK1A_N   ITSN1_N    BDNF_N     NR1_N    NR2A_N    pAKT_N   pBRAF_N  \\\n",
       "547  0.382149  0.595792  0.399101  2.527574  4.629493  0.317810  0.213235   \n",
       "548  0.387947  0.586510  0.431650  2.527041  4.781082  0.316903  0.222111   \n",
       "549  0.343695  0.562547  0.361243  2.412885  3.949361  0.330158  0.225620   \n",
       "550  0.346594  0.551467  0.390353  2.445052  4.236201  0.343610  0.229239   \n",
       "551  0.365907  0.552861  0.386275  2.473812  4.347236  0.353783  0.232784   \n",
       "\n",
       "     pCAMKII_N   pCREB_N    pELK_N  ...   pCFOS_N     SYP_N  H3AcK18_N  \\\n",
       "547   6.219567  0.232639  1.495507  ...  0.122308  0.507017   0.172393   \n",
       "548   6.307723  0.239074  1.594492  ...  0.121216  0.492432   0.177319   \n",
       "549   6.060165  0.254951  1.625219  ...  0.121936  0.490258   0.169076   \n",
       "550   6.023371  0.240676  1.674043  ...  0.136900  0.502282   0.180016   \n",
       "551   6.085354  0.242726  1.677740  ...  0.130069  0.487991   0.194635   \n",
       "\n",
       "       EGR1_N  H3MeK4_N    CaNA_N  Genotype  Treatment  Behavior   class  \n",
       "547  0.200097  0.221994  1.141423    Ts65Dn     Saline       S/C  t-SC-s  \n",
       "548  0.207593  0.235223  1.104757    Ts65Dn     Saline       S/C  t-SC-s  \n",
       "549  0.182590  0.243715  1.104494    Ts65Dn     Saline       S/C  t-SC-s  \n",
       "550  0.199685  0.269866  1.136585    Ts65Dn     Saline       S/C  t-SC-s  \n",
       "551  0.220056  0.242514  1.085621    Ts65Dn     Saline       S/C  t-SC-s  \n",
       "\n",
       "[5 rows x 81 columns]"
      ]
     },
     "execution_count": 12,
     "metadata": {},
     "output_type": "execute_result"
    }
   ],
   "source": [
    "df_python.tail()"
   ]
  },
  {
   "cell_type": "code",
   "execution_count": 13,
   "metadata": {},
   "outputs": [],
   "source": [
    "from collections import defaultdict\n",
    "from sklearn import preprocessing "
   ]
  },
  {
   "cell_type": "code",
   "execution_count": 14,
   "metadata": {},
   "outputs": [
    {
     "data": {
      "text/plain": [
       "collections.defaultdict"
      ]
     },
     "execution_count": 14,
     "metadata": {},
     "output_type": "execute_result"
    }
   ],
   "source": [
    "#Defino el diccionario con la funcion LabelEncoder(que se usa para convertir los object en numerico\n",
    "d = defaultdict(preprocessing.LabelEncoder)\n",
    "type(d)"
   ]
  },
  {
   "cell_type": "code",
   "execution_count": 15,
   "metadata": {},
   "outputs": [
    {
     "data": {
      "text/plain": [
       "DYRK1A_N     float64\n",
       "ITSN1_N      float64\n",
       "BDNF_N       float64\n",
       "NR1_N        float64\n",
       "NR2A_N       float64\n",
       "              ...   \n",
       "CaNA_N       float64\n",
       "Genotype      object\n",
       "Treatment     object\n",
       "Behavior      object\n",
       "class         object\n",
       "Length: 81, dtype: object"
      ]
     },
     "execution_count": 15,
     "metadata": {},
     "output_type": "execute_result"
    }
   ],
   "source": [
    "df_python.dtypes"
   ]
  },
  {
   "cell_type": "code",
   "execution_count": 16,
   "metadata": {},
   "outputs": [
    {
     "data": {
      "text/plain": [
       "{dtype('float64'): Index(['DYRK1A_N', 'ITSN1_N', 'BDNF_N', 'NR1_N', 'NR2A_N', 'pAKT_N', 'pBRAF_N',\n",
       "        'pCAMKII_N', 'pCREB_N', 'pELK_N', 'pERK_N', 'pJNK_N', 'PKCA_N',\n",
       "        'pMEK_N', 'pNR1_N', 'pNR2A_N', 'pNR2B_N', 'pPKCAB_N', 'pRSK_N', 'AKT_N',\n",
       "        'BRAF_N', 'CAMKII_N', 'CREB_N', 'ELK_N', 'ERK_N', 'GSK3B_N', 'JNK_N',\n",
       "        'MEK_N', 'TRKA_N', 'RSK_N', 'APP_N', 'Bcatenin_N', 'SOD1_N', 'MTOR_N',\n",
       "        'P38_N', 'pMTOR_N', 'DSCR1_N', 'AMPKA_N', 'NR2B_N', 'pNUMB_N',\n",
       "        'RAPTOR_N', 'TIAM1_N', 'pP70S6_N', 'NUMB_N', 'P70S6_N', 'pGSK3B_N',\n",
       "        'pPKCG_N', 'CDK5_N', 'S6_N', 'ADARB1_N', 'AcetylH3K9_N', 'RRP1_N',\n",
       "        'BAX_N', 'ARC_N', 'ERBB4_N', 'nNOS_N', 'Tau_N', 'GFAP_N', 'GluR3_N',\n",
       "        'GluR4_N', 'IL1B_N', 'P3525_N', 'pCASP9_N', 'PSD95_N', 'SNCA_N',\n",
       "        'Ubiquitin_N', 'pGSK3B_Tyr216_N', 'SHH_N', 'BAD_N', 'BCL2_N', 'pS6_N',\n",
       "        'pCFOS_N', 'SYP_N', 'H3AcK18_N', 'EGR1_N', 'H3MeK4_N', 'CaNA_N'],\n",
       "       dtype='object'),\n",
       " dtype('O'): Index(['Genotype', 'Treatment', 'Behavior', 'class'], dtype='object')}"
      ]
     },
     "execution_count": 16,
     "metadata": {},
     "output_type": "execute_result"
    }
   ],
   "source": [
    "# Agrupando columnas por tipo de datos\n",
    "tipos = df_python.columns.to_series().groupby(df_python.dtypes).groups\n",
    "tipos"
   ]
  },
  {
   "cell_type": "code",
   "execution_count": 17,
   "metadata": {},
   "outputs": [
    {
     "data": {
      "text/plain": [
       "['Genotype', 'Treatment', 'Behavior', 'class']"
      ]
     },
     "execution_count": 17,
     "metadata": {},
     "output_type": "execute_result"
    }
   ],
   "source": [
    "import numpy as np\n",
    "#Generar la lista de solo los nombres de las columna de tipo object\n",
    "list_text=list(tipos[np.dtype('object')])\n",
    "list_text"
   ]
  },
  {
   "cell_type": "code",
   "execution_count": 18,
   "metadata": {},
   "outputs": [
    {
     "data": {
      "text/html": [
       "<div>\n",
       "<style scoped>\n",
       "    .dataframe tbody tr th:only-of-type {\n",
       "        vertical-align: middle;\n",
       "    }\n",
       "\n",
       "    .dataframe tbody tr th {\n",
       "        vertical-align: top;\n",
       "    }\n",
       "\n",
       "    .dataframe thead th {\n",
       "        text-align: right;\n",
       "    }\n",
       "</style>\n",
       "<table border=\"1\" class=\"dataframe\">\n",
       "  <thead>\n",
       "    <tr style=\"text-align: right;\">\n",
       "      <th></th>\n",
       "      <th>DYRK1A_N</th>\n",
       "      <th>ITSN1_N</th>\n",
       "      <th>BDNF_N</th>\n",
       "      <th>NR1_N</th>\n",
       "      <th>NR2A_N</th>\n",
       "      <th>pAKT_N</th>\n",
       "      <th>pBRAF_N</th>\n",
       "      <th>pCAMKII_N</th>\n",
       "      <th>pCREB_N</th>\n",
       "      <th>pELK_N</th>\n",
       "      <th>...</th>\n",
       "      <th>pCFOS_N</th>\n",
       "      <th>SYP_N</th>\n",
       "      <th>H3AcK18_N</th>\n",
       "      <th>EGR1_N</th>\n",
       "      <th>H3MeK4_N</th>\n",
       "      <th>CaNA_N</th>\n",
       "      <th>Genotype</th>\n",
       "      <th>Treatment</th>\n",
       "      <th>Behavior</th>\n",
       "      <th>class</th>\n",
       "    </tr>\n",
       "  </thead>\n",
       "  <tbody>\n",
       "    <tr>\n",
       "      <th>0</th>\n",
       "      <td>0.649781</td>\n",
       "      <td>0.828696</td>\n",
       "      <td>0.405862</td>\n",
       "      <td>2.921435</td>\n",
       "      <td>5.167979</td>\n",
       "      <td>0.207174</td>\n",
       "      <td>0.176640</td>\n",
       "      <td>3.728084</td>\n",
       "      <td>0.239283</td>\n",
       "      <td>1.666579</td>\n",
       "      <td>...</td>\n",
       "      <td>0.129363</td>\n",
       "      <td>0.486912</td>\n",
       "      <td>0.125152</td>\n",
       "      <td>0.146865</td>\n",
       "      <td>0.143517</td>\n",
       "      <td>1.627181</td>\n",
       "      <td>0</td>\n",
       "      <td>0</td>\n",
       "      <td>0</td>\n",
       "      <td>0</td>\n",
       "    </tr>\n",
       "    <tr>\n",
       "      <th>1</th>\n",
       "      <td>0.616481</td>\n",
       "      <td>0.841974</td>\n",
       "      <td>0.388584</td>\n",
       "      <td>2.862575</td>\n",
       "      <td>5.194163</td>\n",
       "      <td>0.223433</td>\n",
       "      <td>0.167725</td>\n",
       "      <td>3.648240</td>\n",
       "      <td>0.221030</td>\n",
       "      <td>1.565150</td>\n",
       "      <td>...</td>\n",
       "      <td>0.143084</td>\n",
       "      <td>0.467833</td>\n",
       "      <td>0.112857</td>\n",
       "      <td>0.161132</td>\n",
       "      <td>0.145719</td>\n",
       "      <td>1.562096</td>\n",
       "      <td>0</td>\n",
       "      <td>0</td>\n",
       "      <td>0</td>\n",
       "      <td>0</td>\n",
       "    </tr>\n",
       "    <tr>\n",
       "      <th>2</th>\n",
       "      <td>0.637424</td>\n",
       "      <td>0.852882</td>\n",
       "      <td>0.400561</td>\n",
       "      <td>2.968155</td>\n",
       "      <td>5.350820</td>\n",
       "      <td>0.208790</td>\n",
       "      <td>0.173261</td>\n",
       "      <td>3.814545</td>\n",
       "      <td>0.222300</td>\n",
       "      <td>1.741732</td>\n",
       "      <td>...</td>\n",
       "      <td>0.147673</td>\n",
       "      <td>0.462501</td>\n",
       "      <td>0.116433</td>\n",
       "      <td>0.160594</td>\n",
       "      <td>0.142879</td>\n",
       "      <td>1.571868</td>\n",
       "      <td>0</td>\n",
       "      <td>0</td>\n",
       "      <td>0</td>\n",
       "      <td>0</td>\n",
       "    </tr>\n",
       "    <tr>\n",
       "      <th>3</th>\n",
       "      <td>0.576815</td>\n",
       "      <td>0.755390</td>\n",
       "      <td>0.348346</td>\n",
       "      <td>2.624901</td>\n",
       "      <td>4.727509</td>\n",
       "      <td>0.205892</td>\n",
       "      <td>0.161192</td>\n",
       "      <td>3.778530</td>\n",
       "      <td>0.194153</td>\n",
       "      <td>1.505475</td>\n",
       "      <td>...</td>\n",
       "      <td>0.121290</td>\n",
       "      <td>0.479110</td>\n",
       "      <td>0.102831</td>\n",
       "      <td>0.144238</td>\n",
       "      <td>0.141681</td>\n",
       "      <td>1.646608</td>\n",
       "      <td>0</td>\n",
       "      <td>0</td>\n",
       "      <td>0</td>\n",
       "      <td>0</td>\n",
       "    </tr>\n",
       "    <tr>\n",
       "      <th>4</th>\n",
       "      <td>0.542545</td>\n",
       "      <td>0.757917</td>\n",
       "      <td>0.350051</td>\n",
       "      <td>2.634509</td>\n",
       "      <td>4.735602</td>\n",
       "      <td>0.210526</td>\n",
       "      <td>0.165671</td>\n",
       "      <td>3.871971</td>\n",
       "      <td>0.194297</td>\n",
       "      <td>1.531613</td>\n",
       "      <td>...</td>\n",
       "      <td>0.142617</td>\n",
       "      <td>0.438354</td>\n",
       "      <td>0.110614</td>\n",
       "      <td>0.155667</td>\n",
       "      <td>0.146408</td>\n",
       "      <td>1.607631</td>\n",
       "      <td>0</td>\n",
       "      <td>0</td>\n",
       "      <td>0</td>\n",
       "      <td>0</td>\n",
       "    </tr>\n",
       "  </tbody>\n",
       "</table>\n",
       "<p>5 rows × 81 columns</p>\n",
       "</div>"
      ],
      "text/plain": [
       "   DYRK1A_N   ITSN1_N    BDNF_N     NR1_N    NR2A_N    pAKT_N   pBRAF_N  \\\n",
       "0  0.649781  0.828696  0.405862  2.921435  5.167979  0.207174  0.176640   \n",
       "1  0.616481  0.841974  0.388584  2.862575  5.194163  0.223433  0.167725   \n",
       "2  0.637424  0.852882  0.400561  2.968155  5.350820  0.208790  0.173261   \n",
       "3  0.576815  0.755390  0.348346  2.624901  4.727509  0.205892  0.161192   \n",
       "4  0.542545  0.757917  0.350051  2.634509  4.735602  0.210526  0.165671   \n",
       "\n",
       "   pCAMKII_N   pCREB_N    pELK_N  ...   pCFOS_N     SYP_N  H3AcK18_N  \\\n",
       "0   3.728084  0.239283  1.666579  ...  0.129363  0.486912   0.125152   \n",
       "1   3.648240  0.221030  1.565150  ...  0.143084  0.467833   0.112857   \n",
       "2   3.814545  0.222300  1.741732  ...  0.147673  0.462501   0.116433   \n",
       "3   3.778530  0.194153  1.505475  ...  0.121290  0.479110   0.102831   \n",
       "4   3.871971  0.194297  1.531613  ...  0.142617  0.438354   0.110614   \n",
       "\n",
       "     EGR1_N  H3MeK4_N    CaNA_N  Genotype  Treatment  Behavior  class  \n",
       "0  0.146865  0.143517  1.627181         0          0         0      0  \n",
       "1  0.161132  0.145719  1.562096         0          0         0      0  \n",
       "2  0.160594  0.142879  1.571868         0          0         0      0  \n",
       "3  0.144238  0.141681  1.646608         0          0         0      0  \n",
       "4  0.155667  0.146408  1.607631         0          0         0      0  \n",
       "\n",
       "[5 rows x 81 columns]"
      ]
     },
     "execution_count": 18,
     "metadata": {},
     "output_type": "execute_result"
    }
   ],
   "source": [
    "#lambda x: d[x.name].fit_transform(x) if x.name in list_text else x\n",
    "#Solo se aplica d[x.name].fit_transform(x) la transformacion \n",
    "#si el nombre se encuentra en la lista(if x.name in list_text)\n",
    "#de lo contrario no se realiza ninguna transformacion(x)\n",
    "# Codificar las variables\n",
    "fit=df_python.apply(lambda x: d[x.name].fit_transform(x) if x.name in list_text else x)\n",
    "# Invertir el codificado(Necesario para entrenar al fit si quieres invertir el cambio\n",
    "fit.apply(lambda x: d[x.name].inverse_transform(x) if x.name in list_text else x)\n",
    "# Usando el diccionario para etiquetar datos futuros\n",
    "df_python=df_python.apply(lambda x: d[x.name].transform(x) if x.name in list_text else x)\n",
    "df_python.head()"
   ]
  },
  {
   "cell_type": "code",
   "execution_count": 19,
   "metadata": {},
   "outputs": [
    {
     "data": {
      "text/html": [
       "<div>\n",
       "<style scoped>\n",
       "    .dataframe tbody tr th:only-of-type {\n",
       "        vertical-align: middle;\n",
       "    }\n",
       "\n",
       "    .dataframe tbody tr th {\n",
       "        vertical-align: top;\n",
       "    }\n",
       "\n",
       "    .dataframe thead th {\n",
       "        text-align: right;\n",
       "    }\n",
       "</style>\n",
       "<table border=\"1\" class=\"dataframe\">\n",
       "  <thead>\n",
       "    <tr style=\"text-align: right;\">\n",
       "      <th></th>\n",
       "      <th>DYRK1A_N</th>\n",
       "      <th>ITSN1_N</th>\n",
       "      <th>BDNF_N</th>\n",
       "      <th>NR1_N</th>\n",
       "      <th>NR2A_N</th>\n",
       "      <th>pAKT_N</th>\n",
       "      <th>pBRAF_N</th>\n",
       "      <th>pCAMKII_N</th>\n",
       "      <th>pCREB_N</th>\n",
       "      <th>pELK_N</th>\n",
       "      <th>...</th>\n",
       "      <th>pCFOS_N</th>\n",
       "      <th>SYP_N</th>\n",
       "      <th>H3AcK18_N</th>\n",
       "      <th>EGR1_N</th>\n",
       "      <th>H3MeK4_N</th>\n",
       "      <th>CaNA_N</th>\n",
       "      <th>Genotype</th>\n",
       "      <th>Treatment</th>\n",
       "      <th>Behavior</th>\n",
       "      <th>class</th>\n",
       "    </tr>\n",
       "  </thead>\n",
       "  <tbody>\n",
       "    <tr>\n",
       "      <th>547</th>\n",
       "      <td>0.382149</td>\n",
       "      <td>0.595792</td>\n",
       "      <td>0.399101</td>\n",
       "      <td>2.527574</td>\n",
       "      <td>4.629493</td>\n",
       "      <td>0.317810</td>\n",
       "      <td>0.213235</td>\n",
       "      <td>6.219567</td>\n",
       "      <td>0.232639</td>\n",
       "      <td>1.495507</td>\n",
       "      <td>...</td>\n",
       "      <td>0.122308</td>\n",
       "      <td>0.507017</td>\n",
       "      <td>0.172393</td>\n",
       "      <td>0.200097</td>\n",
       "      <td>0.221994</td>\n",
       "      <td>1.141423</td>\n",
       "      <td>1</td>\n",
       "      <td>1</td>\n",
       "      <td>1</td>\n",
       "      <td>7</td>\n",
       "    </tr>\n",
       "    <tr>\n",
       "      <th>548</th>\n",
       "      <td>0.387947</td>\n",
       "      <td>0.586510</td>\n",
       "      <td>0.431650</td>\n",
       "      <td>2.527041</td>\n",
       "      <td>4.781082</td>\n",
       "      <td>0.316903</td>\n",
       "      <td>0.222111</td>\n",
       "      <td>6.307723</td>\n",
       "      <td>0.239074</td>\n",
       "      <td>1.594492</td>\n",
       "      <td>...</td>\n",
       "      <td>0.121216</td>\n",
       "      <td>0.492432</td>\n",
       "      <td>0.177319</td>\n",
       "      <td>0.207593</td>\n",
       "      <td>0.235223</td>\n",
       "      <td>1.104757</td>\n",
       "      <td>1</td>\n",
       "      <td>1</td>\n",
       "      <td>1</td>\n",
       "      <td>7</td>\n",
       "    </tr>\n",
       "    <tr>\n",
       "      <th>549</th>\n",
       "      <td>0.343695</td>\n",
       "      <td>0.562547</td>\n",
       "      <td>0.361243</td>\n",
       "      <td>2.412885</td>\n",
       "      <td>3.949361</td>\n",
       "      <td>0.330158</td>\n",
       "      <td>0.225620</td>\n",
       "      <td>6.060165</td>\n",
       "      <td>0.254951</td>\n",
       "      <td>1.625219</td>\n",
       "      <td>...</td>\n",
       "      <td>0.121936</td>\n",
       "      <td>0.490258</td>\n",
       "      <td>0.169076</td>\n",
       "      <td>0.182590</td>\n",
       "      <td>0.243715</td>\n",
       "      <td>1.104494</td>\n",
       "      <td>1</td>\n",
       "      <td>1</td>\n",
       "      <td>1</td>\n",
       "      <td>7</td>\n",
       "    </tr>\n",
       "    <tr>\n",
       "      <th>550</th>\n",
       "      <td>0.346594</td>\n",
       "      <td>0.551467</td>\n",
       "      <td>0.390353</td>\n",
       "      <td>2.445052</td>\n",
       "      <td>4.236201</td>\n",
       "      <td>0.343610</td>\n",
       "      <td>0.229239</td>\n",
       "      <td>6.023371</td>\n",
       "      <td>0.240676</td>\n",
       "      <td>1.674043</td>\n",
       "      <td>...</td>\n",
       "      <td>0.136900</td>\n",
       "      <td>0.502282</td>\n",
       "      <td>0.180016</td>\n",
       "      <td>0.199685</td>\n",
       "      <td>0.269866</td>\n",
       "      <td>1.136585</td>\n",
       "      <td>1</td>\n",
       "      <td>1</td>\n",
       "      <td>1</td>\n",
       "      <td>7</td>\n",
       "    </tr>\n",
       "    <tr>\n",
       "      <th>551</th>\n",
       "      <td>0.365907</td>\n",
       "      <td>0.552861</td>\n",
       "      <td>0.386275</td>\n",
       "      <td>2.473812</td>\n",
       "      <td>4.347236</td>\n",
       "      <td>0.353783</td>\n",
       "      <td>0.232784</td>\n",
       "      <td>6.085354</td>\n",
       "      <td>0.242726</td>\n",
       "      <td>1.677740</td>\n",
       "      <td>...</td>\n",
       "      <td>0.130069</td>\n",
       "      <td>0.487991</td>\n",
       "      <td>0.194635</td>\n",
       "      <td>0.220056</td>\n",
       "      <td>0.242514</td>\n",
       "      <td>1.085621</td>\n",
       "      <td>1</td>\n",
       "      <td>1</td>\n",
       "      <td>1</td>\n",
       "      <td>7</td>\n",
       "    </tr>\n",
       "  </tbody>\n",
       "</table>\n",
       "<p>5 rows × 81 columns</p>\n",
       "</div>"
      ],
      "text/plain": [
       "     DYRK1A_N   ITSN1_N    BDNF_N     NR1_N    NR2A_N    pAKT_N   pBRAF_N  \\\n",
       "547  0.382149  0.595792  0.399101  2.527574  4.629493  0.317810  0.213235   \n",
       "548  0.387947  0.586510  0.431650  2.527041  4.781082  0.316903  0.222111   \n",
       "549  0.343695  0.562547  0.361243  2.412885  3.949361  0.330158  0.225620   \n",
       "550  0.346594  0.551467  0.390353  2.445052  4.236201  0.343610  0.229239   \n",
       "551  0.365907  0.552861  0.386275  2.473812  4.347236  0.353783  0.232784   \n",
       "\n",
       "     pCAMKII_N   pCREB_N    pELK_N  ...   pCFOS_N     SYP_N  H3AcK18_N  \\\n",
       "547   6.219567  0.232639  1.495507  ...  0.122308  0.507017   0.172393   \n",
       "548   6.307723  0.239074  1.594492  ...  0.121216  0.492432   0.177319   \n",
       "549   6.060165  0.254951  1.625219  ...  0.121936  0.490258   0.169076   \n",
       "550   6.023371  0.240676  1.674043  ...  0.136900  0.502282   0.180016   \n",
       "551   6.085354  0.242726  1.677740  ...  0.130069  0.487991   0.194635   \n",
       "\n",
       "       EGR1_N  H3MeK4_N    CaNA_N  Genotype  Treatment  Behavior  class  \n",
       "547  0.200097  0.221994  1.141423         1          1         1      7  \n",
       "548  0.207593  0.235223  1.104757         1          1         1      7  \n",
       "549  0.182590  0.243715  1.104494         1          1         1      7  \n",
       "550  0.199685  0.269866  1.136585         1          1         1      7  \n",
       "551  0.220056  0.242514  1.085621         1          1         1      7  \n",
       "\n",
       "[5 rows x 81 columns]"
      ]
     },
     "execution_count": 19,
     "metadata": {},
     "output_type": "execute_result"
    }
   ],
   "source": [
    "df_python.tail()"
   ]
  },
  {
   "cell_type": "code",
   "execution_count": 20,
   "metadata": {},
   "outputs": [
    {
     "data": {
      "text/html": [
       "<div>\n",
       "<style scoped>\n",
       "    .dataframe tbody tr th:only-of-type {\n",
       "        vertical-align: middle;\n",
       "    }\n",
       "\n",
       "    .dataframe tbody tr th {\n",
       "        vertical-align: top;\n",
       "    }\n",
       "\n",
       "    .dataframe thead th {\n",
       "        text-align: right;\n",
       "    }\n",
       "</style>\n",
       "<table border=\"1\" class=\"dataframe\">\n",
       "  <thead>\n",
       "    <tr style=\"text-align: right;\">\n",
       "      <th></th>\n",
       "      <th>DYRK1A_N</th>\n",
       "      <th>ITSN1_N</th>\n",
       "      <th>BDNF_N</th>\n",
       "      <th>NR1_N</th>\n",
       "      <th>NR2A_N</th>\n",
       "      <th>pAKT_N</th>\n",
       "      <th>pBRAF_N</th>\n",
       "      <th>pCAMKII_N</th>\n",
       "      <th>pCREB_N</th>\n",
       "      <th>pELK_N</th>\n",
       "      <th>...</th>\n",
       "      <th>pCFOS_N</th>\n",
       "      <th>SYP_N</th>\n",
       "      <th>H3AcK18_N</th>\n",
       "      <th>EGR1_N</th>\n",
       "      <th>H3MeK4_N</th>\n",
       "      <th>CaNA_N</th>\n",
       "      <th>Genotype</th>\n",
       "      <th>Treatment</th>\n",
       "      <th>Behavior</th>\n",
       "      <th>class</th>\n",
       "    </tr>\n",
       "  </thead>\n",
       "  <tbody>\n",
       "    <tr>\n",
       "      <th>0</th>\n",
       "      <td>0.649781</td>\n",
       "      <td>0.828696</td>\n",
       "      <td>0.405862</td>\n",
       "      <td>2.921435</td>\n",
       "      <td>5.167979</td>\n",
       "      <td>0.207174</td>\n",
       "      <td>0.176640</td>\n",
       "      <td>3.728084</td>\n",
       "      <td>0.239283</td>\n",
       "      <td>1.666579</td>\n",
       "      <td>...</td>\n",
       "      <td>0.129363</td>\n",
       "      <td>0.486912</td>\n",
       "      <td>0.125152</td>\n",
       "      <td>0.146865</td>\n",
       "      <td>0.143517</td>\n",
       "      <td>1.627181</td>\n",
       "      <td>0</td>\n",
       "      <td>0</td>\n",
       "      <td>0</td>\n",
       "      <td>0</td>\n",
       "    </tr>\n",
       "    <tr>\n",
       "      <th>1</th>\n",
       "      <td>0.616481</td>\n",
       "      <td>0.841974</td>\n",
       "      <td>0.388584</td>\n",
       "      <td>2.862575</td>\n",
       "      <td>5.194163</td>\n",
       "      <td>0.223433</td>\n",
       "      <td>0.167725</td>\n",
       "      <td>3.648240</td>\n",
       "      <td>0.221030</td>\n",
       "      <td>1.565150</td>\n",
       "      <td>...</td>\n",
       "      <td>0.143084</td>\n",
       "      <td>0.467833</td>\n",
       "      <td>0.112857</td>\n",
       "      <td>0.161132</td>\n",
       "      <td>0.145719</td>\n",
       "      <td>1.562096</td>\n",
       "      <td>0</td>\n",
       "      <td>0</td>\n",
       "      <td>0</td>\n",
       "      <td>0</td>\n",
       "    </tr>\n",
       "    <tr>\n",
       "      <th>2</th>\n",
       "      <td>0.637424</td>\n",
       "      <td>0.852882</td>\n",
       "      <td>0.400561</td>\n",
       "      <td>2.968155</td>\n",
       "      <td>5.350820</td>\n",
       "      <td>0.208790</td>\n",
       "      <td>0.173261</td>\n",
       "      <td>3.814545</td>\n",
       "      <td>0.222300</td>\n",
       "      <td>1.741732</td>\n",
       "      <td>...</td>\n",
       "      <td>0.147673</td>\n",
       "      <td>0.462501</td>\n",
       "      <td>0.116433</td>\n",
       "      <td>0.160594</td>\n",
       "      <td>0.142879</td>\n",
       "      <td>1.571868</td>\n",
       "      <td>0</td>\n",
       "      <td>0</td>\n",
       "      <td>0</td>\n",
       "      <td>0</td>\n",
       "    </tr>\n",
       "    <tr>\n",
       "      <th>3</th>\n",
       "      <td>0.576815</td>\n",
       "      <td>0.755390</td>\n",
       "      <td>0.348346</td>\n",
       "      <td>2.624901</td>\n",
       "      <td>4.727509</td>\n",
       "      <td>0.205892</td>\n",
       "      <td>0.161192</td>\n",
       "      <td>3.778530</td>\n",
       "      <td>0.194153</td>\n",
       "      <td>1.505475</td>\n",
       "      <td>...</td>\n",
       "      <td>0.121290</td>\n",
       "      <td>0.479110</td>\n",
       "      <td>0.102831</td>\n",
       "      <td>0.144238</td>\n",
       "      <td>0.141681</td>\n",
       "      <td>1.646608</td>\n",
       "      <td>0</td>\n",
       "      <td>0</td>\n",
       "      <td>0</td>\n",
       "      <td>0</td>\n",
       "    </tr>\n",
       "    <tr>\n",
       "      <th>4</th>\n",
       "      <td>0.542545</td>\n",
       "      <td>0.757917</td>\n",
       "      <td>0.350051</td>\n",
       "      <td>2.634509</td>\n",
       "      <td>4.735602</td>\n",
       "      <td>0.210526</td>\n",
       "      <td>0.165671</td>\n",
       "      <td>3.871971</td>\n",
       "      <td>0.194297</td>\n",
       "      <td>1.531613</td>\n",
       "      <td>...</td>\n",
       "      <td>0.142617</td>\n",
       "      <td>0.438354</td>\n",
       "      <td>0.110614</td>\n",
       "      <td>0.155667</td>\n",
       "      <td>0.146408</td>\n",
       "      <td>1.607631</td>\n",
       "      <td>0</td>\n",
       "      <td>0</td>\n",
       "      <td>0</td>\n",
       "      <td>0</td>\n",
       "    </tr>\n",
       "    <tr>\n",
       "      <th>...</th>\n",
       "      <td>...</td>\n",
       "      <td>...</td>\n",
       "      <td>...</td>\n",
       "      <td>...</td>\n",
       "      <td>...</td>\n",
       "      <td>...</td>\n",
       "      <td>...</td>\n",
       "      <td>...</td>\n",
       "      <td>...</td>\n",
       "      <td>...</td>\n",
       "      <td>...</td>\n",
       "      <td>...</td>\n",
       "      <td>...</td>\n",
       "      <td>...</td>\n",
       "      <td>...</td>\n",
       "      <td>...</td>\n",
       "      <td>...</td>\n",
       "      <td>...</td>\n",
       "      <td>...</td>\n",
       "      <td>...</td>\n",
       "      <td>...</td>\n",
       "    </tr>\n",
       "    <tr>\n",
       "      <th>547</th>\n",
       "      <td>0.382149</td>\n",
       "      <td>0.595792</td>\n",
       "      <td>0.399101</td>\n",
       "      <td>2.527574</td>\n",
       "      <td>4.629493</td>\n",
       "      <td>0.317810</td>\n",
       "      <td>0.213235</td>\n",
       "      <td>6.219567</td>\n",
       "      <td>0.232639</td>\n",
       "      <td>1.495507</td>\n",
       "      <td>...</td>\n",
       "      <td>0.122308</td>\n",
       "      <td>0.507017</td>\n",
       "      <td>0.172393</td>\n",
       "      <td>0.200097</td>\n",
       "      <td>0.221994</td>\n",
       "      <td>1.141423</td>\n",
       "      <td>1</td>\n",
       "      <td>1</td>\n",
       "      <td>1</td>\n",
       "      <td>7</td>\n",
       "    </tr>\n",
       "    <tr>\n",
       "      <th>548</th>\n",
       "      <td>0.387947</td>\n",
       "      <td>0.586510</td>\n",
       "      <td>0.431650</td>\n",
       "      <td>2.527041</td>\n",
       "      <td>4.781082</td>\n",
       "      <td>0.316903</td>\n",
       "      <td>0.222111</td>\n",
       "      <td>6.307723</td>\n",
       "      <td>0.239074</td>\n",
       "      <td>1.594492</td>\n",
       "      <td>...</td>\n",
       "      <td>0.121216</td>\n",
       "      <td>0.492432</td>\n",
       "      <td>0.177319</td>\n",
       "      <td>0.207593</td>\n",
       "      <td>0.235223</td>\n",
       "      <td>1.104757</td>\n",
       "      <td>1</td>\n",
       "      <td>1</td>\n",
       "      <td>1</td>\n",
       "      <td>7</td>\n",
       "    </tr>\n",
       "    <tr>\n",
       "      <th>549</th>\n",
       "      <td>0.343695</td>\n",
       "      <td>0.562547</td>\n",
       "      <td>0.361243</td>\n",
       "      <td>2.412885</td>\n",
       "      <td>3.949361</td>\n",
       "      <td>0.330158</td>\n",
       "      <td>0.225620</td>\n",
       "      <td>6.060165</td>\n",
       "      <td>0.254951</td>\n",
       "      <td>1.625219</td>\n",
       "      <td>...</td>\n",
       "      <td>0.121936</td>\n",
       "      <td>0.490258</td>\n",
       "      <td>0.169076</td>\n",
       "      <td>0.182590</td>\n",
       "      <td>0.243715</td>\n",
       "      <td>1.104494</td>\n",
       "      <td>1</td>\n",
       "      <td>1</td>\n",
       "      <td>1</td>\n",
       "      <td>7</td>\n",
       "    </tr>\n",
       "    <tr>\n",
       "      <th>550</th>\n",
       "      <td>0.346594</td>\n",
       "      <td>0.551467</td>\n",
       "      <td>0.390353</td>\n",
       "      <td>2.445052</td>\n",
       "      <td>4.236201</td>\n",
       "      <td>0.343610</td>\n",
       "      <td>0.229239</td>\n",
       "      <td>6.023371</td>\n",
       "      <td>0.240676</td>\n",
       "      <td>1.674043</td>\n",
       "      <td>...</td>\n",
       "      <td>0.136900</td>\n",
       "      <td>0.502282</td>\n",
       "      <td>0.180016</td>\n",
       "      <td>0.199685</td>\n",
       "      <td>0.269866</td>\n",
       "      <td>1.136585</td>\n",
       "      <td>1</td>\n",
       "      <td>1</td>\n",
       "      <td>1</td>\n",
       "      <td>7</td>\n",
       "    </tr>\n",
       "    <tr>\n",
       "      <th>551</th>\n",
       "      <td>0.365907</td>\n",
       "      <td>0.552861</td>\n",
       "      <td>0.386275</td>\n",
       "      <td>2.473812</td>\n",
       "      <td>4.347236</td>\n",
       "      <td>0.353783</td>\n",
       "      <td>0.232784</td>\n",
       "      <td>6.085354</td>\n",
       "      <td>0.242726</td>\n",
       "      <td>1.677740</td>\n",
       "      <td>...</td>\n",
       "      <td>0.130069</td>\n",
       "      <td>0.487991</td>\n",
       "      <td>0.194635</td>\n",
       "      <td>0.220056</td>\n",
       "      <td>0.242514</td>\n",
       "      <td>1.085621</td>\n",
       "      <td>1</td>\n",
       "      <td>1</td>\n",
       "      <td>1</td>\n",
       "      <td>7</td>\n",
       "    </tr>\n",
       "  </tbody>\n",
       "</table>\n",
       "<p>552 rows × 81 columns</p>\n",
       "</div>"
      ],
      "text/plain": [
       "     DYRK1A_N   ITSN1_N    BDNF_N     NR1_N    NR2A_N    pAKT_N   pBRAF_N  \\\n",
       "0    0.649781  0.828696  0.405862  2.921435  5.167979  0.207174  0.176640   \n",
       "1    0.616481  0.841974  0.388584  2.862575  5.194163  0.223433  0.167725   \n",
       "2    0.637424  0.852882  0.400561  2.968155  5.350820  0.208790  0.173261   \n",
       "3    0.576815  0.755390  0.348346  2.624901  4.727509  0.205892  0.161192   \n",
       "4    0.542545  0.757917  0.350051  2.634509  4.735602  0.210526  0.165671   \n",
       "..        ...       ...       ...       ...       ...       ...       ...   \n",
       "547  0.382149  0.595792  0.399101  2.527574  4.629493  0.317810  0.213235   \n",
       "548  0.387947  0.586510  0.431650  2.527041  4.781082  0.316903  0.222111   \n",
       "549  0.343695  0.562547  0.361243  2.412885  3.949361  0.330158  0.225620   \n",
       "550  0.346594  0.551467  0.390353  2.445052  4.236201  0.343610  0.229239   \n",
       "551  0.365907  0.552861  0.386275  2.473812  4.347236  0.353783  0.232784   \n",
       "\n",
       "     pCAMKII_N   pCREB_N    pELK_N  ...   pCFOS_N     SYP_N  H3AcK18_N  \\\n",
       "0     3.728084  0.239283  1.666579  ...  0.129363  0.486912   0.125152   \n",
       "1     3.648240  0.221030  1.565150  ...  0.143084  0.467833   0.112857   \n",
       "2     3.814545  0.222300  1.741732  ...  0.147673  0.462501   0.116433   \n",
       "3     3.778530  0.194153  1.505475  ...  0.121290  0.479110   0.102831   \n",
       "4     3.871971  0.194297  1.531613  ...  0.142617  0.438354   0.110614   \n",
       "..         ...       ...       ...  ...       ...       ...        ...   \n",
       "547   6.219567  0.232639  1.495507  ...  0.122308  0.507017   0.172393   \n",
       "548   6.307723  0.239074  1.594492  ...  0.121216  0.492432   0.177319   \n",
       "549   6.060165  0.254951  1.625219  ...  0.121936  0.490258   0.169076   \n",
       "550   6.023371  0.240676  1.674043  ...  0.136900  0.502282   0.180016   \n",
       "551   6.085354  0.242726  1.677740  ...  0.130069  0.487991   0.194635   \n",
       "\n",
       "       EGR1_N  H3MeK4_N    CaNA_N  Genotype  Treatment  Behavior  class  \n",
       "0    0.146865  0.143517  1.627181         0          0         0      0  \n",
       "1    0.161132  0.145719  1.562096         0          0         0      0  \n",
       "2    0.160594  0.142879  1.571868         0          0         0      0  \n",
       "3    0.144238  0.141681  1.646608         0          0         0      0  \n",
       "4    0.155667  0.146408  1.607631         0          0         0      0  \n",
       "..        ...       ...       ...       ...        ...       ...    ...  \n",
       "547  0.200097  0.221994  1.141423         1          1         1      7  \n",
       "548  0.207593  0.235223  1.104757         1          1         1      7  \n",
       "549  0.182590  0.243715  1.104494         1          1         1      7  \n",
       "550  0.199685  0.269866  1.136585         1          1         1      7  \n",
       "551  0.220056  0.242514  1.085621         1          1         1      7  \n",
       "\n",
       "[552 rows x 81 columns]"
      ]
     },
     "execution_count": 20,
     "metadata": {},
     "output_type": "execute_result"
    }
   ],
   "source": [
    "fit"
   ]
  },
  {
   "cell_type": "code",
   "execution_count": 21,
   "metadata": {},
   "outputs": [
    {
     "data": {
      "text/plain": [
       "['Memantine', 'Saline']"
      ]
     },
     "execution_count": 21,
     "metadata": {},
     "output_type": "execute_result"
    }
   ],
   "source": [
    "#Como obtener cada clase de la variable \"Treatment\"\n",
    "class_treatment=list(d['Treatment'].classes_)\n",
    "class_treatment"
   ]
  },
  {
   "cell_type": "code",
   "execution_count": 22,
   "metadata": {},
   "outputs": [
    {
     "data": {
      "text/plain": [
       "array([0, 1], dtype=int64)"
      ]
     },
     "execution_count": 22,
     "metadata": {},
     "output_type": "execute_result"
    }
   ],
   "source": [
    "#El numero correspondiente de cada clase de la lista \"Treatment\"\n",
    "d['Treatment'].transform(class_treatment)"
   ]
  },
  {
   "cell_type": "code",
   "execution_count": null,
   "metadata": {},
   "outputs": [],
   "source": []
  },
  {
   "cell_type": "code",
   "execution_count": 23,
   "metadata": {},
   "outputs": [],
   "source": [
    "x = df_python.values"
   ]
  },
  {
   "cell_type": "code",
   "execution_count": 24,
   "metadata": {},
   "outputs": [
    {
     "data": {
      "text/plain": [
       "['DYRK1A_N',\n",
       " 'ITSN1_N',\n",
       " 'BDNF_N',\n",
       " 'NR1_N',\n",
       " 'NR2A_N',\n",
       " 'pAKT_N',\n",
       " 'pBRAF_N',\n",
       " 'pCAMKII_N',\n",
       " 'pCREB_N',\n",
       " 'pELK_N',\n",
       " 'pERK_N',\n",
       " 'pJNK_N',\n",
       " 'PKCA_N',\n",
       " 'pMEK_N',\n",
       " 'pNR1_N',\n",
       " 'pNR2A_N',\n",
       " 'pNR2B_N',\n",
       " 'pPKCAB_N',\n",
       " 'pRSK_N',\n",
       " 'AKT_N',\n",
       " 'BRAF_N',\n",
       " 'CAMKII_N',\n",
       " 'CREB_N',\n",
       " 'ELK_N',\n",
       " 'ERK_N',\n",
       " 'GSK3B_N',\n",
       " 'JNK_N',\n",
       " 'MEK_N',\n",
       " 'TRKA_N',\n",
       " 'RSK_N',\n",
       " 'APP_N',\n",
       " 'Bcatenin_N',\n",
       " 'SOD1_N',\n",
       " 'MTOR_N',\n",
       " 'P38_N',\n",
       " 'pMTOR_N',\n",
       " 'DSCR1_N',\n",
       " 'AMPKA_N',\n",
       " 'NR2B_N',\n",
       " 'pNUMB_N',\n",
       " 'RAPTOR_N',\n",
       " 'TIAM1_N',\n",
       " 'pP70S6_N',\n",
       " 'NUMB_N',\n",
       " 'P70S6_N',\n",
       " 'pGSK3B_N',\n",
       " 'pPKCG_N',\n",
       " 'CDK5_N',\n",
       " 'S6_N',\n",
       " 'ADARB1_N',\n",
       " 'AcetylH3K9_N',\n",
       " 'RRP1_N',\n",
       " 'BAX_N',\n",
       " 'ARC_N',\n",
       " 'ERBB4_N',\n",
       " 'nNOS_N',\n",
       " 'Tau_N',\n",
       " 'GFAP_N',\n",
       " 'GluR3_N',\n",
       " 'GluR4_N',\n",
       " 'IL1B_N',\n",
       " 'P3525_N',\n",
       " 'pCASP9_N',\n",
       " 'PSD95_N',\n",
       " 'SNCA_N',\n",
       " 'Ubiquitin_N',\n",
       " 'pGSK3B_Tyr216_N',\n",
       " 'SHH_N',\n",
       " 'BAD_N',\n",
       " 'BCL2_N',\n",
       " 'pS6_N',\n",
       " 'pCFOS_N',\n",
       " 'SYP_N',\n",
       " 'H3AcK18_N',\n",
       " 'EGR1_N',\n",
       " 'H3MeK4_N',\n",
       " 'CaNA_N',\n",
       " 'Genotype',\n",
       " 'Treatment',\n",
       " 'Behavior',\n",
       " 'class']"
      ]
     },
     "execution_count": 24,
     "metadata": {},
     "output_type": "execute_result"
    }
   ],
   "source": [
    "#OJO: cuando se está trabajando con h2o\n",
    "predictors = df_medicine.col_names #nombres de las variables\n",
    "predictors"
   ]
  },
  {
   "cell_type": "code",
   "execution_count": 25,
   "metadata": {},
   "outputs": [],
   "source": [
    "train, valid, test = df_medicine.split_frame(ratios=[.7,.15], seed=1234) #generamos datos de entrenamiento y texto"
   ]
  },
  {
   "cell_type": "code",
   "execution_count": 26,
   "metadata": {},
   "outputs": [
    {
     "data": {
      "text/plain": [
       "552"
      ]
     },
     "execution_count": 26,
     "metadata": {},
     "output_type": "execute_result"
    }
   ],
   "source": [
    "len(df_medicine)"
   ]
  },
  {
   "cell_type": "code",
   "execution_count": 63,
   "metadata": {},
   "outputs": [
    {
     "data": {
      "text/plain": [
       "398"
      ]
     },
     "execution_count": 63,
     "metadata": {},
     "output_type": "execute_result"
    }
   ],
   "source": [
    "len(train)"
   ]
  },
  {
   "cell_type": "code",
   "execution_count": 27,
   "metadata": {},
   "outputs": [
    {
     "data": {
      "text/plain": [
       "67"
      ]
     },
     "execution_count": 27,
     "metadata": {},
     "output_type": "execute_result"
    }
   ],
   "source": [
    "len(valid)"
   ]
  },
  {
   "cell_type": "code",
   "execution_count": 28,
   "metadata": {},
   "outputs": [
    {
     "data": {
      "text/plain": [
       "87"
      ]
     },
     "execution_count": 28,
     "metadata": {},
     "output_type": "execute_result"
    }
   ],
   "source": [
    "len(test)"
   ]
  },
  {
   "cell_type": "code",
   "execution_count": 29,
   "metadata": {},
   "outputs": [],
   "source": [
    "encoding = \"one_hot_explicit\""
   ]
  },
  {
   "cell_type": "code",
   "execution_count": 31,
   "metadata": {},
   "outputs": [],
   "source": [
    "from h2o.estimators.kmeans import H2OKMeansEstimator"
   ]
  },
  {
   "cell_type": "code",
   "execution_count": 32,
   "metadata": {},
   "outputs": [],
   "source": [
    "pros_km = H2OKMeansEstimator(categorical_encoding=encoding,\n",
    "                             k=3,\n",
    "                             seed=1234,\n",
    "                             max_iterations=20)"
   ]
  },
  {
   "cell_type": "code",
   "execution_count": 33,
   "metadata": {},
   "outputs": [
    {
     "name": "stdout",
     "output_type": "stream",
     "text": [
      "kmeans Model Build progress: |████████████████████████████████████████████| 100%\n"
     ]
    },
    {
     "data": {
      "text/html": [
       "<div>\n",
       "<style scoped>\n",
       "    .dataframe tbody tr th:only-of-type {\n",
       "        vertical-align: middle;\n",
       "    }\n",
       "\n",
       "    .dataframe tbody tr th {\n",
       "        vertical-align: top;\n",
       "    }\n",
       "\n",
       "    .dataframe thead th {\n",
       "        text-align: right;\n",
       "    }\n",
       "</style>\n",
       "<table border=\"1\" class=\"dataframe\">\n",
       "  <thead>\n",
       "    <tr style=\"text-align: right;\">\n",
       "      <th></th>\n",
       "      <th></th>\n",
       "      <th>timestamp</th>\n",
       "      <th>duration</th>\n",
       "      <th>iterations</th>\n",
       "      <th>number_of_reassigned_observations</th>\n",
       "      <th>within_cluster_sum_of_squares</th>\n",
       "    </tr>\n",
       "  </thead>\n",
       "  <tbody>\n",
       "    <tr>\n",
       "      <th>0</th>\n",
       "      <td></td>\n",
       "      <td>2020-09-06 16:07:46</td>\n",
       "      <td>0.037 sec</td>\n",
       "      <td>0.0</td>\n",
       "      <td>NaN</td>\n",
       "      <td>NaN</td>\n",
       "    </tr>\n",
       "    <tr>\n",
       "      <th>1</th>\n",
       "      <td></td>\n",
       "      <td>2020-09-06 16:07:46</td>\n",
       "      <td>0.141 sec</td>\n",
       "      <td>1.0</td>\n",
       "      <td>398.0</td>\n",
       "      <td>49515.464647</td>\n",
       "    </tr>\n",
       "    <tr>\n",
       "      <th>2</th>\n",
       "      <td></td>\n",
       "      <td>2020-09-06 16:07:47</td>\n",
       "      <td>0.164 sec</td>\n",
       "      <td>2.0</td>\n",
       "      <td>65.0</td>\n",
       "      <td>28452.342338</td>\n",
       "    </tr>\n",
       "    <tr>\n",
       "      <th>3</th>\n",
       "      <td></td>\n",
       "      <td>2020-09-06 16:07:47</td>\n",
       "      <td>0.170 sec</td>\n",
       "      <td>3.0</td>\n",
       "      <td>47.0</td>\n",
       "      <td>27428.392145</td>\n",
       "    </tr>\n",
       "    <tr>\n",
       "      <th>4</th>\n",
       "      <td></td>\n",
       "      <td>2020-09-06 16:07:47</td>\n",
       "      <td>0.177 sec</td>\n",
       "      <td>4.0</td>\n",
       "      <td>21.0</td>\n",
       "      <td>26681.844606</td>\n",
       "    </tr>\n",
       "    <tr>\n",
       "      <th>5</th>\n",
       "      <td></td>\n",
       "      <td>2020-09-06 16:07:47</td>\n",
       "      <td>0.182 sec</td>\n",
       "      <td>5.0</td>\n",
       "      <td>13.0</td>\n",
       "      <td>26483.441204</td>\n",
       "    </tr>\n",
       "    <tr>\n",
       "      <th>6</th>\n",
       "      <td></td>\n",
       "      <td>2020-09-06 16:07:47</td>\n",
       "      <td>0.190 sec</td>\n",
       "      <td>6.0</td>\n",
       "      <td>8.0</td>\n",
       "      <td>26402.734053</td>\n",
       "    </tr>\n",
       "    <tr>\n",
       "      <th>7</th>\n",
       "      <td></td>\n",
       "      <td>2020-09-06 16:07:47</td>\n",
       "      <td>0.197 sec</td>\n",
       "      <td>7.0</td>\n",
       "      <td>1.0</td>\n",
       "      <td>26368.938236</td>\n",
       "    </tr>\n",
       "    <tr>\n",
       "      <th>8</th>\n",
       "      <td></td>\n",
       "      <td>2020-09-06 16:07:47</td>\n",
       "      <td>0.203 sec</td>\n",
       "      <td>8.0</td>\n",
       "      <td>0.0</td>\n",
       "      <td>26366.102120</td>\n",
       "    </tr>\n",
       "  </tbody>\n",
       "</table>\n",
       "</div>"
      ],
      "text/plain": [
       "               timestamp    duration  iterations  \\\n",
       "0    2020-09-06 16:07:46   0.037 sec         0.0   \n",
       "1    2020-09-06 16:07:46   0.141 sec         1.0   \n",
       "2    2020-09-06 16:07:47   0.164 sec         2.0   \n",
       "3    2020-09-06 16:07:47   0.170 sec         3.0   \n",
       "4    2020-09-06 16:07:47   0.177 sec         4.0   \n",
       "5    2020-09-06 16:07:47   0.182 sec         5.0   \n",
       "6    2020-09-06 16:07:47   0.190 sec         6.0   \n",
       "7    2020-09-06 16:07:47   0.197 sec         7.0   \n",
       "8    2020-09-06 16:07:47   0.203 sec         8.0   \n",
       "\n",
       "   number_of_reassigned_observations  within_cluster_sum_of_squares  \n",
       "0                                NaN                            NaN  \n",
       "1                              398.0                   49515.464647  \n",
       "2                               65.0                   28452.342338  \n",
       "3                               47.0                   27428.392145  \n",
       "4                               21.0                   26681.844606  \n",
       "5                               13.0                   26483.441204  \n",
       "6                                8.0                   26402.734053  \n",
       "7                                1.0                   26368.938236  \n",
       "8                                0.0                   26366.102120  "
      ]
     },
     "execution_count": 33,
     "metadata": {},
     "output_type": "execute_result"
    }
   ],
   "source": [
    "pros_km.train(x=predictors, #etiquetas\n",
    "              training_frame=train, #datos de entranamiento\n",
    "              validation_frame=valid) #datos de validación\n",
    "pros_km.scoring_history()"
   ]
  },
  {
   "cell_type": "code",
   "execution_count": 34,
   "metadata": {},
   "outputs": [
    {
     "name": "stdout",
     "output_type": "stream",
     "text": [
      "kmeans prediction progress: |█████████████████████████████████████████████| 100%\n"
     ]
    }
   ],
   "source": [
    "predict = pros_km.predict(df_medicine)"
   ]
  },
  {
   "cell_type": "code",
   "execution_count": 35,
   "metadata": {},
   "outputs": [
    {
     "data": {
      "text/html": [
       "<div>\n",
       "<style scoped>\n",
       "    .dataframe tbody tr th:only-of-type {\n",
       "        vertical-align: middle;\n",
       "    }\n",
       "\n",
       "    .dataframe tbody tr th {\n",
       "        vertical-align: top;\n",
       "    }\n",
       "\n",
       "    .dataframe thead th {\n",
       "        text-align: right;\n",
       "    }\n",
       "</style>\n",
       "<table border=\"1\" class=\"dataframe\">\n",
       "  <thead>\n",
       "    <tr style=\"text-align: right;\">\n",
       "      <th></th>\n",
       "      <th>predict</th>\n",
       "    </tr>\n",
       "  </thead>\n",
       "  <tbody>\n",
       "    <tr>\n",
       "      <th>0</th>\n",
       "      <td>2</td>\n",
       "    </tr>\n",
       "    <tr>\n",
       "      <th>1</th>\n",
       "      <td>2</td>\n",
       "    </tr>\n",
       "    <tr>\n",
       "      <th>2</th>\n",
       "      <td>2</td>\n",
       "    </tr>\n",
       "    <tr>\n",
       "      <th>3</th>\n",
       "      <td>2</td>\n",
       "    </tr>\n",
       "    <tr>\n",
       "      <th>4</th>\n",
       "      <td>2</td>\n",
       "    </tr>\n",
       "  </tbody>\n",
       "</table>\n",
       "</div>"
      ],
      "text/plain": [
       "   predict\n",
       "0        2\n",
       "1        2\n",
       "2        2\n",
       "3        2\n",
       "4        2"
      ]
     },
     "execution_count": 35,
     "metadata": {},
     "output_type": "execute_result"
    }
   ],
   "source": [
    "from sklearn.metrics import euclidean_distances, silhouette_score\n",
    "#Convert H2Odataframe to Pandas Dataframe\n",
    "df_predict=h2o.h2o.as_list(predict, use_pandas=True)\n",
    "df_predict.head()"
   ]
  },
  {
   "cell_type": "code",
   "execution_count": 36,
   "metadata": {},
   "outputs": [],
   "source": [
    "qqq=pros_km.summary().as_data_frame"
   ]
  },
  {
   "cell_type": "code",
   "execution_count": 37,
   "metadata": {},
   "outputs": [
    {
     "name": "stdout",
     "output_type": "stream",
     "text": [
      "\n",
      "Model Summary: \n"
     ]
    },
    {
     "data": {
      "text/html": [
       "<div>\n",
       "<style scoped>\n",
       "    .dataframe tbody tr th:only-of-type {\n",
       "        vertical-align: middle;\n",
       "    }\n",
       "\n",
       "    .dataframe tbody tr th {\n",
       "        vertical-align: top;\n",
       "    }\n",
       "\n",
       "    .dataframe thead th {\n",
       "        text-align: right;\n",
       "    }\n",
       "</style>\n",
       "<table border=\"1\" class=\"dataframe\">\n",
       "  <thead>\n",
       "    <tr style=\"text-align: right;\">\n",
       "      <th></th>\n",
       "      <th></th>\n",
       "      <th>number_of_rows</th>\n",
       "      <th>number_of_clusters</th>\n",
       "      <th>number_of_categorical_columns</th>\n",
       "      <th>number_of_iterations</th>\n",
       "      <th>within_cluster_sum_of_squares</th>\n",
       "      <th>total_sum_of_squares</th>\n",
       "      <th>between_cluster_sum_of_squares</th>\n",
       "    </tr>\n",
       "  </thead>\n",
       "  <tbody>\n",
       "    <tr>\n",
       "      <th>0</th>\n",
       "      <td></td>\n",
       "      <td>398.0</td>\n",
       "      <td>3.0</td>\n",
       "      <td>0.0</td>\n",
       "      <td>8.0</td>\n",
       "      <td>26366.10212</td>\n",
       "      <td>36127.0</td>\n",
       "      <td>9760.89788</td>\n",
       "    </tr>\n",
       "  </tbody>\n",
       "</table>\n",
       "</div>"
      ],
      "text/plain": [
       "     number_of_rows  number_of_clusters  number_of_categorical_columns  \\\n",
       "0             398.0                 3.0                            0.0   \n",
       "\n",
       "   number_of_iterations  within_cluster_sum_of_squares  total_sum_of_squares  \\\n",
       "0                   8.0                    26366.10212               36127.0   \n",
       "\n",
       "   between_cluster_sum_of_squares  \n",
       "0                      9760.89788  "
      ]
     },
     "metadata": {},
     "output_type": "display_data"
    },
    {
     "data": {
      "text/plain": [
       "<bound method H2OTwoDimTable.as_data_frame of >"
      ]
     },
     "execution_count": 37,
     "metadata": {},
     "output_type": "execute_result"
    }
   ],
   "source": [
    "qqq"
   ]
  },
  {
   "cell_type": "code",
   "execution_count": 38,
   "metadata": {},
   "outputs": [
    {
     "name": "stdout",
     "output_type": "stream",
     "text": [
      "kmeans Model Build progress: |████████████████████████████████████████████| 100%\n",
      "kmeans prediction progress: |█████████████████████████████████████████████| 100%\n"
     ]
    },
    {
     "name": "stderr",
     "output_type": "stream",
     "text": [
      "C:\\Users\\SOCIAL DATA\\AppData\\Roaming\\Python\\Python37\\site-packages\\sklearn\\utils\\validation.py:724: DataConversionWarning: A column-vector y was passed when a 1d array was expected. Please change the shape of y to (n_samples, ), for example using ravel().\n",
      "  y = column_or_1d(y, warn=True)\n"
     ]
    },
    {
     "name": "stdout",
     "output_type": "stream",
     "text": [
      "kmeans Model Build progress: |████████████████████████████████████████████| 100%\n",
      "kmeans prediction progress: |█████████████████████████████████████████████| 100%\n"
     ]
    },
    {
     "name": "stderr",
     "output_type": "stream",
     "text": [
      "C:\\Users\\SOCIAL DATA\\AppData\\Roaming\\Python\\Python37\\site-packages\\sklearn\\utils\\validation.py:724: DataConversionWarning: A column-vector y was passed when a 1d array was expected. Please change the shape of y to (n_samples, ), for example using ravel().\n",
      "  y = column_or_1d(y, warn=True)\n"
     ]
    },
    {
     "name": "stdout",
     "output_type": "stream",
     "text": [
      "kmeans Model Build progress: |████████████████████████████████████████████| 100%\n",
      "kmeans prediction progress: |█████████████████████████████████████████████| 100%\n"
     ]
    },
    {
     "name": "stderr",
     "output_type": "stream",
     "text": [
      "C:\\Users\\SOCIAL DATA\\AppData\\Roaming\\Python\\Python37\\site-packages\\sklearn\\utils\\validation.py:724: DataConversionWarning: A column-vector y was passed when a 1d array was expected. Please change the shape of y to (n_samples, ), for example using ravel().\n",
      "  y = column_or_1d(y, warn=True)\n"
     ]
    },
    {
     "name": "stdout",
     "output_type": "stream",
     "text": [
      "kmeans Model Build progress: |████████████████████████████████████████████| 100%\n",
      "kmeans prediction progress: |█████████████████████████████████████████████| 100%\n"
     ]
    },
    {
     "name": "stderr",
     "output_type": "stream",
     "text": [
      "C:\\Users\\SOCIAL DATA\\AppData\\Roaming\\Python\\Python37\\site-packages\\sklearn\\utils\\validation.py:724: DataConversionWarning: A column-vector y was passed when a 1d array was expected. Please change the shape of y to (n_samples, ), for example using ravel().\n",
      "  y = column_or_1d(y, warn=True)\n"
     ]
    },
    {
     "name": "stdout",
     "output_type": "stream",
     "text": [
      "kmeans Model Build progress: |████████████████████████████████████████████| 100%\n",
      "kmeans prediction progress: |█████████████████████████████████████████████| 100%\n"
     ]
    },
    {
     "name": "stderr",
     "output_type": "stream",
     "text": [
      "C:\\Users\\SOCIAL DATA\\AppData\\Roaming\\Python\\Python37\\site-packages\\sklearn\\utils\\validation.py:724: DataConversionWarning: A column-vector y was passed when a 1d array was expected. Please change the shape of y to (n_samples, ), for example using ravel().\n",
      "  y = column_or_1d(y, warn=True)\n"
     ]
    },
    {
     "name": "stdout",
     "output_type": "stream",
     "text": [
      "kmeans Model Build progress: |████████████████████████████████████████████| 100%\n",
      "kmeans prediction progress: |█████████████████████████████████████████████| 100%\n"
     ]
    },
    {
     "name": "stderr",
     "output_type": "stream",
     "text": [
      "C:\\Users\\SOCIAL DATA\\AppData\\Roaming\\Python\\Python37\\site-packages\\sklearn\\utils\\validation.py:724: DataConversionWarning: A column-vector y was passed when a 1d array was expected. Please change the shape of y to (n_samples, ), for example using ravel().\n",
      "  y = column_or_1d(y, warn=True)\n"
     ]
    },
    {
     "name": "stdout",
     "output_type": "stream",
     "text": [
      "kmeans Model Build progress: |████████████████████████████████████████████| 100%\n",
      "kmeans prediction progress: |█████████████████████████████████████████████| 100%\n"
     ]
    },
    {
     "name": "stderr",
     "output_type": "stream",
     "text": [
      "C:\\Users\\SOCIAL DATA\\AppData\\Roaming\\Python\\Python37\\site-packages\\sklearn\\utils\\validation.py:724: DataConversionWarning: A column-vector y was passed when a 1d array was expected. Please change the shape of y to (n_samples, ), for example using ravel().\n",
      "  y = column_or_1d(y, warn=True)\n"
     ]
    },
    {
     "name": "stdout",
     "output_type": "stream",
     "text": [
      "kmeans Model Build progress: |████████████████████████████████████████████| 100%\n",
      "kmeans prediction progress: |█████████████████████████████████████████████| 100%\n"
     ]
    },
    {
     "name": "stderr",
     "output_type": "stream",
     "text": [
      "C:\\Users\\SOCIAL DATA\\AppData\\Roaming\\Python\\Python37\\site-packages\\sklearn\\utils\\validation.py:724: DataConversionWarning: A column-vector y was passed when a 1d array was expected. Please change the shape of y to (n_samples, ), for example using ravel().\n",
      "  y = column_or_1d(y, warn=True)\n"
     ]
    },
    {
     "name": "stdout",
     "output_type": "stream",
     "text": [
      "kmeans Model Build progress: |████████████████████████████████████████████| 100%\n",
      "kmeans prediction progress: |█████████████████████████████████████████████| 100%\n"
     ]
    },
    {
     "name": "stderr",
     "output_type": "stream",
     "text": [
      "C:\\Users\\SOCIAL DATA\\AppData\\Roaming\\Python\\Python37\\site-packages\\sklearn\\utils\\validation.py:724: DataConversionWarning: A column-vector y was passed when a 1d array was expected. Please change the shape of y to (n_samples, ), for example using ravel().\n",
      "  y = column_or_1d(y, warn=True)\n"
     ]
    },
    {
     "data": {
      "text/plain": [
       "Text(0.5, 1.0, 'Silouette para data experimento')"
      ]
     },
     "execution_count": 38,
     "metadata": {},
     "output_type": "execute_result"
    },
    {
     "data": {
      "image/png": "[encoded data removed]",
      "text/plain": [
       "<Figure size 432x288 with 1 Axes>"
      ]
     },
     "metadata": {
      "needs_background": "light"
     },
     "output_type": "display_data"
    }
   ],
   "source": [
    "from sklearn.metrics import euclidean_distances, silhouette_score\n",
    "import matplotlib.pyplot as plt\n",
    "sil = [] #definimos un objeto vacío tipo lista\n",
    "\n",
    "for i in range(2,11):\n",
    "    #kmeans = KMeans(n_clusters = i, init = 'k-means++', max_iter = 300, n_init = 10, random_state = 0)\n",
    "    pros_km = H2OKMeansEstimator(categorical_encoding=encoding,\n",
    "                             k=i,\n",
    "                             seed=1234,\n",
    "                                 max_iterations=20)\n",
    "    pros_km.train(x=predictors, #etiqueta de los predictores\n",
    "              training_frame=train, #data de entrenamiento\n",
    "              validation_frame=valid) #data de validación\n",
    "    predict = pros_km.predict(df_medicine)\n",
    "    df_predict_i=h2o.h2o.as_list(predict, use_pandas=True)\n",
    "    sil.append(silhouette_score(x, #data\n",
    "                                df_predict_i.values))#etiqueta de clúster\n",
    "    #print(sil)\n",
    "plt.plot(range(2, 11),sil)\n",
    "plt.ylabel(\"Silouette\")\n",
    "plt.xlabel(\"k\")\n",
    "plt.title(\"Silouette para data experimento\")"
   ]
  },
  {
   "cell_type": "code",
   "execution_count": 39,
   "metadata": {},
   "outputs": [
    {
     "name": "stdout",
     "output_type": "stream",
     "text": [
      "kmeans Model Build progress: |████████████████████████████████████████████| 100%\n",
      "kmeans prediction progress: |█████████████████████████████████████████████| 100%\n"
     ]
    },
    {
     "data": {
      "text/plain": [
       "numpy.ndarray"
      ]
     },
     "execution_count": 39,
     "metadata": {},
     "output_type": "execute_result"
    }
   ],
   "source": [
    "###\n",
    "pros_km = H2OKMeansEstimator(categorical_encoding=encoding,\n",
    "                             k=2,\n",
    "                             seed=1234, \n",
    "                             max_iterations=20)\n",
    "pros_km.train(x=predictors, #etiqueta de sus predictores\n",
    "              training_frame=train, #datos de entrenamiento\n",
    "              validation_frame=valid) #datos de validación\n",
    "predict = pros_km.predict(df_medicine) #predict etiqueta de grupo o cluster\n",
    "df_predict=h2o.h2o.as_list(predict, use_pandas=True) #transformamos a un objeto tipo data frame\n",
    "df_predict_val=df_predict['predict'].to_numpy()\n",
    "type(df_predict_val)"
   ]
  },
  {
   "cell_type": "code",
   "execution_count": 40,
   "metadata": {},
   "outputs": [
    {
     "data": {
      "image/png": "[encoded data removed]",
      "text/plain": [
       "<Figure size 432x288 with 1 Axes>"
      ]
     },
     "metadata": {
      "needs_background": "light"
     },
     "output_type": "display_data"
    }
   ],
   "source": [
    "###\n",
    "plt.scatter(x[df_predict_val == 0, 0], x[df_predict_val == 0, 1], s =30, c = 'red', label = 'Grupo A')\n",
    "plt.scatter(x[df_predict_val == 1, 0], x[df_predict_val == 1, 1], s = 30, c = 'blue', label = 'Grupo B')\n",
    "#plt.scatter(x[df_predict_val == 2, 0], x[df_predict_val == 2, 1], s = 100, c = 'cyan', label = 'Grupo C')\n",
    "#plt.scatter(x[y_means == 3, 0], x[y_means == 3, 1], s = 100, c = 'magenta', label = 'Grupo Derrochador')\n",
    "#plt.scatter(x[y_means == 4, 0], x[y_means == 4, 1], s = 100, c = 'orange', label = 'Grupo Cuidadoso')\n",
    "#plt.scatter(km.cluster_centers_[:,0], km.cluster_centers_[:, 1], s = 50, c = 'blue' , label = 'centroide')\n",
    "\n",
    "plt.style.use('fivethirtyeight')\n",
    "plt.title('K Means Clustering', fontsize = 20)\n",
    "#plt.xlabel('Ingrsos Anuales')\n",
    "#plt.ylabel('Puntaje de gastos')\n",
    "plt.legend()\n",
    "plt.grid()\n",
    "plt.show()"
   ]
  },
  {
   "cell_type": "code",
   "execution_count": 42,
   "metadata": {},
   "outputs": [
    {
     "name": "stderr",
     "output_type": "stream",
     "text": [
      "C:\\ProgramData\\Anaconda3\\lib\\site-packages\\ipykernel_launcher.py:1: DeprecationWarning: Deprecated, use ``h2o.cluster().shutdown()``.\n",
      "  \"\"\"Entry point for launching an IPython kernel.\n"
     ]
    }
   ],
   "source": [
    "h2o.shutdown()"
   ]
  },
  {
   "cell_type": "code",
   "execution_count": null,
   "metadata": {},
   "outputs": [],
   "source": []
  }
 ],
 "metadata": {
  "kernelspec": {
   "display_name": "Python 3",
   "language": "python",
   "name": "python3"
  },
  "language_info": {
   "codemirror_mode": {
    "name": "ipython",
    "version": 3
   },
   "file_extension": ".py",
   "mimetype": "text/x-python",
   "name": "python",
   "nbconvert_exporter": "python",
   "pygments_lexer": "ipython3",
   "version": "3.7.6"
  }
 },
 "nbformat": 4,
 "nbformat_minor": 4
}
