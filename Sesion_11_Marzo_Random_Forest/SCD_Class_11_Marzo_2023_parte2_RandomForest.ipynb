{
 "cells": [
  {
   "cell_type": "markdown",
   "metadata": {},
   "source": [
    "**Caso: diabetes**"
   ]
  },
  {
   "cell_type": "code",
   "execution_count": 1,
   "metadata": {},
   "outputs": [],
   "source": [
    "import pandas as pd\n",
    "import numpy as np\n",
    "import os"
   ]
  },
  {
   "cell_type": "code",
   "execution_count": 2,
   "metadata": {},
   "outputs": [
    {
     "data": {
      "text/plain": [
       "'C:\\\\Users\\\\SOCIAL DATA'"
      ]
     },
     "execution_count": 2,
     "metadata": {},
     "output_type": "execute_result"
    }
   ],
   "source": [
    "os.getcwd()"
   ]
  },
  {
   "cell_type": "code",
   "execution_count": 3,
   "metadata": {},
   "outputs": [],
   "source": [
    "data = pd.read_excel(\"diabetes_py.xlsx\")"
   ]
  },
  {
   "cell_type": "code",
   "execution_count": 4,
   "metadata": {},
   "outputs": [
    {
     "data": {
      "text/html": [
       "<div>\n",
       "<style scoped>\n",
       "    .dataframe tbody tr th:only-of-type {\n",
       "        vertical-align: middle;\n",
       "    }\n",
       "\n",
       "    .dataframe tbody tr th {\n",
       "        vertical-align: top;\n",
       "    }\n",
       "\n",
       "    .dataframe thead th {\n",
       "        text-align: right;\n",
       "    }\n",
       "</style>\n",
       "<table border=\"1\" class=\"dataframe\">\n",
       "  <thead>\n",
       "    <tr style=\"text-align: right;\">\n",
       "      <th></th>\n",
       "      <th>clase</th>\n",
       "      <th>glucosa</th>\n",
       "      <th>insulina</th>\n",
       "      <th>sspg</th>\n",
       "    </tr>\n",
       "  </thead>\n",
       "  <tbody>\n",
       "    <tr>\n",
       "      <th>0</th>\n",
       "      <td>1</td>\n",
       "      <td>97</td>\n",
       "      <td>289</td>\n",
       "      <td>117</td>\n",
       "    </tr>\n",
       "    <tr>\n",
       "      <th>1</th>\n",
       "      <td>1</td>\n",
       "      <td>105</td>\n",
       "      <td>319</td>\n",
       "      <td>143</td>\n",
       "    </tr>\n",
       "    <tr>\n",
       "      <th>2</th>\n",
       "      <td>1</td>\n",
       "      <td>90</td>\n",
       "      <td>356</td>\n",
       "      <td>199</td>\n",
       "    </tr>\n",
       "  </tbody>\n",
       "</table>\n",
       "</div>"
      ],
      "text/plain": [
       "   clase  glucosa  insulina  sspg\n",
       "0      1       97       289   117\n",
       "1      1      105       319   143\n",
       "2      1       90       356   199"
      ]
     },
     "execution_count": 4,
     "metadata": {},
     "output_type": "execute_result"
    }
   ],
   "source": [
    "data.head(n=3)"
   ]
  },
  {
   "cell_type": "markdown",
   "metadata": {},
   "source": [
    "**target**: \"1\"= normal; \"2\"=pre-diabético; \"3\"=diabético"
   ]
  },
  {
   "cell_type": "markdown",
   "metadata": {},
   "source": [
    "**particionamiento de los datos**"
   ]
  },
  {
   "cell_type": "code",
   "execution_count": 5,
   "metadata": {},
   "outputs": [],
   "source": [
    "from sklearn.model_selection import train_test_split"
   ]
  },
  {
   "cell_type": "code",
   "execution_count": 6,
   "metadata": {},
   "outputs": [],
   "source": [
    "x= data.iloc[:,1:4].values\n",
    "y= data.iloc[:,0].values"
   ]
  },
  {
   "cell_type": "code",
   "execution_count": 7,
   "metadata": {},
   "outputs": [],
   "source": [
    "x_train, x_test, y_train, y_test = train_test_split(x,\n",
    "                                                   y,\n",
    "                                                   test_size=0.2,\n",
    "                                                   stratify=y,\n",
    "                                                   random_state=2023)"
   ]
  },
  {
   "cell_type": "markdown",
   "metadata": {},
   "source": [
    "**modelo de árbol de decisión**"
   ]
  },
  {
   "cell_type": "code",
   "execution_count": 12,
   "metadata": {},
   "outputs": [],
   "source": [
    "from sklearn.tree import DecisionTreeClassifier\n",
    "from mlxtend.plotting import plot_decision_regions\n",
    "import matplotlib.pyplot as plt"
   ]
  },
  {
   "cell_type": "code",
   "execution_count": 13,
   "metadata": {},
   "outputs": [],
   "source": [
    "model = DecisionTreeClassifier(criterion=\"entropy\",\n",
    "                              max_depth=3,\n",
    "                              random_state=2023)"
   ]
  },
  {
   "cell_type": "code",
   "execution_count": 14,
   "metadata": {},
   "outputs": [],
   "source": [
    "model_fit=model.fit(x_train,y_train)"
   ]
  },
  {
   "cell_type": "code",
   "execution_count": null,
   "metadata": {},
   "outputs": [],
   "source": [
    "#pip install graphviz"
   ]
  },
  {
   "cell_type": "code",
   "execution_count": 15,
   "metadata": {},
   "outputs": [],
   "source": [
    "import graphviz\n",
    "from sklearn.tree import export_graphviz\n",
    "from subprocess import check_call"
   ]
  },
  {
   "cell_type": "code",
   "execution_count": 17,
   "metadata": {},
   "outputs": [
    {
     "name": "stdout",
     "output_type": "stream",
     "text": [
      "['glucosa', 'insulina', 'sspg']\n"
     ]
    }
   ],
   "source": [
    "predictores = data.columns.tolist()[1:4];print(predictores)"
   ]
  },
  {
   "cell_type": "code",
   "execution_count": 18,
   "metadata": {},
   "outputs": [],
   "source": [
    "with open(\"bupa_dtree.dot\",\"w\") as dotfile:\n",
    "    export_graphviz(model_fit, out_file=dotfile, feature_names=predictores)"
   ]
  },
  {
   "cell_type": "code",
   "execution_count": 20,
   "metadata": {},
   "outputs": [
    {
     "data": {
      "text/plain": [
       "'C:\\\\Users\\\\SOCIAL DATA'"
      ]
     },
     "execution_count": 20,
     "metadata": {},
     "output_type": "execute_result"
    }
   ],
   "source": [
    "os.getcwd()"
   ]
  },
  {
   "cell_type": "code",
   "execution_count": 29,
   "metadata": {},
   "outputs": [],
   "source": [
    "file = open(\"bupa_dtree.dot\",\"r\")"
   ]
  },
  {
   "cell_type": "code",
   "execution_count": 30,
   "metadata": {},
   "outputs": [],
   "source": [
    "text = file.read()"
   ]
  },
  {
   "cell_type": "code",
   "execution_count": 31,
   "metadata": {},
   "outputs": [
    {
     "data": {
      "text/plain": [
       "'digraph Tree {\\nnode [shape=box] ;\\n0 [label=\"insulina <= 431.0\\\\nentropy = 1.405\\\\nsamples = 92\\\\nvalue = [53, 21, 18]\"] ;\\n1 [label=\"insulina <= 420.5\\\\nentropy = 0.133\\\\nsamples = 54\\\\nvalue = [53, 1, 0]\"] ;\\n0 -> 1 [labeldistance=2.5, labelangle=45, headlabel=\"True\"] ;\\n2 [label=\"entropy = 0.0\\\\nsamples = 52\\\\nvalue = [52, 0, 0]\"] ;\\n1 -> 2 ;\\n3 [label=\"glucosa <= 97.5\\\\nentropy = 1.0\\\\nsamples = 2\\\\nvalue = [1, 1, 0]\"] ;\\n1 -> 3 ;\\n4 [label=\"entropy = 0.0\\\\nsamples = 1\\\\nvalue = [0, 1, 0]\"] ;\\n3 -> 4 ;\\n5 [label=\"entropy = 0.0\\\\nsamples = 1\\\\nvalue = [1, 0, 0]\"] ;\\n3 -> 5 ;\\n6 [label=\"glucosa <= 117.0\\\\nentropy = 0.998\\\\nsamples = 38\\\\nvalue = [0, 20, 18]\"] ;\\n0 -> 6 [labeldistance=2.5, labelangle=-45, headlabel=\"False\"] ;\\n7 [label=\"entropy = 0.0\\\\nsamples = 20\\\\nvalue = [0, 20, 0]\"] ;\\n6 -> 7 ;\\n8 [label=\"entropy = 0.0\\\\nsamples = 18\\\\nvalue = [0, 0, 18]\"] ;\\n6 -> 8 ;\\n}'"
      ]
     },
     "execution_count": 31,
     "metadata": {},
     "output_type": "execute_result"
    }
   ],
   "source": [
    "text"
   ]
  },
  {
   "cell_type": "code",
   "execution_count": 24,
   "metadata": {},
   "outputs": [],
   "source": [
    "from graphviz import Source"
   ]
  },
  {
   "cell_type": "code",
   "execution_count": 34,
   "metadata": {},
   "outputs": [
    {
     "data": {
      "image/svg+xml": [
       "<?xml version=\"1.0\" encoding=\"UTF-8\" standalone=\"no\"?>\r\n",
       "<!DOCTYPE svg PUBLIC \"-//W3C//DTD SVG 1.1//EN\"\r\n",
       " \"http://www.w3.org/Graphics/SVG/1.1/DTD/svg11.dtd\">\r\n",
       "<!-- Generated by graphviz version 2.38.0 (20140413.2041)\r\n",
       " -->\r\n",
       "<!-- Title: Tree Pages: 1 -->\r\n",
       "<svg width=\"509pt\" height=\"373pt\"\r\n",
       " viewBox=\"0.00 0.00 509.00 373.00\" xmlns=\"http://www.w3.org/2000/svg\" xmlns:xlink=\"http://www.w3.org/1999/xlink\">\r\n",
       "<g id=\"graph0\" class=\"graph\" transform=\"scale(1 1) rotate(0) translate(4 369)\">\r\n",
       "<title>Tree</title>\r\n",
       "<polygon fill=\"white\" stroke=\"none\" points=\"-4,4 -4,-369 505,-369 505,4 -4,4\"/>\r\n",
       "<!-- 0 -->\r\n",
       "<g id=\"node1\" class=\"node\"><title>0</title>\r\n",
       "<polygon fill=\"none\" stroke=\"black\" points=\"311.5,-365 186.5,-365 186.5,-297 311.5,-297 311.5,-365\"/>\r\n",
       "<text text-anchor=\"middle\" x=\"249\" y=\"-349.8\" font-family=\"Times New Roman,serif\" font-size=\"14.00\">insulina &lt;= 431.0</text>\r\n",
       "<text text-anchor=\"middle\" x=\"249\" y=\"-334.8\" font-family=\"Times New Roman,serif\" font-size=\"14.00\">entropy = 1.405</text>\r\n",
       "<text text-anchor=\"middle\" x=\"249\" y=\"-319.8\" font-family=\"Times New Roman,serif\" font-size=\"14.00\">samples = 92</text>\r\n",
       "<text text-anchor=\"middle\" x=\"249\" y=\"-304.8\" font-family=\"Times New Roman,serif\" font-size=\"14.00\">value = [53, 21, 18]</text>\r\n",
       "</g>\r\n",
       "<!-- 1 -->\r\n",
       "<g id=\"node2\" class=\"node\"><title>1</title>\r\n",
       "<polygon fill=\"none\" stroke=\"black\" points=\"238.5,-261 125.5,-261 125.5,-193 238.5,-193 238.5,-261\"/>\r\n",
       "<text text-anchor=\"middle\" x=\"182\" y=\"-245.8\" font-family=\"Times New Roman,serif\" font-size=\"14.00\">insulina &lt;= 420.5</text>\r\n",
       "<text text-anchor=\"middle\" x=\"182\" y=\"-230.8\" font-family=\"Times New Roman,serif\" font-size=\"14.00\">entropy = 0.133</text>\r\n",
       "<text text-anchor=\"middle\" x=\"182\" y=\"-215.8\" font-family=\"Times New Roman,serif\" font-size=\"14.00\">samples = 54</text>\r\n",
       "<text text-anchor=\"middle\" x=\"182\" y=\"-200.8\" font-family=\"Times New Roman,serif\" font-size=\"14.00\">value = [53, 1, 0]</text>\r\n",
       "</g>\r\n",
       "<!-- 0&#45;&gt;1 -->\r\n",
       "<g id=\"edge1\" class=\"edge\"><title>0&#45;&gt;1</title>\r\n",
       "<path fill=\"none\" stroke=\"black\" d=\"M227.247,-296.884C221.572,-288.243 215.381,-278.819 209.452,-269.793\"/>\r\n",
       "<polygon fill=\"black\" stroke=\"black\" points=\"212.289,-267.736 203.873,-261.299 206.438,-271.579 212.289,-267.736\"/>\r\n",
       "<text text-anchor=\"middle\" x=\"198.803\" y=\"-282.08\" font-family=\"Times New Roman,serif\" font-size=\"14.00\">True</text>\r\n",
       "</g>\r\n",
       "<!-- 6 -->\r\n",
       "<g id=\"node7\" class=\"node\"><title>6</title>\r\n",
       "<polygon fill=\"none\" stroke=\"black\" points=\"375.5,-261 256.5,-261 256.5,-193 375.5,-193 375.5,-261\"/>\r\n",
       "<text text-anchor=\"middle\" x=\"316\" y=\"-245.8\" font-family=\"Times New Roman,serif\" font-size=\"14.00\">glucosa &lt;= 117.0</text>\r\n",
       "<text text-anchor=\"middle\" x=\"316\" y=\"-230.8\" font-family=\"Times New Roman,serif\" font-size=\"14.00\">entropy = 0.998</text>\r\n",
       "<text text-anchor=\"middle\" x=\"316\" y=\"-215.8\" font-family=\"Times New Roman,serif\" font-size=\"14.00\">samples = 38</text>\r\n",
       "<text text-anchor=\"middle\" x=\"316\" y=\"-200.8\" font-family=\"Times New Roman,serif\" font-size=\"14.00\">value = [0, 20, 18]</text>\r\n",
       "</g>\r\n",
       "<!-- 0&#45;&gt;6 -->\r\n",
       "<g id=\"edge6\" class=\"edge\"><title>0&#45;&gt;6</title>\r\n",
       "<path fill=\"none\" stroke=\"black\" d=\"M270.753,-296.884C276.428,-288.243 282.619,-278.819 288.548,-269.793\"/>\r\n",
       "<polygon fill=\"black\" stroke=\"black\" points=\"291.562,-271.579 294.127,-261.299 285.711,-267.736 291.562,-271.579\"/>\r\n",
       "<text text-anchor=\"middle\" x=\"299.197\" y=\"-282.08\" font-family=\"Times New Roman,serif\" font-size=\"14.00\">False</text>\r\n",
       "</g>\r\n",
       "<!-- 2 -->\r\n",
       "<g id=\"node3\" class=\"node\"><title>2</title>\r\n",
       "<polygon fill=\"none\" stroke=\"black\" points=\"112,-149.5 7.10543e-015,-149.5 7.10543e-015,-96.5 112,-96.5 112,-149.5\"/>\r\n",
       "<text text-anchor=\"middle\" x=\"56\" y=\"-134.3\" font-family=\"Times New Roman,serif\" font-size=\"14.00\">entropy = 0.0</text>\r\n",
       "<text text-anchor=\"middle\" x=\"56\" y=\"-119.3\" font-family=\"Times New Roman,serif\" font-size=\"14.00\">samples = 52</text>\r\n",
       "<text text-anchor=\"middle\" x=\"56\" y=\"-104.3\" font-family=\"Times New Roman,serif\" font-size=\"14.00\">value = [52, 0, 0]</text>\r\n",
       "</g>\r\n",
       "<!-- 1&#45;&gt;2 -->\r\n",
       "<g id=\"edge2\" class=\"edge\"><title>1&#45;&gt;2</title>\r\n",
       "<path fill=\"none\" stroke=\"black\" d=\"M141.091,-192.884C126.419,-181.006 109.916,-167.646 95.3762,-155.876\"/>\r\n",
       "<polygon fill=\"black\" stroke=\"black\" points=\"97.4993,-153.092 87.5246,-149.52 93.0949,-158.532 97.4993,-153.092\"/>\r\n",
       "</g>\r\n",
       "<!-- 3 -->\r\n",
       "<g id=\"node4\" class=\"node\"><title>3</title>\r\n",
       "<polygon fill=\"none\" stroke=\"black\" points=\"237.5,-157 130.5,-157 130.5,-89 237.5,-89 237.5,-157\"/>\r\n",
       "<text text-anchor=\"middle\" x=\"184\" y=\"-141.8\" font-family=\"Times New Roman,serif\" font-size=\"14.00\">glucosa &lt;= 97.5</text>\r\n",
       "<text text-anchor=\"middle\" x=\"184\" y=\"-126.8\" font-family=\"Times New Roman,serif\" font-size=\"14.00\">entropy = 1.0</text>\r\n",
       "<text text-anchor=\"middle\" x=\"184\" y=\"-111.8\" font-family=\"Times New Roman,serif\" font-size=\"14.00\">samples = 2</text>\r\n",
       "<text text-anchor=\"middle\" x=\"184\" y=\"-96.8\" font-family=\"Times New Roman,serif\" font-size=\"14.00\">value = [1, 1, 0]</text>\r\n",
       "</g>\r\n",
       "<!-- 1&#45;&gt;3 -->\r\n",
       "<g id=\"edge3\" class=\"edge\"><title>1&#45;&gt;3</title>\r\n",
       "<path fill=\"none\" stroke=\"black\" d=\"M182.649,-192.884C182.808,-184.778 182.981,-175.982 183.148,-167.472\"/>\r\n",
       "<polygon fill=\"black\" stroke=\"black\" points=\"186.65,-167.366 183.347,-157.299 179.652,-167.229 186.65,-167.366\"/>\r\n",
       "</g>\r\n",
       "<!-- 4 -->\r\n",
       "<g id=\"node5\" class=\"node\"><title>4</title>\r\n",
       "<polygon fill=\"none\" stroke=\"black\" points=\"174.5,-53 69.5,-53 69.5,-0 174.5,-0 174.5,-53\"/>\r\n",
       "<text text-anchor=\"middle\" x=\"122\" y=\"-37.8\" font-family=\"Times New Roman,serif\" font-size=\"14.00\">entropy = 0.0</text>\r\n",
       "<text text-anchor=\"middle\" x=\"122\" y=\"-22.8\" font-family=\"Times New Roman,serif\" font-size=\"14.00\">samples = 1</text>\r\n",
       "<text text-anchor=\"middle\" x=\"122\" y=\"-7.8\" font-family=\"Times New Roman,serif\" font-size=\"14.00\">value = [0, 1, 0]</text>\r\n",
       "</g>\r\n",
       "<!-- 3&#45;&gt;4 -->\r\n",
       "<g id=\"edge4\" class=\"edge\"><title>3&#45;&gt;4</title>\r\n",
       "<path fill=\"none\" stroke=\"black\" d=\"M162.315,-88.9485C156.554,-80.1664 150.319,-70.6629 144.514,-61.815\"/>\r\n",
       "<polygon fill=\"black\" stroke=\"black\" points=\"147.297,-59.6779 138.885,-53.2367 141.445,-63.5178 147.297,-59.6779\"/>\r\n",
       "</g>\r\n",
       "<!-- 5 -->\r\n",
       "<g id=\"node6\" class=\"node\"><title>5</title>\r\n",
       "<polygon fill=\"none\" stroke=\"black\" points=\"297.5,-53 192.5,-53 192.5,-0 297.5,-0 297.5,-53\"/>\r\n",
       "<text text-anchor=\"middle\" x=\"245\" y=\"-37.8\" font-family=\"Times New Roman,serif\" font-size=\"14.00\">entropy = 0.0</text>\r\n",
       "<text text-anchor=\"middle\" x=\"245\" y=\"-22.8\" font-family=\"Times New Roman,serif\" font-size=\"14.00\">samples = 1</text>\r\n",
       "<text text-anchor=\"middle\" x=\"245\" y=\"-7.8\" font-family=\"Times New Roman,serif\" font-size=\"14.00\">value = [1, 0, 0]</text>\r\n",
       "</g>\r\n",
       "<!-- 3&#45;&gt;5 -->\r\n",
       "<g id=\"edge5\" class=\"edge\"><title>3&#45;&gt;5</title>\r\n",
       "<path fill=\"none\" stroke=\"black\" d=\"M205.335,-88.9485C211.004,-80.1664 217.138,-70.6629 222.85,-61.815\"/>\r\n",
       "<polygon fill=\"black\" stroke=\"black\" points=\"225.904,-63.5365 228.387,-53.2367 220.023,-59.7402 225.904,-63.5365\"/>\r\n",
       "</g>\r\n",
       "<!-- 7 -->\r\n",
       "<g id=\"node8\" class=\"node\"><title>7</title>\r\n",
       "<polygon fill=\"none\" stroke=\"black\" points=\"371,-149.5 259,-149.5 259,-96.5 371,-96.5 371,-149.5\"/>\r\n",
       "<text text-anchor=\"middle\" x=\"315\" y=\"-134.3\" font-family=\"Times New Roman,serif\" font-size=\"14.00\">entropy = 0.0</text>\r\n",
       "<text text-anchor=\"middle\" x=\"315\" y=\"-119.3\" font-family=\"Times New Roman,serif\" font-size=\"14.00\">samples = 20</text>\r\n",
       "<text text-anchor=\"middle\" x=\"315\" y=\"-104.3\" font-family=\"Times New Roman,serif\" font-size=\"14.00\">value = [0, 20, 0]</text>\r\n",
       "</g>\r\n",
       "<!-- 6&#45;&gt;7 -->\r\n",
       "<g id=\"edge7\" class=\"edge\"><title>6&#45;&gt;7</title>\r\n",
       "<path fill=\"none\" stroke=\"black\" d=\"M315.675,-192.884C315.572,-182.326 315.457,-170.597 315.352,-159.854\"/>\r\n",
       "<polygon fill=\"black\" stroke=\"black\" points=\"318.848,-159.485 315.25,-149.52 311.848,-159.554 318.848,-159.485\"/>\r\n",
       "</g>\r\n",
       "<!-- 8 -->\r\n",
       "<g id=\"node9\" class=\"node\"><title>8</title>\r\n",
       "<polygon fill=\"none\" stroke=\"black\" points=\"501,-149.5 389,-149.5 389,-96.5 501,-96.5 501,-149.5\"/>\r\n",
       "<text text-anchor=\"middle\" x=\"445\" y=\"-134.3\" font-family=\"Times New Roman,serif\" font-size=\"14.00\">entropy = 0.0</text>\r\n",
       "<text text-anchor=\"middle\" x=\"445\" y=\"-119.3\" font-family=\"Times New Roman,serif\" font-size=\"14.00\">samples = 18</text>\r\n",
       "<text text-anchor=\"middle\" x=\"445\" y=\"-104.3\" font-family=\"Times New Roman,serif\" font-size=\"14.00\">value = [0, 0, 18]</text>\r\n",
       "</g>\r\n",
       "<!-- 6&#45;&gt;8 -->\r\n",
       "<g id=\"edge8\" class=\"edge\"><title>6&#45;&gt;8</title>\r\n",
       "<path fill=\"none\" stroke=\"black\" d=\"M357.883,-192.884C372.904,-181.006 389.8,-167.646 404.686,-155.876\"/>\r\n",
       "<polygon fill=\"black\" stroke=\"black\" points=\"407.051,-158.468 412.725,-149.52 402.71,-152.977 407.051,-158.468\"/>\r\n",
       "</g>\r\n",
       "</g>\r\n",
       "</svg>\r\n"
      ],
      "text/plain": [
       "<graphviz.files.Source at 0x186c05d0b80>"
      ]
     },
     "execution_count": 34,
     "metadata": {},
     "output_type": "execute_result"
    }
   ],
   "source": [
    "Source(text)"
   ]
  },
  {
   "cell_type": "code",
   "execution_count": null,
   "metadata": {},
   "outputs": [],
   "source": [
    "x1= glucosa\n",
    "x2= insulina\n",
    "x3= sspg"
   ]
  },
  {
   "cell_type": "markdown",
   "metadata": {},
   "source": [
    "**Interpretabilidad: generar reglas por el modelo aplicadas al negocio**"
   ]
  },
  {
   "cell_type": "markdown",
   "metadata": {},
   "source": [
    "y ~ x2(insulina)"
   ]
  },
  {
   "cell_type": "code",
   "execution_count": null,
   "metadata": {},
   "outputs": [],
   "source": [
    "Pr(y=1|x2<=431)=0.981\n",
    "Pr(y=2|x2<=431)=0.018\n",
    "Pr(y=3|x2<=431)=0\n",
    "Pr(y=1|x2> 431)=0\n",
    "Pr(y=2|x2> 431)=0.526\n",
    "Pr(y=3|x2> 431)=0.474"
   ]
  },
  {
   "cell_type": "markdown",
   "metadata": {},
   "source": [
    "y ~ x2(insulina) + x1(glucosa)"
   ]
  },
  {
   "cell_type": "code",
   "execution_count": null,
   "metadata": {},
   "outputs": [],
   "source": [
    "Pr(y=1|x2> 431 & x1<= 117)=0\n",
    "Pr(y=2|x2> 431 & x1<= 117)=1\n",
    "Pr(y=3|x2> 431 & x1<= 117)=0\n",
    "Pr(y=1|x2> 431 & x1>  117)=0\n",
    "Pr(y=2|x2> 431 & x1>  117)=0\n",
    "Pr(y=3|x2> 431 & x1>  117)=1"
   ]
  },
  {
   "cell_type": "code",
   "execution_count": 45,
   "metadata": {},
   "outputs": [],
   "source": [
    "model = DecisionTreeClassifier(criterion=\"entropy\",\n",
    "                              max_depth=3,\n",
    "                              random_state=2023)"
   ]
  },
  {
   "cell_type": "markdown",
   "metadata": {},
   "source": [
    "**Recordemos**: si existe el problema de varianza interna en el modelo de árboles es mejor aplicar un modelo de ensamble (random forest o XGBoost, entre otros)"
   ]
  },
  {
   "cell_type": "code",
   "execution_count": 46,
   "metadata": {},
   "outputs": [],
   "source": [
    "from sklearn.model_selection import cross_val_score"
   ]
  },
  {
   "cell_type": "code",
   "execution_count": 47,
   "metadata": {},
   "outputs": [],
   "source": [
    "scores = cross_val_score(model,\n",
    "                        x_train,\n",
    "                        y_train,\n",
    "                        scoring=\"accuracy\",\n",
    "                        cv=5)"
   ]
  },
  {
   "cell_type": "code",
   "execution_count": 48,
   "metadata": {},
   "outputs": [
    {
     "data": {
      "text/plain": [
       "array([1.        , 0.94736842, 1.        , 0.94444444, 1.        ])"
      ]
     },
     "execution_count": 48,
     "metadata": {},
     "output_type": "execute_result"
    }
   ],
   "source": [
    "scores"
   ]
  },
  {
   "cell_type": "code",
   "execution_count": 49,
   "metadata": {},
   "outputs": [
    {
     "data": {
      "text/plain": [
       "0.9783625730994151"
      ]
     },
     "execution_count": 49,
     "metadata": {},
     "output_type": "execute_result"
    }
   ],
   "source": [
    "scores.mean()"
   ]
  },
  {
   "cell_type": "markdown",
   "metadata": {},
   "source": [
    "El modelo logra predecir 96 de cada 100 casos (registros)"
   ]
  },
  {
   "cell_type": "markdown",
   "metadata": {},
   "source": [
    "**árboles de decisión**"
   ]
  },
  {
   "cell_type": "markdown",
   "metadata": {},
   "source": [
    "**Problema**: incremento de la profundidad de un árbol (incremento de la complejidad del modelo) puede generar un problema de varianza interna en los datos."
   ]
  },
  {
   "cell_type": "code",
   "execution_count": null,
   "metadata": {},
   "outputs": [],
   "source": [
    "ID   Ingreso     Consumo    hrs     Promedio      | Fuga (Churn_est)\n",
    "1\n",
    "2\n",
    "3\n",
    "4\n",
    "5\n",
    ".\n",
    ".\n",
    ".\n",
    "100"
   ]
  },
  {
   "cell_type": "markdown",
   "metadata": {},
   "source": [
    "train: 70%\n",
    "test: 30%"
   ]
  },
  {
   "cell_type": "code",
   "execution_count": null,
   "metadata": {},
   "outputs": [],
   "source": [
    "seg 1= 55%\n",
    "seg 2= 98%\n",
    "seg 3= 80%\n",
    "seg 4= 77%\n",
    "seg 5= 91%"
   ]
  },
  {
   "cell_type": "code",
   "execution_count": null,
   "metadata": {},
   "outputs": [],
   "source": [
    "**Sensibilidad** 85% casos positivos (fuga clientes)"
   ]
  },
  {
   "cell_type": "markdown",
   "metadata": {},
   "source": [
    "**Bagging**"
   ]
  },
  {
   "cell_type": "markdown",
   "metadata": {},
   "source": [
    "Los teóricos de Bagging proponen agregar Bootstrap a los modelos de árboles"
   ]
  },
  {
   "cell_type": "code",
   "execution_count": null,
   "metadata": {},
   "outputs": [],
   "source": [
    "m1 = x1 + x5\n",
    "m2 = x5 + x8\n",
    "m3 = x1 + x5\n",
    "m4 = x1 + x5\n",
    ".\n",
    ".\n",
    ".\n",
    "m100 = x1 + x3"
   ]
  },
  {
   "cell_type": "markdown",
   "metadata": {},
   "source": [
    "**voto mayoritario**: x1 + x5"
   ]
  },
  {
   "cell_type": "markdown",
   "metadata": {},
   "source": [
    "**Solución**: ayudaron a controlar el problema de varianza interna"
   ]
  },
  {
   "cell_type": "markdown",
   "metadata": {},
   "source": [
    "**Problema**: árboles generados por Bagging estaban correlacionados"
   ]
  },
  {
   "cell_type": "markdown",
   "metadata": {},
   "source": [
    "**Random forest**"
   ]
  },
  {
   "cell_type": "markdown",
   "metadata": {},
   "source": [
    "- Boostrap (a las observaciones) + raiz cuadrada de los \"p\" predictores"
   ]
  },
  {
   "cell_type": "code",
   "execution_count": null,
   "metadata": {},
   "outputs": [],
   "source": [
    "m_1 | x1 x5 x7 x9 x15 x30 ~ y ---> se aplica árboles a estos datos\n",
    "m_2 | x2 x9 x17 x19 x25 x31 ~ y ---> se aplica árboles a estos datos\n",
    "m_3 | x3 x8 x17 x19 x22 x29 ~ y ---> se aplica árboles a estos datos\n",
    ".\n",
    ".\n",
    ".\n",
    "m_100 | x1 x4 x17 x21 x25 x30 ~ y ---> se aplica árboles a estos datos"
   ]
  },
  {
   "cell_type": "markdown",
   "metadata": {},
   "source": [
    "**Voto mayoritario**"
   ]
  },
  {
   "cell_type": "code",
   "execution_count": 52,
   "metadata": {},
   "outputs": [
    {
     "data": {
      "text/plain": [
       "5"
      ]
     },
     "execution_count": 52,
     "metadata": {},
     "output_type": "execute_result"
    }
   ],
   "source": [
    "import math as m\n",
    "round(m.log2(36))"
   ]
  },
  {
   "cell_type": "code",
   "execution_count": 53,
   "metadata": {},
   "outputs": [
    {
     "data": {
      "text/plain": [
       "6"
      ]
     },
     "execution_count": 53,
     "metadata": {},
     "output_type": "execute_result"
    }
   ],
   "source": [
    "round(m.sqrt(36))"
   ]
  },
  {
   "cell_type": "markdown",
   "metadata": {},
   "source": [
    "**Caso: fuga de clientes**"
   ]
  },
  {
   "cell_type": "code",
   "execution_count": 54,
   "metadata": {},
   "outputs": [],
   "source": [
    "import pandas as pd"
   ]
  },
  {
   "cell_type": "code",
   "execution_count": 55,
   "metadata": {},
   "outputs": [],
   "source": [
    "data = pd.read_csv(\"D:/mymodel/Churn.csv\")"
   ]
  },
  {
   "cell_type": "code",
   "execution_count": 56,
   "metadata": {},
   "outputs": [
    {
     "data": {
      "text/html": [
       "<div>\n",
       "<style scoped>\n",
       "    .dataframe tbody tr th:only-of-type {\n",
       "        vertical-align: middle;\n",
       "    }\n",
       "\n",
       "    .dataframe tbody tr th {\n",
       "        vertical-align: top;\n",
       "    }\n",
       "\n",
       "    .dataframe thead th {\n",
       "        text-align: right;\n",
       "    }\n",
       "</style>\n",
       "<table border=\"1\" class=\"dataframe\">\n",
       "  <thead>\n",
       "    <tr style=\"text-align: right;\">\n",
       "      <th></th>\n",
       "      <th>TARGET_MOD1</th>\n",
       "      <th>PCT_COMISIONES_PAGO_UM</th>\n",
       "      <th>DEUDA_VIG</th>\n",
       "      <th>ADICIONALES_ACTIVAS</th>\n",
       "      <th>DIAS_MORA</th>\n",
       "      <th>NUM_TC_ACTIVAS</th>\n",
       "      <th>TOTAL_TIEMPO_SOLUCION_UM</th>\n",
       "      <th>TOT_PRODUCTOS</th>\n",
       "      <th>IMPORTE_MEMBRESIA_UM</th>\n",
       "      <th>MESES_EXPIRACION</th>\n",
       "      <th>...</th>\n",
       "      <th>SAL_MES_PP</th>\n",
       "      <th>CLF_IBK</th>\n",
       "      <th>PROM_MTO_6UM</th>\n",
       "      <th>MONTO_PAGOS_UM</th>\n",
       "      <th>EMP_MAYLINEA_UM</th>\n",
       "      <th>NUM_VOLUNTARIA_UM</th>\n",
       "      <th>REGION</th>\n",
       "      <th>NUM_TRX_UM</th>\n",
       "      <th>SEGMENTO_BANCO</th>\n",
       "      <th>FLG_TRAIN</th>\n",
       "    </tr>\n",
       "  </thead>\n",
       "  <tbody>\n",
       "    <tr>\n",
       "      <th>0</th>\n",
       "      <td>0</td>\n",
       "      <td>0.875648</td>\n",
       "      <td>2338.80</td>\n",
       "      <td>0</td>\n",
       "      <td>0</td>\n",
       "      <td>2</td>\n",
       "      <td>0.0</td>\n",
       "      <td>4</td>\n",
       "      <td>0</td>\n",
       "      <td>0</td>\n",
       "      <td>...</td>\n",
       "      <td>0.0</td>\n",
       "      <td>0</td>\n",
       "      <td>2400.000000</td>\n",
       "      <td>0.0</td>\n",
       "      <td>IBK</td>\n",
       "      <td>0</td>\n",
       "      <td>LIMA NORTE</td>\n",
       "      <td>1</td>\n",
       "      <td>2</td>\n",
       "      <td>1</td>\n",
       "    </tr>\n",
       "    <tr>\n",
       "      <th>1</th>\n",
       "      <td>0</td>\n",
       "      <td>0.051539</td>\n",
       "      <td>112.24</td>\n",
       "      <td>0</td>\n",
       "      <td>0</td>\n",
       "      <td>1</td>\n",
       "      <td>0.0</td>\n",
       "      <td>2</td>\n",
       "      <td>0</td>\n",
       "      <td>0</td>\n",
       "      <td>...</td>\n",
       "      <td>0.0</td>\n",
       "      <td>0</td>\n",
       "      <td>794.258333</td>\n",
       "      <td>0.0</td>\n",
       "      <td>IBK</td>\n",
       "      <td>0</td>\n",
       "      <td>CENTRO SUR</td>\n",
       "      <td>4</td>\n",
       "      <td>3</td>\n",
       "      <td>1</td>\n",
       "    </tr>\n",
       "    <tr>\n",
       "      <th>2</th>\n",
       "      <td>0</td>\n",
       "      <td>1.000000</td>\n",
       "      <td>97.79</td>\n",
       "      <td>0</td>\n",
       "      <td>0</td>\n",
       "      <td>1</td>\n",
       "      <td>0.0</td>\n",
       "      <td>1</td>\n",
       "      <td>0</td>\n",
       "      <td>0</td>\n",
       "      <td>...</td>\n",
       "      <td>0.0</td>\n",
       "      <td>2</td>\n",
       "      <td>501.450000</td>\n",
       "      <td>0.0</td>\n",
       "      <td>OTROS</td>\n",
       "      <td>0</td>\n",
       "      <td>CENTRO SUR</td>\n",
       "      <td>0</td>\n",
       "      <td>2</td>\n",
       "      <td>1</td>\n",
       "    </tr>\n",
       "    <tr>\n",
       "      <th>3</th>\n",
       "      <td>0</td>\n",
       "      <td>0.131875</td>\n",
       "      <td>1423.26</td>\n",
       "      <td>0</td>\n",
       "      <td>0</td>\n",
       "      <td>1</td>\n",
       "      <td>0.0</td>\n",
       "      <td>2</td>\n",
       "      <td>0</td>\n",
       "      <td>0</td>\n",
       "      <td>...</td>\n",
       "      <td>0.0</td>\n",
       "      <td>0</td>\n",
       "      <td>1826.080000</td>\n",
       "      <td>0.0</td>\n",
       "      <td>OTROS</td>\n",
       "      <td>0</td>\n",
       "      <td>LIMA NORTE</td>\n",
       "      <td>11</td>\n",
       "      <td>3</td>\n",
       "      <td>1</td>\n",
       "    </tr>\n",
       "    <tr>\n",
       "      <th>4</th>\n",
       "      <td>0</td>\n",
       "      <td>1.000000</td>\n",
       "      <td>726.06</td>\n",
       "      <td>0</td>\n",
       "      <td>0</td>\n",
       "      <td>1</td>\n",
       "      <td>0.0</td>\n",
       "      <td>5</td>\n",
       "      <td>0</td>\n",
       "      <td>0</td>\n",
       "      <td>...</td>\n",
       "      <td>0.0</td>\n",
       "      <td>0</td>\n",
       "      <td>842.035000</td>\n",
       "      <td>0.0</td>\n",
       "      <td>IBK</td>\n",
       "      <td>0</td>\n",
       "      <td>LIMA CENTRO</td>\n",
       "      <td>10</td>\n",
       "      <td>3</td>\n",
       "      <td>1</td>\n",
       "    </tr>\n",
       "  </tbody>\n",
       "</table>\n",
       "<p>5 rows × 36 columns</p>\n",
       "</div>"
      ],
      "text/plain": [
       "   TARGET_MOD1  PCT_COMISIONES_PAGO_UM  DEUDA_VIG  ADICIONALES_ACTIVAS  \\\n",
       "0            0                0.875648    2338.80                    0   \n",
       "1            0                0.051539     112.24                    0   \n",
       "2            0                1.000000      97.79                    0   \n",
       "3            0                0.131875    1423.26                    0   \n",
       "4            0                1.000000     726.06                    0   \n",
       "\n",
       "   DIAS_MORA  NUM_TC_ACTIVAS  TOTAL_TIEMPO_SOLUCION_UM  TOT_PRODUCTOS  \\\n",
       "0          0               2                       0.0              4   \n",
       "1          0               1                       0.0              2   \n",
       "2          0               1                       0.0              1   \n",
       "3          0               1                       0.0              2   \n",
       "4          0               1                       0.0              5   \n",
       "\n",
       "   IMPORTE_MEMBRESIA_UM  MESES_EXPIRACION  ...  SAL_MES_PP  CLF_IBK  \\\n",
       "0                     0                 0  ...         0.0        0   \n",
       "1                     0                 0  ...         0.0        0   \n",
       "2                     0                 0  ...         0.0        2   \n",
       "3                     0                 0  ...         0.0        0   \n",
       "4                     0                 0  ...         0.0        0   \n",
       "\n",
       "   PROM_MTO_6UM  MONTO_PAGOS_UM  EMP_MAYLINEA_UM  NUM_VOLUNTARIA_UM  \\\n",
       "0   2400.000000             0.0              IBK                  0   \n",
       "1    794.258333             0.0              IBK                  0   \n",
       "2    501.450000             0.0            OTROS                  0   \n",
       "3   1826.080000             0.0            OTROS                  0   \n",
       "4    842.035000             0.0              IBK                  0   \n",
       "\n",
       "        REGION  NUM_TRX_UM  SEGMENTO_BANCO  FLG_TRAIN  \n",
       "0   LIMA NORTE           1               2          1  \n",
       "1   CENTRO SUR           4               3          1  \n",
       "2   CENTRO SUR           0               2          1  \n",
       "3   LIMA NORTE          11               3          1  \n",
       "4  LIMA CENTRO          10               3          1  \n",
       "\n",
       "[5 rows x 36 columns]"
      ]
     },
     "execution_count": 56,
     "metadata": {},
     "output_type": "execute_result"
    }
   ],
   "source": [
    "data.head()"
   ]
  },
  {
   "cell_type": "code",
   "execution_count": 58,
   "metadata": {},
   "outputs": [
    {
     "name": "stdout",
     "output_type": "stream",
     "text": [
      "<class 'pandas.core.frame.DataFrame'>\n",
      "RangeIndex: 179628 entries, 0 to 179627\n",
      "Data columns (total 36 columns):\n",
      " #   Column                    Non-Null Count   Dtype  \n",
      "---  ------                    --------------   -----  \n",
      " 0   TARGET_MOD1               179628 non-null  int64  \n",
      " 1   PCT_COMISIONES_PAGO_UM    179628 non-null  float64\n",
      " 2   DEUDA_VIG                 179628 non-null  float64\n",
      " 3   ADICIONALES_ACTIVAS       179628 non-null  int64  \n",
      " 4   DIAS_MORA                 179628 non-null  int64  \n",
      " 5   NUM_TC_ACTIVAS            179628 non-null  int64  \n",
      " 6   TOTAL_TIEMPO_SOLUCION_UM  179628 non-null  float64\n",
      " 7   TOT_PRODUCTOS             179628 non-null  int64  \n",
      " 8   IMPORTE_MEMBRESIA_UM      179628 non-null  int64  \n",
      " 9   MESES_EXPIRACION          179628 non-null  int64  \n",
      " 10  TOTAL_DURACION_6UM        179628 non-null  int64  \n",
      " 11  MTOPAGOMESTOT_UM          179628 non-null  float64\n",
      " 12  NUM_TC_6UM                179628 non-null  int64  \n",
      " 13  ANTIGUEDAD_ACTIVA         179628 non-null  float64\n",
      " 14  FLG_CUOTAS_UM             179628 non-null  int64  \n",
      " 15  TOTAL_DURACION_UM         179628 non-null  int64  \n",
      " 16  TASADE_UM                 179628 non-null  float64\n",
      " 17  IMPORTE_MEMBRESIA_3UM     179628 non-null  int64  \n",
      " 18  PCT_USO_TC_IBK            179628 non-null  float64\n",
      " 19  PAGOS_6UM                 179628 non-null  int64  \n",
      " 20  TICKET_UM                 179628 non-null  float64\n",
      " 21  CTDCONSUMO30D_UM          179628 non-null  int64  \n",
      " 22  PROM_MTOLINEAUTI_3UM      179628 non-null  float64\n",
      " 23  SALDO_PROM_IBK_6UM        179628 non-null  float64\n",
      " 24  DIF_SALDO_UM              179628 non-null  float64\n",
      " 25  PCT_USO_LINEA_UM          179628 non-null  float64\n",
      " 26  SAL_MES_PP                179628 non-null  float64\n",
      " 27  CLF_IBK                   179628 non-null  int64  \n",
      " 28  PROM_MTO_6UM              179628 non-null  float64\n",
      " 29  MONTO_PAGOS_UM            179628 non-null  float64\n",
      " 30  EMP_MAYLINEA_UM           179628 non-null  object \n",
      " 31  NUM_VOLUNTARIA_UM         179628 non-null  int64  \n",
      " 32  REGION                    179628 non-null  object \n",
      " 33  NUM_TRX_UM                179628 non-null  int64  \n",
      " 34  SEGMENTO_BANCO            179628 non-null  object \n",
      " 35  FLG_TRAIN                 179628 non-null  int64  \n",
      "dtypes: float64(15), int64(18), object(3)\n",
      "memory usage: 49.3+ MB\n"
     ]
    }
   ],
   "source": [
    "data.info()"
   ]
  },
  {
   "cell_type": "code",
   "execution_count": 61,
   "metadata": {},
   "outputs": [
    {
     "data": {
      "text/plain": [
       "0    68.921326\n",
       "1    31.078674\n",
       "Name: TARGET_MOD1, dtype: float64"
      ]
     },
     "execution_count": 61,
     "metadata": {},
     "output_type": "execute_result"
    }
   ],
   "source": [
    "pd.value_counts(data[\"TARGET_MOD1\"])/len(data)*100"
   ]
  },
  {
   "cell_type": "markdown",
   "metadata": {},
   "source": [
    "**FLG_TRAIN**"
   ]
  },
  {
   "cell_type": "markdown",
   "metadata": {},
   "source": [
    "- 1:train (enero a agosto de 2018)\n",
    "- 0:test (septiembre 2018 a febrero 2019)"
   ]
  },
  {
   "cell_type": "code",
   "execution_count": 62,
   "metadata": {},
   "outputs": [],
   "source": [
    "train = data.loc[(data[\"FLG_TRAIN\"]==1)]"
   ]
  },
  {
   "cell_type": "code",
   "execution_count": 63,
   "metadata": {},
   "outputs": [],
   "source": [
    "test = data.loc[(data[\"FLG_TRAIN\"]==0)]"
   ]
  },
  {
   "cell_type": "code",
   "execution_count": 64,
   "metadata": {},
   "outputs": [
    {
     "data": {
      "text/plain": [
       "109722"
      ]
     },
     "execution_count": 64,
     "metadata": {},
     "output_type": "execute_result"
    }
   ],
   "source": [
    "len(train)"
   ]
  },
  {
   "cell_type": "code",
   "execution_count": 65,
   "metadata": {},
   "outputs": [
    {
     "data": {
      "text/plain": [
       "69906"
      ]
     },
     "execution_count": 65,
     "metadata": {},
     "output_type": "execute_result"
    }
   ],
   "source": [
    "len(test)"
   ]
  },
  {
   "cell_type": "code",
   "execution_count": 66,
   "metadata": {},
   "outputs": [],
   "source": [
    "train = train.drop([\"FLG_TRAIN\"],axis=1)"
   ]
  },
  {
   "cell_type": "code",
   "execution_count": 67,
   "metadata": {},
   "outputs": [],
   "source": [
    "test = test.drop([\"FLG_TRAIN\"],axis=1)"
   ]
  },
  {
   "cell_type": "markdown",
   "metadata": {},
   "source": [
    "**Segmento banco (SEGMENTO_BANCO)**"
   ]
  },
  {
   "cell_type": "code",
   "execution_count": 69,
   "metadata": {},
   "outputs": [
    {
     "data": {
      "text/plain": [
       "3      90790\n",
       "2      45346\n",
       "1A     23598\n",
       "1BC     9718\n",
       "4       4063\n",
       "6       3489\n",
       "5       2624\n",
       "Name: SEGMENTO_BANCO, dtype: int64"
      ]
     },
     "execution_count": 69,
     "metadata": {},
     "output_type": "execute_result"
    }
   ],
   "source": [
    "pd.value_counts(data[\"SEGMENTO_BANCO\"])"
   ]
  },
  {
   "cell_type": "code",
   "execution_count": 70,
   "metadata": {},
   "outputs": [
    {
     "data": {
      "text/plain": [
       "3      53004\n",
       "2      29078\n",
       "1A     10599\n",
       "1BC     9093\n",
       "4       3636\n",
       "5       2624\n",
       "6       1688\n",
       "Name: SEGMENTO_BANCO, dtype: int64"
      ]
     },
     "execution_count": 70,
     "metadata": {},
     "output_type": "execute_result"
    }
   ],
   "source": [
    "pd.value_counts(train[\"SEGMENTO_BANCO\"])"
   ]
  },
  {
   "cell_type": "code",
   "execution_count": 71,
   "metadata": {},
   "outputs": [
    {
     "data": {
      "text/plain": [
       "3      37786\n",
       "2      16268\n",
       "1A     12999\n",
       "6       1801\n",
       "1BC      625\n",
       "4        427\n",
       "Name: SEGMENTO_BANCO, dtype: int64"
      ]
     },
     "execution_count": 71,
     "metadata": {},
     "output_type": "execute_result"
    }
   ],
   "source": [
    "pd.value_counts(test[\"SEGMENTO_BANCO\"])"
   ]
  },
  {
   "cell_type": "markdown",
   "metadata": {},
   "source": [
    "**ingenieria de características**"
   ]
  },
  {
   "cell_type": "code",
   "execution_count": 73,
   "metadata": {},
   "outputs": [],
   "source": [
    "train[\"SEGMENTO_BANCO\"]=train[\"SEGMENTO_BANCO\"].replace(\"1A\",7)\n"
   ]
  },
  {
   "cell_type": "code",
   "execution_count": 74,
   "metadata": {},
   "outputs": [],
   "source": [
    "train[\"SEGMENTO_BANCO\"]=train[\"SEGMENTO_BANCO\"].replace(\"1BC\",8)"
   ]
  },
  {
   "cell_type": "code",
   "execution_count": 75,
   "metadata": {},
   "outputs": [],
   "source": [
    "test[\"SEGMENTO_BANCO\"]=test[\"SEGMENTO_BANCO\"].replace(\"1A\",7)\n",
    "test[\"SEGMENTO_BANCO\"]=test[\"SEGMENTO_BANCO\"].replace(\"1BC\",8)"
   ]
  },
  {
   "cell_type": "code",
   "execution_count": 76,
   "metadata": {},
   "outputs": [],
   "source": [
    "#cambio de formato"
   ]
  },
  {
   "cell_type": "code",
   "execution_count": 77,
   "metadata": {},
   "outputs": [],
   "source": [
    "train[\"SEGMENTO_BANCO\"]=train[\"SEGMENTO_BANCO\"].astype(\"int32\")"
   ]
  },
  {
   "cell_type": "code",
   "execution_count": 78,
   "metadata": {},
   "outputs": [],
   "source": [
    "test[\"SEGMENTO_BANCO\"]=test[\"SEGMENTO_BANCO\"].astype(\"int32\")"
   ]
  },
  {
   "cell_type": "markdown",
   "metadata": {},
   "source": [
    "**Codificación de variables**"
   ]
  },
  {
   "cell_type": "code",
   "execution_count": 79,
   "metadata": {},
   "outputs": [],
   "source": [
    "list_text = [\"EMP_MAYLINEA_UM\",\"REGION\"]"
   ]
  },
  {
   "cell_type": "code",
   "execution_count": 80,
   "metadata": {},
   "outputs": [],
   "source": [
    "from collections import defaultdict"
   ]
  },
  {
   "cell_type": "code",
   "execution_count": 81,
   "metadata": {},
   "outputs": [],
   "source": [
    "from sklearn import preprocessing"
   ]
  },
  {
   "cell_type": "code",
   "execution_count": 82,
   "metadata": {},
   "outputs": [],
   "source": [
    "d=defaultdict(preprocessing.LabelEncoder)"
   ]
  },
  {
   "cell_type": "code",
   "execution_count": 83,
   "metadata": {},
   "outputs": [],
   "source": [
    "fit = train.apply(lambda x: d[x.name].fit_transform(x) if x.name in list_text else x)"
   ]
  },
  {
   "cell_type": "code",
   "execution_count": 84,
   "metadata": {},
   "outputs": [],
   "source": [
    "train=train.apply(lambda x: d[x.name].transform(x) if x.name in list_text else x)"
   ]
  },
  {
   "cell_type": "code",
   "execution_count": 85,
   "metadata": {},
   "outputs": [],
   "source": [
    "test=test.apply(lambda x: d[x.name].transform(x) if x.name in list_text else x)"
   ]
  },
  {
   "cell_type": "markdown",
   "metadata": {},
   "source": [
    "**árboles de decisión vs. random forest**"
   ]
  },
  {
   "cell_type": "code",
   "execution_count": 86,
   "metadata": {},
   "outputs": [],
   "source": [
    "from sklearn.model_selection import GridSearchCV #función para optimizar hiperparámetros\n",
    "from sklearn.tree import DecisionTreeClassifier\n",
    "from sklearn.ensemble import RandomForestClassifier"
   ]
  },
  {
   "cell_type": "code",
   "execution_count": 87,
   "metadata": {},
   "outputs": [],
   "source": [
    "tree = DecisionTreeClassifier(criterion=\"entropy\",\n",
    "                             random_state=2023)"
   ]
  },
  {
   "cell_type": "code",
   "execution_count": 88,
   "metadata": {},
   "outputs": [],
   "source": [
    "param_grid = {\"max_depth\":[2,3,4,5,6,7,8,9,10]}"
   ]
  },
  {
   "cell_type": "code",
   "execution_count": 89,
   "metadata": {},
   "outputs": [],
   "source": [
    "model_tree = GridSearchCV(tree, param_grid,\n",
    "                         cv=10,\n",
    "                         scoring=\"recall\")"
   ]
  },
  {
   "cell_type": "markdown",
   "metadata": {},
   "source": [
    "**Nota**: la selección de la metrica objetivo (de comparación) depende del caso de negocio"
   ]
  },
  {
   "cell_type": "code",
   "execution_count": 90,
   "metadata": {},
   "outputs": [],
   "source": [
    "x_train, y_train = train.iloc[:,1:].values, train.iloc[:,0].values"
   ]
  },
  {
   "cell_type": "code",
   "execution_count": 91,
   "metadata": {},
   "outputs": [],
   "source": [
    "x_test, y_test = test.iloc[:,1:].values, test.iloc[:,0].values"
   ]
  },
  {
   "cell_type": "code",
   "execution_count": 92,
   "metadata": {},
   "outputs": [
    {
     "data": {
      "text/plain": [
       "GridSearchCV(cv=10,\n",
       "             estimator=DecisionTreeClassifier(criterion='entropy',\n",
       "                                              random_state=2023),\n",
       "             param_grid={'max_depth': [2, 3, 4, 5, 6, 7, 8, 9, 10]},\n",
       "             scoring='recall')"
      ]
     },
     "execution_count": 92,
     "metadata": {},
     "output_type": "execute_result"
    }
   ],
   "source": [
    "model_tree.fit(x_train,y_train)"
   ]
  },
  {
   "cell_type": "code",
   "execution_count": 93,
   "metadata": {},
   "outputs": [
    {
     "name": "stdout",
     "output_type": "stream",
     "text": [
      "{'max_depth': 4}\n"
     ]
    }
   ],
   "source": [
    "print(model_tree.best_params_)"
   ]
  },
  {
   "cell_type": "code",
   "execution_count": 95,
   "metadata": {},
   "outputs": [],
   "source": [
    "tree = DecisionTreeClassifier(criterion=\"entropy\",\n",
    "                              max_depth=4,\n",
    "                             random_state=2023)"
   ]
  },
  {
   "cell_type": "code",
   "execution_count": 96,
   "metadata": {},
   "outputs": [
    {
     "data": {
      "text/plain": [
       "DecisionTreeClassifier(criterion='entropy', max_depth=4, random_state=2023)"
      ]
     },
     "execution_count": 96,
     "metadata": {},
     "output_type": "execute_result"
    }
   ],
   "source": [
    "tree.fit(x_train,y_train)"
   ]
  },
  {
   "cell_type": "markdown",
   "metadata": {},
   "source": [
    "**Random forest**"
   ]
  },
  {
   "cell_type": "code",
   "execution_count": 97,
   "metadata": {},
   "outputs": [],
   "source": [
    "model_f = RandomForestClassifier(random_state=2023,\n",
    "                                criterion=\"entropy\")"
   ]
  },
  {
   "cell_type": "code",
   "execution_count": 98,
   "metadata": {},
   "outputs": [],
   "source": [
    "param_grid = {\"max_depth\":[2,3,4,5],\n",
    "             \"n_estimators\":[100,150],\n",
    "             \"max_features\":[\"auto\",\"log2\"]}"
   ]
  },
  {
   "cell_type": "code",
   "execution_count": 99,
   "metadata": {},
   "outputs": [],
   "source": [
    "model_RF = GridSearchCV(model_f,\n",
    "                        param_grid,\n",
    "                        cv=10,\n",
    "                        scoring=\"recall\")"
   ]
  },
  {
   "cell_type": "code",
   "execution_count": null,
   "metadata": {},
   "outputs": [],
   "source": [
    "model_RF.fit(x_train, y_train)"
   ]
  },
  {
   "cell_type": "code",
   "execution_count": null,
   "metadata": {},
   "outputs": [],
   "source": [
    "print(model_RF.best_params_)"
   ]
  },
  {
   "cell_type": "code",
   "execution_count": null,
   "metadata": {},
   "outputs": [],
   "source": []
  },
  {
   "cell_type": "code",
   "execution_count": null,
   "metadata": {},
   "outputs": [],
   "source": []
  },
  {
   "cell_type": "code",
   "execution_count": null,
   "metadata": {},
   "outputs": [],
   "source": []
  },
  {
   "cell_type": "code",
   "execution_count": null,
   "metadata": {},
   "outputs": [],
   "source": []
  },
  {
   "cell_type": "code",
   "execution_count": null,
   "metadata": {},
   "outputs": [],
   "source": []
  },
  {
   "cell_type": "code",
   "execution_count": null,
   "metadata": {},
   "outputs": [],
   "source": []
  }
 ],
 "metadata": {
  "kernelspec": {
   "display_name": "Python 3",
   "language": "python",
   "name": "python3"
  },
  "language_info": {
   "codemirror_mode": {
    "name": "ipython",
    "version": 3
   },
   "file_extension": ".py",
   "mimetype": "text/x-python",
   "name": "python",
   "nbconvert_exporter": "python",
   "pygments_lexer": "ipython3",
   "version": "3.8.5"
  }
 },
 "nbformat": 4,
 "nbformat_minor": 4
}
