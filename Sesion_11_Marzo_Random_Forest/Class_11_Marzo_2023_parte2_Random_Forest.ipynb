{
 "cells": [
  {
   "cell_type": "code",
   "execution_count": null,
   "id": "7279119c",
   "metadata": {},
   "outputs": [],
   "source": []
  },
  {
   "cell_type": "markdown",
   "id": "33e93c0d",
   "metadata": {},
   "source": [
    "### Ejemplo de Random forest para CHURN"
   ]
  },
  {
   "cell_type": "code",
   "execution_count": 1,
   "id": "78425087",
   "metadata": {},
   "outputs": [],
   "source": [
    "import pandas as pd"
   ]
  },
  {
   "cell_type": "code",
   "execution_count": 2,
   "id": "33d6121b",
   "metadata": {},
   "outputs": [
    {
     "ename": "AttributeError",
     "evalue": "module 'pandas' has no attribute 'csv'",
     "output_type": "error",
     "traceback": [
      "\u001b[1;31m---------------------------------------------------------------------------\u001b[0m",
      "\u001b[1;31mAttributeError\u001b[0m                            Traceback (most recent call last)",
      "\u001b[1;32m~\\AppData\\Local\\Temp\\ipykernel_11316\\3662944650.py\u001b[0m in \u001b[0;36m<module>\u001b[1;34m\u001b[0m\n\u001b[1;32m----> 1\u001b[1;33m \u001b[0mdata\u001b[0m \u001b[1;33m=\u001b[0m \u001b[0mpd\u001b[0m\u001b[1;33m.\u001b[0m\u001b[0mcsv\u001b[0m\u001b[1;33m(\u001b[0m\u001b[1;34m\"churn.xlsx\"\u001b[0m\u001b[1;33m)\u001b[0m\u001b[1;33m\u001b[0m\u001b[1;33m\u001b[0m\u001b[0m\n\u001b[0m",
      "\u001b[1;32m~\\anaconda3\\lib\\site-packages\\pandas\\__init__.py\u001b[0m in \u001b[0;36m__getattr__\u001b[1;34m(name)\u001b[0m\n\u001b[0;32m    259\u001b[0m         \u001b[1;32mreturn\u001b[0m \u001b[0m_SparseArray\u001b[0m\u001b[1;33m\u001b[0m\u001b[1;33m\u001b[0m\u001b[0m\n\u001b[0;32m    260\u001b[0m \u001b[1;33m\u001b[0m\u001b[0m\n\u001b[1;32m--> 261\u001b[1;33m     \u001b[1;32mraise\u001b[0m \u001b[0mAttributeError\u001b[0m\u001b[1;33m(\u001b[0m\u001b[1;34mf\"module 'pandas' has no attribute '{name}'\"\u001b[0m\u001b[1;33m)\u001b[0m\u001b[1;33m\u001b[0m\u001b[1;33m\u001b[0m\u001b[0m\n\u001b[0m\u001b[0;32m    262\u001b[0m \u001b[1;33m\u001b[0m\u001b[0m\n\u001b[0;32m    263\u001b[0m \u001b[1;33m\u001b[0m\u001b[0m\n",
      "\u001b[1;31mAttributeError\u001b[0m: module 'pandas' has no attribute 'csv'"
     ]
    }
   ],
   "source": [
    "data = pd.read_csv(\"churn.xlsx\")"
   ]
  },
  {
   "cell_type": "code",
   "execution_count": null,
   "id": "da7aa857",
   "metadata": {},
   "outputs": [],
   "source": [
    "data.head()"
   ]
  },
  {
   "cell_type": "markdown",
   "id": "c29f294f",
   "metadata": {},
   "source": [
    "Para informacion de variables "
   ]
  },
  {
   "cell_type": "code",
   "execution_count": null,
   "id": "90c7bda4",
   "metadata": {},
   "outputs": [],
   "source": []
  },
  {
   "cell_type": "code",
   "execution_count": null,
   "id": "fd9f91bd",
   "metadata": {},
   "outputs": [],
   "source": []
  },
  {
   "cell_type": "markdown",
   "id": "a64e5c0a",
   "metadata": {},
   "source": [
    "Para saber casos en fuga y no fuga "
   ]
  },
  {
   "cell_type": "code",
   "execution_count": null,
   "id": "dfd1fe6f",
   "metadata": {},
   "outputs": [],
   "source": [
    "pd.value_count(data['Target_MOD1'])/ len(data)*100"
   ]
  },
  {
   "cell_type": "code",
   "execution_count": null,
   "id": "fd808d37",
   "metadata": {},
   "outputs": [],
   "source": []
  },
  {
   "cell_type": "code",
   "execution_count": null,
   "id": "1b2d7403",
   "metadata": {},
   "outputs": [],
   "source": [
    "train = data.loc[(data[\"FLG_TRAIN\"]==1)]"
   ]
  },
  {
   "cell_type": "code",
   "execution_count": null,
   "id": "76727bad",
   "metadata": {},
   "outputs": [],
   "source": [
    "len(train)"
   ]
  },
  {
   "cell_type": "code",
   "execution_count": null,
   "id": "e90fb1af",
   "metadata": {},
   "outputs": [],
   "source": [
    "test = data.loc[(data[\"FLG_TRAIN\"]==0)]"
   ]
  },
  {
   "cell_type": "code",
   "execution_count": null,
   "id": "a9d9cd08",
   "metadata": {},
   "outputs": [],
   "source": [
    "len(text)"
   ]
  },
  {
   "cell_type": "code",
   "execution_count": null,
   "id": "64c46eeb",
   "metadata": {},
   "outputs": [],
   "source": []
  },
  {
   "cell_type": "code",
   "execution_count": null,
   "id": "fd8123bb",
   "metadata": {},
   "outputs": [],
   "source": []
  },
  {
   "cell_type": "markdown",
   "id": "6e2187c7",
   "metadata": {},
   "source": [
    "#### Como se distribuye la variable segmento banco"
   ]
  },
  {
   "cell_type": "code",
   "execution_count": null,
   "id": "053e7817",
   "metadata": {},
   "outputs": [],
   "source": [
    "El mismo banco ya ha definido esos segmentos "
   ]
  },
  {
   "cell_type": "code",
   "execution_count": null,
   "id": "a44f431b",
   "metadata": {},
   "outputs": [],
   "source": [
    "pd.value_counts(data[\"SEGMENTO_BANCO\"])"
   ]
  },
  {
   "cell_type": "code",
   "execution_count": null,
   "id": "dedb140d",
   "metadata": {},
   "outputs": [],
   "source": []
  },
  {
   "cell_type": "code",
   "execution_count": null,
   "id": "423e9fde",
   "metadata": {},
   "outputs": [],
   "source": [
    "pd.value_counts(train[\"SEGMENTO_BANCO\"])"
   ]
  },
  {
   "cell_type": "code",
   "execution_count": null,
   "id": "680841fa",
   "metadata": {},
   "outputs": [],
   "source": [
    "pd.value_counts(test[\"SEGMENTO_BANCO\"])"
   ]
  },
  {
   "cell_type": "code",
   "execution_count": null,
   "id": "5a1e5090",
   "metadata": {},
   "outputs": [],
   "source": []
  },
  {
   "cell_type": "markdown",
   "id": "9ef4953a",
   "metadata": {},
   "source": [
    "Reemplazar 1A = 7 y 1B= 8 en train "
   ]
  },
  {
   "cell_type": "code",
   "execution_count": null,
   "id": "fa66b478",
   "metadata": {},
   "outputs": [],
   "source": [
    "train[\"SEGMENTO_BANCO\"] = train[\"SEGMENTO_BANCO\"].replace(\"1A,7\") "
   ]
  },
  {
   "cell_type": "code",
   "execution_count": null,
   "id": "18ddb100",
   "metadata": {},
   "outputs": [],
   "source": [
    "train[\"SEGMENTO_BANCO\"] = train[\"SEGMENTO_BANCO\"].replace(\"1B,8\")"
   ]
  },
  {
   "cell_type": "code",
   "execution_count": null,
   "id": "afe9fc2c",
   "metadata": {},
   "outputs": [],
   "source": []
  },
  {
   "cell_type": "markdown",
   "id": "ca63c61c",
   "metadata": {},
   "source": [
    "Reemplazar 1A = 7 y 1B= 8 en test"
   ]
  },
  {
   "cell_type": "code",
   "execution_count": null,
   "id": "6a3d1608",
   "metadata": {},
   "outputs": [],
   "source": [
    "test[\"SEGMENTO_BANCO\"] = test[\"SEGMENTO_BANCO\"].replace(\"1A,7\") \n",
    "test[\"SEGMENTO_BANCO\"] = test[\"SEGMENTO_BANCO\"].replace(\"1B,8\")"
   ]
  },
  {
   "cell_type": "markdown",
   "id": "a47e8015",
   "metadata": {},
   "source": [
    "Una vez recodificado hay que dar el cambio de formato "
   ]
  },
  {
   "cell_type": "code",
   "execution_count": null,
   "id": "1252343f",
   "metadata": {},
   "outputs": [],
   "source": [
    "train[\"SEGMENTO_BANCO\"] = train[\"SEGMENTO_BANCO\"].astype(\"int32\")\n",
    "test[\"SEGMENTO_BANCO\"] = test[\"SEGMENTO_BANCO\"].astype(\"int32\")"
   ]
  },
  {
   "cell_type": "code",
   "execution_count": null,
   "id": "90c22ff5",
   "metadata": {},
   "outputs": [],
   "source": []
  },
  {
   "cell_type": "markdown",
   "id": "8f5819a9",
   "metadata": {},
   "source": [
    "Ahora vamos a hacer la coficación de variables predictoras "
   ]
  },
  {
   "cell_type": "code",
   "execution_count": null,
   "id": "619fc36e",
   "metadata": {},
   "outputs": [],
   "source": []
  },
  {
   "cell_type": "code",
   "execution_count": null,
   "id": "391fc4b5",
   "metadata": {},
   "outputs": [],
   "source": [
    "list_text = [\"EMP_MAY_LINEAR_UM\", \"REGION\"]"
   ]
  },
  {
   "cell_type": "code",
   "execution_count": null,
   "id": "f4446c90",
   "metadata": {},
   "outputs": [],
   "source": [
    "from collections import defaultdict"
   ]
  },
  {
   "cell_type": "code",
   "execution_count": null,
   "id": "112926b0",
   "metadata": {},
   "outputs": [],
   "source": [
    "from sklearn import preprocessing "
   ]
  },
  {
   "cell_type": "code",
   "execution_count": null,
   "id": "1c4a8c20",
   "metadata": {},
   "outputs": [],
   "source": [
    "d = defaultdict(preprocessing.LabelEncoder)"
   ]
  },
  {
   "cell_type": "code",
   "execution_count": null,
   "id": "0f8cafe6",
   "metadata": {},
   "outputs": [],
   "source": []
  },
  {
   "cell_type": "code",
   "execution_count": null,
   "id": "6a1de583",
   "metadata": {},
   "outputs": [],
   "source": [
    "fit = train.apply(lambda x:d[x.name].fit_transform(x) if x.name in list_text else x)"
   ]
  },
  {
   "cell_type": "code",
   "execution_count": null,
   "id": "e4339a96",
   "metadata": {},
   "outputs": [],
   "source": [
    "train = train.apply(lambda x:d[x.name].transform(x) if x.name in list_text else x)"
   ]
  },
  {
   "cell_type": "code",
   "execution_count": null,
   "id": "414f6a71",
   "metadata": {},
   "outputs": [],
   "source": [
    "train = test.apply(lambda x:d[x.name].transform(x) if x.name in list_text else x)"
   ]
  },
  {
   "cell_type": "code",
   "execution_count": null,
   "id": "70387d9c",
   "metadata": {},
   "outputs": [],
   "source": []
  },
  {
   "cell_type": "markdown",
   "id": "2fd8b5f4",
   "metadata": {},
   "source": [
    "#### Random forest vs arboles "
   ]
  },
  {
   "cell_type": "markdown",
   "id": "2157af3d",
   "metadata": {},
   "source": [
    "Función para la optimización de hyperparametors "
   ]
  },
  {
   "cell_type": "code",
   "execution_count": null,
   "id": "3d002843",
   "metadata": {},
   "outputs": [],
   "source": [
    "from sklearn.model_selection import GridSearchCV "
   ]
  },
  {
   "cell_type": "code",
   "execution_count": null,
   "id": "ce4af055",
   "metadata": {},
   "outputs": [],
   "source": []
  },
  {
   "cell_type": "code",
   "execution_count": null,
   "id": "440be8ec",
   "metadata": {},
   "outputs": [],
   "source": [
    "from sklearn.tree import DecisionTreeClassifier\n",
    "from sklearn.ensemble import RandomForestClassifier "
   ]
  },
  {
   "cell_type": "code",
   "execution_count": null,
   "id": "87f7e262",
   "metadata": {},
   "outputs": [],
   "source": []
  },
  {
   "cell_type": "markdown",
   "id": "edd9dccd",
   "metadata": {},
   "source": [
    "Vamos a crear el objeto del modelo de arboles "
   ]
  },
  {
   "cell_type": "code",
   "execution_count": null,
   "id": "01ec8bd0",
   "metadata": {},
   "outputs": [],
   "source": [
    "tree = DecisionTreeClassifier(criterion=\"entropy\",\n",
    "                             random_state=2023)"
   ]
  },
  {
   "cell_type": "markdown",
   "id": "6efe8c79",
   "metadata": {},
   "source": [
    "##### Lo que se quiere optimizar es el max_depth del arbol"
   ]
  },
  {
   "cell_type": "code",
   "execution_count": null,
   "id": "27d6f219",
   "metadata": {},
   "outputs": [],
   "source": [
    "param_grid = {max_depth:[2,3,4,5,6,7,8,9,10]}"
   ]
  },
  {
   "cell_type": "markdown",
   "id": "a291cfa6",
   "metadata": {},
   "source": [
    "Vamos a crear entonces como tal el modeo del arbol como función del param_grid a optimizar"
   ]
  },
  {
   "cell_type": "code",
   "execution_count": null,
   "id": "8da5b932",
   "metadata": {},
   "outputs": [],
   "source": [
    "model_tree = GridSearchCV (tree, param_grid,\n",
    "                          cv =10,\n",
    "                          scoring=\"recall\")"
   ]
  },
  {
   "cell_type": "markdown",
   "id": "00b838a5",
   "metadata": {},
   "source": [
    "Nota: La seleción de la metrica objetivo (de comparación) depende del caso de negocio "
   ]
  },
  {
   "cell_type": "code",
   "execution_count": null,
   "id": "7803e9f6",
   "metadata": {},
   "outputs": [],
   "source": []
  },
  {
   "cell_type": "markdown",
   "id": "9828761f",
   "metadata": {},
   "source": [
    "Ahora vamos a entrenar el modelo y testrarlo "
   ]
  },
  {
   "cell_type": "code",
   "execution_count": null,
   "id": "fe6be0ac",
   "metadata": {},
   "outputs": [],
   "source": [
    "x_train,  y_train = train.iloc[:,1:].values, train.iloc[:,0].values"
   ]
  },
  {
   "cell_type": "code",
   "execution_count": null,
   "id": "64e8e11c",
   "metadata": {},
   "outputs": [],
   "source": [
    "x_test,  y_test = test.iloc[:,1:].values, test.iloc[:,0].values"
   ]
  },
  {
   "cell_type": "code",
   "execution_count": null,
   "id": "6bdd4393",
   "metadata": {},
   "outputs": [],
   "source": []
  },
  {
   "cell_type": "markdown",
   "id": "8496e062",
   "metadata": {},
   "source": [
    "Vamos como tal a realizar el proceso de entrenamiento del modelo "
   ]
  },
  {
   "cell_type": "code",
   "execution_count": null,
   "id": "e89c53a9",
   "metadata": {},
   "outputs": [],
   "source": [
    "model_tree.fit(x_train,y_train)"
   ]
  },
  {
   "cell_type": "markdown",
   "id": "69c073e7",
   "metadata": {},
   "source": [
    "Vamos a buscar el mejor parametro "
   ]
  },
  {
   "cell_type": "code",
   "execution_count": null,
   "id": "ffe92a15",
   "metadata": {},
   "outputs": [],
   "source": [
    "GridSearchCV (cv=10, \n",
    "             estimator = DesicionTreeClassifier())"
   ]
  },
  {
   "cell_type": "code",
   "execution_count": null,
   "id": "62081aaf",
   "metadata": {},
   "outputs": [],
   "source": []
  },
  {
   "cell_type": "code",
   "execution_count": null,
   "id": "78d51680",
   "metadata": {},
   "outputs": [],
   "source": []
  },
  {
   "cell_type": "markdown",
   "id": "5b042c41",
   "metadata": {},
   "source": [
    "#### Ahora hagamos el random forest "
   ]
  },
  {
   "cell_type": "code",
   "execution_count": null,
   "id": "0ef30238",
   "metadata": {},
   "outputs": [],
   "source": []
  },
  {
   "cell_type": "code",
   "execution_count": null,
   "id": "ef109459",
   "metadata": {},
   "outputs": [],
   "source": [
    "model_f  = RandomForestClassifier(random_state =)"
   ]
  },
  {
   "cell_type": "code",
   "execution_count": null,
   "id": "c844a2ed",
   "metadata": {},
   "outputs": [],
   "source": []
  },
  {
   "cell_type": "code",
   "execution_count": null,
   "id": "2b9cfc54",
   "metadata": {},
   "outputs": [],
   "source": []
  }
 ],
 "metadata": {
  "kernelspec": {
   "display_name": "Python 3 (ipykernel)",
   "language": "python",
   "name": "python3"
  },
  "language_info": {
   "codemirror_mode": {
    "name": "ipython",
    "version": 3
   },
   "file_extension": ".py",
   "mimetype": "text/x-python",
   "name": "python",
   "nbconvert_exporter": "python",
   "pygments_lexer": "ipython3",
   "version": "3.9.13"
  }
 },
 "nbformat": 4,
 "nbformat_minor": 5
}
