{
 "cells": [
  {
   "cell_type": "markdown",
   "metadata": {},
   "source": [
    "<center><img src=\"https://media-exp1.licdn.com/dms/image/C4E22AQEbIXZiRVkJPQ/feedshare-shrink_2048_1536/0?e=1608768000&v=beta&t=2xuCh9kIGEeB_dLvnbLm9tAOzMU3dAvyssm5tbazr7c\" width=\"1000\"></center>"
   ]
  },
  {
   "cell_type": "markdown",
   "metadata": {},
   "source": [
    "# Programa de Especialización en Python\n",
    "\n",
    "## Caso: Random Forest con H2O\n",
    "\n",
    "### Prof. Manuel Sigüeñas, M.Sc.(c)\n",
    "[msguenas@socialdata-peru.com](msguenas@socialdata-peru.com)"
   ]
  },
  {
   "cell_type": "code",
   "execution_count": 1,
   "metadata": {},
   "outputs": [],
   "source": [
    "import h2o\n",
    "from h2o.estimators import H2ORandomForestEstimator"
   ]
  },
  {
   "cell_type": "code",
   "execution_count": 2,
   "metadata": {},
   "outputs": [
    {
     "name": "stdout",
     "output_type": "stream",
     "text": [
      "Checking whether there is an H2O instance running at http://localhost:54321 ..... not found.\n",
      "Attempting to start a local H2O server...\n",
      "; Java HotSpot(TM) 64-Bit Server VM (build 25.231-b11, mixed mode)\n",
      "  Starting server from C:\\ProgramData\\Anaconda3\\lib\\site-packages\\h2o\\backend\\bin\\h2o.jar\n",
      "  Ice root: C:\\Users\\SOCIAL~1\\AppData\\Local\\Temp\\tmp17ug2bku\n",
      "  JVM stdout: C:\\Users\\SOCIAL~1\\AppData\\Local\\Temp\\tmp17ug2bku\\h2o_SOCIAL_DATA_started_from_python.out\n",
      "  JVM stderr: C:\\Users\\SOCIAL~1\\AppData\\Local\\Temp\\tmp17ug2bku\\h2o_SOCIAL_DATA_started_from_python.err\n",
      "  Server is running at http://127.0.0.1:54321\n",
      "Connecting to H2O server at http://127.0.0.1:54321 ... successful.\n",
      "Warning: Your H2O cluster version is too old (6 months and 7 days)! Please download and install the latest version from http://h2o.ai/download/\n"
     ]
    },
    {
     "data": {
      "text/html": [
       "<div style=\"overflow:auto\"><table style=\"width:50%\"><tr><td>H2O_cluster_uptime:</td>\n",
       "<td>02 secs</td></tr>\n",
       "<tr><td>H2O_cluster_timezone:</td>\n",
       "<td>America/Bogota</td></tr>\n",
       "<tr><td>H2O_data_parsing_timezone:</td>\n",
       "<td>UTC</td></tr>\n",
       "<tr><td>H2O_cluster_version:</td>\n",
       "<td>3.30.0.1</td></tr>\n",
       "<tr><td>H2O_cluster_version_age:</td>\n",
       "<td>6 months and 7 days !!!</td></tr>\n",
       "<tr><td>H2O_cluster_name:</td>\n",
       "<td>H2O_from_python_SOCIAL_DATA_ezeds2</td></tr>\n",
       "<tr><td>H2O_cluster_total_nodes:</td>\n",
       "<td>1</td></tr>\n",
       "<tr><td>H2O_cluster_free_memory:</td>\n",
       "<td>3.526 Gb</td></tr>\n",
       "<tr><td>H2O_cluster_total_cores:</td>\n",
       "<td>12</td></tr>\n",
       "<tr><td>H2O_cluster_allowed_cores:</td>\n",
       "<td>12</td></tr>\n",
       "<tr><td>H2O_cluster_status:</td>\n",
       "<td>accepting new members, healthy</td></tr>\n",
       "<tr><td>H2O_connection_url:</td>\n",
       "<td>http://127.0.0.1:54321</td></tr>\n",
       "<tr><td>H2O_connection_proxy:</td>\n",
       "<td>{\"http\": null, \"https\": null}</td></tr>\n",
       "<tr><td>H2O_internal_security:</td>\n",
       "<td>False</td></tr>\n",
       "<tr><td>H2O_API_Extensions:</td>\n",
       "<td>Amazon S3, Algos, AutoML, Core V3, TargetEncoder, Core V4</td></tr>\n",
       "<tr><td>Python_version:</td>\n",
       "<td>3.7.6 final</td></tr></table></div>"
      ],
      "text/plain": [
       "--------------------------  ---------------------------------------------------------\n",
       "H2O_cluster_uptime:         02 secs\n",
       "H2O_cluster_timezone:       America/Bogota\n",
       "H2O_data_parsing_timezone:  UTC\n",
       "H2O_cluster_version:        3.30.0.1\n",
       "H2O_cluster_version_age:    6 months and 7 days !!!\n",
       "H2O_cluster_name:           H2O_from_python_SOCIAL_DATA_ezeds2\n",
       "H2O_cluster_total_nodes:    1\n",
       "H2O_cluster_free_memory:    3.526 Gb\n",
       "H2O_cluster_total_cores:    12\n",
       "H2O_cluster_allowed_cores:  12\n",
       "H2O_cluster_status:         accepting new members, healthy\n",
       "H2O_connection_url:         http://127.0.0.1:54321\n",
       "H2O_connection_proxy:       {\"http\": null, \"https\": null}\n",
       "H2O_internal_security:      False\n",
       "H2O_API_Extensions:         Amazon S3, Algos, AutoML, Core V3, TargetEncoder, Core V4\n",
       "Python_version:             3.7.6 final\n",
       "--------------------------  ---------------------------------------------------------"
      ]
     },
     "metadata": {},
     "output_type": "display_data"
    }
   ],
   "source": [
    "h2o.init()"
   ]
  },
  {
   "cell_type": "code",
   "execution_count": 3,
   "metadata": {},
   "outputs": [
    {
     "data": {
      "text/html": [
       "<div>\n",
       "<style scoped>\n",
       "    .dataframe tbody tr th:only-of-type {\n",
       "        vertical-align: middle;\n",
       "    }\n",
       "\n",
       "    .dataframe tbody tr th {\n",
       "        vertical-align: top;\n",
       "    }\n",
       "\n",
       "    .dataframe thead th {\n",
       "        text-align: right;\n",
       "    }\n",
       "</style>\n",
       "<table border=\"1\" class=\"dataframe\">\n",
       "  <thead>\n",
       "    <tr style=\"text-align: right;\">\n",
       "      <th></th>\n",
       "      <th>0</th>\n",
       "      <th>1</th>\n",
       "      <th>2</th>\n",
       "      <th>3</th>\n",
       "      <th>4</th>\n",
       "    </tr>\n",
       "  </thead>\n",
       "  <tbody>\n",
       "    <tr>\n",
       "      <th>0</th>\n",
       "      <td>5.1</td>\n",
       "      <td>3.5</td>\n",
       "      <td>1.4</td>\n",
       "      <td>0.2</td>\n",
       "      <td>Iris-setosa</td>\n",
       "    </tr>\n",
       "    <tr>\n",
       "      <th>1</th>\n",
       "      <td>4.9</td>\n",
       "      <td>3.0</td>\n",
       "      <td>1.4</td>\n",
       "      <td>0.2</td>\n",
       "      <td>Iris-setosa</td>\n",
       "    </tr>\n",
       "    <tr>\n",
       "      <th>2</th>\n",
       "      <td>4.7</td>\n",
       "      <td>3.2</td>\n",
       "      <td>1.3</td>\n",
       "      <td>0.2</td>\n",
       "      <td>Iris-setosa</td>\n",
       "    </tr>\n",
       "    <tr>\n",
       "      <th>3</th>\n",
       "      <td>4.6</td>\n",
       "      <td>3.1</td>\n",
       "      <td>1.5</td>\n",
       "      <td>0.2</td>\n",
       "      <td>Iris-setosa</td>\n",
       "    </tr>\n",
       "    <tr>\n",
       "      <th>4</th>\n",
       "      <td>5.0</td>\n",
       "      <td>3.6</td>\n",
       "      <td>1.4</td>\n",
       "      <td>0.2</td>\n",
       "      <td>Iris-setosa</td>\n",
       "    </tr>\n",
       "  </tbody>\n",
       "</table>\n",
       "</div>"
      ],
      "text/plain": [
       "     0    1    2    3            4\n",
       "0  5.1  3.5  1.4  0.2  Iris-setosa\n",
       "1  4.9  3.0  1.4  0.2  Iris-setosa\n",
       "2  4.7  3.2  1.3  0.2  Iris-setosa\n",
       "3  4.6  3.1  1.5  0.2  Iris-setosa\n",
       "4  5.0  3.6  1.4  0.2  Iris-setosa"
      ]
     },
     "execution_count": 3,
     "metadata": {},
     "output_type": "execute_result"
    }
   ],
   "source": [
    "import pandas as pd\n",
    "FileCSV='https://archive.ics.uci.edu/ml/machine-learning-databases/iris/iris.data'\n",
    "dataCSV=pd.read_csv(FileCSV, header=None)\n",
    "dataCSV.head()"
   ]
  },
  {
   "cell_type": "code",
   "execution_count": 4,
   "metadata": {},
   "outputs": [],
   "source": [
    "dataCSV.columns=['c1','c2','c3','c4','c5']"
   ]
  },
  {
   "cell_type": "code",
   "execution_count": 6,
   "metadata": {},
   "outputs": [
    {
     "data": {
      "text/html": [
       "<div>\n",
       "<style scoped>\n",
       "    .dataframe tbody tr th:only-of-type {\n",
       "        vertical-align: middle;\n",
       "    }\n",
       "\n",
       "    .dataframe tbody tr th {\n",
       "        vertical-align: top;\n",
       "    }\n",
       "\n",
       "    .dataframe thead th {\n",
       "        text-align: right;\n",
       "    }\n",
       "</style>\n",
       "<table border=\"1\" class=\"dataframe\">\n",
       "  <thead>\n",
       "    <tr style=\"text-align: right;\">\n",
       "      <th></th>\n",
       "      <th>c1</th>\n",
       "      <th>c2</th>\n",
       "      <th>c3</th>\n",
       "      <th>c4</th>\n",
       "      <th>c5</th>\n",
       "    </tr>\n",
       "  </thead>\n",
       "  <tbody>\n",
       "    <tr>\n",
       "      <th>0</th>\n",
       "      <td>5.1</td>\n",
       "      <td>3.5</td>\n",
       "      <td>1.4</td>\n",
       "      <td>0.2</td>\n",
       "      <td>Iris-setosa</td>\n",
       "    </tr>\n",
       "    <tr>\n",
       "      <th>1</th>\n",
       "      <td>4.9</td>\n",
       "      <td>3.0</td>\n",
       "      <td>1.4</td>\n",
       "      <td>0.2</td>\n",
       "      <td>Iris-setosa</td>\n",
       "    </tr>\n",
       "    <tr>\n",
       "      <th>2</th>\n",
       "      <td>4.7</td>\n",
       "      <td>3.2</td>\n",
       "      <td>1.3</td>\n",
       "      <td>0.2</td>\n",
       "      <td>Iris-setosa</td>\n",
       "    </tr>\n",
       "    <tr>\n",
       "      <th>3</th>\n",
       "      <td>4.6</td>\n",
       "      <td>3.1</td>\n",
       "      <td>1.5</td>\n",
       "      <td>0.2</td>\n",
       "      <td>Iris-setosa</td>\n",
       "    </tr>\n",
       "    <tr>\n",
       "      <th>4</th>\n",
       "      <td>5.0</td>\n",
       "      <td>3.6</td>\n",
       "      <td>1.4</td>\n",
       "      <td>0.2</td>\n",
       "      <td>Iris-setosa</td>\n",
       "    </tr>\n",
       "  </tbody>\n",
       "</table>\n",
       "</div>"
      ],
      "text/plain": [
       "    c1   c2   c3   c4           c5\n",
       "0  5.1  3.5  1.4  0.2  Iris-setosa\n",
       "1  4.9  3.0  1.4  0.2  Iris-setosa\n",
       "2  4.7  3.2  1.3  0.2  Iris-setosa\n",
       "3  4.6  3.1  1.5  0.2  Iris-setosa\n",
       "4  5.0  3.6  1.4  0.2  Iris-setosa"
      ]
     },
     "execution_count": 6,
     "metadata": {},
     "output_type": "execute_result"
    }
   ],
   "source": [
    "dataCSV.head()"
   ]
  },
  {
   "cell_type": "code",
   "execution_count": 7,
   "metadata": {},
   "outputs": [
    {
     "name": "stdout",
     "output_type": "stream",
     "text": [
      "<class 'pandas.core.frame.DataFrame'>\n",
      "RangeIndex: 150 entries, 0 to 149\n",
      "Data columns (total 5 columns):\n",
      " #   Column  Non-Null Count  Dtype  \n",
      "---  ------  --------------  -----  \n",
      " 0   c1      150 non-null    float64\n",
      " 1   c2      150 non-null    float64\n",
      " 2   c3      150 non-null    float64\n",
      " 3   c4      150 non-null    float64\n",
      " 4   c5      150 non-null    object \n",
      "dtypes: float64(4), object(1)\n",
      "memory usage: 6.0+ KB\n"
     ]
    }
   ],
   "source": [
    "dataCSV.info()"
   ]
  },
  {
   "cell_type": "code",
   "execution_count": 8,
   "metadata": {},
   "outputs": [
    {
     "data": {
      "text/plain": [
       "c5\n",
       "Iris-setosa        50\n",
       "Iris-versicolor    50\n",
       "Iris-virginica     50\n",
       "Name: c5, dtype: int64"
      ]
     },
     "execution_count": 8,
     "metadata": {},
     "output_type": "execute_result"
    }
   ],
   "source": [
    "dataCSV.groupby(\"c5\").c5.count()"
   ]
  },
  {
   "cell_type": "code",
   "execution_count": 19,
   "metadata": {},
   "outputs": [],
   "source": [
    "dataCSV[\"c5\"]=dataCSV[\"c5\"].replace(\"Iris-setosa\",\"setosa\")\n",
    "dataCSV[\"c5\"]=dataCSV[\"c5\"].replace(\"Iris-versicolor\",\"versicolor\")\n",
    "dataCSV[\"c5\"]=dataCSV[\"c5\"].replace(\"Iris-virginica\",\"virginica\")"
   ]
  },
  {
   "cell_type": "code",
   "execution_count": 20,
   "metadata": {},
   "outputs": [
    {
     "name": "stdout",
     "output_type": "stream",
     "text": [
      "Parse progress: |█████████████████████████████████████████████████████████| 100%\n"
     ]
    }
   ],
   "source": [
    "data=h2o.H2OFrame(dataCSV)"
   ]
  },
  {
   "cell_type": "code",
   "execution_count": 21,
   "metadata": {},
   "outputs": [
    {
     "data": {
      "text/plain": [
       "['c1', 'c2', 'c3', 'c4', 'c5']"
      ]
     },
     "execution_count": 21,
     "metadata": {},
     "output_type": "execute_result"
    }
   ],
   "source": [
    "data.col_names"
   ]
  },
  {
   "cell_type": "code",
   "execution_count": 22,
   "metadata": {},
   "outputs": [],
   "source": [
    "# predictores del modelo\n",
    "training_columns = ['c1', 'c2', 'c3', 'c4']\n",
    "# target del modelo\n",
    "response_column = 'c5'"
   ]
  },
  {
   "cell_type": "code",
   "execution_count": 13,
   "metadata": {},
   "outputs": [],
   "source": [
    "# Construcción de datos de entrenamiento y prueba\n",
    "train, test = data.split_frame(ratios=[0.8],seed=2020)"
   ]
  },
  {
   "cell_type": "code",
   "execution_count": 23,
   "metadata": {},
   "outputs": [],
   "source": [
    "# definición del modelo\n",
    "model = H2ORandomForestEstimator(ntrees=50, # número de árboles\n",
    "                                 max_depth=2, #máxima profundidad\n",
    "                                 seed=0,\n",
    "                                 nfolds=10) #muestras de validavión"
   ]
  },
  {
   "cell_type": "code",
   "execution_count": 15,
   "metadata": {},
   "outputs": [
    {
     "name": "stdout",
     "output_type": "stream",
     "text": [
      "drf Model Build progress: |███████████████████████████████████████████████| 100%\n"
     ]
    }
   ],
   "source": [
    "# modelo de entranamiento\n",
    "model.train(x=training_columns, #etiquetas de los predictores\n",
    "            y=response_column, #etiqueta del target\n",
    "            training_frame=train) #datos de entrenamiento"
   ]
  },
  {
   "cell_type": "code",
   "execution_count": 16,
   "metadata": {},
   "outputs": [
    {
     "name": "stdout",
     "output_type": "stream",
     "text": [
      "\n",
      "ModelMetricsMultinomial: drf\n",
      "** Reported on test data. **\n",
      "\n",
      "MSE: 0.02575206745387155\n",
      "RMSE: 0.1604745071775313\n",
      "LogLoss: 0.11435681031551473\n",
      "Mean Per-Class Error: 0.03954175905395418\n",
      "\n",
      "Confusion Matrix: Row labels: Actual class; Column labels: Predicted class\n"
     ]
    },
    {
     "data": {
      "text/html": [
       "<div>\n",
       "<style scoped>\n",
       "    .dataframe tbody tr th:only-of-type {\n",
       "        vertical-align: middle;\n",
       "    }\n",
       "\n",
       "    .dataframe tbody tr th {\n",
       "        vertical-align: top;\n",
       "    }\n",
       "\n",
       "    .dataframe thead th {\n",
       "        text-align: right;\n",
       "    }\n",
       "</style>\n",
       "<table border=\"1\" class=\"dataframe\">\n",
       "  <thead>\n",
       "    <tr style=\"text-align: right;\">\n",
       "      <th></th>\n",
       "      <th>setosa</th>\n",
       "      <th>versicolor</th>\n",
       "      <th>virginica</th>\n",
       "      <th>Error</th>\n",
       "      <th>Rate</th>\n",
       "    </tr>\n",
       "  </thead>\n",
       "  <tbody>\n",
       "    <tr>\n",
       "      <th>0</th>\n",
       "      <td>40.0</td>\n",
       "      <td>0.0</td>\n",
       "      <td>0.0</td>\n",
       "      <td>0.000000</td>\n",
       "      <td>0 / 40</td>\n",
       "    </tr>\n",
       "    <tr>\n",
       "      <th>1</th>\n",
       "      <td>0.0</td>\n",
       "      <td>38.0</td>\n",
       "      <td>3.0</td>\n",
       "      <td>0.073171</td>\n",
       "      <td>3 / 41</td>\n",
       "    </tr>\n",
       "    <tr>\n",
       "      <th>2</th>\n",
       "      <td>0.0</td>\n",
       "      <td>2.0</td>\n",
       "      <td>42.0</td>\n",
       "      <td>0.045455</td>\n",
       "      <td>2 / 44</td>\n",
       "    </tr>\n",
       "    <tr>\n",
       "      <th>3</th>\n",
       "      <td>40.0</td>\n",
       "      <td>40.0</td>\n",
       "      <td>45.0</td>\n",
       "      <td>0.040000</td>\n",
       "      <td>5 / 125</td>\n",
       "    </tr>\n",
       "  </tbody>\n",
       "</table>\n",
       "</div>"
      ],
      "text/plain": [
       "   setosa  versicolor  virginica     Error     Rate\n",
       "0    40.0         0.0        0.0  0.000000   0 / 40\n",
       "1     0.0        38.0        3.0  0.073171   3 / 41\n",
       "2     0.0         2.0       42.0  0.045455   2 / 44\n",
       "3    40.0        40.0       45.0  0.040000  5 / 125"
      ]
     },
     "metadata": {},
     "output_type": "display_data"
    },
    {
     "name": "stdout",
     "output_type": "stream",
     "text": [
      "\n",
      "Top-3 Hit Ratios: \n"
     ]
    },
    {
     "data": {
      "text/html": [
       "<div>\n",
       "<style scoped>\n",
       "    .dataframe tbody tr th:only-of-type {\n",
       "        vertical-align: middle;\n",
       "    }\n",
       "\n",
       "    .dataframe tbody tr th {\n",
       "        vertical-align: top;\n",
       "    }\n",
       "\n",
       "    .dataframe thead th {\n",
       "        text-align: right;\n",
       "    }\n",
       "</style>\n",
       "<table border=\"1\" class=\"dataframe\">\n",
       "  <thead>\n",
       "    <tr style=\"text-align: right;\">\n",
       "      <th></th>\n",
       "      <th>k</th>\n",
       "      <th>hit_ratio</th>\n",
       "    </tr>\n",
       "  </thead>\n",
       "  <tbody>\n",
       "    <tr>\n",
       "      <th>0</th>\n",
       "      <td>1</td>\n",
       "      <td>0.96</td>\n",
       "    </tr>\n",
       "    <tr>\n",
       "      <th>1</th>\n",
       "      <td>2</td>\n",
       "      <td>1.00</td>\n",
       "    </tr>\n",
       "    <tr>\n",
       "      <th>2</th>\n",
       "      <td>3</td>\n",
       "      <td>1.00</td>\n",
       "    </tr>\n",
       "  </tbody>\n",
       "</table>\n",
       "</div>"
      ],
      "text/plain": [
       "   k  hit_ratio\n",
       "0  1       0.96\n",
       "1  2       1.00\n",
       "2  3       1.00"
      ]
     },
     "metadata": {},
     "output_type": "display_data"
    },
    {
     "data": {
      "text/plain": []
     },
     "execution_count": 16,
     "metadata": {},
     "output_type": "execute_result"
    }
   ],
   "source": [
    "performance = model.model_performance(train)\n",
    "performance"
   ]
  },
  {
   "cell_type": "code",
   "execution_count": 26,
   "metadata": {},
   "outputs": [],
   "source": [
    "#performance.plot(type=\"roc\")"
   ]
  },
  {
   "cell_type": "code",
   "execution_count": 17,
   "metadata": {},
   "outputs": [
    {
     "data": {
      "image/png": "[encoded data removed]",
      "text/plain": [
       "<Figure size 1008x720 with 1 Axes>"
      ]
     },
     "metadata": {
      "needs_background": "light"
     },
     "output_type": "display_data"
    }
   ],
   "source": [
    "model.varimp_plot()"
   ]
  },
  {
   "cell_type": "code",
   "execution_count": 18,
   "metadata": {},
   "outputs": [
    {
     "name": "stdout",
     "output_type": "stream",
     "text": [
      "\n",
      "ModelMetricsMultinomial: drf\n",
      "** Reported on test data. **\n",
      "\n",
      "MSE: 0.014595283523771605\n",
      "RMSE: 0.12081094124197363\n",
      "LogLoss: 0.07639770701996741\n",
      "Mean Per-Class Error: 0.05555555555555555\n",
      "\n",
      "Confusion Matrix: Row labels: Actual class; Column labels: Predicted class\n"
     ]
    },
    {
     "data": {
      "text/html": [
       "<div>\n",
       "<style scoped>\n",
       "    .dataframe tbody tr th:only-of-type {\n",
       "        vertical-align: middle;\n",
       "    }\n",
       "\n",
       "    .dataframe tbody tr th {\n",
       "        vertical-align: top;\n",
       "    }\n",
       "\n",
       "    .dataframe thead th {\n",
       "        text-align: right;\n",
       "    }\n",
       "</style>\n",
       "<table border=\"1\" class=\"dataframe\">\n",
       "  <thead>\n",
       "    <tr style=\"text-align: right;\">\n",
       "      <th></th>\n",
       "      <th>setosa</th>\n",
       "      <th>versicolor</th>\n",
       "      <th>virginica</th>\n",
       "      <th>Error</th>\n",
       "      <th>Rate</th>\n",
       "    </tr>\n",
       "  </thead>\n",
       "  <tbody>\n",
       "    <tr>\n",
       "      <th>0</th>\n",
       "      <td>10.0</td>\n",
       "      <td>0.0</td>\n",
       "      <td>0.0</td>\n",
       "      <td>0.000000</td>\n",
       "      <td>0 / 10</td>\n",
       "    </tr>\n",
       "    <tr>\n",
       "      <th>1</th>\n",
       "      <td>0.0</td>\n",
       "      <td>9.0</td>\n",
       "      <td>0.0</td>\n",
       "      <td>0.000000</td>\n",
       "      <td>0 / 9</td>\n",
       "    </tr>\n",
       "    <tr>\n",
       "      <th>2</th>\n",
       "      <td>0.0</td>\n",
       "      <td>1.0</td>\n",
       "      <td>5.0</td>\n",
       "      <td>0.166667</td>\n",
       "      <td>1 / 6</td>\n",
       "    </tr>\n",
       "    <tr>\n",
       "      <th>3</th>\n",
       "      <td>10.0</td>\n",
       "      <td>10.0</td>\n",
       "      <td>5.0</td>\n",
       "      <td>0.040000</td>\n",
       "      <td>1 / 25</td>\n",
       "    </tr>\n",
       "  </tbody>\n",
       "</table>\n",
       "</div>"
      ],
      "text/plain": [
       "   setosa  versicolor  virginica     Error    Rate\n",
       "0    10.0         0.0        0.0  0.000000  0 / 10\n",
       "1     0.0         9.0        0.0  0.000000   0 / 9\n",
       "2     0.0         1.0        5.0  0.166667   1 / 6\n",
       "3    10.0        10.0        5.0  0.040000  1 / 25"
      ]
     },
     "metadata": {},
     "output_type": "display_data"
    },
    {
     "name": "stdout",
     "output_type": "stream",
     "text": [
      "\n",
      "Top-3 Hit Ratios: \n"
     ]
    },
    {
     "data": {
      "text/html": [
       "<div>\n",
       "<style scoped>\n",
       "    .dataframe tbody tr th:only-of-type {\n",
       "        vertical-align: middle;\n",
       "    }\n",
       "\n",
       "    .dataframe tbody tr th {\n",
       "        vertical-align: top;\n",
       "    }\n",
       "\n",
       "    .dataframe thead th {\n",
       "        text-align: right;\n",
       "    }\n",
       "</style>\n",
       "<table border=\"1\" class=\"dataframe\">\n",
       "  <thead>\n",
       "    <tr style=\"text-align: right;\">\n",
       "      <th></th>\n",
       "      <th>k</th>\n",
       "      <th>hit_ratio</th>\n",
       "    </tr>\n",
       "  </thead>\n",
       "  <tbody>\n",
       "    <tr>\n",
       "      <th>0</th>\n",
       "      <td>1</td>\n",
       "      <td>0.96</td>\n",
       "    </tr>\n",
       "    <tr>\n",
       "      <th>1</th>\n",
       "      <td>2</td>\n",
       "      <td>1.00</td>\n",
       "    </tr>\n",
       "    <tr>\n",
       "      <th>2</th>\n",
       "      <td>3</td>\n",
       "      <td>1.00</td>\n",
       "    </tr>\n",
       "  </tbody>\n",
       "</table>\n",
       "</div>"
      ],
      "text/plain": [
       "   k  hit_ratio\n",
       "0  1       0.96\n",
       "1  2       1.00\n",
       "2  3       1.00"
      ]
     },
     "metadata": {},
     "output_type": "display_data"
    },
    {
     "name": "stdout",
     "output_type": "stream",
     "text": [
      "\n"
     ]
    }
   ],
   "source": [
    "# Performance del modelo\n",
    "performance2 = model.model_performance(test_data=test)\n",
    "\n",
    "print(performance2)"
   ]
  },
  {
   "cell_type": "markdown",
   "metadata": {},
   "source": [
    "## CASO PRACTICO"
   ]
  },
  {
   "cell_type": "markdown",
   "metadata": {},
   "source": [
    "### DESCRIPCIÓN\n",
    "Los datos están relacionados con campañas de marketing directo de una institución bancaria portuguesa. Las campañas de marketing se basaron en llamadas telefónicas. A menudo, se requería más de un contacto con el mismo cliente para acceder si el producto (depósito bancario a plazo) estaría ('sí') o no ('no') suscrito."
   ]
  },
  {
   "cell_type": "markdown",
   "metadata": {},
   "source": [
    "### Información del atributo:"
   ]
  },
  {
   "cell_type": "markdown",
   "metadata": {},
   "source": [
    "### Variables de entrada:\n",
    "   #### datos del cliente bancario:\n",
    "   1 - age :edad del cliente (numérico)\n",
    "   \n",
    "   2 - job: tipo de trabajo (categórico: \"administrador\", \"desconocido\", \"desempleado\", \"gerencia\", \"empleada doméstica\", \"empresario\", \"estudiante\",\n",
    "                                       \"obrero\", \"autónomo\", \"jubilado\", \"técnico\", \"servicios\")\n",
    "                                       \n",
    "   3 - marital: estado civil (categórico: \"casado\", \"divorciado\", \"soltero\"; nota: \"divorciado\" significa divorciado o viudo)\n",
    "   \n",
    "   4 - education :educacion del cliente (categórica: \"desconocido\", \"secundario\", \"primario\", \"terciario\")\n",
    "   \n",
    "   5 - default: incumplimiento del cliente ¿tiene crédito en incumplimiento? (binario: \"sí\", \"no\")\n",
    "   \n",
    "   6 - balance: saldo medio anual, en euros (numérico)\n",
    "   \n",
    "   7 - housing: tiene préstamo de vivienda? (binario: \"sí\", \"no\")\n",
    "   \n",
    "   8 - loan: tiene préstamo personal? (binario: \"sí\", \"no\")\n",
    "   \n",
    "   #### relacionado con el último contacto de la campaña actual:\n",
    "   9 - contact: tipo de comunicación de contacto (categórico: \"desconocido\", \"teléfono\", \"celular\")\n",
    "   \n",
    "  10 day: último día de contacto del mes (numérico)\n",
    "  \n",
    "  11 month: último contacto del año del año (categórico: \"ene\", \"feb\", \"mar\", ..., \"nov\", \"dec\")\n",
    "  \n",
    "  12 - duration: duración del último contacto, en segundos (numérico)\n",
    "  \n",
    "   #### otros atributos:\n",
    "  13 - campaign: número de contactos realizados durante esta campaña y para este cliente (numérico, incluye el último contacto)\n",
    "  \n",
    "  14 pdays: número de días que pasaron después de que el cliente fue contactado por última vez desde una campaña anterior (numérico, -1 significa que el cliente no fue contactado previamente)\n",
    "  \n",
    "  15 - previous: número de contactos realizados antes de esta campaña y para este cliente (numérico)\n",
    "  \n",
    "  16 - poutcome: resultado de la campaña de marketing anterior (categórico: \"desconocido\", \"otro\", \"fracaso\", \"éxito\")\n",
    "\n",
    "  ### Variable de salida (objetivo deseado):\n",
    "  17 - y - ¿el cliente ha suscrito un depósito a plazo? (binario: \"sí\", \"no\")"
   ]
  },
  {
   "cell_type": "markdown",
   "metadata": {},
   "source": [
    "**Fuente :**\n",
    "    \n",
    "[Moro et al., 2014] S. Moro, P. Cortez and P. Rita. A Data-Driven Approach to Predict the Success of Bank Telemarketing. Decision Support Systems, Elsevier, 62:22-31, June 2014"
   ]
  },
  {
   "cell_type": "markdown",
   "metadata": {},
   "source": [
    "### Actividades\n",
    "\n",
    "1. Dividir la data en 70% de entrenamiento y lo restante para la data de testeo.\n",
    "2. Entrenar el modelo con los siguientes parametros 60 arboles,3 de profundidad y 8 folders para la validacion cruzada.\n",
    "3. Encontrar el AUC del modelo de la validacion cruzada para los datos de entrenamiento.\n",
    "4. Obtener el AUC del modelo con la data de testeo."
   ]
  },
  {
   "cell_type": "code",
   "execution_count": 11,
   "metadata": {},
   "outputs": [],
   "source": [
    "import h2o\n",
    "from h2o.estimators import H2ORandomForestEstimator"
   ]
  },
  {
   "cell_type": "code",
   "execution_count": 14,
   "metadata": {},
   "outputs": [
    {
     "name": "stdout",
     "output_type": "stream",
     "text": [
      "Checking whether there is an H2O instance running at http://localhost:54321 . connected.\n"
     ]
    },
    {
     "data": {
      "text/html": [
       "<div style=\"overflow:auto\"><table style=\"width:50%\"><tr><td>H2O cluster uptime:</td>\n",
       "<td>11 mins 36 secs</td></tr>\n",
       "<tr><td>H2O cluster timezone:</td>\n",
       "<td>America/Bogota</td></tr>\n",
       "<tr><td>H2O data parsing timezone:</td>\n",
       "<td>UTC</td></tr>\n",
       "<tr><td>H2O cluster version:</td>\n",
       "<td>3.28.0.4</td></tr>\n",
       "<tr><td>H2O cluster version age:</td>\n",
       "<td>16 days </td></tr>\n",
       "<tr><td>H2O cluster name:</td>\n",
       "<td>H2O_from_python_SOCIAL_DATA_0rgpt4</td></tr>\n",
       "<tr><td>H2O cluster total nodes:</td>\n",
       "<td>1</td></tr>\n",
       "<tr><td>H2O cluster free memory:</td>\n",
       "<td>3.127 Gb</td></tr>\n",
       "<tr><td>H2O cluster total cores:</td>\n",
       "<td>12</td></tr>\n",
       "<tr><td>H2O cluster allowed cores:</td>\n",
       "<td>12</td></tr>\n",
       "<tr><td>H2O cluster status:</td>\n",
       "<td>locked, healthy</td></tr>\n",
       "<tr><td>H2O connection url:</td>\n",
       "<td>http://localhost:54321</td></tr>\n",
       "<tr><td>H2O connection proxy:</td>\n",
       "<td>{'http': None, 'https': None}</td></tr>\n",
       "<tr><td>H2O internal security:</td>\n",
       "<td>False</td></tr>\n",
       "<tr><td>H2O API Extensions:</td>\n",
       "<td>Amazon S3, Algos, AutoML, Core V3, TargetEncoder, Core V4</td></tr>\n",
       "<tr><td>Python version:</td>\n",
       "<td>3.7.3 final</td></tr></table></div>"
      ],
      "text/plain": [
       "--------------------------  ---------------------------------------------------------\n",
       "H2O cluster uptime:         11 mins 36 secs\n",
       "H2O cluster timezone:       America/Bogota\n",
       "H2O data parsing timezone:  UTC\n",
       "H2O cluster version:        3.28.0.4\n",
       "H2O cluster version age:    16 days\n",
       "H2O cluster name:           H2O_from_python_SOCIAL_DATA_0rgpt4\n",
       "H2O cluster total nodes:    1\n",
       "H2O cluster free memory:    3.127 Gb\n",
       "H2O cluster total cores:    12\n",
       "H2O cluster allowed cores:  12\n",
       "H2O cluster status:         locked, healthy\n",
       "H2O connection url:         http://localhost:54321\n",
       "H2O connection proxy:       {'http': None, 'https': None}\n",
       "H2O internal security:      False\n",
       "H2O API Extensions:         Amazon S3, Algos, AutoML, Core V3, TargetEncoder, Core V4\n",
       "Python version:             3.7.3 final\n",
       "--------------------------  ---------------------------------------------------------"
      ]
     },
     "metadata": {},
     "output_type": "display_data"
    }
   ],
   "source": [
    "h2o.init()"
   ]
  },
  {
   "cell_type": "code",
   "execution_count": 46,
   "metadata": {},
   "outputs": [
    {
     "name": "stdout",
     "output_type": "stream",
     "text": [
      "Parse progress: |█████████████████████████████████████████████████████████| 100%\n"
     ]
    }
   ],
   "source": [
    "import numpy as np\n",
    "import pandas as pd\n",
    "FileCSV=\"D:/SOCIAL DATA/Dropbox/Python 5ta edición - Programa Completo/3. avanzado/sesión_02/datos/bank-full.csv\"\n",
    "df_bank=pd.read_csv(FileCSV,sep=\";\")\n",
    "data = h2o.import_file(FileCSV)"
   ]
  },
  {
   "cell_type": "code",
   "execution_count": 47,
   "metadata": {},
   "outputs": [
    {
     "data": {
      "text/html": [
       "<table>\n",
       "<thead>\n",
       "<tr><th style=\"text-align: right;\">  age</th><th>job         </th><th>marital  </th><th>education  </th><th>default  </th><th style=\"text-align: right;\">  balance</th><th>housing  </th><th>loan  </th><th>contact  </th><th style=\"text-align: right;\">  day</th><th>month  </th><th style=\"text-align: right;\">  duration</th><th style=\"text-align: right;\">  campaign</th><th style=\"text-align: right;\">  pdays</th><th style=\"text-align: right;\">  previous</th><th>poutcome  </th><th>y  </th></tr>\n",
       "</thead>\n",
       "<tbody>\n",
       "<tr><td style=\"text-align: right;\">   58</td><td>management  </td><td>married  </td><td>tertiary   </td><td>no       </td><td style=\"text-align: right;\">     2143</td><td>yes      </td><td>no    </td><td>unknown  </td><td style=\"text-align: right;\">    5</td><td>may    </td><td style=\"text-align: right;\">       261</td><td style=\"text-align: right;\">         1</td><td style=\"text-align: right;\">     -1</td><td style=\"text-align: right;\">         0</td><td>unknown   </td><td>no </td></tr>\n",
       "<tr><td style=\"text-align: right;\">   44</td><td>technician  </td><td>single   </td><td>secondary  </td><td>no       </td><td style=\"text-align: right;\">       29</td><td>yes      </td><td>no    </td><td>unknown  </td><td style=\"text-align: right;\">    5</td><td>may    </td><td style=\"text-align: right;\">       151</td><td style=\"text-align: right;\">         1</td><td style=\"text-align: right;\">     -1</td><td style=\"text-align: right;\">         0</td><td>unknown   </td><td>no </td></tr>\n",
       "<tr><td style=\"text-align: right;\">   33</td><td>entrepreneur</td><td>married  </td><td>secondary  </td><td>no       </td><td style=\"text-align: right;\">        2</td><td>yes      </td><td>yes   </td><td>unknown  </td><td style=\"text-align: right;\">    5</td><td>may    </td><td style=\"text-align: right;\">        76</td><td style=\"text-align: right;\">         1</td><td style=\"text-align: right;\">     -1</td><td style=\"text-align: right;\">         0</td><td>unknown   </td><td>no </td></tr>\n",
       "<tr><td style=\"text-align: right;\">   47</td><td>blue-collar </td><td>married  </td><td>unknown    </td><td>no       </td><td style=\"text-align: right;\">     1506</td><td>yes      </td><td>no    </td><td>unknown  </td><td style=\"text-align: right;\">    5</td><td>may    </td><td style=\"text-align: right;\">        92</td><td style=\"text-align: right;\">         1</td><td style=\"text-align: right;\">     -1</td><td style=\"text-align: right;\">         0</td><td>unknown   </td><td>no </td></tr>\n",
       "<tr><td style=\"text-align: right;\">   33</td><td>unknown     </td><td>single   </td><td>unknown    </td><td>no       </td><td style=\"text-align: right;\">        1</td><td>no       </td><td>no    </td><td>unknown  </td><td style=\"text-align: right;\">    5</td><td>may    </td><td style=\"text-align: right;\">       198</td><td style=\"text-align: right;\">         1</td><td style=\"text-align: right;\">     -1</td><td style=\"text-align: right;\">         0</td><td>unknown   </td><td>no </td></tr>\n",
       "<tr><td style=\"text-align: right;\">   35</td><td>management  </td><td>married  </td><td>tertiary   </td><td>no       </td><td style=\"text-align: right;\">      231</td><td>yes      </td><td>no    </td><td>unknown  </td><td style=\"text-align: right;\">    5</td><td>may    </td><td style=\"text-align: right;\">       139</td><td style=\"text-align: right;\">         1</td><td style=\"text-align: right;\">     -1</td><td style=\"text-align: right;\">         0</td><td>unknown   </td><td>no </td></tr>\n",
       "<tr><td style=\"text-align: right;\">   28</td><td>management  </td><td>single   </td><td>tertiary   </td><td>no       </td><td style=\"text-align: right;\">      447</td><td>yes      </td><td>yes   </td><td>unknown  </td><td style=\"text-align: right;\">    5</td><td>may    </td><td style=\"text-align: right;\">       217</td><td style=\"text-align: right;\">         1</td><td style=\"text-align: right;\">     -1</td><td style=\"text-align: right;\">         0</td><td>unknown   </td><td>no </td></tr>\n",
       "<tr><td style=\"text-align: right;\">   42</td><td>entrepreneur</td><td>divorced </td><td>tertiary   </td><td>yes      </td><td style=\"text-align: right;\">        2</td><td>yes      </td><td>no    </td><td>unknown  </td><td style=\"text-align: right;\">    5</td><td>may    </td><td style=\"text-align: right;\">       380</td><td style=\"text-align: right;\">         1</td><td style=\"text-align: right;\">     -1</td><td style=\"text-align: right;\">         0</td><td>unknown   </td><td>no </td></tr>\n",
       "<tr><td style=\"text-align: right;\">   58</td><td>retired     </td><td>married  </td><td>primary    </td><td>no       </td><td style=\"text-align: right;\">      121</td><td>yes      </td><td>no    </td><td>unknown  </td><td style=\"text-align: right;\">    5</td><td>may    </td><td style=\"text-align: right;\">        50</td><td style=\"text-align: right;\">         1</td><td style=\"text-align: right;\">     -1</td><td style=\"text-align: right;\">         0</td><td>unknown   </td><td>no </td></tr>\n",
       "<tr><td style=\"text-align: right;\">   43</td><td>technician  </td><td>single   </td><td>secondary  </td><td>no       </td><td style=\"text-align: right;\">      593</td><td>yes      </td><td>no    </td><td>unknown  </td><td style=\"text-align: right;\">    5</td><td>may    </td><td style=\"text-align: right;\">        55</td><td style=\"text-align: right;\">         1</td><td style=\"text-align: right;\">     -1</td><td style=\"text-align: right;\">         0</td><td>unknown   </td><td>no </td></tr>\n",
       "</tbody>\n",
       "</table>"
      ]
     },
     "metadata": {},
     "output_type": "display_data"
    },
    {
     "data": {
      "text/plain": []
     },
     "execution_count": 47,
     "metadata": {},
     "output_type": "execute_result"
    }
   ],
   "source": [
    "data"
   ]
  }
 ],
 "metadata": {
  "kernelspec": {
   "display_name": "Python 3",
   "language": "python",
   "name": "python3"
  },
  "language_info": {
   "codemirror_mode": {
    "name": "ipython",
    "version": 3
   },
   "file_extension": ".py",
   "mimetype": "text/x-python",
   "name": "python",
   "nbconvert_exporter": "python",
   "pygments_lexer": "ipython3",
   "version": "3.7.6"
  }
 },
 "nbformat": 4,
 "nbformat_minor": 2
}
