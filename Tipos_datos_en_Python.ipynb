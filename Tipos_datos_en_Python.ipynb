{
 "cells": [
  {
   "cell_type": "markdown",
   "metadata": {},
   "source": [
    "<center><img src=\"https://media-exp1.licdn.com/dms/image/C4E22AQEbIXZiRVkJPQ/feedshare-shrink_2048_1536/0?e=1602115200&v=beta&t=XHE3KbzKbKy54WYDTfq7VFNUPfNjoIOrjBw6dzFPTfA\" width=\"1000\"></center>"
   ]
  },
  {
   "cell_type": "markdown",
   "metadata": {},
   "source": [
    "# SDC Certified Program in Python for Data Science\n",
    "\n",
    "## Tema 5. Entendimiento de datos\n",
    "\n",
    "### Prof. Manuel Sigüeñas, M.Sc.(c) \n",
    "\n",
    "[Perfil](https://socialdata-peru.com/learning/teacher2.php)\n",
    "\n",
    "### Prof. Lenguajes de Programación para Ciencia de Datos / Agile Data Scientists / SCRUMStudy Certified Trainer\n",
    "\n",
    "\n",
    "[msiguenas@socialdata-peru.com](msiguenas@socialdata-peru.com)\n"
   ]
  },
  {
   "cell_type": "markdown",
   "metadata": {},
   "source": [
    "<a id='beginning'></a>\n",
    "\n",
    "En esta sección veremos una breve introducción a conceptos básicos y una primera aproximación a los datos a través del análisis exploratorio:\n",
    "\n",
    "1. [Variables e indicadores](#part1) \n",
    "2. [Tipos de datos](#part2)\n",
    "3. [Análisis exploratorio de datos (AED)](#part3)\n",
    "4. [Codificación y particionamiento de datos](#part4)\n",
    "5. [Laboratorio 5](#part5)"
   ]
  },
  {
   "cell_type": "code",
   "execution_count": 1,
   "metadata": {},
   "outputs": [],
   "source": [
    "from IPython.display import Image\n",
    "%matplotlib inline"
   ]
  },
  {
   "cell_type": "markdown",
   "metadata": {},
   "source": [
    "<a id='part1'></a>\n",
    "## Variables e indicadores"
   ]
  },
  {
   "cell_type": "markdown",
   "metadata": {},
   "source": [
    "- **Operacionalización**: proceso de conceptos abstractos a fenómenos observables. Es importante la Operacionalización, porque lo que utilizamos en la investigación no son conceptos, sino indicadores.\n",
    "- **Instrumentación**: pasos para formular observaciones.\n",
    "- **Medición**: La asignación de valores que representan propiedades. El resultado de esta es que tenemos un valor que podemos asociar con alguna variable en un caso dado.\n",
    "- **Variables**: Son caracter´ısticas o propiedades del fenomeno que se investiga cuya variación, a lo largo del tiempo y del espacio, son susceptibles de medirse u observarse.\n",
    "- **Indicadores**: constituyen los elementos m´ as concretos de una variable y son los que permiten observarlas y medirlas."
   ]
  },
  {
   "cell_type": "markdown",
   "metadata": {},
   "source": [
    "### ¿Qué es una variable estadística?"
   ]
  },
  {
   "cell_type": "markdown",
   "metadata": {},
   "source": [
    "- Una variable es cualquier función que asigna números a los elementos de una población. Tales números miden alguna característica de los elementos de la población.\n",
    "- Los números se asignan de acuerdo con una escala y representan la medición de una determinada característica en cada unidad estadística.\n",
    "- En una población se pueden definir muchas variables estadísticas.\n",
    "- Rango de una variable estadística: es el conjunto formado por todos los valores que puede asumir la variable estadística."
   ]
  },
  {
   "cell_type": "markdown",
   "metadata": {},
   "source": [
    "### Según su naturaleza:"
   ]
  },
  {
   "cell_type": "markdown",
   "metadata": {},
   "source": [
    "- **V. Independiente (predictora o exógena)**: es aquella que funciona como causa u origen del fenómeno.\n",
    "- **V. Interviniente**: aquella que de alguna manera influye en el resultado, pero no necesariamente se encontrara presente en todos los procesos.\n",
    "- **V. Dependiente (objetivo o endógena)**: funciona como efecto de la variable independiente."
   ]
  },
  {
   "cell_type": "markdown",
   "metadata": {},
   "source": [
    "### Según el tipo de medición:"
   ]
  },
  {
   "cell_type": "markdown",
   "metadata": {},
   "source": [
    "- **Medición**: es el proceso de observación de una caracteristica de interés (variable), sobre una unidad estadística.\n",
    "- **Escala de medición**: es una regla (función) que asigna números a las mediciones realizadas en las unidades estad´ısticas. Los números asignados por las escalas deben informar lo más precisamente posible acerca de las características de cada unidad observada."
   ]
  },
  {
   "cell_type": "markdown",
   "metadata": {},
   "source": [
    "# Escalas de Medición"
   ]
  },
  {
   "cell_type": "markdown",
   "metadata": {},
   "source": [
    "## Escala Nominal"
   ]
  },
  {
   "cell_type": "markdown",
   "metadata": {},
   "source": [
    "Proceden de clasificaciones o tipologías cuyas clases o tipos no se pueden ordenar.\n",
    "Se obtiene simplemente nombrando los casos mediante cierto esquema de clasificación predeterminado.\n",
    "\n",
    "- a. No asignar un caso a más de una categoría.\n",
    "\n",
    "- b. Las categorías deberían establecerse de manera que todos los casos puedan asignarse a alguna categoría.\n",
    "\n",
    "Ejemplo: sistema de votación en el congreso. 1= voto a favor; 0= voto en contra; -1= no voto."
   ]
  },
  {
   "cell_type": "markdown",
   "metadata": {},
   "source": [
    "## Escala Ordinal"
   ]
  },
  {
   "cell_type": "markdown",
   "metadata": {},
   "source": [
    "- Utilizan criterios de medición basados en conjunto de categorías que pueden ordenarse de mayor a menor. \n",
    "- Permite no solo clasiﬁcar los fenómenos por categorías, sino también ordenarlos por grados.\n",
    "\n",
    "Ejemplo: nivel educativo"
   ]
  },
  {
   "cell_type": "markdown",
   "metadata": {},
   "source": [
    "## Escala Intervalo"
   ]
  },
  {
   "cell_type": "markdown",
   "metadata": {},
   "source": [
    "- Se funda en la idea de que hay alguna unidad normalizada de la propiedad que se mide. \n",
    "- Esta escala no tiene un cero real sino un cero relativo, deﬁnido arbitrariamente y que no indica ausencia de la característica medida. \n",
    "- El punto cero de la escala es arbitrario y se pueden usar valores negativos, estos no signiﬁcan ausencia o carencia de valor y existe una unidad de igualdad entre los valores y sus diferencias se pueden expresar como razones.\n",
    "\n",
    "Ejemplo: escalas de valoración de una institución democrática."
   ]
  },
  {
   "cell_type": "markdown",
   "metadata": {},
   "source": [
    "## Escala Razón"
   ]
  },
  {
   "cell_type": "markdown",
   "metadata": {},
   "source": [
    "- Es una escala de intervalos en la que además los números asignados representan las cantidades de la característica que se mide.\n",
    "- La proporción entre dos números corresponde a la misma proporción entre las cantidades de la característica medida. \n",
    "- El cero aquí es real e indica ausencia total de la característica que mide la variable.\n",
    "\n",
    "Ejemplos: inﬂación, salario, porcentaje de aprobación presidencial."
   ]
  },
  {
   "cell_type": "markdown",
   "metadata": {},
   "source": [
    "## Escalas Cuantitativas Discretas y Continuas"
   ]
  },
  {
   "cell_type": "markdown",
   "metadata": {},
   "source": [
    "- Es una manera de clasiﬁcar a las variables cuantitativas de escala intervalo y razón.\n",
    "- Discreta: puede tomar valores dentro de un conjunto determinado de posibilidades. También son conocidas como escalas cuantitativas de conteo. \n",
    "\n",
    "Ejemplo: número de hijos.\n",
    "\n",
    "- Continuas: toma valores dentro de un continuo, es decir, un intervalo de valores. Los valores nunca pueden ser medidos con exactitud y dependen del instrumento de investigación. \n",
    "\n",
    "Ejemplo: índice de apoyo al sistema político."
   ]
  },
  {
   "cell_type": "markdown",
   "metadata": {},
   "source": [
    "____\n",
    "[Ir a inicio](#beginning)"
   ]
  },
  {
   "cell_type": "markdown",
   "metadata": {},
   "source": [
    "<a id='part2'></a>\n",
    "# Tipos de Datos"
   ]
  },
  {
   "cell_type": "code",
   "execution_count": 2,
   "metadata": {},
   "outputs": [
    {
     "ename": "FileNotFoundError",
     "evalue": "[Errno 2] No such file or directory: 'D:/Python/1. Nivel I/5/imagenes/Figura02ConjuntoDeDatos.jpg'",
     "output_type": "error",
     "traceback": [
      "\u001b[1;31m---------------------------------------------------------------------------\u001b[0m",
      "\u001b[1;31mFileNotFoundError\u001b[0m                         Traceback (most recent call last)",
      "\u001b[1;32m~\\AppData\\Local\\Temp\\ipykernel_3324\\3992556917.py\u001b[0m in \u001b[0;36m<module>\u001b[1;34m\u001b[0m\n\u001b[1;32m----> 1\u001b[1;33m \u001b[0mImage\u001b[0m\u001b[1;33m(\u001b[0m\u001b[0mfilename\u001b[0m\u001b[1;33m=\u001b[0m\u001b[1;34m'D:/Python/1. Nivel I/5/imagenes/Figura02ConjuntoDeDatos.jpg'\u001b[0m\u001b[1;33m,\u001b[0m \u001b[0mwidth\u001b[0m\u001b[1;33m=\u001b[0m\u001b[1;36m600\u001b[0m\u001b[1;33m)\u001b[0m\u001b[1;33m\u001b[0m\u001b[1;33m\u001b[0m\u001b[0m\n\u001b[0m",
      "\u001b[1;32m~\\anaconda3\\lib\\site-packages\\IPython\\core\\display.py\u001b[0m in \u001b[0;36m__init__\u001b[1;34m(self, data, url, filename, format, embed, width, height, retina, unconfined, metadata)\u001b[0m\n\u001b[0;32m   1229\u001b[0m         \u001b[0mself\u001b[0m\u001b[1;33m.\u001b[0m\u001b[0mretina\u001b[0m \u001b[1;33m=\u001b[0m \u001b[0mretina\u001b[0m\u001b[1;33m\u001b[0m\u001b[1;33m\u001b[0m\u001b[0m\n\u001b[0;32m   1230\u001b[0m         \u001b[0mself\u001b[0m\u001b[1;33m.\u001b[0m\u001b[0munconfined\u001b[0m \u001b[1;33m=\u001b[0m \u001b[0munconfined\u001b[0m\u001b[1;33m\u001b[0m\u001b[1;33m\u001b[0m\u001b[0m\n\u001b[1;32m-> 1231\u001b[1;33m         super(Image, self).__init__(data=data, url=url, filename=filename, \n\u001b[0m\u001b[0;32m   1232\u001b[0m                 metadata=metadata)\n\u001b[0;32m   1233\u001b[0m \u001b[1;33m\u001b[0m\u001b[0m\n",
      "\u001b[1;32m~\\anaconda3\\lib\\site-packages\\IPython\\core\\display.py\u001b[0m in \u001b[0;36m__init__\u001b[1;34m(self, data, url, filename, metadata)\u001b[0m\n\u001b[0;32m    635\u001b[0m             \u001b[0mself\u001b[0m\u001b[1;33m.\u001b[0m\u001b[0mmetadata\u001b[0m \u001b[1;33m=\u001b[0m \u001b[1;33m{\u001b[0m\u001b[1;33m}\u001b[0m\u001b[1;33m\u001b[0m\u001b[1;33m\u001b[0m\u001b[0m\n\u001b[0;32m    636\u001b[0m \u001b[1;33m\u001b[0m\u001b[0m\n\u001b[1;32m--> 637\u001b[1;33m         \u001b[0mself\u001b[0m\u001b[1;33m.\u001b[0m\u001b[0mreload\u001b[0m\u001b[1;33m(\u001b[0m\u001b[1;33m)\u001b[0m\u001b[1;33m\u001b[0m\u001b[1;33m\u001b[0m\u001b[0m\n\u001b[0m\u001b[0;32m    638\u001b[0m         \u001b[0mself\u001b[0m\u001b[1;33m.\u001b[0m\u001b[0m_check_data\u001b[0m\u001b[1;33m(\u001b[0m\u001b[1;33m)\u001b[0m\u001b[1;33m\u001b[0m\u001b[1;33m\u001b[0m\u001b[0m\n\u001b[0;32m    639\u001b[0m \u001b[1;33m\u001b[0m\u001b[0m\n",
      "\u001b[1;32m~\\anaconda3\\lib\\site-packages\\IPython\\core\\display.py\u001b[0m in \u001b[0;36mreload\u001b[1;34m(self)\u001b[0m\n\u001b[0;32m   1261\u001b[0m         \u001b[1;34m\"\"\"Reload the raw data from file or URL.\"\"\"\u001b[0m\u001b[1;33m\u001b[0m\u001b[1;33m\u001b[0m\u001b[0m\n\u001b[0;32m   1262\u001b[0m         \u001b[1;32mif\u001b[0m \u001b[0mself\u001b[0m\u001b[1;33m.\u001b[0m\u001b[0membed\u001b[0m\u001b[1;33m:\u001b[0m\u001b[1;33m\u001b[0m\u001b[1;33m\u001b[0m\u001b[0m\n\u001b[1;32m-> 1263\u001b[1;33m             \u001b[0msuper\u001b[0m\u001b[1;33m(\u001b[0m\u001b[0mImage\u001b[0m\u001b[1;33m,\u001b[0m\u001b[0mself\u001b[0m\u001b[1;33m)\u001b[0m\u001b[1;33m.\u001b[0m\u001b[0mreload\u001b[0m\u001b[1;33m(\u001b[0m\u001b[1;33m)\u001b[0m\u001b[1;33m\u001b[0m\u001b[1;33m\u001b[0m\u001b[0m\n\u001b[0m\u001b[0;32m   1264\u001b[0m             \u001b[1;32mif\u001b[0m \u001b[0mself\u001b[0m\u001b[1;33m.\u001b[0m\u001b[0mretina\u001b[0m\u001b[1;33m:\u001b[0m\u001b[1;33m\u001b[0m\u001b[1;33m\u001b[0m\u001b[0m\n\u001b[0;32m   1265\u001b[0m                 \u001b[0mself\u001b[0m\u001b[1;33m.\u001b[0m\u001b[0m_retina_shape\u001b[0m\u001b[1;33m(\u001b[0m\u001b[1;33m)\u001b[0m\u001b[1;33m\u001b[0m\u001b[1;33m\u001b[0m\u001b[0m\n",
      "\u001b[1;32m~\\anaconda3\\lib\\site-packages\\IPython\\core\\display.py\u001b[0m in \u001b[0;36mreload\u001b[1;34m(self)\u001b[0m\n\u001b[0;32m    660\u001b[0m         \u001b[1;34m\"\"\"Reload the raw data from file or URL.\"\"\"\u001b[0m\u001b[1;33m\u001b[0m\u001b[1;33m\u001b[0m\u001b[0m\n\u001b[0;32m    661\u001b[0m         \u001b[1;32mif\u001b[0m \u001b[0mself\u001b[0m\u001b[1;33m.\u001b[0m\u001b[0mfilename\u001b[0m \u001b[1;32mis\u001b[0m \u001b[1;32mnot\u001b[0m \u001b[1;32mNone\u001b[0m\u001b[1;33m:\u001b[0m\u001b[1;33m\u001b[0m\u001b[1;33m\u001b[0m\u001b[0m\n\u001b[1;32m--> 662\u001b[1;33m             \u001b[1;32mwith\u001b[0m \u001b[0mopen\u001b[0m\u001b[1;33m(\u001b[0m\u001b[0mself\u001b[0m\u001b[1;33m.\u001b[0m\u001b[0mfilename\u001b[0m\u001b[1;33m,\u001b[0m \u001b[0mself\u001b[0m\u001b[1;33m.\u001b[0m\u001b[0m_read_flags\u001b[0m\u001b[1;33m)\u001b[0m \u001b[1;32mas\u001b[0m \u001b[0mf\u001b[0m\u001b[1;33m:\u001b[0m\u001b[1;33m\u001b[0m\u001b[1;33m\u001b[0m\u001b[0m\n\u001b[0m\u001b[0;32m    663\u001b[0m                 \u001b[0mself\u001b[0m\u001b[1;33m.\u001b[0m\u001b[0mdata\u001b[0m \u001b[1;33m=\u001b[0m \u001b[0mf\u001b[0m\u001b[1;33m.\u001b[0m\u001b[0mread\u001b[0m\u001b[1;33m(\u001b[0m\u001b[1;33m)\u001b[0m\u001b[1;33m\u001b[0m\u001b[1;33m\u001b[0m\u001b[0m\n\u001b[0;32m    664\u001b[0m         \u001b[1;32melif\u001b[0m \u001b[0mself\u001b[0m\u001b[1;33m.\u001b[0m\u001b[0murl\u001b[0m \u001b[1;32mis\u001b[0m \u001b[1;32mnot\u001b[0m \u001b[1;32mNone\u001b[0m\u001b[1;33m:\u001b[0m\u001b[1;33m\u001b[0m\u001b[1;33m\u001b[0m\u001b[0m\n",
      "\u001b[1;31mFileNotFoundError\u001b[0m: [Errno 2] No such file or directory: 'D:/Python/1. Nivel I/5/imagenes/Figura02ConjuntoDeDatos.jpg'"
     ]
    }
   ],
   "source": [
    "Image(filename='D:/Python/1. Nivel I/5/imagenes/Figura02ConjuntoDeDatos.jpg', width=600)"
   ]
  },
  {
   "cell_type": "code",
   "execution_count": null,
   "metadata": {},
   "outputs": [],
   "source": [
    "Image(filename='D:/Python/1. Nivel I/5/imagenes/Figura03ConjuntosDeDatos.jpg', width=600)"
   ]
  },
  {
   "cell_type": "code",
   "execution_count": null,
   "metadata": {},
   "outputs": [],
   "source": [
    "Image(filename='D:/Python/1. Nivel I/5/imagenes/Figura04DatosDeRegitro.jpg', width=600)"
   ]
  },
  {
   "cell_type": "code",
   "execution_count": null,
   "metadata": {},
   "outputs": [],
   "source": [
    "Image(filename='D:/Python/1. Nivel I/5/imagenes/Figura06DatosDeDocumentos.jpg', width=600)"
   ]
  },
  {
   "cell_type": "code",
   "execution_count": null,
   "metadata": {},
   "outputs": [],
   "source": [
    "Image(filename='D:/Python/1. Nivel I/5/imagenes/Figura07DatosDeTransacciones.jpg', width=600)"
   ]
  },
  {
   "cell_type": "code",
   "execution_count": null,
   "metadata": {},
   "outputs": [],
   "source": [
    "Image(filename='D:/Python/1. Nivel I/5/imagenes/Figura08DatosDeGrafos.jpg', width=600)"
   ]
  },
  {
   "cell_type": "code",
   "execution_count": null,
   "metadata": {},
   "outputs": [],
   "source": [
    "Image(filename='D:/Python/1. Nivel I/5/imagenes/Figura09DatosOrdenados.jpg', width=600)"
   ]
  },
  {
   "cell_type": "code",
   "execution_count": null,
   "metadata": {},
   "outputs": [],
   "source": [
    "Image(filename='D:/Python/1. Nivel I/5/imagenes/Figura10DatosEspaciales.jpg', width=600)"
   ]
  },
  {
   "cell_type": "markdown",
   "metadata": {},
   "source": [
    "<a id='part3'></a>\n",
    "## Análisis exploratorio de datos (AED)"
   ]
  },
  {
   "cell_type": "markdown",
   "metadata": {},
   "source": [
    "- Motivación: Comprender mejor los datos. Medidas de tendencia central, variabilidad y dispersión. \n",
    "- Características de la dispersión de los datos:\n",
    "- Mediana, máximo, mínimo, cuantiles, outliers, varianza, etc. \n",
    "- Análisis con las gráﬁcas de Boxplots o cuantiles. \n",
    "- Distribución"
   ]
  },
  {
   "cell_type": "code",
   "execution_count": 3,
   "metadata": {},
   "outputs": [],
   "source": [
    "import pandas as pd\n",
    "import numpy as np\n",
    "import matplotlib.pyplot as plt\n",
    "import seaborn as sns\n",
    "import os"
   ]
  },
  {
   "cell_type": "code",
   "execution_count": 8,
   "metadata": {},
   "outputs": [
    {
     "data": {
      "text/plain": [
       "'C:\\\\Users\\\\sergi\\\\OneDrive\\\\Documentos\\\\SIR_personal\\\\Python_SDC_HP-i3'"
      ]
     },
     "execution_count": 8,
     "metadata": {},
     "output_type": "execute_result"
    }
   ],
   "source": [
    "os.getcwd()#directorio de trabajo"
   ]
  },
  {
   "cell_type": "code",
   "execution_count": 9,
   "metadata": {},
   "outputs": [],
   "source": [
    "os.chdir(R\"C:\\Users\\sergi\\OneDrive\\Documentos\\SIR_personal\\Python_SDC_HP-i3\")#directorio de trabajo"
   ]
  },
  {
   "cell_type": "code",
   "execution_count": 10,
   "metadata": {},
   "outputs": [
    {
     "data": {
      "text/plain": [
       "'C:\\\\Users\\\\sergi\\\\OneDrive\\\\Documentos\\\\SIR_personal\\\\Python_SDC_HP-i3'"
      ]
     },
     "execution_count": 10,
     "metadata": {},
     "output_type": "execute_result"
    }
   ],
   "source": [
    "os.getcwd()"
   ]
  },
  {
   "cell_type": "code",
   "execution_count": 11,
   "metadata": {},
   "outputs": [
    {
     "data": {
      "text/html": [
       "<div>\n",
       "<style scoped>\n",
       "    .dataframe tbody tr th:only-of-type {\n",
       "        vertical-align: middle;\n",
       "    }\n",
       "\n",
       "    .dataframe tbody tr th {\n",
       "        vertical-align: top;\n",
       "    }\n",
       "\n",
       "    .dataframe thead th {\n",
       "        text-align: right;\n",
       "    }\n",
       "</style>\n",
       "<table border=\"1\" class=\"dataframe\">\n",
       "  <thead>\n",
       "    <tr style=\"text-align: right;\">\n",
       "      <th></th>\n",
       "      <th>Edad</th>\n",
       "      <th>Genero</th>\n",
       "      <th>Vivienda</th>\n",
       "      <th>Ecivil</th>\n",
       "      <th>Ubicacion</th>\n",
       "      <th>Salario</th>\n",
       "      <th>Hijos</th>\n",
       "      <th>Historial</th>\n",
       "      <th>Catalogos</th>\n",
       "      <th>Monto</th>\n",
       "    </tr>\n",
       "  </thead>\n",
       "  <tbody>\n",
       "    <tr>\n",
       "      <th>0</th>\n",
       "      <td>Adulta</td>\n",
       "      <td>Femenino</td>\n",
       "      <td>Propia</td>\n",
       "      <td>Soltero</td>\n",
       "      <td>Lejos</td>\n",
       "      <td>47500</td>\n",
       "      <td>0</td>\n",
       "      <td>Alto</td>\n",
       "      <td>6</td>\n",
       "      <td>755</td>\n",
       "    </tr>\n",
       "    <tr>\n",
       "      <th>1</th>\n",
       "      <td>Media</td>\n",
       "      <td>Masculino</td>\n",
       "      <td>Alquilada</td>\n",
       "      <td>Soltero</td>\n",
       "      <td>Cerca</td>\n",
       "      <td>63600</td>\n",
       "      <td>0</td>\n",
       "      <td>Alto</td>\n",
       "      <td>6</td>\n",
       "      <td>1318</td>\n",
       "    </tr>\n",
       "    <tr>\n",
       "      <th>2</th>\n",
       "      <td>Joven</td>\n",
       "      <td>Femenino</td>\n",
       "      <td>Alquilada</td>\n",
       "      <td>Soltero</td>\n",
       "      <td>Cerca</td>\n",
       "      <td>13500</td>\n",
       "      <td>0</td>\n",
       "      <td>Bajo</td>\n",
       "      <td>18</td>\n",
       "      <td>296</td>\n",
       "    </tr>\n",
       "    <tr>\n",
       "      <th>3</th>\n",
       "      <td>Media</td>\n",
       "      <td>Masculino</td>\n",
       "      <td>Propia</td>\n",
       "      <td>Casado</td>\n",
       "      <td>Cerca</td>\n",
       "      <td>85600</td>\n",
       "      <td>1</td>\n",
       "      <td>Alto</td>\n",
       "      <td>18</td>\n",
       "      <td>2436</td>\n",
       "    </tr>\n",
       "    <tr>\n",
       "      <th>4</th>\n",
       "      <td>Media</td>\n",
       "      <td>Femenino</td>\n",
       "      <td>Propia</td>\n",
       "      <td>Soltero</td>\n",
       "      <td>Cerca</td>\n",
       "      <td>68400</td>\n",
       "      <td>0</td>\n",
       "      <td>Alto</td>\n",
       "      <td>12</td>\n",
       "      <td>1304</td>\n",
       "    </tr>\n",
       "  </tbody>\n",
       "</table>\n",
       "</div>"
      ],
      "text/plain": [
       "     Edad     Genero   Vivienda   Ecivil Ubicacion  Salario  Hijos Historial  \\\n",
       "0  Adulta   Femenino     Propia  Soltero     Lejos    47500      0      Alto   \n",
       "1   Media  Masculino  Alquilada  Soltero     Cerca    63600      0      Alto   \n",
       "2   Joven   Femenino  Alquilada  Soltero     Cerca    13500      0      Bajo   \n",
       "3   Media  Masculino     Propia   Casado     Cerca    85600      1      Alto   \n",
       "4   Media   Femenino     Propia  Soltero     Cerca    68400      0      Alto   \n",
       "\n",
       "   Catalogos  Monto  \n",
       "0          6    755  \n",
       "1          6   1318  \n",
       "2         18    296  \n",
       "3         18   2436  \n",
       "4         12   1304  "
      ]
     },
     "execution_count": 11,
     "metadata": {},
     "output_type": "execute_result"
    }
   ],
   "source": [
    "FileCSV=\"MarketingDirecto.csv\"\n",
    "mark=pd.read_csv(FileCSV,  #ruta del archivo\n",
    "                 sep=',') #separador de atributo que usa el fichero csv\n",
    "mark.head() #head() para mostrar los primeros 5 valore o filas"
   ]
  },
  {
   "cell_type": "code",
   "execution_count": 12,
   "metadata": {},
   "outputs": [
    {
     "data": {
      "text/html": [
       "<div>\n",
       "<style scoped>\n",
       "    .dataframe tbody tr th:only-of-type {\n",
       "        vertical-align: middle;\n",
       "    }\n",
       "\n",
       "    .dataframe tbody tr th {\n",
       "        vertical-align: top;\n",
       "    }\n",
       "\n",
       "    .dataframe thead th {\n",
       "        text-align: right;\n",
       "    }\n",
       "</style>\n",
       "<table border=\"1\" class=\"dataframe\">\n",
       "  <thead>\n",
       "    <tr style=\"text-align: right;\">\n",
       "      <th></th>\n",
       "      <th>Edad</th>\n",
       "      <th>Genero</th>\n",
       "      <th>Vivienda</th>\n",
       "      <th>Ecivil</th>\n",
       "      <th>Ubicacion</th>\n",
       "      <th>Salario</th>\n",
       "      <th>Hijos</th>\n",
       "      <th>Historial</th>\n",
       "      <th>Catalogos</th>\n",
       "      <th>Monto</th>\n",
       "    </tr>\n",
       "  </thead>\n",
       "  <tbody>\n",
       "    <tr>\n",
       "      <th>995</th>\n",
       "      <td>Joven</td>\n",
       "      <td>Femenino</td>\n",
       "      <td>Alquilada</td>\n",
       "      <td>Soltero</td>\n",
       "      <td>Cerca</td>\n",
       "      <td>19400</td>\n",
       "      <td>1</td>\n",
       "      <td>NaN</td>\n",
       "      <td>18</td>\n",
       "      <td>384</td>\n",
       "    </tr>\n",
       "    <tr>\n",
       "      <th>996</th>\n",
       "      <td>Media</td>\n",
       "      <td>Masculino</td>\n",
       "      <td>Alquilada</td>\n",
       "      <td>Soltero</td>\n",
       "      <td>Lejos</td>\n",
       "      <td>40500</td>\n",
       "      <td>1</td>\n",
       "      <td>NaN</td>\n",
       "      <td>18</td>\n",
       "      <td>1073</td>\n",
       "    </tr>\n",
       "    <tr>\n",
       "      <th>997</th>\n",
       "      <td>Adulta</td>\n",
       "      <td>Masculino</td>\n",
       "      <td>Propia</td>\n",
       "      <td>Soltero</td>\n",
       "      <td>Cerca</td>\n",
       "      <td>44800</td>\n",
       "      <td>0</td>\n",
       "      <td>Medio</td>\n",
       "      <td>24</td>\n",
       "      <td>1417</td>\n",
       "    </tr>\n",
       "    <tr>\n",
       "      <th>998</th>\n",
       "      <td>Media</td>\n",
       "      <td>Masculino</td>\n",
       "      <td>Propia</td>\n",
       "      <td>Casado</td>\n",
       "      <td>Cerca</td>\n",
       "      <td>79000</td>\n",
       "      <td>2</td>\n",
       "      <td>Medio</td>\n",
       "      <td>18</td>\n",
       "      <td>671</td>\n",
       "    </tr>\n",
       "    <tr>\n",
       "      <th>999</th>\n",
       "      <td>Joven</td>\n",
       "      <td>Masculino</td>\n",
       "      <td>Alquilada</td>\n",
       "      <td>Casado</td>\n",
       "      <td>Cerca</td>\n",
       "      <td>53600</td>\n",
       "      <td>1</td>\n",
       "      <td>Medio</td>\n",
       "      <td>24</td>\n",
       "      <td>973</td>\n",
       "    </tr>\n",
       "  </tbody>\n",
       "</table>\n",
       "</div>"
      ],
      "text/plain": [
       "       Edad     Genero   Vivienda   Ecivil Ubicacion  Salario  Hijos  \\\n",
       "995   Joven   Femenino  Alquilada  Soltero     Cerca    19400      1   \n",
       "996   Media  Masculino  Alquilada  Soltero     Lejos    40500      1   \n",
       "997  Adulta  Masculino     Propia  Soltero     Cerca    44800      0   \n",
       "998   Media  Masculino     Propia   Casado     Cerca    79000      2   \n",
       "999   Joven  Masculino  Alquilada   Casado     Cerca    53600      1   \n",
       "\n",
       "    Historial  Catalogos  Monto  \n",
       "995       NaN         18    384  \n",
       "996       NaN         18   1073  \n",
       "997     Medio         24   1417  \n",
       "998     Medio         18    671  \n",
       "999     Medio         24    973  "
      ]
     },
     "execution_count": 12,
     "metadata": {},
     "output_type": "execute_result"
    }
   ],
   "source": [
    "mark.tail()"
   ]
  },
  {
   "cell_type": "code",
   "execution_count": 15,
   "metadata": {},
   "outputs": [
    {
     "data": {
      "text/plain": [
       "True"
      ]
     },
     "execution_count": 15,
     "metadata": {},
     "output_type": "execute_result"
    }
   ],
   "source": [
    "# Controlando valores nulos\n",
    "mark.isnull().any().any()"
   ]
  },
  {
   "cell_type": "code",
   "execution_count": 16,
   "metadata": {},
   "outputs": [
    {
     "data": {
      "text/plain": [
       "Edad         False\n",
       "Genero       False\n",
       "Vivienda     False\n",
       "Ecivil       False\n",
       "Ubicacion    False\n",
       "Salario      False\n",
       "Hijos        False\n",
       "Historial     True\n",
       "Catalogos    False\n",
       "Monto        False\n",
       "dtype: bool"
      ]
     },
     "execution_count": 16,
     "metadata": {},
     "output_type": "execute_result"
    }
   ],
   "source": [
    "mark.isnull().any()"
   ]
  },
  {
   "cell_type": "markdown",
   "metadata": {},
   "source": [
    "Para quitar todos los valores NA en la columna Historical "
   ]
  },
  {
   "cell_type": "code",
   "execution_count": 17,
   "metadata": {},
   "outputs": [],
   "source": [
    "mark[\"historial_null\"] =mark[\"Historial\"].isnull()"
   ]
  },
  {
   "cell_type": "code",
   "execution_count": 18,
   "metadata": {},
   "outputs": [],
   "source": [
    "mark2 = mark.loc[(mark['historial_null'] == True)]"
   ]
  },
  {
   "cell_type": "code",
   "execution_count": 19,
   "metadata": {},
   "outputs": [
    {
     "data": {
      "text/html": [
       "<div>\n",
       "<style scoped>\n",
       "    .dataframe tbody tr th:only-of-type {\n",
       "        vertical-align: middle;\n",
       "    }\n",
       "\n",
       "    .dataframe tbody tr th {\n",
       "        vertical-align: top;\n",
       "    }\n",
       "\n",
       "    .dataframe thead th {\n",
       "        text-align: right;\n",
       "    }\n",
       "</style>\n",
       "<table border=\"1\" class=\"dataframe\">\n",
       "  <thead>\n",
       "    <tr style=\"text-align: right;\">\n",
       "      <th></th>\n",
       "      <th>Edad</th>\n",
       "      <th>Genero</th>\n",
       "      <th>Vivienda</th>\n",
       "      <th>Ecivil</th>\n",
       "      <th>Ubicacion</th>\n",
       "      <th>Salario</th>\n",
       "      <th>Hijos</th>\n",
       "      <th>Historial</th>\n",
       "      <th>Catalogos</th>\n",
       "      <th>Monto</th>\n",
       "      <th>historial_null</th>\n",
       "    </tr>\n",
       "  </thead>\n",
       "  <tbody>\n",
       "    <tr>\n",
       "      <th>9</th>\n",
       "      <td>Adulta</td>\n",
       "      <td>Masculino</td>\n",
       "      <td>Propia</td>\n",
       "      <td>Casado</td>\n",
       "      <td>Lejos</td>\n",
       "      <td>80700</td>\n",
       "      <td>0</td>\n",
       "      <td>NaN</td>\n",
       "      <td>18</td>\n",
       "      <td>3034</td>\n",
       "      <td>True</td>\n",
       "    </tr>\n",
       "    <tr>\n",
       "      <th>10</th>\n",
       "      <td>Joven</td>\n",
       "      <td>Masculino</td>\n",
       "      <td>Alquilada</td>\n",
       "      <td>Casado</td>\n",
       "      <td>Cerca</td>\n",
       "      <td>43700</td>\n",
       "      <td>1</td>\n",
       "      <td>NaN</td>\n",
       "      <td>12</td>\n",
       "      <td>927</td>\n",
       "      <td>True</td>\n",
       "    </tr>\n",
       "    <tr>\n",
       "      <th>15</th>\n",
       "      <td>Media</td>\n",
       "      <td>Femenino</td>\n",
       "      <td>Propia</td>\n",
       "      <td>Casado</td>\n",
       "      <td>Lejos</td>\n",
       "      <td>83100</td>\n",
       "      <td>1</td>\n",
       "      <td>NaN</td>\n",
       "      <td>12</td>\n",
       "      <td>2766</td>\n",
       "      <td>True</td>\n",
       "    </tr>\n",
       "    <tr>\n",
       "      <th>24</th>\n",
       "      <td>Joven</td>\n",
       "      <td>Femenino</td>\n",
       "      <td>Alquilada</td>\n",
       "      <td>Casado</td>\n",
       "      <td>Cerca</td>\n",
       "      <td>41700</td>\n",
       "      <td>1</td>\n",
       "      <td>NaN</td>\n",
       "      <td>6</td>\n",
       "      <td>521</td>\n",
       "      <td>True</td>\n",
       "    </tr>\n",
       "    <tr>\n",
       "      <th>26</th>\n",
       "      <td>Media</td>\n",
       "      <td>Masculino</td>\n",
       "      <td>Propia</td>\n",
       "      <td>Soltero</td>\n",
       "      <td>Cerca</td>\n",
       "      <td>62800</td>\n",
       "      <td>3</td>\n",
       "      <td>NaN</td>\n",
       "      <td>6</td>\n",
       "      <td>707</td>\n",
       "      <td>True</td>\n",
       "    </tr>\n",
       "    <tr>\n",
       "      <th>...</th>\n",
       "      <td>...</td>\n",
       "      <td>...</td>\n",
       "      <td>...</td>\n",
       "      <td>...</td>\n",
       "      <td>...</td>\n",
       "      <td>...</td>\n",
       "      <td>...</td>\n",
       "      <td>...</td>\n",
       "      <td>...</td>\n",
       "      <td>...</td>\n",
       "      <td>...</td>\n",
       "    </tr>\n",
       "    <tr>\n",
       "      <th>990</th>\n",
       "      <td>Media</td>\n",
       "      <td>Masculino</td>\n",
       "      <td>Propia</td>\n",
       "      <td>Casado</td>\n",
       "      <td>Cerca</td>\n",
       "      <td>123800</td>\n",
       "      <td>2</td>\n",
       "      <td>NaN</td>\n",
       "      <td>18</td>\n",
       "      <td>3537</td>\n",
       "      <td>True</td>\n",
       "    </tr>\n",
       "    <tr>\n",
       "      <th>992</th>\n",
       "      <td>Media</td>\n",
       "      <td>Masculino</td>\n",
       "      <td>Propia</td>\n",
       "      <td>Casado</td>\n",
       "      <td>Cerca</td>\n",
       "      <td>101700</td>\n",
       "      <td>1</td>\n",
       "      <td>NaN</td>\n",
       "      <td>6</td>\n",
       "      <td>941</td>\n",
       "      <td>True</td>\n",
       "    </tr>\n",
       "    <tr>\n",
       "      <th>994</th>\n",
       "      <td>Joven</td>\n",
       "      <td>Masculino</td>\n",
       "      <td>Alquilada</td>\n",
       "      <td>Soltero</td>\n",
       "      <td>Cerca</td>\n",
       "      <td>17600</td>\n",
       "      <td>0</td>\n",
       "      <td>NaN</td>\n",
       "      <td>6</td>\n",
       "      <td>273</td>\n",
       "      <td>True</td>\n",
       "    </tr>\n",
       "    <tr>\n",
       "      <th>995</th>\n",
       "      <td>Joven</td>\n",
       "      <td>Femenino</td>\n",
       "      <td>Alquilada</td>\n",
       "      <td>Soltero</td>\n",
       "      <td>Cerca</td>\n",
       "      <td>19400</td>\n",
       "      <td>1</td>\n",
       "      <td>NaN</td>\n",
       "      <td>18</td>\n",
       "      <td>384</td>\n",
       "      <td>True</td>\n",
       "    </tr>\n",
       "    <tr>\n",
       "      <th>996</th>\n",
       "      <td>Media</td>\n",
       "      <td>Masculino</td>\n",
       "      <td>Alquilada</td>\n",
       "      <td>Soltero</td>\n",
       "      <td>Lejos</td>\n",
       "      <td>40500</td>\n",
       "      <td>1</td>\n",
       "      <td>NaN</td>\n",
       "      <td>18</td>\n",
       "      <td>1073</td>\n",
       "      <td>True</td>\n",
       "    </tr>\n",
       "  </tbody>\n",
       "</table>\n",
       "<p>303 rows × 11 columns</p>\n",
       "</div>"
      ],
      "text/plain": [
       "       Edad     Genero   Vivienda   Ecivil Ubicacion  Salario  Hijos  \\\n",
       "9    Adulta  Masculino     Propia   Casado     Lejos    80700      0   \n",
       "10    Joven  Masculino  Alquilada   Casado     Cerca    43700      1   \n",
       "15    Media   Femenino     Propia   Casado     Lejos    83100      1   \n",
       "24    Joven   Femenino  Alquilada   Casado     Cerca    41700      1   \n",
       "26    Media  Masculino     Propia  Soltero     Cerca    62800      3   \n",
       "..      ...        ...        ...      ...       ...      ...    ...   \n",
       "990   Media  Masculino     Propia   Casado     Cerca   123800      2   \n",
       "992   Media  Masculino     Propia   Casado     Cerca   101700      1   \n",
       "994   Joven  Masculino  Alquilada  Soltero     Cerca    17600      0   \n",
       "995   Joven   Femenino  Alquilada  Soltero     Cerca    19400      1   \n",
       "996   Media  Masculino  Alquilada  Soltero     Lejos    40500      1   \n",
       "\n",
       "    Historial  Catalogos  Monto  historial_null  \n",
       "9         NaN         18   3034            True  \n",
       "10        NaN         12    927            True  \n",
       "15        NaN         12   2766            True  \n",
       "24        NaN          6    521            True  \n",
       "26        NaN          6    707            True  \n",
       "..        ...        ...    ...             ...  \n",
       "990       NaN         18   3537            True  \n",
       "992       NaN          6    941            True  \n",
       "994       NaN          6    273            True  \n",
       "995       NaN         18    384            True  \n",
       "996       NaN         18   1073            True  \n",
       "\n",
       "[303 rows x 11 columns]"
      ]
     },
     "execution_count": 19,
     "metadata": {},
     "output_type": "execute_result"
    }
   ],
   "source": [
    "mark2"
   ]
  },
  {
   "cell_type": "code",
   "execution_count": 20,
   "metadata": {},
   "outputs": [
    {
     "data": {
      "text/plain": [
       "303"
      ]
     },
     "execution_count": 20,
     "metadata": {},
     "output_type": "execute_result"
    }
   ],
   "source": [
    "len(mark2)"
   ]
  },
  {
   "cell_type": "code",
   "execution_count": 21,
   "metadata": {},
   "outputs": [
    {
     "data": {
      "text/plain": [
       "Edad               0.0\n",
       "Genero             0.0\n",
       "Vivienda           0.0\n",
       "Ecivil             0.0\n",
       "Ubicacion          0.0\n",
       "Salario            0.0\n",
       "Hijos              0.0\n",
       "Historial         30.3\n",
       "Catalogos          0.0\n",
       "Monto              0.0\n",
       "historial_null     0.0\n",
       "dtype: float64"
      ]
     },
     "execution_count": 21,
     "metadata": {},
     "output_type": "execute_result"
    }
   ],
   "source": [
    "#porcentaje de valores null por columna\n",
    "(mark.isnull().sum() / len(mark))*100"
   ]
  },
  {
   "cell_type": "code",
   "execution_count": 22,
   "metadata": {},
   "outputs": [
    {
     "data": {
      "text/plain": [
       "Edad               0.0\n",
       "Genero             0.0\n",
       "Vivienda           0.0\n",
       "Ecivil             0.0\n",
       "Ubicacion          0.0\n",
       "Salario            0.0\n",
       "Hijos              0.0\n",
       "Historial         30.3\n",
       "Catalogos          0.0\n",
       "Monto              0.0\n",
       "historial_null     0.0\n",
       "dtype: float64"
      ]
     },
     "execution_count": 22,
     "metadata": {},
     "output_type": "execute_result"
    }
   ],
   "source": [
    "mark.isnull().mean()*100 "
   ]
  },
  {
   "cell_type": "code",
   "execution_count": 23,
   "metadata": {},
   "outputs": [
    {
     "data": {
      "text/plain": [
       "1000"
      ]
     },
     "execution_count": 23,
     "metadata": {},
     "output_type": "execute_result"
    }
   ],
   "source": [
    "#número de casos\n",
    "len(mark)"
   ]
  },
  {
   "cell_type": "code",
   "execution_count": 24,
   "metadata": {},
   "outputs": [
    {
     "data": {
      "text/plain": [
       "pandas.core.frame.DataFrame"
      ]
     },
     "execution_count": 24,
     "metadata": {},
     "output_type": "execute_result"
    }
   ],
   "source": [
    "type(mark)"
   ]
  },
  {
   "cell_type": "code",
   "execution_count": 25,
   "metadata": {},
   "outputs": [
    {
     "data": {
      "text/plain": [
       "Edad              object\n",
       "Genero            object\n",
       "Vivienda          object\n",
       "Ecivil            object\n",
       "Ubicacion         object\n",
       "Salario            int64\n",
       "Hijos              int64\n",
       "Historial         object\n",
       "Catalogos          int64\n",
       "Monto              int64\n",
       "historial_null      bool\n",
       "dtype: object"
      ]
     },
     "execution_count": 25,
     "metadata": {},
     "output_type": "execute_result"
    }
   ],
   "source": [
    "mark.dtypes"
   ]
  },
  {
   "cell_type": "code",
   "execution_count": 26,
   "metadata": {},
   "outputs": [
    {
     "data": {
      "text/plain": [
       "{bool: ['historial_null'], int64: ['Salario', 'Hijos', 'Catalogos', 'Monto'], object: ['Edad', 'Genero', 'Vivienda', 'Ecivil', 'Ubicacion', 'Historial']}"
      ]
     },
     "execution_count": 26,
     "metadata": {},
     "output_type": "execute_result"
    }
   ],
   "source": [
    "mark.columns.to_series().groupby(mark.dtypes).groups"
   ]
  },
  {
   "cell_type": "code",
   "execution_count": null,
   "metadata": {},
   "outputs": [],
   "source": []
  },
  {
   "cell_type": "code",
   "execution_count": 27,
   "metadata": {},
   "outputs": [],
   "source": [
    "# Agrupando columnas por tipo de datos\n",
    "tipos = mark.columns.to_series().groupby(mark.dtypes).groups"
   ]
  },
  {
   "cell_type": "code",
   "execution_count": 28,
   "metadata": {},
   "outputs": [
    {
     "data": {
      "text/plain": [
       "{bool: ['historial_null'], int64: ['Salario', 'Hijos', 'Catalogos', 'Monto'], object: ['Edad', 'Genero', 'Vivienda', 'Ecivil', 'Ubicacion', 'Historial']}"
      ]
     },
     "execution_count": 28,
     "metadata": {},
     "output_type": "execute_result"
    }
   ],
   "source": [
    "tipos"
   ]
  },
  {
   "cell_type": "code",
   "execution_count": 29,
   "metadata": {},
   "outputs": [
    {
     "data": {
      "text/plain": [
       "Index(['Edad', 'Genero', 'Vivienda', 'Ecivil', 'Ubicacion', 'Historial'], dtype='object')"
      ]
     },
     "execution_count": 29,
     "metadata": {},
     "output_type": "execute_result"
    }
   ],
   "source": [
    "# Armando lista de columnas categóricas\n",
    "ctext = tipos[np.dtype('object')]\n",
    "len(ctext)  # cantidad de columnas con datos categóricos. \n",
    "ctext"
   ]
  },
  {
   "cell_type": "code",
   "execution_count": 30,
   "metadata": {},
   "outputs": [
    {
     "data": {
      "text/plain": [
       "Index(['Salario', 'Hijos', 'Catalogos', 'Monto'], dtype='object')"
      ]
     },
     "execution_count": 30,
     "metadata": {},
     "output_type": "execute_result"
    }
   ],
   "source": [
    "cnum = tipos[np.dtype(\"int64\")]\n",
    "len(cnum)\n",
    "cnum"
   ]
  },
  {
   "cell_type": "code",
   "execution_count": 31,
   "metadata": {},
   "outputs": [
    {
     "data": {
      "text/plain": [
       "Index(['Edad', 'Genero', 'Vivienda', 'Ecivil', 'Ubicacion', 'Salario', 'Hijos',\n",
       "       'Historial', 'Catalogos', 'Monto', 'historial_null'],\n",
       "      dtype='object')"
      ]
     },
     "execution_count": 31,
     "metadata": {},
     "output_type": "execute_result"
    }
   ],
   "source": [
    "# Armando lista de columnas numéricas\n",
    "columnas = mark.columns  # lista de todas las columnas\n",
    "columnas"
   ]
  },
  {
   "cell_type": "code",
   "execution_count": 32,
   "metadata": {},
   "outputs": [
    {
     "data": {
      "text/plain": [
       "5"
      ]
     },
     "execution_count": 32,
     "metadata": {},
     "output_type": "execute_result"
    }
   ],
   "source": [
    "cnum = list(set(columnas) - set(ctext))\n",
    "len(cnum)"
   ]
  },
  {
   "cell_type": "code",
   "execution_count": 33,
   "metadata": {},
   "outputs": [
    {
     "data": {
      "text/plain": [
       "['Hijos', 'Salario', 'Monto', 'historial_null', 'Catalogos']"
      ]
     },
     "execution_count": 33,
     "metadata": {},
     "output_type": "execute_result"
    }
   ],
   "source": [
    "cnum"
   ]
  },
  {
   "cell_type": "code",
   "execution_count": null,
   "metadata": {},
   "outputs": [],
   "source": [
    "#Bucle\n",
    "# Completando valores faltantas datos cuantititavos\n",
    "for c in cnum:\n",
    "    media = mark[c].mean()\n",
    "    mark[c] = mark[c].fillna(media)"
   ]
  },
  {
   "cell_type": "code",
   "execution_count": null,
   "metadata": {},
   "outputs": [],
   "source": [
    "#Bucle\n",
    "# Completando valores faltantas datos categóricos\n",
    "for c in ctext:\n",
    "    mode = mark[c].mode()[0]\n",
    "    mark[c] = mark[c].fillna(mode)"
   ]
  },
  {
   "cell_type": "code",
   "execution_count": null,
   "metadata": {},
   "outputs": [],
   "source": [
    "mode= mark[\"Ecivil\"].mode()[0]\n",
    "mode"
   ]
  },
  {
   "cell_type": "code",
   "execution_count": null,
   "metadata": {},
   "outputs": [],
   "source": [
    "mark[\"Ecivil\"].fillna(mode)"
   ]
  },
  {
   "cell_type": "code",
   "execution_count": null,
   "metadata": {},
   "outputs": [],
   "source": [
    "#Controlando que no hayan valores faltantes\n",
    "mark.isnull().any().any()"
   ]
  },
  {
   "cell_type": "code",
   "execution_count": null,
   "metadata": {},
   "outputs": [],
   "source": [
    "#porcentaje de valores null por columna\n",
    "(mark.isnull().sum() / len(mark))*100"
   ]
  },
  {
   "cell_type": "code",
   "execution_count": null,
   "metadata": {},
   "outputs": [],
   "source": [
    "import os"
   ]
  },
  {
   "cell_type": "code",
   "execution_count": null,
   "metadata": {},
   "outputs": [],
   "source": [
    "os.getcwd()"
   ]
  },
  {
   "cell_type": "code",
   "execution_count": null,
   "metadata": {},
   "outputs": [],
   "source": [
    "mark.head()"
   ]
  },
  {
   "cell_type": "code",
   "execution_count": null,
   "metadata": {},
   "outputs": [],
   "source": [
    "# Guardando el dataset preprocesado\n",
    "# Save transform datasets\n",
    "mark.to_csv(\"mark_procesado.csv\", index=False)"
   ]
  },
  {
   "cell_type": "markdown",
   "metadata": {},
   "source": [
    "#### Variable cualitativa"
   ]
  },
  {
   "cell_type": "code",
   "execution_count": null,
   "metadata": {},
   "outputs": [],
   "source": [
    "# Grafico de porcentaje de solteros\n",
    "civil = mark.groupby('Ecivil').Ecivil.count() \n",
    "civil"
   ]
  },
  {
   "cell_type": "code",
   "execution_count": null,
   "metadata": {},
   "outputs": [],
   "source": [
    "str(round(502* 1.0/ civil.sum()*100, #valores\n",
    "      2)) #valores de los decimales"
   ]
  },
  {
   "cell_type": "code",
   "execution_count": null,
   "metadata": {},
   "outputs": [],
   "source": [
    "str(round(498*1.0/ civil.sum() *100, #valores\n",
    " 2)) #valores decimales"
   ]
  },
  {
   "cell_type": "code",
   "execution_count": null,
   "metadata": {},
   "outputs": [],
   "source": [
    "# Creando las leyendas del grafico.\n",
    "labels = [ str(round(x * 1.0 / civil.sum() * 100.0, 2)) + '%'  for x in civil ]\n",
    "labels"
   ]
  },
  {
   "cell_type": "code",
   "execution_count": null,
   "metadata": {},
   "outputs": [],
   "source": [
    "labels[0] "
   ]
  },
  {
   "cell_type": "code",
   "execution_count": null,
   "metadata": {},
   "outputs": [],
   "source": [
    "labels[1] "
   ]
  },
  {
   "cell_type": "code",
   "execution_count": null,
   "metadata": {},
   "outputs": [],
   "source": [
    "labels[0] = 'Casado ' + labels[0]\n",
    "labels[1] = 'Soltero ' + labels[1]"
   ]
  },
  {
   "cell_type": "code",
   "execution_count": null,
   "metadata": {},
   "outputs": [],
   "source": [
    "labels"
   ]
  },
  {
   "cell_type": "code",
   "execution_count": null,
   "metadata": {
    "scrolled": true
   },
   "outputs": [],
   "source": [
    "plt.pie(civil, labels=labels)\n",
    "plt.title('Estado civil')\n",
    "plt.show()"
   ]
  },
  {
   "cell_type": "code",
   "execution_count": null,
   "metadata": {},
   "outputs": [],
   "source": [
    "# Analizando el sueldo\n",
    "# Creando un segmentos de importes\n",
    "imp_segm = pd.cut(mark['Salario'], #variable\n",
    "                  [(mark['Salario'].min()-1), 15000,  20000, 30000, 40000, 100000, (mark['Salario'].max() +1)]) \n",
    "#puntos de corte\n",
    "imp_segm[498]"
   ]
  },
  {
   "cell_type": "code",
   "execution_count": null,
   "metadata": {},
   "outputs": [],
   "source": [
    "pd.value_counts(imp_segm)"
   ]
  },
  {
   "cell_type": "code",
   "execution_count": null,
   "metadata": {},
   "outputs": [],
   "source": [
    "\n",
    "# Creando el grafico de barras desde pandas\n",
    "plot = pd.value_counts(imp_segm).plot(kind='bar',\n",
    "                                      title='Sueldo', rot=35)\n",
    "plot.set_ylabel('Sueldo de donantes')\n",
    "plot.set_xlabel('Rango de sueldos')\n",
    "plt.show()"
   ]
  },
  {
   "cell_type": "code",
   "execution_count": null,
   "metadata": {},
   "outputs": [],
   "source": [
    "# Agrupación por segmento segun sueldo.\n",
    "pd.value_counts(imp_segm)"
   ]
  },
  {
   "cell_type": "code",
   "execution_count": null,
   "metadata": {},
   "outputs": [],
   "source": [
    "# importe de salario promedio\n",
    "mark['Salario'].mean()"
   ]
  },
  {
   "cell_type": "code",
   "execution_count": null,
   "metadata": {},
   "outputs": [],
   "source": [
    "# Gráfico de cajas del importe de donación\n",
    "sns.boxplot(list(mark['Salario']))\n",
    "plt.title('Boxplot de Salario')\n",
    "plt.show()"
   ]
  },
  {
   "cell_type": "code",
   "execution_count": null,
   "metadata": {},
   "outputs": [],
   "source": [
    "mark.groupby('Hijos').size()"
   ]
  },
  {
   "cell_type": "code",
   "execution_count": null,
   "metadata": {},
   "outputs": [],
   "source": [
    "# Grafico del número de hijo\n",
    "mark.groupby('Hijos').size().plot(kind='bar')\n",
    "plt.title('Distribución por hijos')\n",
    "plt.show()"
   ]
  },
  {
   "cell_type": "code",
   "execution_count": null,
   "metadata": {},
   "outputs": [],
   "source": [
    "gr= sns.boxplot(x=\"Genero\", y=\"Salario\", data=mark)\n",
    "plt.title(\"Sueldo según sexo\")\n",
    "plt.show()"
   ]
  },
  {
   "cell_type": "code",
   "execution_count": null,
   "metadata": {},
   "outputs": [],
   "source": [
    "# sueldo segun el género\n",
    "mark[(mark.Salario <= 150000)\n",
    "             & (mark.Genero.isin(['Femenino', 'Masculino'])\n",
    "               )][['Salario', 'Genero']].boxplot(by='Genero').set_title('Sueldo segun sexo')\n",
    "#plt.title('Sueldo segun sexo')\n",
    "plt.show()"
   ]
  },
  {
   "cell_type": "code",
   "execution_count": null,
   "metadata": {},
   "outputs": [],
   "source": [
    "# Media de sueldo por mujeres\n",
    "mark[mark.Genero == 'Femenino'][['Salario']].mean()"
   ]
  },
  {
   "cell_type": "code",
   "execution_count": null,
   "metadata": {},
   "outputs": [],
   "source": [
    "# Media de sueldo por hombres\n",
    "mark[mark.Genero == 'Masculino'][['Salario']].mean()"
   ]
  },
  {
   "cell_type": "code",
   "execution_count": null,
   "metadata": {},
   "outputs": [],
   "source": [
    "# Distribución de salario\n",
    "mark['Salario'].hist().set_title('Distribución de salario')\n",
    "plt.show"
   ]
  },
  {
   "cell_type": "code",
   "execution_count": null,
   "metadata": {},
   "outputs": [],
   "source": [
    "mark.plot.scatter(x=\"Salario\", y='Monto', alpha = 0.7);"
   ]
  },
  {
   "cell_type": "code",
   "execution_count": null,
   "metadata": {},
   "outputs": [],
   "source": [
    "# Scatter plot:\n",
    "#sns.set()\n",
    "cols = ['Salario', 'Monto']\n",
    "sns.pairplot(mark[cols], #data y sus columnas seleccionadas\n",
    "             height = 2.5) #tamaño de la gráfica\n",
    "plt.show();"
   ]
  },
  {
   "cell_type": "markdown",
   "metadata": {},
   "source": [
    "[Ir a inicio](#beginning)\n",
    "____"
   ]
  },
  {
   "cell_type": "markdown",
   "metadata": {},
   "source": [
    "<a id='part4'></a>\n",
    "## Codificación y particionamiento de datos"
   ]
  },
  {
   "cell_type": "markdown",
   "metadata": {},
   "source": [
    "**Descripción:** Los datos están relacionados con campañas de marketing directo de una institución bancaria portuguesa. Las campañas de marketing se basaron en llamadas telefónicas. A menudo, se requería más de un contacto con el mismo cliente para acceder si el producto (depósito bancario a plazo) estaría ('sí') o no ('no') suscrito."
   ]
  },
  {
   "cell_type": "markdown",
   "metadata": {},
   "source": [
    "**Variables de entrada:**\n",
    "\n",
    "**datos del cliente bancario:**\n",
    "\n",
    "   1 - age :edad del cliente (numérico)\n",
    "   \n",
    "   2 - job: tipo de trabajo (categórico: \"administrador\", \"desconocido\", \"desempleado\", \"gerencia\", \"empleada doméstica\", \"empresario\", \"estudiante\",\n",
    "                                       \"obrero\", \"autónomo\", \"jubilado\", \"técnico\", \"servicios\")\n",
    "                                       \n",
    "   3 - marital: estado civil (categórico: \"casado\", \"divorciado\", \"soltero\"; nota: \"divorciado\" significa divorciado o viudo)\n",
    "   \n",
    "   4 - education :educacion del cliente (categórica: \"desconocido\", \"secundario\", \"primario\", \"terciario\")\n",
    "   \n",
    "   5 - default: incumplimiento del cliente ¿tiene crédito en incumplimiento? (binario: \"sí\", \"no\")\n",
    "   \n",
    "   6 - balance: saldo medio anual, en euros (numérico)\n",
    "   \n",
    "   7 - housing: tiene préstamo de vivienda? (binario: \"sí\", \"no\")\n",
    "   \n",
    "   8 - loan: tiene préstamo personal? (binario: \"sí\", \"no\")\n",
    "   \n",
    "**relacionado con el último contacto de la campaña actual:**\n",
    "\n",
    "   9 - contact: tipo de comunicación de contacto (categórico: \"desconocido\", \"teléfono\", \"celular\")\n",
    "   \n",
    "  10 day: último día de contacto del mes (numérico)\n",
    "  \n",
    "  11 month: último contacto del mes del año (categórico: \"ene\", \"feb\", \"mar\", ..., \"nov\", \"dec\")\n",
    "  \n",
    "  12 - duration: duración del último contacto, en segundos (numérico)\n",
    "  \n",
    "**otros atributos:**\n",
    "\n",
    "  13 - campaign: número de contactos realizados durante esta campaña y para este cliente (numérico, incluye el último contacto)\n",
    "  \n",
    "  14 pdays: número de días que pasaron después de que el cliente fue contactado por última vez desde una campaña anterior (numérico, -1 significa que el cliente no fue contactado previamente)\n",
    "  \n",
    "  15 - previous: número de contactos realizados antes de esta campaña y para este cliente (numérico)\n",
    "  \n",
    "  16 - poutcome: resultado de la campaña de marketing anterior (categórico: \"desconocido\", \"otro\", \"fracaso\", \"éxito\")\n",
    "\n",
    "**Variable de salida (objetivo deseado):**\n",
    "\n",
    "  17 - y - ¿el cliente ha suscrito un depósito a plazo? (binario: \"sí\", \"no\")"
   ]
  },
  {
   "cell_type": "markdown",
   "metadata": {},
   "source": [
    "**Fuente :** [Moro et al., 2014] S. Moro, P. Cortez and P. Rita. A Data-Driven Approach to Predict the Success of Bank Telemarketing. Decision Support Systems, Elsevier, 62:22-31, June 2014"
   ]
  },
  {
   "cell_type": "code",
   "execution_count": 34,
   "metadata": {},
   "outputs": [],
   "source": [
    "import pandas as pd\n",
    "import numpy as np"
   ]
  },
  {
   "cell_type": "code",
   "execution_count": 35,
   "metadata": {},
   "outputs": [
    {
     "data": {
      "text/html": [
       "<div>\n",
       "<style scoped>\n",
       "    .dataframe tbody tr th:only-of-type {\n",
       "        vertical-align: middle;\n",
       "    }\n",
       "\n",
       "    .dataframe tbody tr th {\n",
       "        vertical-align: top;\n",
       "    }\n",
       "\n",
       "    .dataframe thead th {\n",
       "        text-align: right;\n",
       "    }\n",
       "</style>\n",
       "<table border=\"1\" class=\"dataframe\">\n",
       "  <thead>\n",
       "    <tr style=\"text-align: right;\">\n",
       "      <th></th>\n",
       "      <th>age</th>\n",
       "      <th>job</th>\n",
       "      <th>marital</th>\n",
       "      <th>education</th>\n",
       "      <th>default</th>\n",
       "      <th>balance</th>\n",
       "      <th>housing</th>\n",
       "      <th>loan</th>\n",
       "      <th>contact</th>\n",
       "      <th>day</th>\n",
       "      <th>month</th>\n",
       "      <th>duration</th>\n",
       "      <th>campaign</th>\n",
       "      <th>pdays</th>\n",
       "      <th>previous</th>\n",
       "      <th>poutcome</th>\n",
       "      <th>y</th>\n",
       "    </tr>\n",
       "  </thead>\n",
       "  <tbody>\n",
       "    <tr>\n",
       "      <th>0</th>\n",
       "      <td>30</td>\n",
       "      <td>unemployed</td>\n",
       "      <td>married</td>\n",
       "      <td>primary</td>\n",
       "      <td>no</td>\n",
       "      <td>1787</td>\n",
       "      <td>no</td>\n",
       "      <td>no</td>\n",
       "      <td>cellular</td>\n",
       "      <td>19</td>\n",
       "      <td>oct</td>\n",
       "      <td>79</td>\n",
       "      <td>1</td>\n",
       "      <td>-1</td>\n",
       "      <td>0</td>\n",
       "      <td>unknown</td>\n",
       "      <td>no</td>\n",
       "    </tr>\n",
       "    <tr>\n",
       "      <th>1</th>\n",
       "      <td>33</td>\n",
       "      <td>services</td>\n",
       "      <td>married</td>\n",
       "      <td>secondary</td>\n",
       "      <td>no</td>\n",
       "      <td>4789</td>\n",
       "      <td>yes</td>\n",
       "      <td>yes</td>\n",
       "      <td>cellular</td>\n",
       "      <td>11</td>\n",
       "      <td>may</td>\n",
       "      <td>220</td>\n",
       "      <td>1</td>\n",
       "      <td>339</td>\n",
       "      <td>4</td>\n",
       "      <td>failure</td>\n",
       "      <td>no</td>\n",
       "    </tr>\n",
       "    <tr>\n",
       "      <th>2</th>\n",
       "      <td>35</td>\n",
       "      <td>management</td>\n",
       "      <td>single</td>\n",
       "      <td>tertiary</td>\n",
       "      <td>no</td>\n",
       "      <td>1350</td>\n",
       "      <td>yes</td>\n",
       "      <td>no</td>\n",
       "      <td>cellular</td>\n",
       "      <td>16</td>\n",
       "      <td>apr</td>\n",
       "      <td>185</td>\n",
       "      <td>1</td>\n",
       "      <td>330</td>\n",
       "      <td>1</td>\n",
       "      <td>failure</td>\n",
       "      <td>no</td>\n",
       "    </tr>\n",
       "    <tr>\n",
       "      <th>3</th>\n",
       "      <td>30</td>\n",
       "      <td>management</td>\n",
       "      <td>married</td>\n",
       "      <td>tertiary</td>\n",
       "      <td>no</td>\n",
       "      <td>1476</td>\n",
       "      <td>yes</td>\n",
       "      <td>yes</td>\n",
       "      <td>unknown</td>\n",
       "      <td>3</td>\n",
       "      <td>jun</td>\n",
       "      <td>199</td>\n",
       "      <td>4</td>\n",
       "      <td>-1</td>\n",
       "      <td>0</td>\n",
       "      <td>unknown</td>\n",
       "      <td>no</td>\n",
       "    </tr>\n",
       "    <tr>\n",
       "      <th>4</th>\n",
       "      <td>59</td>\n",
       "      <td>blue-collar</td>\n",
       "      <td>married</td>\n",
       "      <td>secondary</td>\n",
       "      <td>no</td>\n",
       "      <td>0</td>\n",
       "      <td>yes</td>\n",
       "      <td>no</td>\n",
       "      <td>unknown</td>\n",
       "      <td>5</td>\n",
       "      <td>may</td>\n",
       "      <td>226</td>\n",
       "      <td>1</td>\n",
       "      <td>-1</td>\n",
       "      <td>0</td>\n",
       "      <td>unknown</td>\n",
       "      <td>no</td>\n",
       "    </tr>\n",
       "  </tbody>\n",
       "</table>\n",
       "</div>"
      ],
      "text/plain": [
       "   age          job  marital  education default  balance housing loan  \\\n",
       "0   30   unemployed  married    primary      no     1787      no   no   \n",
       "1   33     services  married  secondary      no     4789     yes  yes   \n",
       "2   35   management   single   tertiary      no     1350     yes   no   \n",
       "3   30   management  married   tertiary      no     1476     yes  yes   \n",
       "4   59  blue-collar  married  secondary      no        0     yes   no   \n",
       "\n",
       "    contact  day month  duration  campaign  pdays  previous poutcome   y  \n",
       "0  cellular   19   oct        79         1     -1         0  unknown  no  \n",
       "1  cellular   11   may       220         1    339         4  failure  no  \n",
       "2  cellular   16   apr       185         1    330         1  failure  no  \n",
       "3   unknown    3   jun       199         4     -1         0  unknown  no  \n",
       "4   unknown    5   may       226         1     -1         0  unknown  no  "
      ]
     },
     "execution_count": 35,
     "metadata": {},
     "output_type": "execute_result"
    }
   ],
   "source": [
    "FileCSV=R\"C:\\Users\\sergi\\OneDrive\\Documentos\\SIR_personal\\Python_SDC_HP-i3\\bank.csv\"\n",
    "df_bank=pd.read_csv(FileCSV,sep=\";\")\n",
    "df_bank.head()"
   ]
  },
  {
   "cell_type": "code",
   "execution_count": null,
   "metadata": {},
   "outputs": [],
   "source": [
    "#Representacion de el numero de observaciones de cada clase que pertenecen a la variable predictora \"y\"\n",
    "import matplotlib.pyplot as plt\n",
    "%matplotlib inline\n",
    "count_classes = pd.value_counts(df_bank['y'], sort = True)\n",
    "count_classes.plot(kind = 'bar', rot=0)\n",
    "plt.xticks(range(2))\n",
    "plt.title(\"Frecuencia de número de observaciones\")\n",
    "plt.xlabel(\"ocurrencia de suscripcion\")\n",
    "plt.ylabel(\"número de observaciones\")"
   ]
  },
  {
   "cell_type": "markdown",
   "metadata": {},
   "source": [
    "## Codificar las variables categoricas"
   ]
  },
  {
   "cell_type": "code",
   "execution_count": null,
   "metadata": {},
   "outputs": [],
   "source": [
    "from collections import defaultdict\n",
    "from sklearn import preprocessing "
   ]
  },
  {
   "cell_type": "code",
   "execution_count": null,
   "metadata": {},
   "outputs": [],
   "source": [
    "#Defino el diccionario con la funcion LabelEncoder(que se usa para convertir los object en numerico\n",
    "d = defaultdict(preprocessing.LabelEncoder)\n",
    "type(d)"
   ]
  },
  {
   "cell_type": "code",
   "execution_count": null,
   "metadata": {},
   "outputs": [],
   "source": [
    "# Agrupando columnas por tipo de datos\n",
    "tipos = df_bank.columns.to_series().groupby(df_bank.dtypes).groups\n",
    "#df_bank: la data\n",
    "#groupby()\n",
    "tipos"
   ]
  },
  {
   "cell_type": "code",
   "execution_count": null,
   "metadata": {},
   "outputs": [],
   "source": [
    "#Generar la lista de solo los nombres de las columna de tipo object\n",
    "list_text=list(tipos[np.dtype('object')])\n",
    "list_text"
   ]
  },
  {
   "cell_type": "code",
   "execution_count": null,
   "metadata": {},
   "outputs": [],
   "source": [
    "#lambda x: d[x.name].fit_transform(x) if x.name in list_text else x\n",
    "#Solo se aplica d[x.name].fit_transform(x) la transformacion \n",
    "#si el nombre se encuentra en la lista(if x.name in list_text)\n",
    "#de lo contrario no se realiza ninguna transformacion(x)\n",
    "# Codificar las variables\n",
    "fit=df_bank.apply(lambda x: d[x.name].fit_transform(x) if x.name in list_text else x)\n",
    "# Invertir el codificado(Necesario para entrenar al fit si quieres invertir el cambio\n",
    "fit.apply(lambda x: d[x.name].inverse_transform(x) if x.name in list_text else x)\n",
    "# Usando el diccionario para etiquetar datos futuros\n",
    "df_bank=df_bank.apply(lambda x: d[x.name].transform(x) if x.name in list_text else x)\n",
    "df_bank.head()"
   ]
  },
  {
   "cell_type": "code",
   "execution_count": null,
   "metadata": {},
   "outputs": [],
   "source": [
    "#Como obtener cada clase de la variable \"target\" = y\n",
    "class_y=list(d['y'].classes_)\n",
    "class_y"
   ]
  },
  {
   "cell_type": "code",
   "execution_count": null,
   "metadata": {},
   "outputs": [],
   "source": [
    "#El numero correspondiente de cada clase de la lista \"target\"\n",
    "d['y'].transform(class_y)"
   ]
  },
  {
   "cell_type": "markdown",
   "metadata": {},
   "source": [
    "## Particionar un conjunto de datos en entrenamiento y prueba"
   ]
  },
  {
   "cell_type": "code",
   "execution_count": null,
   "metadata": {},
   "outputs": [],
   "source": [
    "from sklearn.model_selection import train_test_split\n",
    "\n",
    "X, y = df_bank.iloc[:, 0:16].values, df_bank.iloc[:, 16].values\n",
    "\n",
    "X_train, X_test, y_train, y_test =\\\n",
    "    train_test_split(X, y, \n",
    "                     test_size=0.3, #El 30% de la data se utilizara para el testeo\n",
    "                     random_state=0, \n",
    "                     stratify=y)"
   ]
  },
  {
   "cell_type": "markdown",
   "metadata": {},
   "source": [
    "[Ir a inicio](#beginning)\n",
    "____"
   ]
  },
  {
   "cell_type": "markdown",
   "metadata": {},
   "source": [
    "<a id='part5'></a>\n",
    "\n",
    "## Laboratorio 5"
   ]
  },
  {
   "cell_type": "markdown",
   "metadata": {},
   "source": [
    "### Descripción"
   ]
  },
  {
   "cell_type": "markdown",
   "metadata": {},
   "source": [
    "Este conjunto de datos es un subconjunto de la Encuesta nacional de prevalencia de anticonceptivos de Indonesia de 1987. Las muestras son mujeres casadas que no estaban embarazadas o no saben si estaban en el momento de la entrevista. El problema es predecir la elección actual del método anticonceptivo (sin uso, métodos a largo plazo o métodos a corto plazo) de una mujer en función de sus características demográficas y socioeconómicas."
   ]
  },
  {
   "cell_type": "markdown",
   "metadata": {},
   "source": [
    "### Información del atributo:"
   ]
  },
  {
   "cell_type": "markdown",
   "metadata": {},
   "source": [
    "1. Edad de la esposa (numérica)\n",
    "\n",
    "2. Educación de la esposa (categórica) 1 = baja, 2, 3, 4 = alta\n",
    "\n",
    "3. Educación del esposo (categórica) 1 = baja, 2, 3, 4 = alta\n",
    "\n",
    "4. Número de hijos nacidos (numérico)\n",
    "\n",
    "5. Religión de la esposa (binaria) 0 = No Islam, 1 = Islam\n",
    "\n",
    "6. ¿La esposa ahora está trabajando? (binario) 0 = Sí, 1 = No\n",
    "\n",
    "7. Ocupación del esposo (categórica) 1, 2, 3, 4\n",
    "\n",
    "8. Índice de nivel de vida (categórico) 1 = bajo, 2, 3, 4 = alto\n",
    "\n",
    "9. Exposición a los medios (binario) 0 = Bueno, 1 = No bueno\n",
    "\n",
    "10. Método anticonceptivo utilizado (atributo de clase) 1 = Sin uso, 2 = A largo plazo, 3 = A corto plazo"
   ]
  },
  {
   "cell_type": "markdown",
   "metadata": {},
   "source": [
    "Actividades:\n",
    "\n",
    "1-Graficar el numero y porcentaje de religion de la esposa.\n",
    "\n",
    "2-Segmentacion de la edad de la esposa.\n",
    "\n",
    "3-Grafica de boxplot de la edad de la esposa.\n",
    "\n",
    "4-Graficar el diagrama de dispersion y el histrograma para mostrar la relacion entre las variables edad de la esposa y número de hijos nacidos.\n"
   ]
  },
  {
   "cell_type": "code",
   "execution_count": null,
   "metadata": {},
   "outputs": [],
   "source": [
    "import numpy as np\n",
    "import pandas as pd\n",
    "import matplotlib.pyplot as plt\n",
    "import seaborn as sns"
   ]
  },
  {
   "cell_type": "code",
   "execution_count": null,
   "metadata": {},
   "outputs": [],
   "source": [
    "\n",
    "df_metodoanticonceptivo = pd.read_csv('https://query.data.world/s/kmtzduntrfduzq7ock75atyluguk6z')\n"
   ]
  },
  {
   "cell_type": "code",
   "execution_count": null,
   "metadata": {},
   "outputs": [],
   "source": [
    "df_metodoanticonceptivo.columns = ['edad_esposa', 'educacion_esposa', 'educacion_esposo', 'numero_hijos_nacidos',\n",
    "                   'religion_esposa', 'trabaja_esposa', 'ocupacion_esposo',\n",
    "                   'ind_nivel_vida', 'expo_medios', 'metodo_anticonceptivo']\n",
    "df_metodoanticonceptivo.head()"
   ]
  },
  {
   "cell_type": "code",
   "execution_count": null,
   "metadata": {},
   "outputs": [],
   "source": []
  }
 ],
 "metadata": {
  "kernelspec": {
   "display_name": "Python 3 (ipykernel)",
   "language": "python",
   "name": "python3"
  },
  "language_info": {
   "codemirror_mode": {
    "name": "ipython",
    "version": 3
   },
   "file_extension": ".py",
   "mimetype": "text/x-python",
   "name": "python",
   "nbconvert_exporter": "python",
   "pygments_lexer": "ipython3",
   "version": "3.9.13"
  }
 },
 "nbformat": 4,
 "nbformat_minor": 2
}
