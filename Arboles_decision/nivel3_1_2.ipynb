{
 "cells": [
  {
   "cell_type": "markdown",
   "metadata": {},
   "source": [
    "<center><img src=\"https://media-exp1.licdn.com/dms/image/C4E22AQEbIXZiRVkJPQ/feedshare-shrink_2048_1536/0?e=1608768000&v=beta&t=2xuCh9kIGEeB_dLvnbLm9tAOzMU3dAvyssm5tbazr7c\" width=\"1000\"></center>"
   ]
  },
  {
   "cell_type": "markdown",
   "metadata": {},
   "source": [
    "# SDC Certified Program in Python for Data Science\n",
    "\n",
    "## Tema: Clasificación Basado en Árboles \n",
    "\n",
    "### Prof. Manuel Sigüeñas, M.Sc.(c) \n",
    "\n",
    "[Perfil](https://socialdata-peru.com/learning/teacher2.php)\n",
    "\n",
    "### Prof. Lenguajes de Programación para Ciencia de Datos / Agile Data Scientists / SCRUMStudy Certified Trainer\n",
    "\n",
    "\n",
    "[msiguenas@socialdata-peru.com](msiguenas@socialdata-peru.com)\n"
   ]
  },
  {
   "cell_type": "markdown",
   "metadata": {},
   "source": [
    "### Librerías Necesarias."
   ]
  },
  {
   "cell_type": "code",
   "execution_count": null,
   "metadata": {},
   "outputs": [],
   "source": [
    "#pip install sklearn"
   ]
  },
  {
   "cell_type": "code",
   "execution_count": null,
   "metadata": {},
   "outputs": [],
   "source": [
    "#pip install subprocess.run"
   ]
  },
  {
   "cell_type": "code",
   "execution_count": 3,
   "metadata": {},
   "outputs": [],
   "source": [
    "#pip install pyparsing\n",
    "#!pip install pygraphviz "
   ]
  },
  {
   "cell_type": "code",
   "execution_count": 16,
   "metadata": {},
   "outputs": [],
   "source": [
    "#!pip install graphviz"
   ]
  },
  {
   "cell_type": "code",
   "execution_count": null,
   "metadata": {},
   "outputs": [],
   "source": [
    "#pip install pydot"
   ]
  },
  {
   "cell_type": "code",
   "execution_count": 9,
   "metadata": {},
   "outputs": [],
   "source": [
    "#pip install mlxtend"
   ]
  },
  {
   "cell_type": "code",
   "execution_count": null,
   "metadata": {},
   "outputs": [],
   "source": [
    "#pip install pydotplus"
   ]
  },
  {
   "cell_type": "markdown",
   "metadata": {},
   "source": []
  },
  {
   "cell_type": "markdown",
   "metadata": {},
   "source": []
  },
  {
   "cell_type": "markdown",
   "metadata": {},
   "source": [
    "# Cargar y Preprocesar la data"
   ]
  },
  {
   "cell_type": "markdown",
   "metadata": {},
   "source": [
    "Para este caso usaremos la data diabetes."
   ]
  },
  {
   "cell_type": "code",
   "execution_count": 3,
   "metadata": {},
   "outputs": [],
   "source": [
    "import numpy as np\n",
    "import pandas as pd"
   ]
  },
  {
   "cell_type": "markdown",
   "metadata": {},
   "source": [
    "- Usamos la función read_excel para abrir el archivo \"diabetes_py\"."
   ]
  },
  {
   "cell_type": "code",
   "execution_count": 4,
   "metadata": {},
   "outputs": [],
   "source": [
    "bu = pd.read_excel('D:/SOCIAL DATA/Dropbox/Python 4ta edición - Programa Completo/3. avanzado/sesión_01/datos/diabetes_py.xlsx')"
   ]
  },
  {
   "cell_type": "markdown",
   "metadata": {},
   "source": [
    "- Muestra de las 5 primeras muestras de la data"
   ]
  },
  {
   "cell_type": "code",
   "execution_count": 5,
   "metadata": {
    "scrolled": true
   },
   "outputs": [
    {
     "data": {
      "text/html": [
       "<div>\n",
       "<style scoped>\n",
       "    .dataframe tbody tr th:only-of-type {\n",
       "        vertical-align: middle;\n",
       "    }\n",
       "\n",
       "    .dataframe tbody tr th {\n",
       "        vertical-align: top;\n",
       "    }\n",
       "\n",
       "    .dataframe thead th {\n",
       "        text-align: right;\n",
       "    }\n",
       "</style>\n",
       "<table border=\"1\" class=\"dataframe\">\n",
       "  <thead>\n",
       "    <tr style=\"text-align: right;\">\n",
       "      <th></th>\n",
       "      <th>clase</th>\n",
       "      <th>glucosa</th>\n",
       "      <th>insulina</th>\n",
       "      <th>sspg</th>\n",
       "    </tr>\n",
       "  </thead>\n",
       "  <tbody>\n",
       "    <tr>\n",
       "      <th>0</th>\n",
       "      <td>1</td>\n",
       "      <td>97</td>\n",
       "      <td>289</td>\n",
       "      <td>117</td>\n",
       "    </tr>\n",
       "    <tr>\n",
       "      <th>1</th>\n",
       "      <td>1</td>\n",
       "      <td>105</td>\n",
       "      <td>319</td>\n",
       "      <td>143</td>\n",
       "    </tr>\n",
       "    <tr>\n",
       "      <th>2</th>\n",
       "      <td>1</td>\n",
       "      <td>90</td>\n",
       "      <td>356</td>\n",
       "      <td>199</td>\n",
       "    </tr>\n",
       "    <tr>\n",
       "      <th>3</th>\n",
       "      <td>1</td>\n",
       "      <td>90</td>\n",
       "      <td>323</td>\n",
       "      <td>240</td>\n",
       "    </tr>\n",
       "    <tr>\n",
       "      <th>4</th>\n",
       "      <td>1</td>\n",
       "      <td>86</td>\n",
       "      <td>381</td>\n",
       "      <td>157</td>\n",
       "    </tr>\n",
       "    <tr>\n",
       "      <th>5</th>\n",
       "      <td>1</td>\n",
       "      <td>100</td>\n",
       "      <td>350</td>\n",
       "      <td>221</td>\n",
       "    </tr>\n",
       "    <tr>\n",
       "      <th>6</th>\n",
       "      <td>1</td>\n",
       "      <td>85</td>\n",
       "      <td>301</td>\n",
       "      <td>186</td>\n",
       "    </tr>\n",
       "    <tr>\n",
       "      <th>7</th>\n",
       "      <td>1</td>\n",
       "      <td>97</td>\n",
       "      <td>379</td>\n",
       "      <td>142</td>\n",
       "    </tr>\n",
       "    <tr>\n",
       "      <th>8</th>\n",
       "      <td>1</td>\n",
       "      <td>97</td>\n",
       "      <td>296</td>\n",
       "      <td>131</td>\n",
       "    </tr>\n",
       "    <tr>\n",
       "      <th>9</th>\n",
       "      <td>1</td>\n",
       "      <td>91</td>\n",
       "      <td>353</td>\n",
       "      <td>221</td>\n",
       "    </tr>\n",
       "  </tbody>\n",
       "</table>\n",
       "</div>"
      ],
      "text/plain": [
       "   clase  glucosa  insulina  sspg\n",
       "0      1       97       289   117\n",
       "1      1      105       319   143\n",
       "2      1       90       356   199\n",
       "3      1       90       323   240\n",
       "4      1       86       381   157\n",
       "5      1      100       350   221\n",
       "6      1       85       301   186\n",
       "7      1       97       379   142\n",
       "8      1       97       296   131\n",
       "9      1       91       353   221"
      ]
     },
     "execution_count": 5,
     "metadata": {},
     "output_type": "execute_result"
    }
   ],
   "source": [
    "bu.head(10)"
   ]
  },
  {
   "cell_type": "markdown",
   "metadata": {},
   "source": [
    "- Valores únicos de la variable target"
   ]
  },
  {
   "cell_type": "code",
   "execution_count": 7,
   "metadata": {},
   "outputs": [
    {
     "name": "stdout",
     "output_type": "stream",
     "text": [
      "class labels [1 2 3]\n"
     ]
    }
   ],
   "source": [
    "import numpy as np\n",
    "print('class labels', np.unique(bu.iloc[:,0])) #  usamos la función uniquwe, de la librería numpy, para encontrar \n",
    "                                               #  los valores únicos de la variable target. bu.iloc, lo usamos para selec-\n",
    "                                               #  cionar la variables target de la data bupa, en este caso ubicado en la \n",
    "                                               #  primera columna\n",
    "### clase 1 = normal\n",
    "### clase 2 = pre-diabetico\n",
    "### clase 3 = diabetico"
   ]
  },
  {
   "cell_type": "markdown",
   "metadata": {},
   "source": [
    "- Separamos la data, una de entrenamiento y otra de prueba.\n",
    "- También, para esta parte, solo usaremos dos variables, glucosa e insulina. "
   ]
  },
  {
   "cell_type": "code",
   "execution_count": 8,
   "metadata": {},
   "outputs": [],
   "source": [
    "from sklearn.model_selection import train_test_split\n",
    "x, y = bu.iloc[:, 1:4].values, bu.iloc[:, 0].values  ## separamos las variables predictoras (glucosa, insulina[:,1:3]) y la variable dependiente"
   ]
  },
  {
   "cell_type": "code",
   "execution_count": 9,
   "metadata": {},
   "outputs": [
    {
     "data": {
      "text/plain": [
       "array([[  97,  289,  117],\n",
       "       [ 105,  319,  143],\n",
       "       [  90,  356,  199],\n",
       "       [  90,  323,  240],\n",
       "       [  86,  381,  157],\n",
       "       [ 100,  350,  221],\n",
       "       [  85,  301,  186],\n",
       "       [  97,  379,  142],\n",
       "       [  97,  296,  131],\n",
       "       [  91,  353,  221],\n",
       "       [  87,  306,  178],\n",
       "       [  78,  290,  136],\n",
       "       [  90,  371,  200],\n",
       "       [  80,  393,  202],\n",
       "       [  90,  364,  152],\n",
       "       [  99,  359,  185],\n",
       "       [  85,  296,  116],\n",
       "       [  90,  345,  123],\n",
       "       [  90,  378,  136],\n",
       "       [  88,  304,  134],\n",
       "       [  90,  327,  192],\n",
       "       [  92,  386,  279],\n",
       "       [  98,  365,  145],\n",
       "       [ 100,  352,  172],\n",
       "       [  86,  325,  179],\n",
       "       [  98,  321,  222],\n",
       "       [  70,  360,  134],\n",
       "       [  99,  336,  143],\n",
       "       [  75,  352,  169],\n",
       "       [  90,  353,  263],\n",
       "       [  85,  373,  174],\n",
       "       [  99,  376,  134],\n",
       "       [ 100,  367,  182],\n",
       "       [  78,  335,  241],\n",
       "       [ 106,  396,  128],\n",
       "       [ 102,  378,  165],\n",
       "       [  90,  360,  282],\n",
       "       [  94,  291,   94],\n",
       "       [  80,  269,  121],\n",
       "       [  93,  318,   73],\n",
       "       [  96,  356,  112],\n",
       "       [  88,  291,  157],\n",
       "       [  94,  313,  200],\n",
       "       [  93,  306,  220],\n",
       "       [  86,  319,  144],\n",
       "       [  96,  332,  151],\n",
       "       [  86,  323,  158],\n",
       "       [  89,  323,   73],\n",
       "       [  83,  351,   81],\n",
       "       [  98,  478,  151],\n",
       "       [ 100,  398,  122],\n",
       "       [ 110,  426,  117],\n",
       "       [  88,  439,  208],\n",
       "       [  80,  333,  131],\n",
       "       [  91,  436,  148],\n",
       "       [  96,  418,  130],\n",
       "       [  95,  391,  137],\n",
       "       [  84,  416,  146],\n",
       "       [ 100,  385,  192],\n",
       "       [  86,  393,  115],\n",
       "       [  93,  376,  195],\n",
       "       [ 107,  403,  267],\n",
       "       [ 112,  414,  281],\n",
       "       [  94,  426,  213],\n",
       "       [  93,  364,  156],\n",
       "       [  93,  391,  221],\n",
       "       [  90,  356,  199],\n",
       "       [  99,  398,   76],\n",
       "       [  93,  393,  490],\n",
       "       [  85,  425,  143],\n",
       "       [  89,  318,   73],\n",
       "       [ 111,  558,  748],\n",
       "       [ 114,  540,  188],\n",
       "       [ 101,  469,  607],\n",
       "       [ 112,  568,  232],\n",
       "       [ 105,  527,  480],\n",
       "       [ 103,  537,  622],\n",
       "       [  99,  466,  287],\n",
       "       [ 102,  599,  266],\n",
       "       [  96,  456,  326],\n",
       "       [  95,  517,  564],\n",
       "       [ 110,  522,  325],\n",
       "       [  92,  476,  433],\n",
       "       [ 104,  472,  180],\n",
       "       [  92,  442,  109],\n",
       "       [  92,  541,  313],\n",
       "       [  92,  580,  132],\n",
       "       [  93,  472,  285],\n",
       "       [ 112,  562,  139],\n",
       "       [  88,  423,  212],\n",
       "       [ 114,  643,  155],\n",
       "       [ 103,  533,  120],\n",
       "       [ 303, 1487,   23],\n",
       "       [ 125,  714,  232],\n",
       "       [ 280, 1470,   54],\n",
       "       [ 216, 1113,   81],\n",
       "       [ 190,  972,   87],\n",
       "       [ 303, 1364,   42],\n",
       "       [ 173,  832,  102],\n",
       "       [ 203,  967,  138],\n",
       "       [ 140,  613,  131],\n",
       "       [ 275, 1373,   45],\n",
       "       [ 260, 1133,  118],\n",
       "       [ 233, 1183,   73],\n",
       "       [ 146,  847,  103],\n",
       "       [ 124,  538,  460],\n",
       "       [ 213, 1001,   42],\n",
       "       [ 330, 1520,   13],\n",
       "       [ 123,  557,  130],\n",
       "       [ 130,  670,   44],\n",
       "       [ 120,  636,  314],\n",
       "       [ 138,  741,  219],\n",
       "       [ 188,  958,  100],\n",
       "       [ 339, 1354,   10],\n",
       "       [ 213, 1025,   29]], dtype=int64)"
      ]
     },
     "execution_count": 9,
     "metadata": {},
     "output_type": "execute_result"
    }
   ],
   "source": [
    "x"
   ]
  },
  {
   "cell_type": "code",
   "execution_count": 10,
   "metadata": {},
   "outputs": [
    {
     "data": {
      "text/plain": [
       "array([1, 1, 1, 1, 1, 1, 1, 1, 1, 1, 1, 1, 1, 1, 1, 1, 1, 1, 1, 1, 1, 1,\n",
       "       1, 1, 1, 1, 1, 1, 1, 1, 1, 1, 1, 1, 1, 1, 1, 1, 1, 1, 1, 1, 1, 1,\n",
       "       1, 1, 1, 1, 1, 2, 1, 1, 2, 1, 2, 1, 1, 1, 1, 1, 1, 1, 1, 2, 1, 1,\n",
       "       1, 1, 1, 2, 1, 2, 2, 2, 2, 2, 2, 2, 2, 2, 2, 2, 2, 2, 2, 2, 2, 2,\n",
       "       2, 2, 2, 2, 3, 3, 3, 3, 3, 3, 3, 3, 3, 3, 3, 3, 3, 3, 3, 3, 3, 3,\n",
       "       3, 3, 3, 3, 3], dtype=int64)"
      ]
     },
     "execution_count": 10,
     "metadata": {},
     "output_type": "execute_result"
    }
   ],
   "source": [
    "y"
   ]
  },
  {
   "cell_type": "code",
   "execution_count": 11,
   "metadata": {},
   "outputs": [],
   "source": [
    "x_train, x_test, y_train, y_test = train_test_split (x, y, test_size=0.3, ### separamos en 4 objetos las variables, dos seran de prueba y dos de entrenamiento\n",
    "                        stratify=y, random_state=2019)  ### le damos el 30% a la dara de prueba\n",
    "## usamos la función model_selection, de la librería sklearn\n",
    "## Para este caso, también solo se usara"
   ]
  },
  {
   "cell_type": "markdown",
   "metadata": {},
   "source": [
    "# Árbol de Decisión"
   ]
  },
  {
   "cell_type": "markdown",
   "metadata": {},
   "source": [
    "- Los árboles de decisión pueden generar límites de decisión complejos dividiendo las caracteríticas en rectangulos. Sin embargo, debemos con cuidado puesto que cuanto más profundo es es el árbol de decisión, más complejo es el límite de decisión, el cual puede caer más facilmente en el sobreajuste. "
   ]
  },
  {
   "cell_type": "markdown",
   "metadata": {},
   "source": [
    "Entrenamos un árbol de decisión con una profundidad máxima de 3, utilizando la entropía como criterio para la impureza."
   ]
  },
  {
   "cell_type": "code",
   "execution_count": 12,
   "metadata": {},
   "outputs": [],
   "source": [
    "from sklearn.tree import DecisionTreeClassifier\n",
    "from mlxtend.plotting import plot_decision_regions\n",
    "import matplotlib.pyplot as plt\n",
    "import numpy as np"
   ]
  },
  {
   "cell_type": "code",
   "execution_count": 13,
   "metadata": {},
   "outputs": [],
   "source": [
    "from sklearn.model_selection import train_test_split\n",
    "x, y = bu.iloc[:, 1:3].values, bu.iloc[:, 0].values  ## separamos las variables predictoras (glucosa, insulina[:,1:3]) y la variable dependiente\n",
    "X_TRAIN, X_TEST, Y_TRAIN, Y_TEST = train_test_split (x, y, test_size=0.3, ### separamos en 4 objetos las variables, dos seran de prueba y dos de entrenamiento\n",
    "                        stratify=y)   ### le damos el 30% a la dara de prueba\n",
    "## usamos la función model_selection, de la librería sklearn\n",
    "## Para este caso, también solo se usara"
   ]
  },
  {
   "cell_type": "code",
   "execution_count": 14,
   "metadata": {},
   "outputs": [
    {
     "data": {
      "text/plain": [
       "array([[  97,  289],\n",
       "       [ 105,  319],\n",
       "       [  90,  356],\n",
       "       [  90,  323],\n",
       "       [  86,  381],\n",
       "       [ 100,  350],\n",
       "       [  85,  301],\n",
       "       [  97,  379],\n",
       "       [  97,  296],\n",
       "       [  91,  353],\n",
       "       [  87,  306],\n",
       "       [  78,  290],\n",
       "       [  90,  371],\n",
       "       [  80,  393],\n",
       "       [  90,  364],\n",
       "       [  99,  359],\n",
       "       [  85,  296],\n",
       "       [  90,  345],\n",
       "       [  90,  378],\n",
       "       [  88,  304],\n",
       "       [  90,  327],\n",
       "       [  92,  386],\n",
       "       [  98,  365],\n",
       "       [ 100,  352],\n",
       "       [  86,  325],\n",
       "       [  98,  321],\n",
       "       [  70,  360],\n",
       "       [  99,  336],\n",
       "       [  75,  352],\n",
       "       [  90,  353],\n",
       "       [  85,  373],\n",
       "       [  99,  376],\n",
       "       [ 100,  367],\n",
       "       [  78,  335],\n",
       "       [ 106,  396],\n",
       "       [ 102,  378],\n",
       "       [  90,  360],\n",
       "       [  94,  291],\n",
       "       [  80,  269],\n",
       "       [  93,  318],\n",
       "       [  96,  356],\n",
       "       [  88,  291],\n",
       "       [  94,  313],\n",
       "       [  93,  306],\n",
       "       [  86,  319],\n",
       "       [  96,  332],\n",
       "       [  86,  323],\n",
       "       [  89,  323],\n",
       "       [  83,  351],\n",
       "       [  98,  478],\n",
       "       [ 100,  398],\n",
       "       [ 110,  426],\n",
       "       [  88,  439],\n",
       "       [  80,  333],\n",
       "       [  91,  436],\n",
       "       [  96,  418],\n",
       "       [  95,  391],\n",
       "       [  84,  416],\n",
       "       [ 100,  385],\n",
       "       [  86,  393],\n",
       "       [  93,  376],\n",
       "       [ 107,  403],\n",
       "       [ 112,  414],\n",
       "       [  94,  426],\n",
       "       [  93,  364],\n",
       "       [  93,  391],\n",
       "       [  90,  356],\n",
       "       [  99,  398],\n",
       "       [  93,  393],\n",
       "       [  85,  425],\n",
       "       [  89,  318],\n",
       "       [ 111,  558],\n",
       "       [ 114,  540],\n",
       "       [ 101,  469],\n",
       "       [ 112,  568],\n",
       "       [ 105,  527],\n",
       "       [ 103,  537],\n",
       "       [  99,  466],\n",
       "       [ 102,  599],\n",
       "       [  96,  456],\n",
       "       [  95,  517],\n",
       "       [ 110,  522],\n",
       "       [  92,  476],\n",
       "       [ 104,  472],\n",
       "       [  92,  442],\n",
       "       [  92,  541],\n",
       "       [  92,  580],\n",
       "       [  93,  472],\n",
       "       [ 112,  562],\n",
       "       [  88,  423],\n",
       "       [ 114,  643],\n",
       "       [ 103,  533],\n",
       "       [ 303, 1487],\n",
       "       [ 125,  714],\n",
       "       [ 280, 1470],\n",
       "       [ 216, 1113],\n",
       "       [ 190,  972],\n",
       "       [ 303, 1364],\n",
       "       [ 173,  832],\n",
       "       [ 203,  967],\n",
       "       [ 140,  613],\n",
       "       [ 275, 1373],\n",
       "       [ 260, 1133],\n",
       "       [ 233, 1183],\n",
       "       [ 146,  847],\n",
       "       [ 124,  538],\n",
       "       [ 213, 1001],\n",
       "       [ 330, 1520],\n",
       "       [ 123,  557],\n",
       "       [ 130,  670],\n",
       "       [ 120,  636],\n",
       "       [ 138,  741],\n",
       "       [ 188,  958],\n",
       "       [ 339, 1354],\n",
       "       [ 213, 1025]], dtype=int64)"
      ]
     },
     "execution_count": 14,
     "metadata": {},
     "output_type": "execute_result"
    }
   ],
   "source": [
    "x"
   ]
  },
  {
   "cell_type": "code",
   "execution_count": 15,
   "metadata": {},
   "outputs": [
    {
     "data": {
      "text/plain": [
       "array([1, 1, 1, 1, 1, 1, 1, 1, 1, 1, 1, 1, 1, 1, 1, 1, 1, 1, 1, 1, 1, 1,\n",
       "       1, 1, 1, 1, 1, 1, 1, 1, 1, 1, 1, 1, 1, 1, 1, 1, 1, 1, 1, 1, 1, 1,\n",
       "       1, 1, 1, 1, 1, 2, 1, 1, 2, 1, 2, 1, 1, 1, 1, 1, 1, 1, 1, 2, 1, 1,\n",
       "       1, 1, 1, 2, 1, 2, 2, 2, 2, 2, 2, 2, 2, 2, 2, 2, 2, 2, 2, 2, 2, 2,\n",
       "       2, 2, 2, 2, 3, 3, 3, 3, 3, 3, 3, 3, 3, 3, 3, 3, 3, 3, 3, 3, 3, 3,\n",
       "       3, 3, 3, 3, 3], dtype=int64)"
      ]
     },
     "execution_count": 15,
     "metadata": {},
     "output_type": "execute_result"
    }
   ],
   "source": [
    "y"
   ]
  },
  {
   "cell_type": "code",
   "execution_count": 11,
   "metadata": {},
   "outputs": [],
   "source": [
    "from sklearn.tree import DecisionTreeClassifier "
   ]
  },
  {
   "cell_type": "code",
   "execution_count": 16,
   "metadata": {},
   "outputs": [],
   "source": [
    "\n",
    "tree = DecisionTreeClassifier(criterion='entropy', #medida para impureza\n",
    "                              min_samples_split=20, #observaciones de nodo\n",
    "                              max_depth = 3, #profundidad del árbol\n",
    "                              random_state=2020) #semilla\n",
    "#max_depth = 4, random_state=1\n",
    "## almacenar en el objeto tree = la función DecisionTreeClassifier"
   ]
  },
  {
   "cell_type": "markdown",
   "metadata": {},
   "source": [
    "#### Validación cruzada"
   ]
  },
  {
   "cell_type": "code",
   "execution_count": 21,
   "metadata": {},
   "outputs": [
    {
     "name": "stderr",
     "output_type": "stream",
     "text": [
      "C:\\Users\\SOCIAL DATA\\AppData\\Roaming\\Python\\Python37\\site-packages\\sklearn\\model_selection\\_split.py:657: Warning: The least populated class in y has only 16 members, which is too few. The minimum number of members in any class cannot be less than n_splits=30.\n",
      "  % (min_groups, self.n_splits)), Warning)\n"
     ]
    }
   ],
   "source": [
    "from sklearn.model_selection import cross_val_score\n",
    "scores = cross_val_score(tree, #función del modelo\n",
    "                         X_TRAIN, #x de entrenamiento\n",
    "                         Y_TRAIN, #y de entrenamiento\n",
    "                         scoring=\"accuracy\",  #métrica, en este caso usaremos la tasa de acierto\n",
    "                         cv=30) ##n de muestras de los datos"
   ]
  },
  {
   "cell_type": "code",
   "execution_count": 18,
   "metadata": {},
   "outputs": [
    {
     "data": {
      "text/plain": [
       "array([1.  , 1.  , 1.  , 1.  , 1.  , 1.  , 1.  , 1.  , 1.  , 1.  , 1.  ,\n",
       "       0.75, 1.  , 1.  , 1.  , 1.  , 1.  , 0.5 , 1.  , 1.  , 1.  , 1.  ,\n",
       "       1.  , 1.  , 1.  , 1.  , 1.  , 1.  , 1.  , 1.  ])"
      ]
     },
     "execution_count": 18,
     "metadata": {},
     "output_type": "execute_result"
    }
   ],
   "source": [
    "scores"
   ]
  },
  {
   "cell_type": "markdown",
   "metadata": {},
   "source": [
    "#### Elaboración del modelo"
   ]
  },
  {
   "cell_type": "code",
   "execution_count": 22,
   "metadata": {},
   "outputs": [
    {
     "data": {
      "text/plain": [
       "DecisionTreeClassifier(class_weight=None, criterion='entropy', max_depth=3,\n",
       "                       max_features=None, max_leaf_nodes=None,\n",
       "                       min_impurity_decrease=0.0, min_impurity_split=None,\n",
       "                       min_samples_leaf=1, min_samples_split=20,\n",
       "                       min_weight_fraction_leaf=0.0, presort=False,\n",
       "                       random_state=2020, splitter='best')"
      ]
     },
     "execution_count": 22,
     "metadata": {},
     "output_type": "execute_result"
    }
   ],
   "source": [
    "tree.fit(X_TRAIN, Y_TRAIN) ## Usamos la data de entrenamiento para crear el árbol"
   ]
  },
  {
   "cell_type": "code",
   "execution_count": 18,
   "metadata": {},
   "outputs": [],
   "source": [
    "x_combined= np.vstack((X_TRAIN, X_TEST)) ## Combinamos las variables x\n",
    "y_combined= np.hstack((Y_TRAIN, Y_TEST)) ## Combinamos las varialbes y "
   ]
  },
  {
   "cell_type": "code",
   "execution_count": 23,
   "metadata": {},
   "outputs": [
    {
     "ename": "NameError",
     "evalue": "name 'x_combined' is not defined",
     "output_type": "error",
     "traceback": [
      "\u001b[1;31m---------------------------------------------------------------------------\u001b[0m",
      "\u001b[1;31mNameError\u001b[0m                                 Traceback (most recent call last)",
      "\u001b[1;32m<ipython-input-23-c3eb4ee46f5c>\u001b[0m in \u001b[0;36m<module>\u001b[1;34m\u001b[0m\n\u001b[1;32m----> 1\u001b[1;33m plot_decision_regions(x_combined, \n\u001b[0m\u001b[0;32m      2\u001b[0m                       \u001b[0my_combined\u001b[0m\u001b[1;33m,\u001b[0m\u001b[1;33m\u001b[0m\u001b[1;33m\u001b[0m\u001b[0m\n\u001b[0;32m      3\u001b[0m                       \u001b[0mclf\u001b[0m\u001b[1;33m=\u001b[0m\u001b[0mtree\u001b[0m\u001b[1;33m,\u001b[0m\u001b[1;33m\u001b[0m\u001b[1;33m\u001b[0m\u001b[0m\n\u001b[0;32m      4\u001b[0m                       X_highlight=X_TEST) \n\u001b[0;32m      5\u001b[0m \u001b[1;31m## Gráficamos el árbol en base a áreas, con la función \"plot_decision_regions\"\u001b[0m\u001b[1;33m\u001b[0m\u001b[1;33m\u001b[0m\u001b[1;33m\u001b[0m\u001b[0m\n",
      "\u001b[1;31mNameError\u001b[0m: name 'x_combined' is not defined"
     ]
    }
   ],
   "source": [
    "plot_decision_regions(x_combined, \n",
    "                      y_combined, \n",
    "                      clf=tree, \n",
    "                      X_highlight=X_TEST) \n",
    "## Gráficamos el árbol en base a áreas, con la función \"plot_decision_regions\"\n",
    "plt.xlabel('glucosa') ## asignamos el nombre al eje x\n",
    "plt.ylabel('insulina')## asignamos el nombre al eje y\n",
    "plt.legend(loc='upper left')## posición de la leyenda\n",
    "plt.show() ##gráficamos"
   ]
  },
  {
   "cell_type": "code",
   "execution_count": 24,
   "metadata": {},
   "outputs": [
    {
     "name": "stdout",
     "output_type": "stream",
     "text": [
      "DATOS DEL MODELO ÁRBOLES DE DECISIÓN REGRESION\n",
      "\n",
      "Precisión del modelo:\n",
      "1.0\n",
      "0.9714285714285714\n"
     ]
    }
   ],
   "source": [
    "print('DATOS DEL MODELO ÁRBOLES DE DECISIÓN REGRESION')\n",
    "print()\n",
    "print('Precisión del modelo:')\n",
    "print(tree.score(X_TRAIN, Y_TRAIN))\n",
    "print(tree.score(X_TEST, Y_TEST))"
   ]
  },
  {
   "cell_type": "markdown",
   "metadata": {},
   "source": [
    "### Graficar el Árbol"
   ]
  },
  {
   "cell_type": "markdown",
   "metadata": {},
   "source": [
    "- Scikit-learn nos permite exportar el árbol en un archivo .dot, que podemos visualizar con el programa GraphViz."
   ]
  },
  {
   "cell_type": "code",
   "execution_count": 25,
   "metadata": {},
   "outputs": [],
   "source": [
    "from sklearn.tree import DecisionTreeClassifier\n",
    "import sklearn.datasets as datasets\n",
    "import graphviz\n",
    "#import pygraphviz \n",
    "#from sklearn.externals.six import StringIO\n",
    "from sklearn.tree import export_graphviz\n",
    "from subprocess import check_call"
   ]
  },
  {
   "cell_type": "code",
   "execution_count": 26,
   "metadata": {},
   "outputs": [
    {
     "data": {
      "text/html": [
       "<div>\n",
       "<style scoped>\n",
       "    .dataframe tbody tr th:only-of-type {\n",
       "        vertical-align: middle;\n",
       "    }\n",
       "\n",
       "    .dataframe tbody tr th {\n",
       "        vertical-align: top;\n",
       "    }\n",
       "\n",
       "    .dataframe thead th {\n",
       "        text-align: right;\n",
       "    }\n",
       "</style>\n",
       "<table border=\"1\" class=\"dataframe\">\n",
       "  <thead>\n",
       "    <tr style=\"text-align: right;\">\n",
       "      <th></th>\n",
       "      <th>glucosa</th>\n",
       "      <th>insulina</th>\n",
       "      <th>sspg</th>\n",
       "      <th>clase</th>\n",
       "    </tr>\n",
       "  </thead>\n",
       "  <tbody>\n",
       "    <tr>\n",
       "      <th>0</th>\n",
       "      <td>86</td>\n",
       "      <td>319</td>\n",
       "      <td>144</td>\n",
       "      <td>1</td>\n",
       "    </tr>\n",
       "    <tr>\n",
       "      <th>1</th>\n",
       "      <td>173</td>\n",
       "      <td>832</td>\n",
       "      <td>102</td>\n",
       "      <td>3</td>\n",
       "    </tr>\n",
       "    <tr>\n",
       "      <th>2</th>\n",
       "      <td>100</td>\n",
       "      <td>352</td>\n",
       "      <td>172</td>\n",
       "      <td>1</td>\n",
       "    </tr>\n",
       "    <tr>\n",
       "      <th>3</th>\n",
       "      <td>86</td>\n",
       "      <td>323</td>\n",
       "      <td>158</td>\n",
       "      <td>1</td>\n",
       "    </tr>\n",
       "    <tr>\n",
       "      <th>4</th>\n",
       "      <td>86</td>\n",
       "      <td>393</td>\n",
       "      <td>115</td>\n",
       "      <td>1</td>\n",
       "    </tr>\n",
       "  </tbody>\n",
       "</table>\n",
       "</div>"
      ],
      "text/plain": [
       "   glucosa  insulina  sspg  clase\n",
       "0       86       319   144      1\n",
       "1      173       832   102      3\n",
       "2      100       352   172      1\n",
       "3       86       323   158      1\n",
       "4       86       393   115      1"
      ]
     },
     "execution_count": 26,
     "metadata": {},
     "output_type": "execute_result"
    }
   ],
   "source": [
    "#Datos de entrenamiento\n",
    "x_t= pd.DataFrame(x_train, #vaiores de la matriz de datos de entreniento\n",
    "                  columns=[\"glucosa\", \"insulina\", \"sspg\"]) #etiquetas de columnas\n",
    "y_t= pd.DataFrame(y_train, #valores de y para nuestros datos de entrenamiento\n",
    "                  columns=[\"clase\"]) #etiqueta de la columna\n",
    "\n",
    "bupa_entrenamiento = pd.concat([x_t, y_t], #utilizamos concat para concatenar los dataframe generados \n",
    "                               axis=1) #axis = 1 indica que se concatena por columna\n",
    "bupa_entrenamiento.head()"
   ]
  },
  {
   "cell_type": "code",
   "execution_count": 27,
   "metadata": {},
   "outputs": [
    {
     "data": {
      "text/plain": [
       "['glucosa', 'insulina', 'sspg', 'clase']"
      ]
     },
     "execution_count": 27,
     "metadata": {},
     "output_type": "execute_result"
    }
   ],
   "source": [
    "colnames = bupa_entrenamiento.columns.tolist() #columns.tolist() extrae las etiquetas de las columnas\n",
    "colnames #consultamos el objeto generado"
   ]
  },
  {
   "cell_type": "code",
   "execution_count": 28,
   "metadata": {},
   "outputs": [
    {
     "data": {
      "text/plain": [
       "['glucosa', 'insulina', 'sspg']"
      ]
     },
     "execution_count": 28,
     "metadata": {},
     "output_type": "execute_result"
    }
   ],
   "source": [
    "predictors = colnames[0:3] #guardamos las etiquetas del orden 0 hasta el 3\n",
    "predictors"
   ]
  },
  {
   "cell_type": "code",
   "execution_count": 29,
   "metadata": {},
   "outputs": [
    {
     "data": {
      "text/plain": [
       "'clase'"
      ]
     },
     "execution_count": 29,
     "metadata": {},
     "output_type": "execute_result"
    }
   ],
   "source": [
    "target = colnames[3]\n",
    "target"
   ]
  },
  {
   "cell_type": "code",
   "execution_count": 30,
   "metadata": {},
   "outputs": [],
   "source": [
    "tree = DecisionTreeClassifier(criterion='entropy', #criterio para medir la impureza del árbol\n",
    "                              min_samples_split=20, #mínimo de observaciones en los nodas\n",
    "                              max_depth = 3, #profundidad máxima del árbol\n",
    "                              random_state=99) #semilla"
   ]
  },
  {
   "cell_type": "code",
   "execution_count": 31,
   "metadata": {},
   "outputs": [],
   "source": [
    "tree_fit =tree.fit(x_train, y_train) ## Usamos la data de entrenamiento para crear el árbol\n"
   ]
  },
  {
   "cell_type": "code",
   "execution_count": 32,
   "metadata": {},
   "outputs": [],
   "source": [
    "import os"
   ]
  },
  {
   "cell_type": "code",
   "execution_count": 33,
   "metadata": {},
   "outputs": [
    {
     "data": {
      "text/plain": [
       "'C:\\\\Users\\\\SOCIAL DATA'"
      ]
     },
     "execution_count": 33,
     "metadata": {},
     "output_type": "execute_result"
    }
   ],
   "source": [
    "os.getcwd()"
   ]
  },
  {
   "cell_type": "code",
   "execution_count": 34,
   "metadata": {},
   "outputs": [],
   "source": [
    "with open(\"bupa_dtree.dot\", \"w\") as dotfile:\n",
    "    export_graphviz(tree_fit, #modelo\n",
    "                    out_file=dotfile, #objeto a generar\n",
    "                    feature_names=predictors) #etiquetas de los predictores\n",
    "    dotfile.close() #cerramos la creación del objeto"
   ]
  },
  {
   "cell_type": "code",
   "execution_count": 35,
   "metadata": {},
   "outputs": [],
   "source": [
    "import os\n",
    "from graphviz import Source"
   ]
  },
  {
   "cell_type": "code",
   "execution_count": 36,
   "metadata": {},
   "outputs": [],
   "source": [
    "import os"
   ]
  },
  {
   "cell_type": "code",
   "execution_count": 37,
   "metadata": {},
   "outputs": [
    {
     "data": {
      "text/plain": [
       "'C:\\\\Users\\\\SOCIAL DATA'"
      ]
     },
     "execution_count": 37,
     "metadata": {},
     "output_type": "execute_result"
    }
   ],
   "source": [
    "os.getcwd()"
   ]
  },
  {
   "cell_type": "code",
   "execution_count": 38,
   "metadata": {},
   "outputs": [],
   "source": [
    "os.environ[\"PATH\"] += os.pathsep + 'C:/Users/SOCIAL DATA/'"
   ]
  },
  {
   "cell_type": "code",
   "execution_count": 41,
   "metadata": {},
   "outputs": [],
   "source": [
    "#Source(text)"
   ]
  },
  {
   "cell_type": "code",
   "execution_count": 40,
   "metadata": {},
   "outputs": [
    {
     "data": {
      "text/plain": [
       "'digraph Tree {\\nnode [shape=box] ;\\n0 [label=\"insulina <= 420.5\\\\nentropy = 1.408\\\\nsamples = 80\\\\nvalue = [46, 18, 16]\"] ;\\n1 [label=\"entropy = 0.0\\\\nsamples = 45\\\\nvalue = [45, 0, 0]\"] ;\\n0 -> 1 [labeldistance=2.5, labelangle=45, headlabel=\"True\"] ;\\n2 [label=\"glucosa <= 117.0\\\\nentropy = 1.156\\\\nsamples = 35\\\\nvalue = [1, 18, 16]\"] ;\\n0 -> 2 [labeldistance=2.5, labelangle=-45, headlabel=\"False\"] ;\\n3 [label=\"entropy = 0.297\\\\nsamples = 19\\\\nvalue = [1, 18, 0]\"] ;\\n2 -> 3 ;\\n4 [label=\"entropy = 0.0\\\\nsamples = 16\\\\nvalue = [0, 0, 16]\"] ;\\n2 -> 4 ;\\n}'"
      ]
     },
     "execution_count": 40,
     "metadata": {},
     "output_type": "execute_result"
    }
   ],
   "source": [
    "file = open(\"bupa_dtree.dot\", \"r\")\n",
    "text = file.read()\n",
    "text"
   ]
  },
  {
   "cell_type": "code",
   "execution_count": 54,
   "metadata": {},
   "outputs": [],
   "source": [
    "#pip install pydotplus"
   ]
  },
  {
   "cell_type": "code",
   "execution_count": 50,
   "metadata": {},
   "outputs": [],
   "source": [
    "import matplotlib.pyplot as plt"
   ]
  },
  {
   "cell_type": "code",
   "execution_count": 51,
   "metadata": {},
   "outputs": [],
   "source": [
    "from sklearn.tree import export_graphviz\n",
    "from pydotplus import graph_from_dot_data"
   ]
  },
  {
   "cell_type": "code",
   "execution_count": 52,
   "metadata": {},
   "outputs": [],
   "source": [
    "dot_data = export_graphviz(tree_fit,\n",
    "                           feature_names=predictors)"
   ]
  },
  {
   "cell_type": "code",
   "execution_count": 53,
   "metadata": {},
   "outputs": [],
   "source": [
    "from IPython.display import Image "
   ]
  },
  {
   "cell_type": "code",
   "execution_count": 54,
   "metadata": {},
   "outputs": [
    {
     "data": {
      "image/png": "[encoded data removed]",
      "text/plain": [
       "<IPython.core.display.Image object>"
      ]
     },
     "execution_count": 54,
     "metadata": {},
     "output_type": "execute_result"
    }
   ],
   "source": [
    "# Draw graph\n",
    "graph = graph_from_dot_data(dot_data)  \n",
    "\n",
    "# Show graph\n",
    "Image(graph.create_png())"
   ]
  },
  {
   "cell_type": "code",
   "execution_count": 55,
   "metadata": {},
   "outputs": [],
   "source": [
    "graph = graph_from_dot_data(dot_data)"
   ]
  },
  {
   "cell_type": "code",
   "execution_count": 56,
   "metadata": {},
   "outputs": [
    {
     "data": {
      "text/plain": [
       "<pydotplus.graphviz.Dot at 0x1e93eed5648>"
      ]
     },
     "execution_count": 56,
     "metadata": {},
     "output_type": "execute_result"
    }
   ],
   "source": [
    "graph"
   ]
  },
  {
   "cell_type": "code",
   "execution_count": 50,
   "metadata": {},
   "outputs": [
    {
     "data": {
      "text/plain": [
       "True"
      ]
     },
     "execution_count": 50,
     "metadata": {},
     "output_type": "execute_result"
    }
   ],
   "source": [
    "graph.write_png('tree_2.png')\n",
    "#write_png(): para guardar el gráfico de árboles"
   ]
  },
  {
   "cell_type": "markdown",
   "metadata": {},
   "source": [
    "### Validación del modelo"
   ]
  },
  {
   "cell_type": "markdown",
   "metadata": {},
   "source": [
    "##### accuracy "
   ]
  },
  {
   "cell_type": "code",
   "execution_count": 57,
   "metadata": {},
   "outputs": [
    {
     "data": {
      "text/plain": [
       "0.9875"
      ]
     },
     "execution_count": 57,
     "metadata": {},
     "output_type": "execute_result"
    }
   ],
   "source": [
    "#entrenamiento \n",
    "tree.score(x_train, #valores de los predictores de entrenamiento\n",
    "           y_train) #valores de nuestro target \n",
    "#score()"
   ]
  },
  {
   "cell_type": "code",
   "execution_count": 58,
   "metadata": {},
   "outputs": [
    {
     "data": {
      "text/plain": [
       "array([1, 3, 1, 1, 1, 2, 3, 2, 3, 1, 1, 1, 1, 1, 1, 3, 1, 1, 1, 2, 1, 1,\n",
       "       1, 2, 2, 1, 1, 1, 1, 2, 3, 1, 1, 1, 1, 2, 1, 1, 2, 2, 1, 1, 1, 2,\n",
       "       3, 2, 1, 3, 1, 1, 2, 2, 1, 3, 1, 1, 2, 2, 2, 1, 3, 2, 3, 1, 1, 1,\n",
       "       1, 2, 3, 2, 1, 3, 1, 3, 1, 3, 1, 1, 3, 3], dtype=int64)"
      ]
     },
     "execution_count": 58,
     "metadata": {},
     "output_type": "execute_result"
    }
   ],
   "source": [
    "probs = tree_fit.predict(x_train)\n",
    "#predict(): función para calcular los valores predichos\n",
    "probs"
   ]
  },
  {
   "cell_type": "code",
   "execution_count": null,
   "metadata": {},
   "outputs": [],
   "source": []
  },
  {
   "cell_type": "code",
   "execution_count": 59,
   "metadata": {},
   "outputs": [
    {
     "data": {
      "text/plain": [
       "array([1, 2, 1, 3, 1, 1, 1, 1, 1, 3, 3, 3, 2, 1, 1, 1, 1, 1, 2, 3, 1, 2,\n",
       "       1, 1, 1, 1, 2, 1, 3, 1, 2, 2, 1, 3, 2], dtype=int64)"
      ]
     },
     "execution_count": 59,
     "metadata": {},
     "output_type": "execute_result"
    }
   ],
   "source": [
    "probs2 = tree_fit.predict(x_test)#datos de testeo\n",
    "#predict(): función para calcular los valores predichos\n",
    "probs2"
   ]
  },
  {
   "cell_type": "code",
   "execution_count": 61,
   "metadata": {},
   "outputs": [],
   "source": [
    "from sklearn import metrics"
   ]
  },
  {
   "cell_type": "code",
   "execution_count": 62,
   "metadata": {},
   "outputs": [
    {
     "data": {
      "text/plain": [
       "1.0"
      ]
     },
     "execution_count": 62,
     "metadata": {},
     "output_type": "execute_result"
    }
   ],
   "source": [
    "metrics.accuracy_score(y_test, probs2)#accuracy para nuestros datos de testeo"
   ]
  },
  {
   "cell_type": "code",
   "execution_count": 63,
   "metadata": {},
   "outputs": [
    {
     "data": {
      "text/plain": [
       "0.9875"
      ]
     },
     "execution_count": 63,
     "metadata": {},
     "output_type": "execute_result"
    }
   ],
   "source": [
    "metrics.accuracy_score(y_train, probs) #accuracy para nuestros datos de entrenamiento"
   ]
  },
  {
   "cell_type": "markdown",
   "metadata": {},
   "source": [
    "## Laboratorio"
   ]
  },
  {
   "cell_type": "markdown",
   "metadata": {},
   "source": [
    "### Información del conjunto de datos"
   ]
  },
  {
   "cell_type": "markdown",
   "metadata": {},
   "source": [
    "Esta investigación tuvo como objetivo el caso de los pagos predeterminados de los clientes en Taiwán y compara la precisión predictiva de la probabilidad de incumplimiento entre seis métodos de minería de datos. Desde la perspectiva de la gestión de riesgos, el resultado de la precisión predictiva de la probabilidad estimada de incumplimiento será más valioso que el resultado binario de la clasificación: clientes creíbles o no creíbles."
   ]
  },
  {
   "cell_type": "markdown",
   "metadata": {},
   "source": [
    "### Información de los atributos"
   ]
  },
  {
   "cell_type": "markdown",
   "metadata": {},
   "source": [
    "- ID: ID de cada cliente\n",
    "- LIMIT_BAL: Cantidad de crédito otorgado en dólares NT (incluye crédito individual y familiar / complementario\n",
    "- SEX: Género (1 = masculino, 2 = femenino)\n",
    "- EDUCATION: (1 = escuela de posgrado, 2 = universidad, 3 = escuela secundaria, 4 = otros, 5 = desconocido, 6 = desconocido)\n",
    "- MARRIAGE:  Estado civil (1 = casado, 2 = soltero, 3 = otros)\n",
    "- AGE: edad en años\n",
    "- PAY_0: Estado de reembolso en septiembre de 2005 (-1 = pago debidamente, 1 = retraso en el pago durante un mes, 2 = retraso en el pago durante dos meses, ... 8 = retraso en el pago durante ocho meses, 9 = retraso en el pago durante nueve meses y más)\n",
    "- PAY_2:  Estado de reembolso en agosto de 2005 (escala igual a la anterior)\n",
    "- PAY_3:  Estado de reembolso en julio de 2005 (escala igual a la anterior)\n",
    "- PAY_4: Estado de reembolso en junio de 2005 (escala igual a la anterior)\n",
    "- PAY_5: Estado de reembolso en mayo de 2005 (escala igual a la anterior)\n",
    "- PAY_6: Estado de reembolso en abril de 2005 (escala igual a la anterior)\n",
    "- BILL_AMT1: Monto de extracto de cuenta en septiembre de 2005 (dólar NT)\n",
    "- BILL_AMT2: Monto de extracto de cuenta en agosto de 2005 (dólar NT)\n",
    "- BILL_AMT3: Monto de extracto de cuenta en julio de 2005 (dólar NT)\n",
    "- BILL_AMT4: Monto del estado de cuenta en junio de 2005 (dólar NT)\n",
    "- BILL_AMT5: Monto del estado de cuenta en mayo de 2005 (dólar NT)\n",
    "- BILL_AMT6: Monto del estado de cuenta en abril de 2005 (dólar NT)\n",
    "- PAY_AMT1: Monto del pago anterior en septiembre de 2005 (NT dólar)\n",
    "- PAY_AMT2: Monto del pago anterior en agosto de 2005 (dólar NT)\n",
    "- PAY_AMT3: Monto del pago anterior en julio de 2005 (dólar NT)\n",
    "- PAY_AMT4: Monto del pago anterior en junio de 2005 (dólar NT)\n",
    "- PAY_AMT5: Monto del pago anterior en mayo de 2005 (dólar NT)\n",
    "- PAY_AMT6: Monto del pago anterior en abril de 2005 (dólar NT)\n",
    "- default.payment.next.month:pago predeterminado (1 = sí, 0 = no)"
   ]
  },
  {
   "cell_type": "markdown",
   "metadata": {},
   "source": [
    "### Fuente de Datos"
   ]
  },
  {
   "cell_type": "markdown",
   "metadata": {},
   "source": [
    "https://archive.ics.uci.edu/ml/datasets/default+of+credit+card+clients"
   ]
  },
  {
   "cell_type": "markdown",
   "metadata": {},
   "source": [
    "### Solicitud de cita:"
   ]
  },
  {
   "cell_type": "markdown",
   "metadata": {},
   "source": [
    "Yeh, I. C. y Lien, C. H. (2009). Las comparaciones de las técnicas de minería de datos para la precisión predictiva de la probabilidad de incumplimiento de los clientes de tarjetas de crédito. Sistemas expertos con aplicaciones, 36 (2), 2473-2480."
   ]
  },
  {
   "cell_type": "code",
   "execution_count": 1,
   "metadata": {},
   "outputs": [],
   "source": [
    "import os\n",
    "os.chdir(\"D:/Python/sbs/data/\")"
   ]
  },
  {
   "cell_type": "code",
   "execution_count": 2,
   "metadata": {},
   "outputs": [],
   "source": [
    "# Load the packages\n",
    "import pandas as pd \n",
    "import matplotlib.pyplot as plt\n",
    "import seaborn as sns\n",
    "import numpy as np\n",
    "import model_evaluation_utils as meu"
   ]
  },
  {
   "cell_type": "code",
   "execution_count": 3,
   "metadata": {},
   "outputs": [
    {
     "name": "stdout",
     "output_type": "stream",
     "text": [
      "<class 'pandas.core.frame.DataFrame'>\n",
      "RangeIndex: 30000 entries, 0 to 29999\n",
      "Data columns (total 25 columns):\n",
      " #   Column                      Non-Null Count  Dtype  \n",
      "---  ------                      --------------  -----  \n",
      " 0   ID                          30000 non-null  int64  \n",
      " 1   LIMIT_BAL                   30000 non-null  float64\n",
      " 2   SEX                         30000 non-null  int64  \n",
      " 3   EDUCATION                   30000 non-null  int64  \n",
      " 4   MARRIAGE                    30000 non-null  int64  \n",
      " 5   AGE                         30000 non-null  int64  \n",
      " 6   PAY_0                       30000 non-null  int64  \n",
      " 7   PAY_2                       30000 non-null  int64  \n",
      " 8   PAY_3                       30000 non-null  int64  \n",
      " 9   PAY_4                       30000 non-null  int64  \n",
      " 10  PAY_5                       30000 non-null  int64  \n",
      " 11  PAY_6                       30000 non-null  int64  \n",
      " 12  BILL_AMT1                   30000 non-null  float64\n",
      " 13  BILL_AMT2                   30000 non-null  float64\n",
      " 14  BILL_AMT3                   30000 non-null  float64\n",
      " 15  BILL_AMT4                   30000 non-null  float64\n",
      " 16  BILL_AMT5                   30000 non-null  float64\n",
      " 17  BILL_AMT6                   30000 non-null  float64\n",
      " 18  PAY_AMT1                    30000 non-null  float64\n",
      " 19  PAY_AMT2                    30000 non-null  float64\n",
      " 20  PAY_AMT3                    30000 non-null  float64\n",
      " 21  PAY_AMT4                    30000 non-null  float64\n",
      " 22  PAY_AMT5                    30000 non-null  float64\n",
      " 23  PAY_AMT6                    30000 non-null  float64\n",
      " 24  default.payment.next.month  30000 non-null  int64  \n",
      "dtypes: float64(13), int64(12)\n",
      "memory usage: 5.7 MB\n"
     ]
    }
   ],
   "source": [
    "# Read data from file 'filename.csv' \n",
    "# (in the same directory that your python process is based)\n",
    "# Control delimiters, rows, column names with read_csv (see later) \n",
    "data = pd.read_csv(\"UCI_Credit_Card.csv\") \n",
    "data.info()"
   ]
  },
  {
   "cell_type": "markdown",
   "metadata": {},
   "source": [
    "#### Actividades:"
   ]
  },
  {
   "cell_type": "markdown",
   "metadata": {},
   "source": [
    "1. Construir data de entrenamiento y testeo\n",
    "2. Utilizar UnderSampling para balanceo de datos, teniendo en cuenta los siguientes parámetros: 07 para proporción de etiquetas poco representadas y 2020 como semilla.\n",
    "3. Construir el modelo de árboles de decisión\n",
    "4. Graficar el árbol de decisión.\n",
    "5. Generar las gráficas de variables importantes.\n",
    "6. Métricas de evaluación de modelos para datos de entrenamiento y testeo"
   ]
  },
  {
   "cell_type": "markdown",
   "metadata": {},
   "source": [
    "[Ir a Inicio](#beginning)\n",
    "\n",
    "_____"
   ]
  }
 ],
 "metadata": {
  "kernelspec": {
   "display_name": "Python 3",
   "language": "python",
   "name": "python3"
  },
  "language_info": {
   "codemirror_mode": {
    "name": "ipython",
    "version": 3
   },
   "file_extension": ".py",
   "mimetype": "text/x-python",
   "name": "python",
   "nbconvert_exporter": "python",
   "pygments_lexer": "ipython3",
   "version": "3.7.6"
  }
 },
 "nbformat": 4,
 "nbformat_minor": 2
}
