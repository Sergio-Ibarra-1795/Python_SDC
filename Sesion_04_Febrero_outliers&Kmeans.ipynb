{
 "cells": [
  {
   "cell_type": "markdown",
   "metadata": {},
   "source": [
    "### CASO UBER"
   ]
  },
  {
   "cell_type": "code",
   "execution_count": 1,
   "metadata": {},
   "outputs": [],
   "source": [
    "import seaborn as sns\n",
    "import os\n",
    "import numpy as np\n",
    "import pandas as pd\n",
    "import matplotlib.pyplot as plt"
   ]
  },
  {
   "cell_type": "code",
   "execution_count": 2,
   "metadata": {},
   "outputs": [],
   "source": [
    "os.chdir(\"D:/Python/2. Nivel II/2/datos\")"
   ]
  },
  {
   "cell_type": "code",
   "execution_count": 3,
   "metadata": {},
   "outputs": [],
   "source": [
    "uber = pd.read_csv(\"uber-raw-data-apr14.csv\")"
   ]
  },
  {
   "cell_type": "code",
   "execution_count": 4,
   "metadata": {},
   "outputs": [
    {
     "data": {
      "text/html": [
       "<div>\n",
       "<style scoped>\n",
       "    .dataframe tbody tr th:only-of-type {\n",
       "        vertical-align: middle;\n",
       "    }\n",
       "\n",
       "    .dataframe tbody tr th {\n",
       "        vertical-align: top;\n",
       "    }\n",
       "\n",
       "    .dataframe thead th {\n",
       "        text-align: right;\n",
       "    }\n",
       "</style>\n",
       "<table border=\"1\" class=\"dataframe\">\n",
       "  <thead>\n",
       "    <tr style=\"text-align: right;\">\n",
       "      <th></th>\n",
       "      <th>Date/Time</th>\n",
       "      <th>Lat</th>\n",
       "      <th>Lon</th>\n",
       "      <th>Base</th>\n",
       "    </tr>\n",
       "  </thead>\n",
       "  <tbody>\n",
       "    <tr>\n",
       "      <th>0</th>\n",
       "      <td>4/1/2014 0:11:00</td>\n",
       "      <td>40.7690</td>\n",
       "      <td>-73.9549</td>\n",
       "      <td>B02512</td>\n",
       "    </tr>\n",
       "    <tr>\n",
       "      <th>1</th>\n",
       "      <td>4/1/2014 0:17:00</td>\n",
       "      <td>40.7267</td>\n",
       "      <td>-74.0345</td>\n",
       "      <td>B02512</td>\n",
       "    </tr>\n",
       "    <tr>\n",
       "      <th>2</th>\n",
       "      <td>4/1/2014 0:21:00</td>\n",
       "      <td>40.7316</td>\n",
       "      <td>-73.9873</td>\n",
       "      <td>B02512</td>\n",
       "    </tr>\n",
       "    <tr>\n",
       "      <th>3</th>\n",
       "      <td>4/1/2014 0:28:00</td>\n",
       "      <td>40.7588</td>\n",
       "      <td>-73.9776</td>\n",
       "      <td>B02512</td>\n",
       "    </tr>\n",
       "    <tr>\n",
       "      <th>4</th>\n",
       "      <td>4/1/2014 0:33:00</td>\n",
       "      <td>40.7594</td>\n",
       "      <td>-73.9722</td>\n",
       "      <td>B02512</td>\n",
       "    </tr>\n",
       "  </tbody>\n",
       "</table>\n",
       "</div>"
      ],
      "text/plain": [
       "          Date/Time      Lat      Lon    Base\n",
       "0  4/1/2014 0:11:00  40.7690 -73.9549  B02512\n",
       "1  4/1/2014 0:17:00  40.7267 -74.0345  B02512\n",
       "2  4/1/2014 0:21:00  40.7316 -73.9873  B02512\n",
       "3  4/1/2014 0:28:00  40.7588 -73.9776  B02512\n",
       "4  4/1/2014 0:33:00  40.7594 -73.9722  B02512"
      ]
     },
     "execution_count": 4,
     "metadata": {},
     "output_type": "execute_result"
    }
   ],
   "source": [
    "uber.head()"
   ]
  },
  {
   "cell_type": "code",
   "execution_count": 5,
   "metadata": {},
   "outputs": [
    {
     "data": {
      "text/plain": [
       "564516"
      ]
     },
     "execution_count": 5,
     "metadata": {},
     "output_type": "execute_result"
    }
   ],
   "source": [
    "len(uber)"
   ]
  },
  {
   "cell_type": "markdown",
   "metadata": {},
   "source": [
    "**Objetivo**: realizar la segmentación de rutas para la empresa UBER"
   ]
  },
  {
   "cell_type": "markdown",
   "metadata": {},
   "source": [
    "**¿Cómo notifico a un proveedor de servicio de taxi de una alerta de usuario?**"
   ]
  },
  {
   "cell_type": "code",
   "execution_count": 6,
   "metadata": {},
   "outputs": [],
   "source": [
    "uber.drop([\"Date/Time\",\"Base\"],axis=1,inplace=True)"
   ]
  },
  {
   "cell_type": "code",
   "execution_count": 7,
   "metadata": {},
   "outputs": [
    {
     "data": {
      "text/html": [
       "<div>\n",
       "<style scoped>\n",
       "    .dataframe tbody tr th:only-of-type {\n",
       "        vertical-align: middle;\n",
       "    }\n",
       "\n",
       "    .dataframe tbody tr th {\n",
       "        vertical-align: top;\n",
       "    }\n",
       "\n",
       "    .dataframe thead th {\n",
       "        text-align: right;\n",
       "    }\n",
       "</style>\n",
       "<table border=\"1\" class=\"dataframe\">\n",
       "  <thead>\n",
       "    <tr style=\"text-align: right;\">\n",
       "      <th></th>\n",
       "      <th>Lat</th>\n",
       "      <th>Lon</th>\n",
       "    </tr>\n",
       "  </thead>\n",
       "  <tbody>\n",
       "    <tr>\n",
       "      <th>0</th>\n",
       "      <td>40.7690</td>\n",
       "      <td>-73.9549</td>\n",
       "    </tr>\n",
       "    <tr>\n",
       "      <th>1</th>\n",
       "      <td>40.7267</td>\n",
       "      <td>-74.0345</td>\n",
       "    </tr>\n",
       "    <tr>\n",
       "      <th>2</th>\n",
       "      <td>40.7316</td>\n",
       "      <td>-73.9873</td>\n",
       "    </tr>\n",
       "    <tr>\n",
       "      <th>3</th>\n",
       "      <td>40.7588</td>\n",
       "      <td>-73.9776</td>\n",
       "    </tr>\n",
       "    <tr>\n",
       "      <th>4</th>\n",
       "      <td>40.7594</td>\n",
       "      <td>-73.9722</td>\n",
       "    </tr>\n",
       "  </tbody>\n",
       "</table>\n",
       "</div>"
      ],
      "text/plain": [
       "       Lat      Lon\n",
       "0  40.7690 -73.9549\n",
       "1  40.7267 -74.0345\n",
       "2  40.7316 -73.9873\n",
       "3  40.7588 -73.9776\n",
       "4  40.7594 -73.9722"
      ]
     },
     "execution_count": 7,
     "metadata": {},
     "output_type": "execute_result"
    }
   ],
   "source": [
    "uber.head()"
   ]
  },
  {
   "cell_type": "code",
   "execution_count": 8,
   "metadata": {},
   "outputs": [
    {
     "data": {
      "text/plain": [
       "Lat    0\n",
       "Lon    0\n",
       "dtype: int64"
      ]
     },
     "execution_count": 8,
     "metadata": {},
     "output_type": "execute_result"
    }
   ],
   "source": [
    "uber.isnull().sum()"
   ]
  },
  {
   "cell_type": "code",
   "execution_count": 9,
   "metadata": {},
   "outputs": [],
   "source": [
    "xs = uber.values"
   ]
  },
  {
   "cell_type": "code",
   "execution_count": 10,
   "metadata": {},
   "outputs": [
    {
     "data": {
      "image/png": "[encoded data removed]",
      "text/plain": [
       "<Figure size 576x288 with 1 Axes>"
      ]
     },
     "metadata": {
      "needs_background": "light"
     },
     "output_type": "display_data"
    }
   ],
   "source": [
    "fig, ax = plt.subplots(figsize=(8,4))\n",
    "ax.scatter(xs[:,0],xs[:,1])\n",
    "plt.show()"
   ]
  },
  {
   "cell_type": "markdown",
   "metadata": {},
   "source": [
    "**Usamos el escalamiento por normalización**"
   ]
  },
  {
   "cell_type": "markdown",
   "metadata": {},
   "source": [
    "**Paso 1: escalamiento de los datos**"
   ]
  },
  {
   "cell_type": "code",
   "execution_count": 11,
   "metadata": {},
   "outputs": [],
   "source": [
    "from sklearn.preprocessing import MinMaxScaler"
   ]
  },
  {
   "cell_type": "code",
   "execution_count": 12,
   "metadata": {},
   "outputs": [],
   "source": [
    "ms = MinMaxScaler()"
   ]
  },
  {
   "cell_type": "code",
   "execution_count": 13,
   "metadata": {},
   "outputs": [],
   "source": [
    "X = ms.fit_transform(xs)"
   ]
  },
  {
   "cell_type": "code",
   "execution_count": 14,
   "metadata": {},
   "outputs": [
    {
     "data": {
      "text/plain": [
       "array([[0.34060772, 0.30236081],\n",
       "       [0.31990997, 0.2729523 ],\n",
       "       [0.32230758, 0.29039051],\n",
       "       ...,\n",
       "       [0.3285218 , 0.28979939],\n",
       "       [0.2949063 , 0.30768094],\n",
       "       [0.30097372, 0.30018103]])"
      ]
     },
     "execution_count": 14,
     "metadata": {},
     "output_type": "execute_result"
    }
   ],
   "source": [
    "X"
   ]
  },
  {
   "cell_type": "code",
   "execution_count": 16,
   "metadata": {},
   "outputs": [],
   "source": [
    "df_uber = pd.DataFrame(X,columns=uber.columns)"
   ]
  },
  {
   "cell_type": "code",
   "execution_count": 17,
   "metadata": {},
   "outputs": [
    {
     "data": {
      "text/html": [
       "<div>\n",
       "<style scoped>\n",
       "    .dataframe tbody tr th:only-of-type {\n",
       "        vertical-align: middle;\n",
       "    }\n",
       "\n",
       "    .dataframe tbody tr th {\n",
       "        vertical-align: top;\n",
       "    }\n",
       "\n",
       "    .dataframe thead th {\n",
       "        text-align: right;\n",
       "    }\n",
       "</style>\n",
       "<table border=\"1\" class=\"dataframe\">\n",
       "  <thead>\n",
       "    <tr style=\"text-align: right;\">\n",
       "      <th></th>\n",
       "      <th>Lat</th>\n",
       "      <th>Lon</th>\n",
       "    </tr>\n",
       "  </thead>\n",
       "  <tbody>\n",
       "    <tr>\n",
       "      <th>0</th>\n",
       "      <td>0.340608</td>\n",
       "      <td>0.302361</td>\n",
       "    </tr>\n",
       "    <tr>\n",
       "      <th>1</th>\n",
       "      <td>0.319910</td>\n",
       "      <td>0.272952</td>\n",
       "    </tr>\n",
       "    <tr>\n",
       "      <th>2</th>\n",
       "      <td>0.322308</td>\n",
       "      <td>0.290391</td>\n",
       "    </tr>\n",
       "    <tr>\n",
       "      <th>3</th>\n",
       "      <td>0.335617</td>\n",
       "      <td>0.293974</td>\n",
       "    </tr>\n",
       "    <tr>\n",
       "      <th>4</th>\n",
       "      <td>0.335910</td>\n",
       "      <td>0.295969</td>\n",
       "    </tr>\n",
       "  </tbody>\n",
       "</table>\n",
       "</div>"
      ],
      "text/plain": [
       "        Lat       Lon\n",
       "0  0.340608  0.302361\n",
       "1  0.319910  0.272952\n",
       "2  0.322308  0.290391\n",
       "3  0.335617  0.293974\n",
       "4  0.335910  0.295969"
      ]
     },
     "execution_count": 17,
     "metadata": {},
     "output_type": "execute_result"
    }
   ],
   "source": [
    "df_uber.head()"
   ]
  },
  {
   "cell_type": "markdown",
   "metadata": {},
   "source": [
    "**Paso 2: visualización**"
   ]
  },
  {
   "cell_type": "code",
   "execution_count": 19,
   "metadata": {},
   "outputs": [
    {
     "data": {
      "image/png": "[encoded data removed]",
      "text/plain": [
       "<Figure size 576x288 with 1 Axes>"
      ]
     },
     "metadata": {
      "needs_background": "light"
     },
     "output_type": "display_data"
    }
   ],
   "source": [
    "fig, ax = plt.subplots(figsize=(8,4))\n",
    "ax.scatter(X[:,0],X[:,1])\n",
    "plt.show()"
   ]
  },
  {
   "cell_type": "markdown",
   "metadata": {},
   "source": [
    "**Paso 3: número óptimo de clúster**"
   ]
  },
  {
   "cell_type": "markdown",
   "metadata": {},
   "source": [
    "**Nota**: cómputo (infraestructura) que utiliza la librería."
   ]
  },
  {
   "cell_type": "markdown",
   "metadata": {},
   "source": [
    "- **sklearn**: utiliza un nodo para procesar los cálculos.\n",
    "- **h2o**: utiliza un clúster (crea) a nivel de CPU (es decir, si nuestro ordenador cuenta con 12 nodos realiza un cluster con estos).\n",
    "- **RAPIDS**: utiliza un clúster (crea) a nivel de GPU (es decir, si contamos con un GPU de 3400 nodos realiza un clúster con estos).\n",
    "- **Automl(Azure)**: realizar una configuración de tu clúster de proceso (Microsoft nos ofrece diferentes alternativas de cómputo en la nube).\n",
    "- **SageMaker(AWS)**: realizar una configuración de tu clúster de proceso (Amazon nos ofrece diferentes alternativas de cómputo en la nube)."
   ]
  },
  {
   "cell_type": "markdown",
   "metadata": {},
   "source": [
    "**Nota**: utilizar silueta como criterio para establece el número óptimo de k tiene un alto costo computacional."
   ]
  },
  {
   "cell_type": "markdown",
   "metadata": {},
   "source": [
    "**Método del codo o inertia**"
   ]
  },
  {
   "cell_type": "code",
   "execution_count": 22,
   "metadata": {},
   "outputs": [],
   "source": [
    "from sklearn.metrics import euclidean_distances, silhouette_score\n",
    "from sklearn.cluster import KMeans"
   ]
  },
  {
   "cell_type": "code",
   "execution_count": 23,
   "metadata": {},
   "outputs": [],
   "source": [
    "coef_inertia_uber =[]"
   ]
  },
  {
   "cell_type": "code",
   "execution_count": 25,
   "metadata": {},
   "outputs": [],
   "source": [
    "for i in range(2,11):\n",
    "    kmeans_model=KMeans(n_clusters=i,\n",
    "                       init=\"k-means++\",\n",
    "                       max_iter=300,\n",
    "                       n_init=10,\n",
    "                       random_state=2022)\n",
    "    kmeans_model.fit(df_uber)\n",
    "    coef_inertia_uber.append(kmeans_model.inertia_)"
   ]
  },
  {
   "cell_type": "code",
   "execution_count": 26,
   "metadata": {},
   "outputs": [
    {
     "data": {
      "text/plain": [
       "[259.6134335703793,\n",
       " 178.25179205416975,\n",
       " 145.71190410359682,\n",
       " 116.96913939933171,\n",
       " 91.81981016354021,\n",
       " 76.02648039099566,\n",
       " 66.43678417114333,\n",
       " 58.45338517990453,\n",
       " 52.537683960184246]"
      ]
     },
     "execution_count": 26,
     "metadata": {},
     "output_type": "execute_result"
    }
   ],
   "source": [
    "coef_inertia_uber"
   ]
  },
  {
   "cell_type": "code",
   "execution_count": 27,
   "metadata": {},
   "outputs": [
    {
     "data": {
      "image/png": "[encoded data removed]",
      "text/plain": [
       "<Figure size 432x288 with 1 Axes>"
      ]
     },
     "metadata": {
      "needs_background": "light"
     },
     "output_type": "display_data"
    }
   ],
   "source": [
    "plt.plot(range(2,11),\n",
    "        coef_inertia_uber)\n",
    "plt.show()"
   ]
  },
  {
   "cell_type": "markdown",
   "metadata": {},
   "source": [
    "**Nota** concluímos que el número óptimo de k es =3"
   ]
  },
  {
   "cell_type": "markdown",
   "metadata": {},
   "source": [
    "**Paso 4: identificar los k grupos**"
   ]
  },
  {
   "cell_type": "code",
   "execution_count": 28,
   "metadata": {},
   "outputs": [],
   "source": [
    "kmeans_model=KMeans(n_clusters=3,\n",
    "                       init=\"k-means++\",\n",
    "                       max_iter=300,\n",
    "                       n_init=10,\n",
    "                       random_state=2022)"
   ]
  },
  {
   "cell_type": "code",
   "execution_count": 29,
   "metadata": {},
   "outputs": [],
   "source": [
    "kmeans_model=kmeans_model.fit(df_uber)"
   ]
  },
  {
   "cell_type": "code",
   "execution_count": 30,
   "metadata": {},
   "outputs": [],
   "source": [
    "y_kmeans= kmeans_model.predict(df_uber) + 1"
   ]
  },
  {
   "cell_type": "code",
   "execution_count": 31,
   "metadata": {},
   "outputs": [
    {
     "data": {
      "text/plain": [
       "array([3, 1, 1, ..., 1, 1, 1])"
      ]
     },
     "execution_count": 31,
     "metadata": {},
     "output_type": "execute_result"
    }
   ],
   "source": [
    "y_kmeans"
   ]
  },
  {
   "cell_type": "code",
   "execution_count": 32,
   "metadata": {},
   "outputs": [],
   "source": [
    "data_values = uber.values"
   ]
  },
  {
   "cell_type": "code",
   "execution_count": 34,
   "metadata": {},
   "outputs": [
    {
     "data": {
      "image/png": "[encoded data removed]",
      "text/plain": [
       "<Figure size 432x288 with 1 Axes>"
      ]
     },
     "metadata": {
      "needs_background": "light"
     },
     "output_type": "display_data"
    }
   ],
   "source": [
    "plt.scatter(data_values[y_kmeans==1,0],\n",
    "           data_values[y_kmeans==1,1],\n",
    "           s=10,\n",
    "           c=\"red\",\n",
    "           label=\"Ruta A\")\n",
    "plt.scatter(data_values[y_kmeans==2,0],\n",
    "           data_values[y_kmeans==2,1],\n",
    "           s=10,\n",
    "           c=\"green\",\n",
    "           label=\"Ruta B\")\n",
    "plt.scatter(data_values[y_kmeans==3,0],\n",
    "           data_values[y_kmeans==3,1],\n",
    "           s=10,\n",
    "           c=\"blue\",\n",
    "           label=\"Ruta c\")\n",
    "plt.legend()\n",
    "plt.show()"
   ]
  },
  {
   "cell_type": "markdown",
   "metadata": {},
   "source": [
    "**Solicitud de servicio de taxi realizada por Allison**"
   ]
  },
  {
   "cell_type": "code",
   "execution_count": 35,
   "metadata": {},
   "outputs": [],
   "source": [
    "Allison = pd.DataFrame({\"Lat\":[40.7690],\"Lon\":[-73.9548]})"
   ]
  },
  {
   "cell_type": "code",
   "execution_count": 36,
   "metadata": {},
   "outputs": [
    {
     "name": "stdout",
     "output_type": "stream",
     "text": [
      "[3]\n"
     ]
    }
   ],
   "source": [
    "sol_allison = kmeans_model.predict(ms.transform(Allison)) +1; print(sol_allison)"
   ]
  },
  {
   "cell_type": "markdown",
   "metadata": {},
   "source": [
    "**Ruta en la que se encuentra Manuel**"
   ]
  },
  {
   "cell_type": "code",
   "execution_count": 37,
   "metadata": {},
   "outputs": [],
   "source": [
    "Manuel = pd.DataFrame({\"Lat\":[40.7688],\"Lon\":[-73.9612]})"
   ]
  },
  {
   "cell_type": "code",
   "execution_count": 39,
   "metadata": {},
   "outputs": [
    {
     "name": "stdout",
     "output_type": "stream",
     "text": [
      "[3]\n"
     ]
    }
   ],
   "source": [
    "Chof = kmeans_model.predict(ms.transform(Manuel)) +1; print(Chof)"
   ]
  },
  {
   "cell_type": "code",
   "execution_count": 40,
   "metadata": {},
   "outputs": [
    {
     "data": {
      "image/png": "[encoded data removed]",
      "text/plain": [
       "<Figure size 432x288 with 1 Axes>"
      ]
     },
     "metadata": {
      "needs_background": "light"
     },
     "output_type": "display_data"
    }
   ],
   "source": [
    "plt.scatter(data_values[y_kmeans==1,0],\n",
    "           data_values[y_kmeans==1,1],\n",
    "           s=10,\n",
    "           c=\"red\",\n",
    "           label=\"Ruta A\")\n",
    "plt.scatter(data_values[y_kmeans==2,0],\n",
    "           data_values[y_kmeans==2,1],\n",
    "           s=10,\n",
    "           c=\"green\",\n",
    "           label=\"Ruta B\")\n",
    "plt.scatter(data_values[y_kmeans==3,0],\n",
    "           data_values[y_kmeans==3,1],\n",
    "           s=10,\n",
    "           c=\"blue\",\n",
    "           label=\"Ruta c\")\n",
    "\n",
    "solicitud_v = Allison.values\n",
    "plt.scatter(solicitud_v[sol_allison==3,0],\n",
    "           solicitud_v[sol_allison==3,1],\n",
    "           s=10,\n",
    "           c=\"Yellow\",\n",
    "           label=\"Solicitud de Allison\")\n",
    "\n",
    "chofer_v = Manuel.values\n",
    "plt.scatter(chofer_v[Chof==3,0],\n",
    "           chofer_v[Chof==3,1],\n",
    "           s=10,\n",
    "           c=\"Black\",\n",
    "           label=\"Chofer Manuel\")\n",
    "\n",
    "plt.legend()\n",
    "plt.show()"
   ]
  },
  {
   "cell_type": "markdown",
   "metadata": {},
   "source": [
    "**Nota**: h2o es una librería desarrollada en Java."
   ]
  },
  {
   "cell_type": "markdown",
   "metadata": {},
   "source": [
    "### Clúster K-means con h2o"
   ]
  },
  {
   "cell_type": "code",
   "execution_count": null,
   "metadata": {},
   "outputs": [],
   "source": [
    "pip install h2o"
   ]
  },
  {
   "cell_type": "code",
   "execution_count": 41,
   "metadata": {},
   "outputs": [],
   "source": [
    "import h2o"
   ]
  },
  {
   "cell_type": "code",
   "execution_count": 42,
   "metadata": {},
   "outputs": [
    {
     "name": "stdout",
     "output_type": "stream",
     "text": [
      "Checking whether there is an H2O instance running at http://localhost:54321 ..... not found.\n",
      "Attempting to start a local H2O server...\n",
      "; Java HotSpot(TM) 64-Bit Server VM (build 25.231-b11, mixed mode)\n",
      "  Starting server from C:\\ProgramData\\Anaconda3\\Lib\\site-packages\\h2o\\backend\\bin\\h2o.jar\n",
      "  Ice root: C:\\Users\\SOCIAL~1\\AppData\\Local\\Temp\\tmp4b_stvin\n",
      "  JVM stdout: C:\\Users\\SOCIAL~1\\AppData\\Local\\Temp\\tmp4b_stvin\\h2o_SOCIAL_DATA_started_from_python.out\n",
      "  JVM stderr: C:\\Users\\SOCIAL~1\\AppData\\Local\\Temp\\tmp4b_stvin\\h2o_SOCIAL_DATA_started_from_python.err\n",
      "  Server is running at http://127.0.0.1:54321\n",
      "Connecting to H2O server at http://127.0.0.1:54321 ... successful.\n",
      "Warning: Your H2O cluster version is too old (10 months and 7 days)! Please download and install the latest version from http://h2o.ai/download/\n"
     ]
    },
    {
     "data": {
      "text/html": [
       "<div style=\"overflow:auto\"><table style=\"width:50%\"><tr><td>H2O_cluster_uptime:</td>\n",
       "<td>03 secs</td></tr>\n",
       "<tr><td>H2O_cluster_timezone:</td>\n",
       "<td>America/Bogota</td></tr>\n",
       "<tr><td>H2O_data_parsing_timezone:</td>\n",
       "<td>UTC</td></tr>\n",
       "<tr><td>H2O_cluster_version:</td>\n",
       "<td>3.32.1.5</td></tr>\n",
       "<tr><td>H2O_cluster_version_age:</td>\n",
       "<td>10 months and 7 days !!!</td></tr>\n",
       "<tr><td>H2O_cluster_name:</td>\n",
       "<td>H2O_from_python_SOCIAL_DATA_okj72w</td></tr>\n",
       "<tr><td>H2O_cluster_total_nodes:</td>\n",
       "<td>1</td></tr>\n",
       "<tr><td>H2O_cluster_free_memory:</td>\n",
       "<td>7.111 Gb</td></tr>\n",
       "<tr><td>H2O_cluster_total_cores:</td>\n",
       "<td>12</td></tr>\n",
       "<tr><td>H2O_cluster_allowed_cores:</td>\n",
       "<td>12</td></tr>\n",
       "<tr><td>H2O_cluster_status:</td>\n",
       "<td>accepting new members, healthy</td></tr>\n",
       "<tr><td>H2O_connection_url:</td>\n",
       "<td>http://127.0.0.1:54321</td></tr>\n",
       "<tr><td>H2O_connection_proxy:</td>\n",
       "<td>{\"http\": null, \"https\": null}</td></tr>\n",
       "<tr><td>H2O_internal_security:</td>\n",
       "<td>False</td></tr>\n",
       "<tr><td>H2O_API_Extensions:</td>\n",
       "<td>Amazon S3, Algos, AutoML, Core V3, TargetEncoder, Core V4</td></tr>\n",
       "<tr><td>Python_version:</td>\n",
       "<td>3.8.5 final</td></tr></table></div>"
      ],
      "text/plain": [
       "--------------------------  ---------------------------------------------------------\n",
       "H2O_cluster_uptime:         03 secs\n",
       "H2O_cluster_timezone:       America/Bogota\n",
       "H2O_data_parsing_timezone:  UTC\n",
       "H2O_cluster_version:        3.32.1.5\n",
       "H2O_cluster_version_age:    10 months and 7 days !!!\n",
       "H2O_cluster_name:           H2O_from_python_SOCIAL_DATA_okj72w\n",
       "H2O_cluster_total_nodes:    1\n",
       "H2O_cluster_free_memory:    7.111 Gb\n",
       "H2O_cluster_total_cores:    12\n",
       "H2O_cluster_allowed_cores:  12\n",
       "H2O_cluster_status:         accepting new members, healthy\n",
       "H2O_connection_url:         http://127.0.0.1:54321\n",
       "H2O_connection_proxy:       {\"http\": null, \"https\": null}\n",
       "H2O_internal_security:      False\n",
       "H2O_API_Extensions:         Amazon S3, Algos, AutoML, Core V3, TargetEncoder, Core V4\n",
       "Python_version:             3.8.5 final\n",
       "--------------------------  ---------------------------------------------------------"
      ]
     },
     "metadata": {},
     "output_type": "display_data"
    }
   ],
   "source": [
    "h2o.init(nthreads=-1,\n",
    "        max_mem_size=\"8g\")"
   ]
  },
  {
   "cell_type": "code",
   "execution_count": 43,
   "metadata": {},
   "outputs": [],
   "source": [
    "from h2o.estimators.kmeans import H2OKMeansEstimator"
   ]
  },
  {
   "cell_type": "code",
   "execution_count": 44,
   "metadata": {},
   "outputs": [],
   "source": [
    "km = H2OKMeansEstimator(categorical_encoding=\"one_hot_explicit\",\n",
    "                       k=3,\n",
    "                       seed=2022,\n",
    "                       max_iterations=100)"
   ]
  },
  {
   "cell_type": "code",
   "execution_count": 45,
   "metadata": {},
   "outputs": [],
   "source": [
    "predictores = df_uber.columns.tolist()"
   ]
  },
  {
   "cell_type": "markdown",
   "metadata": {},
   "source": [
    "**Nota**: h2o es una librería desarrollada en JAVA y no podemos aplicar una función a un objeto DF de python."
   ]
  },
  {
   "cell_type": "code",
   "execution_count": 46,
   "metadata": {},
   "outputs": [
    {
     "name": "stdout",
     "output_type": "stream",
     "text": [
      "Parse progress: |█████████████████████████████████████████████████████████| 100%\n"
     ]
    }
   ],
   "source": [
    "uberh2o=h2o.H2OFrame(df_uber)"
   ]
  },
  {
   "cell_type": "code",
   "execution_count": 47,
   "metadata": {},
   "outputs": [
    {
     "data": {
      "text/plain": [
       "h2o.frame.H2OFrame"
      ]
     },
     "execution_count": 47,
     "metadata": {},
     "output_type": "execute_result"
    }
   ],
   "source": [
    "type(uberh2o)"
   ]
  },
  {
   "cell_type": "code",
   "execution_count": 48,
   "metadata": {},
   "outputs": [
    {
     "data": {
      "text/plain": [
       "pandas.core.frame.DataFrame"
      ]
     },
     "execution_count": 48,
     "metadata": {},
     "output_type": "execute_result"
    }
   ],
   "source": [
    "type(df_uber)"
   ]
  },
  {
   "cell_type": "code",
   "execution_count": 49,
   "metadata": {},
   "outputs": [
    {
     "name": "stdout",
     "output_type": "stream",
     "text": [
      "kmeans Model Build progress: |████████████████████████████████████████████| 100%\n"
     ]
    }
   ],
   "source": [
    "km.train(x=predictores,\n",
    "        training_frame=uberh2o)"
   ]
  },
  {
   "cell_type": "code",
   "execution_count": 50,
   "metadata": {},
   "outputs": [
    {
     "data": {
      "text/html": [
       "<div>\n",
       "<style scoped>\n",
       "    .dataframe tbody tr th:only-of-type {\n",
       "        vertical-align: middle;\n",
       "    }\n",
       "\n",
       "    .dataframe tbody tr th {\n",
       "        vertical-align: top;\n",
       "    }\n",
       "\n",
       "    .dataframe thead th {\n",
       "        text-align: right;\n",
       "    }\n",
       "</style>\n",
       "<table border=\"1\" class=\"dataframe\">\n",
       "  <thead>\n",
       "    <tr style=\"text-align: right;\">\n",
       "      <th></th>\n",
       "      <th></th>\n",
       "      <th>timestamp</th>\n",
       "      <th>duration</th>\n",
       "      <th>iterations</th>\n",
       "      <th>number_of_reassigned_observations</th>\n",
       "      <th>within_cluster_sum_of_squares</th>\n",
       "    </tr>\n",
       "  </thead>\n",
       "  <tbody>\n",
       "    <tr>\n",
       "      <th>0</th>\n",
       "      <td></td>\n",
       "      <td>2022-06-12 11:59:39</td>\n",
       "      <td>0.142 sec</td>\n",
       "      <td>0.0</td>\n",
       "      <td>NaN</td>\n",
       "      <td>NaN</td>\n",
       "    </tr>\n",
       "    <tr>\n",
       "      <th>1</th>\n",
       "      <td></td>\n",
       "      <td>2022-06-12 11:59:40</td>\n",
       "      <td>0.647 sec</td>\n",
       "      <td>1.0</td>\n",
       "      <td>564516.0</td>\n",
       "      <td>1.865994e+06</td>\n",
       "    </tr>\n",
       "    <tr>\n",
       "      <th>2</th>\n",
       "      <td></td>\n",
       "      <td>2022-06-12 11:59:40</td>\n",
       "      <td>0.832 sec</td>\n",
       "      <td>2.0</td>\n",
       "      <td>860.0</td>\n",
       "      <td>1.020221e+06</td>\n",
       "    </tr>\n",
       "    <tr>\n",
       "      <th>3</th>\n",
       "      <td></td>\n",
       "      <td>2022-06-12 11:59:40</td>\n",
       "      <td>0.874 sec</td>\n",
       "      <td>3.0</td>\n",
       "      <td>1526.0</td>\n",
       "      <td>1.003651e+06</td>\n",
       "    </tr>\n",
       "    <tr>\n",
       "      <th>4</th>\n",
       "      <td></td>\n",
       "      <td>2022-06-12 11:59:40</td>\n",
       "      <td>0.928 sec</td>\n",
       "      <td>4.0</td>\n",
       "      <td>3208.0</td>\n",
       "      <td>9.843611e+05</td>\n",
       "    </tr>\n",
       "    <tr>\n",
       "      <th>5</th>\n",
       "      <td></td>\n",
       "      <td>2022-06-12 11:59:40</td>\n",
       "      <td>0.969 sec</td>\n",
       "      <td>5.0</td>\n",
       "      <td>7557.0</td>\n",
       "      <td>9.539988e+05</td>\n",
       "    </tr>\n",
       "    <tr>\n",
       "      <th>6</th>\n",
       "      <td></td>\n",
       "      <td>2022-06-12 11:59:40</td>\n",
       "      <td>1.008 sec</td>\n",
       "      <td>6.0</td>\n",
       "      <td>15610.0</td>\n",
       "      <td>9.310893e+05</td>\n",
       "    </tr>\n",
       "    <tr>\n",
       "      <th>7</th>\n",
       "      <td></td>\n",
       "      <td>2022-06-12 11:59:40</td>\n",
       "      <td>1.073 sec</td>\n",
       "      <td>7.0</td>\n",
       "      <td>41884.0</td>\n",
       "      <td>8.699079e+05</td>\n",
       "    </tr>\n",
       "    <tr>\n",
       "      <th>8</th>\n",
       "      <td></td>\n",
       "      <td>2022-06-12 11:59:40</td>\n",
       "      <td>1.162 sec</td>\n",
       "      <td>8.0</td>\n",
       "      <td>34961.0</td>\n",
       "      <td>8.267763e+05</td>\n",
       "    </tr>\n",
       "    <tr>\n",
       "      <th>9</th>\n",
       "      <td></td>\n",
       "      <td>2022-06-12 11:59:41</td>\n",
       "      <td>1.243 sec</td>\n",
       "      <td>9.0</td>\n",
       "      <td>49855.0</td>\n",
       "      <td>8.039210e+05</td>\n",
       "    </tr>\n",
       "    <tr>\n",
       "      <th>10</th>\n",
       "      <td></td>\n",
       "      <td>2022-06-12 11:59:41</td>\n",
       "      <td>1.287 sec</td>\n",
       "      <td>10.0</td>\n",
       "      <td>52458.0</td>\n",
       "      <td>7.757398e+05</td>\n",
       "    </tr>\n",
       "    <tr>\n",
       "      <th>11</th>\n",
       "      <td></td>\n",
       "      <td>2022-06-12 11:59:41</td>\n",
       "      <td>1.327 sec</td>\n",
       "      <td>11.0</td>\n",
       "      <td>32717.0</td>\n",
       "      <td>7.557692e+05</td>\n",
       "    </tr>\n",
       "    <tr>\n",
       "      <th>12</th>\n",
       "      <td></td>\n",
       "      <td>2022-06-12 11:59:41</td>\n",
       "      <td>1.363 sec</td>\n",
       "      <td>12.0</td>\n",
       "      <td>20181.0</td>\n",
       "      <td>7.484299e+05</td>\n",
       "    </tr>\n",
       "    <tr>\n",
       "      <th>13</th>\n",
       "      <td></td>\n",
       "      <td>2022-06-12 11:59:41</td>\n",
       "      <td>1.398 sec</td>\n",
       "      <td>13.0</td>\n",
       "      <td>14136.0</td>\n",
       "      <td>7.452607e+05</td>\n",
       "    </tr>\n",
       "    <tr>\n",
       "      <th>14</th>\n",
       "      <td></td>\n",
       "      <td>2022-06-12 11:59:41</td>\n",
       "      <td>1.433 sec</td>\n",
       "      <td>14.0</td>\n",
       "      <td>9910.0</td>\n",
       "      <td>7.432855e+05</td>\n",
       "    </tr>\n",
       "    <tr>\n",
       "      <th>15</th>\n",
       "      <td></td>\n",
       "      <td>2022-06-12 11:59:41</td>\n",
       "      <td>1.469 sec</td>\n",
       "      <td>15.0</td>\n",
       "      <td>7615.0</td>\n",
       "      <td>7.407888e+05</td>\n",
       "    </tr>\n",
       "    <tr>\n",
       "      <th>16</th>\n",
       "      <td></td>\n",
       "      <td>2022-06-12 11:59:41</td>\n",
       "      <td>1.504 sec</td>\n",
       "      <td>16.0</td>\n",
       "      <td>6929.0</td>\n",
       "      <td>7.383496e+05</td>\n",
       "    </tr>\n",
       "    <tr>\n",
       "      <th>17</th>\n",
       "      <td></td>\n",
       "      <td>2022-06-12 11:59:41</td>\n",
       "      <td>1.539 sec</td>\n",
       "      <td>17.0</td>\n",
       "      <td>7050.0</td>\n",
       "      <td>7.374230e+05</td>\n",
       "    </tr>\n",
       "    <tr>\n",
       "      <th>18</th>\n",
       "      <td></td>\n",
       "      <td>2022-06-12 11:59:41</td>\n",
       "      <td>1.574 sec</td>\n",
       "      <td>18.0</td>\n",
       "      <td>7169.0</td>\n",
       "      <td>7.368216e+05</td>\n",
       "    </tr>\n",
       "    <tr>\n",
       "      <th>19</th>\n",
       "      <td></td>\n",
       "      <td>2022-06-12 11:59:41</td>\n",
       "      <td>1.606 sec</td>\n",
       "      <td>19.0</td>\n",
       "      <td>8537.0</td>\n",
       "      <td>7.362253e+05</td>\n",
       "    </tr>\n",
       "    <tr>\n",
       "      <th>20</th>\n",
       "      <td></td>\n",
       "      <td>2022-06-12 11:59:41</td>\n",
       "      <td>1.643 sec</td>\n",
       "      <td>20.0</td>\n",
       "      <td>6119.0</td>\n",
       "      <td>7.356001e+05</td>\n",
       "    </tr>\n",
       "    <tr>\n",
       "      <th>21</th>\n",
       "      <td></td>\n",
       "      <td>2022-06-12 11:59:41</td>\n",
       "      <td>1.680 sec</td>\n",
       "      <td>21.0</td>\n",
       "      <td>5070.0</td>\n",
       "      <td>7.352675e+05</td>\n",
       "    </tr>\n",
       "    <tr>\n",
       "      <th>22</th>\n",
       "      <td></td>\n",
       "      <td>2022-06-12 11:59:41</td>\n",
       "      <td>1.716 sec</td>\n",
       "      <td>22.0</td>\n",
       "      <td>4155.0</td>\n",
       "      <td>7.350019e+05</td>\n",
       "    </tr>\n",
       "    <tr>\n",
       "      <th>23</th>\n",
       "      <td></td>\n",
       "      <td>2022-06-12 11:59:41</td>\n",
       "      <td>1.735 sec</td>\n",
       "      <td>23.0</td>\n",
       "      <td>2613.0</td>\n",
       "      <td>7.348276e+05</td>\n",
       "    </tr>\n",
       "    <tr>\n",
       "      <th>24</th>\n",
       "      <td></td>\n",
       "      <td>2022-06-12 11:59:41</td>\n",
       "      <td>1.753 sec</td>\n",
       "      <td>24.0</td>\n",
       "      <td>1518.0</td>\n",
       "      <td>7.347595e+05</td>\n",
       "    </tr>\n",
       "    <tr>\n",
       "      <th>25</th>\n",
       "      <td></td>\n",
       "      <td>2022-06-12 11:59:41</td>\n",
       "      <td>1.771 sec</td>\n",
       "      <td>25.0</td>\n",
       "      <td>1167.0</td>\n",
       "      <td>7.347243e+05</td>\n",
       "    </tr>\n",
       "    <tr>\n",
       "      <th>26</th>\n",
       "      <td></td>\n",
       "      <td>2022-06-12 11:59:41</td>\n",
       "      <td>1.786 sec</td>\n",
       "      <td>26.0</td>\n",
       "      <td>928.0</td>\n",
       "      <td>7.347036e+05</td>\n",
       "    </tr>\n",
       "    <tr>\n",
       "      <th>27</th>\n",
       "      <td></td>\n",
       "      <td>2022-06-12 11:59:41</td>\n",
       "      <td>1.803 sec</td>\n",
       "      <td>27.0</td>\n",
       "      <td>761.0</td>\n",
       "      <td>7.346922e+05</td>\n",
       "    </tr>\n",
       "    <tr>\n",
       "      <th>28</th>\n",
       "      <td></td>\n",
       "      <td>2022-06-12 11:59:41</td>\n",
       "      <td>1.820 sec</td>\n",
       "      <td>28.0</td>\n",
       "      <td>529.0</td>\n",
       "      <td>7.346869e+05</td>\n",
       "    </tr>\n",
       "    <tr>\n",
       "      <th>29</th>\n",
       "      <td></td>\n",
       "      <td>2022-06-12 11:59:41</td>\n",
       "      <td>1.834 sec</td>\n",
       "      <td>29.0</td>\n",
       "      <td>534.0</td>\n",
       "      <td>7.346837e+05</td>\n",
       "    </tr>\n",
       "    <tr>\n",
       "      <th>30</th>\n",
       "      <td></td>\n",
       "      <td>2022-06-12 11:59:41</td>\n",
       "      <td>1.850 sec</td>\n",
       "      <td>30.0</td>\n",
       "      <td>290.0</td>\n",
       "      <td>7.346816e+05</td>\n",
       "    </tr>\n",
       "    <tr>\n",
       "      <th>31</th>\n",
       "      <td></td>\n",
       "      <td>2022-06-12 11:59:41</td>\n",
       "      <td>1.864 sec</td>\n",
       "      <td>31.0</td>\n",
       "      <td>231.0</td>\n",
       "      <td>7.346808e+05</td>\n",
       "    </tr>\n",
       "    <tr>\n",
       "      <th>32</th>\n",
       "      <td></td>\n",
       "      <td>2022-06-12 11:59:41</td>\n",
       "      <td>1.883 sec</td>\n",
       "      <td>32.0</td>\n",
       "      <td>207.0</td>\n",
       "      <td>7.346802e+05</td>\n",
       "    </tr>\n",
       "    <tr>\n",
       "      <th>33</th>\n",
       "      <td></td>\n",
       "      <td>2022-06-12 11:59:41</td>\n",
       "      <td>1.903 sec</td>\n",
       "      <td>33.0</td>\n",
       "      <td>157.0</td>\n",
       "      <td>7.346798e+05</td>\n",
       "    </tr>\n",
       "    <tr>\n",
       "      <th>34</th>\n",
       "      <td></td>\n",
       "      <td>2022-06-12 11:59:41</td>\n",
       "      <td>1.920 sec</td>\n",
       "      <td>34.0</td>\n",
       "      <td>87.0</td>\n",
       "      <td>7.346796e+05</td>\n",
       "    </tr>\n",
       "    <tr>\n",
       "      <th>35</th>\n",
       "      <td></td>\n",
       "      <td>2022-06-12 11:59:41</td>\n",
       "      <td>1.945 sec</td>\n",
       "      <td>35.0</td>\n",
       "      <td>56.0</td>\n",
       "      <td>7.346795e+05</td>\n",
       "    </tr>\n",
       "  </tbody>\n",
       "</table>\n",
       "</div>"
      ],
      "text/plain": [
       "                timestamp    duration  iterations  \\\n",
       "0     2022-06-12 11:59:39   0.142 sec         0.0   \n",
       "1     2022-06-12 11:59:40   0.647 sec         1.0   \n",
       "2     2022-06-12 11:59:40   0.832 sec         2.0   \n",
       "3     2022-06-12 11:59:40   0.874 sec         3.0   \n",
       "4     2022-06-12 11:59:40   0.928 sec         4.0   \n",
       "5     2022-06-12 11:59:40   0.969 sec         5.0   \n",
       "6     2022-06-12 11:59:40   1.008 sec         6.0   \n",
       "7     2022-06-12 11:59:40   1.073 sec         7.0   \n",
       "8     2022-06-12 11:59:40   1.162 sec         8.0   \n",
       "9     2022-06-12 11:59:41   1.243 sec         9.0   \n",
       "10    2022-06-12 11:59:41   1.287 sec        10.0   \n",
       "11    2022-06-12 11:59:41   1.327 sec        11.0   \n",
       "12    2022-06-12 11:59:41   1.363 sec        12.0   \n",
       "13    2022-06-12 11:59:41   1.398 sec        13.0   \n",
       "14    2022-06-12 11:59:41   1.433 sec        14.0   \n",
       "15    2022-06-12 11:59:41   1.469 sec        15.0   \n",
       "16    2022-06-12 11:59:41   1.504 sec        16.0   \n",
       "17    2022-06-12 11:59:41   1.539 sec        17.0   \n",
       "18    2022-06-12 11:59:41   1.574 sec        18.0   \n",
       "19    2022-06-12 11:59:41   1.606 sec        19.0   \n",
       "20    2022-06-12 11:59:41   1.643 sec        20.0   \n",
       "21    2022-06-12 11:59:41   1.680 sec        21.0   \n",
       "22    2022-06-12 11:59:41   1.716 sec        22.0   \n",
       "23    2022-06-12 11:59:41   1.735 sec        23.0   \n",
       "24    2022-06-12 11:59:41   1.753 sec        24.0   \n",
       "25    2022-06-12 11:59:41   1.771 sec        25.0   \n",
       "26    2022-06-12 11:59:41   1.786 sec        26.0   \n",
       "27    2022-06-12 11:59:41   1.803 sec        27.0   \n",
       "28    2022-06-12 11:59:41   1.820 sec        28.0   \n",
       "29    2022-06-12 11:59:41   1.834 sec        29.0   \n",
       "30    2022-06-12 11:59:41   1.850 sec        30.0   \n",
       "31    2022-06-12 11:59:41   1.864 sec        31.0   \n",
       "32    2022-06-12 11:59:41   1.883 sec        32.0   \n",
       "33    2022-06-12 11:59:41   1.903 sec        33.0   \n",
       "34    2022-06-12 11:59:41   1.920 sec        34.0   \n",
       "35    2022-06-12 11:59:41   1.945 sec        35.0   \n",
       "\n",
       "    number_of_reassigned_observations  within_cluster_sum_of_squares  \n",
       "0                                 NaN                            NaN  \n",
       "1                            564516.0                   1.865994e+06  \n",
       "2                               860.0                   1.020221e+06  \n",
       "3                              1526.0                   1.003651e+06  \n",
       "4                              3208.0                   9.843611e+05  \n",
       "5                              7557.0                   9.539988e+05  \n",
       "6                             15610.0                   9.310893e+05  \n",
       "7                             41884.0                   8.699079e+05  \n",
       "8                             34961.0                   8.267763e+05  \n",
       "9                             49855.0                   8.039210e+05  \n",
       "10                            52458.0                   7.757398e+05  \n",
       "11                            32717.0                   7.557692e+05  \n",
       "12                            20181.0                   7.484299e+05  \n",
       "13                            14136.0                   7.452607e+05  \n",
       "14                             9910.0                   7.432855e+05  \n",
       "15                             7615.0                   7.407888e+05  \n",
       "16                             6929.0                   7.383496e+05  \n",
       "17                             7050.0                   7.374230e+05  \n",
       "18                             7169.0                   7.368216e+05  \n",
       "19                             8537.0                   7.362253e+05  \n",
       "20                             6119.0                   7.356001e+05  \n",
       "21                             5070.0                   7.352675e+05  \n",
       "22                             4155.0                   7.350019e+05  \n",
       "23                             2613.0                   7.348276e+05  \n",
       "24                             1518.0                   7.347595e+05  \n",
       "25                             1167.0                   7.347243e+05  \n",
       "26                              928.0                   7.347036e+05  \n",
       "27                              761.0                   7.346922e+05  \n",
       "28                              529.0                   7.346869e+05  \n",
       "29                              534.0                   7.346837e+05  \n",
       "30                              290.0                   7.346816e+05  \n",
       "31                              231.0                   7.346808e+05  \n",
       "32                              207.0                   7.346802e+05  \n",
       "33                              157.0                   7.346798e+05  \n",
       "34                               87.0                   7.346796e+05  \n",
       "35                               56.0                   7.346795e+05  "
      ]
     },
     "execution_count": 50,
     "metadata": {},
     "output_type": "execute_result"
    }
   ],
   "source": [
    "km.scoring_history()"
   ]
  },
  {
   "cell_type": "code",
   "execution_count": 51,
   "metadata": {},
   "outputs": [
    {
     "name": "stdout",
     "output_type": "stream",
     "text": [
      "kmeans prediction progress: |█████████████████████████████████████████████| 100%\n"
     ]
    }
   ],
   "source": [
    "cluster = km.predict(uberh2o) +1"
   ]
  },
  {
   "cell_type": "code",
   "execution_count": 52,
   "metadata": {},
   "outputs": [],
   "source": [
    "cluster_df= h2o.h2o.as_list(cluster,use_pandas=True)"
   ]
  },
  {
   "cell_type": "code",
   "execution_count": 53,
   "metadata": {},
   "outputs": [],
   "source": [
    "uber[\"Cluster\"]=cluster_df.values"
   ]
  },
  {
   "cell_type": "code",
   "execution_count": 56,
   "metadata": {},
   "outputs": [
    {
     "data": {
      "text/html": [
       "<div>\n",
       "<style scoped>\n",
       "    .dataframe tbody tr th:only-of-type {\n",
       "        vertical-align: middle;\n",
       "    }\n",
       "\n",
       "    .dataframe tbody tr th {\n",
       "        vertical-align: top;\n",
       "    }\n",
       "\n",
       "    .dataframe thead th {\n",
       "        text-align: right;\n",
       "    }\n",
       "</style>\n",
       "<table border=\"1\" class=\"dataframe\">\n",
       "  <thead>\n",
       "    <tr style=\"text-align: right;\">\n",
       "      <th></th>\n",
       "      <th>Lat</th>\n",
       "      <th>Lon</th>\n",
       "      <th>Cluster</th>\n",
       "    </tr>\n",
       "  </thead>\n",
       "  <tbody>\n",
       "    <tr>\n",
       "      <th>0</th>\n",
       "      <td>40.7690</td>\n",
       "      <td>-73.9549</td>\n",
       "      <td>2</td>\n",
       "    </tr>\n",
       "    <tr>\n",
       "      <th>1</th>\n",
       "      <td>40.7267</td>\n",
       "      <td>-74.0345</td>\n",
       "      <td>1</td>\n",
       "    </tr>\n",
       "    <tr>\n",
       "      <th>2</th>\n",
       "      <td>40.7316</td>\n",
       "      <td>-73.9873</td>\n",
       "      <td>1</td>\n",
       "    </tr>\n",
       "    <tr>\n",
       "      <th>3</th>\n",
       "      <td>40.7588</td>\n",
       "      <td>-73.9776</td>\n",
       "      <td>2</td>\n",
       "    </tr>\n",
       "    <tr>\n",
       "      <th>4</th>\n",
       "      <td>40.7594</td>\n",
       "      <td>-73.9722</td>\n",
       "      <td>2</td>\n",
       "    </tr>\n",
       "    <tr>\n",
       "      <th>5</th>\n",
       "      <td>40.7383</td>\n",
       "      <td>-74.0403</td>\n",
       "      <td>2</td>\n",
       "    </tr>\n",
       "    <tr>\n",
       "      <th>6</th>\n",
       "      <td>40.7223</td>\n",
       "      <td>-73.9887</td>\n",
       "      <td>1</td>\n",
       "    </tr>\n",
       "    <tr>\n",
       "      <th>7</th>\n",
       "      <td>40.7620</td>\n",
       "      <td>-73.9790</td>\n",
       "      <td>2</td>\n",
       "    </tr>\n",
       "    <tr>\n",
       "      <th>8</th>\n",
       "      <td>40.7524</td>\n",
       "      <td>-73.9960</td>\n",
       "      <td>2</td>\n",
       "    </tr>\n",
       "    <tr>\n",
       "      <th>9</th>\n",
       "      <td>40.7575</td>\n",
       "      <td>-73.9846</td>\n",
       "      <td>2</td>\n",
       "    </tr>\n",
       "    <tr>\n",
       "      <th>10</th>\n",
       "      <td>40.7256</td>\n",
       "      <td>-73.9869</td>\n",
       "      <td>1</td>\n",
       "    </tr>\n",
       "    <tr>\n",
       "      <th>11</th>\n",
       "      <td>40.7591</td>\n",
       "      <td>-73.9684</td>\n",
       "      <td>2</td>\n",
       "    </tr>\n",
       "    <tr>\n",
       "      <th>12</th>\n",
       "      <td>40.7271</td>\n",
       "      <td>-73.9803</td>\n",
       "      <td>1</td>\n",
       "    </tr>\n",
       "    <tr>\n",
       "      <th>13</th>\n",
       "      <td>40.6463</td>\n",
       "      <td>-73.7896</td>\n",
       "      <td>1</td>\n",
       "    </tr>\n",
       "    <tr>\n",
       "      <th>14</th>\n",
       "      <td>40.7564</td>\n",
       "      <td>-73.9167</td>\n",
       "      <td>2</td>\n",
       "    </tr>\n",
       "    <tr>\n",
       "      <th>15</th>\n",
       "      <td>40.7666</td>\n",
       "      <td>-73.9531</td>\n",
       "      <td>2</td>\n",
       "    </tr>\n",
       "    <tr>\n",
       "      <th>16</th>\n",
       "      <td>40.7580</td>\n",
       "      <td>-73.9761</td>\n",
       "      <td>2</td>\n",
       "    </tr>\n",
       "    <tr>\n",
       "      <th>17</th>\n",
       "      <td>40.7238</td>\n",
       "      <td>-73.9821</td>\n",
       "      <td>1</td>\n",
       "    </tr>\n",
       "    <tr>\n",
       "      <th>18</th>\n",
       "      <td>40.7531</td>\n",
       "      <td>-74.0039</td>\n",
       "      <td>2</td>\n",
       "    </tr>\n",
       "    <tr>\n",
       "      <th>19</th>\n",
       "      <td>40.7389</td>\n",
       "      <td>-74.0393</td>\n",
       "      <td>2</td>\n",
       "    </tr>\n",
       "    <tr>\n",
       "      <th>20</th>\n",
       "      <td>40.7619</td>\n",
       "      <td>-73.9715</td>\n",
       "      <td>2</td>\n",
       "    </tr>\n",
       "    <tr>\n",
       "      <th>21</th>\n",
       "      <td>40.7530</td>\n",
       "      <td>-74.0042</td>\n",
       "      <td>2</td>\n",
       "    </tr>\n",
       "    <tr>\n",
       "      <th>22</th>\n",
       "      <td>40.6561</td>\n",
       "      <td>-73.9531</td>\n",
       "      <td>1</td>\n",
       "    </tr>\n",
       "    <tr>\n",
       "      <th>23</th>\n",
       "      <td>40.7250</td>\n",
       "      <td>-73.9844</td>\n",
       "      <td>1</td>\n",
       "    </tr>\n",
       "    <tr>\n",
       "      <th>24</th>\n",
       "      <td>40.6950</td>\n",
       "      <td>-74.1783</td>\n",
       "      <td>1</td>\n",
       "    </tr>\n",
       "    <tr>\n",
       "      <th>25</th>\n",
       "      <td>40.9859</td>\n",
       "      <td>-74.1578</td>\n",
       "      <td>2</td>\n",
       "    </tr>\n",
       "    <tr>\n",
       "      <th>26</th>\n",
       "      <td>40.6879</td>\n",
       "      <td>-74.1814</td>\n",
       "      <td>1</td>\n",
       "    </tr>\n",
       "    <tr>\n",
       "      <th>27</th>\n",
       "      <td>40.6878</td>\n",
       "      <td>-74.1816</td>\n",
       "      <td>1</td>\n",
       "    </tr>\n",
       "    <tr>\n",
       "      <th>28</th>\n",
       "      <td>40.7234</td>\n",
       "      <td>-73.9974</td>\n",
       "      <td>1</td>\n",
       "    </tr>\n",
       "    <tr>\n",
       "      <th>29</th>\n",
       "      <td>40.7336</td>\n",
       "      <td>-73.9900</td>\n",
       "      <td>1</td>\n",
       "    </tr>\n",
       "  </tbody>\n",
       "</table>\n",
       "</div>"
      ],
      "text/plain": [
       "        Lat      Lon  Cluster\n",
       "0   40.7690 -73.9549        2\n",
       "1   40.7267 -74.0345        1\n",
       "2   40.7316 -73.9873        1\n",
       "3   40.7588 -73.9776        2\n",
       "4   40.7594 -73.9722        2\n",
       "5   40.7383 -74.0403        2\n",
       "6   40.7223 -73.9887        1\n",
       "7   40.7620 -73.9790        2\n",
       "8   40.7524 -73.9960        2\n",
       "9   40.7575 -73.9846        2\n",
       "10  40.7256 -73.9869        1\n",
       "11  40.7591 -73.9684        2\n",
       "12  40.7271 -73.9803        1\n",
       "13  40.6463 -73.7896        1\n",
       "14  40.7564 -73.9167        2\n",
       "15  40.7666 -73.9531        2\n",
       "16  40.7580 -73.9761        2\n",
       "17  40.7238 -73.9821        1\n",
       "18  40.7531 -74.0039        2\n",
       "19  40.7389 -74.0393        2\n",
       "20  40.7619 -73.9715        2\n",
       "21  40.7530 -74.0042        2\n",
       "22  40.6561 -73.9531        1\n",
       "23  40.7250 -73.9844        1\n",
       "24  40.6950 -74.1783        1\n",
       "25  40.9859 -74.1578        2\n",
       "26  40.6879 -74.1814        1\n",
       "27  40.6878 -74.1816        1\n",
       "28  40.7234 -73.9974        1\n",
       "29  40.7336 -73.9900        1"
      ]
     },
     "execution_count": 56,
     "metadata": {},
     "output_type": "execute_result"
    }
   ],
   "source": [
    "uber.head(n=30)"
   ]
  },
  {
   "cell_type": "markdown",
   "metadata": {},
   "source": [
    "## Clúster Jerárquico"
   ]
  },
  {
   "cell_type": "code",
   "execution_count": 57,
   "metadata": {},
   "outputs": [],
   "source": [
    "import pandas as pd\n",
    "import numpy as np"
   ]
  },
  {
   "cell_type": "code",
   "execution_count": 58,
   "metadata": {},
   "outputs": [],
   "source": [
    "variables = [\"X\",\"Y\"]\n",
    "labels=[\"ID_0\",\"ID_1\",\"ID_2\",\"ID_3\",\"ID_4\"]"
   ]
  },
  {
   "cell_type": "code",
   "execution_count": 59,
   "metadata": {},
   "outputs": [],
   "source": [
    "np.random.seed(123)"
   ]
  },
  {
   "cell_type": "code",
   "execution_count": 61,
   "metadata": {},
   "outputs": [],
   "source": [
    "X= np.random.random_sample([5,2])*10"
   ]
  },
  {
   "cell_type": "code",
   "execution_count": 62,
   "metadata": {},
   "outputs": [],
   "source": [
    "df = pd.DataFrame(X,\n",
    "                 columns=variables,\n",
    "                 index=labels)"
   ]
  },
  {
   "cell_type": "code",
   "execution_count": 63,
   "metadata": {},
   "outputs": [
    {
     "data": {
      "text/html": [
       "<div>\n",
       "<style scoped>\n",
       "    .dataframe tbody tr th:only-of-type {\n",
       "        vertical-align: middle;\n",
       "    }\n",
       "\n",
       "    .dataframe tbody tr th {\n",
       "        vertical-align: top;\n",
       "    }\n",
       "\n",
       "    .dataframe thead th {\n",
       "        text-align: right;\n",
       "    }\n",
       "</style>\n",
       "<table border=\"1\" class=\"dataframe\">\n",
       "  <thead>\n",
       "    <tr style=\"text-align: right;\">\n",
       "      <th></th>\n",
       "      <th>X</th>\n",
       "      <th>Y</th>\n",
       "    </tr>\n",
       "  </thead>\n",
       "  <tbody>\n",
       "    <tr>\n",
       "      <th>ID_0</th>\n",
       "      <td>6.964692</td>\n",
       "      <td>2.861393</td>\n",
       "    </tr>\n",
       "    <tr>\n",
       "      <th>ID_1</th>\n",
       "      <td>2.268515</td>\n",
       "      <td>5.513148</td>\n",
       "    </tr>\n",
       "    <tr>\n",
       "      <th>ID_2</th>\n",
       "      <td>7.194690</td>\n",
       "      <td>4.231065</td>\n",
       "    </tr>\n",
       "    <tr>\n",
       "      <th>ID_3</th>\n",
       "      <td>9.807642</td>\n",
       "      <td>6.848297</td>\n",
       "    </tr>\n",
       "    <tr>\n",
       "      <th>ID_4</th>\n",
       "      <td>4.809319</td>\n",
       "      <td>3.921175</td>\n",
       "    </tr>\n",
       "  </tbody>\n",
       "</table>\n",
       "</div>"
      ],
      "text/plain": [
       "             X         Y\n",
       "ID_0  6.964692  2.861393\n",
       "ID_1  2.268515  5.513148\n",
       "ID_2  7.194690  4.231065\n",
       "ID_3  9.807642  6.848297\n",
       "ID_4  4.809319  3.921175"
      ]
     },
     "execution_count": 63,
     "metadata": {},
     "output_type": "execute_result"
    }
   ],
   "source": [
    "df.head()"
   ]
  },
  {
   "cell_type": "code",
   "execution_count": 66,
   "metadata": {},
   "outputs": [],
   "source": [
    "from scipy.spatial.distance import pdist, squareform\n",
    "from sklearn.preprocessing import StandardScaler\n",
    "import matplotlib.pyplot as plt"
   ]
  },
  {
   "cell_type": "markdown",
   "metadata": {},
   "source": [
    "**Paso 1: escalamiento**"
   ]
  },
  {
   "cell_type": "code",
   "execution_count": 67,
   "metadata": {},
   "outputs": [],
   "source": [
    "std = StandardScaler()"
   ]
  },
  {
   "cell_type": "code",
   "execution_count": 68,
   "metadata": {},
   "outputs": [],
   "source": [
    "data_std=std.fit_transform(df)"
   ]
  },
  {
   "cell_type": "code",
   "execution_count": 69,
   "metadata": {},
   "outputs": [
    {
     "data": {
      "text/plain": [
       "array([[ 0.29882088, -1.31711231],\n",
       "       [-1.55810367,  0.60867913],\n",
       "       [ 0.38976477, -0.32241188],\n",
       "       [ 1.42295728,  1.57830886],\n",
       "       [-0.55343926, -0.5474638 ]])"
      ]
     },
     "execution_count": 69,
     "metadata": {},
     "output_type": "execute_result"
    }
   ],
   "source": [
    "data_std"
   ]
  },
  {
   "cell_type": "markdown",
   "metadata": {},
   "source": [
    "**Paso 2: construir una matriz de distancia**"
   ]
  },
  {
   "cell_type": "code",
   "execution_count": 70,
   "metadata": {},
   "outputs": [],
   "source": [
    "df_std = pd.DataFrame(data_std)"
   ]
  },
  {
   "cell_type": "code",
   "execution_count": 73,
   "metadata": {},
   "outputs": [
    {
     "data": {
      "text/html": [
       "<div>\n",
       "<style scoped>\n",
       "    .dataframe tbody tr th:only-of-type {\n",
       "        vertical-align: middle;\n",
       "    }\n",
       "\n",
       "    .dataframe tbody tr th {\n",
       "        vertical-align: top;\n",
       "    }\n",
       "\n",
       "    .dataframe thead th {\n",
       "        text-align: right;\n",
       "    }\n",
       "</style>\n",
       "<table border=\"1\" class=\"dataframe\">\n",
       "  <thead>\n",
       "    <tr style=\"text-align: right;\">\n",
       "      <th></th>\n",
       "      <th>ID_0</th>\n",
       "      <th>ID_1</th>\n",
       "      <th>ID_2</th>\n",
       "      <th>ID_3</th>\n",
       "      <th>ID_4</th>\n",
       "    </tr>\n",
       "  </thead>\n",
       "  <tbody>\n",
       "    <tr>\n",
       "      <th>ID_0</th>\n",
       "      <td>0.000000</td>\n",
       "      <td>2.675227</td>\n",
       "      <td>0.998849</td>\n",
       "      <td>3.105986</td>\n",
       "      <td>1.148349</td>\n",
       "    </tr>\n",
       "    <tr>\n",
       "      <th>ID_1</th>\n",
       "      <td>2.675227</td>\n",
       "      <td>0.000000</td>\n",
       "      <td>2.158963</td>\n",
       "      <td>3.134790</td>\n",
       "      <td>1.531671</td>\n",
       "    </tr>\n",
       "    <tr>\n",
       "      <th>ID_2</th>\n",
       "      <td>0.998849</td>\n",
       "      <td>2.158963</td>\n",
       "      <td>0.000000</td>\n",
       "      <td>2.163383</td>\n",
       "      <td>0.969681</td>\n",
       "    </tr>\n",
       "    <tr>\n",
       "      <th>ID_3</th>\n",
       "      <td>3.105986</td>\n",
       "      <td>3.134790</td>\n",
       "      <td>2.163383</td>\n",
       "      <td>0.000000</td>\n",
       "      <td>2.902594</td>\n",
       "    </tr>\n",
       "    <tr>\n",
       "      <th>ID_4</th>\n",
       "      <td>1.148349</td>\n",
       "      <td>1.531671</td>\n",
       "      <td>0.969681</td>\n",
       "      <td>2.902594</td>\n",
       "      <td>0.000000</td>\n",
       "    </tr>\n",
       "  </tbody>\n",
       "</table>\n",
       "</div>"
      ],
      "text/plain": [
       "          ID_0      ID_1      ID_2      ID_3      ID_4\n",
       "ID_0  0.000000  2.675227  0.998849  3.105986  1.148349\n",
       "ID_1  2.675227  0.000000  2.158963  3.134790  1.531671\n",
       "ID_2  0.998849  2.158963  0.000000  2.163383  0.969681\n",
       "ID_3  3.105986  3.134790  2.163383  0.000000  2.902594\n",
       "ID_4  1.148349  1.531671  0.969681  2.902594  0.000000"
      ]
     },
     "execution_count": 73,
     "metadata": {},
     "output_type": "execute_result"
    }
   ],
   "source": [
    "pd.DataFrame(squareform(pdist(df_std,\n",
    "                             metric=\"euclidean\")),\n",
    "            columns=labels,\n",
    "            index=labels)"
   ]
  },
  {
   "cell_type": "markdown",
   "metadata": {},
   "source": [
    "**Paso 3: visualización para fines ilustrativos**"
   ]
  },
  {
   "cell_type": "code",
   "execution_count": 76,
   "metadata": {},
   "outputs": [
    {
     "data": {
      "image/png": "[encoded data removed]",
      "text/plain": [
       "<Figure size 432x288 with 1 Axes>"
      ]
     },
     "metadata": {
      "needs_background": "light"
     },
     "output_type": "display_data"
    }
   ],
   "source": [
    "plt.scatter(df_std.iloc[:,0].values, df_std.iloc[:,1].values, color=\"red\")\n",
    "plt.xlabel(\"X\")\n",
    "plt.ylabel(\"Y\")\n",
    "for i, label in enumerate(labels):\n",
    "    plt.annotate(label,(data_std[i][0],data_std[i][1]))\n",
    "plt.show()"
   ]
  },
  {
   "cell_type": "code",
   "execution_count": 77,
   "metadata": {},
   "outputs": [],
   "source": [
    "from scipy.cluster.hierarchy import linkage"
   ]
  },
  {
   "cell_type": "code",
   "execution_count": 78,
   "metadata": {},
   "outputs": [],
   "source": [
    "cluster = linkage(pdist(df_std,metric=\"euclidean\"),method=\"single\")"
   ]
  },
  {
   "cell_type": "code",
   "execution_count": null,
   "metadata": {},
   "outputs": [],
   "source": [
    "pip install scipy"
   ]
  },
  {
   "cell_type": "code",
   "execution_count": 79,
   "metadata": {},
   "outputs": [],
   "source": [
    "from scipy.cluster.hierarchy import dendrogram"
   ]
  },
  {
   "cell_type": "code",
   "execution_count": 80,
   "metadata": {},
   "outputs": [
    {
     "data": {
      "image/png": "[encoded data removed]",
      "text/plain": [
       "<Figure size 432x288 with 1 Axes>"
      ]
     },
     "metadata": {
      "needs_background": "light"
     },
     "output_type": "display_data"
    }
   ],
   "source": [
    "dendograma = dendrogram(cluster, labels=labels)"
   ]
  },
  {
   "cell_type": "markdown",
   "metadata": {},
   "source": [
    "**Paso 4: agregar a qué clúster pertenece cada una de las observaciones**"
   ]
  },
  {
   "cell_type": "code",
   "execution_count": 82,
   "metadata": {},
   "outputs": [],
   "source": [
    "from sklearn.metrics import euclidean_distances, silhouette_score\n",
    "from sklearn.cluster import AgglomerativeClustering"
   ]
  },
  {
   "cell_type": "code",
   "execution_count": 83,
   "metadata": {},
   "outputs": [],
   "source": [
    "silueta=[]\n",
    "for i in range(2,5):\n",
    "    agnes = AgglomerativeClustering(n_clusters=i,\n",
    "                                   affinity=\"euclidean\",\n",
    "                                   linkage=\"single\")\n",
    "    silueta.append(silhouette_score(X,agnes.fit_predict(X)))"
   ]
  },
  {
   "cell_type": "code",
   "execution_count": 84,
   "metadata": {},
   "outputs": [
    {
     "data": {
      "text/plain": [
       "[0.30758371787876365, 0.2596626119320968, 0.16887394203608858]"
      ]
     },
     "execution_count": 84,
     "metadata": {},
     "output_type": "execute_result"
    }
   ],
   "source": [
    "silueta"
   ]
  },
  {
   "cell_type": "code",
   "execution_count": 85,
   "metadata": {},
   "outputs": [],
   "source": [
    "k=[2,3,4]"
   ]
  },
  {
   "cell_type": "code",
   "execution_count": 86,
   "metadata": {},
   "outputs": [
    {
     "data": {
      "text/html": [
       "<div>\n",
       "<style scoped>\n",
       "    .dataframe tbody tr th:only-of-type {\n",
       "        vertical-align: middle;\n",
       "    }\n",
       "\n",
       "    .dataframe tbody tr th {\n",
       "        vertical-align: top;\n",
       "    }\n",
       "\n",
       "    .dataframe thead th {\n",
       "        text-align: right;\n",
       "    }\n",
       "</style>\n",
       "<table border=\"1\" class=\"dataframe\">\n",
       "  <thead>\n",
       "    <tr style=\"text-align: right;\">\n",
       "      <th></th>\n",
       "      <th>Silueta</th>\n",
       "      <th>Número óptimo de clusters</th>\n",
       "    </tr>\n",
       "  </thead>\n",
       "  <tbody>\n",
       "    <tr>\n",
       "      <th>0</th>\n",
       "      <td>0.307584</td>\n",
       "      <td>2</td>\n",
       "    </tr>\n",
       "    <tr>\n",
       "      <th>1</th>\n",
       "      <td>0.259663</td>\n",
       "      <td>3</td>\n",
       "    </tr>\n",
       "    <tr>\n",
       "      <th>2</th>\n",
       "      <td>0.168874</td>\n",
       "      <td>4</td>\n",
       "    </tr>\n",
       "  </tbody>\n",
       "</table>\n",
       "</div>"
      ],
      "text/plain": [
       "    Silueta  Número óptimo de clusters\n",
       "0  0.307584                          2\n",
       "1  0.259663                          3\n",
       "2  0.168874                          4"
      ]
     },
     "execution_count": 86,
     "metadata": {},
     "output_type": "execute_result"
    }
   ],
   "source": [
    "pd.DataFrame({\"Silueta\":silueta,\n",
    "             \"Número óptimo de clusters\":k})"
   ]
  },
  {
   "cell_type": "markdown",
   "metadata": {},
   "source": [
    "**Nota**: el número óptimo de clusters es 2 (mayor valor en el coef. de silueta)"
   ]
  },
  {
   "cell_type": "markdown",
   "metadata": {},
   "source": [
    "**Paso 5: modelado**"
   ]
  },
  {
   "cell_type": "code",
   "execution_count": 87,
   "metadata": {},
   "outputs": [],
   "source": [
    "agnes = AgglomerativeClustering(n_clusters=2,\n",
    "                                   affinity=\"euclidean\",\n",
    "                                   linkage=\"single\")"
   ]
  },
  {
   "cell_type": "code",
   "execution_count": 88,
   "metadata": {},
   "outputs": [],
   "source": [
    "df[\"cluster_AGNES\"] = agnes.fit_predict(X) +1"
   ]
  },
  {
   "cell_type": "code",
   "execution_count": 89,
   "metadata": {},
   "outputs": [
    {
     "data": {
      "text/html": [
       "<div>\n",
       "<style scoped>\n",
       "    .dataframe tbody tr th:only-of-type {\n",
       "        vertical-align: middle;\n",
       "    }\n",
       "\n",
       "    .dataframe tbody tr th {\n",
       "        vertical-align: top;\n",
       "    }\n",
       "\n",
       "    .dataframe thead th {\n",
       "        text-align: right;\n",
       "    }\n",
       "</style>\n",
       "<table border=\"1\" class=\"dataframe\">\n",
       "  <thead>\n",
       "    <tr style=\"text-align: right;\">\n",
       "      <th></th>\n",
       "      <th>X</th>\n",
       "      <th>Y</th>\n",
       "      <th>cluster_AGNES</th>\n",
       "    </tr>\n",
       "  </thead>\n",
       "  <tbody>\n",
       "    <tr>\n",
       "      <th>ID_0</th>\n",
       "      <td>6.964692</td>\n",
       "      <td>2.861393</td>\n",
       "      <td>1</td>\n",
       "    </tr>\n",
       "    <tr>\n",
       "      <th>ID_1</th>\n",
       "      <td>2.268515</td>\n",
       "      <td>5.513148</td>\n",
       "      <td>1</td>\n",
       "    </tr>\n",
       "    <tr>\n",
       "      <th>ID_2</th>\n",
       "      <td>7.194690</td>\n",
       "      <td>4.231065</td>\n",
       "      <td>1</td>\n",
       "    </tr>\n",
       "    <tr>\n",
       "      <th>ID_3</th>\n",
       "      <td>9.807642</td>\n",
       "      <td>6.848297</td>\n",
       "      <td>2</td>\n",
       "    </tr>\n",
       "    <tr>\n",
       "      <th>ID_4</th>\n",
       "      <td>4.809319</td>\n",
       "      <td>3.921175</td>\n",
       "      <td>1</td>\n",
       "    </tr>\n",
       "  </tbody>\n",
       "</table>\n",
       "</div>"
      ],
      "text/plain": [
       "             X         Y  cluster_AGNES\n",
       "ID_0  6.964692  2.861393              1\n",
       "ID_1  2.268515  5.513148              1\n",
       "ID_2  7.194690  4.231065              1\n",
       "ID_3  9.807642  6.848297              2\n",
       "ID_4  4.809319  3.921175              1"
      ]
     },
     "execution_count": 89,
     "metadata": {},
     "output_type": "execute_result"
    }
   ],
   "source": [
    "df.head()"
   ]
  },
  {
   "cell_type": "code",
   "execution_count": null,
   "metadata": {},
   "outputs": [],
   "source": []
  }
 ],
 "metadata": {
  "kernelspec": {
   "display_name": "Python 3",
   "language": "python",
   "name": "python3"
  },
  "language_info": {
   "codemirror_mode": {
    "name": "ipython",
    "version": 3
   },
   "file_extension": ".py",
   "mimetype": "text/x-python",
   "name": "python",
   "nbconvert_exporter": "python",
   "pygments_lexer": "ipython3",
   "version": "3.8.5"
  }
 },
 "nbformat": 4,
 "nbformat_minor": 4
}
